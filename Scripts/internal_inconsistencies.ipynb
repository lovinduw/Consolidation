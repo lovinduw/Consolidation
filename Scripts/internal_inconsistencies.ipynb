{
 "cells": [
  {
   "cell_type": "markdown",
   "metadata": {},
   "source": [
    "# Internal Inconsistencies"
   ]
  },
  {
   "cell_type": "code",
   "execution_count": 39,
   "metadata": {},
   "outputs": [],
   "source": [
    "import pandas as pd\n",
    "import numpy as np\n",
    "import glob\n",
    "import matplotlib.pyplot as plt\n",
    "from IPython.display import display\n"
   ]
  },
  {
   "cell_type": "code",
   "execution_count": 40,
   "metadata": {},
   "outputs": [],
   "source": [
    "import import_ipynb\n",
    "import data_preperation as dp\n",
    "\n",
    "countries={ 'Austria': 'AT', 'Belgium': 'BE',  'Bulgaria': 'BG', 'Switzerland': 'CH', 'Czech Republic': 'CZ', 'Germany': 'DE', 'Denmark': 'DK', 'Estonia': 'EE', 'Spain': 'ES', 'Finland': 'FI', 'France': 'FR',  'Greece': 'GR', 'Hungary': 'HU', 'Ireland': 'IE', 'Italy': 'IT', 'Lithuania': 'LT', 'Latvia': 'LV', 'Montenegro': 'ME','Netherlands': 'NL', 'Norway': 'NO', 'Poland': 'PL', 'Portugal': 'PT', 'Serbia': 'RS', 'Sweden': 'SE', 'Slovenia': 'SI', 'Slovakia': 'SK', 'United Kingdom': 'UK'}\n",
    "\n",
    "abbr_list=list(countries.values())\n",
    "\n",
    "load_data = dp.load(countries)\n",
    "generation_data = dp.generation(countries)\n",
    "cross_border_data = dp.cross_border(abbr_list)[1]\n",
    "import_export_using_crossborder_data = dp.import_export_using_crossborder(dp.cross_border(abbr_list)[0],abbr_list)"
   ]
  },
  {
   "cell_type": "code",
   "execution_count": 41,
   "metadata": {},
   "outputs": [],
   "source": [
    "def plot(x1,x2,labels,color1,color2,label1,label2,title):\n",
    "\n",
    "    # We made this function to draw the comparission graphs. This can create multiple barcharts.\n",
    "\n",
    "    width = 0.35\n",
    "    X = np.arange(len(labels))\n",
    "    plt.figure(figsize=(20,10))\n",
    "    plt.bar([x-width/2 for x in X],x1,width,color=color1,edgecolor='black', label=label1)\n",
    "    plt.bar([x+width/2 for x in X], x2, width, color=color2,edgecolor='black', label=label2)\n",
    "    plt.xlabel('Countries')\n",
    "    plt.ylabel('Energy [GWh]')\n",
    "    plt.title(title)\n",
    "    plt.xticks(X,labels)\n",
    "    plt.axhline(y=0, color='black', linestyle='-')\n",
    "    plt.legend()\n",
    "    plt.grid()\n",
    "    plt.show()\n"
   ]
  },
  {
   "cell_type": "markdown",
   "metadata": {},
   "source": [
    "# Internal inconsistencies based on unedited data"
   ]
  },
  {
   "cell_type": "markdown",
   "metadata": {},
   "source": [
    "## 1. Mismatch analysis of the data"
   ]
  },
  {
   "cell_type": "markdown",
   "metadata": {},
   "source": [
    "### 1.1 Calculating missing values and mismatch analysis in data files"
   ]
  },
  {
   "cell_type": "code",
   "execution_count": 93,
   "metadata": {},
   "outputs": [],
   "source": [
    "def omit_dst(df):\n",
    "\n",
    "    # Due to day light saving, all the datasets have null values on 25th March from 02:00 - 03:00. \n",
    "    # Considering the time intervals each country update the data, a total number of rows of 4,2 or 1 are dropped from the 31st March, 02:00 - 03:00 time interval.\n",
    "    # Also this returns a integer ('divider') based on the file length to get the energy values in a later step. In 15 min interval files this is 4, in 30 min interval files this is 2 and in 1 hour interval files this is 1.\n",
    "    \n",
    "    length = len(df)\n",
    "    if length == 35044:\n",
    "        df = df.drop(range(7976, 7980)).reset_index(drop=True)\n",
    "        divider = 4\n",
    "    elif length == 17522:\n",
    "        df = df.drop(range(3988, 3990)).reset_index(drop=True)\n",
    "        divider = 2\n",
    "    else:\n",
    "        df = df.drop(range(1994, 1995)).reset_index(drop=True)\n",
    "        divider = 1\n",
    "    \n",
    "    return(df,divider)\n",
    "\n",
    "def mismatch_data(countries):\n",
    "\n",
    "    load_missing_data = []\n",
    "    generation_missing_data = []\n",
    "    transmission_missing_data =[]\n",
    "    transmission_files = []\n",
    "    temp1 = pd.DataFrame()\n",
    "    temp2 = pd.DataFrame()\n",
    "    \n",
    "    mismatch_data = {}\n",
    "    csvs = glob.glob(\"../Data Sources/ENTSO-E/2018/Transmission/*.csv\")\n",
    "\n",
    "    # In the following command we read each csv file and drop the rows related to day light saving using 'omit_dst' function\n",
    "    # Then we save the total number of null values in load data of each country in the load_missing_data list.\n",
    "    # Then we save the total number of null values in generation data of each country in the generation_missing_data list.\n",
    "    # Then we get the list of the paths of all files in the directory to the 'csvs' variable using 'glob' function.\n",
    "    # Then one by one the actual csv associated with the path is copied to the dataframe 'temp' only if the file path string includes the country_code sent by 'abbr'. \n",
    "    # Then we save the total number of null values in each transmission datafile of each country in the transmission_missing_data list.\n",
    "    # Then we update all the generation & load missing values in the 'temp1' dataframe and transmission missing values in 'temp2' dataframe.\n",
    "    \n",
    "    # We calculate the annual data mismatch of each country as (generation + imports - load - exports) of the country.\n",
    "    # Countries provide the data in 15 min, 30 min and 1 hour intervals.\n",
    "    # Therefore to ge the energy values from the power values, we divide the total power data by 4,2 or 1 using the 'divider' variable as required.\n",
    "    # Then we calculate the relative mismatch of each country using (generation + imports - load - exports)/load + exports)\n",
    "    \n",
    "    for country,abbr in countries.items():\n",
    "        load_data,divider_load = omit_dst(pd.read_csv(f'../Data Sources/ENTSO-E/2018/Load/{country}.csv'))\n",
    "        generation_data, divider_gen = omit_dst(pd.read_csv(f'../Data Sources/ENTSO-E/2018/Generation/{country}.csv', low_memory=False))\n",
    "        \n",
    "        load_missing_data.append(load_data.isnull().sum().sum())\n",
    "        generation_missing_data.append(generation_data.isnull().sum().sum())\n",
    "        \n",
    "        transmission_data = pd.DataFrame()\n",
    "        transmission_data_temp = pd.DataFrame()\n",
    "\n",
    "        for csv in csvs:\n",
    "            if csv[42:44] == abbr:\n",
    "                temp, divider_transmission = omit_dst(pd.read_csv(csv))\n",
    "                transmission_missing_data.append(temp.isnull().sum().sum())\n",
    "                transmission_files.append(f'{csv[42:44]} --> {csv[45:47]}')\n",
    "                \n",
    "                temp = temp.replace(['n/e',np.nan] ,0)\n",
    "                transmission_data_temp[f'{csv[42:44]} -- > {csv[45:47]}'] = pd.to_numeric(temp.iloc[:,2])\n",
    "                transmission_data_temp[f'{csv[42:44]} < -- {csv[45:47]}'] = pd.to_numeric(temp.iloc[:,1])  \n",
    "            \n",
    "        transmission_data = pd.concat([transmission_data,transmission_data_temp/divider_transmission],axis=1)\n",
    "        mismatch_data.update({f'{abbr}':round(abs(generation_data.iloc[:,2:].sum(axis=1).sum()/divider_gen + transmission_data.filter(like=f'{abbr} <').sum(axis=1).sum() - load_data.iloc[:,2].sum()/divider_load - transmission_data.filter(like=f'{abbr} -').sum(axis=1).sum())/(load_data.iloc[:,2].sum()/divider_load + transmission_data.filter(like=f'{abbr} -').sum(axis=1).sum()),3)})\n",
    "\n",
    "    temp1['File'] = list(countries.values())\n",
    "    temp2['File'] = transmission_files\n",
    "    temp1['No. of missing data in Load data'] = load_missing_data\n",
    "    temp1['No. of missing data in Generation data'] = generation_missing_data\n",
    "    temp2['No. of missing data in Transmission data'] = transmission_missing_data\n",
    "    \n",
    "    mismatch_data = sorted(mismatch_data.items(), key= lambda item: item[1], reverse=True)\n",
    "    \n",
    "    display(temp1, temp2)   \n",
    "\n",
    "    width = 0.35\n",
    "    labels = [x[0] for x in mismatch_data]\n",
    "    X = np.arange(len(labels))\n",
    "    plt.figure(figsize=(20,10))\n",
    "    plt.bar([x for x in X], [x[1] for x in mismatch_data], width, color='aqua',edgecolor='black')\n",
    "    plt.xlabel('Countries')\n",
    "    plt.ylabel('Mismatch')\n",
    "    plt.title('Releative mismatch')\n",
    "    plt.grid()\n",
    "    plt.xticks(X,labels)\n",
    "    plt.show()\n"
   ]
  },
  {
   "cell_type": "markdown",
   "metadata": {},
   "source": [
    "## 2. Calculating internal inconsistencies in ENTSO-E data"
   ]
  },
  {
   "cell_type": "markdown",
   "metadata": {},
   "source": [
    "## 2.1 Comparission of net imports/exports based on generation and load data and net imports/exports based on cross-border transmission data"
   ]
  },
  {
   "cell_type": "code",
   "execution_count": 88,
   "metadata": {},
   "outputs": [],
   "source": [
    "def entsoe_comparission_transmission_data(import_export_using_load_gen, import_export_using_crossborder_data, labels):\n",
    "\n",
    "    load_gen_data= []\n",
    "    crossborder_data = []\n",
    "    temp = []\n",
    "    \n",
    "# In the following command, we take the yearly sum of data in net import based on generation/load and net imported based on cross border transmission data. \n",
    "# These two yearly sum arrays are saved in variables 'load_gen_data' and 'crossborder_data' respectively.\n",
    "# Then we create a new dataframe with the previous mentioned two values of each country and the percentage difference wrt the cross-border transmission data. \n",
    "# Then the graph is drawn using matplotlib.\n",
    "\n",
    "    for label in labels:\n",
    "        load_gen_data.append(round(import_export_using_load_gen[f'{label}'].sum()/1000,2))\n",
    "        crossborder_data.append(round(import_export_using_crossborder_data[f'{label}'].sum()/1000,2))\n",
    "        temp.append([label,crossborder_data[-1],load_gen_data[-1], round((crossborder_data[-1] - load_gen_data[-1])*100/crossborder_data[-1],2)])\n",
    "    \n",
    "    table_entsoe_comparission_transmission_data = pd.DataFrame(temp,columns=['Country','Value based on (exp - imp)[GWh]','Value based on (gen - load)[GWh]','% difference with respect to Value based on (exp - imp) [%]'])\n",
    "    display(table_entsoe_comparission_transmission_data)\n",
    "    \n",
    "    plot(load_gen_data, crossborder_data, labels, 'magenta', 'aqua',\n",
    "         'based on generation/load data', 'based on cross-border export/import data', 'Comparission of annual net imports/exports based on generation/load & cross-border transmission data')\n",
    "    "
   ]
  },
  {
   "cell_type": "markdown",
   "metadata": {},
   "source": [
    "## 2.2 Comparission of data between ENTSO-E & Eurostat"
   ]
  },
  {
   "cell_type": "markdown",
   "metadata": {},
   "source": [
    "### In Eurostat data, in the csv with the generation data, it has both gross electricity production and net electricity production. In the transmission data csv, it has imports and exports of each country seperately."
   ]
  },
  {
   "cell_type": "markdown",
   "metadata": {},
   "source": [
    "### 2.2.1 Comparission of Generation data between ENTSO-E & Eurostat"
   ]
  },
  {
   "cell_type": "code",
   "execution_count": 89,
   "metadata": {},
   "outputs": [],
   "source": [
    "def eurostat_comparission_gen_data(generation_data, countries):\n",
    "    \n",
    "    gen_eurostat=[]\n",
    "    gen_entsoe=[]\n",
    "    labels=[]\n",
    "    temp = []\n",
    "    eurostat = pd.read_csv('../Data Sources/Eurostat/Gross & Net Generation .csv')\n",
    "    eurostat = eurostat.loc[eurostat['TIME']==2018]\n",
    "\n",
    "    # In the following command we first check if the countries in the ENTSO-E datasets are also available in the Eurostat dataset. \n",
    "    # If yes, we append the 'labels' as the country code. \n",
    "    # Here also we use 'pd.to_numeric' command because Eurostat data come in string format. \n",
    "    # Then we update 'gen_eurostat' list by checking for the 'country' in 'GEO' column and 'Net electricity production' in the 'NRG_BAL' column of eurostat daraframe and take the respective value in the 'Value' column. \n",
    "    # Then we get the sum along the '{country_code} - Total'column in the 'generation_data' dataframe and update the 'gen_entsoe' list with that value.\n",
    "    # Then we create the dataframe which shows ENTSO-E generation, EUrostat generation and the percentage difference in generation wrt ENTSO-Edata for each country. \n",
    "    # Then the graph is drawn using matplotlib.\n",
    "    \n",
    "    for country,abbr in countries.items():\n",
    "\n",
    "        if country in eurostat.values:\n",
    "            labels.append(abbr)\n",
    "            gen_eurostat.append(round(pd.to_numeric(eurostat.loc[(\n",
    "                eurostat['GEO'] == country) & (eurostat['NRG_BAL'] == 'Net electricity production'), 'Value'].iloc[0]),2))\n",
    "            gen_entsoe.append(round(generation_data[f'{abbr} - Total'].sum()/1000,2))\n",
    "            temp.append([labels[-1],gen_entsoe[-1],gen_eurostat[-1], round((gen_entsoe[-1] - gen_eurostat[-1])*100/gen_entsoe[-1],2)])\n",
    "    \n",
    "    table_eurostat_comparission_gen_data = pd.DataFrame(temp,columns=['Country','Gen data based on ENTSO-E[GWh]','Gen data based on Eurostat[GWh]','% difference with respect to Value based on ENTSO-E [%]'])\n",
    "    display(table_eurostat_comparission_gen_data)\n",
    "    \n",
    "    plot(gen_entsoe, gen_eurostat, labels, 'gold', 'lime',\n",
    "         'ENTSO-E data', 'Eurostat data', 'Comparission of annual electricity generation data in ENTSO-E and Eurostat data')\n"
   ]
  },
  {
   "cell_type": "markdown",
   "metadata": {},
   "source": [
    "### 2.2.2 Comparission of Load data between ENTSO-E & Eurostat"
   ]
  },
  {
   "cell_type": "code",
   "execution_count": 90,
   "metadata": {},
   "outputs": [],
   "source": [
    "def eurostat_comparission_load_data(load_data, countries):\n",
    "\n",
    "    load_eurostat =[]\n",
    "    load_entsoe=[]\n",
    "    labels=[]\n",
    "    temp = []\n",
    "    eurostat = pd.read_csv('../Data Sources/Eurostat/Load.csv')\n",
    "    eurostat = eurostat.loc[eurostat['TIME']==2018]\n",
    "       \n",
    "    # In the following command we first check if the countries in the ENTSO-E datasets are also available in the Eurostat dataset. \n",
    "    # If yes, we append the 'labels' as the country code. \n",
    "    # Here also we use 'pd.to_numeric' command because Eurostat data come in string format. \n",
    "    # Then we update 'load_eurostat' list by checking for the 'country' in 'GEO' column of eurostat daraframe and take the respective value in the 'Value' column.\n",
    "    # Then we get the sum along the '{country_code}' column in the 'load_data' dataframe and update the 'load_entsoe' list with that value.\n",
    "    # Then we create the dataframe which shows ENTSO-E load, EUrostat load and the percentage difference in load wrt ENTSO-Edata for each country. \n",
    "    # Then the graph is drawn using matplotlib.\n",
    "    \n",
    "    for country,abbr in countries.items():\n",
    "\n",
    "        if country in eurostat.values:\n",
    "            labels.append(abbr)\n",
    "            load_eurostat.append(round(pd.to_numeric(eurostat.loc[eurostat['GEO'] == country,'Value'].iloc[0]),2))\n",
    "            load_entsoe.append(round(load_data[f'{abbr}'].sum()/1000,2))\n",
    "            temp.append([labels[-1],load_entsoe[-1],load_eurostat[-1], round((load_entsoe[-1] - load_eurostat[-1])*100/load_entsoe[-1],2)])\n",
    "            \n",
    "    table_eurostat_comparission_load_data = pd.DataFrame(temp,columns=['Country','Load data based on ENTSO-E[GWh]','Load data based on Eurostat[GWh]','% difference with respect to Value based on ENTSO-E [%]'])\n",
    "    display(table_eurostat_comparission_load_data)\n",
    "    \n",
    "    plot(load_entsoe, load_eurostat, labels, 'lightcoral', 'deepskyblue',\n",
    "         'ENTSO-E data', 'Eurostat data', 'Comparission of annual electricity load data in ENTSO-E and Eurostat data')\n"
   ]
  },
  {
   "cell_type": "markdown",
   "metadata": {},
   "source": [
    "### 2.2.3 Comparission of Net Imports/Exports data between ENTSO-E & Eurostat"
   ]
  },
  {
   "cell_type": "code",
   "execution_count": 91,
   "metadata": {},
   "outputs": [],
   "source": [
    "def eurostat_comparission_transmission_data(import_export_using_crossborder_data, countries):\n",
    "    transmission_eurostat = []\n",
    "    transmission_entsoe = []\n",
    "    labels=[]\n",
    "    temp = []\n",
    "    eurostat = pd.read_csv('../Data Sources/Eurostat/Transmission.csv')\n",
    "    eurostat = eurostat.loc[eurostat['TIME']==2018]\n",
    "\n",
    "    # In the following command we first check if the countries in the ENTSO-E datasets are also available in the Eurostat dataset. \n",
    "    # If yes, we append the 'labels' as the country code. \n",
    "    # Here also we use 'pd.to_numeric' command because Eurostat data come in string format. \n",
    "    # Then we update 'transmission_eurostat' list by checking for the ('country' in 'GEO' column and 'Exports' in the 'NRG_BAL' column of eurostat daraframe) and (the 'country' in 'GEO' column and 'Imports' in the 'NRG_BAL' column of eurostat dataframe) and take the difference of the respective values in the 'Value' column.\n",
    "    # Then we get the sum along the '{country_code} - [exp-imp] in the 'import_export_using_crossborder_data' dataframe and update the 'transmission_entsoe' list with that value.\n",
    "    # Then we create the dataframe which shows ENTSO-E net imports/exports, EUrostat net imports/exports and the percentage difference in net imports/exports wrt ENTSO-Edata for each country. \n",
    "    # Then the graph is drawn using matplotlib.\n",
    "    \n",
    "    \n",
    "    for country, abbr in countries.items():\n",
    "\n",
    "        if country in eurostat.values:\n",
    "            labels.append(abbr)\n",
    "            transmission_eurostat.append(round(pd.to_numeric(eurostat.loc[(\n",
    "                eurostat['GEO'] == country) & (eurostat['NRG_BAL'] == 'Exports'), 'Value'].iloc[0]) - pd.to_numeric(eurostat.loc[(\n",
    "                    eurostat['GEO'] == country) & (eurostat['NRG_BAL'] == 'Imports'), 'Value'].iloc[0]),2))\n",
    "            transmission_entsoe.append(round(import_export_using_crossborder_data[f'{abbr}'].sum()/1000,2))\n",
    "            temp.append([labels[-1],transmission_entsoe[-1],transmission_eurostat[-1], round((transmission_entsoe[-1] - transmission_eurostat[-1])*100/transmission_entsoe[-1],2)])\n",
    "            \n",
    "    table_eurostat_comparission_transmission_data = pd.DataFrame(temp,columns=['Country','Net imports/exports data based on ENTSO-E[GWh]','Net imports/exports data based on Eurostat[GWh]','% difference with respect to Value based on ENTSO-E [%]'])\n",
    "    display(table_eurostat_comparission_transmission_data)\n",
    "    \n",
    "    plot(transmission_entsoe, transmission_eurostat, labels, 'magenta', 'aqua',\n",
    "         'ENTSO-E data', 'Eurostat data', 'Comparission of annual electricity net export/import data in ENTSO-E and Eurostat data')\n"
   ]
  }
 ],
 "metadata": {
  "interpreter": {
   "hash": "ecf5722fdaf1897a315d257d89d94520bfcaa453217d5becf09b39e73618b0de"
  },
  "kernelspec": {
   "display_name": "Python 3",
   "language": "python",
   "name": "python3"
  },
  "language_info": {
   "codemirror_mode": {
    "name": "ipython",
    "version": 3
   },
   "file_extension": ".py",
   "mimetype": "text/x-python",
   "name": "python",
   "nbconvert_exporter": "python",
   "pygments_lexer": "ipython3",
   "version": "3.9.1"
  }
 },
 "nbformat": 4,
 "nbformat_minor": 4
}
