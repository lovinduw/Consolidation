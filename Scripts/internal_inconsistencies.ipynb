{
 "metadata": {
  "language_info": {
   "codemirror_mode": {
    "name": "ipython",
    "version": 3
   },
   "file_extension": ".py",
   "mimetype": "text/x-python",
   "name": "python",
   "nbconvert_exporter": "python",
   "pygments_lexer": "ipython3",
   "version": "3.9.1"
  },
  "orig_nbformat": 4,
  "kernelspec": {
   "name": "python3",
   "display_name": "Python 3.9.1 64-bit"
  },
  "interpreter": {
   "hash": "acb9e0cfff3151089362f20c3a81c7531326aa2c5fdbbc2eccac94359104a8e2"
  }
 },
 "nbformat": 4,
 "nbformat_minor": 2,
 "cells": [
  {
   "source": [
    "# Internal Inconsistencies"
   ],
   "cell_type": "markdown",
   "metadata": {}
  },
  {
   "cell_type": "code",
   "execution_count": 1,
   "metadata": {},
   "outputs": [],
   "source": [
    "import pandas as pd\n",
    "import numpy as np\n",
    "import matplotlib.pyplot as plt"
   ]
  },
  {
   "cell_type": "code",
   "execution_count": 2,
   "metadata": {},
   "outputs": [],
   "source": [
    "# import import_ipynb\n",
    "# import data_preperation as dp\n",
    "\n",
    "# countries={ 'Austria': 'AT', 'Belgium': 'BE',  'Bulgaria': 'BG', 'Switzerland': 'CH', 'Czech Republic': 'CZ', 'Croatia': 'HR',  'Germany': 'DE', 'Denmark': 'DK', 'Estonia': 'EE', 'Spain': 'ES', 'Finland': 'FI', 'France': 'FR',  'Greece': 'GR', 'Hungary': 'HU', 'Ireland': 'IE', 'Italy': 'IT', 'Lithuania': 'LT', 'Latvia': 'LV', 'Montenegro': 'ME','Netherlands': 'NL', 'Norway': 'NO', 'Poland': 'PL', 'Portugal': 'PT', 'Serbia': 'RS', 'Sweden': 'SE', 'Slovenia': 'SI', 'Slovakia': 'SK', 'United Kingdom': 'UK'}\n",
    "\n",
    "# abbr_list=list(countries.values())\n",
    "\n",
    "# load_data = dp.load(countries)\n",
    "# generation_data = dp.generation(countries)"
   ]
  },
  {
   "source": [
    "## Calculating net imports/exports based on generation and load data "
   ],
   "cell_type": "markdown",
   "metadata": {}
  },
  {
   "cell_type": "code",
   "execution_count": 3,
   "metadata": {},
   "outputs": [],
   "source": [
    "def import_export_using_load_gen(load_data,generation_data,abbr_list):\n",
    "\n",
    "    import_export_data=pd.DataFrame()\n",
    "    import_export_data[['Day','Month','Year','Time']]=load_data[['Day','Month','Year','Time']]\n",
    "\n",
    "    # In the following command we calculate net import/export in each time step of each country by subtracting '{country_code}' column of 'load_data' dataframe from '{country_code} - Total' of 'generation_data' dataframe and save the result in '{country_code} - [gen - load]' column of 'import_export_data' dataframe. for example, import_export_data['DE - [gen - load]']=generation_data['DE - Total'] - load_data['DE']. Then we create a new column in the 'import_export_data' dataframe called '{country_code} - import/export' and make that column 'Net Export' if '{country_code} - [gen - load]' is greater than 0 and make the '{country_code} - import/export' column 'Net Import' if '{country_code} - [gen - load]' is equal or lower than 0\n",
    "    \n",
    "    for abbr in abbr_list:\n",
    "        import_export_data[f'{abbr} - [gen - load]']=generation_data[f'{abbr} - Total'] - load_data[f'{abbr}']\n",
    "        import_export_data.loc[import_export_data[f'{abbr} - [gen - load]']>0, f'{abbr} - import/export']='Net Export'\n",
    "        import_export_data.loc[import_export_data[f'{abbr} - [gen - load]']<=0, f'{abbr} - import/export']='Net Import'\n",
    "\n",
    "    return(import_export_data)\n"
   ]
  },
  {
   "source": [
    "## Calculating net imports/exports based on cross-border transmission data "
   ],
   "cell_type": "markdown",
   "metadata": {}
  },
  {
   "cell_type": "code",
   "execution_count": 4,
   "metadata": {},
   "outputs": [],
   "source": [
    "def import_export_using_crossborder(crossborder_data,abbr_list):\n",
    "\n",
    "    import_export_data=pd.DataFrame()\n",
    "    import_export_data[['Day','Month','Year','Time']]=crossborder_data[['Day','Month','Year','Time']]\n",
    "    \n",
    "# In the following command we copy the '{country_code}' column of 'crossborder_data' dataframe to '{country_code} - [exp - imp]' column of 'import_export_data' dataframe. for example, import_export_data['DE - [exp - imp]']. Then we create a new column in the 'import_export_data' dataframe called '{country_code} - import/export' and make that column 'Net Export' if '{country_code} - [exp - imp]' is greater than 0 and make the '{country_code} - import/export' column 'Net Import' if '{country_code} - [exp - imp]' is equal or lower than 0\n",
    "\n",
    "    for abbr in abbr_list:\n",
    "        import_export_data[f'{abbr} - [exp - imp]']=crossborder_data[f'{abbr}']\n",
    "        import_export_data.loc[import_export_data[f'{abbr} - [exp - imp]']>0, f'{abbr} - import/export']='Net Export'\n",
    "        import_export_data.loc[import_export_data[f'{abbr} - [exp - imp]']<=0, f'{abbr} - import/export']='Net Import'\n",
    "\n",
    "    return(import_export_data)"
   ]
  },
  {
   "source": [
    "## Comparission of net imports/exports based on generation and load data and net imports/exports based on cross-border transmission data"
   ],
   "cell_type": "markdown",
   "metadata": {}
  },
  {
   "cell_type": "code",
   "execution_count": 5,
   "metadata": {},
   "outputs": [],
   "source": [
    "def plot(import_export_using_load_gen,import_export_using_crossborder_data,labels):\n",
    "\n",
    "    x1=[]\n",
    "    x2=[]\n",
    "\n",
    "    for label in labels:\n",
    "        x1.append(import_export_using_load_gen[f'{label} - [gen - load]'].sum()/1000000) \n",
    "        x2.append(import_export_using_crossborder_data[f'{label} - [exp - imp]'].sum()/1000000) \n",
    "    \n",
    "    width = 0.35\n",
    "    X = np.arange(len(labels))\n",
    "    plt.figure(figsize=(20,10))\n",
    "    plt.bar([x-width/2 for x in X],x1,width,color='magenta',edgecolor='black', label='based on generation/load data')\n",
    "    plt.bar([x+width/2 for x in X],x2,width,color='aqua',edgecolor='black',label='based on cross-border export/import data')\n",
    "    plt.xlabel('Countries')\n",
    "    plt.ylabel('Power [TW]')\n",
    "    plt.title('Comparission of annual net imports/exports based on generation/load & cross-border transmission data')\n",
    "    plt.xticks(X,labels)\n",
    "    plt.axhline(y=0, color='black', linestyle='-')\n",
    "    plt.legend()\n",
    "    plt.grid()\n",
    "    plt.show()"
   ]
  },
  {
   "cell_type": "code",
   "execution_count": null,
   "metadata": {},
   "outputs": [],
   "source": []
  }
 ]
}