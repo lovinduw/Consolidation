{
 "cells": [
  {
   "cell_type": "markdown",
   "metadata": {},
   "source": [
    "# Internal Inconsistencies"
   ]
  },
  {
   "cell_type": "code",
   "execution_count": 1,
   "metadata": {},
   "outputs": [],
   "source": [
    "import pandas as pd\n",
    "import numpy as np\n",
    "import glob\n",
    "import matplotlib.pyplot as plt\n",
    "from IPython.display import display\n"
   ]
  },
  {
   "cell_type": "code",
   "execution_count": 2,
   "metadata": {},
   "outputs": [
    {
     "name": "stdout",
     "output_type": "stream",
     "text": [
      "importing Jupyter notebook from data_preperation.ipynb\n"
     ]
    }
   ],
   "source": [
    "import import_ipynb\n",
    "import data_preperation as dp\n",
    "\n",
    "countries={ 'Austria': 'AT', 'Belgium': 'BE',  'Bulgaria': 'BG', 'Switzerland': 'CH', 'Czech Republic': 'CZ', 'Germany': 'DE', 'Denmark': 'DK', 'Estonia': 'EE', 'Spain': 'ES', 'Finland': 'FI', 'France': 'FR',  'Greece': 'GR', 'Hungary': 'HU', 'Ireland': 'IE', 'Italy': 'IT', 'Lithuania': 'LT', 'Latvia': 'LV', 'Montenegro': 'ME','Netherlands': 'NL', 'Norway': 'NO', 'Poland': 'PL', 'Portugal': 'PT', 'Serbia': 'RS', 'Sweden': 'SE', 'Slovenia': 'SI', 'Slovakia': 'SK', 'United Kingdom': 'UK'}\n",
    "\n",
    "abbr_list=list(countries.values())\n",
    "\n",
    "load_data = dp.load(countries)\n",
    "generation_data = dp.generation(countries)\n",
    "cross_border_data = dp.cross_border(abbr_list)[1]\n",
    "import_export_using_crossborder_data = dp.import_export_using_crossborder(dp.cross_border(abbr_list)[0],abbr_list)"
   ]
  },
  {
   "cell_type": "markdown",
   "metadata": {},
   "source": [
    "# 1. Internal inconsistencies based on unedited ENTSO-E data"
   ]
  },
  {
   "cell_type": "markdown",
   "metadata": {},
   "source": [
    "## 1.1 Calculating missing values and mismatch analysis in data files"
   ]
  },
  {
   "cell_type": "code",
   "execution_count": 3,
   "metadata": {},
   "outputs": [],
   "source": [
    "def omit_dst(df):\r\n",
    "\r\n",
    "    # Due to day light saving, all the datasets have null values on 25th March from 02:00 - 03:00. \r\n",
    "    # Considering the time intervals each country update the data, a total number of rows of 4,2 or 1 are dropped from the 31st March, 02:00 - 03:00 time interval.\r\n",
    "    # Also this returns a integer ('divider') based on the file length to get the energy values in a later step. In 15 min interval files this is 4, in 30 min interval files this is 2 and in 1 hour interval files this is 1.\r\n",
    "    \r\n",
    "    length = len(df)\r\n",
    "    if length == 35044:\r\n",
    "        df = df.drop(range(7976, 7980)).reset_index(drop=True)\r\n",
    "        divider = 4\r\n",
    "    elif length == 17522:\r\n",
    "        df = df.drop(range(3988, 3990)).reset_index(drop=True)\r\n",
    "        divider = 2\r\n",
    "    else:\r\n",
    "        df = df.drop(range(1994, 1995)).reset_index(drop=True)\r\n",
    "        divider = 1\r\n",
    "    \r\n",
    "    return(df,divider)\r\n",
    "\r\n",
    "def mismatch_raw_data(countries):\r\n",
    "\r\n",
    "    load_missing_data = []\r\n",
    "    generation_missing_data = []\r\n",
    "    transmission_missing_data =[]\r\n",
    "    transmission_files = []\r\n",
    "    temp1 = pd.DataFrame()\r\n",
    "    temp2 = pd.DataFrame()\r\n",
    "    \r\n",
    "    mismatch_data = {}\r\n",
    "    csvs = glob.glob(\"../Data Sources/ENTSO-E/2018/Transmission/*.csv\")\r\n",
    "\r\n",
    "    # In the following command we read each csv file and drop the rows related to day light saving using 'omit_dst' function\r\n",
    "    # Then we save the total number of null values in load data of each country in the load_missing_data list.\r\n",
    "    # Then we save the total number of null values in generation data of each country in the generation_missing_data list.\r\n",
    "    # Then we get the list of the paths of all files in the directory to the 'csvs' variable using 'glob' function.\r\n",
    "    # Then one by one the actual csv associated with the path is copied to the dataframe 'temp' only if the file path string includes the country_code sent by 'abbr'. \r\n",
    "    # Then we save the total number of null values in each transmission datafile of each country in the transmission_missing_data list.\r\n",
    "    # Then we update all the generation & load missing values in the 'temp1' dataframe and transmission missing values in 'temp2' dataframe.\r\n",
    "    \r\n",
    "    # We calculate the annual data mismatch of each country as (generation + imports - load - exports) of the country.\r\n",
    "    # Countries provide the data in 15 min, 30 min and 1 hour intervals.\r\n",
    "    # Therefore to ge the energy values from the power values, we divide the total power data by 4,2 or 1 using the 'divider' variable as required.\r\n",
    "    # Then we calculate the relative mismatch of each country using (generation + imports - load - exports)/load + exports)\r\n",
    "    \r\n",
    "    for country,abbr in countries.items():\r\n",
    "        load_data,divider_load = omit_dst(pd.read_csv(f'../Data Sources/ENTSO-E/2018/Load/{country}.csv'))\r\n",
    "        generation_data, divider_gen = omit_dst(pd.read_csv(f'../Data Sources/ENTSO-E/2018/Generation/{country}.csv', low_memory=False))\r\n",
    "        \r\n",
    "        load_missing_data.append(load_data.isnull().sum().sum())\r\n",
    "        generation_missing_data.append(generation_data.isnull().sum().sum())\r\n",
    "        \r\n",
    "        transmission_data = pd.DataFrame()\r\n",
    "        transmission_data_temp = pd.DataFrame()\r\n",
    "\r\n",
    "        for csv in csvs:\r\n",
    "            if csv[42:44] == abbr:\r\n",
    "                temp, divider_transmission = omit_dst(pd.read_csv(csv))\r\n",
    "                transmission_missing_data.append(temp.isnull().sum().sum())\r\n",
    "                transmission_files.append(f'{csv[42:44]} --> {csv[45:47]}')\r\n",
    "                \r\n",
    "                temp = temp.replace(['n/e',np.nan] ,0)\r\n",
    "                transmission_data_temp[f'{csv[42:44]} -- > {csv[45:47]}'] = pd.to_numeric(temp.iloc[:,2])\r\n",
    "                transmission_data_temp[f'{csv[42:44]} < -- {csv[45:47]}'] = pd.to_numeric(temp.iloc[:,1])  \r\n",
    "            \r\n",
    "        transmission_data = pd.concat([transmission_data,transmission_data_temp/divider_transmission],axis=1)\r\n",
    "        mismatch_data.update({f'{abbr}': round(abs(generation_data.iloc[:, 2:].sum(axis=1).sum()/divider_gen + transmission_data.filter(like=f'{abbr} <').sum(\r\n",
    "            axis=1).sum() - load_data.iloc[:, 2].sum()/divider_load - transmission_data.filter(like=f'{abbr} -').sum(axis=1).sum())/1000000,2)})\r\n",
    "\r\n",
    "    temp1['File'] = list(countries.values())\r\n",
    "    temp2['File'] = transmission_files\r\n",
    "    temp1['No. of missing data in Load data'] = load_missing_data\r\n",
    "    temp1['No. of missing data in Generation data'] = generation_missing_data\r\n",
    "    temp2['No. of missing data in Transmission data'] = transmission_missing_data\r\n",
    "    \r\n",
    "    mismatch_data = sorted(mismatch_data.items(), key= lambda item: item[1], reverse=True)\r\n",
    "    \r\n",
    "    display(temp1, temp2)   \r\n",
    "\r\n",
    "    width = 0.35\r\n",
    "    labels = [x[0] for x in mismatch_data]\r\n",
    "    X = np.arange(len(labels))\r\n",
    "    plt.figure(figsize=(20,10))\r\n",
    "    plt.bar([x for x in X], [x[1] for x in mismatch_data], width, color='aqua',edgecolor='black')\r\n",
    "    plt.xlabel('Countries')\r\n",
    "    plt.ylabel('Mismatch [TWh]')\r\n",
    "    plt.title('Mismatch analysis based on (generation + imports - load - exports) in raw ENTSO-E data')\r\n",
    "    plt.grid()\r\n",
    "    plt.xticks(X,labels)\r\n",
    "    plt.show()\r\n"
   ]
  },
  {
   "cell_type": "markdown",
   "metadata": {},
   "source": [
    "# 2. Internal inconsistencies based on gap filled ENTSO-E data"
   ]
  },
  {
   "cell_type": "markdown",
   "metadata": {},
   "source": [
    "## 2.1 Mismatch analysis in the gap filled ENTSO-E data"
   ]
  },
  {
   "cell_type": "code",
   "execution_count": 62,
   "metadata": {},
   "outputs": [],
   "source": [
    "def mismatch_gapfilled_data(abbr_list):\r\n",
    "\r\n",
    "    # In the gap filled ENTSO-E csv files, each file has generation of each category, demand, exports and imports in the same sheet.countries\r\n",
    "    # In each csv, we filter the column names with only generation data by selecting the columns which don't have 'demand','mismatch','>' strings' as the column names.countries\r\n",
    "    # Then similar to above we calculate mismatch data using (generation + imports - load - exports).\r\n",
    "\r\n",
    "    mismatch_data = {}\r\n",
    "    strings = ['demand','mismatch','>']\r\n",
    "\r\n",
    "    for abbr in abbr_list:\r\n",
    "        temp = pd.read_csv(f'../Data Sources/ENTSO-E/2018/SIGI/{abbr}.csv').iloc[:,1:]\r\n",
    "        columns = np.array(temp.columns)\r\n",
    "        selected_columns=[]\r\n",
    "        for column in columns:\r\n",
    "            if not any(string in column for string in strings):\r\n",
    "                selected_columns.append(column)\r\n",
    "        mismatch_data.update({abbr: [temp[selected_columns].sum(axis=1).sum(), temp.filter(like=f'> {abbr}').sum(axis=1).sum(), temp['demand'].sum(), temp.filter(like=f'{abbr} -').sum(\r\n",
    "            axis=1).sum()]})\r\n",
    "\r\n",
    "    gapfilled_mismatch_data = pd.DataFrame(columns=['Country', 'Generation [MWh]', 'Imports [MWh]', 'Demand [MWh]', 'Exports [MWh]', 'Mismatch [MWh]'])\r\n",
    "    gapfilled_mismatch_data.iloc[:,0] = mismatch_data.keys()\r\n",
    "\r\n",
    "    for i in range(1,5):\r\n",
    "        gapfilled_mismatch_data.iloc[:,i] = [x[i-1] for x in mismatch_data.values()]\r\n",
    "    gapfilled_mismatch_data['Mismatch [MWh]'] = abs(gapfilled_mismatch_data.iloc[:,1] + gapfilled_mismatch_data.iloc[:,2] - gapfilled_mismatch_data.iloc[:,3] - gapfilled_mismatch_data.iloc[:,4])\r\n",
    "\r\n",
    "    return(gapfilled_mismatch_data)"
   ]
  }
 ],
 "metadata": {
  "interpreter": {
   "hash": "ecf5722fdaf1897a315d257d89d94520bfcaa453217d5becf09b39e73618b0de"
  },
  "kernelspec": {
   "display_name": "Python 3.9.5 64-bit ('base': conda)",
   "name": "python3"
  },
  "language_info": {
   "codemirror_mode": {
    "name": "ipython",
    "version": 3
   },
   "file_extension": ".py",
   "mimetype": "text/x-python",
   "name": "python",
   "nbconvert_exporter": "python",
   "pygments_lexer": "ipython3",
   "version": "3.9.5"
  }
 },
 "nbformat": 4,
 "nbformat_minor": 4
}