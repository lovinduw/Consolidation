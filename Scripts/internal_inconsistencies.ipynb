{
 "cells": [
  {
   "cell_type": "markdown",
   "metadata": {},
   "source": [
    "# Internal Inconsistencies"
   ]
  },
  {
   "cell_type": "code",
   "execution_count": 13,
   "metadata": {},
   "outputs": [],
   "source": [
    "import pandas as pd\n",
    "import numpy as np\n",
    "import matplotlib.pyplot as plt"
   ]
  },
  {
   "cell_type": "code",
   "execution_count": 14,
   "metadata": {},
   "outputs": [],
   "source": [
    "import import_ipynb\r\n",
    "import data_preperation as dp\r\n",
    "\r\n",
    "countries={ 'Austria': 'AT', 'Belgium': 'BE',  'Bulgaria': 'BG', 'Switzerland': 'CH', 'Czech Republic': 'CZ', 'Croatia': 'HR',  'Germany': 'DE', 'Denmark': 'DK', 'Estonia': 'EE', 'Spain': 'ES', 'Finland': 'FI', 'France': 'FR',  'Greece': 'GR', 'Hungary': 'HU', 'Ireland': 'IE', 'Italy': 'IT', 'Lithuania': 'LT', 'Latvia': 'LV', 'Montenegro': 'ME','Netherlands': 'NL', 'Norway': 'NO', 'Poland': 'PL', 'Portugal': 'PT', 'Serbia': 'RS', 'Sweden': 'SE', 'Slovenia': 'SI', 'Slovakia': 'SK', 'United Kingdom': 'UK'}\r\n",
    "\r\n",
    "abbr_list=list(countries.values())\r\n",
    "\r\n",
    "load_data = dp.load(countries)\r\n",
    "generation_data = dp.generation(countries)\r\n",
    "import_export_using_crossborder_data = dp.cross_border(abbr_list)[0]\r\n"
   ]
  },
  {
   "cell_type": "code",
   "execution_count": null,
   "metadata": {},
   "outputs": [],
   "source": [
    "def plot(x1,x2,labels,color1,color2,label1,label2,title):\r\n",
    "\r\n",
    "    width = 0.35\r\n",
    "    X = np.arange(len(labels))\r\n",
    "    plt.figure(figsize=(20,10))\r\n",
    "    plt.bar([x-width/2 for x in X],x1,width,color=color1,edgecolor='black', label=label1)\r\n",
    "    plt.bar([x+width/2 for x in X], x2, width, color=color2,edgecolor='black', label=label2)\r\n",
    "    plt.xlabel('Countries')\r\n",
    "    plt.ylabel('Energy [GWh]')\r\n",
    "    plt.title(title)\r\n",
    "    plt.xticks(X,labels)\r\n",
    "    plt.axhline(y=0, color='black', linestyle='-')\r\n",
    "    plt.legend()\r\n",
    "    plt.grid()\r\n",
    "    plt.show()\r\n"
   ]
  },
  {
   "cell_type": "markdown",
   "metadata": {},
   "source": [
    "## 1.1 Calculating net imports/exports based on generation and load data "
   ]
  },
  {
   "cell_type": "code",
   "execution_count": null,
   "metadata": {},
   "outputs": [],
   "source": [
    "def import_export_using_load_gen(load_data,generation_data,abbr_list):\n",
    "\n",
    "    import_export_data=pd.DataFrame()\n",
    "    import_export_data[['Day','Month','Year','Time']]=load_data[['Day','Month','Year','Time']]\n",
    "\n",
    "    # In the following command we calculate net import/export in each time step of each country by subtracting '{country_code}' column of 'load_data' dataframe from '{country_code} - Total' of 'generation_data' dataframe and save the result in '{country_code} - [gen - load]' column of 'import_export_data' dataframe. for example, import_export_data['DE - [gen - load]']=generation_data['DE - Total'] - load_data['DE']. Then we create a new column in the 'import_export_data' dataframe called '{country_code} - import/export' and make that column 'Net Export' if '{country_code} - [gen - load]' is greater than 0 and make the '{country_code} - import/export' column 'Net Import' if '{country_code} - [gen - load]' is equal or lower than 0\n",
    "    \n",
    "    for abbr in abbr_list:\n",
    "        import_export_data[f'{abbr} - [gen - load]']=generation_data[f'{abbr} - Total'] - load_data[f'{abbr}']\n",
    "        import_export_data.loc[import_export_data[f'{abbr} - [gen - load]']>0, f'{abbr} - import/export']='Net Export'\n",
    "        import_export_data.loc[import_export_data[f'{abbr} - [gen - load]']<=0, f'{abbr} - import/export']='Net Import'\n",
    "\n",
    "    return(import_export_data)\n"
   ]
  },
  {
   "cell_type": "markdown",
   "metadata": {},
   "source": [
    "## 1.2 Calculating net imports/exports based on cross-border transmission data "
   ]
  },
  {
   "cell_type": "code",
   "execution_count": null,
   "metadata": {},
   "outputs": [],
   "source": [
    "def import_export_using_crossborder(crossborder_data,abbr_list):\n",
    "\n",
    "    import_export_data=pd.DataFrame()\n",
    "    import_export_data[['Day','Month','Year','Time']]=crossborder_data[['Day','Month','Year','Time']]\n",
    "    \n",
    "# In the following command we copy the '{country_code}' column of 'crossborder_data' dataframe to '{country_code} - [exp - imp]' column of 'import_export_data' dataframe. for example, import_export_data['DE - [exp - imp]']. Then we create a new column in the 'import_export_data' dataframe called '{country_code} - import/export' and make that column 'Net Export' if '{country_code} - [exp - imp]' is greater than 0 and make the '{country_code} - import/export' column 'Net Import' if '{country_code} - [exp - imp]' is equal or lower than 0\n",
    "\n",
    "    for abbr in abbr_list:\n",
    "        import_export_data[f'{abbr} - [exp - imp]']=crossborder_data[f'{abbr}']\n",
    "        import_export_data.loc[import_export_data[f'{abbr} - [exp - imp]']>0, f'{abbr} - import/export']='Net Export'\n",
    "        import_export_data.loc[import_export_data[f'{abbr} - [exp - imp]']<=0, f'{abbr} - import/export']='Net Import'\n",
    "\n",
    "    return(import_export_data)"
   ]
  },
  {
   "cell_type": "markdown",
   "metadata": {},
   "source": [
    "## 1.3 Comparission of net imports/exports based on generation and load data and net imports/exports based on cross-border transmission data"
   ]
  },
  {
   "cell_type": "code",
   "execution_count": null,
   "metadata": {},
   "outputs": [],
   "source": [
    "def entsoe_comparission_transmission_data(import_export_using_load_gen, import_export_using_crossborder_data, labels):\r\n",
    "\r\n",
    "    load_gen_data= []\r\n",
    "    crossborder_data = []\r\n",
    "\r\n",
    "# In the following command, we take the yearly sum of data in net import based on generation/load and net imported based on cross border transmission data. These two yearly sum arrays are saved in variables 'x1' and 'x2' respectively. Then the graph is drawn using matplotlib.\r\n",
    "\r\n",
    "    for label in labels:\r\n",
    "        load_gen_data.append(import_export_using_load_gen[f'{label} - [gen - load]'].sum()/1000)\r\n",
    "        crossborder_data.append(import_export_using_crossborder_data[f'{label} - [exp - imp]'].sum()/1000)\r\n",
    "    \r\n",
    "    plot(load_gen_data, crossborder_data, labels, 'magenta', 'aqua',\r\n",
    "         'based on generation/load data', 'based on cross-border export/import data', 'Comparission of annual net imports/exports based on generation/load & cross-border transmission data')\r\n",
    "    \r\n"
   ]
  },
  {
   "cell_type": "markdown",
   "metadata": {},
   "source": [
    "## 2.1 Comparission of data between ENTSO-E & Eurostat"
   ]
  },
  {
   "cell_type": "markdown",
   "metadata": {},
   "source": [
    "### 2.1.1 Comparission of Generation data between ENTSO-E & Eurostat"
   ]
  },
  {
   "cell_type": "code",
   "execution_count": null,
   "metadata": {},
   "outputs": [],
   "source": [
    "def eurostat_comparission_gen_data(generation_data, countries):\r\n",
    "    \r\n",
    "    gen_eurostat={}\r\n",
    "    gen_entsoe={}\r\n",
    "    labels=[]\r\n",
    "    eurostat = pd.read_csv('../Data Sources/Eurostat/Generation.csv')\r\n",
    "    eurostat = eurostat.loc[eurostat['TIME']==2019]\r\n",
    "       \r\n",
    "    for country,abbr in countries.items():\r\n",
    "\r\n",
    "        if country in eurostat.values:\r\n",
    "            labels.append(abbr)\r\n",
    "            gen_eurostat.update({f'Eurostat - {abbr}': pd.to_numeric(eurostat.loc[eurostat['GEO'] == country,'Value'].iloc[0])})\r\n",
    "            gen_entsoe.update({f'ENTSO-E - {abbr}': generation_data[f'{abbr} - Total'].sum()/1000})\r\n",
    "            \r\n",
    "    plot(list(gen_entsoe.values()), list(gen_eurostat.values()), labels, 'gold', 'lime',\r\n",
    "         'ENTSO-E data', 'Eurostat data', 'Comparission of annual electricity generation data in ENTSO-E and Eurostat data')\r\n"
   ]
  },
  {
   "cell_type": "markdown",
   "metadata": {},
   "source": [
    "### 2.1.2 Comparission of Load data between ENTSO-E & Eurostat"
   ]
  },
  {
   "cell_type": "code",
   "execution_count": null,
   "metadata": {},
   "outputs": [],
   "source": [
    "def eurostat_comparission_load_data(load_data, countries):\r\n",
    "\r\n",
    "    load_eurostat = {}\r\n",
    "    load_entsoe={}\r\n",
    "    labels=[]\r\n",
    "    eurostat = pd.read_csv('../Data Sources/Eurostat/Load.csv')\r\n",
    "    eurostat = eurostat.loc[eurostat['TIME']==2019]\r\n",
    "       \r\n",
    "    for country,abbr in countries.items():\r\n",
    "\r\n",
    "        if country in eurostat.values:\r\n",
    "            labels.append(abbr)\r\n",
    "            load_eurostat.update({f'Eurostat - {abbr}': pd.to_numeric(eurostat.loc[eurostat['GEO'] == country,'Value'].iloc[0])})\r\n",
    "            load_entsoe.update({f'ENTSO-E - {abbr}': load_data[f'{abbr}'].sum()/1000})\r\n",
    "            \r\n",
    "    plot(list(load_entsoe.values()), list(load_eurostat.values()), labels, 'lightcoral', 'deepskyblue',\r\n",
    "         'ENTSO-E data', 'Eurostat data', 'Comparission of annual electricity load data in ENTSO-E and Eurostat data')\r\n"
   ]
  },
  {
   "cell_type": "markdown",
   "metadata": {},
   "source": [
    "### 2.1.3 Comparission of Net Imports/Exports data between ENTSO-E & Eurostat"
   ]
  },
  {
   "cell_type": "code",
   "execution_count": null,
   "metadata": {},
   "outputs": [],
   "source": [
    "def eurostat_comparission_transmission_data(import_export_using_crossborder_data, countries):\r\n",
    "    transmission_eurostat = {}\r\n",
    "    transmission_entsoe = {}\r\n",
    "    labels=[]\r\n",
    "    eurostat = pd.read_csv('../Data Sources/Eurostat/Transmission.csv')\r\n",
    "    eurostat = eurostat.loc[eurostat['TIME']==2019]\r\n",
    "\r\n",
    "    for country, abbr in countries.items():\r\n",
    "\r\n",
    "        if country in eurostat.values:\r\n",
    "            labels.append(abbr)\r\n",
    "            transmission_eurostat.update({f'Eurostat - {abbr}': pd.to_numeric(eurostat.loc[(\r\n",
    "                eurostat['GEO'] == country) & (eurostat['NRG_BAL'] == 'Exports'), 'Value'].iloc[0]) - pd.to_numeric(eurostat.loc[(\r\n",
    "                    eurostat['GEO'] == country) & (eurostat['NRG_BAL'] == 'Imports'), 'Value'].iloc[0])})\r\n",
    "            transmission_entsoe.update({f'ENTSO-E - {abbr}': import_export_using_crossborder_data[f'{abbr} - [exp - imp]'].sum()/1000})\r\n",
    "\r\n",
    "    plot(list(transmission_entsoe.values()), list(transmission_eurostat.values()), labels, 'magenta', 'aqua',\r\n",
    "         'ENTSO-E data', 'Eurostat data', 'Comparission of annual electricity net export/import data in ENTSO-E and Eurostat data')\r\n"
   ]
  }
 ],
 "metadata": {
  "interpreter": {
   "hash": "ecf5722fdaf1897a315d257d89d94520bfcaa453217d5becf09b39e73618b0de"
  },
  "kernelspec": {
   "display_name": "Python 3.9.1 64-bit ('base': conda)",
   "name": "python3"
  },
  "language_info": {
   "codemirror_mode": {
    "name": "ipython",
    "version": 3
   },
   "file_extension": ".py",
   "mimetype": "text/x-python",
   "name": "python",
   "nbconvert_exporter": "python",
   "pygments_lexer": "ipython3",
   "version": "3.9.1"
  }
 },
 "nbformat": 4,
 "nbformat_minor": 4
}