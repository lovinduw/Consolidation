{
 "cells": [
  {
   "cell_type": "code",
   "execution_count": 125,
   "source": [
    "import numpy as np\r\n",
    "import pandas as pd\r\n",
    "import import_ipynb\r\n",
    "import glob"
   ],
   "outputs": [],
   "metadata": {}
  },
  {
   "cell_type": "code",
   "execution_count": 2,
   "source": [
    "countries={ 'Austria': 'AT', 'Belgium': 'BE',  'Bulgaria': 'BG', 'Switzerland': 'CH', 'Czech Republic': 'CZ', 'Croatia': 'HR',  'Germany': 'DE', 'Denmark': 'DK', 'Estonia': 'EE', 'Spain': 'ES', 'Finland': 'FI', 'France': 'FR',  'Greece': 'GR', 'Hungary': 'HU', 'Ireland': 'IE', 'Italy': 'IT', 'Lithuania': 'LT', 'Latvia': 'LV', 'Montenegro': 'ME','Netherlands': 'NL', 'Norway': 'NO', 'Poland': 'PL', 'Portugal': 'PT', 'Serbia': 'RS', 'Sweden': 'SE', 'Slovenia': 'SI', 'Slovakia': 'SK', 'United Kingdom': 'UK'}\r\n",
    "\r\n",
    "abbr_list=list(countries.values())"
   ],
   "outputs": [],
   "metadata": {}
  },
  {
   "cell_type": "code",
   "execution_count": null,
   "source": [
    "fuels=['Biomass', 'Fossil Brown coal/Lignite', 'Fossil Coal-derived gas', 'Fossil Gas', 'Fossil Hard coal', 'Fossil Oil', 'Fossil Oil shale', 'Fossil Peat', 'Geothermal', 'Hydro Pumped Storage', 'Hydro Pumped Storage', 'Hydro Run-of-river and poundage', 'Hydro Water Reservoir', 'Marine', 'Nuclear', 'Other', 'Other renewable', 'Solar', 'Waste', 'Wind Offshore', 'Wind Onshore']"
   ],
   "outputs": [],
   "metadata": {}
  },
  {
   "cell_type": "code",
   "execution_count": 123,
   "source": [
    "import internal_inconsistencies as ii\r\n",
    "df = pd.read_csv('../Data Sources/ENTSO-E/2018/Load/Bulgaria.csv')\r\n",
    "df,length = ii.omit_dst(df)\r\n",
    "len(df)\r\n",
    "dataset = [[index, value] for index, value in enumerate(df.iloc[:, 2])]\r\n",
    "# dic = [[index, value] for index, value in enumerate(df.iloc[:, 2])if pd.isnull(value)]\r\n",
    "for index, value in dataset:\r\n",
    "    if pd.isnull(value):\r\n",
    "        print(index)\r\n",
    "        new_dic = [key for key in dataset if (\r\n",
    "            index-key[0]) % (24*distance) == 0]\r\n",
    "        new_dic.sort()\r\n",
    "        values = [x[1] for x in new_dic[:60]]\r\n",
    "        df.iloc[index, 2] = np.mean(np.array(values))\r\n"
   ],
   "outputs": [
    {
     "output_type": "execute_result",
     "data": {
      "text/plain": [
       "8760"
      ]
     },
     "metadata": {},
     "execution_count": 123
    }
   ],
   "metadata": {}
  },
  {
   "cell_type": "code",
   "execution_count": 148,
   "source": [
    "transmission_consolidated_nnm = pd.DataFrame()\r\n",
    "csvs = glob.glob(\"../Data Sources/ENTSO-E/2018/Transmission/*.csv\")\r\n",
    "for csv in csvs:\r\n",
    "    df = pd.read_csv(csv).iloc[:,1:]\r\n",
    "    df, length = ii.omit_dst(df)\r\n",
    "    df = df.replace('n/e',0)\r\n",
    "    for column in df.columns.values:\r\n",
    "            if not (df[column]==0).all():\r\n",
    "                dataset = [[index, value] for index, value in enumerate(df.loc[:, column])]\r\n",
    "                # dic = [[index, value] for index, value in enumerate(df.iloc[:, 2])if pd.isnull(value)]\r\n",
    "                for index, value in dataset:\r\n",
    "                    if pd.isnull(value):\r\n",
    "                        new_dic = [key for key in dataset if (index-key[0]) % (24*length) == 0]\r\n",
    "                        new_dic.sort()\r\n",
    "                        values = [x[1] for x in new_dic[:60]]\r\n",
    "                        df.loc[index, column] = np.mean(np.array(values))\r\n",
    "                transmission_consolidated_nnm = pd.concat([transmission_consolidated_nnm,df.loc[:,column]],axis=1)\r\n",
    "# transmission_consolidated_nnm"
   ],
   "outputs": [],
   "metadata": {}
  },
  {
   "cell_type": "code",
   "execution_count": 170,
   "source": [
    "transmission_consolidated_nnm = pd.DataFrame()\r\n",
    "csvs = glob.glob(\"../Data Sources/ENTSO-E/2018/Transmission/*.csv\")\r\n",
    "\r\n",
    "# df = pd.read_csv('../Data Sources/ENTSO-E/2018/Load/Estonia.csv').iloc[:, 1:]\r\n",
    "for csv in csvs:\r\n",
    "    df = pd.read_csv(csv).iloc[:,1:]\r\n",
    "    print(csv)\r\n",
    "    df, length = ii.omit_dst(df)\r\n",
    "    df = df.replace('n/e', 0)\r\n",
    "    for column in df.columns.values:\r\n",
    "        if not (df[column] == 0).all():\r\n",
    "            column_data = [[index, value] for index, value in enumerate(df.loc[:, column])]\r\n",
    "            for index, value in column_data:\r\n",
    "                if pd.isnull(value):\r\n",
    "                    temp_list = [[abs(index-item[0]),item[1]] for item in column_data if (index-item[0]) % (24*length) == 0]\r\n",
    "                    temp_list.sort()\r\n",
    "                    nearest_neighbours = [x[1] for x in temp_list[:60]]\r\n",
    "                    nearest_neighbours=[0 if pd.isna(x) else x for x in nearest_neighbours]\r\n",
    "                    # print(index,nearest_neighbours)\r\n",
    "                    # print(np.mean(np.array(nearest_neighbours)))\r\n",
    "                    df.loc[index, column] = np.mean(np.array(nearest_neighbours))\r\n",
    "            transmission_consolidated_nnm = pd.concat([transmission_consolidated_nnm, df.loc[:, column]], axis=1)\r\n",
    "# transmission_consolidated_nnm\r\n"
   ],
   "outputs": [
    {
     "output_type": "error",
     "ename": "TypeError",
     "evalue": "'<' not supported between instances of 'str' and 'int'",
     "traceback": [
      "\u001b[1;31m---------------------------------------------------------------------------\u001b[0m",
      "\u001b[1;31mTypeError\u001b[0m                                 Traceback (most recent call last)",
      "\u001b[1;32m<ipython-input-170-e16957e0a428>\u001b[0m in \u001b[0;36m<module>\u001b[1;34m\u001b[0m\n\u001b[0;32m     13\u001b[0m                 \u001b[1;32mif\u001b[0m \u001b[0mpd\u001b[0m\u001b[1;33m.\u001b[0m\u001b[0misnull\u001b[0m\u001b[1;33m(\u001b[0m\u001b[0mvalue\u001b[0m\u001b[1;33m)\u001b[0m\u001b[1;33m:\u001b[0m\u001b[1;33m\u001b[0m\u001b[1;33m\u001b[0m\u001b[0m\n\u001b[0;32m     14\u001b[0m                     \u001b[0mtemp_list\u001b[0m \u001b[1;33m=\u001b[0m \u001b[1;33m[\u001b[0m\u001b[1;33m[\u001b[0m\u001b[0mabs\u001b[0m\u001b[1;33m(\u001b[0m\u001b[0mindex\u001b[0m\u001b[1;33m-\u001b[0m\u001b[0mitem\u001b[0m\u001b[1;33m[\u001b[0m\u001b[1;36m0\u001b[0m\u001b[1;33m]\u001b[0m\u001b[1;33m)\u001b[0m\u001b[1;33m,\u001b[0m\u001b[0mitem\u001b[0m\u001b[1;33m[\u001b[0m\u001b[1;36m1\u001b[0m\u001b[1;33m]\u001b[0m\u001b[1;33m]\u001b[0m \u001b[1;32mfor\u001b[0m \u001b[0mitem\u001b[0m \u001b[1;32min\u001b[0m \u001b[0mcolumn_data\u001b[0m \u001b[1;32mif\u001b[0m \u001b[1;33m(\u001b[0m\u001b[0mindex\u001b[0m\u001b[1;33m-\u001b[0m\u001b[0mitem\u001b[0m\u001b[1;33m[\u001b[0m\u001b[1;36m0\u001b[0m\u001b[1;33m]\u001b[0m\u001b[1;33m)\u001b[0m \u001b[1;33m%\u001b[0m \u001b[1;33m(\u001b[0m\u001b[1;36m24\u001b[0m\u001b[1;33m*\u001b[0m\u001b[0mlength\u001b[0m\u001b[1;33m)\u001b[0m \u001b[1;33m==\u001b[0m \u001b[1;36m0\u001b[0m\u001b[1;33m]\u001b[0m\u001b[1;33m\u001b[0m\u001b[1;33m\u001b[0m\u001b[0m\n\u001b[1;32m---> 15\u001b[1;33m                     \u001b[0mtemp_list\u001b[0m\u001b[1;33m.\u001b[0m\u001b[0msort\u001b[0m\u001b[1;33m(\u001b[0m\u001b[1;33m)\u001b[0m\u001b[1;33m\u001b[0m\u001b[1;33m\u001b[0m\u001b[0m\n\u001b[0m\u001b[0;32m     16\u001b[0m                     \u001b[0mnearest_neighbours\u001b[0m \u001b[1;33m=\u001b[0m \u001b[1;33m[\u001b[0m\u001b[0mx\u001b[0m\u001b[1;33m[\u001b[0m\u001b[1;36m1\u001b[0m\u001b[1;33m]\u001b[0m \u001b[1;32mfor\u001b[0m \u001b[0mx\u001b[0m \u001b[1;32min\u001b[0m \u001b[0mtemp_list\u001b[0m\u001b[1;33m[\u001b[0m\u001b[1;33m:\u001b[0m\u001b[1;36m60\u001b[0m\u001b[1;33m]\u001b[0m\u001b[1;33m]\u001b[0m\u001b[1;33m\u001b[0m\u001b[1;33m\u001b[0m\u001b[0m\n\u001b[0;32m     17\u001b[0m                     \u001b[0mnearest_neighbours\u001b[0m\u001b[1;33m=\u001b[0m\u001b[1;33m[\u001b[0m\u001b[1;36m0\u001b[0m \u001b[1;32mif\u001b[0m \u001b[0mpd\u001b[0m\u001b[1;33m.\u001b[0m\u001b[0misna\u001b[0m\u001b[1;33m(\u001b[0m\u001b[0mx\u001b[0m\u001b[1;33m)\u001b[0m \u001b[1;32melse\u001b[0m \u001b[0mx\u001b[0m \u001b[1;32mfor\u001b[0m \u001b[0mx\u001b[0m \u001b[1;32min\u001b[0m \u001b[0mnearest_neighbours\u001b[0m\u001b[1;33m]\u001b[0m\u001b[1;33m\u001b[0m\u001b[1;33m\u001b[0m\u001b[0m\n",
      "\u001b[1;31mTypeError\u001b[0m: '<' not supported between instances of 'str' and 'int'"
     ]
    }
   ],
   "metadata": {}
  },
  {
   "cell_type": "code",
   "execution_count": 122,
   "source": [
    "x = [[1,2],[2,3],[3,4]]\r\n",
    "for i,j in x:\r\n",
    "    print(i,j)"
   ],
   "outputs": [
    {
     "output_type": "stream",
     "name": "stdout",
     "text": [
      "1 2\n",
      "2 3\n",
      "3 4\n"
     ]
    }
   ],
   "metadata": {}
  }
 ],
 "metadata": {
  "interpreter": {
   "hash": "acb9e0cfff3151089362f20c3a81c7531326aa2c5fdbbc2eccac94359104a8e2"
  },
  "kernelspec": {
   "name": "python3",
   "display_name": "Python 3.9.6 64-bit"
  },
  "language_info": {
   "name": "python",
   "version": "3.9.6",
   "mimetype": "text/x-python",
   "codemirror_mode": {
    "name": "ipython",
    "version": 3
   },
   "pygments_lexer": "ipython3",
   "nbconvert_exporter": "python",
   "file_extension": ".py"
  }
 },
 "nbformat": 4,
 "nbformat_minor": 2
}