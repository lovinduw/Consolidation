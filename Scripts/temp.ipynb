{
 "metadata": {
  "language_info": {
   "codemirror_mode": {
    "name": "ipython",
    "version": 3
   },
   "file_extension": ".py",
   "mimetype": "text/x-python",
   "name": "python",
   "nbconvert_exporter": "python",
   "pygments_lexer": "ipython3",
   "version": "3.9.1"
  },
  "orig_nbformat": 4,
  "kernelspec": {
   "name": "python3",
   "display_name": "Python 3.9.1 64-bit"
  },
  "interpreter": {
   "hash": "acb9e0cfff3151089362f20c3a81c7531326aa2c5fdbbc2eccac94359104a8e2"
  }
 },
 "nbformat": 4,
 "nbformat_minor": 2,
 "cells": [
  {
   "cell_type": "code",
   "execution_count": 1,
   "metadata": {},
   "outputs": [],
   "source": [
    "import numpy as np\n",
    "import pandas as pd"
   ]
  },
  {
   "cell_type": "code",
   "execution_count": 2,
   "metadata": {},
   "outputs": [],
   "source": [
    "fuels=['Biomass', 'Fossil Brown coal/Lignite', 'Fossil Coal-derived gas', 'Fossil Gas', 'Fossil Hard coal', 'Fossil Oil', 'Fossil Oil shale', 'Fossil Peat', 'Geothermal', 'Hydro Pumped Storage', 'Hydro Pumped Storage', 'Hydro Run-of-river and poundage', 'Hydro Water Reservoir', 'Marine', 'Nuclear', 'Other', 'Other renewable', 'Solar', 'Waste', 'Wind Offshore', 'Wind Onshore']"
   ]
  },
  {
   "cell_type": "code",
   "execution_count": 123,
   "metadata": {},
   "outputs": [],
   "source": [
    "df=pd.read_csv('../Data Sources/ENTSO-E/Transmission/DK-NL.csv')"
   ]
  },
  {
   "cell_type": "code",
   "execution_count": 124,
   "metadata": {},
   "outputs": [],
   "source": [
    "df = df.replace(['n/e',np.nan] ,0)"
   ]
  },
  {
   "cell_type": "code",
   "execution_count": 121,
   "metadata": {},
   "outputs": [],
   "source": [
    "df['Tot'] = pd.to_numeric(df.iloc[:,1])*(-1) + pd.to_numeric(df.iloc[:,2])"
   ]
  },
  {
   "cell_type": "code",
   "execution_count": 122,
   "metadata": {},
   "outputs": [
    {
     "output_type": "execute_result",
     "data": {
      "text/plain": [
       "                               Time (CET)  \\\n",
       "0     01.01.2019 00:00 - 01.01.2019 01:00   \n",
       "1     01.01.2019 01:00 - 01.01.2019 02:00   \n",
       "2     01.01.2019 02:00 - 01.01.2019 03:00   \n",
       "3     01.01.2019 03:00 - 01.01.2019 04:00   \n",
       "4     01.01.2019 04:00 - 01.01.2019 05:00   \n",
       "...                                   ...   \n",
       "8756  31.12.2019 19:00 - 31.12.2019 20:00   \n",
       "8757  31.12.2019 20:00 - 31.12.2019 21:00   \n",
       "8758  31.12.2019 21:00 - 31.12.2019 22:00   \n",
       "8759  31.12.2019 22:00 - 31.12.2019 23:00   \n",
       "8760  31.12.2019 23:00 - 01.01.2020 00:00   \n",
       "\n",
       "     Netherlands (NL) > Denmark (DK) [MW]  \\\n",
       "0                                       0   \n",
       "1                                       0   \n",
       "2                                       0   \n",
       "3                                       0   \n",
       "4                                       0   \n",
       "...                                   ...   \n",
       "8756                                 0.00   \n",
       "8757                                 0.00   \n",
       "8758                                 0.00   \n",
       "8759                                 0.00   \n",
       "8760                                 0.00   \n",
       "\n",
       "     Denmark (DK) > Netherlands (NL) [MW]    Tot  \n",
       "0                                       0    0.0  \n",
       "1                                       0    0.0  \n",
       "2                                       0    0.0  \n",
       "3                                       0    0.0  \n",
       "4                                       0    0.0  \n",
       "...                                   ...    ...  \n",
       "8756                               680.00  680.0  \n",
       "8757                               679.00  679.0  \n",
       "8758                               652.00  652.0  \n",
       "8759                               650.00  650.0  \n",
       "8760                               679.00  679.0  \n",
       "\n",
       "[8761 rows x 4 columns]"
      ],
      "text/html": "<div>\n<style scoped>\n    .dataframe tbody tr th:only-of-type {\n        vertical-align: middle;\n    }\n\n    .dataframe tbody tr th {\n        vertical-align: top;\n    }\n\n    .dataframe thead th {\n        text-align: right;\n    }\n</style>\n<table border=\"1\" class=\"dataframe\">\n  <thead>\n    <tr style=\"text-align: right;\">\n      <th></th>\n      <th>Time (CET)</th>\n      <th>Netherlands (NL) &gt; Denmark (DK) [MW]</th>\n      <th>Denmark (DK) &gt; Netherlands (NL) [MW]</th>\n      <th>Tot</th>\n    </tr>\n  </thead>\n  <tbody>\n    <tr>\n      <th>0</th>\n      <td>01.01.2019 00:00 - 01.01.2019 01:00</td>\n      <td>0</td>\n      <td>0</td>\n      <td>0.0</td>\n    </tr>\n    <tr>\n      <th>1</th>\n      <td>01.01.2019 01:00 - 01.01.2019 02:00</td>\n      <td>0</td>\n      <td>0</td>\n      <td>0.0</td>\n    </tr>\n    <tr>\n      <th>2</th>\n      <td>01.01.2019 02:00 - 01.01.2019 03:00</td>\n      <td>0</td>\n      <td>0</td>\n      <td>0.0</td>\n    </tr>\n    <tr>\n      <th>3</th>\n      <td>01.01.2019 03:00 - 01.01.2019 04:00</td>\n      <td>0</td>\n      <td>0</td>\n      <td>0.0</td>\n    </tr>\n    <tr>\n      <th>4</th>\n      <td>01.01.2019 04:00 - 01.01.2019 05:00</td>\n      <td>0</td>\n      <td>0</td>\n      <td>0.0</td>\n    </tr>\n    <tr>\n      <th>...</th>\n      <td>...</td>\n      <td>...</td>\n      <td>...</td>\n      <td>...</td>\n    </tr>\n    <tr>\n      <th>8756</th>\n      <td>31.12.2019 19:00 - 31.12.2019 20:00</td>\n      <td>0.00</td>\n      <td>680.00</td>\n      <td>680.0</td>\n    </tr>\n    <tr>\n      <th>8757</th>\n      <td>31.12.2019 20:00 - 31.12.2019 21:00</td>\n      <td>0.00</td>\n      <td>679.00</td>\n      <td>679.0</td>\n    </tr>\n    <tr>\n      <th>8758</th>\n      <td>31.12.2019 21:00 - 31.12.2019 22:00</td>\n      <td>0.00</td>\n      <td>652.00</td>\n      <td>652.0</td>\n    </tr>\n    <tr>\n      <th>8759</th>\n      <td>31.12.2019 22:00 - 31.12.2019 23:00</td>\n      <td>0.00</td>\n      <td>650.00</td>\n      <td>650.0</td>\n    </tr>\n    <tr>\n      <th>8760</th>\n      <td>31.12.2019 23:00 - 01.01.2020 00:00</td>\n      <td>0.00</td>\n      <td>679.00</td>\n      <td>679.0</td>\n    </tr>\n  </tbody>\n</table>\n<p>8761 rows × 4 columns</p>\n</div>"
     },
     "metadata": {},
     "execution_count": 122
    }
   ],
   "source": [
    "df"
   ]
  },
  {
   "cell_type": "code",
   "execution_count": 127,
   "metadata": {},
   "outputs": [
    {
     "output_type": "execute_result",
     "data": {
      "text/plain": [
       "0       <class 'int'>\n",
       "1       <class 'int'>\n",
       "2       <class 'int'>\n",
       "3       <class 'int'>\n",
       "4       <class 'int'>\n",
       "            ...      \n",
       "8756    <class 'str'>\n",
       "8757    <class 'str'>\n",
       "8758    <class 'str'>\n",
       "8759    <class 'str'>\n",
       "8760    <class 'str'>\n",
       "Name: Netherlands (NL) > Denmark (DK) [MW], Length: 8761, dtype: object"
      ]
     },
     "metadata": {},
     "execution_count": 127
    }
   ],
   "source": [
    "df.iloc[:,1].apply(type)"
   ]
  },
  {
   "cell_type": "code",
   "execution_count": 100,
   "metadata": {},
   "outputs": [],
   "source": []
  },
  {
   "cell_type": "code",
   "execution_count": 105,
   "metadata": {},
   "outputs": [
    {
     "output_type": "execute_result",
     "data": {
      "text/plain": [
       "0       0.0\n",
       "1       0.0\n",
       "2       0.0\n",
       "3       0.0\n",
       "4       0.0\n",
       "       ... \n",
       "8756    0.0\n",
       "8757    0.0\n",
       "8758    0.0\n",
       "8759    0.0\n",
       "8760    0.0\n",
       "Name: Netherlands (NL) > Denmark (DK) [MW], Length: 8761, dtype: float32"
      ]
     },
     "metadata": {},
     "execution_count": 105
    }
   ],
   "source": [
    "pd.to_numeric(df.iloc[:,1],downcast='float')"
   ]
  },
  {
   "cell_type": "code",
   "execution_count": null,
   "metadata": {},
   "outputs": [],
   "source": []
  }
 ]
}