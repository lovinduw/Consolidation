{
 "metadata": {
  "language_info": {
   "codemirror_mode": {
    "name": "ipython",
    "version": 3
   },
   "file_extension": ".py",
   "mimetype": "text/x-python",
   "name": "python",
   "nbconvert_exporter": "python",
   "pygments_lexer": "ipython3",
   "version": "3.9.1"
  },
  "orig_nbformat": 2,
  "kernelspec": {
   "name": "python391jvsc74a57bd0ecf5722fdaf1897a315d257d89d94520bfcaa453217d5becf09b39e73618b0de",
   "display_name": "Python 3.9.1 64-bit ('base': conda)"
  }
 },
 "nbformat": 4,
 "nbformat_minor": 2,
 "cells": [
  {
   "cell_type": "code",
   "execution_count": 2,
   "metadata": {},
   "outputs": [],
   "source": [
    "import pandas as pd\n",
    "import numpy as np\n",
    "import openpyxl"
   ]
  },
  {
   "cell_type": "code",
   "execution_count": 5,
   "metadata": {},
   "outputs": [],
   "source": [
    "ember_data=pd.read_excel('../Data Sources/Ember/Ember-EU-Electricity-Data-April-2021.xlsx','Data')\n"
   ]
  },
  {
   "cell_type": "code",
   "execution_count": 7,
   "metadata": {},
   "outputs": [
    {
     "output_type": "execute_result",
     "data": {
      "text/plain": [
       "                      Date  Year  Month            Area       Area.Type  \\\n",
       "0      2018-01-01 00:00:00  2018      1         Austria      EU Country   \n",
       "1      2018-01-01 00:00:00  2018      1         Austria      EU Country   \n",
       "2      2018-01-01 00:00:00  2018      1         Austria      EU Country   \n",
       "3      2018-01-01 00:00:00  2018      1         Austria      EU Country   \n",
       "4      2018-01-01 00:00:00  2018      1         Austria      EU Country   \n",
       "...                    ...   ...    ...             ...             ...   \n",
       "14161                44287  2021      4  United Kingdom  non EU Country   \n",
       "14162                44287  2021      4  United Kingdom  non EU Country   \n",
       "14163                44287  2021      4  United Kingdom  non EU Country   \n",
       "14164                44287  2021      4  United Kingdom  non EU Country   \n",
       "14165                44287  2021      4  United Kingdom  non EU Country   \n",
       "\n",
       "                     Variable           Variable.Type  Generation (GWh)  \\\n",
       "0                      Demand                  Demand       5971.099600   \n",
       "1                  Production              Production       5219.272910   \n",
       "2                 Net imports             Net imports        594.045980   \n",
       "3      Statistical difference  Statistical difference        157.780710   \n",
       "4                         Gas                  Fossil       1143.633200   \n",
       "...                       ...                     ...               ...   \n",
       "14161               Bioenergy              Renewables       1376.693000   \n",
       "14162                   Hydro              Renewables        319.500500   \n",
       "14163                   Solar              Renewables       1574.511000   \n",
       "14164                    Wind              Renewables       3878.631151   \n",
       "14165                 Nuclear                 Nuclear       3575.625000   \n",
       "\n",
       "       YoY change (%)  YoY change (GWh)  Cumul. Generation (GWh)  \\\n",
       "0                 NaN               NaN              5971.099600   \n",
       "1                 NaN               NaN              5219.272910   \n",
       "2                 NaN               NaN               594.045980   \n",
       "3                 NaN               NaN               157.780710   \n",
       "4                 NaN               NaN              1143.633200   \n",
       "...               ...               ...                      ...   \n",
       "14161       -5.386509        -78.377500              6540.935008   \n",
       "14162       15.893951         43.817000              1313.105264   \n",
       "14163       -2.254433        -36.315000              3266.650912   \n",
       "14164      -16.737361       -779.678049             23933.344341   \n",
       "14165       -4.905765       -184.461000             14420.486660   \n",
       "\n",
       "       Cumul. YoY change (%)  Cumul. YoY change (GWh) Demand Flag  Unnamed: 14  \n",
       "0                        NaN                      NaN         NaN          NaN  \n",
       "1                        NaN                      NaN         NaN          NaN  \n",
       "2                        NaN                      NaN         NaN          NaN  \n",
       "3                        NaN                      NaN         NaN          NaN  \n",
       "4                        NaN                      NaN         NaN          NaN  \n",
       "...                      ...                      ...         ...          ...  \n",
       "14161               5.165331               321.266444         NaN          NaN  \n",
       "14162             -27.418021              -496.028753         NaN          NaN  \n",
       "14163              -8.706244              -311.524685         NaN          NaN  \n",
       "14164             -21.551313             -6574.934634         NaN          NaN  \n",
       "14165             -10.196908             -1637.408842         NaN          NaN  \n",
       "\n",
       "[14166 rows x 15 columns]"
      ],
      "text/html": "<div>\n<style scoped>\n    .dataframe tbody tr th:only-of-type {\n        vertical-align: middle;\n    }\n\n    .dataframe tbody tr th {\n        vertical-align: top;\n    }\n\n    .dataframe thead th {\n        text-align: right;\n    }\n</style>\n<table border=\"1\" class=\"dataframe\">\n  <thead>\n    <tr style=\"text-align: right;\">\n      <th></th>\n      <th>Date</th>\n      <th>Year</th>\n      <th>Month</th>\n      <th>Area</th>\n      <th>Area.Type</th>\n      <th>Variable</th>\n      <th>Variable.Type</th>\n      <th>Generation (GWh)</th>\n      <th>YoY change (%)</th>\n      <th>YoY change (GWh)</th>\n      <th>Cumul. Generation (GWh)</th>\n      <th>Cumul. YoY change (%)</th>\n      <th>Cumul. YoY change (GWh)</th>\n      <th>Demand Flag</th>\n      <th>Unnamed: 14</th>\n    </tr>\n  </thead>\n  <tbody>\n    <tr>\n      <th>0</th>\n      <td>2018-01-01 00:00:00</td>\n      <td>2018</td>\n      <td>1</td>\n      <td>Austria</td>\n      <td>EU Country</td>\n      <td>Demand</td>\n      <td>Demand</td>\n      <td>5971.099600</td>\n      <td>NaN</td>\n      <td>NaN</td>\n      <td>5971.099600</td>\n      <td>NaN</td>\n      <td>NaN</td>\n      <td>NaN</td>\n      <td>NaN</td>\n    </tr>\n    <tr>\n      <th>1</th>\n      <td>2018-01-01 00:00:00</td>\n      <td>2018</td>\n      <td>1</td>\n      <td>Austria</td>\n      <td>EU Country</td>\n      <td>Production</td>\n      <td>Production</td>\n      <td>5219.272910</td>\n      <td>NaN</td>\n      <td>NaN</td>\n      <td>5219.272910</td>\n      <td>NaN</td>\n      <td>NaN</td>\n      <td>NaN</td>\n      <td>NaN</td>\n    </tr>\n    <tr>\n      <th>2</th>\n      <td>2018-01-01 00:00:00</td>\n      <td>2018</td>\n      <td>1</td>\n      <td>Austria</td>\n      <td>EU Country</td>\n      <td>Net imports</td>\n      <td>Net imports</td>\n      <td>594.045980</td>\n      <td>NaN</td>\n      <td>NaN</td>\n      <td>594.045980</td>\n      <td>NaN</td>\n      <td>NaN</td>\n      <td>NaN</td>\n      <td>NaN</td>\n    </tr>\n    <tr>\n      <th>3</th>\n      <td>2018-01-01 00:00:00</td>\n      <td>2018</td>\n      <td>1</td>\n      <td>Austria</td>\n      <td>EU Country</td>\n      <td>Statistical difference</td>\n      <td>Statistical difference</td>\n      <td>157.780710</td>\n      <td>NaN</td>\n      <td>NaN</td>\n      <td>157.780710</td>\n      <td>NaN</td>\n      <td>NaN</td>\n      <td>NaN</td>\n      <td>NaN</td>\n    </tr>\n    <tr>\n      <th>4</th>\n      <td>2018-01-01 00:00:00</td>\n      <td>2018</td>\n      <td>1</td>\n      <td>Austria</td>\n      <td>EU Country</td>\n      <td>Gas</td>\n      <td>Fossil</td>\n      <td>1143.633200</td>\n      <td>NaN</td>\n      <td>NaN</td>\n      <td>1143.633200</td>\n      <td>NaN</td>\n      <td>NaN</td>\n      <td>NaN</td>\n      <td>NaN</td>\n    </tr>\n    <tr>\n      <th>...</th>\n      <td>...</td>\n      <td>...</td>\n      <td>...</td>\n      <td>...</td>\n      <td>...</td>\n      <td>...</td>\n      <td>...</td>\n      <td>...</td>\n      <td>...</td>\n      <td>...</td>\n      <td>...</td>\n      <td>...</td>\n      <td>...</td>\n      <td>...</td>\n      <td>...</td>\n    </tr>\n    <tr>\n      <th>14161</th>\n      <td>44287</td>\n      <td>2021</td>\n      <td>4</td>\n      <td>United Kingdom</td>\n      <td>non EU Country</td>\n      <td>Bioenergy</td>\n      <td>Renewables</td>\n      <td>1376.693000</td>\n      <td>-5.386509</td>\n      <td>-78.377500</td>\n      <td>6540.935008</td>\n      <td>5.165331</td>\n      <td>321.266444</td>\n      <td>NaN</td>\n      <td>NaN</td>\n    </tr>\n    <tr>\n      <th>14162</th>\n      <td>44287</td>\n      <td>2021</td>\n      <td>4</td>\n      <td>United Kingdom</td>\n      <td>non EU Country</td>\n      <td>Hydro</td>\n      <td>Renewables</td>\n      <td>319.500500</td>\n      <td>15.893951</td>\n      <td>43.817000</td>\n      <td>1313.105264</td>\n      <td>-27.418021</td>\n      <td>-496.028753</td>\n      <td>NaN</td>\n      <td>NaN</td>\n    </tr>\n    <tr>\n      <th>14163</th>\n      <td>44287</td>\n      <td>2021</td>\n      <td>4</td>\n      <td>United Kingdom</td>\n      <td>non EU Country</td>\n      <td>Solar</td>\n      <td>Renewables</td>\n      <td>1574.511000</td>\n      <td>-2.254433</td>\n      <td>-36.315000</td>\n      <td>3266.650912</td>\n      <td>-8.706244</td>\n      <td>-311.524685</td>\n      <td>NaN</td>\n      <td>NaN</td>\n    </tr>\n    <tr>\n      <th>14164</th>\n      <td>44287</td>\n      <td>2021</td>\n      <td>4</td>\n      <td>United Kingdom</td>\n      <td>non EU Country</td>\n      <td>Wind</td>\n      <td>Renewables</td>\n      <td>3878.631151</td>\n      <td>-16.737361</td>\n      <td>-779.678049</td>\n      <td>23933.344341</td>\n      <td>-21.551313</td>\n      <td>-6574.934634</td>\n      <td>NaN</td>\n      <td>NaN</td>\n    </tr>\n    <tr>\n      <th>14165</th>\n      <td>44287</td>\n      <td>2021</td>\n      <td>4</td>\n      <td>United Kingdom</td>\n      <td>non EU Country</td>\n      <td>Nuclear</td>\n      <td>Nuclear</td>\n      <td>3575.625000</td>\n      <td>-4.905765</td>\n      <td>-184.461000</td>\n      <td>14420.486660</td>\n      <td>-10.196908</td>\n      <td>-1637.408842</td>\n      <td>NaN</td>\n      <td>NaN</td>\n    </tr>\n  </tbody>\n</table>\n<p>14166 rows × 15 columns</p>\n</div>"
     },
     "metadata": {},
     "execution_count": 7
    }
   ],
   "source": [
    "ember_data\n"
   ]
  },
  {
   "cell_type": "code",
   "execution_count": null,
   "metadata": {},
   "outputs": [],
   "source": []
  }
 ]
}