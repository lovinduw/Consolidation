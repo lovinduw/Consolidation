{
 "metadata": {
  "language_info": {
   "codemirror_mode": {
    "name": "ipython",
    "version": 3
   },
   "file_extension": ".py",
   "mimetype": "text/x-python",
   "name": "python",
   "nbconvert_exporter": "python",
   "pygments_lexer": "ipython3",
   "version": "3.9.1"
  },
  "orig_nbformat": 2,
  "kernelspec": {
   "name": "python391jvsc74a57bd0ecf5722fdaf1897a315d257d89d94520bfcaa453217d5becf09b39e73618b0de",
   "display_name": "Python 3.9.1 64-bit ('base': conda)"
  }
 },
 "nbformat": 4,
 "nbformat_minor": 2,
 "cells": [
  {
   "cell_type": "code",
   "execution_count": 1,
   "metadata": {},
   "outputs": [],
   "source": [
    "import pandas as pd\n",
    "import numpy as np\n",
    "import openpyxl"
   ]
  },
  {
   "cell_type": "code",
   "execution_count": 2,
   "metadata": {},
   "outputs": [],
   "source": [
    "ember_data=pd.read_excel('../Data Sources/Ember/Ember-EU-Electricity-Data-April-2021.xlsx','Data')\n"
   ]
  },
  {
   "cell_type": "code",
   "execution_count": 12,
   "metadata": {},
   "outputs": [
    {
     "output_type": "execute_result",
     "data": {
      "text/plain": [
       "                   Date  Year  Month     Area   Area.Type  \\\n",
       "0   2018-01-01 00:00:00  2018      1  Austria  EU Country   \n",
       "1   2018-01-01 00:00:00  2018      1  Austria  EU Country   \n",
       "2   2018-01-01 00:00:00  2018      1  Austria  EU Country   \n",
       "3   2018-01-01 00:00:00  2018      1  Austria  EU Country   \n",
       "4   2018-01-01 00:00:00  2018      1  Austria  EU Country   \n",
       "5   2018-01-01 00:00:00  2018      1  Austria  EU Country   \n",
       "6   2018-01-01 00:00:00  2018      1  Austria  EU Country   \n",
       "7   2018-01-01 00:00:00  2018      1  Austria  EU Country   \n",
       "8   2018-01-01 00:00:00  2018      1  Austria  EU Country   \n",
       "9   2018-01-01 00:00:00  2018      1  Austria  EU Country   \n",
       "10  2018-01-01 00:00:00  2018      1  Austria  EU Country   \n",
       "11  2018-01-01 00:00:00  2018      1  Austria  EU Country   \n",
       "12  2018-01-01 00:00:00  2018      1  Austria  EU Country   \n",
       "\n",
       "                  Variable           Variable.Type  Generation (GWh)  \\\n",
       "0                   Demand                  Demand        5971.09960   \n",
       "1               Production              Production        5219.27291   \n",
       "2              Net imports             Net imports         594.04598   \n",
       "3   Statistical difference  Statistical difference         157.78071   \n",
       "4                      Gas                  Fossil        1143.63320   \n",
       "5                Hard Coal                  Fossil         216.46680   \n",
       "6             Other fossil                  Fossil          16.36800   \n",
       "7                Bioenergy              Renewables         237.24400   \n",
       "8                    Hydro              Renewables        2897.37320   \n",
       "9         Other renewables              Renewables           0.05208   \n",
       "10                   Solar              Renewables          33.98499   \n",
       "11                    Wind              Renewables         599.75064   \n",
       "12                   Waste                   Waste          74.40000   \n",
       "\n",
       "    YoY change (%)  YoY change (GWh)  Cumul. Generation (GWh)  \\\n",
       "0              NaN               NaN               5971.09960   \n",
       "1              NaN               NaN               5219.27291   \n",
       "2              NaN               NaN                594.04598   \n",
       "3              NaN               NaN                157.78071   \n",
       "4              NaN               NaN               1143.63320   \n",
       "5              NaN               NaN                216.46680   \n",
       "6              NaN               NaN                 16.36800   \n",
       "7              NaN               NaN                237.24400   \n",
       "8              NaN               NaN               2897.37320   \n",
       "9              NaN               NaN                  0.05208   \n",
       "10             NaN               NaN                 33.98499   \n",
       "11             NaN               NaN                599.75064   \n",
       "12             NaN               NaN                 74.40000   \n",
       "\n",
       "    Cumul. YoY change (%)  Cumul. YoY change (GWh) Demand Flag  Unnamed: 14  \n",
       "0                     NaN                      NaN         NaN          NaN  \n",
       "1                     NaN                      NaN         NaN          NaN  \n",
       "2                     NaN                      NaN         NaN          NaN  \n",
       "3                     NaN                      NaN         NaN          NaN  \n",
       "4                     NaN                      NaN         NaN          NaN  \n",
       "5                     NaN                      NaN         NaN          NaN  \n",
       "6                     NaN                      NaN         NaN          NaN  \n",
       "7                     NaN                      NaN         NaN          NaN  \n",
       "8                     NaN                      NaN         NaN          NaN  \n",
       "9                     NaN                      NaN         NaN          NaN  \n",
       "10                    NaN                      NaN         NaN          NaN  \n",
       "11                    NaN                      NaN         NaN          NaN  \n",
       "12                    NaN                      NaN         NaN          NaN  "
      ],
      "text/html": "<div>\n<style scoped>\n    .dataframe tbody tr th:only-of-type {\n        vertical-align: middle;\n    }\n\n    .dataframe tbody tr th {\n        vertical-align: top;\n    }\n\n    .dataframe thead th {\n        text-align: right;\n    }\n</style>\n<table border=\"1\" class=\"dataframe\">\n  <thead>\n    <tr style=\"text-align: right;\">\n      <th></th>\n      <th>Date</th>\n      <th>Year</th>\n      <th>Month</th>\n      <th>Area</th>\n      <th>Area.Type</th>\n      <th>Variable</th>\n      <th>Variable.Type</th>\n      <th>Generation (GWh)</th>\n      <th>YoY change (%)</th>\n      <th>YoY change (GWh)</th>\n      <th>Cumul. Generation (GWh)</th>\n      <th>Cumul. YoY change (%)</th>\n      <th>Cumul. YoY change (GWh)</th>\n      <th>Demand Flag</th>\n      <th>Unnamed: 14</th>\n    </tr>\n  </thead>\n  <tbody>\n    <tr>\n      <th>0</th>\n      <td>2018-01-01 00:00:00</td>\n      <td>2018</td>\n      <td>1</td>\n      <td>Austria</td>\n      <td>EU Country</td>\n      <td>Demand</td>\n      <td>Demand</td>\n      <td>5971.09960</td>\n      <td>NaN</td>\n      <td>NaN</td>\n      <td>5971.09960</td>\n      <td>NaN</td>\n      <td>NaN</td>\n      <td>NaN</td>\n      <td>NaN</td>\n    </tr>\n    <tr>\n      <th>1</th>\n      <td>2018-01-01 00:00:00</td>\n      <td>2018</td>\n      <td>1</td>\n      <td>Austria</td>\n      <td>EU Country</td>\n      <td>Production</td>\n      <td>Production</td>\n      <td>5219.27291</td>\n      <td>NaN</td>\n      <td>NaN</td>\n      <td>5219.27291</td>\n      <td>NaN</td>\n      <td>NaN</td>\n      <td>NaN</td>\n      <td>NaN</td>\n    </tr>\n    <tr>\n      <th>2</th>\n      <td>2018-01-01 00:00:00</td>\n      <td>2018</td>\n      <td>1</td>\n      <td>Austria</td>\n      <td>EU Country</td>\n      <td>Net imports</td>\n      <td>Net imports</td>\n      <td>594.04598</td>\n      <td>NaN</td>\n      <td>NaN</td>\n      <td>594.04598</td>\n      <td>NaN</td>\n      <td>NaN</td>\n      <td>NaN</td>\n      <td>NaN</td>\n    </tr>\n    <tr>\n      <th>3</th>\n      <td>2018-01-01 00:00:00</td>\n      <td>2018</td>\n      <td>1</td>\n      <td>Austria</td>\n      <td>EU Country</td>\n      <td>Statistical difference</td>\n      <td>Statistical difference</td>\n      <td>157.78071</td>\n      <td>NaN</td>\n      <td>NaN</td>\n      <td>157.78071</td>\n      <td>NaN</td>\n      <td>NaN</td>\n      <td>NaN</td>\n      <td>NaN</td>\n    </tr>\n    <tr>\n      <th>4</th>\n      <td>2018-01-01 00:00:00</td>\n      <td>2018</td>\n      <td>1</td>\n      <td>Austria</td>\n      <td>EU Country</td>\n      <td>Gas</td>\n      <td>Fossil</td>\n      <td>1143.63320</td>\n      <td>NaN</td>\n      <td>NaN</td>\n      <td>1143.63320</td>\n      <td>NaN</td>\n      <td>NaN</td>\n      <td>NaN</td>\n      <td>NaN</td>\n    </tr>\n    <tr>\n      <th>5</th>\n      <td>2018-01-01 00:00:00</td>\n      <td>2018</td>\n      <td>1</td>\n      <td>Austria</td>\n      <td>EU Country</td>\n      <td>Hard Coal</td>\n      <td>Fossil</td>\n      <td>216.46680</td>\n      <td>NaN</td>\n      <td>NaN</td>\n      <td>216.46680</td>\n      <td>NaN</td>\n      <td>NaN</td>\n      <td>NaN</td>\n      <td>NaN</td>\n    </tr>\n    <tr>\n      <th>6</th>\n      <td>2018-01-01 00:00:00</td>\n      <td>2018</td>\n      <td>1</td>\n      <td>Austria</td>\n      <td>EU Country</td>\n      <td>Other fossil</td>\n      <td>Fossil</td>\n      <td>16.36800</td>\n      <td>NaN</td>\n      <td>NaN</td>\n      <td>16.36800</td>\n      <td>NaN</td>\n      <td>NaN</td>\n      <td>NaN</td>\n      <td>NaN</td>\n    </tr>\n    <tr>\n      <th>7</th>\n      <td>2018-01-01 00:00:00</td>\n      <td>2018</td>\n      <td>1</td>\n      <td>Austria</td>\n      <td>EU Country</td>\n      <td>Bioenergy</td>\n      <td>Renewables</td>\n      <td>237.24400</td>\n      <td>NaN</td>\n      <td>NaN</td>\n      <td>237.24400</td>\n      <td>NaN</td>\n      <td>NaN</td>\n      <td>NaN</td>\n      <td>NaN</td>\n    </tr>\n    <tr>\n      <th>8</th>\n      <td>2018-01-01 00:00:00</td>\n      <td>2018</td>\n      <td>1</td>\n      <td>Austria</td>\n      <td>EU Country</td>\n      <td>Hydro</td>\n      <td>Renewables</td>\n      <td>2897.37320</td>\n      <td>NaN</td>\n      <td>NaN</td>\n      <td>2897.37320</td>\n      <td>NaN</td>\n      <td>NaN</td>\n      <td>NaN</td>\n      <td>NaN</td>\n    </tr>\n    <tr>\n      <th>9</th>\n      <td>2018-01-01 00:00:00</td>\n      <td>2018</td>\n      <td>1</td>\n      <td>Austria</td>\n      <td>EU Country</td>\n      <td>Other renewables</td>\n      <td>Renewables</td>\n      <td>0.05208</td>\n      <td>NaN</td>\n      <td>NaN</td>\n      <td>0.05208</td>\n      <td>NaN</td>\n      <td>NaN</td>\n      <td>NaN</td>\n      <td>NaN</td>\n    </tr>\n    <tr>\n      <th>10</th>\n      <td>2018-01-01 00:00:00</td>\n      <td>2018</td>\n      <td>1</td>\n      <td>Austria</td>\n      <td>EU Country</td>\n      <td>Solar</td>\n      <td>Renewables</td>\n      <td>33.98499</td>\n      <td>NaN</td>\n      <td>NaN</td>\n      <td>33.98499</td>\n      <td>NaN</td>\n      <td>NaN</td>\n      <td>NaN</td>\n      <td>NaN</td>\n    </tr>\n    <tr>\n      <th>11</th>\n      <td>2018-01-01 00:00:00</td>\n      <td>2018</td>\n      <td>1</td>\n      <td>Austria</td>\n      <td>EU Country</td>\n      <td>Wind</td>\n      <td>Renewables</td>\n      <td>599.75064</td>\n      <td>NaN</td>\n      <td>NaN</td>\n      <td>599.75064</td>\n      <td>NaN</td>\n      <td>NaN</td>\n      <td>NaN</td>\n      <td>NaN</td>\n    </tr>\n    <tr>\n      <th>12</th>\n      <td>2018-01-01 00:00:00</td>\n      <td>2018</td>\n      <td>1</td>\n      <td>Austria</td>\n      <td>EU Country</td>\n      <td>Waste</td>\n      <td>Waste</td>\n      <td>74.40000</td>\n      <td>NaN</td>\n      <td>NaN</td>\n      <td>74.40000</td>\n      <td>NaN</td>\n      <td>NaN</td>\n      <td>NaN</td>\n      <td>NaN</td>\n    </tr>\n  </tbody>\n</table>\n</div>"
     },
     "metadata": {},
     "execution_count": 12
    }
   ],
   "source": [
    "ember_data.iloc[:13,:]"
   ]
  },
  {
   "cell_type": "code",
   "execution_count": 81,
   "metadata": {},
   "outputs": [],
   "source": [
    "dp=ember_data.groupby(['Year','Month','Area','Variable.Type'])['Generation (GWh)'].sum()"
   ]
  },
  {
   "cell_type": "code",
   "execution_count": 86,
   "metadata": {},
   "outputs": [
    {
     "output_type": "execute_result",
     "data": {
      "text/plain": [
       "                                                  Generation (GWh)\n",
       "Year Month Area           Variable.Type                           \n",
       "2018 1     Austria        Demand                       5971.099600\n",
       "                          Fossil                       1376.468000\n",
       "                          Net imports                   594.045980\n",
       "                          Production                   5219.272910\n",
       "                          Renewables                   3768.404910\n",
       "...                                                            ...\n",
       "2021 4     United Kingdom Net imports                   569.161165\n",
       "                          Nuclear                      3575.625000\n",
       "                          Production                  21602.246662\n",
       "                          Renewables                   7149.335651\n",
       "                          Statistical difference       2007.627145\n",
       "\n",
       "[8600 rows x 1 columns]"
      ],
      "text/html": "<div>\n<style scoped>\n    .dataframe tbody tr th:only-of-type {\n        vertical-align: middle;\n    }\n\n    .dataframe tbody tr th {\n        vertical-align: top;\n    }\n\n    .dataframe thead th {\n        text-align: right;\n    }\n</style>\n<table border=\"1\" class=\"dataframe\">\n  <thead>\n    <tr style=\"text-align: right;\">\n      <th></th>\n      <th></th>\n      <th></th>\n      <th></th>\n      <th>Generation (GWh)</th>\n    </tr>\n    <tr>\n      <th>Year</th>\n      <th>Month</th>\n      <th>Area</th>\n      <th>Variable.Type</th>\n      <th></th>\n    </tr>\n  </thead>\n  <tbody>\n    <tr>\n      <th rowspan=\"5\" valign=\"top\">2018</th>\n      <th rowspan=\"5\" valign=\"top\">1</th>\n      <th rowspan=\"5\" valign=\"top\">Austria</th>\n      <th>Demand</th>\n      <td>5971.099600</td>\n    </tr>\n    <tr>\n      <th>Fossil</th>\n      <td>1376.468000</td>\n    </tr>\n    <tr>\n      <th>Net imports</th>\n      <td>594.045980</td>\n    </tr>\n    <tr>\n      <th>Production</th>\n      <td>5219.272910</td>\n    </tr>\n    <tr>\n      <th>Renewables</th>\n      <td>3768.404910</td>\n    </tr>\n    <tr>\n      <th>...</th>\n      <th>...</th>\n      <th>...</th>\n      <th>...</th>\n      <td>...</td>\n    </tr>\n    <tr>\n      <th rowspan=\"5\" valign=\"top\">2021</th>\n      <th rowspan=\"5\" valign=\"top\">4</th>\n      <th rowspan=\"5\" valign=\"top\">United Kingdom</th>\n      <th>Net imports</th>\n      <td>569.161165</td>\n    </tr>\n    <tr>\n      <th>Nuclear</th>\n      <td>3575.625000</td>\n    </tr>\n    <tr>\n      <th>Production</th>\n      <td>21602.246662</td>\n    </tr>\n    <tr>\n      <th>Renewables</th>\n      <td>7149.335651</td>\n    </tr>\n    <tr>\n      <th>Statistical difference</th>\n      <td>2007.627145</td>\n    </tr>\n  </tbody>\n</table>\n<p>8600 rows × 1 columns</p>\n</div>"
     },
     "metadata": {},
     "execution_count": 86
    }
   ],
   "source": [
    "df=dp.to_frame()\n",
    "df"
   ]
  },
  {
   "cell_type": "code",
   "execution_count": null,
   "metadata": {},
   "outputs": [],
   "source": []
  }
 ]
}