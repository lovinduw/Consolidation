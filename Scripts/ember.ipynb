{
 "metadata": {
  "language_info": {
   "codemirror_mode": {
    "name": "ipython",
    "version": 3
   },
   "file_extension": ".py",
   "mimetype": "text/x-python",
   "name": "python",
   "nbconvert_exporter": "python",
   "pygments_lexer": "ipython3",
   "version": "3.9.1"
  },
  "orig_nbformat": 2,
  "kernelspec": {
   "name": "python391jvsc74a57bd0ecf5722fdaf1897a315d257d89d94520bfcaa453217d5becf09b39e73618b0de",
   "display_name": "Python 3.9.1 64-bit ('base': conda)"
  }
 },
 "nbformat": 4,
 "nbformat_minor": 2,
 "cells": [
  {
   "cell_type": "code",
   "execution_count": 1,
   "metadata": {},
   "outputs": [],
   "source": [
    "import pandas as pd\n",
    "import numpy as np\n",
    "# import the openpyxl library to read a specific sheet from .xlsx excel file \n",
    "import openpyxl"
   ]
  },
  {
   "cell_type": "code",
   "execution_count": 57,
   "metadata": {},
   "outputs": [],
   "source": [
    "ember_data=pd.read_excel('../Data Sources/Ember/Ember-EU-Electricity-Data-April-2021.xlsx','Data')\n"
   ]
  },
  {
   "cell_type": "code",
   "execution_count": 58,
   "metadata": {},
   "outputs": [
    {
     "output_type": "execute_result",
     "data": {
      "text/plain": [
       "                  Date  Year  Month     Area   Area.Type  \\\n",
       "0  2018-01-01 00:00:00  2018      1  Austria  EU Country   \n",
       "1  2018-01-01 00:00:00  2018      1  Austria  EU Country   \n",
       "2  2018-01-01 00:00:00  2018      1  Austria  EU Country   \n",
       "3  2018-01-01 00:00:00  2018      1  Austria  EU Country   \n",
       "4  2018-01-01 00:00:00  2018      1  Austria  EU Country   \n",
       "\n",
       "                 Variable           Variable.Type  Generation (GWh)  \\\n",
       "0                  Demand                  Demand        5971.09960   \n",
       "1              Production              Production        5219.27291   \n",
       "2             Net imports             Net imports         594.04598   \n",
       "3  Statistical difference  Statistical difference         157.78071   \n",
       "4                     Gas                  Fossil        1143.63320   \n",
       "\n",
       "   YoY change (%)  YoY change (GWh)  Cumul. Generation (GWh)  \\\n",
       "0             NaN               NaN               5971.09960   \n",
       "1             NaN               NaN               5219.27291   \n",
       "2             NaN               NaN                594.04598   \n",
       "3             NaN               NaN                157.78071   \n",
       "4             NaN               NaN               1143.63320   \n",
       "\n",
       "   Cumul. YoY change (%)  Cumul. YoY change (GWh) Demand Flag  Unnamed: 14  \n",
       "0                    NaN                      NaN         NaN          NaN  \n",
       "1                    NaN                      NaN         NaN          NaN  \n",
       "2                    NaN                      NaN         NaN          NaN  \n",
       "3                    NaN                      NaN         NaN          NaN  \n",
       "4                    NaN                      NaN         NaN          NaN  "
      ],
      "text/html": "<div>\n<style scoped>\n    .dataframe tbody tr th:only-of-type {\n        vertical-align: middle;\n    }\n\n    .dataframe tbody tr th {\n        vertical-align: top;\n    }\n\n    .dataframe thead th {\n        text-align: right;\n    }\n</style>\n<table border=\"1\" class=\"dataframe\">\n  <thead>\n    <tr style=\"text-align: right;\">\n      <th></th>\n      <th>Date</th>\n      <th>Year</th>\n      <th>Month</th>\n      <th>Area</th>\n      <th>Area.Type</th>\n      <th>Variable</th>\n      <th>Variable.Type</th>\n      <th>Generation (GWh)</th>\n      <th>YoY change (%)</th>\n      <th>YoY change (GWh)</th>\n      <th>Cumul. Generation (GWh)</th>\n      <th>Cumul. YoY change (%)</th>\n      <th>Cumul. YoY change (GWh)</th>\n      <th>Demand Flag</th>\n      <th>Unnamed: 14</th>\n    </tr>\n  </thead>\n  <tbody>\n    <tr>\n      <th>0</th>\n      <td>2018-01-01 00:00:00</td>\n      <td>2018</td>\n      <td>1</td>\n      <td>Austria</td>\n      <td>EU Country</td>\n      <td>Demand</td>\n      <td>Demand</td>\n      <td>5971.09960</td>\n      <td>NaN</td>\n      <td>NaN</td>\n      <td>5971.09960</td>\n      <td>NaN</td>\n      <td>NaN</td>\n      <td>NaN</td>\n      <td>NaN</td>\n    </tr>\n    <tr>\n      <th>1</th>\n      <td>2018-01-01 00:00:00</td>\n      <td>2018</td>\n      <td>1</td>\n      <td>Austria</td>\n      <td>EU Country</td>\n      <td>Production</td>\n      <td>Production</td>\n      <td>5219.27291</td>\n      <td>NaN</td>\n      <td>NaN</td>\n      <td>5219.27291</td>\n      <td>NaN</td>\n      <td>NaN</td>\n      <td>NaN</td>\n      <td>NaN</td>\n    </tr>\n    <tr>\n      <th>2</th>\n      <td>2018-01-01 00:00:00</td>\n      <td>2018</td>\n      <td>1</td>\n      <td>Austria</td>\n      <td>EU Country</td>\n      <td>Net imports</td>\n      <td>Net imports</td>\n      <td>594.04598</td>\n      <td>NaN</td>\n      <td>NaN</td>\n      <td>594.04598</td>\n      <td>NaN</td>\n      <td>NaN</td>\n      <td>NaN</td>\n      <td>NaN</td>\n    </tr>\n    <tr>\n      <th>3</th>\n      <td>2018-01-01 00:00:00</td>\n      <td>2018</td>\n      <td>1</td>\n      <td>Austria</td>\n      <td>EU Country</td>\n      <td>Statistical difference</td>\n      <td>Statistical difference</td>\n      <td>157.78071</td>\n      <td>NaN</td>\n      <td>NaN</td>\n      <td>157.78071</td>\n      <td>NaN</td>\n      <td>NaN</td>\n      <td>NaN</td>\n      <td>NaN</td>\n    </tr>\n    <tr>\n      <th>4</th>\n      <td>2018-01-01 00:00:00</td>\n      <td>2018</td>\n      <td>1</td>\n      <td>Austria</td>\n      <td>EU Country</td>\n      <td>Gas</td>\n      <td>Fossil</td>\n      <td>1143.63320</td>\n      <td>NaN</td>\n      <td>NaN</td>\n      <td>1143.63320</td>\n      <td>NaN</td>\n      <td>NaN</td>\n      <td>NaN</td>\n      <td>NaN</td>\n    </tr>\n  </tbody>\n</table>\n</div>"
     },
     "metadata": {},
     "execution_count": 58
    }
   ],
   "source": [
    "ember_data.head()"
   ]
  },
  {
   "source": [
    "# Making monthly total values: Monthly total demand, production, net imports, statistical difference, fossil, renewables and waste values of each country"
   ],
   "cell_type": "markdown",
   "metadata": {}
  },
  {
   "cell_type": "code",
   "execution_count": 60,
   "metadata": {},
   "outputs": [],
   "source": [
    "years=list(set(ember_data['Year']))\n",
    "months=list(set(ember_data['Month']))\n",
    "areas=list(set(ember_data['Area']))\n",
    "areas.sort()"
   ]
  },
  {
   "cell_type": "code",
   "execution_count": 61,
   "metadata": {},
   "outputs": [],
   "source": [
    "ember_data_copy=ember_data.copy()\n",
    "temp_list=[]\n",
    "for year in years:\n",
    "    for month in months:\n",
    "        for area in areas:\n",
    "            temp=ember_data_copy.loc[(ember_data_copy['Year']==year)&(ember_data_copy['Month']==month)&(ember_data_copy['Area']==area)].groupby(['Variable.Type'],as_index=False)['Generation (GWh)'].sum()\n",
    "            for index,row in temp.iterrows():\n",
    "                temp_list.append([year,month,area,row['Variable.Type'],row['Generation (GWh)']])"
   ]
  },
  {
   "cell_type": "code",
   "execution_count": 62,
   "metadata": {},
   "outputs": [],
   "source": [
    "monthly_data=pd.DataFrame(temp_list,columns=['Year','Month','Area','Variable.Type','Generation(GWh)'])"
   ]
  },
  {
   "cell_type": "code",
   "execution_count": 63,
   "metadata": {},
   "outputs": [
    {
     "output_type": "execute_result",
     "data": {
      "text/plain": [
       "    Year  Month     Area           Variable.Type  Generation(GWh)\n",
       "0   2018      1  Austria                  Demand      5971.099600\n",
       "1   2018      1  Austria                  Fossil      1376.468000\n",
       "2   2018      1  Austria             Net imports       594.045980\n",
       "3   2018      1  Austria              Production      5219.272910\n",
       "4   2018      1  Austria              Renewables      3768.404910\n",
       "5   2018      1  Austria  Statistical difference       157.780710\n",
       "6   2018      1  Austria                   Waste        74.400000\n",
       "7   2018      1  Belgium                  Demand      8012.633260\n",
       "8   2018      1  Belgium                  Fossil      2023.965960\n",
       "9   2018      1  Belgium             Net imports      1008.743680\n",
       "10  2018      1  Belgium                 Nuclear      3674.960630\n",
       "11  2018      1  Belgium              Production      6989.520557\n",
       "12  2018      1  Belgium              Renewables      1110.248157"
      ],
      "text/html": "<div>\n<style scoped>\n    .dataframe tbody tr th:only-of-type {\n        vertical-align: middle;\n    }\n\n    .dataframe tbody tr th {\n        vertical-align: top;\n    }\n\n    .dataframe thead th {\n        text-align: right;\n    }\n</style>\n<table border=\"1\" class=\"dataframe\">\n  <thead>\n    <tr style=\"text-align: right;\">\n      <th></th>\n      <th>Year</th>\n      <th>Month</th>\n      <th>Area</th>\n      <th>Variable.Type</th>\n      <th>Generation(GWh)</th>\n    </tr>\n  </thead>\n  <tbody>\n    <tr>\n      <th>0</th>\n      <td>2018</td>\n      <td>1</td>\n      <td>Austria</td>\n      <td>Demand</td>\n      <td>5971.099600</td>\n    </tr>\n    <tr>\n      <th>1</th>\n      <td>2018</td>\n      <td>1</td>\n      <td>Austria</td>\n      <td>Fossil</td>\n      <td>1376.468000</td>\n    </tr>\n    <tr>\n      <th>2</th>\n      <td>2018</td>\n      <td>1</td>\n      <td>Austria</td>\n      <td>Net imports</td>\n      <td>594.045980</td>\n    </tr>\n    <tr>\n      <th>3</th>\n      <td>2018</td>\n      <td>1</td>\n      <td>Austria</td>\n      <td>Production</td>\n      <td>5219.272910</td>\n    </tr>\n    <tr>\n      <th>4</th>\n      <td>2018</td>\n      <td>1</td>\n      <td>Austria</td>\n      <td>Renewables</td>\n      <td>3768.404910</td>\n    </tr>\n    <tr>\n      <th>5</th>\n      <td>2018</td>\n      <td>1</td>\n      <td>Austria</td>\n      <td>Statistical difference</td>\n      <td>157.780710</td>\n    </tr>\n    <tr>\n      <th>6</th>\n      <td>2018</td>\n      <td>1</td>\n      <td>Austria</td>\n      <td>Waste</td>\n      <td>74.400000</td>\n    </tr>\n    <tr>\n      <th>7</th>\n      <td>2018</td>\n      <td>1</td>\n      <td>Belgium</td>\n      <td>Demand</td>\n      <td>8012.633260</td>\n    </tr>\n    <tr>\n      <th>8</th>\n      <td>2018</td>\n      <td>1</td>\n      <td>Belgium</td>\n      <td>Fossil</td>\n      <td>2023.965960</td>\n    </tr>\n    <tr>\n      <th>9</th>\n      <td>2018</td>\n      <td>1</td>\n      <td>Belgium</td>\n      <td>Net imports</td>\n      <td>1008.743680</td>\n    </tr>\n    <tr>\n      <th>10</th>\n      <td>2018</td>\n      <td>1</td>\n      <td>Belgium</td>\n      <td>Nuclear</td>\n      <td>3674.960630</td>\n    </tr>\n    <tr>\n      <th>11</th>\n      <td>2018</td>\n      <td>1</td>\n      <td>Belgium</td>\n      <td>Production</td>\n      <td>6989.520557</td>\n    </tr>\n    <tr>\n      <th>12</th>\n      <td>2018</td>\n      <td>1</td>\n      <td>Belgium</td>\n      <td>Renewables</td>\n      <td>1110.248157</td>\n    </tr>\n  </tbody>\n</table>\n</div>"
     },
     "metadata": {},
     "execution_count": 63
    }
   ],
   "source": [
    "monthly_data.iloc[:13,:]"
   ]
  },
  {
   "cell_type": "code",
   "execution_count": null,
   "metadata": {},
   "outputs": [],
   "source": []
  }
 ]
}