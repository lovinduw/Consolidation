{
 "metadata": {
  "language_info": {
   "codemirror_mode": {
    "name": "ipython",
    "version": 3
   },
   "file_extension": ".py",
   "mimetype": "text/x-python",
   "name": "python",
   "nbconvert_exporter": "python",
   "pygments_lexer": "ipython3",
   "version": "3.9.1"
  },
  "orig_nbformat": 2,
  "kernelspec": {
   "name": "python3",
   "display_name": "Python 3.9.1 64-bit ('base': conda)"
  },
  "interpreter": {
   "hash": "ecf5722fdaf1897a315d257d89d94520bfcaa453217d5becf09b39e73618b0de"
  }
 },
 "nbformat": 4,
 "nbformat_minor": 2,
 "cells": [
  {
   "cell_type": "code",
   "execution_count": 1,
   "metadata": {},
   "outputs": [],
   "source": [
    "import pandas as pd\n",
    "import numpy as np\n",
    "# import the openpyxl library to read a specific sheet from .xlsx excel file \n",
    "import openpyxl"
   ]
  },
  {
   "cell_type": "code",
   "execution_count": 2,
   "metadata": {},
   "outputs": [],
   "source": [
    "ember_data=pd.read_excel('../Data Sources/Ember/Ember-EU-Electricity-Data-April-2021.xlsx','Data')\n"
   ]
  },
  {
   "cell_type": "code",
   "execution_count": 3,
   "metadata": {},
   "outputs": [],
   "source": [
    "ember_data=ember_data.loc[(ember_data['Year']==2019)]"
   ]
  },
  {
   "cell_type": "code",
   "execution_count": 4,
   "metadata": {},
   "outputs": [
    {
     "output_type": "execute_result",
     "data": {
      "text/plain": [
       "                     Date  Year  Month     Area   Area.Type  \\\n",
       "3468  2019-01-01 00:00:00  2019      1  Austria  EU Country   \n",
       "3469  2019-01-01 00:00:00  2019      1  Austria  EU Country   \n",
       "3470  2019-01-01 00:00:00  2019      1  Austria  EU Country   \n",
       "3471  2019-01-01 00:00:00  2019      1  Austria  EU Country   \n",
       "3472  2019-01-01 00:00:00  2019      1  Austria  EU Country   \n",
       "\n",
       "                    Variable           Variable.Type  Generation (GWh)  \\\n",
       "3468                  Demand                  Demand        6225.09920   \n",
       "3469              Production              Production        5304.32848   \n",
       "3470             Net imports             Net imports         530.97699   \n",
       "3471  Statistical difference  Statistical difference         389.79373   \n",
       "3472                     Gas                  Fossil        1551.05920   \n",
       "\n",
       "      YoY change (%)  YoY change (GWh)  Cumul. Generation (GWh)  \\\n",
       "3468        4.253816         253.99960               6225.09920   \n",
       "3469        1.629644          85.05557               5304.32848   \n",
       "3470      -10.616853         -63.06899                530.97699   \n",
       "3471      147.047773         232.01302                389.79373   \n",
       "3472       35.625583         407.42600               1551.05920   \n",
       "\n",
       "      Cumul. YoY change (%)  Cumul. YoY change (GWh) Demand Flag  Unnamed: 14  \n",
       "3468               4.253816                253.99960         NaN          NaN  \n",
       "3469               1.629644                 85.05557         NaN          NaN  \n",
       "3470             -10.616853                -63.06899         NaN          NaN  \n",
       "3471             147.047773                232.01302         NaN          NaN  \n",
       "3472              35.625583                407.42600         NaN          NaN  "
      ],
      "text/html": "<div>\n<style scoped>\n    .dataframe tbody tr th:only-of-type {\n        vertical-align: middle;\n    }\n\n    .dataframe tbody tr th {\n        vertical-align: top;\n    }\n\n    .dataframe thead th {\n        text-align: right;\n    }\n</style>\n<table border=\"1\" class=\"dataframe\">\n  <thead>\n    <tr style=\"text-align: right;\">\n      <th></th>\n      <th>Date</th>\n      <th>Year</th>\n      <th>Month</th>\n      <th>Area</th>\n      <th>Area.Type</th>\n      <th>Variable</th>\n      <th>Variable.Type</th>\n      <th>Generation (GWh)</th>\n      <th>YoY change (%)</th>\n      <th>YoY change (GWh)</th>\n      <th>Cumul. Generation (GWh)</th>\n      <th>Cumul. YoY change (%)</th>\n      <th>Cumul. YoY change (GWh)</th>\n      <th>Demand Flag</th>\n      <th>Unnamed: 14</th>\n    </tr>\n  </thead>\n  <tbody>\n    <tr>\n      <th>3468</th>\n      <td>2019-01-01 00:00:00</td>\n      <td>2019</td>\n      <td>1</td>\n      <td>Austria</td>\n      <td>EU Country</td>\n      <td>Demand</td>\n      <td>Demand</td>\n      <td>6225.09920</td>\n      <td>4.253816</td>\n      <td>253.99960</td>\n      <td>6225.09920</td>\n      <td>4.253816</td>\n      <td>253.99960</td>\n      <td>NaN</td>\n      <td>NaN</td>\n    </tr>\n    <tr>\n      <th>3469</th>\n      <td>2019-01-01 00:00:00</td>\n      <td>2019</td>\n      <td>1</td>\n      <td>Austria</td>\n      <td>EU Country</td>\n      <td>Production</td>\n      <td>Production</td>\n      <td>5304.32848</td>\n      <td>1.629644</td>\n      <td>85.05557</td>\n      <td>5304.32848</td>\n      <td>1.629644</td>\n      <td>85.05557</td>\n      <td>NaN</td>\n      <td>NaN</td>\n    </tr>\n    <tr>\n      <th>3470</th>\n      <td>2019-01-01 00:00:00</td>\n      <td>2019</td>\n      <td>1</td>\n      <td>Austria</td>\n      <td>EU Country</td>\n      <td>Net imports</td>\n      <td>Net imports</td>\n      <td>530.97699</td>\n      <td>-10.616853</td>\n      <td>-63.06899</td>\n      <td>530.97699</td>\n      <td>-10.616853</td>\n      <td>-63.06899</td>\n      <td>NaN</td>\n      <td>NaN</td>\n    </tr>\n    <tr>\n      <th>3471</th>\n      <td>2019-01-01 00:00:00</td>\n      <td>2019</td>\n      <td>1</td>\n      <td>Austria</td>\n      <td>EU Country</td>\n      <td>Statistical difference</td>\n      <td>Statistical difference</td>\n      <td>389.79373</td>\n      <td>147.047773</td>\n      <td>232.01302</td>\n      <td>389.79373</td>\n      <td>147.047773</td>\n      <td>232.01302</td>\n      <td>NaN</td>\n      <td>NaN</td>\n    </tr>\n    <tr>\n      <th>3472</th>\n      <td>2019-01-01 00:00:00</td>\n      <td>2019</td>\n      <td>1</td>\n      <td>Austria</td>\n      <td>EU Country</td>\n      <td>Gas</td>\n      <td>Fossil</td>\n      <td>1551.05920</td>\n      <td>35.625583</td>\n      <td>407.42600</td>\n      <td>1551.05920</td>\n      <td>35.625583</td>\n      <td>407.42600</td>\n      <td>NaN</td>\n      <td>NaN</td>\n    </tr>\n  </tbody>\n</table>\n</div>"
     },
     "metadata": {},
     "execution_count": 4
    }
   ],
   "source": [
    "ember_data.head()"
   ]
  },
  {
   "source": [
    "# Making monthly total values: Monthly total demand, production, net imports, statistical difference, fossil, renewables and waste values of each country"
   ],
   "cell_type": "markdown",
   "metadata": {}
  },
  {
   "cell_type": "code",
   "execution_count": 8,
   "metadata": {},
   "outputs": [],
   "source": [
    "# years=list(set(ember_data['Year']))\n",
    "year=2019\n",
    "months=list(set(ember_data['Month']))\n",
    "areas=list(set(ember_data['Area']))\n",
    "areas.sort()"
   ]
  },
  {
   "cell_type": "code",
   "execution_count": 9,
   "metadata": {},
   "outputs": [],
   "source": [
    "ember_data_copy=ember_data.copy()\n",
    "temp_list=[]\n",
    "# for year in years:\n",
    "for month in months:\n",
    "    for area in areas:\n",
    "        temp=ember_data_copy.loc[(ember_data_copy['Month']==month)&(ember_data_copy['Area']==area)].groupby(['Variable.Type'],as_index=False)['Generation (GWh)'].sum()\n",
    "        for index,row in temp.iterrows():\n",
    "            temp_list.append([year,month,area,row['Variable.Type'],row['Generation (GWh)']])"
   ]
  },
  {
   "cell_type": "code",
   "execution_count": 10,
   "metadata": {},
   "outputs": [],
   "source": [
    "monthly_data=pd.DataFrame(temp_list,columns=['Year','Month','Area','Variable.Type','Generation(GWh)'])"
   ]
  },
  {
   "cell_type": "code",
   "execution_count": 11,
   "metadata": {},
   "outputs": [
    {
     "output_type": "execute_result",
     "data": {
      "text/plain": [
       "    Year  Month     Area           Variable.Type  Generation(GWh)\n",
       "0   2019      1  Austria                  Demand      6225.099200\n",
       "1   2019      1  Austria                  Fossil      1743.381200\n",
       "2   2019      1  Austria             Net imports       530.976990\n",
       "3   2019      1  Austria              Production      5304.328480\n",
       "4   2019      1  Austria              Renewables      3486.547280\n",
       "5   2019      1  Austria  Statistical difference       389.793730\n",
       "6   2019      1  Austria                   Waste        74.400000\n",
       "7   2019      1  Belgium                  Demand      8224.588000\n",
       "8   2019      1  Belgium                  Fossil      3286.832050\n",
       "9   2019      1  Belgium             Net imports       748.465420\n",
       "10  2019      1  Belgium                 Nuclear      2919.259750\n",
       "11  2019      1  Belgium              Production      7480.358733\n",
       "12  2019      1  Belgium              Renewables      1087.732073"
      ],
      "text/html": "<div>\n<style scoped>\n    .dataframe tbody tr th:only-of-type {\n        vertical-align: middle;\n    }\n\n    .dataframe tbody tr th {\n        vertical-align: top;\n    }\n\n    .dataframe thead th {\n        text-align: right;\n    }\n</style>\n<table border=\"1\" class=\"dataframe\">\n  <thead>\n    <tr style=\"text-align: right;\">\n      <th></th>\n      <th>Year</th>\n      <th>Month</th>\n      <th>Area</th>\n      <th>Variable.Type</th>\n      <th>Generation(GWh)</th>\n    </tr>\n  </thead>\n  <tbody>\n    <tr>\n      <th>0</th>\n      <td>2019</td>\n      <td>1</td>\n      <td>Austria</td>\n      <td>Demand</td>\n      <td>6225.099200</td>\n    </tr>\n    <tr>\n      <th>1</th>\n      <td>2019</td>\n      <td>1</td>\n      <td>Austria</td>\n      <td>Fossil</td>\n      <td>1743.381200</td>\n    </tr>\n    <tr>\n      <th>2</th>\n      <td>2019</td>\n      <td>1</td>\n      <td>Austria</td>\n      <td>Net imports</td>\n      <td>530.976990</td>\n    </tr>\n    <tr>\n      <th>3</th>\n      <td>2019</td>\n      <td>1</td>\n      <td>Austria</td>\n      <td>Production</td>\n      <td>5304.328480</td>\n    </tr>\n    <tr>\n      <th>4</th>\n      <td>2019</td>\n      <td>1</td>\n      <td>Austria</td>\n      <td>Renewables</td>\n      <td>3486.547280</td>\n    </tr>\n    <tr>\n      <th>5</th>\n      <td>2019</td>\n      <td>1</td>\n      <td>Austria</td>\n      <td>Statistical difference</td>\n      <td>389.793730</td>\n    </tr>\n    <tr>\n      <th>6</th>\n      <td>2019</td>\n      <td>1</td>\n      <td>Austria</td>\n      <td>Waste</td>\n      <td>74.400000</td>\n    </tr>\n    <tr>\n      <th>7</th>\n      <td>2019</td>\n      <td>1</td>\n      <td>Belgium</td>\n      <td>Demand</td>\n      <td>8224.588000</td>\n    </tr>\n    <tr>\n      <th>8</th>\n      <td>2019</td>\n      <td>1</td>\n      <td>Belgium</td>\n      <td>Fossil</td>\n      <td>3286.832050</td>\n    </tr>\n    <tr>\n      <th>9</th>\n      <td>2019</td>\n      <td>1</td>\n      <td>Belgium</td>\n      <td>Net imports</td>\n      <td>748.465420</td>\n    </tr>\n    <tr>\n      <th>10</th>\n      <td>2019</td>\n      <td>1</td>\n      <td>Belgium</td>\n      <td>Nuclear</td>\n      <td>2919.259750</td>\n    </tr>\n    <tr>\n      <th>11</th>\n      <td>2019</td>\n      <td>1</td>\n      <td>Belgium</td>\n      <td>Production</td>\n      <td>7480.358733</td>\n    </tr>\n    <tr>\n      <th>12</th>\n      <td>2019</td>\n      <td>1</td>\n      <td>Belgium</td>\n      <td>Renewables</td>\n      <td>1087.732073</td>\n    </tr>\n  </tbody>\n</table>\n</div>"
     },
     "metadata": {},
     "execution_count": 11
    }
   ],
   "source": [
    "monthly_data.iloc[:13,:]"
   ]
  },
  {
   "cell_type": "code",
   "execution_count": null,
   "metadata": {},
   "outputs": [],
   "source": []
  }
 ]
}