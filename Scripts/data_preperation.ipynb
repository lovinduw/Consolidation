{
 "metadata": {
  "language_info": {
   "codemirror_mode": {
    "name": "ipython",
    "version": 3
   },
   "file_extension": ".py",
   "mimetype": "text/x-python",
   "name": "python",
   "nbconvert_exporter": "python",
   "pygments_lexer": "ipython3",
   "version": "3.9.1"
  },
  "orig_nbformat": 4,
  "kernelspec": {
   "name": "python3",
   "display_name": "Python 3.9.1 64-bit ('Python39')"
  },
  "interpreter": {
   "hash": "acb9e0cfff3151089362f20c3a81c7531326aa2c5fdbbc2eccac94359104a8e2"
  }
 },
 "nbformat": 4,
 "nbformat_minor": 2,
 "cells": [
  {
   "cell_type": "code",
   "execution_count": 13,
   "metadata": {},
   "outputs": [],
   "source": [
    "import pandas as pd\n",
    "import numpy as np"
   ]
  },
  {
   "cell_type": "code",
   "execution_count": 14,
   "metadata": {},
   "outputs": [],
   "source": [
    "countries={ 'Austria': 'AT', 'Belgium': 'BE',  'Bulgaria': 'BG', 'Croatia': 'HR',  'Switzerland': 'CH', 'Czech Republic': 'CZ', 'Germany': 'DE', 'Denmark': 'DK', 'Estonia': 'EE', 'Spain': 'ES', 'Finland': 'FI', 'France': 'FR', 'United Kingdom': 'UK', 'Greece': 'GR', 'Hungary': 'HU', 'Ireland': 'IE', 'Italy': 'IT', 'Lithuania': 'LT', 'Latvia': 'LV', 'Montenegro': 'ME','Netherlands': 'NL', 'Norway': 'NO', 'Poland': 'PL', 'Portugal': 'PT', 'Serbia': 'RS', 'Sweden': 'SE', 'Slovenia': 'SI', 'Slovakia': 'SK'}"
   ]
  },
  {
   "cell_type": "code",
   "execution_count": 15,
   "metadata": {},
   "outputs": [],
   "source": [
    "fuels=['Biomass', 'Fossil Brown coal/Lignite', 'Fossil Coal-derived gas', 'Fossil Gas', 'Fossil Hard coal', 'Fossil Oil', 'Fossil Oil shale', 'Fossil Peat', 'Geothermal', 'Hydro Pumped Storage', 'Hydro Pumped Storage', 'Hydro Run-of-river and poundage', 'Hydro Water Reservoir', 'Marine', 'Nuclear', 'Other', 'Other renewable', 'Solar', 'Waste', 'Wind Offshore', 'Wind Onshore']"
   ]
  },
  {
   "source": [
    "# Preparing Load Data"
   ],
   "cell_type": "markdown",
   "metadata": {}
  },
  {
   "source": [
    "## Making the first,second,third and fourth columns of the dataframe as date,month,year and time"
   ],
   "cell_type": "markdown",
   "metadata": {}
  },
  {
   "cell_type": "code",
   "execution_count": 16,
   "metadata": {},
   "outputs": [],
   "source": [
    "temp=pd.read_csv('../Data Sources/ENTSO-E/Load/Germany.csv')\n",
    "load_data=pd.DataFrame()\n",
    "load_data['Day']=temp['Time (CET)'].str[:2]\n",
    "load_data['Month']=temp['Time (CET)'].str[3:5]\n",
    "load_data['Year']=temp['Time (CET)'].str[6:10]\n",
    "load_data['Time']=temp['Time (CET)'].str[11:16]+' - '+temp['Time (CET)'].str[29:35]"
   ]
  },
  {
   "source": [
    "## Getting the load data of all countries into a single dataframe"
   ],
   "cell_type": "markdown",
   "metadata": {}
  },
  {
   "cell_type": "code",
   "execution_count": 17,
   "metadata": {},
   "outputs": [],
   "source": [
    "for country,abbr in countries.items():\n",
    "    temp=pd.read_csv(f'../Data Sources/ENTSO-E/Load/{country}.csv')\n",
    "    load_data[f'{abbr}']=temp[f'Actual Total Load [MW] - {country} ({abbr})']"
   ]
  },
  {
   "cell_type": "code",
   "execution_count": 18,
   "metadata": {},
   "outputs": [
    {
     "output_type": "execute_result",
     "data": {
      "text/plain": [
       "  Day Month  Year            Time      AT      BE      BG      HR      CH  \\\n",
       "0  01    01  2019  00:00 -  00:15  6139.0  9122.0  4321.0  1836.0  7037.0   \n",
       "1  01    01  2019  00:15 -  00:30  6108.0  9060.0  4133.0  1732.0  7096.0   \n",
       "2  01    01  2019  00:30 -  00:45  6054.0  8964.0  3991.0  1623.0  7244.0   \n",
       "3  01    01  2019  00:45 -  01:00  5999.0  8747.0  3894.0  1534.0  7443.0   \n",
       "4  01    01  2019  01:00 -  01:15  5976.0  8729.0  3841.0  1488.0  7353.0   \n",
       "\n",
       "       CZ  ...     LV     ME       NL       NO       PL      PT      RS  \\\n",
       "0  5719.0  ...  678.0  418.0  11268.0  15724.0  15012.0  5030.0  5290.0   \n",
       "1  5678.0  ...  648.0  404.0  11280.0  15623.0  14467.0  4797.0  5282.0   \n",
       "2  5622.0  ...  624.0  376.0  11287.0  15705.0  13774.0  4650.0  5067.0   \n",
       "3  5475.0  ...  612.0  349.0  11304.0  15643.0  13406.0  4394.0  4739.0   \n",
       "4  5433.0  ...  614.0  331.0  11266.0  15612.0  13216.0  4177.0  4445.0   \n",
       "\n",
       "        SE      SI      SK  \n",
       "0  14597.0  1164.0  2835.0  \n",
       "1  14375.0  1129.0  2744.0  \n",
       "2  14153.0  1084.0  2679.0  \n",
       "3  13896.0  1038.0  2608.0  \n",
       "4  13955.0  1018.0  2602.0  \n",
       "\n",
       "[5 rows x 32 columns]"
      ],
      "text/html": "<div>\n<style scoped>\n    .dataframe tbody tr th:only-of-type {\n        vertical-align: middle;\n    }\n\n    .dataframe tbody tr th {\n        vertical-align: top;\n    }\n\n    .dataframe thead th {\n        text-align: right;\n    }\n</style>\n<table border=\"1\" class=\"dataframe\">\n  <thead>\n    <tr style=\"text-align: right;\">\n      <th></th>\n      <th>Day</th>\n      <th>Month</th>\n      <th>Year</th>\n      <th>Time</th>\n      <th>AT</th>\n      <th>BE</th>\n      <th>BG</th>\n      <th>HR</th>\n      <th>CH</th>\n      <th>CZ</th>\n      <th>...</th>\n      <th>LV</th>\n      <th>ME</th>\n      <th>NL</th>\n      <th>NO</th>\n      <th>PL</th>\n      <th>PT</th>\n      <th>RS</th>\n      <th>SE</th>\n      <th>SI</th>\n      <th>SK</th>\n    </tr>\n  </thead>\n  <tbody>\n    <tr>\n      <th>0</th>\n      <td>01</td>\n      <td>01</td>\n      <td>2019</td>\n      <td>00:00 -  00:15</td>\n      <td>6139.0</td>\n      <td>9122.0</td>\n      <td>4321.0</td>\n      <td>1836.0</td>\n      <td>7037.0</td>\n      <td>5719.0</td>\n      <td>...</td>\n      <td>678.0</td>\n      <td>418.0</td>\n      <td>11268.0</td>\n      <td>15724.0</td>\n      <td>15012.0</td>\n      <td>5030.0</td>\n      <td>5290.0</td>\n      <td>14597.0</td>\n      <td>1164.0</td>\n      <td>2835.0</td>\n    </tr>\n    <tr>\n      <th>1</th>\n      <td>01</td>\n      <td>01</td>\n      <td>2019</td>\n      <td>00:15 -  00:30</td>\n      <td>6108.0</td>\n      <td>9060.0</td>\n      <td>4133.0</td>\n      <td>1732.0</td>\n      <td>7096.0</td>\n      <td>5678.0</td>\n      <td>...</td>\n      <td>648.0</td>\n      <td>404.0</td>\n      <td>11280.0</td>\n      <td>15623.0</td>\n      <td>14467.0</td>\n      <td>4797.0</td>\n      <td>5282.0</td>\n      <td>14375.0</td>\n      <td>1129.0</td>\n      <td>2744.0</td>\n    </tr>\n    <tr>\n      <th>2</th>\n      <td>01</td>\n      <td>01</td>\n      <td>2019</td>\n      <td>00:30 -  00:45</td>\n      <td>6054.0</td>\n      <td>8964.0</td>\n      <td>3991.0</td>\n      <td>1623.0</td>\n      <td>7244.0</td>\n      <td>5622.0</td>\n      <td>...</td>\n      <td>624.0</td>\n      <td>376.0</td>\n      <td>11287.0</td>\n      <td>15705.0</td>\n      <td>13774.0</td>\n      <td>4650.0</td>\n      <td>5067.0</td>\n      <td>14153.0</td>\n      <td>1084.0</td>\n      <td>2679.0</td>\n    </tr>\n    <tr>\n      <th>3</th>\n      <td>01</td>\n      <td>01</td>\n      <td>2019</td>\n      <td>00:45 -  01:00</td>\n      <td>5999.0</td>\n      <td>8747.0</td>\n      <td>3894.0</td>\n      <td>1534.0</td>\n      <td>7443.0</td>\n      <td>5475.0</td>\n      <td>...</td>\n      <td>612.0</td>\n      <td>349.0</td>\n      <td>11304.0</td>\n      <td>15643.0</td>\n      <td>13406.0</td>\n      <td>4394.0</td>\n      <td>4739.0</td>\n      <td>13896.0</td>\n      <td>1038.0</td>\n      <td>2608.0</td>\n    </tr>\n    <tr>\n      <th>4</th>\n      <td>01</td>\n      <td>01</td>\n      <td>2019</td>\n      <td>01:00 -  01:15</td>\n      <td>5976.0</td>\n      <td>8729.0</td>\n      <td>3841.0</td>\n      <td>1488.0</td>\n      <td>7353.0</td>\n      <td>5433.0</td>\n      <td>...</td>\n      <td>614.0</td>\n      <td>331.0</td>\n      <td>11266.0</td>\n      <td>15612.0</td>\n      <td>13216.0</td>\n      <td>4177.0</td>\n      <td>4445.0</td>\n      <td>13955.0</td>\n      <td>1018.0</td>\n      <td>2602.0</td>\n    </tr>\n  </tbody>\n</table>\n<p>5 rows × 32 columns</p>\n</div>"
     },
     "metadata": {},
     "execution_count": 18
    }
   ],
   "source": [
    "load_data.head()"
   ]
  },
  {
   "source": [
    "# Preparing Generation Data"
   ],
   "cell_type": "markdown",
   "metadata": {}
  },
  {
   "cell_type": "code",
   "execution_count": 19,
   "metadata": {},
   "outputs": [],
   "source": [
    "generation_data=pd.DataFrame()\n",
    "generation_data[['Day','Month','Year','Time']]=load_data[['Day','Month','Year','Time']]"
   ]
  },
  {
   "cell_type": "code",
   "execution_count": 22,
   "metadata": {},
   "outputs": [],
   "source": [
    "for country,abbr in countries.items():\n",
    "    temp=pd.read_csv(f'../Data Sources/ENTSO-E/Generation/{country}.csv',low_memory=False)\n",
    "    for fuel in fuels:\n",
    "        generation_data[f'{fuel} - {abbr}']=temp[f'{fuel}  - Actual Aggregated [MW]']"
   ]
  },
  {
   "cell_type": "code",
   "execution_count": 21,
   "metadata": {},
   "outputs": [
    {
     "output_type": "execute_result",
     "data": {
      "text/plain": [
       "  Day Month  Year            Time  Biomass - AT  \\\n",
       "0  01    01  2019  00:00 -  00:15         304.0   \n",
       "1  01    01  2019  00:15 -  00:30         304.0   \n",
       "2  01    01  2019  00:30 -  00:45         304.0   \n",
       "3  01    01  2019  00:45 -  01:00         304.0   \n",
       "4  01    01  2019  01:00 -  01:15         304.0   \n",
       "\n",
       "  Fossil Brown coal/Lignite - AT Fossil Coal-derived gas - AT  \\\n",
       "0                            n/e                          n/e   \n",
       "1                            n/e                          n/e   \n",
       "2                            n/e                          n/e   \n",
       "3                            n/e                          n/e   \n",
       "4                            n/e                          n/e   \n",
       "\n",
       "   Fossil Gas - AT  Fossil Hard coal - AT  Fossil Oil - AT  ...  \\\n",
       "0           1326.0                  154.0              0.0  ...   \n",
       "1           1270.0                  156.0              0.0  ...   \n",
       "2           1274.0                  156.0              0.0  ...   \n",
       "3           1209.0                  156.0              0.0  ...   \n",
       "4           1045.0                  154.0              0.0  ...   \n",
       "\n",
       "  Hydro Run-of-river and poundage - SK Hydro Water Reservoir - SK  \\\n",
       "0                                295.0                        0.0   \n",
       "1                                267.0                        0.0   \n",
       "2                                279.0                       17.0   \n",
       "3                                275.0                       11.0   \n",
       "4                                266.0                        0.0   \n",
       "\n",
       "   Marine - SK  Nuclear - SK  Other - SK  Other renewable - SK Solar - SK  \\\n",
       "0          n/e        1928.0       213.0                  65.0        0.0   \n",
       "1          n/e        1928.0       227.0                  65.0        0.0   \n",
       "2          n/e        1927.0       230.0                  65.0        0.0   \n",
       "3          n/e        1929.0       224.0                  64.0        0.0   \n",
       "4          n/e        1929.0       228.0                  65.0        0.0   \n",
       "\n",
       "  Waste - SK  Wind Offshore - SK  Wind Onshore - SK  \n",
       "0        n/e                 n/e                0.0  \n",
       "1        n/e                 n/e                0.0  \n",
       "2        n/e                 n/e                0.0  \n",
       "3        n/e                 n/e                0.0  \n",
       "4        n/e                 n/e                0.0  \n",
       "\n",
       "[5 rows x 564 columns]"
      ],
      "text/html": "<div>\n<style scoped>\n    .dataframe tbody tr th:only-of-type {\n        vertical-align: middle;\n    }\n\n    .dataframe tbody tr th {\n        vertical-align: top;\n    }\n\n    .dataframe thead th {\n        text-align: right;\n    }\n</style>\n<table border=\"1\" class=\"dataframe\">\n  <thead>\n    <tr style=\"text-align: right;\">\n      <th></th>\n      <th>Day</th>\n      <th>Month</th>\n      <th>Year</th>\n      <th>Time</th>\n      <th>Biomass - AT</th>\n      <th>Fossil Brown coal/Lignite - AT</th>\n      <th>Fossil Coal-derived gas - AT</th>\n      <th>Fossil Gas - AT</th>\n      <th>Fossil Hard coal - AT</th>\n      <th>Fossil Oil - AT</th>\n      <th>...</th>\n      <th>Hydro Run-of-river and poundage - SK</th>\n      <th>Hydro Water Reservoir - SK</th>\n      <th>Marine - SK</th>\n      <th>Nuclear - SK</th>\n      <th>Other - SK</th>\n      <th>Other renewable - SK</th>\n      <th>Solar - SK</th>\n      <th>Waste - SK</th>\n      <th>Wind Offshore - SK</th>\n      <th>Wind Onshore - SK</th>\n    </tr>\n  </thead>\n  <tbody>\n    <tr>\n      <th>0</th>\n      <td>01</td>\n      <td>01</td>\n      <td>2019</td>\n      <td>00:00 -  00:15</td>\n      <td>304.0</td>\n      <td>n/e</td>\n      <td>n/e</td>\n      <td>1326.0</td>\n      <td>154.0</td>\n      <td>0.0</td>\n      <td>...</td>\n      <td>295.0</td>\n      <td>0.0</td>\n      <td>n/e</td>\n      <td>1928.0</td>\n      <td>213.0</td>\n      <td>65.0</td>\n      <td>0.0</td>\n      <td>n/e</td>\n      <td>n/e</td>\n      <td>0.0</td>\n    </tr>\n    <tr>\n      <th>1</th>\n      <td>01</td>\n      <td>01</td>\n      <td>2019</td>\n      <td>00:15 -  00:30</td>\n      <td>304.0</td>\n      <td>n/e</td>\n      <td>n/e</td>\n      <td>1270.0</td>\n      <td>156.0</td>\n      <td>0.0</td>\n      <td>...</td>\n      <td>267.0</td>\n      <td>0.0</td>\n      <td>n/e</td>\n      <td>1928.0</td>\n      <td>227.0</td>\n      <td>65.0</td>\n      <td>0.0</td>\n      <td>n/e</td>\n      <td>n/e</td>\n      <td>0.0</td>\n    </tr>\n    <tr>\n      <th>2</th>\n      <td>01</td>\n      <td>01</td>\n      <td>2019</td>\n      <td>00:30 -  00:45</td>\n      <td>304.0</td>\n      <td>n/e</td>\n      <td>n/e</td>\n      <td>1274.0</td>\n      <td>156.0</td>\n      <td>0.0</td>\n      <td>...</td>\n      <td>279.0</td>\n      <td>17.0</td>\n      <td>n/e</td>\n      <td>1927.0</td>\n      <td>230.0</td>\n      <td>65.0</td>\n      <td>0.0</td>\n      <td>n/e</td>\n      <td>n/e</td>\n      <td>0.0</td>\n    </tr>\n    <tr>\n      <th>3</th>\n      <td>01</td>\n      <td>01</td>\n      <td>2019</td>\n      <td>00:45 -  01:00</td>\n      <td>304.0</td>\n      <td>n/e</td>\n      <td>n/e</td>\n      <td>1209.0</td>\n      <td>156.0</td>\n      <td>0.0</td>\n      <td>...</td>\n      <td>275.0</td>\n      <td>11.0</td>\n      <td>n/e</td>\n      <td>1929.0</td>\n      <td>224.0</td>\n      <td>64.0</td>\n      <td>0.0</td>\n      <td>n/e</td>\n      <td>n/e</td>\n      <td>0.0</td>\n    </tr>\n    <tr>\n      <th>4</th>\n      <td>01</td>\n      <td>01</td>\n      <td>2019</td>\n      <td>01:00 -  01:15</td>\n      <td>304.0</td>\n      <td>n/e</td>\n      <td>n/e</td>\n      <td>1045.0</td>\n      <td>154.0</td>\n      <td>0.0</td>\n      <td>...</td>\n      <td>266.0</td>\n      <td>0.0</td>\n      <td>n/e</td>\n      <td>1929.0</td>\n      <td>228.0</td>\n      <td>65.0</td>\n      <td>0.0</td>\n      <td>n/e</td>\n      <td>n/e</td>\n      <td>0.0</td>\n    </tr>\n  </tbody>\n</table>\n<p>5 rows × 564 columns</p>\n</div>"
     },
     "metadata": {},
     "execution_count": 21
    }
   ],
   "source": [
    "generation_data.head()"
   ]
  },
  {
   "cell_type": "code",
   "execution_count": null,
   "metadata": {},
   "outputs": [],
   "source": []
  }
 ]
}