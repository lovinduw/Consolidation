{
 "metadata": {
  "language_info": {
   "codemirror_mode": {
    "name": "ipython",
    "version": 3
   },
   "file_extension": ".py",
   "mimetype": "text/x-python",
   "name": "python",
   "nbconvert_exporter": "python",
   "pygments_lexer": "ipython3",
   "version": "3.9.1"
  },
  "orig_nbformat": 4,
  "kernelspec": {
   "name": "python3",
   "display_name": "Python 3.9.1 64-bit"
  },
  "interpreter": {
   "hash": "acb9e0cfff3151089362f20c3a81c7531326aa2c5fdbbc2eccac94359104a8e2"
  }
 },
 "nbformat": 4,
 "nbformat_minor": 2,
 "cells": [
  {
   "source": [
    "# Data Preperation"
   ],
   "cell_type": "markdown",
   "metadata": {}
  },
  {
   "cell_type": "code",
   "execution_count": 3,
   "metadata": {},
   "outputs": [],
   "source": [
    "import pandas as pd\n",
    "import numpy as np\n",
    "import glob"
   ]
  },
  {
   "cell_type": "code",
   "execution_count": 25,
   "metadata": {},
   "outputs": [],
   "source": [
    "countries={ 'Austria': 'AT', 'Belgium': 'BE',  'Bulgaria': 'BG', 'Switzerland': 'CH', 'Czech Republic': 'CZ', 'Croatia': 'HR',  'Germany': 'DE', 'Denmark': 'DK', 'Estonia': 'EE', 'Spain': 'ES', 'Finland': 'FI', 'France': 'FR',  'Greece': 'GR', 'Hungary': 'HU', 'Ireland': 'IE', 'Italy': 'IT', 'Lithuania': 'LT', 'Latvia': 'LV', 'Montenegro': 'ME','Netherlands': 'NL', 'Norway': 'NO', 'Poland': 'PL', 'Portugal': 'PT', 'Serbia': 'RS', 'Sweden': 'SE', 'Slovenia': 'SI', 'Slovakia': 'SK', 'United Kingdom': 'UK'}\n",
    "\n",
    "abbr_list=list(countries.values())"
   ]
  },
  {
   "source": [
    "## Making the first,second,third and fourth columns of the dataframe as date,month,year and time"
   ],
   "cell_type": "markdown",
   "metadata": {}
  },
  {
   "cell_type": "code",
   "execution_count": 7,
   "metadata": {},
   "outputs": [],
   "source": [
    "data=pd.DataFrame()\n",
    "temp=pd.read_csv('../Data Sources/ENTSO-E/Load/Croatia.csv')\n",
    "data['Day']=temp['Time (CET)'].str[:2]\n",
    "data['Month']=temp['Time (CET)'].str[3:5]\n",
    "data['Year']=temp['Time (CET)'].str[6:10]\n",
    "data['Time']=temp['Time (CET)'].str[11:16]+' - '+temp['Time (CET)'].str[29:35]"
   ]
  },
  {
   "source": [
    "### In the country speciic Load data set, Austria,Belgium,Germany,Hungary,Netherlands report data every 15 minutes. Therefore, these countries have 35044 data points per year. UK and Ireland report data every 30 minutes henece these countries have 17522 datapoints per year. All the others report every 1 hour hence have 8761 datapoints per year. In Genearion dataset, situation is same as abobe except Belgium reports hourly data hence have 8761 datapoints. In Transmission dataset, all countries report data hourly except Germany which reports every 15 minutes. Therefroe,it is easy if all the data are converted to hourly data. To do that in the countries with 35044 datapoints, mean is calculated in every successive 4 datapoints. In the countries with 17522 datapoints, mean is calculated in every successive 2 datapoints.`"
   ],
   "cell_type": "markdown",
   "metadata": {}
  },
  {
   "cell_type": "code",
   "execution_count": 3,
   "metadata": {},
   "outputs": [],
   "source": [
    "def hourly_data(df):\n",
    "    length=len(df.index)\n",
    "    if length==35044:\n",
    "        divider=4\n",
    "    elif length==17522:\n",
    "        divider=2\n",
    "    else:\n",
    "        divider=1\n",
    "\n",
    "    # Following command creates a numpy array with a length similar to the length of the dataframe. Values of the array are obtained by getting the floor division of the length value. For example, when divider=4, this array will be [0,0,0,0,1,1,1,1,2,....]. Then the rows of the dataframe will be grouped according to the order of the numpy array with the mean value of those 4 rows. For example, in the numpy array first 4 values are similar. Accordingly first 4 rows of the dataframe will be grouped and get the mean value of those rows \n",
    "    \n",
    "    df=df.groupby(np.arange(length)//divider).mean()\n",
    "    return(df)    "
   ]
  },
  {
   "source": [
    "# Preparing Load Data"
   ],
   "cell_type": "markdown",
   "metadata": {}
  },
  {
   "cell_type": "code",
   "execution_count": 4,
   "metadata": {},
   "outputs": [],
   "source": [
    "def load(countries):\n",
    "\n",
    "    load_data=pd.DataFrame()\n",
    "    load_data[['Day','Month','Year','Time']]=data[['Day','Month','Year','Time']]\n",
    "\n",
    "    # In the following command we open the csv file of each country and save the data in the 'temp' dataframe. Then we call the 'hourly_data' function to make all the time steps to hourly data. Then the column 'Actual Total Load [MW] - {country_name} ({country_code})' is saved in the new dataframe 'load_data' under the column name '{country_code}'. For example, the column 'Actual Total Load [MW] - Germany (DE)' in the 'temp' dataframe will be saved in the 'load_data' dataframe under the column name 'DE'.\n",
    "    \n",
    "    for country,abbr in countries.items():\n",
    "        temp=pd.read_csv(f'../Data Sources/ENTSO-E/Load/{country}.csv')\n",
    "        temp=hourly_data(temp)\n",
    "        load_data[f'{abbr}']=temp[f'Actual Total Load [MW] - {country} ({abbr})']\n",
    "        \n",
    "    return(load_data)"
   ]
  },
  {
   "source": [
    "# Preparing Generation Data"
   ],
   "cell_type": "markdown",
   "metadata": {}
  },
  {
   "cell_type": "code",
   "execution_count": 5,
   "metadata": {},
   "outputs": [],
   "source": [
    "def generation(countries):\n",
    "    \n",
    "    generation_data=pd.DataFrame()\n",
    "    generation_data[['Day','Month','Year','Time']]=data[['Day','Month','Year','Time']]\n",
    "\n",
    "    # In the following command we open the csv file of each country and save the data in the 'temp' dataframe. Then we call the 'hourly_data' function to make all the time steps to hourly data. Then we get the column names of the 'temp' dataframe into a numpy array called 'fuels'. Then we get the column name without the '- Actual Aggregated [MW]' part into a new variable called 'edited_fuel'. Then the column 'fuel' is saved in the new dataframe 'load_data' under the column name '{country_code} - {edited_fuel}'. For example, the column 'Biomass  - Actual Aggregated [MW]' of Germany in the 'temp' dataframe will be saved in the 'load_data' dataframe under the column name 'DE - Biomass'. Then we filter the column heads which have the string '{country_code}' in the column name and get the sum of each row in those columns and save it in a new column called '{country_code} - Total'. For example, 'DE - Total', 'UK - Total' \n",
    "        \n",
    "    for country,abbr in countries.items():\n",
    "        temp=pd.read_csv(f'../Data Sources/ENTSO-E/Generation/{country}.csv',low_memory=False)\n",
    "        temp=hourly_data(temp)\n",
    "\n",
    "        fuels=np.array(temp.columns)\n",
    "        for fuel in fuels:\n",
    "            edited_fuel=fuel[:-26]\n",
    "            generation_data[f'{abbr} - {edited_fuel}']=temp[fuel]\n",
    "        generation_data[f'{abbr} - Total'] = generation_data.filter(like=abbr).sum(axis=1)\n",
    "\n",
    "    return(generation_data)"
   ]
  },
  {
   "source": [
    "# Preparing Cross-border Transmission Data"
   ],
   "cell_type": "markdown",
   "metadata": {}
  },
  {
   "cell_type": "code",
   "execution_count": 77,
   "metadata": {},
   "outputs": [],
   "source": [
    "def cross_border(abbr_list):\n",
    "\n",
    "    transmission_data = pd.DataFrame()\n",
    "    transmission_data = data[['Day','Month','Year','Time']]\n",
    "    cross_border_data = pd.DataFrame()\n",
    "    cross_border_data[['Day','Month','Year','Time']]=data[['Day','Month','Year','Time']]\n",
    "\n",
    "## In the following command we get the list of the paths of all files in the directory. Then one by one the csv associated with the path is copied to the dataframe 'temp'. Then we cretae a new column in the 'transmission_data' dataframe and name it as the twp country codes the power transmission occurs. We use string editing to get the two country codes from the file path. For example, in the power transmission occur between Germany and Austria, we name the column as 'DE --> AT'.\n",
    "\n",
    "## Here we assume inbound power transmission as a negative value and outbound transmission as a positive value. In the 'temp' dataframe second column shows the inbound transmission to the country and third column shows the outbound transmission from the country. Inbound and outbound both do not occur at the same time in a given time step. Therefore we multiply the second column of the 'temp' dataframe by -1 and add the third column of the 'temp' to get the net inbound/outbound in that country in that particular time step and save that in the above mentioned column of the 'transmission_data' dataframe.   \n",
    "\n",
    "    csvs = glob.glob(\"../Data Sources/ENTSO-E/Transmission/*.csv\")\n",
    "\n",
    "    for abbr in abbr_list:\n",
    "        transmission_data_temp = pd.DataFrame()\n",
    "        for csv in csvs:\n",
    "            if csv[37:39] == abbr:\n",
    "                temp = pd.read_csv(csv)\n",
    "                temp = temp.replace('n/e',0)\n",
    "                transmission_data_temp[f'{csv[37:39]} --> {csv[40:42]}'] = temp.iloc[:,1]*(-1) + temp.iloc[:,2]\n",
    "                transmission_data[f'{csv[37:39]} --> {csv[40:42]}'] = transmission_data_temp[f'{csv[37:39]} --> {csv[40:42]}']\n",
    "        cross_border_data[f'{abbr}'] = transmission_data_temp.iloc[:].sum(axis=1)\n",
    "    \n",
    "    \n",
    "    return(cross_border_data,transmission_data)"
   ]
  },
  {
   "cell_type": "code",
   "execution_count": null,
   "metadata": {},
   "outputs": [],
   "source": []
  }
 ]
}