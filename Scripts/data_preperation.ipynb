{
 "metadata": {
  "language_info": {
   "codemirror_mode": {
    "name": "ipython",
    "version": 3
   },
   "file_extension": ".py",
   "mimetype": "text/x-python",
   "name": "python",
   "nbconvert_exporter": "python",
   "pygments_lexer": "ipython3",
   "version": "3.9.1"
  },
  "orig_nbformat": 4,
  "kernelspec": {
   "name": "python3",
   "display_name": "Python 3.9.1 64-bit"
  },
  "interpreter": {
   "hash": "acb9e0cfff3151089362f20c3a81c7531326aa2c5fdbbc2eccac94359104a8e2"
  }
 },
 "nbformat": 4,
 "nbformat_minor": 2,
 "cells": [
  {
   "cell_type": "code",
   "execution_count": 3,
   "metadata": {},
   "outputs": [],
   "source": [
    "import pandas as pd\n",
    "import numpy as np"
   ]
  },
  {
   "cell_type": "code",
   "execution_count": 4,
   "metadata": {},
   "outputs": [],
   "source": [
    "countries={ 'Austria': 'AT', 'Belgium': 'BE',  'Bulgaria': 'BG', 'Switzerland': 'CH', 'Czech Republic': 'CZ', 'Croatia': 'HR',  'Germany': 'DE', 'Denmark': 'DK', 'Estonia': 'EE', 'Spain': 'ES', 'Finland': 'FI', 'France': 'FR',  'Greece': 'GR', 'Hungary': 'HU', 'Ireland': 'IE', 'Italy': 'IT', 'Lithuania': 'LT', 'Latvia': 'LV', 'Montenegro': 'ME','Netherlands': 'NL', 'Norway': 'NO', 'Poland': 'PL', 'Portugal': 'PT', 'Serbia': 'RS', 'Sweden': 'SE', 'Slovenia': 'SI', 'Slovakia': 'SK', 'United Kingdom': 'UK'}"
   ]
  },
  {
   "source": [
    "## Making the first,second,third and fourth columns of the dataframe as date,month,year and time"
   ],
   "cell_type": "markdown",
   "metadata": {}
  },
  {
   "cell_type": "code",
   "execution_count": 5,
   "metadata": {},
   "outputs": [],
   "source": [
    "data=pd.DataFrame()\n",
    "temp=pd.read_csv('../Data Sources/ENTSO-E/Load/Croatia.csv')\n",
    "data['Day']=temp['Time (CET)'].str[:2]\n",
    "data['Month']=temp['Time (CET)'].str[3:5]\n",
    "data['Year']=temp['Time (CET)'].str[6:10]\n",
    "data['Time']=temp['Time (CET)'].str[11:16]+' - '+temp['Time (CET)'].str[29:35]"
   ]
  },
  {
   "source": [
    "### In the country speciic Load data set, Austria,Belgium,Germany,Hungary,Netherlands report data every 15 minutes. Therefore, these countries have 35044 data points per year. UK and Ireland report data every 30 minutes henece these countries have 17522 datapoints per year. All the others report every 1 hour hence have 8761 datapoints per year. In Genearion dataset, situation is same as abobe except Belgium reports hourly data hence have 8761 datapoints. In Transmission dataset, all countries report data hourly. Therefroe,it is easy if all the data are converted to hourly data. To do that in the countries with 35044 datapoints, mean is calculated in every successive 4 datapoints. In the countries with 17522 datapoints, mean is calculated in every successive 2 datapoints.`"
   ],
   "cell_type": "markdown",
   "metadata": {}
  },
  {
   "cell_type": "code",
   "execution_count": 6,
   "metadata": {},
   "outputs": [],
   "source": [
    "def mean_calculator(df):\n",
    "    length=len(df.index)\n",
    "    if length==35044:\n",
    "        divider=4\n",
    "    elif length==17522:\n",
    "        divider=2\n",
    "    else:\n",
    "        divider=1\n",
    "\n",
    "    df=df.groupby(np.arange(length)//divider).mean()\n",
    "    return(df)    "
   ]
  },
  {
   "source": [
    "# Preparing Load Data"
   ],
   "cell_type": "markdown",
   "metadata": {}
  },
  {
   "cell_type": "code",
   "execution_count": 7,
   "metadata": {},
   "outputs": [],
   "source": [
    "def load(countries):\n",
    "\n",
    "    load_data=pd.DataFrame()\n",
    "    load_data[['Day','Month','Year','Time']]=data[['Day','Month','Year','Time']]\n",
    "\n",
    "    for country,abbr in countries.items():\n",
    "        temp=pd.read_csv(f'../Data Sources/ENTSO-E/Load/{country}.csv')\n",
    "        temp=mean_calculator(temp)\n",
    "        load_data[f'{abbr}']=temp[f'Actual Total Load [MW] - {country} ({abbr})']\n",
    "        \n",
    "    return(load_data)"
   ]
  },
  {
   "source": [
    "# Preparing Generation Data"
   ],
   "cell_type": "markdown",
   "metadata": {}
  },
  {
   "cell_type": "code",
   "execution_count": 8,
   "metadata": {},
   "outputs": [],
   "source": [
    "def generation(countries):\n",
    "    \n",
    "    generation_data=pd.DataFrame()\n",
    "    generation_data[['Day','Month','Year','Time']]=data[['Day','Month','Year','Time']]\n",
    "\n",
    "    for country,abbr in countries.items():\n",
    "        temp=pd.read_csv(f'../Data Sources/ENTSO-E/Generation/{country}.csv',low_memory=False)\n",
    "        temp=mean_calculator(temp)\n",
    "\n",
    "        fuels=np.array(temp.columns)\n",
    "        for fuel in fuels:\n",
    "            edited_fuel=fuel[:-26]\n",
    "            generation_data[f'{abbr} - {edited_fuel}']=temp[fuel]\n",
    "        generation_data[f'{abbr} - Total'] = generation_data.filter(like=abbr).sum(axis=1)\n",
    "\n",
    "    return(generation_data)"
   ]
  },
  {
   "cell_type": "code",
   "execution_count": 9,
   "metadata": {},
   "outputs": [
    {
     "output_type": "execute_result",
     "data": {
      "text/plain": [
       "     Day Month  Year            Time  AT - Biomass  AT - Fossil Gas  \\\n",
       "0     01    01  2019  00:00 -  01:00         304.0          1269.75   \n",
       "1     01    01  2019  01:00 -  02:00         304.0           935.25   \n",
       "2     01    01  2019  02:00 -  03:00         304.0           611.00   \n",
       "3     01    01  2019  03:00 -  04:00         304.0           568.00   \n",
       "4     01    01  2019  04:00 -  05:00         302.0           443.50   \n",
       "...   ..   ...   ...             ...           ...              ...   \n",
       "8756  31    12  2019  19:00 -  20:00         220.0          1797.50   \n",
       "8757  31    12  2019  20:00 -  21:00         220.0          1805.25   \n",
       "8758  31    12  2019  21:00 -  22:00         220.0          1778.00   \n",
       "8759  31    12  2019  22:00 -  23:00         218.0          1710.50   \n",
       "8760  31    12  2019  23:00 -  00:00         217.0          1650.00   \n",
       "\n",
       "      AT - Fossil Hard coal  AT - Fossil Oil  AT - Geothermal  \\\n",
       "0                    155.50              0.0              0.0   \n",
       "1                    154.75              0.0              0.0   \n",
       "2                    155.25              0.0              0.0   \n",
       "3                    155.25              0.0              0.0   \n",
       "4                    154.25              0.0              0.0   \n",
       "...                     ...              ...              ...   \n",
       "8756                 162.50              0.0              0.0   \n",
       "8757                 162.00              0.0              0.0   \n",
       "8758                 163.25              0.0              0.0   \n",
       "8759                 153.75              0.0              0.0   \n",
       "8760                 144.75              0.0              0.0   \n",
       "\n",
       "      AT - Hydro Pumped Storage  ...  UK - Fossil Oil  \\\n",
       "0                          0.00  ...              3.0   \n",
       "1                          0.00  ...              0.0   \n",
       "2                          0.00  ...              0.0   \n",
       "3                          0.00  ...              0.0   \n",
       "4                          0.00  ...              0.0   \n",
       "...                         ...  ...              ...   \n",
       "8756                    1473.75  ...              0.0   \n",
       "8757                     676.00  ...              0.0   \n",
       "8758                     341.00  ...              0.0   \n",
       "8759                     183.00  ...              0.0   \n",
       "8760                     194.75  ...              0.0   \n",
       "\n",
       "      UK - Hydro Pumped Storage  UK - Hydro Pumped Storage   \\\n",
       "0                           0.0                         NaN   \n",
       "1                          52.5                         NaN   \n",
       "2                           0.0                         NaN   \n",
       "3                           0.0                         NaN   \n",
       "4                           0.0                         NaN   \n",
       "...                         ...                         ...   \n",
       "8756                     1051.0                         NaN   \n",
       "8757                        0.0                         NaN   \n",
       "8758                        0.0                         NaN   \n",
       "8759                        0.0                         NaN   \n",
       "8760                        0.0                         NaN   \n",
       "\n",
       "      UK - Hydro Run-of-river and poundage  UK - Nuclear  UK - Other  \\\n",
       "0                                    428.5        6941.5        66.0   \n",
       "1                                    404.0        6899.0        64.0   \n",
       "2                                    373.5        6830.5        63.0   \n",
       "3                                    349.0        6826.0        63.0   \n",
       "4                                    324.5        6818.0        64.0   \n",
       "...                                    ...           ...         ...   \n",
       "8756                                 931.0        6957.0       194.5   \n",
       "8757                                 863.5        6956.5       155.0   \n",
       "8758                                 824.0        6960.0       127.0   \n",
       "8759                                 701.0        6962.0       124.5   \n",
       "8760                                 651.0        6960.0       126.0   \n",
       "\n",
       "      UK - Solar  UK - Wind Offshore  UK - Wind Onshore  UK - Total  \n",
       "0            0.0              3131.0             6527.5     25144.5  \n",
       "1            0.0              3198.0             6201.5     23967.5  \n",
       "2            0.0              3277.5             6095.0     23512.0  \n",
       "3            0.0              3158.0             5736.5     22352.5  \n",
       "4            0.0              2985.0             5357.0     21751.5  \n",
       "...          ...                 ...                ...         ...  \n",
       "8756         0.0              1823.5             3011.5     36604.0  \n",
       "8757         0.0              1843.5             3122.5     34348.0  \n",
       "8758         0.0              1960.5             3269.0     31251.5  \n",
       "8759         0.0              1793.0             3606.0     28597.0  \n",
       "8760         0.0              2081.5             3783.5     27646.0  \n",
       "\n",
       "[8761 rows x 329 columns]"
      ],
      "text/html": "<div>\n<style scoped>\n    .dataframe tbody tr th:only-of-type {\n        vertical-align: middle;\n    }\n\n    .dataframe tbody tr th {\n        vertical-align: top;\n    }\n\n    .dataframe thead th {\n        text-align: right;\n    }\n</style>\n<table border=\"1\" class=\"dataframe\">\n  <thead>\n    <tr style=\"text-align: right;\">\n      <th></th>\n      <th>Day</th>\n      <th>Month</th>\n      <th>Year</th>\n      <th>Time</th>\n      <th>AT - Biomass</th>\n      <th>AT - Fossil Gas</th>\n      <th>AT - Fossil Hard coal</th>\n      <th>AT - Fossil Oil</th>\n      <th>AT - Geothermal</th>\n      <th>AT - Hydro Pumped Storage</th>\n      <th>...</th>\n      <th>UK - Fossil Oil</th>\n      <th>UK - Hydro Pumped Storage</th>\n      <th>UK - Hydro Pumped Storage</th>\n      <th>UK - Hydro Run-of-river and poundage</th>\n      <th>UK - Nuclear</th>\n      <th>UK - Other</th>\n      <th>UK - Solar</th>\n      <th>UK - Wind Offshore</th>\n      <th>UK - Wind Onshore</th>\n      <th>UK - Total</th>\n    </tr>\n  </thead>\n  <tbody>\n    <tr>\n      <th>0</th>\n      <td>01</td>\n      <td>01</td>\n      <td>2019</td>\n      <td>00:00 -  01:00</td>\n      <td>304.0</td>\n      <td>1269.75</td>\n      <td>155.50</td>\n      <td>0.0</td>\n      <td>0.0</td>\n      <td>0.00</td>\n      <td>...</td>\n      <td>3.0</td>\n      <td>0.0</td>\n      <td>NaN</td>\n      <td>428.5</td>\n      <td>6941.5</td>\n      <td>66.0</td>\n      <td>0.0</td>\n      <td>3131.0</td>\n      <td>6527.5</td>\n      <td>25144.5</td>\n    </tr>\n    <tr>\n      <th>1</th>\n      <td>01</td>\n      <td>01</td>\n      <td>2019</td>\n      <td>01:00 -  02:00</td>\n      <td>304.0</td>\n      <td>935.25</td>\n      <td>154.75</td>\n      <td>0.0</td>\n      <td>0.0</td>\n      <td>0.00</td>\n      <td>...</td>\n      <td>0.0</td>\n      <td>52.5</td>\n      <td>NaN</td>\n      <td>404.0</td>\n      <td>6899.0</td>\n      <td>64.0</td>\n      <td>0.0</td>\n      <td>3198.0</td>\n      <td>6201.5</td>\n      <td>23967.5</td>\n    </tr>\n    <tr>\n      <th>2</th>\n      <td>01</td>\n      <td>01</td>\n      <td>2019</td>\n      <td>02:00 -  03:00</td>\n      <td>304.0</td>\n      <td>611.00</td>\n      <td>155.25</td>\n      <td>0.0</td>\n      <td>0.0</td>\n      <td>0.00</td>\n      <td>...</td>\n      <td>0.0</td>\n      <td>0.0</td>\n      <td>NaN</td>\n      <td>373.5</td>\n      <td>6830.5</td>\n      <td>63.0</td>\n      <td>0.0</td>\n      <td>3277.5</td>\n      <td>6095.0</td>\n      <td>23512.0</td>\n    </tr>\n    <tr>\n      <th>3</th>\n      <td>01</td>\n      <td>01</td>\n      <td>2019</td>\n      <td>03:00 -  04:00</td>\n      <td>304.0</td>\n      <td>568.00</td>\n      <td>155.25</td>\n      <td>0.0</td>\n      <td>0.0</td>\n      <td>0.00</td>\n      <td>...</td>\n      <td>0.0</td>\n      <td>0.0</td>\n      <td>NaN</td>\n      <td>349.0</td>\n      <td>6826.0</td>\n      <td>63.0</td>\n      <td>0.0</td>\n      <td>3158.0</td>\n      <td>5736.5</td>\n      <td>22352.5</td>\n    </tr>\n    <tr>\n      <th>4</th>\n      <td>01</td>\n      <td>01</td>\n      <td>2019</td>\n      <td>04:00 -  05:00</td>\n      <td>302.0</td>\n      <td>443.50</td>\n      <td>154.25</td>\n      <td>0.0</td>\n      <td>0.0</td>\n      <td>0.00</td>\n      <td>...</td>\n      <td>0.0</td>\n      <td>0.0</td>\n      <td>NaN</td>\n      <td>324.5</td>\n      <td>6818.0</td>\n      <td>64.0</td>\n      <td>0.0</td>\n      <td>2985.0</td>\n      <td>5357.0</td>\n      <td>21751.5</td>\n    </tr>\n    <tr>\n      <th>...</th>\n      <td>...</td>\n      <td>...</td>\n      <td>...</td>\n      <td>...</td>\n      <td>...</td>\n      <td>...</td>\n      <td>...</td>\n      <td>...</td>\n      <td>...</td>\n      <td>...</td>\n      <td>...</td>\n      <td>...</td>\n      <td>...</td>\n      <td>...</td>\n      <td>...</td>\n      <td>...</td>\n      <td>...</td>\n      <td>...</td>\n      <td>...</td>\n      <td>...</td>\n      <td>...</td>\n    </tr>\n    <tr>\n      <th>8756</th>\n      <td>31</td>\n      <td>12</td>\n      <td>2019</td>\n      <td>19:00 -  20:00</td>\n      <td>220.0</td>\n      <td>1797.50</td>\n      <td>162.50</td>\n      <td>0.0</td>\n      <td>0.0</td>\n      <td>1473.75</td>\n      <td>...</td>\n      <td>0.0</td>\n      <td>1051.0</td>\n      <td>NaN</td>\n      <td>931.0</td>\n      <td>6957.0</td>\n      <td>194.5</td>\n      <td>0.0</td>\n      <td>1823.5</td>\n      <td>3011.5</td>\n      <td>36604.0</td>\n    </tr>\n    <tr>\n      <th>8757</th>\n      <td>31</td>\n      <td>12</td>\n      <td>2019</td>\n      <td>20:00 -  21:00</td>\n      <td>220.0</td>\n      <td>1805.25</td>\n      <td>162.00</td>\n      <td>0.0</td>\n      <td>0.0</td>\n      <td>676.00</td>\n      <td>...</td>\n      <td>0.0</td>\n      <td>0.0</td>\n      <td>NaN</td>\n      <td>863.5</td>\n      <td>6956.5</td>\n      <td>155.0</td>\n      <td>0.0</td>\n      <td>1843.5</td>\n      <td>3122.5</td>\n      <td>34348.0</td>\n    </tr>\n    <tr>\n      <th>8758</th>\n      <td>31</td>\n      <td>12</td>\n      <td>2019</td>\n      <td>21:00 -  22:00</td>\n      <td>220.0</td>\n      <td>1778.00</td>\n      <td>163.25</td>\n      <td>0.0</td>\n      <td>0.0</td>\n      <td>341.00</td>\n      <td>...</td>\n      <td>0.0</td>\n      <td>0.0</td>\n      <td>NaN</td>\n      <td>824.0</td>\n      <td>6960.0</td>\n      <td>127.0</td>\n      <td>0.0</td>\n      <td>1960.5</td>\n      <td>3269.0</td>\n      <td>31251.5</td>\n    </tr>\n    <tr>\n      <th>8759</th>\n      <td>31</td>\n      <td>12</td>\n      <td>2019</td>\n      <td>22:00 -  23:00</td>\n      <td>218.0</td>\n      <td>1710.50</td>\n      <td>153.75</td>\n      <td>0.0</td>\n      <td>0.0</td>\n      <td>183.00</td>\n      <td>...</td>\n      <td>0.0</td>\n      <td>0.0</td>\n      <td>NaN</td>\n      <td>701.0</td>\n      <td>6962.0</td>\n      <td>124.5</td>\n      <td>0.0</td>\n      <td>1793.0</td>\n      <td>3606.0</td>\n      <td>28597.0</td>\n    </tr>\n    <tr>\n      <th>8760</th>\n      <td>31</td>\n      <td>12</td>\n      <td>2019</td>\n      <td>23:00 -  00:00</td>\n      <td>217.0</td>\n      <td>1650.00</td>\n      <td>144.75</td>\n      <td>0.0</td>\n      <td>0.0</td>\n      <td>194.75</td>\n      <td>...</td>\n      <td>0.0</td>\n      <td>0.0</td>\n      <td>NaN</td>\n      <td>651.0</td>\n      <td>6960.0</td>\n      <td>126.0</td>\n      <td>0.0</td>\n      <td>2081.5</td>\n      <td>3783.5</td>\n      <td>27646.0</td>\n    </tr>\n  </tbody>\n</table>\n<p>8761 rows × 329 columns</p>\n</div>"
     },
     "metadata": {},
     "execution_count": 9
    }
   ],
   "source": [
    "generation(countries)"
   ]
  },
  {
   "cell_type": "code",
   "execution_count": null,
   "metadata": {},
   "outputs": [],
   "source": []
  }
 ]
}