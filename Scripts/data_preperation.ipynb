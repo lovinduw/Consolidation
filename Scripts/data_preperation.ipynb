{
 "cells": [
  {
   "cell_type": "markdown",
   "source": [
    "# Data Preperation"
   ],
   "metadata": {}
  },
  {
   "cell_type": "code",
   "execution_count": 3,
   "source": [
    "import pandas as pd\r\n",
    "import numpy as np\r\n",
    "import glob\r\n",
    "import copy"
   ],
   "outputs": [],
   "metadata": {}
  },
  {
   "cell_type": "code",
   "execution_count": 4,
   "source": [
    "countries={ 'Austria': 'AT', 'Belgium': 'BE',  'Bulgaria': 'BG', 'Switzerland': 'CH', 'Czech Republic': 'CZ', 'Germany': 'DE', 'Denmark': 'DK', 'Estonia': 'EE', 'Spain': 'ES', 'Finland': 'FI', 'France': 'FR',  'Greece': 'GR', 'Hungary': 'HU', 'Ireland': 'IE', 'Italy': 'IT', 'Lithuania': 'LT', 'Latvia': 'LV', 'Montenegro': 'ME','Netherlands': 'NL', 'Norway': 'NO', 'Poland': 'PL', 'Portugal': 'PT', 'Serbia': 'RS', 'Sweden': 'SE', 'Slovenia': 'SI', 'Slovakia': 'SK', 'United Kingdom': 'UK'}\r\n",
    "\r\n",
    "abbr_list=list(countries.values())"
   ],
   "outputs": [],
   "metadata": {}
  },
  {
   "cell_type": "markdown",
   "source": [
    "## Making the first,second,third and fourth columns of the dataframe as date,month,year and time"
   ],
   "metadata": {}
  },
  {
   "cell_type": "code",
   "execution_count": 5,
   "source": [
    "data=pd.DataFrame()\r\n",
    "temp=pd.read_csv('../Data Sources/ENTSO-E/2018/Load/Croatia.csv')\r\n",
    "data['Day']=temp['Time (CET)'].str[:2]\r\n",
    "data['Month']=temp['Time (CET)'].str[3:5]\r\n",
    "data['Year']=temp['Time (CET)'].str[6:10]\r\n",
    "data['Time']=temp['Time (CET)'].str[11:16]+' - '+temp['Time (CET)'].str[29:35]"
   ],
   "outputs": [],
   "metadata": {}
  },
  {
   "cell_type": "markdown",
   "source": [
    "##"
   ],
   "metadata": {}
  },
  {
   "cell_type": "code",
   "execution_count": 6,
   "source": [
    "# In the country speciic Load data set, Austria,Belgium,Germany,Hungary,Netherlands report data every 15 minutes. \r\n",
    "# Therefore, these countries have 35044 data points per year. \r\n",
    "# UK and Ireland report data every 30 minutes henece these countries have 17522 datapoints per year. \r\n",
    "# All the others report every 1 hour hence have 8761 datapoints per year. \r\n",
    "# In Genearion dataset, situation is same as abobe except Belgium reports hourly data hence have 8761 datapoints. \r\n",
    "# In Transmission dataset, all countries report data hourly except Germany which reports every 15 minutes. \r\n",
    "# Therefroe,it is easy if all the data are converted to hourly data. \r\n",
    "# To do that in the countries with 35044 datapoints, mean is calculated in every successive 4 datapoints. \r\n",
    "# In the countries with 17522 datapoints, mean is calculated in every successive 2 datapoints.`\r\n",
    "\r\n",
    "def hourly_data(df):\r\n",
    "    length=len(df.index)\r\n",
    "    if length==35044:\r\n",
    "        divider=4\r\n",
    "    elif length==17522:\r\n",
    "        divider=2\r\n",
    "    else:\r\n",
    "        divider=1\r\n",
    "\r\n",
    "    # Following command creates a numpy array with a length similar to the length of the dataframe. \r\n",
    "    # Values of the array are obtained by getting the floor division of the length value. \r\n",
    "    # For example, when divider=4, this array will be [0,0,0,0,1,1,1,1,2,2,2,2,....]. \r\n",
    "    # Then the rows of the dataframe will be grouped according to the order of the numpy array with the mean value of those 4 rows. \r\n",
    "    # For example, in the numpy array first 4 values are similar. Accordingly first 4 rows of the dataframe will be grouped and get the mean value of those rows \r\n",
    "    \r\n",
    "    df=df.groupby(np.arange(length)//divider).mean()\r\n",
    "    return(df)    "
   ],
   "outputs": [],
   "metadata": {}
  },
  {
   "cell_type": "markdown",
   "source": [
    "# 1. Preparing Load Data"
   ],
   "metadata": {}
  },
  {
   "cell_type": "code",
   "execution_count": 7,
   "source": [
    "def load(countries):\r\n",
    "\r\n",
    "    load_dic = {}\r\n",
    "    load_data=pd.DataFrame()\r\n",
    "    load_data[['Day','Month','Year','Time']]=data[['Day','Month','Year','Time']]\r\n",
    "\r\n",
    "    # In the following command we open the csv file of each country and save the data in the 'temp' dataframe. \r\n",
    "    # Then we call the 'hourly_data' function to make all the time steps to hourly data. \r\n",
    "    # Then the column 'Actual Total Load [MW] - {country_name} ({country_code})' is saved in the new dataframe 'load_data' under the column name '{country_code}'. \r\n",
    "    # For example, the column 'Actual Total Load [MW] - Germany (DE)' in the 'temp' dataframe will be saved in the 'load_data' dataframe under the column name 'DE'.\r\n",
    "    \r\n",
    "    for country,abbr in countries.items():\r\n",
    "        temp=pd.read_csv(f'../Data Sources/ENTSO-E/2018/Load/{country}.csv')\r\n",
    "        temp = temp.replace(['n/e',np.nan] ,0)\r\n",
    "        temp = hourly_data(temp)\r\n",
    "        load_data[f'{abbr}']=temp[f'Actual Total Load [MW] - {country} ({abbr})']\r\n",
    "        temp['demand'] = temp[f'Actual Total Load [MW] - {country} ({abbr})']\r\n",
    "        load_dic[abbr] = temp[['demand']]\r\n",
    "\r\n",
    "    return(load_data,load_dic)\r\n"
   ],
   "outputs": [],
   "metadata": {}
  },
  {
   "cell_type": "markdown",
   "source": [
    "# 2. Preparing Generation Data"
   ],
   "metadata": {}
  },
  {
   "cell_type": "code",
   "execution_count": 8,
   "source": [
    "def generation(load_dic,countries):\r\n",
    "    \r\n",
    "    load_dic_copy = copy.deepcopy(load_dic)\r\n",
    "    generation_dic = {}\r\n",
    "    generation_data=pd.DataFrame()\r\n",
    "    generation_data[['Day','Month','Year','Time']]=data[['Day','Month','Year','Time']]\r\n",
    "\r\n",
    "    # In the following command we open the csv file of each country and save the data in the 'temp' dataframe. \r\n",
    "    # Then we make all the 'n/e' values of the 'temp' 0.\r\n",
    "    # Then we copy the hydro pumped storage consumption data to load_data of the respective country\r\n",
    "    # then we remove the 'Hydro Pumped Storage  - Actual Consumption [MW]' column\r\n",
    "    # Then we call the 'hourly_data' function to make all the time steps to hourly data. \r\n",
    "    # Then we remove the columns in which a single data is not recorded\r\n",
    "    # Then we get the column names of the 'temp' dataframe into a numpy array called 'fuels' and get the column name without the '- Actual Aggregated [MW]' part.\r\n",
    "    # Then we change the column names of the dataframe with the edited names in the previous step.\r\n",
    "    # Then we update the 'generation_data' dataframe and 'generation_dic' dictionary using the 'temp' dataframe.\r\n",
    "        \r\n",
    "    for country,abbr in countries.items():\r\n",
    "        temp=pd.read_csv(f'../Data Sources/ENTSO-E/2018/Generation/{country}.csv',low_memory=False)\r\n",
    "        temp = temp.replace(['n/e',np.nan] ,0)\r\n",
    "        temp = temp.drop(['Hydro Pumped Storage  - Actual Consumption [MW]'],axis=1)\r\n",
    "\r\n",
    "        temp=hourly_data(temp)\r\n",
    "        \r\n",
    "        for column in temp.columns.values:\r\n",
    "            if(temp[column]==0).all():\r\n",
    "                temp=temp.drop(column,axis=1)\r\n",
    "\r\n",
    "        fuels = [x[:-26] for x in temp.columns.values]\r\n",
    "        temp.columns = fuels\r\n",
    "\r\n",
    "        for fuel in fuels:\r\n",
    "            generation_data[f'{abbr} - {fuel}'] = temp[fuel]\r\n",
    "\r\n",
    "        generation_dic[abbr] = temp\r\n",
    "\r\n",
    "    return(generation_data,generation_dic,load_dic_copy)\r\n"
   ],
   "outputs": [],
   "metadata": {}
  },
  {
   "cell_type": "markdown",
   "source": [
    "# 3. Preparing Cross-border Transmission Data"
   ],
   "metadata": {}
  },
  {
   "cell_type": "code",
   "execution_count": 9,
   "source": [
    "def cross_border(abbr_list):\r\n",
    "\r\n",
    "    transmission_data = pd.DataFrame()\r\n",
    "    cross_border_data = pd.DataFrame()\r\n",
    "    cross_border_data[['Day','Month','Year','Time']]=data[['Day','Month','Year','Time']]\r\n",
    "\r\n",
    "# In the following command we get the list of the paths of all files in the directory. \r\n",
    "# Then one by one we copy each csv to 'temp' dataframe and make all the 'n/e' values of the 'temp' 0. \r\n",
    "# Then we cretae two new column in the 'transmission_data' dataframe and name it as the two country codes the power transmission occurs. \r\n",
    "# We use string editing to get the two country codes from the file path. \r\n",
    "# For example, in the power transmission occur between Germany and Austria, we name the column as 'DE -> AT' and if the power transmission occur between Austria and Germany, we name the column as 'AT -> DE '.\r\n",
    "# We use 'pd.to_numeric' function to convert the string values to numerical values if any numeric values have been recorded as string in the datasets. \r\n",
    "# Then we send the numeric converted column to 'hourly_data' function because cross border trasnmissions occur between Germany and a some countries have 35044 data points but We need to convert them to hourly values.\r\n",
    "# Then we make a list of column heads of imports and exports associated with a given country_abbreviation \r\n",
    "# After this step we assume imports power transmission as a negative value and exports transmission as a positive value of a given country. \r\n",
    "# Therefore we multiply the 'imports' columns of the 'transmission_data' dataframe by -1 and add the 'exports' columns of the 'transmission_data' to get the net inbound/outbound in that country in that particular time step and save that in the 'cross_border_data' dataframe.\r\n",
    "# Then we filter the transmission links between given two countries in which if both countries associated with the power transmission are included in our country_abbreviation list.\r\n",
    "# For example power import(export) occurs from(to) a country other than the countries in the abbreviation_list (for ex: 'Cyprus','Turkey' etc.) are omitted. \r\n",
    "# Then we select only those filtered columns in the 'transmission_data' dataframe.\r\n",
    "\r\n",
    "    csvs = glob.glob(\"../Data Sources/ENTSO-E/2018/Transmission/*.csv\")\r\n",
    "\r\n",
    "    for csv in csvs:\r\n",
    "        temp = pd.read_csv(csv)\r\n",
    "        temp = temp.replace(['n/e', np.nan], 0)\r\n",
    "\r\n",
    "        transmission_data[f'{csv[42:44]} - > {csv[45:47]}'] = hourly_data(pd.to_numeric(temp.iloc[:, 2]))\r\n",
    "        transmission_data[f'{csv[45:47]} - > {csv[42:44]}'] = hourly_data(pd.to_numeric(temp.iloc[:, 1]))\r\n",
    "\r\n",
    "    for abbr in abbr_list:\r\n",
    "        imports = [x for x in transmission_data.columns.values if abbr in x[-2:]]\r\n",
    "        exports = [x for x in transmission_data.columns.values if abbr in x[:2]]\r\n",
    "\r\n",
    "        cross_border_data[f'{abbr}'] = transmission_data[exports].sum(axis=1) + (transmission_data[imports].sum(axis=1))*-1\r\n",
    "\r\n",
    "    transmission_lines = list([x for x in transmission_data.columns.values if x[:2] in abbr_list and x[-2:] in abbr_list])\r\n",
    "    transmission_data = transmission_data[transmission_lines]\r\n",
    "\r\n",
    "    return cross_border_data, transmission_data\r\n"
   ],
   "outputs": [],
   "metadata": {}
  },
  {
   "cell_type": "markdown",
   "source": [
    "## 3.1 Calculating net imports/exports based on generation and load data "
   ],
   "metadata": {}
  },
  {
   "cell_type": "code",
   "execution_count": 11,
   "source": [
    "def import_export_using_load_gen(load_data, generation_data, abbr_list):\r\n",
    "\r\n",
    "    import_export_data = pd.DataFrame()\r\n",
    "    import_export_data[['Day', 'Month', 'Year', 'Time']] = load_data[['Day', 'Month', 'Year', 'Time']]\r\n",
    "\r\n",
    "    # In the following command we calculate net import/export in each time step of each country by subtracting '{country_code}' column of 'load_data' dataframe from '{country_code} - Total' of 'generation_data' dataframe and save the result in '{country_code} - [gen - load]' column of 'import_export_data' dataframe.\r\n",
    "    # for example, import_export_data['DE - [gen - load]']=generation_data['DE - Total'] - load_data['DE'].\r\n",
    "    # Then we create a new column in the 'import_export_data' dataframe called '{country_code} - import/export' and make that column 'Net Export' if '{country_code} - [gen - load]' is greater than 0 and make the '{country_code} - import/export' column 'Net Import' if '{country_code} - [gen - load]' is equal or lower than 0\r\n",
    "\r\n",
    "    for abbr in abbr_list:\r\n",
    "        import_export_data[f'{abbr}'] = generation_data.filter(like=abbr).sum(axis=1) - load_data[f'{abbr}']\r\n",
    "\r\n",
    "    return(import_export_data)\r\n"
   ],
   "outputs": [],
   "metadata": {}
  },
  {
   "cell_type": "markdown",
   "source": [
    "## 3.2 Calculating net imports/exports based on cross-border transmission data "
   ],
   "metadata": {}
  },
  {
   "cell_type": "code",
   "execution_count": 12,
   "source": [
    "def import_export_using_crossborder(crossborder_data, abbr_list):\r\n",
    "\r\n",
    "    import_export_data = pd.DataFrame()\r\n",
    "    import_export_data[['Day', 'Month', 'Year', 'Time']] = crossborder_data[['Day', 'Month', 'Year', 'Time']]\r\n",
    "\r\n",
    "# In the following command we copy the '{country_code}' column of 'crossborder_data' dataframe to '{country_code} - [exp - imp]' column of 'import_export_data' dataframe.\r\n",
    "# for example, import_export_data['DE - [exp - imp]'].\r\n",
    "# Then we create a new column in the 'import_export_data' dataframe called '{country_code} - import/export' and make that column 'Net Export' if '{country_code} - [exp - imp]' is greater than 0 and make the '{country_code} - import/export' column 'Net Import' if '{country_code} - [exp - imp]' is equal or lower than 0\r\n",
    "\r\n",
    "    for abbr in abbr_list:\r\n",
    "        import_export_data[f'{abbr}'] = crossborder_data[f'{abbr}']\r\n",
    "\r\n",
    "    return(import_export_data)\r\n"
   ],
   "outputs": [],
   "metadata": {}
  },
  {
   "cell_type": "markdown",
   "source": [
    "# 4. Internal sigma calculation"
   ],
   "metadata": {}
  },
  {
   "cell_type": "markdown",
   "source": [
    "## 4.1 Sigma calculation"
   ],
   "metadata": {}
  },
  {
   "cell_type": "code",
   "execution_count": 13,
   "source": [
    "def sigma(load_data,generation_data,transmission_data,abbr_list):\r\n",
    "\r\n",
    "    eph = 0.1\r\n",
    "    A=100\r\n",
    "    load_gen_data = {}\r\n",
    "    sigma = {}\r\n",
    "\r\n",
    "    # First we create a new dictionary called 'load_gen_data' and in that dictionary keys are country_abbreviations and as value of each key we add the combined demand column of each country and generation columns from all the sources in that country.\r\n",
    "    # Then in each value of the dictionary (which is a dataframe), we add new columns with the name '{Original_column_name} moving_average' and make it 0.\r\n",
    "    # Then we get the moving average of each timestep using the values in that same time period in the last 10 days.\r\n",
    "    # This creates null values in the first 10 days of the year. We fill them with the values from the original column.\r\n",
    "    # Then in these 'moving_average' columns we replace the value with 0.1, if the current value is less than 0.1. \r\n",
    "    # Then in these 'moving_average' columns we change the value as 100/current_value.\r\n",
    "    # Then we filter only the column names which have 'moving_avareg' as column name and remove the 'moving_average' part from the column name.\r\n",
    "    # We save the resultant dataframe as a value in a dictionary called 'sigma' with the key as country_abbreviation.\r\n",
    "    # We do the same procedure for transmission_data and save the resultant dataframe as the value of 'transmission_data' key of 'sigma' dictionary.\r\n",
    "\r\n",
    "    for abbr, df in generation_data.items():\r\n",
    "        load_gen_data[abbr] = pd.concat([df, load_data[abbr]],axis=1)\r\n",
    "\r\n",
    "    for abbr, df in load_gen_data.items():\r\n",
    "        for column in df.columns.values:\r\n",
    "            df[column + \"_moving_average\"] = 0\r\n",
    "            for i in range(10):\r\n",
    "                df[column + \"_moving_average\"] += df[column].shift(24 * i) / 10\r\n",
    "            df[column + \"_moving_average\"].fillna(df[column], inplace=True)\r\n",
    "            df[column + \"_moving_average\"] = df[column + \"_moving_average\"].apply(lambda x: eph if x < eph else x)\r\n",
    "            df[column + \"_moving_average\"] = df[column + \"_moving_average\"].apply(lambda x:  A/x)\r\n",
    "        df = df[[x for x in df.columns.values if \"_moving_average\" in x]]\r\n",
    "        df.columns = [[x[:-15] for x in df.columns.values]]\r\n",
    "        sigma[abbr] = df\r\n",
    "\r\n",
    "    for transmission in transmission_data.columns.values:\r\n",
    "        transmission_data[transmission + \"_moving_average\"] = 0\r\n",
    "        for i in range(10):\r\n",
    "            transmission_data[transmission + \"_moving_average\"] += transmission_data[transmission].shift(24 * i) /10\r\n",
    "        transmission_data[transmission + \"_moving_average\"].fillna(transmission_data[transmission], inplace=True)\r\n",
    "        transmission_data[transmission + \"_moving_average\"] = transmission_data[transmission + \"_moving_average\"].apply(lambda x: eph if x < eph else x)\r\n",
    "        transmission_data[transmission + \"_moving_average\"] = transmission_data[transmission + \"_moving_average\"].apply(lambda x:  A/x)\r\n",
    "    transmission_data = transmission_data[[x for x in transmission_data.columns.values if \"_moving_average\" in x]]\r\n",
    "    transmission_data.columns = [[x[:-15] for x in transmission_data.columns.values]]\r\n",
    "    sigma[\"transmission_data\"] = transmission_data\r\n",
    "\r\n",
    "    return(sigma)\r\n"
   ],
   "outputs": [],
   "metadata": {}
  },
  {
   "cell_type": "markdown",
   "source": [
    "## 4.2 Internal data consolidation"
   ],
   "metadata": {}
  },
  {
   "cell_type": "code",
   "execution_count": 14,
   "source": [
    "def data_consolidation(generation_dic_copy, load_dic, transmission_data_copy, intermediary_var, unit_var):\r\n",
    "    consolidated_gen_data = {}\r\n",
    "    consolidated_load_data = {}\r\n",
    "    consolidated_transmission_data = {}\r\n",
    "\r\n",
    "    # In the following command, we fill each generation by source value in each timestep in each country with ('intermediary_var[\"generation\"]' + 'original_value' * 'unit_var['generation]') value of that value\r\n",
    "    # Similarly we fill each load value in each timestep in each country with ('intermediary_var['load'] + 'original_value' * 'unit_var['load']') value of that value\r\n",
    "    # Then we save the consolidated generation and load values in seperate csv files.\r\n",
    "    # We follow similar steps to obtain consolidated transmission values and save the result in a seperate csv file. \r\n",
    "\r\n",
    "    for abbr, df in generation_dic_copy.items():\r\n",
    "        for column in df.columns:\r\n",
    "            df[column] = intermediary_var[\"generation\"][abbr][column] + \\\r\n",
    "                df[column] * unit_var[\"generation\"][abbr][column]\r\n",
    "        consolidated_gen_data[abbr] = df\r\n",
    "        consolidated_load_data[abbr] = intermediary_var[\"load\"][abbr]['demand'] + \\\r\n",
    "            load_dic[abbr]['demand'] * unit_var[\"load\"][abbr]['demand']\r\n",
    "        consolidated_gen_data[abbr].to_csv(f\"../Data Sources/output/Internal Sigma/Reconciled data/Generation/{abbr}.csv\")\r\n",
    "        consolidated_load_data[abbr].to_csv(f\"../Data Sources/output/Internal Sigma/Reconciled data/Load/{abbr}.csv\")\r\n",
    "\r\n",
    "    for column in transmission_data_copy.columns:\r\n",
    "        transmission_data_copy[column] = intermediary_var[\"transmission\"][column] + \\\r\n",
    "            transmission_data_copy[column] * unit_var[\"transmission\"][column]\r\n",
    "    consolidated_transmission_data = transmission_data_copy\r\n",
    "    consolidated_transmission_data.to_csv('../Data Sources/output/Internal Sigma/Reconciled data/Transmission/all_transmissions.csv')\r\n",
    "\r\n",
    "    return(consolidated_gen_data, consolidated_load_data, consolidated_transmission_data)\r\n"
   ],
   "outputs": [],
   "metadata": {}
  },
  {
   "cell_type": "code",
   "execution_count": 15,
   "source": [
    "# sigma(load(countries)[1], generation(countries)[1], cross_border(abbr_list)[1],abbr_list)"
   ],
   "outputs": [],
   "metadata": {}
  }
 ],
 "metadata": {
  "interpreter": {
   "hash": "ecf5722fdaf1897a315d257d89d94520bfcaa453217d5becf09b39e73618b0de"
  },
  "kernelspec": {
   "name": "python3",
   "display_name": "Python 3.9.5 64-bit ('base': conda)"
  },
  "language_info": {
   "codemirror_mode": {
    "name": "ipython",
    "version": 3
   },
   "file_extension": ".py",
   "mimetype": "text/x-python",
   "name": "python",
   "nbconvert_exporter": "python",
   "pygments_lexer": "ipython3",
   "version": "3.9.5"
  }
 },
 "nbformat": 4,
 "nbformat_minor": 4
}