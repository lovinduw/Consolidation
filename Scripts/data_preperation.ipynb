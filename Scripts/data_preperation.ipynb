{
 "metadata": {
  "language_info": {
   "codemirror_mode": {
    "name": "ipython",
    "version": 3
   },
   "file_extension": ".py",
   "mimetype": "text/x-python",
   "name": "python",
   "nbconvert_exporter": "python",
   "pygments_lexer": "ipython3",
   "version": "3.9.1"
  },
  "orig_nbformat": 4,
  "kernelspec": {
   "name": "python3",
   "display_name": "Python 3.9.1 64-bit"
  },
  "interpreter": {
   "hash": "acb9e0cfff3151089362f20c3a81c7531326aa2c5fdbbc2eccac94359104a8e2"
  }
 },
 "nbformat": 4,
 "nbformat_minor": 2,
 "cells": [
  {
   "cell_type": "code",
   "execution_count": 182,
   "metadata": {},
   "outputs": [],
   "source": [
    "import pandas as pd\n",
    "import numpy as np"
   ]
  },
  {
   "source": [
    "## Making the first,second,third and fourth columns of the dataframe as date,month,year and time"
   ],
   "cell_type": "markdown",
   "metadata": {}
  },
  {
   "cell_type": "code",
   "execution_count": 184,
   "metadata": {},
   "outputs": [],
   "source": [
    "data=pd.DataFrame()\n",
    "temp=pd.read_csv('../Data Sources/ENTSO-E/Load/Croatia.csv')\n",
    "data['Day']=temp['Time (CET)'].str[:2]\n",
    "data['Month']=temp['Time (CET)'].str[3:5]\n",
    "data['Year']=temp['Time (CET)'].str[6:10]\n",
    "data['Time']=temp['Time (CET)'].str[11:16]+' - '+temp['Time (CET)'].str[29:35]"
   ]
  },
  {
   "source": [
    "### In the country speciic Load data set, Austria,Belgium,Germany,Hungary,Netherlands report data every 15 minutes. Therefore, these countries have 35044 data points per year. UK and Ireland report data every 30 minutes henece these countries have 17522 datapoints per year. All the others report every 1 hour hence have 8761 datapoints per year. In Genearion dataset, situation is same as abobe except Belgium reports hourly data hence have 8761 datapoints. In Transmission dataset, all countries report data hourly. Therefroe,it is easy if all the data are converted to hourly data. To do that in the countries with 35044 datapoints, mean is calculated in every successive 4 datapoints. In the countries with 17522 datapoints, mean is calculated in every successive 2 datapoints.`"
   ],
   "cell_type": "markdown",
   "metadata": {}
  },
  {
   "cell_type": "code",
   "execution_count": 185,
   "metadata": {},
   "outputs": [],
   "source": [
    "def mean_calculator(df):\n",
    "    length=len(df.index)\n",
    "    if length==35044:\n",
    "        divider=4\n",
    "    elif length==17522:\n",
    "        divider=2\n",
    "    else:\n",
    "        divider=1\n",
    "\n",
    "    df=df.groupby(np.arange(length)//divider).mean()\n",
    "    return(df)    "
   ]
  },
  {
   "source": [
    "# Preparing Load Data"
   ],
   "cell_type": "markdown",
   "metadata": {}
  },
  {
   "cell_type": "code",
   "execution_count": 186,
   "metadata": {},
   "outputs": [],
   "source": [
    "def load(countries):\n",
    "\n",
    "    load_data=pd.DataFrame()\n",
    "    load_data[['Day','Month','Year','Time']]=data[['Day','Month','Year','Time']]\n",
    "\n",
    "    for country,abbr in countries.items():\n",
    "        temp=pd.read_csv(f'../Data Sources/ENTSO-E/Load/{country}.csv')\n",
    "        temp=mean_calculator(temp)\n",
    "        load_data[f'{abbr}']=temp[f'Actual Total Load [MW] - {country} ({abbr})']\n",
    "        \n",
    "    return(load_data)"
   ]
  },
  {
   "source": [
    "# Preparing Generation Data"
   ],
   "cell_type": "markdown",
   "metadata": {}
  },
  {
   "cell_type": "code",
   "execution_count": 187,
   "metadata": {},
   "outputs": [],
   "source": [
    "def generation(countries):\n",
    "    \n",
    "    generation_data=pd.DataFrame()\n",
    "    generation_data[['Day','Month','Year','Time']]=data[['Day','Month','Year','Time']]\n",
    "\n",
    "    for country,abbr in countries.items():\n",
    "        temp=pd.read_csv(f'../Data Sources/ENTSO-E/Generation/{country}.csv',low_memory=False)\n",
    "        temp=mean_calculator(temp)\n",
    "\n",
    "        fuels=np.array(temp.columns)\n",
    "        for fuel in fuels:\n",
    "            edited_fuel=fuel[:-26]\n",
    "            generation_data[f'{abbr} - {edited_fuel}']=temp[fuel]\n",
    "\n",
    "    return(generation_data)"
   ]
  },
  {
   "cell_type": "code",
   "execution_count": null,
   "metadata": {},
   "outputs": [],
   "source": []
  }
 ]
}