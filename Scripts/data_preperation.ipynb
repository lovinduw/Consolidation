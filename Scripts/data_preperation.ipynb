{
 "metadata": {
  "language_info": {
   "codemirror_mode": {
    "name": "ipython",
    "version": 3
   },
   "file_extension": ".py",
   "mimetype": "text/x-python",
   "name": "python",
   "nbconvert_exporter": "python",
   "pygments_lexer": "ipython3",
   "version": "3.9.1"
  },
  "orig_nbformat": 4,
  "kernelspec": {
   "name": "python3",
   "display_name": "Python 3.9.1 64-bit ('Python39')"
  },
  "interpreter": {
   "hash": "acb9e0cfff3151089362f20c3a81c7531326aa2c5fdbbc2eccac94359104a8e2"
  }
 },
 "nbformat": 4,
 "nbformat_minor": 2,
 "cells": [
  {
   "cell_type": "code",
   "execution_count": 2,
   "metadata": {},
   "outputs": [],
   "source": [
    "import pandas as pd\n",
    "import numpy as np"
   ]
  },
  {
   "cell_type": "code",
   "execution_count": 3,
   "metadata": {},
   "outputs": [],
   "source": [
    "countries={'Albania': 'AL', 'Armenia': 'AM', 'Austria': 'AT', 'Azerbaijan': 'AZ', 'Belarus': 'BY','Belgium': 'BE', 'Bosnia and Herz.': 'BA', 'Bulgaria': 'BG', 'Croatia': 'HR', 'Cyprus': 'CY', 'Switzerland': 'CH', 'Czech Republic': 'CZ', 'Germany': 'DE', 'Georgia': 'GE', 'Denmark': 'DK', 'Estonia': 'EE', 'Spain': 'ES', 'Finland': 'FI', 'France': 'FR', 'United Kingdom': 'UK', 'Greece': 'GR', 'Hungary': 'HU', 'Iceland': 'IS', 'Ireland': 'IE', 'Italy': 'IT', 'Lithuania': 'LT', 'Luxembourg': 'LU', 'Latvia': 'LV', 'Montenegro': 'ME', 'North Macedonia': 'MK', 'Netherlands': 'NL', 'Norway': 'NO', 'Poland': 'PL', 'Portugal': 'PT', 'Romania': 'RO', 'Serbia': 'RS', 'Sweden': 'SE', 'Slovenia': 'SI', 'Slovakia': 'SK', 'Kosovo': 'XK', 'Turkey': 'TR', 'Ukraine': 'UA', 'Russia': 'RU',  'Malta': 'MT', 'Moldova': 'MD'}"
   ]
  },
  {
   "cell_type": "code",
   "execution_count": 8,
   "metadata": {},
   "outputs": [],
   "source": [
    "fuels=['Biomass', 'Fossil Brown coal/Lignite', 'Fossil Coal-derived gas', 'Fossil Gas', 'Fossil Hard coal', 'Fossil Oil', 'Fossil Oil shale', 'Fossil Peat', 'Geothermal', 'Hydro Pumped Storage', 'Hydro Pumped Storage', 'Hydro Run-of-river and poundage', 'Hydro Water Reservoir', 'Marine', 'Nuclear', 'Other', 'Other renewable', 'Solar', 'Waste', 'Wind Offshore', 'Wind Onshore']"
   ]
  },
  {
   "source": [
    "# Preparing Load Data"
   ],
   "cell_type": "markdown",
   "metadata": {}
  },
  {
   "source": [
    "## Making the first,second,third and fourth columns of the dataframe as date,month,year and time"
   ],
   "cell_type": "markdown",
   "metadata": {}
  },
  {
   "cell_type": "code",
   "execution_count": 9,
   "metadata": {},
   "outputs": [],
   "source": [
    "temp=pd.read_csv('../Data Sources/ENTSO-E/Load/Germany.csv')\n",
    "load_data=pd.DataFrame()\n",
    "load_data['Day']=temp['Time (CET)'].str[:2]\n",
    "load_data['Month']=temp['Time (CET)'].str[3:5]\n",
    "load_data['Year']=temp['Time (CET)'].str[6:10]\n",
    "load_data['Time']=temp['Time (CET)'].str[11:16]+' - '+temp['Time (CET)'].str[29:35]"
   ]
  },
  {
   "source": [
    "## Getting the load data of all countries into a single dataframe"
   ],
   "cell_type": "markdown",
   "metadata": {}
  },
  {
   "cell_type": "code",
   "execution_count": 10,
   "metadata": {},
   "outputs": [],
   "source": [
    "for country,abbr in countries.items():\n",
    "    temp=pd.read_csv(f'../Data Sources/ENTSO-E/Load/{country}.csv')\n",
    "    load_data[f'{abbr}']=temp[f'Actual Total Load [MW] - {country} ({abbr})']"
   ]
  },
  {
   "cell_type": "code",
   "execution_count": 11,
   "metadata": {},
   "outputs": [
    {
     "output_type": "execute_result",
     "data": {
      "text/plain": [
       "  Day Month  Year            Time  AL   AM      AT   AZ   BY      BE  ...  \\\n",
       "0  01    01  2019  00:00 -  00:15 NaN  n/e  6139.0  n/e  n/e  9122.0  ...   \n",
       "1  01    01  2019  00:15 -  00:30 NaN  n/e  6108.0  n/e  n/e  9060.0  ...   \n",
       "2  01    01  2019  00:30 -  00:45 NaN  n/e  6054.0  n/e  n/e  8964.0  ...   \n",
       "3  01    01  2019  00:45 -  01:00 NaN  n/e  5999.0  n/e  n/e  8747.0  ...   \n",
       "4  01    01  2019  01:00 -  01:15 NaN  n/e  5976.0  n/e  n/e  8729.0  ...   \n",
       "\n",
       "       RS       SE      SI      SK   XK   TR       UA   RU   MT   MD  \n",
       "0  5290.0  14597.0  1164.0  2835.0  n/e  n/e  16997.0  n/e  n/e  n/e  \n",
       "1  5282.0  14375.0  1129.0  2744.0  n/e  n/e  16726.0  n/e  n/e  n/e  \n",
       "2  5067.0  14153.0  1084.0  2679.0  n/e  n/e  16572.0  n/e  n/e  n/e  \n",
       "3  4739.0  13896.0  1038.0  2608.0  n/e  n/e  16449.0  n/e  n/e  n/e  \n",
       "4  4445.0  13955.0  1018.0  2602.0  n/e  n/e  16300.0  n/e  n/e  n/e  \n",
       "\n",
       "[5 rows x 49 columns]"
      ],
      "text/html": "<div>\n<style scoped>\n    .dataframe tbody tr th:only-of-type {\n        vertical-align: middle;\n    }\n\n    .dataframe tbody tr th {\n        vertical-align: top;\n    }\n\n    .dataframe thead th {\n        text-align: right;\n    }\n</style>\n<table border=\"1\" class=\"dataframe\">\n  <thead>\n    <tr style=\"text-align: right;\">\n      <th></th>\n      <th>Day</th>\n      <th>Month</th>\n      <th>Year</th>\n      <th>Time</th>\n      <th>AL</th>\n      <th>AM</th>\n      <th>AT</th>\n      <th>AZ</th>\n      <th>BY</th>\n      <th>BE</th>\n      <th>...</th>\n      <th>RS</th>\n      <th>SE</th>\n      <th>SI</th>\n      <th>SK</th>\n      <th>XK</th>\n      <th>TR</th>\n      <th>UA</th>\n      <th>RU</th>\n      <th>MT</th>\n      <th>MD</th>\n    </tr>\n  </thead>\n  <tbody>\n    <tr>\n      <th>0</th>\n      <td>01</td>\n      <td>01</td>\n      <td>2019</td>\n      <td>00:00 -  00:15</td>\n      <td>NaN</td>\n      <td>n/e</td>\n      <td>6139.0</td>\n      <td>n/e</td>\n      <td>n/e</td>\n      <td>9122.0</td>\n      <td>...</td>\n      <td>5290.0</td>\n      <td>14597.0</td>\n      <td>1164.0</td>\n      <td>2835.0</td>\n      <td>n/e</td>\n      <td>n/e</td>\n      <td>16997.0</td>\n      <td>n/e</td>\n      <td>n/e</td>\n      <td>n/e</td>\n    </tr>\n    <tr>\n      <th>1</th>\n      <td>01</td>\n      <td>01</td>\n      <td>2019</td>\n      <td>00:15 -  00:30</td>\n      <td>NaN</td>\n      <td>n/e</td>\n      <td>6108.0</td>\n      <td>n/e</td>\n      <td>n/e</td>\n      <td>9060.0</td>\n      <td>...</td>\n      <td>5282.0</td>\n      <td>14375.0</td>\n      <td>1129.0</td>\n      <td>2744.0</td>\n      <td>n/e</td>\n      <td>n/e</td>\n      <td>16726.0</td>\n      <td>n/e</td>\n      <td>n/e</td>\n      <td>n/e</td>\n    </tr>\n    <tr>\n      <th>2</th>\n      <td>01</td>\n      <td>01</td>\n      <td>2019</td>\n      <td>00:30 -  00:45</td>\n      <td>NaN</td>\n      <td>n/e</td>\n      <td>6054.0</td>\n      <td>n/e</td>\n      <td>n/e</td>\n      <td>8964.0</td>\n      <td>...</td>\n      <td>5067.0</td>\n      <td>14153.0</td>\n      <td>1084.0</td>\n      <td>2679.0</td>\n      <td>n/e</td>\n      <td>n/e</td>\n      <td>16572.0</td>\n      <td>n/e</td>\n      <td>n/e</td>\n      <td>n/e</td>\n    </tr>\n    <tr>\n      <th>3</th>\n      <td>01</td>\n      <td>01</td>\n      <td>2019</td>\n      <td>00:45 -  01:00</td>\n      <td>NaN</td>\n      <td>n/e</td>\n      <td>5999.0</td>\n      <td>n/e</td>\n      <td>n/e</td>\n      <td>8747.0</td>\n      <td>...</td>\n      <td>4739.0</td>\n      <td>13896.0</td>\n      <td>1038.0</td>\n      <td>2608.0</td>\n      <td>n/e</td>\n      <td>n/e</td>\n      <td>16449.0</td>\n      <td>n/e</td>\n      <td>n/e</td>\n      <td>n/e</td>\n    </tr>\n    <tr>\n      <th>4</th>\n      <td>01</td>\n      <td>01</td>\n      <td>2019</td>\n      <td>01:00 -  01:15</td>\n      <td>NaN</td>\n      <td>n/e</td>\n      <td>5976.0</td>\n      <td>n/e</td>\n      <td>n/e</td>\n      <td>8729.0</td>\n      <td>...</td>\n      <td>4445.0</td>\n      <td>13955.0</td>\n      <td>1018.0</td>\n      <td>2602.0</td>\n      <td>n/e</td>\n      <td>n/e</td>\n      <td>16300.0</td>\n      <td>n/e</td>\n      <td>n/e</td>\n      <td>n/e</td>\n    </tr>\n  </tbody>\n</table>\n<p>5 rows × 49 columns</p>\n</div>"
     },
     "metadata": {},
     "execution_count": 11
    }
   ],
   "source": [
    "load_data.head()"
   ]
  },
  {
   "source": [
    "# Preparing Generation Data"
   ],
   "cell_type": "markdown",
   "metadata": {}
  },
  {
   "cell_type": "code",
   "execution_count": 12,
   "metadata": {},
   "outputs": [],
   "source": [
    "generation_data=pd.DataFrame()\n",
    "generation_data[['Day','Month','Year','Time']]=load_data[['Day','Month','Year','Time']]"
   ]
  },
  {
   "cell_type": "code",
   "execution_count": 14,
   "metadata": {},
   "outputs": [
    {
     "output_type": "stream",
     "name": "stderr",
     "text": [
      "C:\\Users\\lovin\\AppData\\Local\\Programs\\Python\\Python39\\lib\\site-packages\\IPython\\core\\interactiveshell.py:3169: DtypeWarning: Columns (19) have mixed types.Specify dtype option on import or set low_memory=False.\n  has_raised = await self.run_ast_nodes(code_ast.body, cell_name,\n"
     ]
    }
   ],
   "source": [
    "for country,abbr in countries.items():\n",
    "    temp=pd.read_csv(f'../Data Sources/ENTSO-E/Generation/{country}.csv')\n",
    "    for fuel in fuels:\n",
    "        generation_data[f'{fuel} - {abbr}']=temp[f'{fuel}  - Actual Aggregated [MW]']"
   ]
  },
  {
   "cell_type": "code",
   "execution_count": 16,
   "metadata": {},
   "outputs": [
    {
     "output_type": "execute_result",
     "data": {
      "text/plain": [
       "  Day Month  Year            Time Biomass - AL Fossil Brown coal/Lignite - AL  \\\n",
       "0  01    01  2019  00:00 -  00:15          n/e                            n/e   \n",
       "1  01    01  2019  00:15 -  00:30          n/e                            n/e   \n",
       "2  01    01  2019  00:30 -  00:45          n/e                            n/e   \n",
       "3  01    01  2019  00:45 -  01:00          n/e                            n/e   \n",
       "4  01    01  2019  01:00 -  01:15          n/e                            n/e   \n",
       "\n",
       "  Fossil Coal-derived gas - AL Fossil Gas - AL Fossil Hard coal - AL  \\\n",
       "0                          n/e             n/e                   n/e   \n",
       "1                          n/e             n/e                   n/e   \n",
       "2                          n/e             n/e                   n/e   \n",
       "3                          n/e             n/e                   n/e   \n",
       "4                          n/e             n/e                   n/e   \n",
       "\n",
       "  Fossil Oil - AL  ... Hydro Run-of-river and poundage - MD  \\\n",
       "0             n/e  ...                                  n/e   \n",
       "1             n/e  ...                                  n/e   \n",
       "2             n/e  ...                                  n/e   \n",
       "3             n/e  ...                                  n/e   \n",
       "4             n/e  ...                                  n/e   \n",
       "\n",
       "  Hydro Water Reservoir - MD Marine - MD Nuclear - MD Other - MD  \\\n",
       "0                        n/e         n/e          n/e        n/e   \n",
       "1                        n/e         n/e          n/e        n/e   \n",
       "2                        n/e         n/e          n/e        n/e   \n",
       "3                        n/e         n/e          n/e        n/e   \n",
       "4                        n/e         n/e          n/e        n/e   \n",
       "\n",
       "  Other renewable - MD Solar - MD Waste - MD Wind Offshore - MD  \\\n",
       "0                  n/e        n/e        n/e                n/e   \n",
       "1                  n/e        n/e        n/e                n/e   \n",
       "2                  n/e        n/e        n/e                n/e   \n",
       "3                  n/e        n/e        n/e                n/e   \n",
       "4                  n/e        n/e        n/e                n/e   \n",
       "\n",
       "  Wind Onshore - MD  \n",
       "0               n/e  \n",
       "1               n/e  \n",
       "2               n/e  \n",
       "3               n/e  \n",
       "4               n/e  \n",
       "\n",
       "[5 rows x 904 columns]"
      ],
      "text/html": "<div>\n<style scoped>\n    .dataframe tbody tr th:only-of-type {\n        vertical-align: middle;\n    }\n\n    .dataframe tbody tr th {\n        vertical-align: top;\n    }\n\n    .dataframe thead th {\n        text-align: right;\n    }\n</style>\n<table border=\"1\" class=\"dataframe\">\n  <thead>\n    <tr style=\"text-align: right;\">\n      <th></th>\n      <th>Day</th>\n      <th>Month</th>\n      <th>Year</th>\n      <th>Time</th>\n      <th>Biomass - AL</th>\n      <th>Fossil Brown coal/Lignite - AL</th>\n      <th>Fossil Coal-derived gas - AL</th>\n      <th>Fossil Gas - AL</th>\n      <th>Fossil Hard coal - AL</th>\n      <th>Fossil Oil - AL</th>\n      <th>...</th>\n      <th>Hydro Run-of-river and poundage - MD</th>\n      <th>Hydro Water Reservoir - MD</th>\n      <th>Marine - MD</th>\n      <th>Nuclear - MD</th>\n      <th>Other - MD</th>\n      <th>Other renewable - MD</th>\n      <th>Solar - MD</th>\n      <th>Waste - MD</th>\n      <th>Wind Offshore - MD</th>\n      <th>Wind Onshore - MD</th>\n    </tr>\n  </thead>\n  <tbody>\n    <tr>\n      <th>0</th>\n      <td>01</td>\n      <td>01</td>\n      <td>2019</td>\n      <td>00:00 -  00:15</td>\n      <td>n/e</td>\n      <td>n/e</td>\n      <td>n/e</td>\n      <td>n/e</td>\n      <td>n/e</td>\n      <td>n/e</td>\n      <td>...</td>\n      <td>n/e</td>\n      <td>n/e</td>\n      <td>n/e</td>\n      <td>n/e</td>\n      <td>n/e</td>\n      <td>n/e</td>\n      <td>n/e</td>\n      <td>n/e</td>\n      <td>n/e</td>\n      <td>n/e</td>\n    </tr>\n    <tr>\n      <th>1</th>\n      <td>01</td>\n      <td>01</td>\n      <td>2019</td>\n      <td>00:15 -  00:30</td>\n      <td>n/e</td>\n      <td>n/e</td>\n      <td>n/e</td>\n      <td>n/e</td>\n      <td>n/e</td>\n      <td>n/e</td>\n      <td>...</td>\n      <td>n/e</td>\n      <td>n/e</td>\n      <td>n/e</td>\n      <td>n/e</td>\n      <td>n/e</td>\n      <td>n/e</td>\n      <td>n/e</td>\n      <td>n/e</td>\n      <td>n/e</td>\n      <td>n/e</td>\n    </tr>\n    <tr>\n      <th>2</th>\n      <td>01</td>\n      <td>01</td>\n      <td>2019</td>\n      <td>00:30 -  00:45</td>\n      <td>n/e</td>\n      <td>n/e</td>\n      <td>n/e</td>\n      <td>n/e</td>\n      <td>n/e</td>\n      <td>n/e</td>\n      <td>...</td>\n      <td>n/e</td>\n      <td>n/e</td>\n      <td>n/e</td>\n      <td>n/e</td>\n      <td>n/e</td>\n      <td>n/e</td>\n      <td>n/e</td>\n      <td>n/e</td>\n      <td>n/e</td>\n      <td>n/e</td>\n    </tr>\n    <tr>\n      <th>3</th>\n      <td>01</td>\n      <td>01</td>\n      <td>2019</td>\n      <td>00:45 -  01:00</td>\n      <td>n/e</td>\n      <td>n/e</td>\n      <td>n/e</td>\n      <td>n/e</td>\n      <td>n/e</td>\n      <td>n/e</td>\n      <td>...</td>\n      <td>n/e</td>\n      <td>n/e</td>\n      <td>n/e</td>\n      <td>n/e</td>\n      <td>n/e</td>\n      <td>n/e</td>\n      <td>n/e</td>\n      <td>n/e</td>\n      <td>n/e</td>\n      <td>n/e</td>\n    </tr>\n    <tr>\n      <th>4</th>\n      <td>01</td>\n      <td>01</td>\n      <td>2019</td>\n      <td>01:00 -  01:15</td>\n      <td>n/e</td>\n      <td>n/e</td>\n      <td>n/e</td>\n      <td>n/e</td>\n      <td>n/e</td>\n      <td>n/e</td>\n      <td>...</td>\n      <td>n/e</td>\n      <td>n/e</td>\n      <td>n/e</td>\n      <td>n/e</td>\n      <td>n/e</td>\n      <td>n/e</td>\n      <td>n/e</td>\n      <td>n/e</td>\n      <td>n/e</td>\n      <td>n/e</td>\n    </tr>\n  </tbody>\n</table>\n<p>5 rows × 904 columns</p>\n</div>"
     },
     "metadata": {},
     "execution_count": 16
    }
   ],
   "source": [
    "generation_data.head()"
   ]
  },
  {
   "cell_type": "code",
   "execution_count": null,
   "metadata": {},
   "outputs": [],
   "source": []
  }
 ]
}