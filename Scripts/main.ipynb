{
 "cells": [
  {
   "cell_type": "code",
   "execution_count": 1,
   "source": [
    "import pandas as pd\r\n",
    "import numpy as np\r\n",
    "from IPython.display import display\r\n",
    "import import_ipynb\r\n",
    "import copy\r\n",
    "import data_preperation as dp\r\n",
    "import internal_inconsistencies as ii\r\n",
    "import external_inconsistencies as ei\r\n"
   ],
   "outputs": [
    {
     "output_type": "stream",
     "name": "stdout",
     "text": [
      "importing Jupyter notebook from data_preperation.ipynb\n",
      "importing Jupyter notebook from internal_inconsistencies.ipynb\n",
      "importing Jupyter notebook from external_inconsistencies.ipynb\n"
     ]
    }
   ],
   "metadata": {}
  },
  {
   "cell_type": "code",
   "execution_count": 2,
   "source": [
    "countries={ 'Austria': 'AT', 'Belgium': 'BE',  'Bulgaria': 'BG', 'Switzerland': 'CH', 'Czech Republic': 'CZ', 'Germany': 'DE', 'Denmark': 'DK', 'Estonia': 'EE', 'Spain': 'ES', 'Finland': 'FI', 'France': 'FR', 'United Kingdom': 'GB',  'Greece': 'GR', 'Hungary': 'HU', 'Ireland': 'IE', 'Italy': 'IT', 'Lithuania': 'LT', 'Latvia': 'LV', 'Montenegro': 'ME','Netherlands': 'NL', 'Norway': 'NO', 'Poland': 'PL', 'Portugal': 'PT', 'Serbia': 'RS', 'Sweden': 'SE', 'Slovenia': 'SI', 'Slovakia': 'SK'}\r\n",
    "abbr_list=list(countries.values())"
   ],
   "outputs": [],
   "metadata": {}
  },
  {
   "cell_type": "markdown",
   "source": [
    "# 1. Data mismatches in ENTSO-E data"
   ],
   "metadata": {}
  },
  {
   "cell_type": "markdown",
   "source": [
    "## 1.1 Calculating missing values in data files"
   ],
   "metadata": {}
  },
  {
   "cell_type": "code",
   "execution_count": 4,
   "source": [
    "df = ii.mismatch_raw_data(countries)\r\n",
    "display(df)\r\n"
   ],
   "outputs": [],
   "metadata": {}
  },
  {
   "cell_type": "markdown",
   "source": [],
   "metadata": {}
  },
  {
   "cell_type": "markdown",
   "source": [
    "## 1.2 Identifying inconsistencies in ENTSO-E Generation data"
   ],
   "metadata": {}
  },
  {
   "cell_type": "code",
   "execution_count": 6,
   "source": [
    "inconsistency_in_generation = ii.inconcistencies_generation_data()\r\n",
    "display(inconsistency_in_generation)\r\n"
   ],
   "outputs": [
    {
     "output_type": "display_data",
     "data": {
      "text/html": [
       "<div>\n",
       "<style scoped>\n",
       "    .dataframe tbody tr th:only-of-type {\n",
       "        vertical-align: middle;\n",
       "    }\n",
       "\n",
       "    .dataframe tbody tr th {\n",
       "        vertical-align: top;\n",
       "    }\n",
       "\n",
       "    .dataframe thead th {\n",
       "        text-align: right;\n",
       "    }\n",
       "</style>\n",
       "<table border=\"1\" class=\"dataframe\">\n",
       "  <thead>\n",
       "    <tr style=\"text-align: right;\">\n",
       "      <th></th>\n",
       "      <th>Country</th>\n",
       "      <th>Generation type</th>\n",
       "      <th>Based on per generator</th>\n",
       "      <th>Based on per type</th>\n",
       "    </tr>\n",
       "  </thead>\n",
       "  <tbody>\n",
       "    <tr>\n",
       "      <th>0</th>\n",
       "      <td>Austria</td>\n",
       "      <td>Hydro Water Reservoir</td>\n",
       "      <td>2018345.0</td>\n",
       "      <td>4650928.50</td>\n",
       "    </tr>\n",
       "    <tr>\n",
       "      <th>1</th>\n",
       "      <td>Austria</td>\n",
       "      <td>Fossil Gas</td>\n",
       "      <td>7458582.0</td>\n",
       "      <td>8166846.00</td>\n",
       "    </tr>\n",
       "    <tr>\n",
       "      <th>2</th>\n",
       "      <td>Austria</td>\n",
       "      <td>Hydro Pumped Storage</td>\n",
       "      <td>3009729.0</td>\n",
       "      <td>4696467.00</td>\n",
       "    </tr>\n",
       "    <tr>\n",
       "      <th>3</th>\n",
       "      <td>Austria</td>\n",
       "      <td>Fossil Hard coal</td>\n",
       "      <td>1439190.0</td>\n",
       "      <td>1422419.50</td>\n",
       "    </tr>\n",
       "    <tr>\n",
       "      <th>4</th>\n",
       "      <td>Austria</td>\n",
       "      <td>Hydro Run-of-river and poundage</td>\n",
       "      <td>11300264.0</td>\n",
       "      <td>25363701.25</td>\n",
       "    </tr>\n",
       "    <tr>\n",
       "      <th>...</th>\n",
       "      <td>...</td>\n",
       "      <td>...</td>\n",
       "      <td>...</td>\n",
       "      <td>...</td>\n",
       "    </tr>\n",
       "    <tr>\n",
       "      <th>67</th>\n",
       "      <td>Sweden</td>\n",
       "      <td>Fossil Hard coal</td>\n",
       "      <td>378609.0</td>\n",
       "      <td>0.00</td>\n",
       "    </tr>\n",
       "    <tr>\n",
       "      <th>68</th>\n",
       "      <td>Switzerland</td>\n",
       "      <td>Hydro Pumped Storage</td>\n",
       "      <td>3765977.0</td>\n",
       "      <td>6885838.00</td>\n",
       "    </tr>\n",
       "    <tr>\n",
       "      <th>69</th>\n",
       "      <td>Switzerland</td>\n",
       "      <td>Nuclear</td>\n",
       "      <td>24807868.0</td>\n",
       "      <td>24806689.00</td>\n",
       "    </tr>\n",
       "    <tr>\n",
       "      <th>70</th>\n",
       "      <td>Switzerland</td>\n",
       "      <td>Hydro Water Reservoir</td>\n",
       "      <td>8413786.0</td>\n",
       "      <td>10290610.00</td>\n",
       "    </tr>\n",
       "    <tr>\n",
       "      <th>71</th>\n",
       "      <td>Switzerland</td>\n",
       "      <td>Hydro Run-of-river and poundage</td>\n",
       "      <td>910911.0</td>\n",
       "      <td>1534281.00</td>\n",
       "    </tr>\n",
       "  </tbody>\n",
       "</table>\n",
       "<p>72 rows × 4 columns</p>\n",
       "</div>"
      ],
      "text/plain": [
       "        Country                  Generation type  Based on per generator  \\\n",
       "0       Austria            Hydro Water Reservoir               2018345.0   \n",
       "1       Austria                       Fossil Gas               7458582.0   \n",
       "2       Austria             Hydro Pumped Storage               3009729.0   \n",
       "3       Austria                 Fossil Hard coal               1439190.0   \n",
       "4       Austria  Hydro Run-of-river and poundage              11300264.0   \n",
       "..          ...                              ...                     ...   \n",
       "67       Sweden                 Fossil Hard coal                378609.0   \n",
       "68  Switzerland             Hydro Pumped Storage               3765977.0   \n",
       "69  Switzerland                          Nuclear              24807868.0   \n",
       "70  Switzerland            Hydro Water Reservoir               8413786.0   \n",
       "71  Switzerland  Hydro Run-of-river and poundage                910911.0   \n",
       "\n",
       "    Based on per type  \n",
       "0          4650928.50  \n",
       "1          8166846.00  \n",
       "2          4696467.00  \n",
       "3          1422419.50  \n",
       "4         25363701.25  \n",
       "..                ...  \n",
       "67               0.00  \n",
       "68         6885838.00  \n",
       "69        24806689.00  \n",
       "70        10290610.00  \n",
       "71         1534281.00  \n",
       "\n",
       "[72 rows x 4 columns]"
      ]
     },
     "metadata": {}
    }
   ],
   "metadata": {}
  },
  {
   "cell_type": "markdown",
   "source": [
    "# 2. ENTSO-E data representation"
   ],
   "metadata": {}
  },
  {
   "cell_type": "markdown",
   "source": [
    "## 2.1 Fill the missing observations and get all the hourly load data of each country to a single dataframe"
   ],
   "metadata": {}
  },
  {
   "cell_type": "code",
   "execution_count": 3,
   "source": [
    "load_dic=dp.load(countries)\r\n",
    "# display(load_dic)\r\n"
   ],
   "outputs": [],
   "metadata": {}
  },
  {
   "cell_type": "markdown",
   "source": [
    "## 2.2 Fill the missing observations and get all the hourly generation data of each country from each source to a single dataframe"
   ],
   "metadata": {}
  },
  {
   "cell_type": "code",
   "execution_count": 4,
   "source": [
    "generation_dic=dp.generation(countries)\r\n",
    "# display(generation_dic)"
   ],
   "outputs": [],
   "metadata": {}
  },
  {
   "cell_type": "markdown",
   "source": [
    "## 2.3 Fill the missing observations and get all the hourly cross-border transmission data of each country to a single dataframe"
   ],
   "metadata": {}
  },
  {
   "cell_type": "code",
   "execution_count": 5,
   "source": [
    "transmission_data = dp.cross_border()\r\n",
    "# display(transmission_data)\r\n",
    "# 'cross_border_data' shows the net import/net export of the whole country in hourly timesteps\r\n",
    "# display(crossborder_data)\r\n"
   ],
   "outputs": [],
   "metadata": {}
  },
  {
   "cell_type": "markdown",
   "source": [
    "## 2.4 Validating the missing observations filling model"
   ],
   "metadata": {}
  },
  {
   "cell_type": "code",
   "execution_count": 3,
   "source": [
    "selected_countries = {'Austria':\"AT\", 'Switzerland':'CH', 'Denmark':\"DK\", 'Portugal':\"PT\",'Sweden':'SE'}\r\n",
    "dp.validation(selected_countries)"
   ],
   "outputs": [
    {
     "output_type": "stream",
     "name": "stdout",
     "text": [
      "Austria Biomass  - Actual Aggregated [MW]\n",
      "Austria Fossil Gas  - Actual Aggregated [MW]\n",
      "Austria Fossil Hard coal  - Actual Aggregated [MW]\n",
      "Austria Hydro Pumped Storage  - Actual Aggregated [MW]\n",
      "Austria Hydro Run-of-river and poundage  - Actual Aggregated [MW]\n",
      "Austria Hydro Water Reservoir  - Actual Aggregated [MW]\n",
      "Austria Other  - Actual Aggregated [MW]\n",
      "Austria Solar  - Actual Aggregated [MW]\n",
      "Austria Waste  - Actual Aggregated [MW]\n",
      "Austria Wind Onshore  - Actual Aggregated [MW]\n",
      "Switzerland Hydro Pumped Storage  - Actual Aggregated [MW]\n",
      "Switzerland Hydro Run-of-river and poundage  - Actual Aggregated [MW]\n",
      "Switzerland Hydro Water Reservoir  - Actual Aggregated [MW]\n",
      "Switzerland Nuclear  - Actual Aggregated [MW]\n",
      "Switzerland Solar  - Actual Aggregated [MW]\n",
      "Switzerland Wind Onshore  - Actual Aggregated [MW]\n",
      "Denmark Biomass  - Actual Aggregated [MW]\n",
      "Denmark Fossil Gas  - Actual Aggregated [MW]\n",
      "Denmark Fossil Hard coal  - Actual Aggregated [MW]\n",
      "Denmark Fossil Oil  - Actual Aggregated [MW]\n",
      "Denmark Solar  - Actual Aggregated [MW]\n",
      "Denmark Waste  - Actual Aggregated [MW]\n",
      "Denmark Wind Offshore  - Actual Aggregated [MW]\n",
      "Denmark Wind Onshore  - Actual Aggregated [MW]\n",
      "Norway Fossil Gas  - Actual Aggregated [MW]\n",
      "Norway Hydro Run-of-river and poundage  - Actual Aggregated [MW]\n",
      "Norway Hydro Water Reservoir  - Actual Aggregated [MW]\n",
      "Norway Other  - Actual Aggregated [MW]\n",
      "Norway Wind Onshore  - Actual Aggregated [MW]\n",
      "Portugal Biomass  - Actual Aggregated [MW]\n",
      "Portugal Fossil Gas  - Actual Aggregated [MW]\n",
      "Portugal Fossil Hard coal  - Actual Aggregated [MW]\n",
      "Portugal Hydro Pumped Storage  - Actual Aggregated [MW]\n",
      "Portugal Hydro Run-of-river and poundage  - Actual Aggregated [MW]\n",
      "Portugal Hydro Water Reservoir  - Actual Aggregated [MW]\n",
      "Portugal Other  - Actual Aggregated [MW]\n",
      "Portugal Solar  - Actual Aggregated [MW]\n",
      "Portugal Wind Onshore  - Actual Aggregated [MW]\n",
      "Sweden Hydro Water Reservoir  - Actual Aggregated [MW]\n",
      "Sweden Nuclear  - Actual Aggregated [MW]\n",
      "Sweden Other  - Actual Aggregated [MW]\n",
      "Sweden Wind Onshore  - Actual Aggregated [MW]\n",
      "Austria Actual Total Load [MW] - Austria (AT)\n",
      "Switzerland Actual Total Load [MW] - Switzerland (CH)\n",
      "Denmark Actual Total Load [MW] - Denmark (DK)\n",
      "Norway Actual Total Load [MW] - Norway (NO)\n",
      "Portugal Actual Total Load [MW] - Portugal (PT)\n",
      "Sweden Actual Total Load [MW] - Sweden (SE)\n",
      "CH - FR France (FR) > Switzerland (CH) [MW]\n",
      "CH - FR Switzerland (CH) > France (FR) [MW]\n",
      "CH - IT Italy (IT) > Switzerland (CH) [MW]\n",
      "CH - IT Switzerland (CH) > Italy (IT) [MW]\n",
      "CH - DE Germany (DE) > Switzerland (CH) [MW]\n",
      "CH - DE Switzerland (CH) > Germany (DE) [MW]\n",
      "DE - DK Denmark (DK) > Germany (DE) [MW]\n",
      "DE - DK Germany (DE) > Denmark (DK) [MW]\n",
      "DK - SE Sweden (SE) > Denmark (DK) [MW]\n",
      "DK - SE Denmark (DK) > Sweden (SE) [MW]\n",
      "FI - NO Norway (NO) > Finland (FI) [MW]\n",
      "FI - NO Finland (FI) > Norway (NO) [MW]\n",
      "FI - SE Sweden (SE) > Finland (FI) [MW]\n",
      "FI - SE Finland (FI) > Sweden (SE) [MW]\n",
      "AT - HU Hungary (HU) > Austria (AT) [MW]\n",
      "AT - HU Austria (AT) > Hungary (HU) [MW]\n",
      "NL - NO Norway (NO) > Netherlands (NL) [MW]\n",
      "NL - NO Netherlands (NL) > Norway (NO) [MW]\n",
      "NO - SE Sweden (SE) > Norway (NO) [MW]\n",
      "NO - SE Norway (NO) > Sweden (SE) [MW]\n",
      "LT - SE Sweden (SE) > Lithuania (LT) [MW]\n",
      "LT - SE Lithuania (LT) > Sweden (SE) [MW]\n",
      "AT - DE Germany (DE) > Austria (AT) [MW]\n",
      "AT - DE Austria (AT) > Germany (DE) [MW]\n",
      "AT - CH Switzerland (CH) > Austria (AT) [MW]\n",
      "AT - CH Austria (AT) > Switzerland (CH) [MW]\n",
      "AT - CZ Czech Republic (CZ) > Austria (AT) [MW]\n",
      "AT - CZ Austria (AT) > Czech Republic (CZ) [MW]\n",
      "AT - IT Italy (IT) > Austria (AT) [MW]\n",
      "AT - IT Austria (AT) > Italy (IT) [MW]\n",
      "DE - SE Sweden (SE) > Germany (DE) [MW]\n",
      "DE - SE Germany (DE) > Sweden (SE) [MW]\n",
      "AT - SI Slovenia (SI) > Austria (AT) [MW]\n",
      "AT - SI Austria (AT) > Slovenia (SI) [MW]\n",
      "ES - PT Portugal (PT) > Spain (ES) [MW]\n",
      "ES - PT Spain (ES) > Portugal (PT) [MW]\n",
      "PL - SE Sweden (SE) > Poland (PL) [MW]\n",
      "PL - SE Poland (PL) > Sweden (SE) [MW]\n",
      "DK - NO Norway (NO) > Denmark (DK) [MW]\n",
      "DK - NO Denmark (DK) > Norway (NO) [MW]\n"
     ]
    },
    {
     "output_type": "display_data",
     "data": {
      "image/png": "[encoded data removed]",
      "text/plain": [
       "<Figure size 1440x720 with 1 Axes>"
      ]
     },
     "metadata": {
      "needs_background": "light"
     }
    }
   ],
   "metadata": {}
  },
  {
   "cell_type": "markdown",
   "source": [
    "# 3. Consolidation based on internal data"
   ],
   "metadata": {}
  },
  {
   "cell_type": "markdown",
   "source": [
    "## 3.3 Obtaining consolidated ENTSO-E data using Internal Sigma Approach"
   ],
   "metadata": {}
  },
  {
   "cell_type": "markdown",
   "source": [
    "### !!! This step takes about 2 hours to complete in an Intel I5 processor with 8 GB Ram\r\n",
    "### Licensed Gurobi Optimizer is required"
   ],
   "metadata": {}
  },
  {
   "cell_type": "code",
   "execution_count": 6,
   "source": [
    "load_dic = {}\r\n",
    "generation_dic = {}\r\n",
    "transmission_data = pd.DataFrame()\r\n",
    "\r\n",
    "for abbr in abbr_list:\r\n",
    "    load_dic[abbr] = pd.read_csv(f'../Data Sources/output/Polynomial Linear Regression/Load/{abbr}.csv').iloc[:,1:]\r\n",
    "    generation_dic[abbr] = pd.read_csv(f'../Data Sources/output/Polynomial Linear Regression/Generation/{abbr}.csv').iloc[:,1:]\r\n",
    "transmission_data = pd.read_csv(f'../Data Sources/output//Polynomial Linear Regression/Transmission/all_transmissions.csv').iloc[:, 1:]"
   ],
   "outputs": [],
   "metadata": {}
  },
  {
   "cell_type": "code",
   "execution_count": 7,
   "source": [
    "load_dic_copy = copy.deepcopy(load_dic) \r\n",
    "generation_dic_copy = copy.deepcopy(generation_dic)\r\n",
    "transmission_data_copy = copy.deepcopy(transmission_data)\r\n",
    "consolidated_gen_data, consolidated_load_data, consolidated_transmission_data = ii.sigma(load_dic_copy, generation_dic_copy, transmission_data_copy, countries)\r\n"
   ],
   "outputs": [
    {
     "output_type": "stream",
     "name": "stdout",
     "text": [
      "SIGMA CALCULATED\n",
      "VARIABLES DECLARED\n",
      "Academic license - for non-commercial use only - expires 2021-09-28\n",
      "Using license file C:\\Users\\lovin\\gurobi.lic\n",
      "OPTIMIZATION COMPLETED\n"
     ]
    },
    {
     "output_type": "stream",
     "name": "stderr",
     "text": [
      "<string>:22: SettingWithCopyWarning: \n",
      "A value is trying to be set on a copy of a slice from a DataFrame.\n",
      "Try using .loc[row_indexer,col_indexer] = value instead\n",
      "\n",
      "See the caveats in the documentation: https://pandas.pydata.org/pandas-docs/stable/user_guide/indexing.html#returning-a-view-versus-a-copy\n"
     ]
    }
   ],
   "metadata": {}
  },
  {
   "cell_type": "markdown",
   "source": [
    "## 3.2 Mismatch analysis in the consolidated ENTSO-E data"
   ],
   "metadata": {}
  },
  {
   "cell_type": "markdown",
   "source": [
    "### 3.2.1 Mismatch analysis in all 27 countries"
   ],
   "metadata": {}
  },
  {
   "cell_type": "code",
   "execution_count": 7,
   "source": [
    "ii.mismatch_analysis(mismatch_data, abbr_list)\r\n"
   ],
   "outputs": [
    {
     "output_type": "display_data",
     "data": {
      "image/png": "[encoded data removed]",
      "text/plain": [
       "<Figure size 720x360 with 1 Axes>"
      ]
     },
     "metadata": {
      "needs_background": "light"
     }
    }
   ],
   "metadata": {}
  },
  {
   "cell_type": "markdown",
   "source": [
    "### 3.2.2 Mismatch analysis with only selected countries in optimization based internal consolidation method"
   ],
   "metadata": {}
  },
  {
   "cell_type": "code",
   "execution_count": 8,
   "source": [
    "selected_countries = ['AT', 'CZ', 'DK', 'ES', 'FR','IE', 'NL', 'NO', 'PT', 'SI', 'SE', 'CH', 'GB']\r\n",
    "ii.mismatch_analysis(mismatch_data, selected_countries)\r\n"
   ],
   "outputs": [
    {
     "output_type": "display_data",
     "data": {
      "image/png": "[encoded data removed]",
      "text/plain": [
       "<Figure size 720x360 with 1 Axes>"
      ]
     },
     "metadata": {
      "needs_background": "light"
     }
    }
   ],
   "metadata": {}
  },
  {
   "cell_type": "markdown",
   "source": [
    "# 4. Comparission of ENTSO-E data with other sources"
   ],
   "metadata": {}
  },
  {
   "cell_type": "markdown",
   "source": [
    "## 4.1 Comparing ENTSO-E & Eurostat data"
   ],
   "metadata": {}
  },
  {
   "cell_type": "markdown",
   "source": [
    "### 4.1.1 Comparing annual generation data of ENTSO-E & Eurostat data"
   ],
   "metadata": {}
  },
  {
   "cell_type": "code",
   "execution_count": null,
   "source": [
    "# ei.eurostat_comparission_gen_data(generation_data,countries)"
   ],
   "outputs": [],
   "metadata": {}
  },
  {
   "cell_type": "markdown",
   "source": [
    "### 4.1.2 Comparing annual load data of ENTSO-E & Eurostat data"
   ],
   "metadata": {}
  },
  {
   "cell_type": "code",
   "execution_count": null,
   "source": [
    "# ei.eurostat_comparission_load_data(load_data, countries)\r\n"
   ],
   "outputs": [],
   "metadata": {}
  },
  {
   "cell_type": "markdown",
   "source": [
    "### 4.1.3 Comparing annual import/export data of ENTSO-E & Eurostat data"
   ],
   "metadata": {}
  },
  {
   "cell_type": "code",
   "execution_count": null,
   "source": [
    "# ei.eurostat_comparission_transmission_data(import_export_using_crossborder_data, countries)"
   ],
   "outputs": [],
   "metadata": {
    "scrolled": true
   }
  }
 ],
 "metadata": {
  "interpreter": {
   "hash": "acb9e0cfff3151089362f20c3a81c7531326aa2c5fdbbc2eccac94359104a8e2"
  },
  "kernelspec": {
   "name": "python3",
   "display_name": "Python 3.9.6 64-bit"
  },
  "language_info": {
   "codemirror_mode": {
    "name": "ipython",
    "version": 3
   },
   "file_extension": ".py",
   "mimetype": "text/x-python",
   "name": "python",
   "nbconvert_exporter": "python",
   "pygments_lexer": "ipython3",
   "version": "3.9.6"
  },
  "varInspector": {
   "cols": {
    "lenName": 16,
    "lenType": 16,
    "lenVar": 40
   },
   "kernels_config": {
    "python": {
     "delete_cmd_postfix": "",
     "delete_cmd_prefix": "del ",
     "library": "var_list.py",
     "varRefreshCmd": "print(var_dic_list())"
    },
    "r": {
     "delete_cmd_postfix": ") ",
     "delete_cmd_prefix": "rm(",
     "library": "var_list.r",
     "varRefreshCmd": "cat(var_dic_list()) "
    }
   },
   "types_to_exclude": [
    "module",
    "function",
    "builtin_function_or_method",
    "instance",
    "_Feature"
   ],
   "window_display": false
  }
 },
 "nbformat": 4,
 "nbformat_minor": 4
}