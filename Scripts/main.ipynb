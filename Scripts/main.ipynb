{
 "metadata": {
  "language_info": {
   "codemirror_mode": {
    "name": "ipython",
    "version": 3
   },
   "file_extension": ".py",
   "mimetype": "text/x-python",
   "name": "python",
   "nbconvert_exporter": "python",
   "pygments_lexer": "ipython3",
   "version": "3.9.1"
  },
  "orig_nbformat": 4,
  "kernelspec": {
   "name": "python3",
   "display_name": "Python 3.9.1 64-bit"
  },
  "interpreter": {
   "hash": "acb9e0cfff3151089362f20c3a81c7531326aa2c5fdbbc2eccac94359104a8e2"
  }
 },
 "nbformat": 4,
 "nbformat_minor": 2,
 "cells": [
  {
   "cell_type": "code",
   "execution_count": 3,
   "metadata": {},
   "outputs": [],
   "source": [
    "import pandas as pd\n",
    "import numpy as np\n",
    "import import_ipynb\n",
    "import data_preperation as dp"
   ]
  },
  {
   "cell_type": "code",
   "execution_count": 4,
   "metadata": {},
   "outputs": [],
   "source": [
    "countries={ 'Austria': 'AT', 'Belgium': 'BE',  'Bulgaria': 'BG', 'Switzerland': 'CH', 'Czech Republic': 'CZ', 'Croatia': 'HR',  'Germany': 'DE', 'Denmark': 'DK', 'Estonia': 'EE', 'Spain': 'ES', 'Finland': 'FI', 'France': 'FR',  'Greece': 'GR', 'Hungary': 'HU', 'Ireland': 'IE', 'Italy': 'IT', 'Lithuania': 'LT', 'Latvia': 'LV', 'Montenegro': 'ME','Netherlands': 'NL', 'Norway': 'NO', 'Poland': 'PL', 'Portugal': 'PT', 'Serbia': 'RS', 'Sweden': 'SE', 'Slovenia': 'SI', 'Slovakia': 'SK', 'United Kingdom': 'UK'}"
   ]
  },
  {
   "cell_type": "code",
   "execution_count": 5,
   "metadata": {},
   "outputs": [
    {
     "output_type": "execute_result",
     "data": {
      "text/plain": [
       "  Day Month  Year            Time       AT       BE      BG      CH      CZ  \\\n",
       "0  01    01  2019  00:00 -  01:00  6075.00  8973.25  4321.0  7037.0  5719.0   \n",
       "1  01    01  2019  01:00 -  02:00  5852.75  8542.75  4133.0  7096.0  5678.0   \n",
       "2  01    01  2019  02:00 -  03:00  5619.25  8077.50  3991.0  7244.0  5622.0   \n",
       "3  01    01  2019  03:00 -  04:00  5324.00  7823.25  3894.0  7443.0  5475.0   \n",
       "4  01    01  2019  04:00 -  05:00  5273.50  7636.25  3841.0  7353.0  5433.0   \n",
       "\n",
       "       HR  ...     ME        NL       NO       PL      PT      RS       SE  \\\n",
       "0  1836.0  ...  418.0  11284.75  15724.0  15012.0  5030.0  5290.0  14597.0   \n",
       "1  1732.0  ...  404.0  11193.75  15623.0  14467.0  4797.0  5282.0  14375.0   \n",
       "2  1623.0  ...  376.0  10933.25  15705.0  13774.0  4650.0  5067.0  14153.0   \n",
       "3  1534.0  ...  349.0  10666.75  15643.0  13406.0  4394.0  4739.0  13896.0   \n",
       "4  1488.0  ...  331.0  10413.25  15612.0  13216.0  4177.0  4445.0  13955.0   \n",
       "\n",
       "       SI      SK       UK  \n",
       "0  1164.0  2835.0  27068.5  \n",
       "1  1129.0  2744.0  27831.5  \n",
       "2  1084.0  2679.0  27634.0  \n",
       "3  1038.0  2608.0  25184.5  \n",
       "4  1018.0  2602.0  22708.5  \n",
       "\n",
       "[5 rows x 32 columns]"
      ],
      "text/html": "<div>\n<style scoped>\n    .dataframe tbody tr th:only-of-type {\n        vertical-align: middle;\n    }\n\n    .dataframe tbody tr th {\n        vertical-align: top;\n    }\n\n    .dataframe thead th {\n        text-align: right;\n    }\n</style>\n<table border=\"1\" class=\"dataframe\">\n  <thead>\n    <tr style=\"text-align: right;\">\n      <th></th>\n      <th>Day</th>\n      <th>Month</th>\n      <th>Year</th>\n      <th>Time</th>\n      <th>AT</th>\n      <th>BE</th>\n      <th>BG</th>\n      <th>CH</th>\n      <th>CZ</th>\n      <th>HR</th>\n      <th>...</th>\n      <th>ME</th>\n      <th>NL</th>\n      <th>NO</th>\n      <th>PL</th>\n      <th>PT</th>\n      <th>RS</th>\n      <th>SE</th>\n      <th>SI</th>\n      <th>SK</th>\n      <th>UK</th>\n    </tr>\n  </thead>\n  <tbody>\n    <tr>\n      <th>0</th>\n      <td>01</td>\n      <td>01</td>\n      <td>2019</td>\n      <td>00:00 -  01:00</td>\n      <td>6075.00</td>\n      <td>8973.25</td>\n      <td>4321.0</td>\n      <td>7037.0</td>\n      <td>5719.0</td>\n      <td>1836.0</td>\n      <td>...</td>\n      <td>418.0</td>\n      <td>11284.75</td>\n      <td>15724.0</td>\n      <td>15012.0</td>\n      <td>5030.0</td>\n      <td>5290.0</td>\n      <td>14597.0</td>\n      <td>1164.0</td>\n      <td>2835.0</td>\n      <td>27068.5</td>\n    </tr>\n    <tr>\n      <th>1</th>\n      <td>01</td>\n      <td>01</td>\n      <td>2019</td>\n      <td>01:00 -  02:00</td>\n      <td>5852.75</td>\n      <td>8542.75</td>\n      <td>4133.0</td>\n      <td>7096.0</td>\n      <td>5678.0</td>\n      <td>1732.0</td>\n      <td>...</td>\n      <td>404.0</td>\n      <td>11193.75</td>\n      <td>15623.0</td>\n      <td>14467.0</td>\n      <td>4797.0</td>\n      <td>5282.0</td>\n      <td>14375.0</td>\n      <td>1129.0</td>\n      <td>2744.0</td>\n      <td>27831.5</td>\n    </tr>\n    <tr>\n      <th>2</th>\n      <td>01</td>\n      <td>01</td>\n      <td>2019</td>\n      <td>02:00 -  03:00</td>\n      <td>5619.25</td>\n      <td>8077.50</td>\n      <td>3991.0</td>\n      <td>7244.0</td>\n      <td>5622.0</td>\n      <td>1623.0</td>\n      <td>...</td>\n      <td>376.0</td>\n      <td>10933.25</td>\n      <td>15705.0</td>\n      <td>13774.0</td>\n      <td>4650.0</td>\n      <td>5067.0</td>\n      <td>14153.0</td>\n      <td>1084.0</td>\n      <td>2679.0</td>\n      <td>27634.0</td>\n    </tr>\n    <tr>\n      <th>3</th>\n      <td>01</td>\n      <td>01</td>\n      <td>2019</td>\n      <td>03:00 -  04:00</td>\n      <td>5324.00</td>\n      <td>7823.25</td>\n      <td>3894.0</td>\n      <td>7443.0</td>\n      <td>5475.0</td>\n      <td>1534.0</td>\n      <td>...</td>\n      <td>349.0</td>\n      <td>10666.75</td>\n      <td>15643.0</td>\n      <td>13406.0</td>\n      <td>4394.0</td>\n      <td>4739.0</td>\n      <td>13896.0</td>\n      <td>1038.0</td>\n      <td>2608.0</td>\n      <td>25184.5</td>\n    </tr>\n    <tr>\n      <th>4</th>\n      <td>01</td>\n      <td>01</td>\n      <td>2019</td>\n      <td>04:00 -  05:00</td>\n      <td>5273.50</td>\n      <td>7636.25</td>\n      <td>3841.0</td>\n      <td>7353.0</td>\n      <td>5433.0</td>\n      <td>1488.0</td>\n      <td>...</td>\n      <td>331.0</td>\n      <td>10413.25</td>\n      <td>15612.0</td>\n      <td>13216.0</td>\n      <td>4177.0</td>\n      <td>4445.0</td>\n      <td>13955.0</td>\n      <td>1018.0</td>\n      <td>2602.0</td>\n      <td>22708.5</td>\n    </tr>\n  </tbody>\n</table>\n<p>5 rows × 32 columns</p>\n</div>"
     },
     "metadata": {},
     "execution_count": 5
    }
   ],
   "source": [
    "load_data=dp.load(countries)\r\n",
    "load_data.head()"
   ]
  },
  {
   "cell_type": "code",
   "execution_count": 6,
   "metadata": {},
   "outputs": [
    {
     "output_type": "execute_result",
     "data": {
      "text/plain": [
       "  Day Month  Year            Time  AT - Biomass  AT - Fossil Gas  \\\n",
       "0  01    01  2019  00:00 -  01:00         304.0          1269.75   \n",
       "1  01    01  2019  01:00 -  02:00         304.0           935.25   \n",
       "2  01    01  2019  02:00 -  03:00         304.0           611.00   \n",
       "3  01    01  2019  03:00 -  04:00         304.0           568.00   \n",
       "4  01    01  2019  04:00 -  05:00         302.0           443.50   \n",
       "\n",
       "   AT - Fossil Hard coal  AT - Fossil Oil  AT - Geothermal  \\\n",
       "0                 155.50              0.0              0.0   \n",
       "1                 154.75              0.0              0.0   \n",
       "2                 155.25              0.0              0.0   \n",
       "3                 155.25              0.0              0.0   \n",
       "4                 154.25              0.0              0.0   \n",
       "\n",
       "   AT - Hydro Pumped Storage  ...  UK - Fossil Hard coal  UK - Fossil Oil  \\\n",
       "0                        0.0  ...                   69.5              3.0   \n",
       "1                        0.0  ...                   63.0              0.0   \n",
       "2                        0.0  ...                   63.5              0.0   \n",
       "3                        0.0  ...                   65.0              0.0   \n",
       "4                        0.0  ...                   65.5              0.0   \n",
       "\n",
       "   UK - Hydro Pumped Storage  UK - Hydro Pumped Storage   \\\n",
       "0                        0.0                         NaN   \n",
       "1                       52.5                         NaN   \n",
       "2                        0.0                         NaN   \n",
       "3                        0.0                         NaN   \n",
       "4                        0.0                         NaN   \n",
       "\n",
       "   UK - Hydro Run-of-river and poundage  UK - Nuclear  UK - Other  UK - Solar  \\\n",
       "0                                 428.5        6941.5        66.0         0.0   \n",
       "1                                 404.0        6899.0        64.0         0.0   \n",
       "2                                 373.5        6830.5        63.0         0.0   \n",
       "3                                 349.0        6826.0        63.0         0.0   \n",
       "4                                 324.5        6818.0        64.0         0.0   \n",
       "\n",
       "   UK - Wind Offshore  UK - Wind Onshore  \n",
       "0              3131.0             6527.5  \n",
       "1              3198.0             6201.5  \n",
       "2              3277.5             6095.0  \n",
       "3              3158.0             5736.5  \n",
       "4              2985.0             5357.0  \n",
       "\n",
       "[5 rows x 301 columns]"
      ],
      "text/html": "<div>\n<style scoped>\n    .dataframe tbody tr th:only-of-type {\n        vertical-align: middle;\n    }\n\n    .dataframe tbody tr th {\n        vertical-align: top;\n    }\n\n    .dataframe thead th {\n        text-align: right;\n    }\n</style>\n<table border=\"1\" class=\"dataframe\">\n  <thead>\n    <tr style=\"text-align: right;\">\n      <th></th>\n      <th>Day</th>\n      <th>Month</th>\n      <th>Year</th>\n      <th>Time</th>\n      <th>AT - Biomass</th>\n      <th>AT - Fossil Gas</th>\n      <th>AT - Fossil Hard coal</th>\n      <th>AT - Fossil Oil</th>\n      <th>AT - Geothermal</th>\n      <th>AT - Hydro Pumped Storage</th>\n      <th>...</th>\n      <th>UK - Fossil Hard coal</th>\n      <th>UK - Fossil Oil</th>\n      <th>UK - Hydro Pumped Storage</th>\n      <th>UK - Hydro Pumped Storage</th>\n      <th>UK - Hydro Run-of-river and poundage</th>\n      <th>UK - Nuclear</th>\n      <th>UK - Other</th>\n      <th>UK - Solar</th>\n      <th>UK - Wind Offshore</th>\n      <th>UK - Wind Onshore</th>\n    </tr>\n  </thead>\n  <tbody>\n    <tr>\n      <th>0</th>\n      <td>01</td>\n      <td>01</td>\n      <td>2019</td>\n      <td>00:00 -  01:00</td>\n      <td>304.0</td>\n      <td>1269.75</td>\n      <td>155.50</td>\n      <td>0.0</td>\n      <td>0.0</td>\n      <td>0.0</td>\n      <td>...</td>\n      <td>69.5</td>\n      <td>3.0</td>\n      <td>0.0</td>\n      <td>NaN</td>\n      <td>428.5</td>\n      <td>6941.5</td>\n      <td>66.0</td>\n      <td>0.0</td>\n      <td>3131.0</td>\n      <td>6527.5</td>\n    </tr>\n    <tr>\n      <th>1</th>\n      <td>01</td>\n      <td>01</td>\n      <td>2019</td>\n      <td>01:00 -  02:00</td>\n      <td>304.0</td>\n      <td>935.25</td>\n      <td>154.75</td>\n      <td>0.0</td>\n      <td>0.0</td>\n      <td>0.0</td>\n      <td>...</td>\n      <td>63.0</td>\n      <td>0.0</td>\n      <td>52.5</td>\n      <td>NaN</td>\n      <td>404.0</td>\n      <td>6899.0</td>\n      <td>64.0</td>\n      <td>0.0</td>\n      <td>3198.0</td>\n      <td>6201.5</td>\n    </tr>\n    <tr>\n      <th>2</th>\n      <td>01</td>\n      <td>01</td>\n      <td>2019</td>\n      <td>02:00 -  03:00</td>\n      <td>304.0</td>\n      <td>611.00</td>\n      <td>155.25</td>\n      <td>0.0</td>\n      <td>0.0</td>\n      <td>0.0</td>\n      <td>...</td>\n      <td>63.5</td>\n      <td>0.0</td>\n      <td>0.0</td>\n      <td>NaN</td>\n      <td>373.5</td>\n      <td>6830.5</td>\n      <td>63.0</td>\n      <td>0.0</td>\n      <td>3277.5</td>\n      <td>6095.0</td>\n    </tr>\n    <tr>\n      <th>3</th>\n      <td>01</td>\n      <td>01</td>\n      <td>2019</td>\n      <td>03:00 -  04:00</td>\n      <td>304.0</td>\n      <td>568.00</td>\n      <td>155.25</td>\n      <td>0.0</td>\n      <td>0.0</td>\n      <td>0.0</td>\n      <td>...</td>\n      <td>65.0</td>\n      <td>0.0</td>\n      <td>0.0</td>\n      <td>NaN</td>\n      <td>349.0</td>\n      <td>6826.0</td>\n      <td>63.0</td>\n      <td>0.0</td>\n      <td>3158.0</td>\n      <td>5736.5</td>\n    </tr>\n    <tr>\n      <th>4</th>\n      <td>01</td>\n      <td>01</td>\n      <td>2019</td>\n      <td>04:00 -  05:00</td>\n      <td>302.0</td>\n      <td>443.50</td>\n      <td>154.25</td>\n      <td>0.0</td>\n      <td>0.0</td>\n      <td>0.0</td>\n      <td>...</td>\n      <td>65.5</td>\n      <td>0.0</td>\n      <td>0.0</td>\n      <td>NaN</td>\n      <td>324.5</td>\n      <td>6818.0</td>\n      <td>64.0</td>\n      <td>0.0</td>\n      <td>2985.0</td>\n      <td>5357.0</td>\n    </tr>\n  </tbody>\n</table>\n<p>5 rows × 301 columns</p>\n</div>"
     },
     "metadata": {},
     "execution_count": 6
    }
   ],
   "source": [
    "generation_data=dp.generation(countries)\n",
    "generation_data.head()"
   ]
  },
  {
   "cell_type": "code",
   "execution_count": null,
   "metadata": {},
   "outputs": [],
   "source": []
  }
 ]
}