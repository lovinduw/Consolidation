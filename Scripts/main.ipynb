{
 "cells": [
  {
   "cell_type": "code",
   "execution_count": 1,
   "source": [
    "import pandas as pd\r\n",
    "import numpy as np\r\n",
    "from IPython.display import display\r\n",
    "import import_ipynb\r\n",
    "import copy\r\n",
    "import data_preperation as dp\r\n",
    "import internal_inconsistencies as ii\r\n",
    "import external_inconsistencies as ei\r\n"
   ],
   "outputs": [
    {
     "output_type": "stream",
     "name": "stdout",
     "text": [
      "importing Jupyter notebook from data_preperation.ipynb\n",
      "importing Jupyter notebook from internal_inconsistencies.ipynb\n",
      "importing Jupyter notebook from external_inconsistencies.ipynb\n"
     ]
    }
   ],
   "metadata": {}
  },
  {
   "cell_type": "code",
   "execution_count": 2,
   "source": [
    "countries={ 'Austria': 'AT', 'Belgium': 'BE',  'Bulgaria': 'BG', 'Switzerland': 'CH', 'Czech Republic': 'CZ', 'Germany': 'DE', 'Denmark': 'DK', 'Estonia': 'EE', 'Spain': 'ES', 'Finland': 'FI', 'France': 'FR',  'Greece': 'GR', 'Hungary': 'HU', 'Ireland': 'IE', 'Italy': 'IT', 'Lithuania': 'LT', 'Latvia': 'LV', 'Montenegro': 'ME','Netherlands': 'NL', 'Norway': 'NO', 'Poland': 'PL', 'Portugal': 'PT', 'Serbia': 'RS', 'Sweden': 'SE', 'Slovenia': 'SI', 'Slovakia': 'SK', 'United Kingdom': 'GB'}\r\n",
    "abbr_list=list(countries.values())"
   ],
   "outputs": [],
   "metadata": {}
  },
  {
   "cell_type": "markdown",
   "source": [
    "# 1. Data mismatches in ENTSO-E data"
   ],
   "metadata": {}
  },
  {
   "cell_type": "markdown",
   "source": [
    "## 1.1 Calculating missing values in data files"
   ],
   "metadata": {}
  },
  {
   "cell_type": "code",
   "execution_count": 3,
   "source": [
    "generation_load_missing_data, transmission_missing_data, mismatch_data = ii.mismatch_raw_data(countries)"
   ],
   "outputs": [
    {
     "output_type": "display_data",
     "data": {
      "text/plain": [
       "   Country demand Biomass Fossil Brown coal/Lignite Fossil Coal-derived gas  \\\n",
       "0       AT      0       0                       n/e                     n/e   \n",
       "1       BE      0       0                       n/e                     n/e   \n",
       "2       BG     25       0                         0                     n/e   \n",
       "3       CH      0     n/e                       n/e                     n/e   \n",
       "4       CZ      7       2                         2                       2   \n",
       "5       DE      0       0                         0                   34848   \n",
       "6       DK      0       0                       n/e                     n/e   \n",
       "7       EE    144     206                       n/e                     206   \n",
       "8       ES      2       1                         1                       1   \n",
       "9       FI      3       2                       n/e                     n/e   \n",
       "10      FR     18       4                       n/e                     n/e   \n",
       "11      GR      2     n/e                         3                     n/e   \n",
       "12      HU      0       0                         0                     n/e   \n",
       "13      IE     18     n/e                       n/e                     n/e   \n",
       "14      IT      0       9                       n/e                       9   \n",
       "15      LT     67      33                       n/e                     n/e   \n",
       "16      LV      6      10                       n/e                     n/e   \n",
       "17      ME      0     n/e                         0                     n/e   \n",
       "18      NL      0       0                       n/e                     n/e   \n",
       "19      NO      0     n/e                       n/e                     n/e   \n",
       "20      PL      1       0                         0                       0   \n",
       "21      PT      0       0                       n/e                     n/e   \n",
       "22      RS      1      33                        33                     n/e   \n",
       "23      SE      0     n/e                       n/e                     n/e   \n",
       "24      SI      0       1                         1                     n/e   \n",
       "25      SK      0      97                        97                     n/e   \n",
       "26      GB      8      58                       n/e                     n/e   \n",
       "\n",
       "   Fossil Gas Fossil Hard coal Fossil Oil Fossil Oil shale Fossil Peat  ...  \\\n",
       "0           0                0        n/e              n/e         n/e  ...   \n",
       "1           0              n/e          0              n/e         n/e  ...   \n",
       "2           0                0        n/e              n/e         n/e  ...   \n",
       "3         n/e              n/e        n/e              n/e         n/e  ...   \n",
       "4           2                2          5              n/e         n/e  ...   \n",
       "5           0                0          0              n/e         n/e  ...   \n",
       "6           0                0          0              n/e         n/e  ...   \n",
       "7         206              n/e        n/e              206         206  ...   \n",
       "8           1                1          1                1           1  ...   \n",
       "9           3                3          3              n/e           2  ...   \n",
       "10          4              842          4              n/e         n/e  ...   \n",
       "11          3              n/e          3              n/e         n/e  ...   \n",
       "12          0              n/e      11089              n/e         n/e  ...   \n",
       "13         52               52         52              n/e          52  ...   \n",
       "14          9                9          9              n/e         n/e  ...   \n",
       "15         33              n/e        n/e              n/e         n/e  ...   \n",
       "16         10              n/e        n/e              n/e         n/e  ...   \n",
       "17        n/e              n/e        n/e              n/e         n/e  ...   \n",
       "18          0               10        n/e              n/e         n/e  ...   \n",
       "19          1              n/e        n/e              n/e         n/e  ...   \n",
       "20          0                0          0              n/e         n/e  ...   \n",
       "21          0                0        n/e              n/e         n/e  ...   \n",
       "22         33              n/e        n/e              n/e         n/e  ...   \n",
       "23        n/e              n/e        n/e              n/e         n/e  ...   \n",
       "24          1              n/e          1              n/e         n/e  ...   \n",
       "25         97               97         97              n/e         n/e  ...   \n",
       "26         64               64         64              n/e         n/e  ...   \n",
       "\n",
       "   Hydro Water Reservoir Marine Nuclear Other Other renewable Solar Waste  \\\n",
       "0                      0    n/e     n/e     0             n/e     0     0   \n",
       "1                    n/e    n/e       0     0             n/e     0     0   \n",
       "2                      0    n/e       0   n/e             n/e     0     0   \n",
       "3                      0    n/e       0   n/e             n/e     0   n/e   \n",
       "4                      3    n/e       2     2               2     4     5   \n",
       "5                      0    n/e       0     0               0     0     0   \n",
       "6                    n/e    n/e     n/e   n/e             n/e     0     0   \n",
       "7                    n/e    n/e     n/e   206             206   206   206   \n",
       "8                      1      1       1     1               1     1     1   \n",
       "9                    n/e    n/e       2     2               3   n/e     3   \n",
       "10                     4    n/e       4   n/e             n/e     3     4   \n",
       "11                   n/e    n/e     n/e   n/e             n/e     2   n/e   \n",
       "12                    18    n/e       0     0               0   n/e     0   \n",
       "13                   n/e    n/e     n/e    52             n/e   n/e   n/e   \n",
       "14                     9    n/e     n/e   177             n/e     9     9   \n",
       "15                   n/e    n/e     n/e    33             n/e    33    33   \n",
       "16                   n/e    n/e     n/e    10             n/e   n/e   n/e   \n",
       "17                     0    n/e     n/e   n/e            3623   n/e   n/e   \n",
       "18                   n/e    n/e       0    10             n/e     0     0   \n",
       "19                     1    n/e     n/e     5             n/e   n/e   n/e   \n",
       "20                     0    n/e     n/e   n/e             n/e   n/e   n/e   \n",
       "21                     0    n/e     n/e     0             n/e     0   n/e   \n",
       "22                    33    n/e     n/e     9             n/e   n/e   n/e   \n",
       "23                     0    n/e       0     0             n/e   n/e   n/e   \n",
       "24                   n/e    n/e       1   n/e             n/e     1     1   \n",
       "25                  1755    n/e      97    97              97    97   n/e   \n",
       "26                   n/e    n/e      58    64             n/e     5   n/e   \n",
       "\n",
       "   Wind Offshore Wind Onshore Total missing generation data  \n",
       "0            n/e            0                           0.0  \n",
       "1            836            0                        4993.0  \n",
       "2            n/e            0                           0.0  \n",
       "3            n/e            0                           0.0  \n",
       "4            n/e            2                          41.0  \n",
       "5              0            0                       34848.0  \n",
       "6              0            0                           0.0  \n",
       "7            n/e          206                        2266.0  \n",
       "8              1            1                        8779.0  \n",
       "9            n/e            2                          28.0  \n",
       "10           n/e            4                        4724.0  \n",
       "11           n/e            2                        8773.0  \n",
       "12           n/e         1016                       12123.0  \n",
       "13           n/e           10                         374.0  \n",
       "14           n/e            9                         286.0  \n",
       "15           n/e           33                         264.0  \n",
       "16           n/e           10                          50.0  \n",
       "17           n/e         3623                        7246.0  \n",
       "18             2            2                        8635.0  \n",
       "19           n/e            1                           9.0  \n",
       "20           n/e            0                           0.0  \n",
       "21           n/e            0                           0.0  \n",
       "22           n/e          n/e                         183.0  \n",
       "23           n/e            1                           1.0  \n",
       "24           n/e            1                          10.0  \n",
       "25           n/e           97                        5259.0  \n",
       "26             5           11                         509.0  \n",
       "\n",
       "[27 rows x 24 columns]"
      ],
      "text/html": [
       "<div>\n",
       "<style scoped>\n",
       "    .dataframe tbody tr th:only-of-type {\n",
       "        vertical-align: middle;\n",
       "    }\n",
       "\n",
       "    .dataframe tbody tr th {\n",
       "        vertical-align: top;\n",
       "    }\n",
       "\n",
       "    .dataframe thead th {\n",
       "        text-align: right;\n",
       "    }\n",
       "</style>\n",
       "<table border=\"1\" class=\"dataframe\">\n",
       "  <thead>\n",
       "    <tr style=\"text-align: right;\">\n",
       "      <th></th>\n",
       "      <th>Country</th>\n",
       "      <th>demand</th>\n",
       "      <th>Biomass</th>\n",
       "      <th>Fossil Brown coal/Lignite</th>\n",
       "      <th>Fossil Coal-derived gas</th>\n",
       "      <th>Fossil Gas</th>\n",
       "      <th>Fossil Hard coal</th>\n",
       "      <th>Fossil Oil</th>\n",
       "      <th>Fossil Oil shale</th>\n",
       "      <th>Fossil Peat</th>\n",
       "      <th>...</th>\n",
       "      <th>Hydro Water Reservoir</th>\n",
       "      <th>Marine</th>\n",
       "      <th>Nuclear</th>\n",
       "      <th>Other</th>\n",
       "      <th>Other renewable</th>\n",
       "      <th>Solar</th>\n",
       "      <th>Waste</th>\n",
       "      <th>Wind Offshore</th>\n",
       "      <th>Wind Onshore</th>\n",
       "      <th>Total missing generation data</th>\n",
       "    </tr>\n",
       "  </thead>\n",
       "  <tbody>\n",
       "    <tr>\n",
       "      <th>0</th>\n",
       "      <td>AT</td>\n",
       "      <td>0</td>\n",
       "      <td>0</td>\n",
       "      <td>n/e</td>\n",
       "      <td>n/e</td>\n",
       "      <td>0</td>\n",
       "      <td>0</td>\n",
       "      <td>n/e</td>\n",
       "      <td>n/e</td>\n",
       "      <td>n/e</td>\n",
       "      <td>...</td>\n",
       "      <td>0</td>\n",
       "      <td>n/e</td>\n",
       "      <td>n/e</td>\n",
       "      <td>0</td>\n",
       "      <td>n/e</td>\n",
       "      <td>0</td>\n",
       "      <td>0</td>\n",
       "      <td>n/e</td>\n",
       "      <td>0</td>\n",
       "      <td>0.0</td>\n",
       "    </tr>\n",
       "    <tr>\n",
       "      <th>1</th>\n",
       "      <td>BE</td>\n",
       "      <td>0</td>\n",
       "      <td>0</td>\n",
       "      <td>n/e</td>\n",
       "      <td>n/e</td>\n",
       "      <td>0</td>\n",
       "      <td>n/e</td>\n",
       "      <td>0</td>\n",
       "      <td>n/e</td>\n",
       "      <td>n/e</td>\n",
       "      <td>...</td>\n",
       "      <td>n/e</td>\n",
       "      <td>n/e</td>\n",
       "      <td>0</td>\n",
       "      <td>0</td>\n",
       "      <td>n/e</td>\n",
       "      <td>0</td>\n",
       "      <td>0</td>\n",
       "      <td>836</td>\n",
       "      <td>0</td>\n",
       "      <td>4993.0</td>\n",
       "    </tr>\n",
       "    <tr>\n",
       "      <th>2</th>\n",
       "      <td>BG</td>\n",
       "      <td>25</td>\n",
       "      <td>0</td>\n",
       "      <td>0</td>\n",
       "      <td>n/e</td>\n",
       "      <td>0</td>\n",
       "      <td>0</td>\n",
       "      <td>n/e</td>\n",
       "      <td>n/e</td>\n",
       "      <td>n/e</td>\n",
       "      <td>...</td>\n",
       "      <td>0</td>\n",
       "      <td>n/e</td>\n",
       "      <td>0</td>\n",
       "      <td>n/e</td>\n",
       "      <td>n/e</td>\n",
       "      <td>0</td>\n",
       "      <td>0</td>\n",
       "      <td>n/e</td>\n",
       "      <td>0</td>\n",
       "      <td>0.0</td>\n",
       "    </tr>\n",
       "    <tr>\n",
       "      <th>3</th>\n",
       "      <td>CH</td>\n",
       "      <td>0</td>\n",
       "      <td>n/e</td>\n",
       "      <td>n/e</td>\n",
       "      <td>n/e</td>\n",
       "      <td>n/e</td>\n",
       "      <td>n/e</td>\n",
       "      <td>n/e</td>\n",
       "      <td>n/e</td>\n",
       "      <td>n/e</td>\n",
       "      <td>...</td>\n",
       "      <td>0</td>\n",
       "      <td>n/e</td>\n",
       "      <td>0</td>\n",
       "      <td>n/e</td>\n",
       "      <td>n/e</td>\n",
       "      <td>0</td>\n",
       "      <td>n/e</td>\n",
       "      <td>n/e</td>\n",
       "      <td>0</td>\n",
       "      <td>0.0</td>\n",
       "    </tr>\n",
       "    <tr>\n",
       "      <th>4</th>\n",
       "      <td>CZ</td>\n",
       "      <td>7</td>\n",
       "      <td>2</td>\n",
       "      <td>2</td>\n",
       "      <td>2</td>\n",
       "      <td>2</td>\n",
       "      <td>2</td>\n",
       "      <td>5</td>\n",
       "      <td>n/e</td>\n",
       "      <td>n/e</td>\n",
       "      <td>...</td>\n",
       "      <td>3</td>\n",
       "      <td>n/e</td>\n",
       "      <td>2</td>\n",
       "      <td>2</td>\n",
       "      <td>2</td>\n",
       "      <td>4</td>\n",
       "      <td>5</td>\n",
       "      <td>n/e</td>\n",
       "      <td>2</td>\n",
       "      <td>41.0</td>\n",
       "    </tr>\n",
       "    <tr>\n",
       "      <th>5</th>\n",
       "      <td>DE</td>\n",
       "      <td>0</td>\n",
       "      <td>0</td>\n",
       "      <td>0</td>\n",
       "      <td>34848</td>\n",
       "      <td>0</td>\n",
       "      <td>0</td>\n",
       "      <td>0</td>\n",
       "      <td>n/e</td>\n",
       "      <td>n/e</td>\n",
       "      <td>...</td>\n",
       "      <td>0</td>\n",
       "      <td>n/e</td>\n",
       "      <td>0</td>\n",
       "      <td>0</td>\n",
       "      <td>0</td>\n",
       "      <td>0</td>\n",
       "      <td>0</td>\n",
       "      <td>0</td>\n",
       "      <td>0</td>\n",
       "      <td>34848.0</td>\n",
       "    </tr>\n",
       "    <tr>\n",
       "      <th>6</th>\n",
       "      <td>DK</td>\n",
       "      <td>0</td>\n",
       "      <td>0</td>\n",
       "      <td>n/e</td>\n",
       "      <td>n/e</td>\n",
       "      <td>0</td>\n",
       "      <td>0</td>\n",
       "      <td>0</td>\n",
       "      <td>n/e</td>\n",
       "      <td>n/e</td>\n",
       "      <td>...</td>\n",
       "      <td>n/e</td>\n",
       "      <td>n/e</td>\n",
       "      <td>n/e</td>\n",
       "      <td>n/e</td>\n",
       "      <td>n/e</td>\n",
       "      <td>0</td>\n",
       "      <td>0</td>\n",
       "      <td>0</td>\n",
       "      <td>0</td>\n",
       "      <td>0.0</td>\n",
       "    </tr>\n",
       "    <tr>\n",
       "      <th>7</th>\n",
       "      <td>EE</td>\n",
       "      <td>144</td>\n",
       "      <td>206</td>\n",
       "      <td>n/e</td>\n",
       "      <td>206</td>\n",
       "      <td>206</td>\n",
       "      <td>n/e</td>\n",
       "      <td>n/e</td>\n",
       "      <td>206</td>\n",
       "      <td>206</td>\n",
       "      <td>...</td>\n",
       "      <td>n/e</td>\n",
       "      <td>n/e</td>\n",
       "      <td>n/e</td>\n",
       "      <td>206</td>\n",
       "      <td>206</td>\n",
       "      <td>206</td>\n",
       "      <td>206</td>\n",
       "      <td>n/e</td>\n",
       "      <td>206</td>\n",
       "      <td>2266.0</td>\n",
       "    </tr>\n",
       "    <tr>\n",
       "      <th>8</th>\n",
       "      <td>ES</td>\n",
       "      <td>2</td>\n",
       "      <td>1</td>\n",
       "      <td>1</td>\n",
       "      <td>1</td>\n",
       "      <td>1</td>\n",
       "      <td>1</td>\n",
       "      <td>1</td>\n",
       "      <td>1</td>\n",
       "      <td>1</td>\n",
       "      <td>...</td>\n",
       "      <td>1</td>\n",
       "      <td>1</td>\n",
       "      <td>1</td>\n",
       "      <td>1</td>\n",
       "      <td>1</td>\n",
       "      <td>1</td>\n",
       "      <td>1</td>\n",
       "      <td>1</td>\n",
       "      <td>1</td>\n",
       "      <td>8779.0</td>\n",
       "    </tr>\n",
       "    <tr>\n",
       "      <th>9</th>\n",
       "      <td>FI</td>\n",
       "      <td>3</td>\n",
       "      <td>2</td>\n",
       "      <td>n/e</td>\n",
       "      <td>n/e</td>\n",
       "      <td>3</td>\n",
       "      <td>3</td>\n",
       "      <td>3</td>\n",
       "      <td>n/e</td>\n",
       "      <td>2</td>\n",
       "      <td>...</td>\n",
       "      <td>n/e</td>\n",
       "      <td>n/e</td>\n",
       "      <td>2</td>\n",
       "      <td>2</td>\n",
       "      <td>3</td>\n",
       "      <td>n/e</td>\n",
       "      <td>3</td>\n",
       "      <td>n/e</td>\n",
       "      <td>2</td>\n",
       "      <td>28.0</td>\n",
       "    </tr>\n",
       "    <tr>\n",
       "      <th>10</th>\n",
       "      <td>FR</td>\n",
       "      <td>18</td>\n",
       "      <td>4</td>\n",
       "      <td>n/e</td>\n",
       "      <td>n/e</td>\n",
       "      <td>4</td>\n",
       "      <td>842</td>\n",
       "      <td>4</td>\n",
       "      <td>n/e</td>\n",
       "      <td>n/e</td>\n",
       "      <td>...</td>\n",
       "      <td>4</td>\n",
       "      <td>n/e</td>\n",
       "      <td>4</td>\n",
       "      <td>n/e</td>\n",
       "      <td>n/e</td>\n",
       "      <td>3</td>\n",
       "      <td>4</td>\n",
       "      <td>n/e</td>\n",
       "      <td>4</td>\n",
       "      <td>4724.0</td>\n",
       "    </tr>\n",
       "    <tr>\n",
       "      <th>11</th>\n",
       "      <td>GR</td>\n",
       "      <td>2</td>\n",
       "      <td>n/e</td>\n",
       "      <td>3</td>\n",
       "      <td>n/e</td>\n",
       "      <td>3</td>\n",
       "      <td>n/e</td>\n",
       "      <td>3</td>\n",
       "      <td>n/e</td>\n",
       "      <td>n/e</td>\n",
       "      <td>...</td>\n",
       "      <td>n/e</td>\n",
       "      <td>n/e</td>\n",
       "      <td>n/e</td>\n",
       "      <td>n/e</td>\n",
       "      <td>n/e</td>\n",
       "      <td>2</td>\n",
       "      <td>n/e</td>\n",
       "      <td>n/e</td>\n",
       "      <td>2</td>\n",
       "      <td>8773.0</td>\n",
       "    </tr>\n",
       "    <tr>\n",
       "      <th>12</th>\n",
       "      <td>HU</td>\n",
       "      <td>0</td>\n",
       "      <td>0</td>\n",
       "      <td>0</td>\n",
       "      <td>n/e</td>\n",
       "      <td>0</td>\n",
       "      <td>n/e</td>\n",
       "      <td>11089</td>\n",
       "      <td>n/e</td>\n",
       "      <td>n/e</td>\n",
       "      <td>...</td>\n",
       "      <td>18</td>\n",
       "      <td>n/e</td>\n",
       "      <td>0</td>\n",
       "      <td>0</td>\n",
       "      <td>0</td>\n",
       "      <td>n/e</td>\n",
       "      <td>0</td>\n",
       "      <td>n/e</td>\n",
       "      <td>1016</td>\n",
       "      <td>12123.0</td>\n",
       "    </tr>\n",
       "    <tr>\n",
       "      <th>13</th>\n",
       "      <td>IE</td>\n",
       "      <td>18</td>\n",
       "      <td>n/e</td>\n",
       "      <td>n/e</td>\n",
       "      <td>n/e</td>\n",
       "      <td>52</td>\n",
       "      <td>52</td>\n",
       "      <td>52</td>\n",
       "      <td>n/e</td>\n",
       "      <td>52</td>\n",
       "      <td>...</td>\n",
       "      <td>n/e</td>\n",
       "      <td>n/e</td>\n",
       "      <td>n/e</td>\n",
       "      <td>52</td>\n",
       "      <td>n/e</td>\n",
       "      <td>n/e</td>\n",
       "      <td>n/e</td>\n",
       "      <td>n/e</td>\n",
       "      <td>10</td>\n",
       "      <td>374.0</td>\n",
       "    </tr>\n",
       "    <tr>\n",
       "      <th>14</th>\n",
       "      <td>IT</td>\n",
       "      <td>0</td>\n",
       "      <td>9</td>\n",
       "      <td>n/e</td>\n",
       "      <td>9</td>\n",
       "      <td>9</td>\n",
       "      <td>9</td>\n",
       "      <td>9</td>\n",
       "      <td>n/e</td>\n",
       "      <td>n/e</td>\n",
       "      <td>...</td>\n",
       "      <td>9</td>\n",
       "      <td>n/e</td>\n",
       "      <td>n/e</td>\n",
       "      <td>177</td>\n",
       "      <td>n/e</td>\n",
       "      <td>9</td>\n",
       "      <td>9</td>\n",
       "      <td>n/e</td>\n",
       "      <td>9</td>\n",
       "      <td>286.0</td>\n",
       "    </tr>\n",
       "    <tr>\n",
       "      <th>15</th>\n",
       "      <td>LT</td>\n",
       "      <td>67</td>\n",
       "      <td>33</td>\n",
       "      <td>n/e</td>\n",
       "      <td>n/e</td>\n",
       "      <td>33</td>\n",
       "      <td>n/e</td>\n",
       "      <td>n/e</td>\n",
       "      <td>n/e</td>\n",
       "      <td>n/e</td>\n",
       "      <td>...</td>\n",
       "      <td>n/e</td>\n",
       "      <td>n/e</td>\n",
       "      <td>n/e</td>\n",
       "      <td>33</td>\n",
       "      <td>n/e</td>\n",
       "      <td>33</td>\n",
       "      <td>33</td>\n",
       "      <td>n/e</td>\n",
       "      <td>33</td>\n",
       "      <td>264.0</td>\n",
       "    </tr>\n",
       "    <tr>\n",
       "      <th>16</th>\n",
       "      <td>LV</td>\n",
       "      <td>6</td>\n",
       "      <td>10</td>\n",
       "      <td>n/e</td>\n",
       "      <td>n/e</td>\n",
       "      <td>10</td>\n",
       "      <td>n/e</td>\n",
       "      <td>n/e</td>\n",
       "      <td>n/e</td>\n",
       "      <td>n/e</td>\n",
       "      <td>...</td>\n",
       "      <td>n/e</td>\n",
       "      <td>n/e</td>\n",
       "      <td>n/e</td>\n",
       "      <td>10</td>\n",
       "      <td>n/e</td>\n",
       "      <td>n/e</td>\n",
       "      <td>n/e</td>\n",
       "      <td>n/e</td>\n",
       "      <td>10</td>\n",
       "      <td>50.0</td>\n",
       "    </tr>\n",
       "    <tr>\n",
       "      <th>17</th>\n",
       "      <td>ME</td>\n",
       "      <td>0</td>\n",
       "      <td>n/e</td>\n",
       "      <td>0</td>\n",
       "      <td>n/e</td>\n",
       "      <td>n/e</td>\n",
       "      <td>n/e</td>\n",
       "      <td>n/e</td>\n",
       "      <td>n/e</td>\n",
       "      <td>n/e</td>\n",
       "      <td>...</td>\n",
       "      <td>0</td>\n",
       "      <td>n/e</td>\n",
       "      <td>n/e</td>\n",
       "      <td>n/e</td>\n",
       "      <td>3623</td>\n",
       "      <td>n/e</td>\n",
       "      <td>n/e</td>\n",
       "      <td>n/e</td>\n",
       "      <td>3623</td>\n",
       "      <td>7246.0</td>\n",
       "    </tr>\n",
       "    <tr>\n",
       "      <th>18</th>\n",
       "      <td>NL</td>\n",
       "      <td>0</td>\n",
       "      <td>0</td>\n",
       "      <td>n/e</td>\n",
       "      <td>n/e</td>\n",
       "      <td>0</td>\n",
       "      <td>10</td>\n",
       "      <td>n/e</td>\n",
       "      <td>n/e</td>\n",
       "      <td>n/e</td>\n",
       "      <td>...</td>\n",
       "      <td>n/e</td>\n",
       "      <td>n/e</td>\n",
       "      <td>0</td>\n",
       "      <td>10</td>\n",
       "      <td>n/e</td>\n",
       "      <td>0</td>\n",
       "      <td>0</td>\n",
       "      <td>2</td>\n",
       "      <td>2</td>\n",
       "      <td>8635.0</td>\n",
       "    </tr>\n",
       "    <tr>\n",
       "      <th>19</th>\n",
       "      <td>NO</td>\n",
       "      <td>0</td>\n",
       "      <td>n/e</td>\n",
       "      <td>n/e</td>\n",
       "      <td>n/e</td>\n",
       "      <td>1</td>\n",
       "      <td>n/e</td>\n",
       "      <td>n/e</td>\n",
       "      <td>n/e</td>\n",
       "      <td>n/e</td>\n",
       "      <td>...</td>\n",
       "      <td>1</td>\n",
       "      <td>n/e</td>\n",
       "      <td>n/e</td>\n",
       "      <td>5</td>\n",
       "      <td>n/e</td>\n",
       "      <td>n/e</td>\n",
       "      <td>n/e</td>\n",
       "      <td>n/e</td>\n",
       "      <td>1</td>\n",
       "      <td>9.0</td>\n",
       "    </tr>\n",
       "    <tr>\n",
       "      <th>20</th>\n",
       "      <td>PL</td>\n",
       "      <td>1</td>\n",
       "      <td>0</td>\n",
       "      <td>0</td>\n",
       "      <td>0</td>\n",
       "      <td>0</td>\n",
       "      <td>0</td>\n",
       "      <td>0</td>\n",
       "      <td>n/e</td>\n",
       "      <td>n/e</td>\n",
       "      <td>...</td>\n",
       "      <td>0</td>\n",
       "      <td>n/e</td>\n",
       "      <td>n/e</td>\n",
       "      <td>n/e</td>\n",
       "      <td>n/e</td>\n",
       "      <td>n/e</td>\n",
       "      <td>n/e</td>\n",
       "      <td>n/e</td>\n",
       "      <td>0</td>\n",
       "      <td>0.0</td>\n",
       "    </tr>\n",
       "    <tr>\n",
       "      <th>21</th>\n",
       "      <td>PT</td>\n",
       "      <td>0</td>\n",
       "      <td>0</td>\n",
       "      <td>n/e</td>\n",
       "      <td>n/e</td>\n",
       "      <td>0</td>\n",
       "      <td>0</td>\n",
       "      <td>n/e</td>\n",
       "      <td>n/e</td>\n",
       "      <td>n/e</td>\n",
       "      <td>...</td>\n",
       "      <td>0</td>\n",
       "      <td>n/e</td>\n",
       "      <td>n/e</td>\n",
       "      <td>0</td>\n",
       "      <td>n/e</td>\n",
       "      <td>0</td>\n",
       "      <td>n/e</td>\n",
       "      <td>n/e</td>\n",
       "      <td>0</td>\n",
       "      <td>0.0</td>\n",
       "    </tr>\n",
       "    <tr>\n",
       "      <th>22</th>\n",
       "      <td>RS</td>\n",
       "      <td>1</td>\n",
       "      <td>33</td>\n",
       "      <td>33</td>\n",
       "      <td>n/e</td>\n",
       "      <td>33</td>\n",
       "      <td>n/e</td>\n",
       "      <td>n/e</td>\n",
       "      <td>n/e</td>\n",
       "      <td>n/e</td>\n",
       "      <td>...</td>\n",
       "      <td>33</td>\n",
       "      <td>n/e</td>\n",
       "      <td>n/e</td>\n",
       "      <td>9</td>\n",
       "      <td>n/e</td>\n",
       "      <td>n/e</td>\n",
       "      <td>n/e</td>\n",
       "      <td>n/e</td>\n",
       "      <td>n/e</td>\n",
       "      <td>183.0</td>\n",
       "    </tr>\n",
       "    <tr>\n",
       "      <th>23</th>\n",
       "      <td>SE</td>\n",
       "      <td>0</td>\n",
       "      <td>n/e</td>\n",
       "      <td>n/e</td>\n",
       "      <td>n/e</td>\n",
       "      <td>n/e</td>\n",
       "      <td>n/e</td>\n",
       "      <td>n/e</td>\n",
       "      <td>n/e</td>\n",
       "      <td>n/e</td>\n",
       "      <td>...</td>\n",
       "      <td>0</td>\n",
       "      <td>n/e</td>\n",
       "      <td>0</td>\n",
       "      <td>0</td>\n",
       "      <td>n/e</td>\n",
       "      <td>n/e</td>\n",
       "      <td>n/e</td>\n",
       "      <td>n/e</td>\n",
       "      <td>1</td>\n",
       "      <td>1.0</td>\n",
       "    </tr>\n",
       "    <tr>\n",
       "      <th>24</th>\n",
       "      <td>SI</td>\n",
       "      <td>0</td>\n",
       "      <td>1</td>\n",
       "      <td>1</td>\n",
       "      <td>n/e</td>\n",
       "      <td>1</td>\n",
       "      <td>n/e</td>\n",
       "      <td>1</td>\n",
       "      <td>n/e</td>\n",
       "      <td>n/e</td>\n",
       "      <td>...</td>\n",
       "      <td>n/e</td>\n",
       "      <td>n/e</td>\n",
       "      <td>1</td>\n",
       "      <td>n/e</td>\n",
       "      <td>n/e</td>\n",
       "      <td>1</td>\n",
       "      <td>1</td>\n",
       "      <td>n/e</td>\n",
       "      <td>1</td>\n",
       "      <td>10.0</td>\n",
       "    </tr>\n",
       "    <tr>\n",
       "      <th>25</th>\n",
       "      <td>SK</td>\n",
       "      <td>0</td>\n",
       "      <td>97</td>\n",
       "      <td>97</td>\n",
       "      <td>n/e</td>\n",
       "      <td>97</td>\n",
       "      <td>97</td>\n",
       "      <td>97</td>\n",
       "      <td>n/e</td>\n",
       "      <td>n/e</td>\n",
       "      <td>...</td>\n",
       "      <td>1755</td>\n",
       "      <td>n/e</td>\n",
       "      <td>97</td>\n",
       "      <td>97</td>\n",
       "      <td>97</td>\n",
       "      <td>97</td>\n",
       "      <td>n/e</td>\n",
       "      <td>n/e</td>\n",
       "      <td>97</td>\n",
       "      <td>5259.0</td>\n",
       "    </tr>\n",
       "    <tr>\n",
       "      <th>26</th>\n",
       "      <td>GB</td>\n",
       "      <td>8</td>\n",
       "      <td>58</td>\n",
       "      <td>n/e</td>\n",
       "      <td>n/e</td>\n",
       "      <td>64</td>\n",
       "      <td>64</td>\n",
       "      <td>64</td>\n",
       "      <td>n/e</td>\n",
       "      <td>n/e</td>\n",
       "      <td>...</td>\n",
       "      <td>n/e</td>\n",
       "      <td>n/e</td>\n",
       "      <td>58</td>\n",
       "      <td>64</td>\n",
       "      <td>n/e</td>\n",
       "      <td>5</td>\n",
       "      <td>n/e</td>\n",
       "      <td>5</td>\n",
       "      <td>11</td>\n",
       "      <td>509.0</td>\n",
       "    </tr>\n",
       "  </tbody>\n",
       "</table>\n",
       "<p>27 rows × 24 columns</p>\n",
       "</div>"
      ]
     },
     "metadata": {}
    },
    {
     "output_type": "display_data",
     "data": {
      "text/plain": [
       "          Link  No of missing data\n",
       "0    AT - > CH                   0\n",
       "1    CH - > AT                   0\n",
       "2    AT - > CZ                   0\n",
       "3    CZ - > AT                   0\n",
       "4    AT - > DE                   0\n",
       "..         ...                 ...\n",
       "141  MK - > RS                   0\n",
       "142  RS - > RO                   0\n",
       "143  RO - > RS                   0\n",
       "144  SK - > UA                   9\n",
       "145  UA - > SK                   8\n",
       "\n",
       "[146 rows x 2 columns]"
      ],
      "text/html": [
       "<div>\n",
       "<style scoped>\n",
       "    .dataframe tbody tr th:only-of-type {\n",
       "        vertical-align: middle;\n",
       "    }\n",
       "\n",
       "    .dataframe tbody tr th {\n",
       "        vertical-align: top;\n",
       "    }\n",
       "\n",
       "    .dataframe thead th {\n",
       "        text-align: right;\n",
       "    }\n",
       "</style>\n",
       "<table border=\"1\" class=\"dataframe\">\n",
       "  <thead>\n",
       "    <tr style=\"text-align: right;\">\n",
       "      <th></th>\n",
       "      <th>Link</th>\n",
       "      <th>No of missing data</th>\n",
       "    </tr>\n",
       "  </thead>\n",
       "  <tbody>\n",
       "    <tr>\n",
       "      <th>0</th>\n",
       "      <td>AT - &gt; CH</td>\n",
       "      <td>0</td>\n",
       "    </tr>\n",
       "    <tr>\n",
       "      <th>1</th>\n",
       "      <td>CH - &gt; AT</td>\n",
       "      <td>0</td>\n",
       "    </tr>\n",
       "    <tr>\n",
       "      <th>2</th>\n",
       "      <td>AT - &gt; CZ</td>\n",
       "      <td>0</td>\n",
       "    </tr>\n",
       "    <tr>\n",
       "      <th>3</th>\n",
       "      <td>CZ - &gt; AT</td>\n",
       "      <td>0</td>\n",
       "    </tr>\n",
       "    <tr>\n",
       "      <th>4</th>\n",
       "      <td>AT - &gt; DE</td>\n",
       "      <td>0</td>\n",
       "    </tr>\n",
       "    <tr>\n",
       "      <th>...</th>\n",
       "      <td>...</td>\n",
       "      <td>...</td>\n",
       "    </tr>\n",
       "    <tr>\n",
       "      <th>141</th>\n",
       "      <td>MK - &gt; RS</td>\n",
       "      <td>0</td>\n",
       "    </tr>\n",
       "    <tr>\n",
       "      <th>142</th>\n",
       "      <td>RS - &gt; RO</td>\n",
       "      <td>0</td>\n",
       "    </tr>\n",
       "    <tr>\n",
       "      <th>143</th>\n",
       "      <td>RO - &gt; RS</td>\n",
       "      <td>0</td>\n",
       "    </tr>\n",
       "    <tr>\n",
       "      <th>144</th>\n",
       "      <td>SK - &gt; UA</td>\n",
       "      <td>9</td>\n",
       "    </tr>\n",
       "    <tr>\n",
       "      <th>145</th>\n",
       "      <td>UA - &gt; SK</td>\n",
       "      <td>8</td>\n",
       "    </tr>\n",
       "  </tbody>\n",
       "</table>\n",
       "<p>146 rows × 2 columns</p>\n",
       "</div>"
      ]
     },
     "metadata": {}
    },
    {
     "output_type": "display_data",
     "data": {
      "text/plain": [
       "<Figure size 1440x720 with 1 Axes>"
      ],
      "image/svg+xml": "<?xml version=\"1.0\" encoding=\"utf-8\" standalone=\"no\"?>\r\n<!DOCTYPE svg PUBLIC \"-//W3C//DTD SVG 1.1//EN\"\r\n  \"http://www.w3.org/Graphics/SVG/1.1/DTD/svg11.dtd\">\r\n<svg height=\"603.474375pt\" version=\"1.1\" viewBox=\"0 0 1163.803125 603.474375\" width=\"1163.803125pt\" xmlns=\"http://www.w3.org/2000/svg\" xmlns:xlink=\"http://www.w3.org/1999/xlink\">\r\n <metadata>\r\n  <rdf:RDF xmlns:cc=\"http://creativecommons.org/ns#\" xmlns:dc=\"http://purl.org/dc/elements/1.1/\" xmlns:rdf=\"http://www.w3.org/1999/02/22-rdf-syntax-ns#\">\r\n   <cc:Work>\r\n    <dc:type rdf:resource=\"http://purl.org/dc/dcmitype/StillImage\"/>\r\n    <dc:date>2021-08-30T20:59:50.718940</dc:date>\r\n    <dc:format>image/svg+xml</dc:format>\r\n    <dc:creator>\r\n     <cc:Agent>\r\n      <dc:title>Matplotlib v3.4.2, https://matplotlib.org/</dc:title>\r\n     </cc:Agent>\r\n    </dc:creator>\r\n   </cc:Work>\r\n  </rdf:RDF>\r\n </metadata>\r\n <defs>\r\n  <style type=\"text/css\">*{stroke-linecap:butt;stroke-linejoin:round;}</style>\r\n </defs>\r\n <g id=\"figure_1\">\r\n  <g id=\"patch_1\">\r\n   <path d=\"M 0 603.474375 \r\nL 1163.803125 603.474375 \r\nL 1163.803125 0 \r\nL 0 0 \r\nz\r\n\" style=\"fill:none;\"/>\r\n  </g>\r\n  <g id=\"axes_1\">\r\n   <g id=\"patch_2\">\r\n    <path d=\"M 40.603125 565.918125 \r\nL 1156.603125 565.918125 \r\nL 1156.603125 22.318125 \r\nL 40.603125 22.318125 \r\nz\r\n\" style=\"fill:#ffffff;\"/>\r\n   </g>\r\n   <g id=\"patch_3\">\r\n    <path clip-path=\"url(#p6b34a7e4ef)\" d=\"M 91.330398 565.918125 \r\nL 104.806334 565.918125 \r\nL 104.806334 48.203839 \r\nL 91.330398 48.203839 \r\nz\r\n\" style=\"fill:#00ffff;stroke:#000000;stroke-linejoin:miter;\"/>\r\n   </g>\r\n   <g id=\"patch_4\">\r\n    <path clip-path=\"url(#p6b34a7e4ef)\" d=\"M 129.833072 565.918125 \r\nL 143.309007 565.918125 \r\nL 143.309007 369.770912 \r\nL 129.833072 369.770912 \r\nz\r\n\" style=\"fill:#00ffff;stroke:#000000;stroke-linejoin:miter;\"/>\r\n   </g>\r\n   <g id=\"patch_5\">\r\n    <path clip-path=\"url(#p6b34a7e4ef)\" d=\"M 168.335745 565.918125 \r\nL 181.811681 565.918125 \r\nL 181.811681 373.375645 \r\nL 168.335745 373.375645 \r\nz\r\n\" style=\"fill:#00ffff;stroke:#000000;stroke-linejoin:miter;\"/>\r\n   </g>\r\n   <g id=\"patch_6\">\r\n    <path clip-path=\"url(#p6b34a7e4ef)\" d=\"M 206.838419 565.918125 \r\nL 220.314355 565.918125 \r\nL 220.314355 392.020818 \r\nL 206.838419 392.020818 \r\nz\r\n\" style=\"fill:#00ffff;stroke:#000000;stroke-linejoin:miter;\"/>\r\n   </g>\r\n   <g id=\"patch_7\">\r\n    <path clip-path=\"url(#p6b34a7e4ef)\" d=\"M 245.341093 565.918125 \r\nL 258.817029 565.918125 \r\nL 258.817029 397.117165 \r\nL 245.341093 397.117165 \r\nz\r\n\" style=\"fill:#00ffff;stroke:#000000;stroke-linejoin:miter;\"/>\r\n   </g>\r\n   <g id=\"patch_8\">\r\n    <path clip-path=\"url(#p6b34a7e4ef)\" d=\"M 283.843767 565.918125 \r\nL 297.319703 565.918125 \r\nL 297.319703 452.804079 \r\nL 283.843767 452.804079 \r\nz\r\n\" style=\"fill:#00ffff;stroke:#000000;stroke-linejoin:miter;\"/>\r\n   </g>\r\n   <g id=\"patch_9\">\r\n    <path clip-path=\"url(#p6b34a7e4ef)\" d=\"M 322.346441 565.918125 \r\nL 335.822376 565.918125 \r\nL 335.822376 480.896139 \r\nL 322.346441 480.896139 \r\nz\r\n\" style=\"fill:#00ffff;stroke:#000000;stroke-linejoin:miter;\"/>\r\n   </g>\r\n   <g id=\"patch_10\">\r\n    <path clip-path=\"url(#p6b34a7e4ef)\" d=\"M 360.849114 565.918125 \r\nL 374.32505 565.918125 \r\nL 374.32505 489.472918 \r\nL 360.849114 489.472918 \r\nz\r\n\" style=\"fill:#00ffff;stroke:#000000;stroke-linejoin:miter;\"/>\r\n   </g>\r\n   <g id=\"patch_11\">\r\n    <path clip-path=\"url(#p6b34a7e4ef)\" d=\"M 399.351788 565.918125 \r\nL 412.827724 565.918125 \r\nL 412.827724 514.457449 \r\nL 399.351788 514.457449 \r\nz\r\n\" style=\"fill:#00ffff;stroke:#000000;stroke-linejoin:miter;\"/>\r\n   </g>\r\n   <g id=\"patch_12\">\r\n    <path clip-path=\"url(#p6b34a7e4ef)\" d=\"M 437.854462 565.918125 \r\nL 451.330398 565.918125 \r\nL 451.330398 524.028638 \r\nL 437.854462 524.028638 \r\nz\r\n\" style=\"fill:#00ffff;stroke:#000000;stroke-linejoin:miter;\"/>\r\n   </g>\r\n   <g id=\"patch_13\">\r\n    <path clip-path=\"url(#p6b34a7e4ef)\" d=\"M 476.357136 565.918125 \r\nL 489.833072 565.918125 \r\nL 489.833072 531.486707 \r\nL 476.357136 531.486707 \r\nz\r\n\" style=\"fill:#00ffff;stroke:#000000;stroke-linejoin:miter;\"/>\r\n   </g>\r\n   <g id=\"patch_14\">\r\n    <path clip-path=\"url(#p6b34a7e4ef)\" d=\"M 514.859809 565.918125 \r\nL 528.335745 565.918125 \r\nL 528.335745 533.724127 \r\nL 514.859809 533.724127 \r\nz\r\n\" style=\"fill:#00ffff;stroke:#000000;stroke-linejoin:miter;\"/>\r\n   </g>\r\n   <g id=\"patch_15\">\r\n    <path clip-path=\"url(#p6b34a7e4ef)\" d=\"M 553.362483 565.918125 \r\nL 566.838419 565.918125 \r\nL 566.838419 535.215741 \r\nL 553.362483 535.215741 \r\nz\r\n\" style=\"fill:#00ffff;stroke:#000000;stroke-linejoin:miter;\"/>\r\n   </g>\r\n   <g id=\"patch_16\">\r\n    <path clip-path=\"url(#p6b34a7e4ef)\" d=\"M 591.865157 565.918125 \r\nL 605.341093 565.918125 \r\nL 605.341093 543.79252 \r\nL 591.865157 543.79252 \r\nz\r\n\" style=\"fill:#00ffff;stroke:#000000;stroke-linejoin:miter;\"/>\r\n   </g>\r\n   <g id=\"patch_17\">\r\n    <path clip-path=\"url(#p6b34a7e4ef)\" d=\"M 630.367831 565.918125 \r\nL 643.843767 565.918125 \r\nL 643.843767 544.78693 \r\nL 630.367831 544.78693 \r\nz\r\n\" style=\"fill:#00ffff;stroke:#000000;stroke-linejoin:miter;\"/>\r\n   </g>\r\n   <g id=\"patch_18\">\r\n    <path clip-path=\"url(#p6b34a7e4ef)\" d=\"M 668.870505 565.918125 \r\nL 682.346441 565.918125 \r\nL 682.346441 553.363709 \r\nL 668.870505 553.363709 \r\nz\r\n\" style=\"fill:#00ffff;stroke:#000000;stroke-linejoin:miter;\"/>\r\n   </g>\r\n   <g id=\"patch_19\">\r\n    <path clip-path=\"url(#p6b34a7e4ef)\" d=\"M 707.373178 565.918125 \r\nL 720.849114 565.918125 \r\nL 720.849114 554.60672 \r\nL 707.373178 554.60672 \r\nz\r\n\" style=\"fill:#00ffff;stroke:#000000;stroke-linejoin:miter;\"/>\r\n   </g>\r\n   <g id=\"patch_20\">\r\n    <path clip-path=\"url(#p6b34a7e4ef)\" d=\"M 745.875852 565.918125 \r\nL 759.351788 565.918125 \r\nL 759.351788 555.725431 \r\nL 745.875852 555.725431 \r\nz\r\n\" style=\"fill:#00ffff;stroke:#000000;stroke-linejoin:miter;\"/>\r\n   </g>\r\n   <g id=\"patch_21\">\r\n    <path clip-path=\"url(#p6b34a7e4ef)\" d=\"M 784.378526 565.918125 \r\nL 797.854462 565.918125 \r\nL 797.854462 555.974033 \r\nL 784.378526 555.974033 \r\nz\r\n\" style=\"fill:#00ffff;stroke:#000000;stroke-linejoin:miter;\"/>\r\n   </g>\r\n   <g id=\"patch_22\">\r\n    <path clip-path=\"url(#p6b34a7e4ef)\" d=\"M 822.8812 565.918125 \r\nL 836.357136 565.918125 \r\nL 836.357136 556.71984 \r\nL 822.8812 556.71984 \r\nz\r\n\" style=\"fill:#00ffff;stroke:#000000;stroke-linejoin:miter;\"/>\r\n   </g>\r\n   <g id=\"patch_23\">\r\n    <path clip-path=\"url(#p6b34a7e4ef)\" d=\"M 861.383874 565.918125 \r\nL 874.859809 565.918125 \r\nL 874.859809 557.83855 \r\nL 861.383874 557.83855 \r\nz\r\n\" style=\"fill:#00ffff;stroke:#000000;stroke-linejoin:miter;\"/>\r\n   </g>\r\n   <g id=\"patch_24\">\r\n    <path clip-path=\"url(#p6b34a7e4ef)\" d=\"M 899.886547 565.918125 \r\nL 913.362483 565.918125 \r\nL 913.362483 559.95167 \r\nL 899.886547 559.95167 \r\nz\r\n\" style=\"fill:#00ffff;stroke:#000000;stroke-linejoin:miter;\"/>\r\n   </g>\r\n   <g id=\"patch_25\">\r\n    <path clip-path=\"url(#p6b34a7e4ef)\" d=\"M 938.389221 565.918125 \r\nL 951.865157 565.918125 \r\nL 951.865157 560.200272 \r\nL 938.389221 560.200272 \r\nz\r\n\" style=\"fill:#00ffff;stroke:#000000;stroke-linejoin:miter;\"/>\r\n   </g>\r\n   <g id=\"patch_26\">\r\n    <path clip-path=\"url(#p6b34a7e4ef)\" d=\"M 976.891895 565.918125 \r\nL 990.367831 565.918125 \r\nL 990.367831 560.573176 \r\nL 976.891895 560.573176 \r\nz\r\n\" style=\"fill:#00ffff;stroke:#000000;stroke-linejoin:miter;\"/>\r\n   </g>\r\n   <g id=\"patch_27\">\r\n    <path clip-path=\"url(#p6b34a7e4ef)\" d=\"M 1015.394569 565.918125 \r\nL 1028.870505 565.918125 \r\nL 1028.870505 561.691886 \r\nL 1015.394569 561.691886 \r\nz\r\n\" style=\"fill:#00ffff;stroke:#000000;stroke-linejoin:miter;\"/>\r\n   </g>\r\n   <g id=\"patch_28\">\r\n    <path clip-path=\"url(#p6b34a7e4ef)\" d=\"M 1053.897243 565.918125 \r\nL 1067.373178 565.918125 \r\nL 1067.373178 562.064789 \r\nL 1053.897243 562.064789 \r\nz\r\n\" style=\"fill:#00ffff;stroke:#000000;stroke-linejoin:miter;\"/>\r\n   </g>\r\n   <g id=\"patch_29\">\r\n    <path clip-path=\"url(#p6b34a7e4ef)\" d=\"M 1092.399916 565.918125 \r\nL 1105.875852 565.918125 \r\nL 1105.875852 565.172318 \r\nL 1092.399916 565.172318 \r\nz\r\n\" style=\"fill:#00ffff;stroke:#000000;stroke-linejoin:miter;\"/>\r\n   </g>\r\n   <g id=\"matplotlib.axis_1\">\r\n    <g id=\"xtick_1\">\r\n     <g id=\"line2d_1\">\r\n      <path clip-path=\"url(#p6b34a7e4ef)\" d=\"M 98.068366 565.918125 \r\nL 98.068366 22.318125 \r\n\" style=\"fill:none;stroke:#b0b0b0;stroke-linecap:square;stroke-width:0.8;\"/>\r\n     </g>\r\n     <g id=\"line2d_2\">\r\n      <defs>\r\n       <path d=\"M 0 0 \r\nL 0 3.5 \r\n\" id=\"mc130b86e51\" style=\"stroke:#000000;stroke-width:0.8;\"/>\r\n      </defs>\r\n      <g>\r\n       <use style=\"stroke:#000000;stroke-width:0.8;\" x=\"98.068366\" xlink:href=\"#mc130b86e51\" y=\"565.918125\"/>\r\n      </g>\r\n     </g>\r\n     <g id=\"text_1\">\r\n      <!-- GB -->\r\n      <g transform=\"translate(90.763678 580.516562)scale(0.1 -0.1)\">\r\n       <defs>\r\n        <path d=\"M 3809 666 \r\nL 3809 1919 \r\nL 2778 1919 \r\nL 2778 2438 \r\nL 4434 2438 \r\nL 4434 434 \r\nQ 4069 175 3628 42 \r\nQ 3188 -91 2688 -91 \r\nQ 1594 -91 976 548 \r\nQ 359 1188 359 2328 \r\nQ 359 3472 976 4111 \r\nQ 1594 4750 2688 4750 \r\nQ 3144 4750 3555 4637 \r\nQ 3966 4525 4313 4306 \r\nL 4313 3634 \r\nQ 3963 3931 3569 4081 \r\nQ 3175 4231 2741 4231 \r\nQ 1884 4231 1454 3753 \r\nQ 1025 3275 1025 2328 \r\nQ 1025 1384 1454 906 \r\nQ 1884 428 2741 428 \r\nQ 3075 428 3337 486 \r\nQ 3600 544 3809 666 \r\nz\r\n\" id=\"DejaVuSans-47\" transform=\"scale(0.015625)\"/>\r\n        <path d=\"M 1259 2228 \r\nL 1259 519 \r\nL 2272 519 \r\nQ 2781 519 3026 730 \r\nQ 3272 941 3272 1375 \r\nQ 3272 1813 3026 2020 \r\nQ 2781 2228 2272 2228 \r\nL 1259 2228 \r\nz\r\nM 1259 4147 \r\nL 1259 2741 \r\nL 2194 2741 \r\nQ 2656 2741 2882 2914 \r\nQ 3109 3088 3109 3444 \r\nQ 3109 3797 2882 3972 \r\nQ 2656 4147 2194 4147 \r\nL 1259 4147 \r\nz\r\nM 628 4666 \r\nL 2241 4666 \r\nQ 2963 4666 3353 4366 \r\nQ 3744 4066 3744 3513 \r\nQ 3744 3084 3544 2831 \r\nQ 3344 2578 2956 2516 \r\nQ 3422 2416 3680 2098 \r\nQ 3938 1781 3938 1306 \r\nQ 3938 681 3513 340 \r\nQ 3088 0 2303 0 \r\nL 628 0 \r\nL 628 4666 \r\nz\r\n\" id=\"DejaVuSans-42\" transform=\"scale(0.015625)\"/>\r\n       </defs>\r\n       <use xlink:href=\"#DejaVuSans-47\"/>\r\n       <use x=\"77.490234\" xlink:href=\"#DejaVuSans-42\"/>\r\n      </g>\r\n     </g>\r\n    </g>\r\n    <g id=\"xtick_2\">\r\n     <g id=\"line2d_3\">\r\n      <path clip-path=\"url(#p6b34a7e4ef)\" d=\"M 136.571039 565.918125 \r\nL 136.571039 22.318125 \r\n\" style=\"fill:none;stroke:#b0b0b0;stroke-linecap:square;stroke-width:0.8;\"/>\r\n     </g>\r\n     <g id=\"line2d_4\">\r\n      <g>\r\n       <use style=\"stroke:#000000;stroke-width:0.8;\" x=\"136.571039\" xlink:href=\"#mc130b86e51\" y=\"565.918125\"/>\r\n      </g>\r\n     </g>\r\n     <g id=\"text_2\">\r\n      <!-- DE -->\r\n      <g transform=\"translate(129.561664 580.516562)scale(0.1 -0.1)\">\r\n       <defs>\r\n        <path d=\"M 1259 4147 \r\nL 1259 519 \r\nL 2022 519 \r\nQ 2988 519 3436 956 \r\nQ 3884 1394 3884 2338 \r\nQ 3884 3275 3436 3711 \r\nQ 2988 4147 2022 4147 \r\nL 1259 4147 \r\nz\r\nM 628 4666 \r\nL 1925 4666 \r\nQ 3281 4666 3915 4102 \r\nQ 4550 3538 4550 2338 \r\nQ 4550 1131 3912 565 \r\nQ 3275 0 1925 0 \r\nL 628 0 \r\nL 628 4666 \r\nz\r\n\" id=\"DejaVuSans-44\" transform=\"scale(0.015625)\"/>\r\n        <path d=\"M 628 4666 \r\nL 3578 4666 \r\nL 3578 4134 \r\nL 1259 4134 \r\nL 1259 2753 \r\nL 3481 2753 \r\nL 3481 2222 \r\nL 1259 2222 \r\nL 1259 531 \r\nL 3634 531 \r\nL 3634 0 \r\nL 628 0 \r\nL 628 4666 \r\nz\r\n\" id=\"DejaVuSans-45\" transform=\"scale(0.015625)\"/>\r\n       </defs>\r\n       <use xlink:href=\"#DejaVuSans-44\"/>\r\n       <use x=\"77.001953\" xlink:href=\"#DejaVuSans-45\"/>\r\n      </g>\r\n     </g>\r\n    </g>\r\n    <g id=\"xtick_3\">\r\n     <g id=\"line2d_5\">\r\n      <path clip-path=\"url(#p6b34a7e4ef)\" d=\"M 175.073713 565.918125 \r\nL 175.073713 22.318125 \r\n\" style=\"fill:none;stroke:#b0b0b0;stroke-linecap:square;stroke-width:0.8;\"/>\r\n     </g>\r\n     <g id=\"line2d_6\">\r\n      <g>\r\n       <use style=\"stroke:#000000;stroke-width:0.8;\" x=\"175.073713\" xlink:href=\"#mc130b86e51\" y=\"565.918125\"/>\r\n      </g>\r\n     </g>\r\n     <g id=\"text_3\">\r\n      <!-- CH -->\r\n      <g transform=\"translate(167.822151 580.516562)scale(0.1 -0.1)\">\r\n       <defs>\r\n        <path d=\"M 4122 4306 \r\nL 4122 3641 \r\nQ 3803 3938 3442 4084 \r\nQ 3081 4231 2675 4231 \r\nQ 1875 4231 1450 3742 \r\nQ 1025 3253 1025 2328 \r\nQ 1025 1406 1450 917 \r\nQ 1875 428 2675 428 \r\nQ 3081 428 3442 575 \r\nQ 3803 722 4122 1019 \r\nL 4122 359 \r\nQ 3791 134 3420 21 \r\nQ 3050 -91 2638 -91 \r\nQ 1578 -91 968 557 \r\nQ 359 1206 359 2328 \r\nQ 359 3453 968 4101 \r\nQ 1578 4750 2638 4750 \r\nQ 3056 4750 3426 4639 \r\nQ 3797 4528 4122 4306 \r\nz\r\n\" id=\"DejaVuSans-43\" transform=\"scale(0.015625)\"/>\r\n        <path d=\"M 628 4666 \r\nL 1259 4666 \r\nL 1259 2753 \r\nL 3553 2753 \r\nL 3553 4666 \r\nL 4184 4666 \r\nL 4184 0 \r\nL 3553 0 \r\nL 3553 2222 \r\nL 1259 2222 \r\nL 1259 0 \r\nL 628 0 \r\nL 628 4666 \r\nz\r\n\" id=\"DejaVuSans-48\" transform=\"scale(0.015625)\"/>\r\n       </defs>\r\n       <use xlink:href=\"#DejaVuSans-43\"/>\r\n       <use x=\"69.824219\" xlink:href=\"#DejaVuSans-48\"/>\r\n      </g>\r\n     </g>\r\n    </g>\r\n    <g id=\"xtick_4\">\r\n     <g id=\"line2d_7\">\r\n      <path clip-path=\"url(#p6b34a7e4ef)\" d=\"M 213.576387 565.918125 \r\nL 213.576387 22.318125 \r\n\" style=\"fill:none;stroke:#b0b0b0;stroke-linecap:square;stroke-width:0.8;\"/>\r\n     </g>\r\n     <g id=\"line2d_8\">\r\n      <g>\r\n       <use style=\"stroke:#000000;stroke-width:0.8;\" x=\"213.576387\" xlink:href=\"#mc130b86e51\" y=\"565.918125\"/>\r\n      </g>\r\n     </g>\r\n     <g id=\"text_4\">\r\n      <!-- PL -->\r\n      <g transform=\"translate(207.775606 580.516562)scale(0.1 -0.1)\">\r\n       <defs>\r\n        <path d=\"M 1259 4147 \r\nL 1259 2394 \r\nL 2053 2394 \r\nQ 2494 2394 2734 2622 \r\nQ 2975 2850 2975 3272 \r\nQ 2975 3691 2734 3919 \r\nQ 2494 4147 2053 4147 \r\nL 1259 4147 \r\nz\r\nM 628 4666 \r\nL 2053 4666 \r\nQ 2838 4666 3239 4311 \r\nQ 3641 3956 3641 3272 \r\nQ 3641 2581 3239 2228 \r\nQ 2838 1875 2053 1875 \r\nL 1259 1875 \r\nL 1259 0 \r\nL 628 0 \r\nL 628 4666 \r\nz\r\n\" id=\"DejaVuSans-50\" transform=\"scale(0.015625)\"/>\r\n        <path d=\"M 628 4666 \r\nL 1259 4666 \r\nL 1259 531 \r\nL 3531 531 \r\nL 3531 0 \r\nL 628 0 \r\nL 628 4666 \r\nz\r\n\" id=\"DejaVuSans-4c\" transform=\"scale(0.015625)\"/>\r\n       </defs>\r\n       <use xlink:href=\"#DejaVuSans-50\"/>\r\n       <use x=\"60.302734\" xlink:href=\"#DejaVuSans-4c\"/>\r\n      </g>\r\n     </g>\r\n    </g>\r\n    <g id=\"xtick_5\">\r\n     <g id=\"line2d_9\">\r\n      <path clip-path=\"url(#p6b34a7e4ef)\" d=\"M 252.079061 565.918125 \r\nL 252.079061 22.318125 \r\n\" style=\"fill:none;stroke:#b0b0b0;stroke-linecap:square;stroke-width:0.8;\"/>\r\n     </g>\r\n     <g id=\"line2d_10\">\r\n      <g>\r\n       <use style=\"stroke:#000000;stroke-width:0.8;\" x=\"252.079061\" xlink:href=\"#mc130b86e51\" y=\"565.918125\"/>\r\n      </g>\r\n     </g>\r\n     <g id=\"text_5\">\r\n      <!-- NL -->\r\n      <g transform=\"translate(245.552498 580.516562)scale(0.1 -0.1)\">\r\n       <defs>\r\n        <path d=\"M 628 4666 \r\nL 1478 4666 \r\nL 3547 763 \r\nL 3547 4666 \r\nL 4159 4666 \r\nL 4159 0 \r\nL 3309 0 \r\nL 1241 3903 \r\nL 1241 0 \r\nL 628 0 \r\nL 628 4666 \r\nz\r\n\" id=\"DejaVuSans-4e\" transform=\"scale(0.015625)\"/>\r\n       </defs>\r\n       <use xlink:href=\"#DejaVuSans-4e\"/>\r\n       <use x=\"74.804688\" xlink:href=\"#DejaVuSans-4c\"/>\r\n      </g>\r\n     </g>\r\n    </g>\r\n    <g id=\"xtick_6\">\r\n     <g id=\"line2d_11\">\r\n      <path clip-path=\"url(#p6b34a7e4ef)\" d=\"M 290.581735 565.918125 \r\nL 290.581735 22.318125 \r\n\" style=\"fill:none;stroke:#b0b0b0;stroke-linecap:square;stroke-width:0.8;\"/>\r\n     </g>\r\n     <g id=\"line2d_12\">\r\n      <g>\r\n       <use style=\"stroke:#000000;stroke-width:0.8;\" x=\"290.581735\" xlink:href=\"#mc130b86e51\" y=\"565.918125\"/>\r\n      </g>\r\n     </g>\r\n     <g id=\"text_6\">\r\n      <!-- GR -->\r\n      <g transform=\"translate(283.233297 580.516562)scale(0.1 -0.1)\">\r\n       <defs>\r\n        <path d=\"M 2841 2188 \r\nQ 3044 2119 3236 1894 \r\nQ 3428 1669 3622 1275 \r\nL 4263 0 \r\nL 3584 0 \r\nL 2988 1197 \r\nQ 2756 1666 2539 1819 \r\nQ 2322 1972 1947 1972 \r\nL 1259 1972 \r\nL 1259 0 \r\nL 628 0 \r\nL 628 4666 \r\nL 2053 4666 \r\nQ 2853 4666 3247 4331 \r\nQ 3641 3997 3641 3322 \r\nQ 3641 2881 3436 2590 \r\nQ 3231 2300 2841 2188 \r\nz\r\nM 1259 4147 \r\nL 1259 2491 \r\nL 2053 2491 \r\nQ 2509 2491 2742 2702 \r\nQ 2975 2913 2975 3322 \r\nQ 2975 3731 2742 3939 \r\nQ 2509 4147 2053 4147 \r\nL 1259 4147 \r\nz\r\n\" id=\"DejaVuSans-52\" transform=\"scale(0.015625)\"/>\r\n       </defs>\r\n       <use xlink:href=\"#DejaVuSans-47\"/>\r\n       <use x=\"77.490234\" xlink:href=\"#DejaVuSans-52\"/>\r\n      </g>\r\n     </g>\r\n    </g>\r\n    <g id=\"xtick_7\">\r\n     <g id=\"line2d_13\">\r\n      <path clip-path=\"url(#p6b34a7e4ef)\" d=\"M 329.084408 565.918125 \r\nL 329.084408 22.318125 \r\n\" style=\"fill:none;stroke:#b0b0b0;stroke-linecap:square;stroke-width:0.8;\"/>\r\n     </g>\r\n     <g id=\"line2d_14\">\r\n      <g>\r\n       <use style=\"stroke:#000000;stroke-width:0.8;\" x=\"329.084408\" xlink:href=\"#mc130b86e51\" y=\"565.918125\"/>\r\n      </g>\r\n     </g>\r\n     <g id=\"text_7\">\r\n      <!-- FR -->\r\n      <g transform=\"translate(322.734408 580.516562)scale(0.1 -0.1)\">\r\n       <defs>\r\n        <path d=\"M 628 4666 \r\nL 3309 4666 \r\nL 3309 4134 \r\nL 1259 4134 \r\nL 1259 2759 \r\nL 3109 2759 \r\nL 3109 2228 \r\nL 1259 2228 \r\nL 1259 0 \r\nL 628 0 \r\nL 628 4666 \r\nz\r\n\" id=\"DejaVuSans-46\" transform=\"scale(0.015625)\"/>\r\n       </defs>\r\n       <use xlink:href=\"#DejaVuSans-46\"/>\r\n       <use x=\"57.519531\" xlink:href=\"#DejaVuSans-52\"/>\r\n      </g>\r\n     </g>\r\n    </g>\r\n    <g id=\"xtick_8\">\r\n     <g id=\"line2d_15\">\r\n      <path clip-path=\"url(#p6b34a7e4ef)\" d=\"M 367.587082 565.918125 \r\nL 367.587082 22.318125 \r\n\" style=\"fill:none;stroke:#b0b0b0;stroke-linecap:square;stroke-width:0.8;\"/>\r\n     </g>\r\n     <g id=\"line2d_16\">\r\n      <g>\r\n       <use style=\"stroke:#000000;stroke-width:0.8;\" x=\"367.587082\" xlink:href=\"#mc130b86e51\" y=\"565.918125\"/>\r\n      </g>\r\n     </g>\r\n     <g id=\"text_8\">\r\n      <!-- ES -->\r\n      <g transform=\"translate(361.253488 580.516562)scale(0.1 -0.1)\">\r\n       <defs>\r\n        <path d=\"M 3425 4513 \r\nL 3425 3897 \r\nQ 3066 4069 2747 4153 \r\nQ 2428 4238 2131 4238 \r\nQ 1616 4238 1336 4038 \r\nQ 1056 3838 1056 3469 \r\nQ 1056 3159 1242 3001 \r\nQ 1428 2844 1947 2747 \r\nL 2328 2669 \r\nQ 3034 2534 3370 2195 \r\nQ 3706 1856 3706 1288 \r\nQ 3706 609 3251 259 \r\nQ 2797 -91 1919 -91 \r\nQ 1588 -91 1214 -16 \r\nQ 841 59 441 206 \r\nL 441 856 \r\nQ 825 641 1194 531 \r\nQ 1563 422 1919 422 \r\nQ 2459 422 2753 634 \r\nQ 3047 847 3047 1241 \r\nQ 3047 1584 2836 1778 \r\nQ 2625 1972 2144 2069 \r\nL 1759 2144 \r\nQ 1053 2284 737 2584 \r\nQ 422 2884 422 3419 \r\nQ 422 4038 858 4394 \r\nQ 1294 4750 2059 4750 \r\nQ 2388 4750 2728 4690 \r\nQ 3069 4631 3425 4513 \r\nz\r\n\" id=\"DejaVuSans-53\" transform=\"scale(0.015625)\"/>\r\n       </defs>\r\n       <use xlink:href=\"#DejaVuSans-45\"/>\r\n       <use x=\"63.183594\" xlink:href=\"#DejaVuSans-53\"/>\r\n      </g>\r\n     </g>\r\n    </g>\r\n    <g id=\"xtick_9\">\r\n     <g id=\"line2d_17\">\r\n      <path clip-path=\"url(#p6b34a7e4ef)\" d=\"M 406.089756 565.918125 \r\nL 406.089756 22.318125 \r\n\" style=\"fill:none;stroke:#b0b0b0;stroke-linecap:square;stroke-width:0.8;\"/>\r\n     </g>\r\n     <g id=\"line2d_18\">\r\n      <g>\r\n       <use style=\"stroke:#000000;stroke-width:0.8;\" x=\"406.089756\" xlink:href=\"#mc130b86e51\" y=\"565.918125\"/>\r\n      </g>\r\n     </g>\r\n     <g id=\"text_9\">\r\n      <!-- RS -->\r\n      <g transform=\"translate(399.441319 580.516562)scale(0.1 -0.1)\">\r\n       <use xlink:href=\"#DejaVuSans-52\"/>\r\n       <use x=\"69.482422\" xlink:href=\"#DejaVuSans-53\"/>\r\n      </g>\r\n     </g>\r\n    </g>\r\n    <g id=\"xtick_10\">\r\n     <g id=\"line2d_19\">\r\n      <path clip-path=\"url(#p6b34a7e4ef)\" d=\"M 444.59243 565.918125 \r\nL 444.59243 22.318125 \r\n\" style=\"fill:none;stroke:#b0b0b0;stroke-linecap:square;stroke-width:0.8;\"/>\r\n     </g>\r\n     <g id=\"line2d_20\">\r\n      <g>\r\n       <use style=\"stroke:#000000;stroke-width:0.8;\" x=\"444.59243\" xlink:href=\"#mc130b86e51\" y=\"565.918125\"/>\r\n      </g>\r\n     </g>\r\n     <g id=\"text_10\">\r\n      <!-- IE -->\r\n      <g transform=\"translate(439.958055 580.516562)scale(0.1 -0.1)\">\r\n       <defs>\r\n        <path d=\"M 628 4666 \r\nL 1259 4666 \r\nL 1259 0 \r\nL 628 0 \r\nL 628 4666 \r\nz\r\n\" id=\"DejaVuSans-49\" transform=\"scale(0.015625)\"/>\r\n       </defs>\r\n       <use xlink:href=\"#DejaVuSans-49\"/>\r\n       <use x=\"29.492188\" xlink:href=\"#DejaVuSans-45\"/>\r\n      </g>\r\n     </g>\r\n    </g>\r\n    <g id=\"xtick_11\">\r\n     <g id=\"line2d_21\">\r\n      <path clip-path=\"url(#p6b34a7e4ef)\" d=\"M 483.095104 565.918125 \r\nL 483.095104 22.318125 \r\n\" style=\"fill:none;stroke:#b0b0b0;stroke-linecap:square;stroke-width:0.8;\"/>\r\n     </g>\r\n     <g id=\"line2d_22\">\r\n      <g>\r\n       <use style=\"stroke:#000000;stroke-width:0.8;\" x=\"483.095104\" xlink:href=\"#mc130b86e51\" y=\"565.918125\"/>\r\n      </g>\r\n     </g>\r\n     <g id=\"text_11\">\r\n      <!-- FI -->\r\n      <g transform=\"translate(478.744322 580.516562)scale(0.1 -0.1)\">\r\n       <use xlink:href=\"#DejaVuSans-46\"/>\r\n       <use x=\"57.519531\" xlink:href=\"#DejaVuSans-49\"/>\r\n      </g>\r\n     </g>\r\n    </g>\r\n    <g id=\"xtick_12\">\r\n     <g id=\"line2d_23\">\r\n      <path clip-path=\"url(#p6b34a7e4ef)\" d=\"M 521.597777 565.918125 \r\nL 521.597777 22.318125 \r\n\" style=\"fill:none;stroke:#b0b0b0;stroke-linecap:square;stroke-width:0.8;\"/>\r\n     </g>\r\n     <g id=\"line2d_24\">\r\n      <g>\r\n       <use style=\"stroke:#000000;stroke-width:0.8;\" x=\"521.597777\" xlink:href=\"#mc130b86e51\" y=\"565.918125\"/>\r\n      </g>\r\n     </g>\r\n     <g id=\"text_12\">\r\n      <!-- SE -->\r\n      <g transform=\"translate(515.264184 580.516562)scale(0.1 -0.1)\">\r\n       <use xlink:href=\"#DejaVuSans-53\"/>\r\n       <use x=\"63.476562\" xlink:href=\"#DejaVuSans-45\"/>\r\n      </g>\r\n     </g>\r\n    </g>\r\n    <g id=\"xtick_13\">\r\n     <g id=\"line2d_25\">\r\n      <path clip-path=\"url(#p6b34a7e4ef)\" d=\"M 560.100451 565.918125 \r\nL 560.100451 22.318125 \r\n\" style=\"fill:none;stroke:#b0b0b0;stroke-linecap:square;stroke-width:0.8;\"/>\r\n     </g>\r\n     <g id=\"line2d_26\">\r\n      <g>\r\n       <use style=\"stroke:#000000;stroke-width:0.8;\" x=\"560.100451\" xlink:href=\"#mc130b86e51\" y=\"565.918125\"/>\r\n      </g>\r\n     </g>\r\n     <g id=\"text_13\">\r\n      <!-- AT -->\r\n      <g transform=\"translate(554.013732 580.516562)scale(0.1 -0.1)\">\r\n       <defs>\r\n        <path d=\"M 2188 4044 \r\nL 1331 1722 \r\nL 3047 1722 \r\nL 2188 4044 \r\nz\r\nM 1831 4666 \r\nL 2547 4666 \r\nL 4325 0 \r\nL 3669 0 \r\nL 3244 1197 \r\nL 1141 1197 \r\nL 716 0 \r\nL 50 0 \r\nL 1831 4666 \r\nz\r\n\" id=\"DejaVuSans-41\" transform=\"scale(0.015625)\"/>\r\n        <path d=\"M -19 4666 \r\nL 3928 4666 \r\nL 3928 4134 \r\nL 2272 4134 \r\nL 2272 0 \r\nL 1638 0 \r\nL 1638 4134 \r\nL -19 4134 \r\nL -19 4666 \r\nz\r\n\" id=\"DejaVuSans-54\" transform=\"scale(0.015625)\"/>\r\n       </defs>\r\n       <use xlink:href=\"#DejaVuSans-41\"/>\r\n       <use x=\"60.658203\" xlink:href=\"#DejaVuSans-54\"/>\r\n      </g>\r\n     </g>\r\n    </g>\r\n    <g id=\"xtick_14\">\r\n     <g id=\"line2d_27\">\r\n      <path clip-path=\"url(#p6b34a7e4ef)\" d=\"M 598.603125 565.918125 \r\nL 598.603125 22.318125 \r\n\" style=\"fill:none;stroke:#b0b0b0;stroke-linecap:square;stroke-width:0.8;\"/>\r\n     </g>\r\n     <g id=\"line2d_28\">\r\n      <g>\r\n       <use style=\"stroke:#000000;stroke-width:0.8;\" x=\"598.603125\" xlink:href=\"#mc130b86e51\" y=\"565.918125\"/>\r\n      </g>\r\n     </g>\r\n     <g id=\"text_14\">\r\n      <!-- PT -->\r\n      <g transform=\"translate(592.534375 580.516562)scale(0.1 -0.1)\">\r\n       <use xlink:href=\"#DejaVuSans-50\"/>\r\n       <use x=\"60.302734\" xlink:href=\"#DejaVuSans-54\"/>\r\n      </g>\r\n     </g>\r\n    </g>\r\n    <g id=\"xtick_15\">\r\n     <g id=\"line2d_29\">\r\n      <path clip-path=\"url(#p6b34a7e4ef)\" d=\"M 637.105799 565.918125 \r\nL 637.105799 22.318125 \r\n\" style=\"fill:none;stroke:#b0b0b0;stroke-linecap:square;stroke-width:0.8;\"/>\r\n     </g>\r\n     <g id=\"line2d_30\">\r\n      <g>\r\n       <use style=\"stroke:#000000;stroke-width:0.8;\" x=\"637.105799\" xlink:href=\"#mc130b86e51\" y=\"565.918125\"/>\r\n      </g>\r\n     </g>\r\n     <g id=\"text_15\">\r\n      <!-- CZ -->\r\n      <g transform=\"translate(630.189393 580.516562)scale(0.1 -0.1)\">\r\n       <defs>\r\n        <path d=\"M 359 4666 \r\nL 4025 4666 \r\nL 4025 4184 \r\nL 1075 531 \r\nL 4097 531 \r\nL 4097 0 \r\nL 288 0 \r\nL 288 481 \r\nL 3238 4134 \r\nL 359 4134 \r\nL 359 4666 \r\nz\r\n\" id=\"DejaVuSans-5a\" transform=\"scale(0.015625)\"/>\r\n       </defs>\r\n       <use xlink:href=\"#DejaVuSans-43\"/>\r\n       <use x=\"69.824219\" xlink:href=\"#DejaVuSans-5a\"/>\r\n      </g>\r\n     </g>\r\n    </g>\r\n    <g id=\"xtick_16\">\r\n     <g id=\"line2d_31\">\r\n      <path clip-path=\"url(#p6b34a7e4ef)\" d=\"M 675.608473 565.918125 \r\nL 675.608473 22.318125 \r\n\" style=\"fill:none;stroke:#b0b0b0;stroke-linecap:square;stroke-width:0.8;\"/>\r\n     </g>\r\n     <g id=\"line2d_32\">\r\n      <g>\r\n       <use style=\"stroke:#000000;stroke-width:0.8;\" x=\"675.608473\" xlink:href=\"#mc130b86e51\" y=\"565.918125\"/>\r\n      </g>\r\n     </g>\r\n     <g id=\"text_16\">\r\n      <!-- DK -->\r\n      <g transform=\"translate(668.479566 580.516562)scale(0.1 -0.1)\">\r\n       <defs>\r\n        <path d=\"M 628 4666 \r\nL 1259 4666 \r\nL 1259 2694 \r\nL 3353 4666 \r\nL 4166 4666 \r\nL 1850 2491 \r\nL 4331 0 \r\nL 3500 0 \r\nL 1259 2247 \r\nL 1259 0 \r\nL 628 0 \r\nL 628 4666 \r\nz\r\n\" id=\"DejaVuSans-4b\" transform=\"scale(0.015625)\"/>\r\n       </defs>\r\n       <use xlink:href=\"#DejaVuSans-44\"/>\r\n       <use x=\"77.001953\" xlink:href=\"#DejaVuSans-4b\"/>\r\n      </g>\r\n     </g>\r\n    </g>\r\n    <g id=\"xtick_17\">\r\n     <g id=\"line2d_33\">\r\n      <path clip-path=\"url(#p6b34a7e4ef)\" d=\"M 714.111146 565.918125 \r\nL 714.111146 22.318125 \r\n\" style=\"fill:none;stroke:#b0b0b0;stroke-linecap:square;stroke-width:0.8;\"/>\r\n     </g>\r\n     <g id=\"line2d_34\">\r\n      <g>\r\n       <use style=\"stroke:#000000;stroke-width:0.8;\" x=\"714.111146\" xlink:href=\"#mc130b86e51\" y=\"565.918125\"/>\r\n      </g>\r\n     </g>\r\n     <g id=\"text_17\">\r\n      <!-- LT -->\r\n      <g transform=\"translate(708.958803 580.516562)scale(0.1 -0.1)\">\r\n       <use xlink:href=\"#DejaVuSans-4c\"/>\r\n       <use x=\"41.962891\" xlink:href=\"#DejaVuSans-54\"/>\r\n      </g>\r\n     </g>\r\n    </g>\r\n    <g id=\"xtick_18\">\r\n     <g id=\"line2d_35\">\r\n      <path clip-path=\"url(#p6b34a7e4ef)\" d=\"M 752.61382 565.918125 \r\nL 752.61382 22.318125 \r\n\" style=\"fill:none;stroke:#b0b0b0;stroke-linecap:square;stroke-width:0.8;\"/>\r\n     </g>\r\n     <g id=\"line2d_36\">\r\n      <g>\r\n       <use style=\"stroke:#000000;stroke-width:0.8;\" x=\"752.61382\" xlink:href=\"#mc130b86e51\" y=\"565.918125\"/>\r\n      </g>\r\n     </g>\r\n     <g id=\"text_18\">\r\n      <!-- ME -->\r\n      <g transform=\"translate(745.140383 580.516562)scale(0.1 -0.1)\">\r\n       <defs>\r\n        <path d=\"M 628 4666 \r\nL 1569 4666 \r\nL 2759 1491 \r\nL 3956 4666 \r\nL 4897 4666 \r\nL 4897 0 \r\nL 4281 0 \r\nL 4281 4097 \r\nL 3078 897 \r\nL 2444 897 \r\nL 1241 4097 \r\nL 1241 0 \r\nL 628 0 \r\nL 628 4666 \r\nz\r\n\" id=\"DejaVuSans-4d\" transform=\"scale(0.015625)\"/>\r\n       </defs>\r\n       <use xlink:href=\"#DejaVuSans-4d\"/>\r\n       <use x=\"86.279297\" xlink:href=\"#DejaVuSans-45\"/>\r\n      </g>\r\n     </g>\r\n    </g>\r\n    <g id=\"xtick_19\">\r\n     <g id=\"line2d_37\">\r\n      <path clip-path=\"url(#p6b34a7e4ef)\" d=\"M 791.116494 565.918125 \r\nL 791.116494 22.318125 \r\n\" style=\"fill:none;stroke:#b0b0b0;stroke-linecap:square;stroke-width:0.8;\"/>\r\n     </g>\r\n     <g id=\"line2d_38\">\r\n      <g>\r\n       <use style=\"stroke:#000000;stroke-width:0.8;\" x=\"791.116494\" xlink:href=\"#mc130b86e51\" y=\"565.918125\"/>\r\n      </g>\r\n     </g>\r\n     <g id=\"text_19\">\r\n      <!-- BE -->\r\n      <g transform=\"translate(784.52665 580.516562)scale(0.1 -0.1)\">\r\n       <use xlink:href=\"#DejaVuSans-42\"/>\r\n       <use x=\"68.603516\" xlink:href=\"#DejaVuSans-45\"/>\r\n      </g>\r\n     </g>\r\n    </g>\r\n    <g id=\"xtick_20\">\r\n     <g id=\"line2d_39\">\r\n      <path clip-path=\"url(#p6b34a7e4ef)\" d=\"M 829.619168 565.918125 \r\nL 829.619168 22.318125 \r\n\" style=\"fill:none;stroke:#b0b0b0;stroke-linecap:square;stroke-width:0.8;\"/>\r\n     </g>\r\n     <g id=\"line2d_40\">\r\n      <g>\r\n       <use style=\"stroke:#000000;stroke-width:0.8;\" x=\"829.619168\" xlink:href=\"#mc130b86e51\" y=\"565.918125\"/>\r\n      </g>\r\n     </g>\r\n     <g id=\"text_20\">\r\n      <!-- BG -->\r\n      <g transform=\"translate(822.40198 580.516562)scale(0.1 -0.1)\">\r\n       <use xlink:href=\"#DejaVuSans-42\"/>\r\n       <use x=\"66.853516\" xlink:href=\"#DejaVuSans-47\"/>\r\n      </g>\r\n     </g>\r\n    </g>\r\n    <g id=\"xtick_21\">\r\n     <g id=\"line2d_41\">\r\n      <path clip-path=\"url(#p6b34a7e4ef)\" d=\"M 868.121842 565.918125 \r\nL 868.121842 22.318125 \r\n\" style=\"fill:none;stroke:#b0b0b0;stroke-linecap:square;stroke-width:0.8;\"/>\r\n     </g>\r\n     <g id=\"line2d_42\">\r\n      <g>\r\n       <use style=\"stroke:#000000;stroke-width:0.8;\" x=\"868.121842\" xlink:href=\"#mc130b86e51\" y=\"565.918125\"/>\r\n      </g>\r\n     </g>\r\n     <g id=\"text_21\">\r\n      <!-- SK -->\r\n      <g transform=\"translate(861.668717 580.516562)scale(0.1 -0.1)\">\r\n       <use xlink:href=\"#DejaVuSans-53\"/>\r\n       <use x=\"63.476562\" xlink:href=\"#DejaVuSans-4b\"/>\r\n      </g>\r\n     </g>\r\n    </g>\r\n    <g id=\"xtick_22\">\r\n     <g id=\"line2d_43\">\r\n      <path clip-path=\"url(#p6b34a7e4ef)\" d=\"M 906.624515 565.918125 \r\nL 906.624515 22.318125 \r\n\" style=\"fill:none;stroke:#b0b0b0;stroke-linecap:square;stroke-width:0.8;\"/>\r\n     </g>\r\n     <g id=\"line2d_44\">\r\n      <g>\r\n       <use style=\"stroke:#000000;stroke-width:0.8;\" x=\"906.624515\" xlink:href=\"#mc130b86e51\" y=\"565.918125\"/>\r\n      </g>\r\n     </g>\r\n     <g id=\"text_22\">\r\n      <!-- LV -->\r\n      <g transform=\"translate(900.968265 580.516562)scale(0.1 -0.1)\">\r\n       <defs>\r\n        <path d=\"M 1831 0 \r\nL 50 4666 \r\nL 709 4666 \r\nL 2188 738 \r\nL 3669 4666 \r\nL 4325 4666 \r\nL 2547 0 \r\nL 1831 0 \r\nz\r\n\" id=\"DejaVuSans-56\" transform=\"scale(0.015625)\"/>\r\n       </defs>\r\n       <use xlink:href=\"#DejaVuSans-4c\"/>\r\n       <use x=\"44.712891\" xlink:href=\"#DejaVuSans-56\"/>\r\n      </g>\r\n     </g>\r\n    </g>\r\n    <g id=\"xtick_23\">\r\n     <g id=\"line2d_45\">\r\n      <path clip-path=\"url(#p6b34a7e4ef)\" d=\"M 945.127189 565.918125 \r\nL 945.127189 22.318125 \r\n\" style=\"fill:none;stroke:#b0b0b0;stroke-linecap:square;stroke-width:0.8;\"/>\r\n     </g>\r\n     <g id=\"line2d_46\">\r\n      <g>\r\n       <use style=\"stroke:#000000;stroke-width:0.8;\" x=\"945.127189\" xlink:href=\"#mc130b86e51\" y=\"565.918125\"/>\r\n      </g>\r\n     </g>\r\n     <g id=\"text_23\">\r\n      <!-- HU -->\r\n      <g transform=\"translate(937.707658 580.516562)scale(0.1 -0.1)\">\r\n       <defs>\r\n        <path d=\"M 556 4666 \r\nL 1191 4666 \r\nL 1191 1831 \r\nQ 1191 1081 1462 751 \r\nQ 1734 422 2344 422 \r\nQ 2950 422 3222 751 \r\nQ 3494 1081 3494 1831 \r\nL 3494 4666 \r\nL 4128 4666 \r\nL 4128 1753 \r\nQ 4128 841 3676 375 \r\nQ 3225 -91 2344 -91 \r\nQ 1459 -91 1007 375 \r\nQ 556 841 556 1753 \r\nL 556 4666 \r\nz\r\n\" id=\"DejaVuSans-55\" transform=\"scale(0.015625)\"/>\r\n       </defs>\r\n       <use xlink:href=\"#DejaVuSans-48\"/>\r\n       <use x=\"75.195312\" xlink:href=\"#DejaVuSans-55\"/>\r\n      </g>\r\n     </g>\r\n    </g>\r\n    <g id=\"xtick_24\">\r\n     <g id=\"line2d_47\">\r\n      <path clip-path=\"url(#p6b34a7e4ef)\" d=\"M 983.629863 565.918125 \r\nL 983.629863 22.318125 \r\n\" style=\"fill:none;stroke:#b0b0b0;stroke-linecap:square;stroke-width:0.8;\"/>\r\n     </g>\r\n     <g id=\"line2d_48\">\r\n      <g>\r\n       <use style=\"stroke:#000000;stroke-width:0.8;\" x=\"983.629863\" xlink:href=\"#mc130b86e51\" y=\"565.918125\"/>\r\n      </g>\r\n     </g>\r\n     <g id=\"text_24\">\r\n      <!-- EE -->\r\n      <g transform=\"translate(977.311113 580.516562)scale(0.1 -0.1)\">\r\n       <use xlink:href=\"#DejaVuSans-45\"/>\r\n       <use x=\"63.183594\" xlink:href=\"#DejaVuSans-45\"/>\r\n      </g>\r\n     </g>\r\n    </g>\r\n    <g id=\"xtick_25\">\r\n     <g id=\"line2d_49\">\r\n      <path clip-path=\"url(#p6b34a7e4ef)\" d=\"M 1022.132537 565.918125 \r\nL 1022.132537 22.318125 \r\n\" style=\"fill:none;stroke:#b0b0b0;stroke-linecap:square;stroke-width:0.8;\"/>\r\n     </g>\r\n     <g id=\"line2d_50\">\r\n      <g>\r\n       <use style=\"stroke:#000000;stroke-width:0.8;\" x=\"1022.132537\" xlink:href=\"#mc130b86e51\" y=\"565.918125\"/>\r\n      </g>\r\n     </g>\r\n     <g id=\"text_25\">\r\n      <!-- NO -->\r\n      <g transform=\"translate(1014.455974 580.516562)scale(0.1 -0.1)\">\r\n       <defs>\r\n        <path d=\"M 2522 4238 \r\nQ 1834 4238 1429 3725 \r\nQ 1025 3213 1025 2328 \r\nQ 1025 1447 1429 934 \r\nQ 1834 422 2522 422 \r\nQ 3209 422 3611 934 \r\nQ 4013 1447 4013 2328 \r\nQ 4013 3213 3611 3725 \r\nQ 3209 4238 2522 4238 \r\nz\r\nM 2522 4750 \r\nQ 3503 4750 4090 4092 \r\nQ 4678 3434 4678 2328 \r\nQ 4678 1225 4090 567 \r\nQ 3503 -91 2522 -91 \r\nQ 1538 -91 948 565 \r\nQ 359 1222 359 2328 \r\nQ 359 3434 948 4092 \r\nQ 1538 4750 2522 4750 \r\nz\r\n\" id=\"DejaVuSans-4f\" transform=\"scale(0.015625)\"/>\r\n       </defs>\r\n       <use xlink:href=\"#DejaVuSans-4e\"/>\r\n       <use x=\"74.804688\" xlink:href=\"#DejaVuSans-4f\"/>\r\n      </g>\r\n     </g>\r\n    </g>\r\n    <g id=\"xtick_26\">\r\n     <g id=\"line2d_51\">\r\n      <path clip-path=\"url(#p6b34a7e4ef)\" d=\"M 1060.635211 565.918125 \r\nL 1060.635211 22.318125 \r\n\" style=\"fill:none;stroke:#b0b0b0;stroke-linecap:square;stroke-width:0.8;\"/>\r\n     </g>\r\n     <g id=\"line2d_52\">\r\n      <g>\r\n       <use style=\"stroke:#000000;stroke-width:0.8;\" x=\"1060.635211\" xlink:href=\"#mc130b86e51\" y=\"565.918125\"/>\r\n      </g>\r\n     </g>\r\n     <g id=\"text_26\">\r\n      <!-- SI -->\r\n      <g transform=\"translate(1055.985992 580.516562)scale(0.1 -0.1)\">\r\n       <use xlink:href=\"#DejaVuSans-53\"/>\r\n       <use x=\"63.476562\" xlink:href=\"#DejaVuSans-49\"/>\r\n      </g>\r\n     </g>\r\n    </g>\r\n    <g id=\"xtick_27\">\r\n     <g id=\"line2d_53\">\r\n      <path clip-path=\"url(#p6b34a7e4ef)\" d=\"M 1099.137884 565.918125 \r\nL 1099.137884 22.318125 \r\n\" style=\"fill:none;stroke:#b0b0b0;stroke-linecap:square;stroke-width:0.8;\"/>\r\n     </g>\r\n     <g id=\"line2d_54\">\r\n      <g>\r\n       <use style=\"stroke:#000000;stroke-width:0.8;\" x=\"1099.137884\" xlink:href=\"#mc130b86e51\" y=\"565.918125\"/>\r\n      </g>\r\n     </g>\r\n     <g id=\"text_27\">\r\n      <!-- IT -->\r\n      <g transform=\"translate(1094.608978 580.516562)scale(0.1 -0.1)\">\r\n       <use xlink:href=\"#DejaVuSans-49\"/>\r\n       <use x=\"29.492188\" xlink:href=\"#DejaVuSans-54\"/>\r\n      </g>\r\n     </g>\r\n    </g>\r\n    <g id=\"text_28\">\r\n     <!-- Countries -->\r\n     <g transform=\"translate(574.628906 594.194687)scale(0.1 -0.1)\">\r\n      <defs>\r\n       <path d=\"M 1959 3097 \r\nQ 1497 3097 1228 2736 \r\nQ 959 2375 959 1747 \r\nQ 959 1119 1226 758 \r\nQ 1494 397 1959 397 \r\nQ 2419 397 2687 759 \r\nQ 2956 1122 2956 1747 \r\nQ 2956 2369 2687 2733 \r\nQ 2419 3097 1959 3097 \r\nz\r\nM 1959 3584 \r\nQ 2709 3584 3137 3096 \r\nQ 3566 2609 3566 1747 \r\nQ 3566 888 3137 398 \r\nQ 2709 -91 1959 -91 \r\nQ 1206 -91 779 398 \r\nQ 353 888 353 1747 \r\nQ 353 2609 779 3096 \r\nQ 1206 3584 1959 3584 \r\nz\r\n\" id=\"DejaVuSans-6f\" transform=\"scale(0.015625)\"/>\r\n       <path d=\"M 544 1381 \r\nL 544 3500 \r\nL 1119 3500 \r\nL 1119 1403 \r\nQ 1119 906 1312 657 \r\nQ 1506 409 1894 409 \r\nQ 2359 409 2629 706 \r\nQ 2900 1003 2900 1516 \r\nL 2900 3500 \r\nL 3475 3500 \r\nL 3475 0 \r\nL 2900 0 \r\nL 2900 538 \r\nQ 2691 219 2414 64 \r\nQ 2138 -91 1772 -91 \r\nQ 1169 -91 856 284 \r\nQ 544 659 544 1381 \r\nz\r\nM 1991 3584 \r\nL 1991 3584 \r\nz\r\n\" id=\"DejaVuSans-75\" transform=\"scale(0.015625)\"/>\r\n       <path d=\"M 3513 2113 \r\nL 3513 0 \r\nL 2938 0 \r\nL 2938 2094 \r\nQ 2938 2591 2744 2837 \r\nQ 2550 3084 2163 3084 \r\nQ 1697 3084 1428 2787 \r\nQ 1159 2491 1159 1978 \r\nL 1159 0 \r\nL 581 0 \r\nL 581 3500 \r\nL 1159 3500 \r\nL 1159 2956 \r\nQ 1366 3272 1645 3428 \r\nQ 1925 3584 2291 3584 \r\nQ 2894 3584 3203 3211 \r\nQ 3513 2838 3513 2113 \r\nz\r\n\" id=\"DejaVuSans-6e\" transform=\"scale(0.015625)\"/>\r\n       <path d=\"M 1172 4494 \r\nL 1172 3500 \r\nL 2356 3500 \r\nL 2356 3053 \r\nL 1172 3053 \r\nL 1172 1153 \r\nQ 1172 725 1289 603 \r\nQ 1406 481 1766 481 \r\nL 2356 481 \r\nL 2356 0 \r\nL 1766 0 \r\nQ 1100 0 847 248 \r\nQ 594 497 594 1153 \r\nL 594 3053 \r\nL 172 3053 \r\nL 172 3500 \r\nL 594 3500 \r\nL 594 4494 \r\nL 1172 4494 \r\nz\r\n\" id=\"DejaVuSans-74\" transform=\"scale(0.015625)\"/>\r\n       <path d=\"M 2631 2963 \r\nQ 2534 3019 2420 3045 \r\nQ 2306 3072 2169 3072 \r\nQ 1681 3072 1420 2755 \r\nQ 1159 2438 1159 1844 \r\nL 1159 0 \r\nL 581 0 \r\nL 581 3500 \r\nL 1159 3500 \r\nL 1159 2956 \r\nQ 1341 3275 1631 3429 \r\nQ 1922 3584 2338 3584 \r\nQ 2397 3584 2469 3576 \r\nQ 2541 3569 2628 3553 \r\nL 2631 2963 \r\nz\r\n\" id=\"DejaVuSans-72\" transform=\"scale(0.015625)\"/>\r\n       <path d=\"M 603 3500 \r\nL 1178 3500 \r\nL 1178 0 \r\nL 603 0 \r\nL 603 3500 \r\nz\r\nM 603 4863 \r\nL 1178 4863 \r\nL 1178 4134 \r\nL 603 4134 \r\nL 603 4863 \r\nz\r\n\" id=\"DejaVuSans-69\" transform=\"scale(0.015625)\"/>\r\n       <path d=\"M 3597 1894 \r\nL 3597 1613 \r\nL 953 1613 \r\nQ 991 1019 1311 708 \r\nQ 1631 397 2203 397 \r\nQ 2534 397 2845 478 \r\nQ 3156 559 3463 722 \r\nL 3463 178 \r\nQ 3153 47 2828 -22 \r\nQ 2503 -91 2169 -91 \r\nQ 1331 -91 842 396 \r\nQ 353 884 353 1716 \r\nQ 353 2575 817 3079 \r\nQ 1281 3584 2069 3584 \r\nQ 2775 3584 3186 3129 \r\nQ 3597 2675 3597 1894 \r\nz\r\nM 3022 2063 \r\nQ 3016 2534 2758 2815 \r\nQ 2500 3097 2075 3097 \r\nQ 1594 3097 1305 2825 \r\nQ 1016 2553 972 2059 \r\nL 3022 2063 \r\nz\r\n\" id=\"DejaVuSans-65\" transform=\"scale(0.015625)\"/>\r\n       <path d=\"M 2834 3397 \r\nL 2834 2853 \r\nQ 2591 2978 2328 3040 \r\nQ 2066 3103 1784 3103 \r\nQ 1356 3103 1142 2972 \r\nQ 928 2841 928 2578 \r\nQ 928 2378 1081 2264 \r\nQ 1234 2150 1697 2047 \r\nL 1894 2003 \r\nQ 2506 1872 2764 1633 \r\nQ 3022 1394 3022 966 \r\nQ 3022 478 2636 193 \r\nQ 2250 -91 1575 -91 \r\nQ 1294 -91 989 -36 \r\nQ 684 19 347 128 \r\nL 347 722 \r\nQ 666 556 975 473 \r\nQ 1284 391 1588 391 \r\nQ 1994 391 2212 530 \r\nQ 2431 669 2431 922 \r\nQ 2431 1156 2273 1281 \r\nQ 2116 1406 1581 1522 \r\nL 1381 1569 \r\nQ 847 1681 609 1914 \r\nQ 372 2147 372 2553 \r\nQ 372 3047 722 3315 \r\nQ 1072 3584 1716 3584 \r\nQ 2034 3584 2315 3537 \r\nQ 2597 3491 2834 3397 \r\nz\r\n\" id=\"DejaVuSans-73\" transform=\"scale(0.015625)\"/>\r\n      </defs>\r\n      <use xlink:href=\"#DejaVuSans-43\"/>\r\n      <use x=\"69.824219\" xlink:href=\"#DejaVuSans-6f\"/>\r\n      <use x=\"131.005859\" xlink:href=\"#DejaVuSans-75\"/>\r\n      <use x=\"194.384766\" xlink:href=\"#DejaVuSans-6e\"/>\r\n      <use x=\"257.763672\" xlink:href=\"#DejaVuSans-74\"/>\r\n      <use x=\"296.972656\" xlink:href=\"#DejaVuSans-72\"/>\r\n      <use x=\"338.085938\" xlink:href=\"#DejaVuSans-69\"/>\r\n      <use x=\"365.869141\" xlink:href=\"#DejaVuSans-65\"/>\r\n      <use x=\"427.392578\" xlink:href=\"#DejaVuSans-73\"/>\r\n     </g>\r\n    </g>\r\n   </g>\r\n   <g id=\"matplotlib.axis_2\">\r\n    <g id=\"ytick_1\">\r\n     <g id=\"line2d_55\">\r\n      <path clip-path=\"url(#p6b34a7e4ef)\" d=\"M 40.603125 565.918125 \r\nL 1156.603125 565.918125 \r\n\" style=\"fill:none;stroke:#b0b0b0;stroke-linecap:square;stroke-width:0.8;\"/>\r\n     </g>\r\n     <g id=\"line2d_56\">\r\n      <defs>\r\n       <path d=\"M 0 0 \r\nL -3.5 0 \r\n\" id=\"md33f38af4d\" style=\"stroke:#000000;stroke-width:0.8;\"/>\r\n      </defs>\r\n      <g>\r\n       <use style=\"stroke:#000000;stroke-width:0.8;\" x=\"40.603125\" xlink:href=\"#md33f38af4d\" y=\"565.918125\"/>\r\n      </g>\r\n     </g>\r\n     <g id=\"text_29\">\r\n      <!-- 0 -->\r\n      <g transform=\"translate(27.240625 569.717344)scale(0.1 -0.1)\">\r\n       <defs>\r\n        <path d=\"M 2034 4250 \r\nQ 1547 4250 1301 3770 \r\nQ 1056 3291 1056 2328 \r\nQ 1056 1369 1301 889 \r\nQ 1547 409 2034 409 \r\nQ 2525 409 2770 889 \r\nQ 3016 1369 3016 2328 \r\nQ 3016 3291 2770 3770 \r\nQ 2525 4250 2034 4250 \r\nz\r\nM 2034 4750 \r\nQ 2819 4750 3233 4129 \r\nQ 3647 3509 3647 2328 \r\nQ 3647 1150 3233 529 \r\nQ 2819 -91 2034 -91 \r\nQ 1250 -91 836 529 \r\nQ 422 1150 422 2328 \r\nQ 422 3509 836 4129 \r\nQ 1250 4750 2034 4750 \r\nz\r\n\" id=\"DejaVuSans-30\" transform=\"scale(0.015625)\"/>\r\n       </defs>\r\n       <use xlink:href=\"#DejaVuSans-30\"/>\r\n      </g>\r\n     </g>\r\n    </g>\r\n    <g id=\"ytick_2\">\r\n     <g id=\"line2d_57\">\r\n      <path clip-path=\"url(#p6b34a7e4ef)\" d=\"M 40.603125 503.76755 \r\nL 1156.603125 503.76755 \r\n\" style=\"fill:none;stroke:#b0b0b0;stroke-linecap:square;stroke-width:0.8;\"/>\r\n     </g>\r\n     <g id=\"line2d_58\">\r\n      <g>\r\n       <use style=\"stroke:#000000;stroke-width:0.8;\" x=\"40.603125\" xlink:href=\"#md33f38af4d\" y=\"503.76755\"/>\r\n      </g>\r\n     </g>\r\n     <g id=\"text_30\">\r\n      <!-- 5 -->\r\n      <g transform=\"translate(27.240625 507.566769)scale(0.1 -0.1)\">\r\n       <defs>\r\n        <path d=\"M 691 4666 \r\nL 3169 4666 \r\nL 3169 4134 \r\nL 1269 4134 \r\nL 1269 2991 \r\nQ 1406 3038 1543 3061 \r\nQ 1681 3084 1819 3084 \r\nQ 2600 3084 3056 2656 \r\nQ 3513 2228 3513 1497 \r\nQ 3513 744 3044 326 \r\nQ 2575 -91 1722 -91 \r\nQ 1428 -91 1123 -41 \r\nQ 819 9 494 109 \r\nL 494 744 \r\nQ 775 591 1075 516 \r\nQ 1375 441 1709 441 \r\nQ 2250 441 2565 725 \r\nQ 2881 1009 2881 1497 \r\nQ 2881 1984 2565 2268 \r\nQ 2250 2553 1709 2553 \r\nQ 1456 2553 1204 2497 \r\nQ 953 2441 691 2322 \r\nL 691 4666 \r\nz\r\n\" id=\"DejaVuSans-35\" transform=\"scale(0.015625)\"/>\r\n       </defs>\r\n       <use xlink:href=\"#DejaVuSans-35\"/>\r\n      </g>\r\n     </g>\r\n    </g>\r\n    <g id=\"ytick_3\">\r\n     <g id=\"line2d_59\">\r\n      <path clip-path=\"url(#p6b34a7e4ef)\" d=\"M 40.603125 441.616976 \r\nL 1156.603125 441.616976 \r\n\" style=\"fill:none;stroke:#b0b0b0;stroke-linecap:square;stroke-width:0.8;\"/>\r\n     </g>\r\n     <g id=\"line2d_60\">\r\n      <g>\r\n       <use style=\"stroke:#000000;stroke-width:0.8;\" x=\"40.603125\" xlink:href=\"#md33f38af4d\" y=\"441.616976\"/>\r\n      </g>\r\n     </g>\r\n     <g id=\"text_31\">\r\n      <!-- 10 -->\r\n      <g transform=\"translate(20.878125 445.416195)scale(0.1 -0.1)\">\r\n       <defs>\r\n        <path d=\"M 794 531 \r\nL 1825 531 \r\nL 1825 4091 \r\nL 703 3866 \r\nL 703 4441 \r\nL 1819 4666 \r\nL 2450 4666 \r\nL 2450 531 \r\nL 3481 531 \r\nL 3481 0 \r\nL 794 0 \r\nL 794 531 \r\nz\r\n\" id=\"DejaVuSans-31\" transform=\"scale(0.015625)\"/>\r\n       </defs>\r\n       <use xlink:href=\"#DejaVuSans-31\"/>\r\n       <use x=\"63.623047\" xlink:href=\"#DejaVuSans-30\"/>\r\n      </g>\r\n     </g>\r\n    </g>\r\n    <g id=\"ytick_4\">\r\n     <g id=\"line2d_61\">\r\n      <path clip-path=\"url(#p6b34a7e4ef)\" d=\"M 40.603125 379.466401 \r\nL 1156.603125 379.466401 \r\n\" style=\"fill:none;stroke:#b0b0b0;stroke-linecap:square;stroke-width:0.8;\"/>\r\n     </g>\r\n     <g id=\"line2d_62\">\r\n      <g>\r\n       <use style=\"stroke:#000000;stroke-width:0.8;\" x=\"40.603125\" xlink:href=\"#md33f38af4d\" y=\"379.466401\"/>\r\n      </g>\r\n     </g>\r\n     <g id=\"text_32\">\r\n      <!-- 15 -->\r\n      <g transform=\"translate(20.878125 383.26562)scale(0.1 -0.1)\">\r\n       <use xlink:href=\"#DejaVuSans-31\"/>\r\n       <use x=\"63.623047\" xlink:href=\"#DejaVuSans-35\"/>\r\n      </g>\r\n     </g>\r\n    </g>\r\n    <g id=\"ytick_5\">\r\n     <g id=\"line2d_63\">\r\n      <path clip-path=\"url(#p6b34a7e4ef)\" d=\"M 40.603125 317.315827 \r\nL 1156.603125 317.315827 \r\n\" style=\"fill:none;stroke:#b0b0b0;stroke-linecap:square;stroke-width:0.8;\"/>\r\n     </g>\r\n     <g id=\"line2d_64\">\r\n      <g>\r\n       <use style=\"stroke:#000000;stroke-width:0.8;\" x=\"40.603125\" xlink:href=\"#md33f38af4d\" y=\"317.315827\"/>\r\n      </g>\r\n     </g>\r\n     <g id=\"text_33\">\r\n      <!-- 20 -->\r\n      <g transform=\"translate(20.878125 321.115046)scale(0.1 -0.1)\">\r\n       <defs>\r\n        <path d=\"M 1228 531 \r\nL 3431 531 \r\nL 3431 0 \r\nL 469 0 \r\nL 469 531 \r\nQ 828 903 1448 1529 \r\nQ 2069 2156 2228 2338 \r\nQ 2531 2678 2651 2914 \r\nQ 2772 3150 2772 3378 \r\nQ 2772 3750 2511 3984 \r\nQ 2250 4219 1831 4219 \r\nQ 1534 4219 1204 4116 \r\nQ 875 4013 500 3803 \r\nL 500 4441 \r\nQ 881 4594 1212 4672 \r\nQ 1544 4750 1819 4750 \r\nQ 2544 4750 2975 4387 \r\nQ 3406 4025 3406 3419 \r\nQ 3406 3131 3298 2873 \r\nQ 3191 2616 2906 2266 \r\nQ 2828 2175 2409 1742 \r\nQ 1991 1309 1228 531 \r\nz\r\n\" id=\"DejaVuSans-32\" transform=\"scale(0.015625)\"/>\r\n       </defs>\r\n       <use xlink:href=\"#DejaVuSans-32\"/>\r\n       <use x=\"63.623047\" xlink:href=\"#DejaVuSans-30\"/>\r\n      </g>\r\n     </g>\r\n    </g>\r\n    <g id=\"ytick_6\">\r\n     <g id=\"line2d_65\">\r\n      <path clip-path=\"url(#p6b34a7e4ef)\" d=\"M 40.603125 255.165252 \r\nL 1156.603125 255.165252 \r\n\" style=\"fill:none;stroke:#b0b0b0;stroke-linecap:square;stroke-width:0.8;\"/>\r\n     </g>\r\n     <g id=\"line2d_66\">\r\n      <g>\r\n       <use style=\"stroke:#000000;stroke-width:0.8;\" x=\"40.603125\" xlink:href=\"#md33f38af4d\" y=\"255.165252\"/>\r\n      </g>\r\n     </g>\r\n     <g id=\"text_34\">\r\n      <!-- 25 -->\r\n      <g transform=\"translate(20.878125 258.964471)scale(0.1 -0.1)\">\r\n       <use xlink:href=\"#DejaVuSans-32\"/>\r\n       <use x=\"63.623047\" xlink:href=\"#DejaVuSans-35\"/>\r\n      </g>\r\n     </g>\r\n    </g>\r\n    <g id=\"ytick_7\">\r\n     <g id=\"line2d_67\">\r\n      <path clip-path=\"url(#p6b34a7e4ef)\" d=\"M 40.603125 193.014678 \r\nL 1156.603125 193.014678 \r\n\" style=\"fill:none;stroke:#b0b0b0;stroke-linecap:square;stroke-width:0.8;\"/>\r\n     </g>\r\n     <g id=\"line2d_68\">\r\n      <g>\r\n       <use style=\"stroke:#000000;stroke-width:0.8;\" x=\"40.603125\" xlink:href=\"#md33f38af4d\" y=\"193.014678\"/>\r\n      </g>\r\n     </g>\r\n     <g id=\"text_35\">\r\n      <!-- 30 -->\r\n      <g transform=\"translate(20.878125 196.813897)scale(0.1 -0.1)\">\r\n       <defs>\r\n        <path d=\"M 2597 2516 \r\nQ 3050 2419 3304 2112 \r\nQ 3559 1806 3559 1356 \r\nQ 3559 666 3084 287 \r\nQ 2609 -91 1734 -91 \r\nQ 1441 -91 1130 -33 \r\nQ 819 25 488 141 \r\nL 488 750 \r\nQ 750 597 1062 519 \r\nQ 1375 441 1716 441 \r\nQ 2309 441 2620 675 \r\nQ 2931 909 2931 1356 \r\nQ 2931 1769 2642 2001 \r\nQ 2353 2234 1838 2234 \r\nL 1294 2234 \r\nL 1294 2753 \r\nL 1863 2753 \r\nQ 2328 2753 2575 2939 \r\nQ 2822 3125 2822 3475 \r\nQ 2822 3834 2567 4026 \r\nQ 2313 4219 1838 4219 \r\nQ 1578 4219 1281 4162 \r\nQ 984 4106 628 3988 \r\nL 628 4550 \r\nQ 988 4650 1302 4700 \r\nQ 1616 4750 1894 4750 \r\nQ 2613 4750 3031 4423 \r\nQ 3450 4097 3450 3541 \r\nQ 3450 3153 3228 2886 \r\nQ 3006 2619 2597 2516 \r\nz\r\n\" id=\"DejaVuSans-33\" transform=\"scale(0.015625)\"/>\r\n       </defs>\r\n       <use xlink:href=\"#DejaVuSans-33\"/>\r\n       <use x=\"63.623047\" xlink:href=\"#DejaVuSans-30\"/>\r\n      </g>\r\n     </g>\r\n    </g>\r\n    <g id=\"ytick_8\">\r\n     <g id=\"line2d_69\">\r\n      <path clip-path=\"url(#p6b34a7e4ef)\" d=\"M 40.603125 130.864103 \r\nL 1156.603125 130.864103 \r\n\" style=\"fill:none;stroke:#b0b0b0;stroke-linecap:square;stroke-width:0.8;\"/>\r\n     </g>\r\n     <g id=\"line2d_70\">\r\n      <g>\r\n       <use style=\"stroke:#000000;stroke-width:0.8;\" x=\"40.603125\" xlink:href=\"#md33f38af4d\" y=\"130.864103\"/>\r\n      </g>\r\n     </g>\r\n     <g id=\"text_36\">\r\n      <!-- 35 -->\r\n      <g transform=\"translate(20.878125 134.663322)scale(0.1 -0.1)\">\r\n       <use xlink:href=\"#DejaVuSans-33\"/>\r\n       <use x=\"63.623047\" xlink:href=\"#DejaVuSans-35\"/>\r\n      </g>\r\n     </g>\r\n    </g>\r\n    <g id=\"ytick_9\">\r\n     <g id=\"line2d_71\">\r\n      <path clip-path=\"url(#p6b34a7e4ef)\" d=\"M 40.603125 68.713529 \r\nL 1156.603125 68.713529 \r\n\" style=\"fill:none;stroke:#b0b0b0;stroke-linecap:square;stroke-width:0.8;\"/>\r\n     </g>\r\n     <g id=\"line2d_72\">\r\n      <g>\r\n       <use style=\"stroke:#000000;stroke-width:0.8;\" x=\"40.603125\" xlink:href=\"#md33f38af4d\" y=\"68.713529\"/>\r\n      </g>\r\n     </g>\r\n     <g id=\"text_37\">\r\n      <!-- 40 -->\r\n      <g transform=\"translate(20.878125 72.512748)scale(0.1 -0.1)\">\r\n       <defs>\r\n        <path d=\"M 2419 4116 \r\nL 825 1625 \r\nL 2419 1625 \r\nL 2419 4116 \r\nz\r\nM 2253 4666 \r\nL 3047 4666 \r\nL 3047 1625 \r\nL 3713 1625 \r\nL 3713 1100 \r\nL 3047 1100 \r\nL 3047 0 \r\nL 2419 0 \r\nL 2419 1100 \r\nL 313 1100 \r\nL 313 1709 \r\nL 2253 4666 \r\nz\r\n\" id=\"DejaVuSans-34\" transform=\"scale(0.015625)\"/>\r\n       </defs>\r\n       <use xlink:href=\"#DejaVuSans-34\"/>\r\n       <use x=\"63.623047\" xlink:href=\"#DejaVuSans-30\"/>\r\n      </g>\r\n     </g>\r\n    </g>\r\n    <g id=\"text_38\">\r\n     <!-- Mismatch [TWh] -->\r\n     <g transform=\"translate(14.798438 334.895469)rotate(-90)scale(0.1 -0.1)\">\r\n      <defs>\r\n       <path d=\"M 3328 2828 \r\nQ 3544 3216 3844 3400 \r\nQ 4144 3584 4550 3584 \r\nQ 5097 3584 5394 3201 \r\nQ 5691 2819 5691 2113 \r\nL 5691 0 \r\nL 5113 0 \r\nL 5113 2094 \r\nQ 5113 2597 4934 2840 \r\nQ 4756 3084 4391 3084 \r\nQ 3944 3084 3684 2787 \r\nQ 3425 2491 3425 1978 \r\nL 3425 0 \r\nL 2847 0 \r\nL 2847 2094 \r\nQ 2847 2600 2669 2842 \r\nQ 2491 3084 2119 3084 \r\nQ 1678 3084 1418 2786 \r\nQ 1159 2488 1159 1978 \r\nL 1159 0 \r\nL 581 0 \r\nL 581 3500 \r\nL 1159 3500 \r\nL 1159 2956 \r\nQ 1356 3278 1631 3431 \r\nQ 1906 3584 2284 3584 \r\nQ 2666 3584 2933 3390 \r\nQ 3200 3197 3328 2828 \r\nz\r\n\" id=\"DejaVuSans-6d\" transform=\"scale(0.015625)\"/>\r\n       <path d=\"M 2194 1759 \r\nQ 1497 1759 1228 1600 \r\nQ 959 1441 959 1056 \r\nQ 959 750 1161 570 \r\nQ 1363 391 1709 391 \r\nQ 2188 391 2477 730 \r\nQ 2766 1069 2766 1631 \r\nL 2766 1759 \r\nL 2194 1759 \r\nz\r\nM 3341 1997 \r\nL 3341 0 \r\nL 2766 0 \r\nL 2766 531 \r\nQ 2569 213 2275 61 \r\nQ 1981 -91 1556 -91 \r\nQ 1019 -91 701 211 \r\nQ 384 513 384 1019 \r\nQ 384 1609 779 1909 \r\nQ 1175 2209 1959 2209 \r\nL 2766 2209 \r\nL 2766 2266 \r\nQ 2766 2663 2505 2880 \r\nQ 2244 3097 1772 3097 \r\nQ 1472 3097 1187 3025 \r\nQ 903 2953 641 2809 \r\nL 641 3341 \r\nQ 956 3463 1253 3523 \r\nQ 1550 3584 1831 3584 \r\nQ 2591 3584 2966 3190 \r\nQ 3341 2797 3341 1997 \r\nz\r\n\" id=\"DejaVuSans-61\" transform=\"scale(0.015625)\"/>\r\n       <path d=\"M 3122 3366 \r\nL 3122 2828 \r\nQ 2878 2963 2633 3030 \r\nQ 2388 3097 2138 3097 \r\nQ 1578 3097 1268 2742 \r\nQ 959 2388 959 1747 \r\nQ 959 1106 1268 751 \r\nQ 1578 397 2138 397 \r\nQ 2388 397 2633 464 \r\nQ 2878 531 3122 666 \r\nL 3122 134 \r\nQ 2881 22 2623 -34 \r\nQ 2366 -91 2075 -91 \r\nQ 1284 -91 818 406 \r\nQ 353 903 353 1747 \r\nQ 353 2603 823 3093 \r\nQ 1294 3584 2113 3584 \r\nQ 2378 3584 2631 3529 \r\nQ 2884 3475 3122 3366 \r\nz\r\n\" id=\"DejaVuSans-63\" transform=\"scale(0.015625)\"/>\r\n       <path d=\"M 3513 2113 \r\nL 3513 0 \r\nL 2938 0 \r\nL 2938 2094 \r\nQ 2938 2591 2744 2837 \r\nQ 2550 3084 2163 3084 \r\nQ 1697 3084 1428 2787 \r\nQ 1159 2491 1159 1978 \r\nL 1159 0 \r\nL 581 0 \r\nL 581 4863 \r\nL 1159 4863 \r\nL 1159 2956 \r\nQ 1366 3272 1645 3428 \r\nQ 1925 3584 2291 3584 \r\nQ 2894 3584 3203 3211 \r\nQ 3513 2838 3513 2113 \r\nz\r\n\" id=\"DejaVuSans-68\" transform=\"scale(0.015625)\"/>\r\n       <path id=\"DejaVuSans-20\" transform=\"scale(0.015625)\"/>\r\n       <path d=\"M 550 4863 \r\nL 1875 4863 \r\nL 1875 4416 \r\nL 1125 4416 \r\nL 1125 -397 \r\nL 1875 -397 \r\nL 1875 -844 \r\nL 550 -844 \r\nL 550 4863 \r\nz\r\n\" id=\"DejaVuSans-5b\" transform=\"scale(0.015625)\"/>\r\n       <path d=\"M 213 4666 \r\nL 850 4666 \r\nL 1831 722 \r\nL 2809 4666 \r\nL 3519 4666 \r\nL 4500 722 \r\nL 5478 4666 \r\nL 6119 4666 \r\nL 4947 0 \r\nL 4153 0 \r\nL 3169 4050 \r\nL 2175 0 \r\nL 1381 0 \r\nL 213 4666 \r\nz\r\n\" id=\"DejaVuSans-57\" transform=\"scale(0.015625)\"/>\r\n       <path d=\"M 1947 4863 \r\nL 1947 -844 \r\nL 622 -844 \r\nL 622 -397 \r\nL 1369 -397 \r\nL 1369 4416 \r\nL 622 4416 \r\nL 622 4863 \r\nL 1947 4863 \r\nz\r\n\" id=\"DejaVuSans-5d\" transform=\"scale(0.015625)\"/>\r\n      </defs>\r\n      <use xlink:href=\"#DejaVuSans-4d\"/>\r\n      <use x=\"86.279297\" xlink:href=\"#DejaVuSans-69\"/>\r\n      <use x=\"114.0625\" xlink:href=\"#DejaVuSans-73\"/>\r\n      <use x=\"166.162109\" xlink:href=\"#DejaVuSans-6d\"/>\r\n      <use x=\"263.574219\" xlink:href=\"#DejaVuSans-61\"/>\r\n      <use x=\"324.853516\" xlink:href=\"#DejaVuSans-74\"/>\r\n      <use x=\"364.0625\" xlink:href=\"#DejaVuSans-63\"/>\r\n      <use x=\"419.042969\" xlink:href=\"#DejaVuSans-68\"/>\r\n      <use x=\"482.421875\" xlink:href=\"#DejaVuSans-20\"/>\r\n      <use x=\"514.208984\" xlink:href=\"#DejaVuSans-5b\"/>\r\n      <use x=\"553.222656\" xlink:href=\"#DejaVuSans-54\"/>\r\n      <use x=\"614.306641\" xlink:href=\"#DejaVuSans-57\"/>\r\n      <use x=\"713.183594\" xlink:href=\"#DejaVuSans-68\"/>\r\n      <use x=\"776.5625\" xlink:href=\"#DejaVuSans-5d\"/>\r\n     </g>\r\n    </g>\r\n   </g>\r\n   <g id=\"patch_30\">\r\n    <path d=\"M 40.603125 565.918125 \r\nL 40.603125 22.318125 \r\n\" style=\"fill:none;stroke:#000000;stroke-linecap:square;stroke-linejoin:miter;stroke-width:0.8;\"/>\r\n   </g>\r\n   <g id=\"patch_31\">\r\n    <path d=\"M 1156.603125 565.918125 \r\nL 1156.603125 22.318125 \r\n\" style=\"fill:none;stroke:#000000;stroke-linecap:square;stroke-linejoin:miter;stroke-width:0.8;\"/>\r\n   </g>\r\n   <g id=\"patch_32\">\r\n    <path d=\"M 40.603125 565.918125 \r\nL 1156.603125 565.918125 \r\n\" style=\"fill:none;stroke:#000000;stroke-linecap:square;stroke-linejoin:miter;stroke-width:0.8;\"/>\r\n   </g>\r\n   <g id=\"patch_33\">\r\n    <path d=\"M 40.603125 22.318125 \r\nL 1156.603125 22.318125 \r\n\" style=\"fill:none;stroke:#000000;stroke-linecap:square;stroke-linejoin:miter;stroke-width:0.8;\"/>\r\n   </g>\r\n   <g id=\"text_39\">\r\n    <!-- Mismatch analysis based on (generation + imports - load - exports) in raw ENTSO-E data -->\r\n    <g transform=\"translate(331.457812 16.318125)scale(0.12 -0.12)\">\r\n     <defs>\r\n      <path d=\"M 603 4863 \r\nL 1178 4863 \r\nL 1178 0 \r\nL 603 0 \r\nL 603 4863 \r\nz\r\n\" id=\"DejaVuSans-6c\" transform=\"scale(0.015625)\"/>\r\n      <path d=\"M 2059 -325 \r\nQ 1816 -950 1584 -1140 \r\nQ 1353 -1331 966 -1331 \r\nL 506 -1331 \r\nL 506 -850 \r\nL 844 -850 \r\nQ 1081 -850 1212 -737 \r\nQ 1344 -625 1503 -206 \r\nL 1606 56 \r\nL 191 3500 \r\nL 800 3500 \r\nL 1894 763 \r\nL 2988 3500 \r\nL 3597 3500 \r\nL 2059 -325 \r\nz\r\n\" id=\"DejaVuSans-79\" transform=\"scale(0.015625)\"/>\r\n      <path d=\"M 3116 1747 \r\nQ 3116 2381 2855 2742 \r\nQ 2594 3103 2138 3103 \r\nQ 1681 3103 1420 2742 \r\nQ 1159 2381 1159 1747 \r\nQ 1159 1113 1420 752 \r\nQ 1681 391 2138 391 \r\nQ 2594 391 2855 752 \r\nQ 3116 1113 3116 1747 \r\nz\r\nM 1159 2969 \r\nQ 1341 3281 1617 3432 \r\nQ 1894 3584 2278 3584 \r\nQ 2916 3584 3314 3078 \r\nQ 3713 2572 3713 1747 \r\nQ 3713 922 3314 415 \r\nQ 2916 -91 2278 -91 \r\nQ 1894 -91 1617 61 \r\nQ 1341 213 1159 525 \r\nL 1159 0 \r\nL 581 0 \r\nL 581 4863 \r\nL 1159 4863 \r\nL 1159 2969 \r\nz\r\n\" id=\"DejaVuSans-62\" transform=\"scale(0.015625)\"/>\r\n      <path d=\"M 2906 2969 \r\nL 2906 4863 \r\nL 3481 4863 \r\nL 3481 0 \r\nL 2906 0 \r\nL 2906 525 \r\nQ 2725 213 2448 61 \r\nQ 2172 -91 1784 -91 \r\nQ 1150 -91 751 415 \r\nQ 353 922 353 1747 \r\nQ 353 2572 751 3078 \r\nQ 1150 3584 1784 3584 \r\nQ 2172 3584 2448 3432 \r\nQ 2725 3281 2906 2969 \r\nz\r\nM 947 1747 \r\nQ 947 1113 1208 752 \r\nQ 1469 391 1925 391 \r\nQ 2381 391 2643 752 \r\nQ 2906 1113 2906 1747 \r\nQ 2906 2381 2643 2742 \r\nQ 2381 3103 1925 3103 \r\nQ 1469 3103 1208 2742 \r\nQ 947 2381 947 1747 \r\nz\r\n\" id=\"DejaVuSans-64\" transform=\"scale(0.015625)\"/>\r\n      <path d=\"M 1984 4856 \r\nQ 1566 4138 1362 3434 \r\nQ 1159 2731 1159 2009 \r\nQ 1159 1288 1364 580 \r\nQ 1569 -128 1984 -844 \r\nL 1484 -844 \r\nQ 1016 -109 783 600 \r\nQ 550 1309 550 2009 \r\nQ 550 2706 781 3412 \r\nQ 1013 4119 1484 4856 \r\nL 1984 4856 \r\nz\r\n\" id=\"DejaVuSans-28\" transform=\"scale(0.015625)\"/>\r\n      <path d=\"M 2906 1791 \r\nQ 2906 2416 2648 2759 \r\nQ 2391 3103 1925 3103 \r\nQ 1463 3103 1205 2759 \r\nQ 947 2416 947 1791 \r\nQ 947 1169 1205 825 \r\nQ 1463 481 1925 481 \r\nQ 2391 481 2648 825 \r\nQ 2906 1169 2906 1791 \r\nz\r\nM 3481 434 \r\nQ 3481 -459 3084 -895 \r\nQ 2688 -1331 1869 -1331 \r\nQ 1566 -1331 1297 -1286 \r\nQ 1028 -1241 775 -1147 \r\nL 775 -588 \r\nQ 1028 -725 1275 -790 \r\nQ 1522 -856 1778 -856 \r\nQ 2344 -856 2625 -561 \r\nQ 2906 -266 2906 331 \r\nL 2906 616 \r\nQ 2728 306 2450 153 \r\nQ 2172 0 1784 0 \r\nQ 1141 0 747 490 \r\nQ 353 981 353 1791 \r\nQ 353 2603 747 3093 \r\nQ 1141 3584 1784 3584 \r\nQ 2172 3584 2450 3431 \r\nQ 2728 3278 2906 2969 \r\nL 2906 3500 \r\nL 3481 3500 \r\nL 3481 434 \r\nz\r\n\" id=\"DejaVuSans-67\" transform=\"scale(0.015625)\"/>\r\n      <path d=\"M 2944 4013 \r\nL 2944 2272 \r\nL 4684 2272 \r\nL 4684 1741 \r\nL 2944 1741 \r\nL 2944 0 \r\nL 2419 0 \r\nL 2419 1741 \r\nL 678 1741 \r\nL 678 2272 \r\nL 2419 2272 \r\nL 2419 4013 \r\nL 2944 4013 \r\nz\r\n\" id=\"DejaVuSans-2b\" transform=\"scale(0.015625)\"/>\r\n      <path d=\"M 1159 525 \r\nL 1159 -1331 \r\nL 581 -1331 \r\nL 581 3500 \r\nL 1159 3500 \r\nL 1159 2969 \r\nQ 1341 3281 1617 3432 \r\nQ 1894 3584 2278 3584 \r\nQ 2916 3584 3314 3078 \r\nQ 3713 2572 3713 1747 \r\nQ 3713 922 3314 415 \r\nQ 2916 -91 2278 -91 \r\nQ 1894 -91 1617 61 \r\nQ 1341 213 1159 525 \r\nz\r\nM 3116 1747 \r\nQ 3116 2381 2855 2742 \r\nQ 2594 3103 2138 3103 \r\nQ 1681 3103 1420 2742 \r\nQ 1159 2381 1159 1747 \r\nQ 1159 1113 1420 752 \r\nQ 1681 391 2138 391 \r\nQ 2594 391 2855 752 \r\nQ 3116 1113 3116 1747 \r\nz\r\n\" id=\"DejaVuSans-70\" transform=\"scale(0.015625)\"/>\r\n      <path d=\"M 313 2009 \r\nL 1997 2009 \r\nL 1997 1497 \r\nL 313 1497 \r\nL 313 2009 \r\nz\r\n\" id=\"DejaVuSans-2d\" transform=\"scale(0.015625)\"/>\r\n      <path d=\"M 3513 3500 \r\nL 2247 1797 \r\nL 3578 0 \r\nL 2900 0 \r\nL 1881 1375 \r\nL 863 0 \r\nL 184 0 \r\nL 1544 1831 \r\nL 300 3500 \r\nL 978 3500 \r\nL 1906 2253 \r\nL 2834 3500 \r\nL 3513 3500 \r\nz\r\n\" id=\"DejaVuSans-78\" transform=\"scale(0.015625)\"/>\r\n      <path d=\"M 513 4856 \r\nL 1013 4856 \r\nQ 1481 4119 1714 3412 \r\nQ 1947 2706 1947 2009 \r\nQ 1947 1309 1714 600 \r\nQ 1481 -109 1013 -844 \r\nL 513 -844 \r\nQ 928 -128 1133 580 \r\nQ 1338 1288 1338 2009 \r\nQ 1338 2731 1133 3434 \r\nQ 928 4138 513 4856 \r\nz\r\n\" id=\"DejaVuSans-29\" transform=\"scale(0.015625)\"/>\r\n      <path d=\"M 269 3500 \r\nL 844 3500 \r\nL 1563 769 \r\nL 2278 3500 \r\nL 2956 3500 \r\nL 3675 769 \r\nL 4391 3500 \r\nL 4966 3500 \r\nL 4050 0 \r\nL 3372 0 \r\nL 2619 2869 \r\nL 1863 0 \r\nL 1184 0 \r\nL 269 3500 \r\nz\r\n\" id=\"DejaVuSans-77\" transform=\"scale(0.015625)\"/>\r\n     </defs>\r\n     <use xlink:href=\"#DejaVuSans-4d\"/>\r\n     <use x=\"86.279297\" xlink:href=\"#DejaVuSans-69\"/>\r\n     <use x=\"114.0625\" xlink:href=\"#DejaVuSans-73\"/>\r\n     <use x=\"166.162109\" xlink:href=\"#DejaVuSans-6d\"/>\r\n     <use x=\"263.574219\" xlink:href=\"#DejaVuSans-61\"/>\r\n     <use x=\"324.853516\" xlink:href=\"#DejaVuSans-74\"/>\r\n     <use x=\"364.0625\" xlink:href=\"#DejaVuSans-63\"/>\r\n     <use x=\"419.042969\" xlink:href=\"#DejaVuSans-68\"/>\r\n     <use x=\"482.421875\" xlink:href=\"#DejaVuSans-20\"/>\r\n     <use x=\"514.208984\" xlink:href=\"#DejaVuSans-61\"/>\r\n     <use x=\"575.488281\" xlink:href=\"#DejaVuSans-6e\"/>\r\n     <use x=\"638.867188\" xlink:href=\"#DejaVuSans-61\"/>\r\n     <use x=\"700.146484\" xlink:href=\"#DejaVuSans-6c\"/>\r\n     <use x=\"727.929688\" xlink:href=\"#DejaVuSans-79\"/>\r\n     <use x=\"787.109375\" xlink:href=\"#DejaVuSans-73\"/>\r\n     <use x=\"839.208984\" xlink:href=\"#DejaVuSans-69\"/>\r\n     <use x=\"866.992188\" xlink:href=\"#DejaVuSans-73\"/>\r\n     <use x=\"919.091797\" xlink:href=\"#DejaVuSans-20\"/>\r\n     <use x=\"950.878906\" xlink:href=\"#DejaVuSans-62\"/>\r\n     <use x=\"1014.355469\" xlink:href=\"#DejaVuSans-61\"/>\r\n     <use x=\"1075.634766\" xlink:href=\"#DejaVuSans-73\"/>\r\n     <use x=\"1127.734375\" xlink:href=\"#DejaVuSans-65\"/>\r\n     <use x=\"1189.257812\" xlink:href=\"#DejaVuSans-64\"/>\r\n     <use x=\"1252.734375\" xlink:href=\"#DejaVuSans-20\"/>\r\n     <use x=\"1284.521484\" xlink:href=\"#DejaVuSans-6f\"/>\r\n     <use x=\"1345.703125\" xlink:href=\"#DejaVuSans-6e\"/>\r\n     <use x=\"1409.082031\" xlink:href=\"#DejaVuSans-20\"/>\r\n     <use x=\"1440.869141\" xlink:href=\"#DejaVuSans-28\"/>\r\n     <use x=\"1479.882812\" xlink:href=\"#DejaVuSans-67\"/>\r\n     <use x=\"1543.359375\" xlink:href=\"#DejaVuSans-65\"/>\r\n     <use x=\"1604.882812\" xlink:href=\"#DejaVuSans-6e\"/>\r\n     <use x=\"1668.261719\" xlink:href=\"#DejaVuSans-65\"/>\r\n     <use x=\"1729.785156\" xlink:href=\"#DejaVuSans-72\"/>\r\n     <use x=\"1770.898438\" xlink:href=\"#DejaVuSans-61\"/>\r\n     <use x=\"1832.177734\" xlink:href=\"#DejaVuSans-74\"/>\r\n     <use x=\"1871.386719\" xlink:href=\"#DejaVuSans-69\"/>\r\n     <use x=\"1899.169922\" xlink:href=\"#DejaVuSans-6f\"/>\r\n     <use x=\"1960.351562\" xlink:href=\"#DejaVuSans-6e\"/>\r\n     <use x=\"2023.730469\" xlink:href=\"#DejaVuSans-20\"/>\r\n     <use x=\"2055.517578\" xlink:href=\"#DejaVuSans-2b\"/>\r\n     <use x=\"2139.306641\" xlink:href=\"#DejaVuSans-20\"/>\r\n     <use x=\"2171.09375\" xlink:href=\"#DejaVuSans-69\"/>\r\n     <use x=\"2198.876953\" xlink:href=\"#DejaVuSans-6d\"/>\r\n     <use x=\"2296.289062\" xlink:href=\"#DejaVuSans-70\"/>\r\n     <use x=\"2359.765625\" xlink:href=\"#DejaVuSans-6f\"/>\r\n     <use x=\"2420.947266\" xlink:href=\"#DejaVuSans-72\"/>\r\n     <use x=\"2462.060547\" xlink:href=\"#DejaVuSans-74\"/>\r\n     <use x=\"2501.269531\" xlink:href=\"#DejaVuSans-73\"/>\r\n     <use x=\"2553.369141\" xlink:href=\"#DejaVuSans-20\"/>\r\n     <use x=\"2585.15625\" xlink:href=\"#DejaVuSans-2d\"/>\r\n     <use x=\"2621.240234\" xlink:href=\"#DejaVuSans-20\"/>\r\n     <use x=\"2653.027344\" xlink:href=\"#DejaVuSans-6c\"/>\r\n     <use x=\"2680.810547\" xlink:href=\"#DejaVuSans-6f\"/>\r\n     <use x=\"2741.992188\" xlink:href=\"#DejaVuSans-61\"/>\r\n     <use x=\"2803.271484\" xlink:href=\"#DejaVuSans-64\"/>\r\n     <use x=\"2866.748047\" xlink:href=\"#DejaVuSans-20\"/>\r\n     <use x=\"2898.535156\" xlink:href=\"#DejaVuSans-2d\"/>\r\n     <use x=\"2934.619141\" xlink:href=\"#DejaVuSans-20\"/>\r\n     <use x=\"2966.40625\" xlink:href=\"#DejaVuSans-65\"/>\r\n     <use x=\"3026.179688\" xlink:href=\"#DejaVuSans-78\"/>\r\n     <use x=\"3085.359375\" xlink:href=\"#DejaVuSans-70\"/>\r\n     <use x=\"3148.835938\" xlink:href=\"#DejaVuSans-6f\"/>\r\n     <use x=\"3210.017578\" xlink:href=\"#DejaVuSans-72\"/>\r\n     <use x=\"3251.130859\" xlink:href=\"#DejaVuSans-74\"/>\r\n     <use x=\"3290.339844\" xlink:href=\"#DejaVuSans-73\"/>\r\n     <use x=\"3342.439453\" xlink:href=\"#DejaVuSans-29\"/>\r\n     <use x=\"3381.453125\" xlink:href=\"#DejaVuSans-20\"/>\r\n     <use x=\"3413.240234\" xlink:href=\"#DejaVuSans-69\"/>\r\n     <use x=\"3441.023438\" xlink:href=\"#DejaVuSans-6e\"/>\r\n     <use x=\"3504.402344\" xlink:href=\"#DejaVuSans-20\"/>\r\n     <use x=\"3536.189453\" xlink:href=\"#DejaVuSans-72\"/>\r\n     <use x=\"3577.302734\" xlink:href=\"#DejaVuSans-61\"/>\r\n     <use x=\"3638.582031\" xlink:href=\"#DejaVuSans-77\"/>\r\n     <use x=\"3720.369141\" xlink:href=\"#DejaVuSans-20\"/>\r\n     <use x=\"3752.15625\" xlink:href=\"#DejaVuSans-45\"/>\r\n     <use x=\"3815.339844\" xlink:href=\"#DejaVuSans-4e\"/>\r\n     <use x=\"3890.144531\" xlink:href=\"#DejaVuSans-54\"/>\r\n     <use x=\"3951.228516\" xlink:href=\"#DejaVuSans-53\"/>\r\n     <use x=\"4014.705078\" xlink:href=\"#DejaVuSans-4f\"/>\r\n     <use x=\"4096.166016\" xlink:href=\"#DejaVuSans-2d\"/>\r\n     <use x=\"4132.25\" xlink:href=\"#DejaVuSans-45\"/>\r\n     <use x=\"4195.433594\" xlink:href=\"#DejaVuSans-20\"/>\r\n     <use x=\"4227.220703\" xlink:href=\"#DejaVuSans-64\"/>\r\n     <use x=\"4290.697266\" xlink:href=\"#DejaVuSans-61\"/>\r\n     <use x=\"4351.976562\" xlink:href=\"#DejaVuSans-74\"/>\r\n     <use x=\"4391.185547\" xlink:href=\"#DejaVuSans-61\"/>\r\n    </g>\r\n   </g>\r\n  </g>\r\n </g>\r\n <defs>\r\n  <clipPath id=\"p6b34a7e4ef\">\r\n   <rect height=\"543.6\" width=\"1116\" x=\"40.603125\" y=\"22.318125\"/>\r\n  </clipPath>\r\n </defs>\r\n</svg>\r\n",
      "image/png": "[encoded data removed]"
     },
     "metadata": {
      "needs_background": "light"
     }
    }
   ],
   "metadata": {}
  },
  {
   "cell_type": "markdown",
   "source": [
    "# 2. ENTSO-E data representation"
   ],
   "metadata": {}
  },
  {
   "cell_type": "markdown",
   "source": [
    "## 2.1 Get all the hourly load data of each country to a single dataframe"
   ],
   "metadata": {}
  },
  {
   "cell_type": "code",
   "execution_count": 3,
   "source": [
    "load_dic=dp.load(countries)\r\n",
    "# display(load_data)"
   ],
   "outputs": [
    {
     "output_type": "display_data",
     "data": {
      "text/plain": [
       "'Austria - load: 0 missing data filled'"
      ]
     },
     "metadata": {}
    },
    {
     "output_type": "display_data",
     "data": {
      "text/plain": [
       "'Belgium - load: 0 missing data filled'"
      ]
     },
     "metadata": {}
    },
    {
     "output_type": "display_data",
     "data": {
      "text/plain": [
       "'Bulgaria - load: 25 missing data filled'"
      ]
     },
     "metadata": {}
    },
    {
     "output_type": "display_data",
     "data": {
      "text/plain": [
       "'Switzerland - load: 0 missing data filled'"
      ]
     },
     "metadata": {}
    },
    {
     "output_type": "display_data",
     "data": {
      "text/plain": [
       "'Czech Republic - load: 7 missing data filled'"
      ]
     },
     "metadata": {}
    },
    {
     "output_type": "display_data",
     "data": {
      "text/plain": [
       "'Germany - load: 0 missing data filled'"
      ]
     },
     "metadata": {}
    },
    {
     "output_type": "display_data",
     "data": {
      "text/plain": [
       "'Denmark - load: 0 missing data filled'"
      ]
     },
     "metadata": {}
    },
    {
     "output_type": "display_data",
     "data": {
      "text/plain": [
       "'Estonia - load: 144 missing data filled'"
      ]
     },
     "metadata": {}
    },
    {
     "output_type": "display_data",
     "data": {
      "text/plain": [
       "'Spain - load: 2 missing data filled'"
      ]
     },
     "metadata": {}
    },
    {
     "output_type": "display_data",
     "data": {
      "text/plain": [
       "'Finland - load: 3 missing data filled'"
      ]
     },
     "metadata": {}
    },
    {
     "output_type": "display_data",
     "data": {
      "text/plain": [
       "'France - load: 18 missing data filled'"
      ]
     },
     "metadata": {}
    },
    {
     "output_type": "display_data",
     "data": {
      "text/plain": [
       "'Greece - load: 2 missing data filled'"
      ]
     },
     "metadata": {}
    },
    {
     "output_type": "display_data",
     "data": {
      "text/plain": [
       "'Hungary - load: 0 missing data filled'"
      ]
     },
     "metadata": {}
    },
    {
     "output_type": "display_data",
     "data": {
      "text/plain": [
       "'Ireland - load: 18 missing data filled'"
      ]
     },
     "metadata": {}
    },
    {
     "output_type": "display_data",
     "data": {
      "text/plain": [
       "'Italy - load: 0 missing data filled'"
      ]
     },
     "metadata": {}
    },
    {
     "output_type": "display_data",
     "data": {
      "text/plain": [
       "'Lithuania - load: 67 missing data filled'"
      ]
     },
     "metadata": {}
    },
    {
     "output_type": "display_data",
     "data": {
      "text/plain": [
       "'Latvia - load: 6 missing data filled'"
      ]
     },
     "metadata": {}
    },
    {
     "output_type": "display_data",
     "data": {
      "text/plain": [
       "'Montenegro - load: 0 missing data filled'"
      ]
     },
     "metadata": {}
    },
    {
     "output_type": "display_data",
     "data": {
      "text/plain": [
       "'Netherlands - load: 0 missing data filled'"
      ]
     },
     "metadata": {}
    },
    {
     "output_type": "display_data",
     "data": {
      "text/plain": [
       "'Norway - load: 0 missing data filled'"
      ]
     },
     "metadata": {}
    },
    {
     "output_type": "display_data",
     "data": {
      "text/plain": [
       "'Poland - load: 1 missing data filled'"
      ]
     },
     "metadata": {}
    },
    {
     "output_type": "display_data",
     "data": {
      "text/plain": [
       "'Portugal - load: 0 missing data filled'"
      ]
     },
     "metadata": {}
    },
    {
     "output_type": "display_data",
     "data": {
      "text/plain": [
       "'Serbia - load: 1 missing data filled'"
      ]
     },
     "metadata": {}
    },
    {
     "output_type": "display_data",
     "data": {
      "text/plain": [
       "'Sweden - load: 0 missing data filled'"
      ]
     },
     "metadata": {}
    },
    {
     "output_type": "display_data",
     "data": {
      "text/plain": [
       "'Slovenia - load: 0 missing data filled'"
      ]
     },
     "metadata": {}
    },
    {
     "output_type": "display_data",
     "data": {
      "text/plain": [
       "'Slovakia - load: 0 missing data filled'"
      ]
     },
     "metadata": {}
    },
    {
     "output_type": "display_data",
     "data": {
      "text/plain": [
       "'United Kingdom - load: 8 missing data filled'"
      ]
     },
     "metadata": {}
    }
   ],
   "metadata": {}
  },
  {
   "cell_type": "markdown",
   "source": [
    "## 2.2 Get all the hourly generation data of each country from each source to a single dataframe"
   ],
   "metadata": {}
  },
  {
   "cell_type": "code",
   "execution_count": 4,
   "source": [
    "generation_dic=dp.generation(countries)\r\n",
    "# display(generation_data)"
   ],
   "outputs": [
    {
     "output_type": "display_data",
     "data": {
      "text/plain": [
       "'Austria - Generation: 0 missing data filled'"
      ]
     },
     "metadata": {}
    },
    {
     "output_type": "display_data",
     "data": {
      "text/plain": [
       "'Belgium - Generation: 4993 missing data filled'"
      ]
     },
     "metadata": {}
    },
    {
     "output_type": "display_data",
     "data": {
      "text/plain": [
       "'Bulgaria - Generation: 0 missing data filled'"
      ]
     },
     "metadata": {}
    },
    {
     "output_type": "display_data",
     "data": {
      "text/plain": [
       "'Switzerland - Generation: 0 missing data filled'"
      ]
     },
     "metadata": {}
    },
    {
     "output_type": "display_data",
     "data": {
      "text/plain": [
       "'Czech Republic - Generation: 41 missing data filled'"
      ]
     },
     "metadata": {}
    },
    {
     "output_type": "display_data",
     "data": {
      "text/plain": [
       "'Germany - Generation: 34848 missing data filled'"
      ]
     },
     "metadata": {}
    },
    {
     "output_type": "display_data",
     "data": {
      "text/plain": [
       "'Denmark - Generation: 0 missing data filled'"
      ]
     },
     "metadata": {}
    },
    {
     "output_type": "display_data",
     "data": {
      "text/plain": [
       "'Estonia - Generation: 2266 missing data filled'"
      ]
     },
     "metadata": {}
    },
    {
     "output_type": "display_data",
     "data": {
      "text/plain": [
       "'Spain - Generation: 8779 missing data filled'"
      ]
     },
     "metadata": {}
    },
    {
     "output_type": "display_data",
     "data": {
      "text/plain": [
       "'Finland - Generation: 28 missing data filled'"
      ]
     },
     "metadata": {}
    },
    {
     "output_type": "display_data",
     "data": {
      "text/plain": [
       "'France - Generation: 4724 missing data filled'"
      ]
     },
     "metadata": {}
    },
    {
     "output_type": "display_data",
     "data": {
      "text/plain": [
       "'Greece - Generation: 8773 missing data filled'"
      ]
     },
     "metadata": {}
    },
    {
     "output_type": "display_data",
     "data": {
      "text/plain": [
       "'Hungary - Generation: 12123 missing data filled'"
      ]
     },
     "metadata": {}
    },
    {
     "output_type": "display_data",
     "data": {
      "text/plain": [
       "'Ireland - Generation: 374 missing data filled'"
      ]
     },
     "metadata": {}
    },
    {
     "output_type": "display_data",
     "data": {
      "text/plain": [
       "'Italy - Generation: 286 missing data filled'"
      ]
     },
     "metadata": {}
    },
    {
     "output_type": "display_data",
     "data": {
      "text/plain": [
       "'Lithuania - Generation: 264 missing data filled'"
      ]
     },
     "metadata": {}
    },
    {
     "output_type": "display_data",
     "data": {
      "text/plain": [
       "'Latvia - Generation: 50 missing data filled'"
      ]
     },
     "metadata": {}
    },
    {
     "output_type": "display_data",
     "data": {
      "text/plain": [
       "'Montenegro - Generation: 7246 missing data filled'"
      ]
     },
     "metadata": {}
    },
    {
     "output_type": "display_data",
     "data": {
      "text/plain": [
       "'Netherlands - Generation: 8635 missing data filled'"
      ]
     },
     "metadata": {}
    },
    {
     "output_type": "display_data",
     "data": {
      "text/plain": [
       "'Norway - Generation: 9 missing data filled'"
      ]
     },
     "metadata": {}
    },
    {
     "output_type": "display_data",
     "data": {
      "text/plain": [
       "'Poland - Generation: 0 missing data filled'"
      ]
     },
     "metadata": {}
    },
    {
     "output_type": "display_data",
     "data": {
      "text/plain": [
       "'Portugal - Generation: 0 missing data filled'"
      ]
     },
     "metadata": {}
    },
    {
     "output_type": "display_data",
     "data": {
      "text/plain": [
       "'Serbia - Generation: 183 missing data filled'"
      ]
     },
     "metadata": {}
    },
    {
     "output_type": "display_data",
     "data": {
      "text/plain": [
       "'Sweden - Generation: 1 missing data filled'"
      ]
     },
     "metadata": {}
    },
    {
     "output_type": "display_data",
     "data": {
      "text/plain": [
       "'Slovenia - Generation: 10 missing data filled'"
      ]
     },
     "metadata": {}
    },
    {
     "output_type": "display_data",
     "data": {
      "text/plain": [
       "'Slovakia - Generation: 5259 missing data filled'"
      ]
     },
     "metadata": {}
    },
    {
     "output_type": "display_data",
     "data": {
      "text/plain": [
       "'United Kingdom - Generation: 509 missing data filled'"
      ]
     },
     "metadata": {}
    }
   ],
   "metadata": {}
  },
  {
   "cell_type": "markdown",
   "source": [
    "## 2.3 Get all the hourly cross-border transmission data of each country to a single dataframe"
   ],
   "metadata": {}
  },
  {
   "cell_type": "code",
   "execution_count": 5,
   "source": [
    "transmission_data = dp.cross_border()\r\n",
    "# display(transmission_data)\r\n",
    "# 'cross_border_data' shows the net import/net export of the whole country in hourly timesteps\r\n",
    "# display(crossborder_data)\r\n"
   ],
   "outputs": [
    {
     "output_type": "display_data",
     "data": {
      "text/plain": [
       "'AT - > CH - transmission: 0 missing data filled'"
      ]
     },
     "metadata": {}
    },
    {
     "output_type": "display_data",
     "data": {
      "text/plain": [
       "'AT - > CZ - transmission: 0 missing data filled'"
      ]
     },
     "metadata": {}
    },
    {
     "output_type": "display_data",
     "data": {
      "text/plain": [
       "'AT - > DE - transmission: 0 missing data filled'"
      ]
     },
     "metadata": {}
    },
    {
     "output_type": "display_data",
     "data": {
      "text/plain": [
       "'AT - > HU - transmission: 0 missing data filled'"
      ]
     },
     "metadata": {}
    },
    {
     "output_type": "display_data",
     "data": {
      "text/plain": [
       "'AT - > IT - transmission: 0 missing data filled'"
      ]
     },
     "metadata": {}
    },
    {
     "output_type": "display_data",
     "data": {
      "text/plain": [
       "'AT - > SI - transmission: 0 missing data filled'"
      ]
     },
     "metadata": {}
    },
    {
     "output_type": "display_data",
     "data": {
      "text/plain": [
       "'BE - > FR - transmission: 0 missing data filled'"
      ]
     },
     "metadata": {}
    },
    {
     "output_type": "display_data",
     "data": {
      "text/plain": [
       "'BE - > LU - transmission: 0 missing data filled'"
      ]
     },
     "metadata": {}
    },
    {
     "output_type": "display_data",
     "data": {
      "text/plain": [
       "'BE - > NL - transmission: 0 missing data filled'"
      ]
     },
     "metadata": {}
    },
    {
     "output_type": "display_data",
     "data": {
      "text/plain": [
       "'BG - > GR - transmission: 0 missing data filled'"
      ]
     },
     "metadata": {}
    },
    {
     "output_type": "display_data",
     "data": {
      "text/plain": [
       "'BG - > MK - transmission: 864 missing data filled'"
      ]
     },
     "metadata": {}
    },
    {
     "output_type": "display_data",
     "data": {
      "text/plain": [
       "'BG - > RO - transmission: 4 missing data filled'"
      ]
     },
     "metadata": {}
    },
    {
     "output_type": "display_data",
     "data": {
      "text/plain": [
       "'BG - > RS - transmission: 0 missing data filled'"
      ]
     },
     "metadata": {}
    },
    {
     "output_type": "display_data",
     "data": {
      "text/plain": [
       "'BG - > TR - transmission: 864 missing data filled'"
      ]
     },
     "metadata": {}
    },
    {
     "output_type": "display_data",
     "data": {
      "text/plain": [
       "'CH - > DE - transmission: 0 missing data filled'"
      ]
     },
     "metadata": {}
    },
    {
     "output_type": "display_data",
     "data": {
      "text/plain": [
       "'CH - > FR - transmission: 0 missing data filled'"
      ]
     },
     "metadata": {}
    },
    {
     "output_type": "display_data",
     "data": {
      "text/plain": [
       "'CH - > IT - transmission: 0 missing data filled'"
      ]
     },
     "metadata": {}
    },
    {
     "output_type": "display_data",
     "data": {
      "text/plain": [
       "'CZ - > DE - transmission: 0 missing data filled'"
      ]
     },
     "metadata": {}
    },
    {
     "output_type": "display_data",
     "data": {
      "text/plain": [
       "'CZ - > PL - transmission: 0 missing data filled'"
      ]
     },
     "metadata": {}
    },
    {
     "output_type": "display_data",
     "data": {
      "text/plain": [
       "'CZ - > SK - transmission: 0 missing data filled'"
      ]
     },
     "metadata": {}
    },
    {
     "output_type": "display_data",
     "data": {
      "text/plain": [
       "'DE - > DK - transmission: 0 missing data filled'"
      ]
     },
     "metadata": {}
    },
    {
     "output_type": "display_data",
     "data": {
      "text/plain": [
       "'DE - > FR - transmission: 2 missing data filled'"
      ]
     },
     "metadata": {}
    },
    {
     "output_type": "display_data",
     "data": {
      "text/plain": [
       "'DE - > LU - transmission: 0 missing data filled'"
      ]
     },
     "metadata": {}
    },
    {
     "output_type": "display_data",
     "data": {
      "text/plain": [
       "'DE - > NL - transmission: 34 missing data filled'"
      ]
     },
     "metadata": {}
    },
    {
     "output_type": "display_data",
     "data": {
      "text/plain": [
       "'DE - > PL - transmission: 0 missing data filled'"
      ]
     },
     "metadata": {}
    },
    {
     "output_type": "display_data",
     "data": {
      "text/plain": [
       "'DE - > SE - transmission: 0 missing data filled'"
      ]
     },
     "metadata": {}
    },
    {
     "output_type": "display_data",
     "data": {
      "text/plain": [
       "'DK - > NO - transmission: 0 missing data filled'"
      ]
     },
     "metadata": {}
    },
    {
     "output_type": "display_data",
     "data": {
      "text/plain": [
       "'DK - > SE - transmission: 0 missing data filled'"
      ]
     },
     "metadata": {}
    },
    {
     "output_type": "display_data",
     "data": {
      "text/plain": [
       "'EE - > FI - transmission: 421 missing data filled'"
      ]
     },
     "metadata": {}
    },
    {
     "output_type": "display_data",
     "data": {
      "text/plain": [
       "'EE - > LV - transmission: 3602 missing data filled'"
      ]
     },
     "metadata": {}
    },
    {
     "output_type": "display_data",
     "data": {
      "text/plain": [
       "'EE - > RU - transmission: 414 missing data filled'"
      ]
     },
     "metadata": {}
    },
    {
     "output_type": "display_data",
     "data": {
      "text/plain": [
       "'ES - > FR - transmission: 0 missing data filled'"
      ]
     },
     "metadata": {}
    },
    {
     "output_type": "display_data",
     "data": {
      "text/plain": [
       "'ES - > PT - transmission: 0 missing data filled'"
      ]
     },
     "metadata": {}
    },
    {
     "output_type": "display_data",
     "data": {
      "text/plain": [
       "'FI - > NO - transmission: 0 missing data filled'"
      ]
     },
     "metadata": {}
    },
    {
     "output_type": "display_data",
     "data": {
      "text/plain": [
       "'FI - > RU - transmission: 8 missing data filled'"
      ]
     },
     "metadata": {}
    },
    {
     "output_type": "display_data",
     "data": {
      "text/plain": [
       "'FI - > SE - transmission: 0 missing data filled'"
      ]
     },
     "metadata": {}
    },
    {
     "output_type": "display_data",
     "data": {
      "text/plain": [
       "'FR - > IT - transmission: 0 missing data filled'"
      ]
     },
     "metadata": {}
    },
    {
     "output_type": "display_data",
     "data": {
      "text/plain": [
       "'FR - > UK - transmission: 60 missing data filled'"
      ]
     },
     "metadata": {}
    },
    {
     "output_type": "display_data",
     "data": {
      "text/plain": [
       "'GR - > AL - transmission: 0 missing data filled'"
      ]
     },
     "metadata": {}
    },
    {
     "output_type": "display_data",
     "data": {
      "text/plain": [
       "'GR - > IT - transmission: 0 missing data filled'"
      ]
     },
     "metadata": {}
    },
    {
     "output_type": "display_data",
     "data": {
      "text/plain": [
       "'GR - > MK - transmission: 0 missing data filled'"
      ]
     },
     "metadata": {}
    },
    {
     "output_type": "display_data",
     "data": {
      "text/plain": [
       "'HR - > BA - transmission: 0 missing data filled'"
      ]
     },
     "metadata": {}
    },
    {
     "output_type": "display_data",
     "data": {
      "text/plain": [
       "'HR - > HU - transmission: 0 missing data filled'"
      ]
     },
     "metadata": {}
    },
    {
     "output_type": "display_data",
     "data": {
      "text/plain": [
       "'HR - > RS - transmission: 0 missing data filled'"
      ]
     },
     "metadata": {}
    },
    {
     "output_type": "display_data",
     "data": {
      "text/plain": [
       "'HR - > SI - transmission: 0 missing data filled'"
      ]
     },
     "metadata": {}
    },
    {
     "output_type": "display_data",
     "data": {
      "text/plain": [
       "'HU - > RO - transmission: 0 missing data filled'"
      ]
     },
     "metadata": {}
    },
    {
     "output_type": "display_data",
     "data": {
      "text/plain": [
       "'HU - > RS - transmission: 0 missing data filled'"
      ]
     },
     "metadata": {}
    },
    {
     "output_type": "display_data",
     "data": {
      "text/plain": [
       "'HU - > SK - transmission: 0 missing data filled'"
      ]
     },
     "metadata": {}
    },
    {
     "output_type": "display_data",
     "data": {
      "text/plain": [
       "'HU - > UA - transmission: 14 missing data filled'"
      ]
     },
     "metadata": {}
    },
    {
     "output_type": "display_data",
     "data": {
      "text/plain": [
       "'IE - > UK - transmission: 0 missing data filled'"
      ]
     },
     "metadata": {}
    },
    {
     "output_type": "display_data",
     "data": {
      "text/plain": [
       "'IT - > MT - transmission: 18 missing data filled'"
      ]
     },
     "metadata": {}
    },
    {
     "output_type": "display_data",
     "data": {
      "text/plain": [
       "'IT - > SI - transmission: 46 missing data filled'"
      ]
     },
     "metadata": {}
    },
    {
     "output_type": "display_data",
     "data": {
      "text/plain": [
       "'LT - > BY - transmission: 58 missing data filled'"
      ]
     },
     "metadata": {}
    },
    {
     "output_type": "display_data",
     "data": {
      "text/plain": [
       "'LT - > LV - transmission: 76 missing data filled'"
      ]
     },
     "metadata": {}
    },
    {
     "output_type": "display_data",
     "data": {
      "text/plain": [
       "'LT - > PL - transmission: 0 missing data filled'"
      ]
     },
     "metadata": {}
    },
    {
     "output_type": "display_data",
     "data": {
      "text/plain": [
       "'LT - > RU - transmission: 58 missing data filled'"
      ]
     },
     "metadata": {}
    },
    {
     "output_type": "display_data",
     "data": {
      "text/plain": [
       "'LT - > SE - transmission: 0 missing data filled'"
      ]
     },
     "metadata": {}
    },
    {
     "output_type": "display_data",
     "data": {
      "text/plain": [
       "'LV - > RU - transmission: 18 missing data filled'"
      ]
     },
     "metadata": {}
    },
    {
     "output_type": "display_data",
     "data": {
      "text/plain": [
       "'ME - > AL - transmission: 0 missing data filled'"
      ]
     },
     "metadata": {}
    },
    {
     "output_type": "display_data",
     "data": {
      "text/plain": [
       "'ME - > BA - transmission: 0 missing data filled'"
      ]
     },
     "metadata": {}
    },
    {
     "output_type": "display_data",
     "data": {
      "text/plain": [
       "'ME - > RS - transmission: 0 missing data filled'"
      ]
     },
     "metadata": {}
    },
    {
     "output_type": "display_data",
     "data": {
      "text/plain": [
       "'NL - > NO - transmission: 0 missing data filled'"
      ]
     },
     "metadata": {}
    },
    {
     "output_type": "display_data",
     "data": {
      "text/plain": [
       "'NL - > UK - transmission: 0 missing data filled'"
      ]
     },
     "metadata": {}
    },
    {
     "output_type": "display_data",
     "data": {
      "text/plain": [
       "'NO - > SE - transmission: 0 missing data filled'"
      ]
     },
     "metadata": {}
    },
    {
     "output_type": "display_data",
     "data": {
      "text/plain": [
       "'PL - > SE - transmission: 0 missing data filled'"
      ]
     },
     "metadata": {}
    },
    {
     "output_type": "display_data",
     "data": {
      "text/plain": [
       "'PL - > SK - transmission: 0 missing data filled'"
      ]
     },
     "metadata": {}
    },
    {
     "output_type": "display_data",
     "data": {
      "text/plain": [
       "'PL - > UA - transmission: 0 missing data filled'"
      ]
     },
     "metadata": {}
    },
    {
     "output_type": "display_data",
     "data": {
      "text/plain": [
       "'RS - > AL - transmission: 0 missing data filled'"
      ]
     },
     "metadata": {}
    },
    {
     "output_type": "display_data",
     "data": {
      "text/plain": [
       "'RS - > BA - transmission: 0 missing data filled'"
      ]
     },
     "metadata": {}
    },
    {
     "output_type": "display_data",
     "data": {
      "text/plain": [
       "'RS - > HR - transmission: 0 missing data filled'"
      ]
     },
     "metadata": {}
    },
    {
     "output_type": "display_data",
     "data": {
      "text/plain": [
       "'RS - > MK - transmission: 0 missing data filled'"
      ]
     },
     "metadata": {}
    },
    {
     "output_type": "display_data",
     "data": {
      "text/plain": [
       "'RS - > RO - transmission: 0 missing data filled'"
      ]
     },
     "metadata": {}
    },
    {
     "output_type": "display_data",
     "data": {
      "text/plain": [
       "'SK - > UA - transmission: 17 missing data filled'"
      ]
     },
     "metadata": {}
    }
   ],
   "metadata": {}
  },
  {
   "cell_type": "markdown",
   "source": [
    "# 3. Identifying inconsistencies in ENTSO-E Generation data"
   ],
   "metadata": {}
  },
  {
   "cell_type": "code",
   "execution_count": null,
   "source": [
    "inconsistency_in_generation = ii.inconcistencies_generation_data()\r\n"
   ],
   "outputs": [],
   "metadata": {}
  },
  {
   "cell_type": "markdown",
   "source": [
    "# 4. Consolidation based on internal data"
   ],
   "metadata": {}
  },
  {
   "cell_type": "markdown",
   "source": [
    "## 3.1 Obtaining consolidated ENTSO-E data using Nearest Neighbours Mean Approach"
   ],
   "metadata": {}
  },
  {
   "cell_type": "markdown",
   "source": [
    "### !!! This step takes about 14 minutes to complete in an Intel I5 processor with 8 GB Ram"
   ],
   "metadata": {}
  },
  {
   "cell_type": "code",
   "execution_count": null,
   "source": [
    "# ii.consolidation(countries, 'Nearest Neighbours Mean')\r\n"
   ],
   "outputs": [],
   "metadata": {}
  },
  {
   "cell_type": "markdown",
   "source": [
    "## 3.2 Obtaining consolidated data using Polynomial Linear Regression"
   ],
   "metadata": {}
  },
  {
   "cell_type": "markdown",
   "source": [
    "### !!! This step takes about 40 minutes to complete in an Intel I5 processor with 8 GB Ram"
   ],
   "metadata": {}
  },
  {
   "cell_type": "code",
   "execution_count": null,
   "source": [
    "# ii.consolidation(countries, 'Polynomial Linear Regression')\r\n"
   ],
   "outputs": [],
   "metadata": {}
  },
  {
   "cell_type": "markdown",
   "source": [
    "## 4.3 Obtaining consolidated ENTSO-E data using Internal Sigma Approach"
   ],
   "metadata": {}
  },
  {
   "cell_type": "markdown",
   "source": [
    "### !!! This step takes about 2 hours to complete in an Intel I5 processor with 8 GB Ram"
   ],
   "metadata": {}
  },
  {
   "cell_type": "code",
   "execution_count": 3,
   "source": [
    "load_dic = {}\r\n",
    "generation_dic = {}\r\n",
    "transmission_data = pd.DataFrame()\r\n",
    "\r\n",
    "for abbr in abbr_list:\r\n",
    "    load_dic[abbr] = pd.read_csv(f'../Data Sources/output/Polynomial Linear Regression/Load/{abbr}.csv').iloc[:,1:]\r\n",
    "    generation_dic[abbr] = pd.read_csv(f'../Data Sources/output/Polynomial Linear Regression/Generation/{abbr}.csv').iloc[:,1:]\r\n",
    "transmission_data = pd.read_csv(f'../Data Sources/output//Polynomial Linear Regression/Transmission/all_transmissions.csv').iloc[:, 1:]"
   ],
   "outputs": [],
   "metadata": {}
  },
  {
   "cell_type": "code",
   "execution_count": 4,
   "source": [
    "load_dic_copy = copy.deepcopy(load_dic) \r\n",
    "generation_dic_copy = copy.deepcopy(generation_dic)\r\n",
    "transmission_data_copy = copy.deepcopy(transmission_data)\r\n",
    "consolidated_gen_data, consolidated_load_data, consolidated_transmission_data = ii.sigma(load_dic_copy, generation_dic_copy, transmission_data_copy, countries)\r\n"
   ],
   "outputs": [
    {
     "output_type": "stream",
     "name": "stdout",
     "text": [
      "SIGMA CALCULATED\n",
      "VARIABLES DECLARED\n",
      "Academic license - for non-commercial use only - expires 2021-09-28\n",
      "Using license file C:\\Users\\lovin\\gurobi.lic\n",
      "OPTIMIZATION COMPLETED\n"
     ]
    },
    {
     "output_type": "stream",
     "name": "stderr",
     "text": [
      "<string>:22: SettingWithCopyWarning: \n",
      "A value is trying to be set on a copy of a slice from a DataFrame.\n",
      "Try using .loc[row_indexer,col_indexer] = value instead\n",
      "\n",
      "See the caveats in the documentation: https://pandas.pydata.org/pandas-docs/stable/user_guide/indexing.html#returning-a-view-versus-a-copy\n"
     ]
    }
   ],
   "metadata": {}
  },
  {
   "cell_type": "markdown",
   "source": [
    "## 4.2 Mismatch analysis in the consolidated ENTSO-E data"
   ],
   "metadata": {}
  },
  {
   "cell_type": "markdown",
   "source": [
    "### 4.2.1 Mismatch analysis in all 27 countries"
   ],
   "metadata": {}
  },
  {
   "cell_type": "code",
   "execution_count": null,
   "source": [
    "ii.mismatch_analysis(mismatch_data, abbr_list)\r\n"
   ],
   "outputs": [],
   "metadata": {}
  },
  {
   "cell_type": "markdown",
   "source": [
    "### 4.2.2 Mismatch analysis with only selected countries in optimization based internal consolidation method"
   ],
   "metadata": {}
  },
  {
   "cell_type": "code",
   "execution_count": null,
   "source": [
    "selected_countries = ['AT', 'CZ', 'DK', 'ES', 'FR','IE', 'NL', 'NO', 'PT', 'SI', 'SE', 'CH', 'UK']\r\n",
    "ii.mismatch_analysis(mismatch_data, selected_countries)\r\n"
   ],
   "outputs": [],
   "metadata": {}
  },
  {
   "cell_type": "markdown",
   "source": [
    "# 5. Comparission of ENTSO-E data with other sources"
   ],
   "metadata": {}
  },
  {
   "cell_type": "markdown",
   "source": [
    "## 5.1 Comparing ENTSO-E & Eurostat data"
   ],
   "metadata": {}
  },
  {
   "cell_type": "markdown",
   "source": [
    "### 5.1.1 Comparing annual generation data of ENTSO-E & Eurostat data"
   ],
   "metadata": {}
  },
  {
   "cell_type": "code",
   "execution_count": null,
   "source": [
    "# ei.eurostat_comparission_gen_data(generation_data,countries)"
   ],
   "outputs": [],
   "metadata": {}
  },
  {
   "cell_type": "markdown",
   "source": [
    "### 5.1.2 Comparing annual load data of ENTSO-E & Eurostat data"
   ],
   "metadata": {}
  },
  {
   "cell_type": "code",
   "execution_count": null,
   "source": [
    "# ei.eurostat_comparission_load_data(load_data, countries)\r\n"
   ],
   "outputs": [],
   "metadata": {}
  },
  {
   "cell_type": "markdown",
   "source": [
    "### 5.1.3 Comparing annual import/export data of ENTSO-E & Eurostat data"
   ],
   "metadata": {}
  },
  {
   "cell_type": "code",
   "execution_count": null,
   "source": [
    "# ei.eurostat_comparission_transmission_data(import_export_using_crossborder_data, countries)"
   ],
   "outputs": [],
   "metadata": {
    "scrolled": true
   }
  }
 ],
 "metadata": {
  "interpreter": {
   "hash": "acb9e0cfff3151089362f20c3a81c7531326aa2c5fdbbc2eccac94359104a8e2"
  },
  "kernelspec": {
   "name": "python3",
   "display_name": "Python 3.9.6 64-bit"
  },
  "language_info": {
   "codemirror_mode": {
    "name": "ipython",
    "version": 3
   },
   "file_extension": ".py",
   "mimetype": "text/x-python",
   "name": "python",
   "nbconvert_exporter": "python",
   "pygments_lexer": "ipython3",
   "version": "3.9.6"
  },
  "varInspector": {
   "cols": {
    "lenName": 16,
    "lenType": 16,
    "lenVar": 40
   },
   "kernels_config": {
    "python": {
     "delete_cmd_postfix": "",
     "delete_cmd_prefix": "del ",
     "library": "var_list.py",
     "varRefreshCmd": "print(var_dic_list())"
    },
    "r": {
     "delete_cmd_postfix": ") ",
     "delete_cmd_prefix": "rm(",
     "library": "var_list.r",
     "varRefreshCmd": "cat(var_dic_list()) "
    }
   },
   "types_to_exclude": [
    "module",
    "function",
    "builtin_function_or_method",
    "instance",
    "_Feature"
   ],
   "window_display": false
  }
 },
 "nbformat": 4,
 "nbformat_minor": 4
}