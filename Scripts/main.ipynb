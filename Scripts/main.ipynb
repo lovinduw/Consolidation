{
 "metadata": {
  "language_info": {
   "codemirror_mode": {
    "name": "ipython",
    "version": 3
   },
   "file_extension": ".py",
   "mimetype": "text/x-python",
   "name": "python",
   "nbconvert_exporter": "python",
   "pygments_lexer": "ipython3",
   "version": "3.9.1"
  },
  "orig_nbformat": 4,
  "kernelspec": {
   "name": "python3",
   "display_name": "Python 3.9.1 64-bit"
  },
  "interpreter": {
   "hash": "acb9e0cfff3151089362f20c3a81c7531326aa2c5fdbbc2eccac94359104a8e2"
  }
 },
 "nbformat": 4,
 "nbformat_minor": 2,
 "cells": [
  {
   "cell_type": "code",
   "execution_count": 6,
   "metadata": {},
   "outputs": [
    {
     "output_type": "stream",
     "name": "stdout",
     "text": [
      "importing Jupyter notebook from data_preperation.ipynb\nimporting Jupyter notebook from internal_inconsistencies.ipynb\n"
     ]
    }
   ],
   "source": [
    "import pandas as pd\n",
    "import numpy as np\n",
    "import import_ipynb\n",
    "import data_preperation as dp\n",
    "import internal_inconsistencies as ii"
   ]
  },
  {
   "cell_type": "code",
   "execution_count": 7,
   "metadata": {},
   "outputs": [],
   "source": [
    "countries={ 'Austria': 'AT', 'Belgium': 'BE',  'Bulgaria': 'BG', 'Switzerland': 'CH', 'Czech Republic': 'CZ', 'Croatia': 'HR',  'Germany': 'DE', 'Denmark': 'DK', 'Estonia': 'EE', 'Spain': 'ES', 'Finland': 'FI', 'France': 'FR',  'Greece': 'GR', 'Hungary': 'HU', 'Ireland': 'IE', 'Italy': 'IT', 'Lithuania': 'LT', 'Latvia': 'LV', 'Montenegro': 'ME','Netherlands': 'NL', 'Norway': 'NO', 'Poland': 'PL', 'Portugal': 'PT', 'Serbia': 'RS', 'Sweden': 'SE', 'Slovenia': 'SI', 'Slovakia': 'SK', 'United Kingdom': 'UK'}\n",
    "\n",
    "abbr_list=list(countries.values())"
   ]
  },
  {
   "source": [
    "## Get all the hourly load data of each country to a single dataframe"
   ],
   "cell_type": "markdown",
   "metadata": {}
  },
  {
   "cell_type": "code",
   "execution_count": 3,
   "metadata": {},
   "outputs": [
    {
     "output_type": "execute_result",
     "data": {
      "text/plain": [
       "  Day Month  Year            Time       AT       BE      BG      CH      CZ  \\\n",
       "0  01    01  2019  00:00 -  01:00  6075.00  8973.25  4321.0  7037.0  5719.0   \n",
       "1  01    01  2019  01:00 -  02:00  5852.75  8542.75  4133.0  7096.0  5678.0   \n",
       "2  01    01  2019  02:00 -  03:00  5619.25  8077.50  3991.0  7244.0  5622.0   \n",
       "3  01    01  2019  03:00 -  04:00  5324.00  7823.25  3894.0  7443.0  5475.0   \n",
       "4  01    01  2019  04:00 -  05:00  5273.50  7636.25  3841.0  7353.0  5433.0   \n",
       "\n",
       "       HR  ...     ME        NL       NO       PL      PT      RS       SE  \\\n",
       "0  1836.0  ...  418.0  11284.75  15724.0  15012.0  5030.0  5290.0  14597.0   \n",
       "1  1732.0  ...  404.0  11193.75  15623.0  14467.0  4797.0  5282.0  14375.0   \n",
       "2  1623.0  ...  376.0  10933.25  15705.0  13774.0  4650.0  5067.0  14153.0   \n",
       "3  1534.0  ...  349.0  10666.75  15643.0  13406.0  4394.0  4739.0  13896.0   \n",
       "4  1488.0  ...  331.0  10413.25  15612.0  13216.0  4177.0  4445.0  13955.0   \n",
       "\n",
       "       SI      SK       UK  \n",
       "0  1164.0  2835.0  27068.5  \n",
       "1  1129.0  2744.0  27831.5  \n",
       "2  1084.0  2679.0  27634.0  \n",
       "3  1038.0  2608.0  25184.5  \n",
       "4  1018.0  2602.0  22708.5  \n",
       "\n",
       "[5 rows x 32 columns]"
      ],
      "text/html": "<div>\n<style scoped>\n    .dataframe tbody tr th:only-of-type {\n        vertical-align: middle;\n    }\n\n    .dataframe tbody tr th {\n        vertical-align: top;\n    }\n\n    .dataframe thead th {\n        text-align: right;\n    }\n</style>\n<table border=\"1\" class=\"dataframe\">\n  <thead>\n    <tr style=\"text-align: right;\">\n      <th></th>\n      <th>Day</th>\n      <th>Month</th>\n      <th>Year</th>\n      <th>Time</th>\n      <th>AT</th>\n      <th>BE</th>\n      <th>BG</th>\n      <th>CH</th>\n      <th>CZ</th>\n      <th>HR</th>\n      <th>...</th>\n      <th>ME</th>\n      <th>NL</th>\n      <th>NO</th>\n      <th>PL</th>\n      <th>PT</th>\n      <th>RS</th>\n      <th>SE</th>\n      <th>SI</th>\n      <th>SK</th>\n      <th>UK</th>\n    </tr>\n  </thead>\n  <tbody>\n    <tr>\n      <th>0</th>\n      <td>01</td>\n      <td>01</td>\n      <td>2019</td>\n      <td>00:00 -  01:00</td>\n      <td>6075.00</td>\n      <td>8973.25</td>\n      <td>4321.0</td>\n      <td>7037.0</td>\n      <td>5719.0</td>\n      <td>1836.0</td>\n      <td>...</td>\n      <td>418.0</td>\n      <td>11284.75</td>\n      <td>15724.0</td>\n      <td>15012.0</td>\n      <td>5030.0</td>\n      <td>5290.0</td>\n      <td>14597.0</td>\n      <td>1164.0</td>\n      <td>2835.0</td>\n      <td>27068.5</td>\n    </tr>\n    <tr>\n      <th>1</th>\n      <td>01</td>\n      <td>01</td>\n      <td>2019</td>\n      <td>01:00 -  02:00</td>\n      <td>5852.75</td>\n      <td>8542.75</td>\n      <td>4133.0</td>\n      <td>7096.0</td>\n      <td>5678.0</td>\n      <td>1732.0</td>\n      <td>...</td>\n      <td>404.0</td>\n      <td>11193.75</td>\n      <td>15623.0</td>\n      <td>14467.0</td>\n      <td>4797.0</td>\n      <td>5282.0</td>\n      <td>14375.0</td>\n      <td>1129.0</td>\n      <td>2744.0</td>\n      <td>27831.5</td>\n    </tr>\n    <tr>\n      <th>2</th>\n      <td>01</td>\n      <td>01</td>\n      <td>2019</td>\n      <td>02:00 -  03:00</td>\n      <td>5619.25</td>\n      <td>8077.50</td>\n      <td>3991.0</td>\n      <td>7244.0</td>\n      <td>5622.0</td>\n      <td>1623.0</td>\n      <td>...</td>\n      <td>376.0</td>\n      <td>10933.25</td>\n      <td>15705.0</td>\n      <td>13774.0</td>\n      <td>4650.0</td>\n      <td>5067.0</td>\n      <td>14153.0</td>\n      <td>1084.0</td>\n      <td>2679.0</td>\n      <td>27634.0</td>\n    </tr>\n    <tr>\n      <th>3</th>\n      <td>01</td>\n      <td>01</td>\n      <td>2019</td>\n      <td>03:00 -  04:00</td>\n      <td>5324.00</td>\n      <td>7823.25</td>\n      <td>3894.0</td>\n      <td>7443.0</td>\n      <td>5475.0</td>\n      <td>1534.0</td>\n      <td>...</td>\n      <td>349.0</td>\n      <td>10666.75</td>\n      <td>15643.0</td>\n      <td>13406.0</td>\n      <td>4394.0</td>\n      <td>4739.0</td>\n      <td>13896.0</td>\n      <td>1038.0</td>\n      <td>2608.0</td>\n      <td>25184.5</td>\n    </tr>\n    <tr>\n      <th>4</th>\n      <td>01</td>\n      <td>01</td>\n      <td>2019</td>\n      <td>04:00 -  05:00</td>\n      <td>5273.50</td>\n      <td>7636.25</td>\n      <td>3841.0</td>\n      <td>7353.0</td>\n      <td>5433.0</td>\n      <td>1488.0</td>\n      <td>...</td>\n      <td>331.0</td>\n      <td>10413.25</td>\n      <td>15612.0</td>\n      <td>13216.0</td>\n      <td>4177.0</td>\n      <td>4445.0</td>\n      <td>13955.0</td>\n      <td>1018.0</td>\n      <td>2602.0</td>\n      <td>22708.5</td>\n    </tr>\n  </tbody>\n</table>\n<p>5 rows × 32 columns</p>\n</div>"
     },
     "metadata": {},
     "execution_count": 3
    }
   ],
   "source": [
    "load_data=dp.load(countries)\n",
    "load_data.head()"
   ]
  },
  {
   "source": [
    "## Get all the hourly generation data of each country from each source to a single dataframe"
   ],
   "cell_type": "markdown",
   "metadata": {}
  },
  {
   "cell_type": "code",
   "execution_count": 4,
   "metadata": {},
   "outputs": [
    {
     "output_type": "execute_result",
     "data": {
      "text/plain": [
       "  Day Month  Year            Time  AT - Biomass  AT - Fossil Gas  \\\n",
       "0  01    01  2019  00:00 -  01:00         304.0          1269.75   \n",
       "1  01    01  2019  01:00 -  02:00         304.0           935.25   \n",
       "2  01    01  2019  02:00 -  03:00         304.0           611.00   \n",
       "3  01    01  2019  03:00 -  04:00         304.0           568.00   \n",
       "4  01    01  2019  04:00 -  05:00         302.0           443.50   \n",
       "\n",
       "   AT - Fossil Hard coal  AT - Fossil Oil  AT - Geothermal  \\\n",
       "0                 155.50              0.0              0.0   \n",
       "1                 154.75              0.0              0.0   \n",
       "2                 155.25              0.0              0.0   \n",
       "3                 155.25              0.0              0.0   \n",
       "4                 154.25              0.0              0.0   \n",
       "\n",
       "   AT - Hydro Pumped Storage  ...  UK - Fossil Oil  UK - Hydro Pumped Storage  \\\n",
       "0                        0.0  ...              3.0                        0.0   \n",
       "1                        0.0  ...              0.0                       52.5   \n",
       "2                        0.0  ...              0.0                        0.0   \n",
       "3                        0.0  ...              0.0                        0.0   \n",
       "4                        0.0  ...              0.0                        0.0   \n",
       "\n",
       "   UK - Hydro Pumped Storage   UK - Hydro Run-of-river and poundage  \\\n",
       "0                         NaN                                 428.5   \n",
       "1                         NaN                                 404.0   \n",
       "2                         NaN                                 373.5   \n",
       "3                         NaN                                 349.0   \n",
       "4                         NaN                                 324.5   \n",
       "\n",
       "   UK - Nuclear  UK - Other  UK - Solar  UK - Wind Offshore  \\\n",
       "0        6941.5        66.0         0.0              3131.0   \n",
       "1        6899.0        64.0         0.0              3198.0   \n",
       "2        6830.5        63.0         0.0              3277.5   \n",
       "3        6826.0        63.0         0.0              3158.0   \n",
       "4        6818.0        64.0         0.0              2985.0   \n",
       "\n",
       "   UK - Wind Onshore  UK - Total  \n",
       "0             6527.5     25144.5  \n",
       "1             6201.5     23967.5  \n",
       "2             6095.0     23512.0  \n",
       "3             5736.5     22352.5  \n",
       "4             5357.0     21751.5  \n",
       "\n",
       "[5 rows x 329 columns]"
      ],
      "text/html": "<div>\n<style scoped>\n    .dataframe tbody tr th:only-of-type {\n        vertical-align: middle;\n    }\n\n    .dataframe tbody tr th {\n        vertical-align: top;\n    }\n\n    .dataframe thead th {\n        text-align: right;\n    }\n</style>\n<table border=\"1\" class=\"dataframe\">\n  <thead>\n    <tr style=\"text-align: right;\">\n      <th></th>\n      <th>Day</th>\n      <th>Month</th>\n      <th>Year</th>\n      <th>Time</th>\n      <th>AT - Biomass</th>\n      <th>AT - Fossil Gas</th>\n      <th>AT - Fossil Hard coal</th>\n      <th>AT - Fossil Oil</th>\n      <th>AT - Geothermal</th>\n      <th>AT - Hydro Pumped Storage</th>\n      <th>...</th>\n      <th>UK - Fossil Oil</th>\n      <th>UK - Hydro Pumped Storage</th>\n      <th>UK - Hydro Pumped Storage</th>\n      <th>UK - Hydro Run-of-river and poundage</th>\n      <th>UK - Nuclear</th>\n      <th>UK - Other</th>\n      <th>UK - Solar</th>\n      <th>UK - Wind Offshore</th>\n      <th>UK - Wind Onshore</th>\n      <th>UK - Total</th>\n    </tr>\n  </thead>\n  <tbody>\n    <tr>\n      <th>0</th>\n      <td>01</td>\n      <td>01</td>\n      <td>2019</td>\n      <td>00:00 -  01:00</td>\n      <td>304.0</td>\n      <td>1269.75</td>\n      <td>155.50</td>\n      <td>0.0</td>\n      <td>0.0</td>\n      <td>0.0</td>\n      <td>...</td>\n      <td>3.0</td>\n      <td>0.0</td>\n      <td>NaN</td>\n      <td>428.5</td>\n      <td>6941.5</td>\n      <td>66.0</td>\n      <td>0.0</td>\n      <td>3131.0</td>\n      <td>6527.5</td>\n      <td>25144.5</td>\n    </tr>\n    <tr>\n      <th>1</th>\n      <td>01</td>\n      <td>01</td>\n      <td>2019</td>\n      <td>01:00 -  02:00</td>\n      <td>304.0</td>\n      <td>935.25</td>\n      <td>154.75</td>\n      <td>0.0</td>\n      <td>0.0</td>\n      <td>0.0</td>\n      <td>...</td>\n      <td>0.0</td>\n      <td>52.5</td>\n      <td>NaN</td>\n      <td>404.0</td>\n      <td>6899.0</td>\n      <td>64.0</td>\n      <td>0.0</td>\n      <td>3198.0</td>\n      <td>6201.5</td>\n      <td>23967.5</td>\n    </tr>\n    <tr>\n      <th>2</th>\n      <td>01</td>\n      <td>01</td>\n      <td>2019</td>\n      <td>02:00 -  03:00</td>\n      <td>304.0</td>\n      <td>611.00</td>\n      <td>155.25</td>\n      <td>0.0</td>\n      <td>0.0</td>\n      <td>0.0</td>\n      <td>...</td>\n      <td>0.0</td>\n      <td>0.0</td>\n      <td>NaN</td>\n      <td>373.5</td>\n      <td>6830.5</td>\n      <td>63.0</td>\n      <td>0.0</td>\n      <td>3277.5</td>\n      <td>6095.0</td>\n      <td>23512.0</td>\n    </tr>\n    <tr>\n      <th>3</th>\n      <td>01</td>\n      <td>01</td>\n      <td>2019</td>\n      <td>03:00 -  04:00</td>\n      <td>304.0</td>\n      <td>568.00</td>\n      <td>155.25</td>\n      <td>0.0</td>\n      <td>0.0</td>\n      <td>0.0</td>\n      <td>...</td>\n      <td>0.0</td>\n      <td>0.0</td>\n      <td>NaN</td>\n      <td>349.0</td>\n      <td>6826.0</td>\n      <td>63.0</td>\n      <td>0.0</td>\n      <td>3158.0</td>\n      <td>5736.5</td>\n      <td>22352.5</td>\n    </tr>\n    <tr>\n      <th>4</th>\n      <td>01</td>\n      <td>01</td>\n      <td>2019</td>\n      <td>04:00 -  05:00</td>\n      <td>302.0</td>\n      <td>443.50</td>\n      <td>154.25</td>\n      <td>0.0</td>\n      <td>0.0</td>\n      <td>0.0</td>\n      <td>...</td>\n      <td>0.0</td>\n      <td>0.0</td>\n      <td>NaN</td>\n      <td>324.5</td>\n      <td>6818.0</td>\n      <td>64.0</td>\n      <td>0.0</td>\n      <td>2985.0</td>\n      <td>5357.0</td>\n      <td>21751.5</td>\n    </tr>\n  </tbody>\n</table>\n<p>5 rows × 329 columns</p>\n</div>"
     },
     "metadata": {},
     "execution_count": 4
    }
   ],
   "source": [
    "generation_data=dp.generation(countries)\n",
    "generation_data.head()"
   ]
  },
  {
   "source": [
    "## Get all the hourly cross-border transmission data of each country to a single dataframe"
   ],
   "cell_type": "markdown",
   "metadata": {}
  },
  {
   "cell_type": "code",
   "execution_count": 9,
   "metadata": {},
   "outputs": [],
   "source": [
    "crossborder_data,transmission_data = dp.cross_border(abbr_list)"
   ]
  },
  {
   "cell_type": "code",
   "execution_count": 12,
   "metadata": {},
   "outputs": [
    {
     "output_type": "execute_result",
     "data": {
      "text/plain": [
       "  Day Month  Year            Time  AT --> CH  AT --> CZ  AT --> DE  AT --> HU  \\\n",
       "0  01    01  2019  00:00 -  01:00      763.0    -2008.0    -2736.0      467.0   \n",
       "1  01    01  2019  01:00 -  02:00      497.0    -1985.0    -2724.0      482.0   \n",
       "2  01    01  2019  02:00 -  03:00      427.0    -1892.0    -2682.0      398.0   \n",
       "3  01    01  2019  03:00 -  04:00      452.0    -1699.0    -2737.0      341.0   \n",
       "4  01    01  2019  04:00 -  05:00      603.0    -1666.0    -2814.0      316.0   \n",
       "\n",
       "   AT --> IT  AT --> SI  ...  SI --> IT  SK --> CZ  SK --> HU  SK --> PL  \\\n",
       "0      154.0      866.0  ...      665.0    -1608.0     1783.0     -674.0   \n",
       "1      152.0      983.0  ...      705.0    -1585.0     1813.0     -605.0   \n",
       "2      144.0      961.0  ...      652.0    -1496.0     1698.0     -582.0   \n",
       "3      173.0      859.0  ...      640.0    -1315.0     1566.0     -534.0   \n",
       "4      162.0      776.0  ...      619.0    -1315.0     1463.0     -509.0   \n",
       "\n",
       "   SK --> UA  UK --> BE  UK --> FR  UK --> IE  UK --> NL  UK --> NO  \n",
       "0      614.0        0.0    -1563.0      438.0      448.0        0.0  \n",
       "1      620.0        0.0    -1567.0      243.0     -197.0        0.0  \n",
       "2      561.0        0.0    -1517.0      300.0     -607.0        0.0  \n",
       "3      513.0        0.0    -1518.0      480.0     -689.0        0.0  \n",
       "4      444.0        0.0    -1413.0      530.0     -297.0        0.0  \n",
       "\n",
       "[5 rows x 139 columns]"
      ],
      "text/html": "<div>\n<style scoped>\n    .dataframe tbody tr th:only-of-type {\n        vertical-align: middle;\n    }\n\n    .dataframe tbody tr th {\n        vertical-align: top;\n    }\n\n    .dataframe thead th {\n        text-align: right;\n    }\n</style>\n<table border=\"1\" class=\"dataframe\">\n  <thead>\n    <tr style=\"text-align: right;\">\n      <th></th>\n      <th>Day</th>\n      <th>Month</th>\n      <th>Year</th>\n      <th>Time</th>\n      <th>AT --&gt; CH</th>\n      <th>AT --&gt; CZ</th>\n      <th>AT --&gt; DE</th>\n      <th>AT --&gt; HU</th>\n      <th>AT --&gt; IT</th>\n      <th>AT --&gt; SI</th>\n      <th>...</th>\n      <th>SI --&gt; IT</th>\n      <th>SK --&gt; CZ</th>\n      <th>SK --&gt; HU</th>\n      <th>SK --&gt; PL</th>\n      <th>SK --&gt; UA</th>\n      <th>UK --&gt; BE</th>\n      <th>UK --&gt; FR</th>\n      <th>UK --&gt; IE</th>\n      <th>UK --&gt; NL</th>\n      <th>UK --&gt; NO</th>\n    </tr>\n  </thead>\n  <tbody>\n    <tr>\n      <th>0</th>\n      <td>01</td>\n      <td>01</td>\n      <td>2019</td>\n      <td>00:00 -  01:00</td>\n      <td>763.0</td>\n      <td>-2008.0</td>\n      <td>-2736.0</td>\n      <td>467.0</td>\n      <td>154.0</td>\n      <td>866.0</td>\n      <td>...</td>\n      <td>665.0</td>\n      <td>-1608.0</td>\n      <td>1783.0</td>\n      <td>-674.0</td>\n      <td>614.0</td>\n      <td>0.0</td>\n      <td>-1563.0</td>\n      <td>438.0</td>\n      <td>448.0</td>\n      <td>0.0</td>\n    </tr>\n    <tr>\n      <th>1</th>\n      <td>01</td>\n      <td>01</td>\n      <td>2019</td>\n      <td>01:00 -  02:00</td>\n      <td>497.0</td>\n      <td>-1985.0</td>\n      <td>-2724.0</td>\n      <td>482.0</td>\n      <td>152.0</td>\n      <td>983.0</td>\n      <td>...</td>\n      <td>705.0</td>\n      <td>-1585.0</td>\n      <td>1813.0</td>\n      <td>-605.0</td>\n      <td>620.0</td>\n      <td>0.0</td>\n      <td>-1567.0</td>\n      <td>243.0</td>\n      <td>-197.0</td>\n      <td>0.0</td>\n    </tr>\n    <tr>\n      <th>2</th>\n      <td>01</td>\n      <td>01</td>\n      <td>2019</td>\n      <td>02:00 -  03:00</td>\n      <td>427.0</td>\n      <td>-1892.0</td>\n      <td>-2682.0</td>\n      <td>398.0</td>\n      <td>144.0</td>\n      <td>961.0</td>\n      <td>...</td>\n      <td>652.0</td>\n      <td>-1496.0</td>\n      <td>1698.0</td>\n      <td>-582.0</td>\n      <td>561.0</td>\n      <td>0.0</td>\n      <td>-1517.0</td>\n      <td>300.0</td>\n      <td>-607.0</td>\n      <td>0.0</td>\n    </tr>\n    <tr>\n      <th>3</th>\n      <td>01</td>\n      <td>01</td>\n      <td>2019</td>\n      <td>03:00 -  04:00</td>\n      <td>452.0</td>\n      <td>-1699.0</td>\n      <td>-2737.0</td>\n      <td>341.0</td>\n      <td>173.0</td>\n      <td>859.0</td>\n      <td>...</td>\n      <td>640.0</td>\n      <td>-1315.0</td>\n      <td>1566.0</td>\n      <td>-534.0</td>\n      <td>513.0</td>\n      <td>0.0</td>\n      <td>-1518.0</td>\n      <td>480.0</td>\n      <td>-689.0</td>\n      <td>0.0</td>\n    </tr>\n    <tr>\n      <th>4</th>\n      <td>01</td>\n      <td>01</td>\n      <td>2019</td>\n      <td>04:00 -  05:00</td>\n      <td>603.0</td>\n      <td>-1666.0</td>\n      <td>-2814.0</td>\n      <td>316.0</td>\n      <td>162.0</td>\n      <td>776.0</td>\n      <td>...</td>\n      <td>619.0</td>\n      <td>-1315.0</td>\n      <td>1463.0</td>\n      <td>-509.0</td>\n      <td>444.0</td>\n      <td>0.0</td>\n      <td>-1413.0</td>\n      <td>530.0</td>\n      <td>-297.0</td>\n      <td>0.0</td>\n    </tr>\n  </tbody>\n</table>\n<p>5 rows × 139 columns</p>\n</div>"
     },
     "metadata": {},
     "execution_count": 12
    }
   ],
   "source": [
    "transmission_data.head()"
   ]
  },
  {
   "cell_type": "code",
   "execution_count": 13,
   "metadata": {},
   "outputs": [
    {
     "output_type": "execute_result",
     "data": {
      "text/plain": [
       "  Day Month  Year            Time      AT      BE     BG      CH      CZ  \\\n",
       "0  01    01  2019  00:00 -  01:00 -2494.0 -2718.0  908.0 -1799.0  2399.0   \n",
       "1  01    01  2019  01:00 -  02:00 -2595.0 -2201.0  903.0 -2136.0  1853.0   \n",
       "2  01    01  2019  02:00 -  03:00 -2644.0 -1849.0  864.0 -2381.0  1468.0   \n",
       "3  01    01  2019  03:00 -  04:00 -2611.0 -2025.0  833.0 -2434.0  1010.0   \n",
       "4  01    01  2019  04:00 -  05:00 -2623.0 -2085.0  777.0 -2298.0  1056.0   \n",
       "\n",
       "      HR  ...     ME     NL      NO     PL      PT      RS      SE     SI  \\\n",
       "0 -662.0  ... -132.0  628.0 -4298.0  892.0    15.0 -1003.0  3378.0 -113.0   \n",
       "1 -692.0  ... -122.0  444.0 -3447.0  277.0  -738.0 -1048.0  3255.0    4.0   \n",
       "2 -693.0  ...  -88.0  531.0 -3416.0   28.0  -947.0  -958.0  3098.0  -31.0   \n",
       "3 -620.0  ...  -55.0  710.0 -3815.0    5.0 -1381.0  -915.0  3367.0   14.0   \n",
       "4 -563.0  ...  -35.0  720.0 -4122.0   52.0 -1984.0  -660.0  3522.0    6.0   \n",
       "\n",
       "      SK      UK  \n",
       "0  115.0  -677.0  \n",
       "1  243.0 -1521.0  \n",
       "2  181.0 -1824.0  \n",
       "3  230.0 -1727.0  \n",
       "4   83.0 -1180.0  \n",
       "\n",
       "[5 rows x 32 columns]"
      ],
      "text/html": "<div>\n<style scoped>\n    .dataframe tbody tr th:only-of-type {\n        vertical-align: middle;\n    }\n\n    .dataframe tbody tr th {\n        vertical-align: top;\n    }\n\n    .dataframe thead th {\n        text-align: right;\n    }\n</style>\n<table border=\"1\" class=\"dataframe\">\n  <thead>\n    <tr style=\"text-align: right;\">\n      <th></th>\n      <th>Day</th>\n      <th>Month</th>\n      <th>Year</th>\n      <th>Time</th>\n      <th>AT</th>\n      <th>BE</th>\n      <th>BG</th>\n      <th>CH</th>\n      <th>CZ</th>\n      <th>HR</th>\n      <th>...</th>\n      <th>ME</th>\n      <th>NL</th>\n      <th>NO</th>\n      <th>PL</th>\n      <th>PT</th>\n      <th>RS</th>\n      <th>SE</th>\n      <th>SI</th>\n      <th>SK</th>\n      <th>UK</th>\n    </tr>\n  </thead>\n  <tbody>\n    <tr>\n      <th>0</th>\n      <td>01</td>\n      <td>01</td>\n      <td>2019</td>\n      <td>00:00 -  01:00</td>\n      <td>-2494.0</td>\n      <td>-2718.0</td>\n      <td>908.0</td>\n      <td>-1799.0</td>\n      <td>2399.0</td>\n      <td>-662.0</td>\n      <td>...</td>\n      <td>-132.0</td>\n      <td>628.0</td>\n      <td>-4298.0</td>\n      <td>892.0</td>\n      <td>15.0</td>\n      <td>-1003.0</td>\n      <td>3378.0</td>\n      <td>-113.0</td>\n      <td>115.0</td>\n      <td>-677.0</td>\n    </tr>\n    <tr>\n      <th>1</th>\n      <td>01</td>\n      <td>01</td>\n      <td>2019</td>\n      <td>01:00 -  02:00</td>\n      <td>-2595.0</td>\n      <td>-2201.0</td>\n      <td>903.0</td>\n      <td>-2136.0</td>\n      <td>1853.0</td>\n      <td>-692.0</td>\n      <td>...</td>\n      <td>-122.0</td>\n      <td>444.0</td>\n      <td>-3447.0</td>\n      <td>277.0</td>\n      <td>-738.0</td>\n      <td>-1048.0</td>\n      <td>3255.0</td>\n      <td>4.0</td>\n      <td>243.0</td>\n      <td>-1521.0</td>\n    </tr>\n    <tr>\n      <th>2</th>\n      <td>01</td>\n      <td>01</td>\n      <td>2019</td>\n      <td>02:00 -  03:00</td>\n      <td>-2644.0</td>\n      <td>-1849.0</td>\n      <td>864.0</td>\n      <td>-2381.0</td>\n      <td>1468.0</td>\n      <td>-693.0</td>\n      <td>...</td>\n      <td>-88.0</td>\n      <td>531.0</td>\n      <td>-3416.0</td>\n      <td>28.0</td>\n      <td>-947.0</td>\n      <td>-958.0</td>\n      <td>3098.0</td>\n      <td>-31.0</td>\n      <td>181.0</td>\n      <td>-1824.0</td>\n    </tr>\n    <tr>\n      <th>3</th>\n      <td>01</td>\n      <td>01</td>\n      <td>2019</td>\n      <td>03:00 -  04:00</td>\n      <td>-2611.0</td>\n      <td>-2025.0</td>\n      <td>833.0</td>\n      <td>-2434.0</td>\n      <td>1010.0</td>\n      <td>-620.0</td>\n      <td>...</td>\n      <td>-55.0</td>\n      <td>710.0</td>\n      <td>-3815.0</td>\n      <td>5.0</td>\n      <td>-1381.0</td>\n      <td>-915.0</td>\n      <td>3367.0</td>\n      <td>14.0</td>\n      <td>230.0</td>\n      <td>-1727.0</td>\n    </tr>\n    <tr>\n      <th>4</th>\n      <td>01</td>\n      <td>01</td>\n      <td>2019</td>\n      <td>04:00 -  05:00</td>\n      <td>-2623.0</td>\n      <td>-2085.0</td>\n      <td>777.0</td>\n      <td>-2298.0</td>\n      <td>1056.0</td>\n      <td>-563.0</td>\n      <td>...</td>\n      <td>-35.0</td>\n      <td>720.0</td>\n      <td>-4122.0</td>\n      <td>52.0</td>\n      <td>-1984.0</td>\n      <td>-660.0</td>\n      <td>3522.0</td>\n      <td>6.0</td>\n      <td>83.0</td>\n      <td>-1180.0</td>\n    </tr>\n  </tbody>\n</table>\n<p>5 rows × 32 columns</p>\n</div>"
     },
     "metadata": {},
     "execution_count": 13
    }
   ],
   "source": [
    "crossborder_data.head()"
   ]
  },
  {
   "source": [
    "## Calculate net imports/ net exports of each country in each hour based on generation - load data of the country"
   ],
   "cell_type": "markdown",
   "metadata": {}
  },
  {
   "cell_type": "code",
   "execution_count": 7,
   "metadata": {},
   "outputs": [
    {
     "output_type": "execute_result",
     "data": {
      "text/plain": [
       "  Day Month  Year            Time  AT - [gen - load] AT - import/export  \\\n",
       "0  01    01  2019  00:00 -  01:00              458.0         Net Export   \n",
       "1  01    01  2019  01:00 -  02:00              329.5         Net Export   \n",
       "2  01    01  2019  02:00 -  03:00              -27.0         Net Import   \n",
       "3  01    01  2019  03:00 -  04:00              418.0         Net Export   \n",
       "4  01    01  2019  04:00 -  05:00              319.5         Net Export   \n",
       "\n",
       "   BE - [gen - load] BE - import/export  BG - [gen - load] BG - import/export  \\\n",
       "0           -2747.25         Net Import              826.0         Net Export   \n",
       "1           -2248.75         Net Import              815.0         Net Export   \n",
       "2           -1874.50         Net Import              771.0         Net Export   \n",
       "3           -1686.25         Net Import              851.0         Net Export   \n",
       "4           -1131.25         Net Import              888.0         Net Export   \n",
       "\n",
       "   ...  RS - [gen - load] RS - import/export  SE - [gen - load]  \\\n",
       "0  ...            -1561.0         Net Import             2855.0   \n",
       "1  ...            -1607.0         Net Import             2710.0   \n",
       "2  ...            -1512.0         Net Import             2672.0   \n",
       "3  ...            -1169.0         Net Import             2889.0   \n",
       "4  ...             -835.0         Net Import             3055.0   \n",
       "\n",
       "  SE - import/export  SI - [gen - load] SI - import/export  SK - [gen - load]  \\\n",
       "0         Net Export             -100.0         Net Import              235.0   \n",
       "1         Net Export               18.0         Net Export              240.0   \n",
       "2         Net Export              -17.0         Net Import              322.0   \n",
       "3         Net Export               28.0         Net Export              469.0   \n",
       "4         Net Export               22.0         Net Export              472.0   \n",
       "\n",
       "  SK - import/export  UK - [gen - load] UK - import/export  \n",
       "0         Net Export            -1924.0         Net Import  \n",
       "1         Net Export            -3864.0         Net Import  \n",
       "2         Net Export            -4122.0         Net Import  \n",
       "3         Net Export            -2832.0         Net Import  \n",
       "4         Net Export             -957.0         Net Import  \n",
       "\n",
       "[5 rows x 60 columns]"
      ],
      "text/html": "<div>\n<style scoped>\n    .dataframe tbody tr th:only-of-type {\n        vertical-align: middle;\n    }\n\n    .dataframe tbody tr th {\n        vertical-align: top;\n    }\n\n    .dataframe thead th {\n        text-align: right;\n    }\n</style>\n<table border=\"1\" class=\"dataframe\">\n  <thead>\n    <tr style=\"text-align: right;\">\n      <th></th>\n      <th>Day</th>\n      <th>Month</th>\n      <th>Year</th>\n      <th>Time</th>\n      <th>AT - [gen - load]</th>\n      <th>AT - import/export</th>\n      <th>BE - [gen - load]</th>\n      <th>BE - import/export</th>\n      <th>BG - [gen - load]</th>\n      <th>BG - import/export</th>\n      <th>...</th>\n      <th>RS - [gen - load]</th>\n      <th>RS - import/export</th>\n      <th>SE - [gen - load]</th>\n      <th>SE - import/export</th>\n      <th>SI - [gen - load]</th>\n      <th>SI - import/export</th>\n      <th>SK - [gen - load]</th>\n      <th>SK - import/export</th>\n      <th>UK - [gen - load]</th>\n      <th>UK - import/export</th>\n    </tr>\n  </thead>\n  <tbody>\n    <tr>\n      <th>0</th>\n      <td>01</td>\n      <td>01</td>\n      <td>2019</td>\n      <td>00:00 -  01:00</td>\n      <td>458.0</td>\n      <td>Net Export</td>\n      <td>-2747.25</td>\n      <td>Net Import</td>\n      <td>826.0</td>\n      <td>Net Export</td>\n      <td>...</td>\n      <td>-1561.0</td>\n      <td>Net Import</td>\n      <td>2855.0</td>\n      <td>Net Export</td>\n      <td>-100.0</td>\n      <td>Net Import</td>\n      <td>235.0</td>\n      <td>Net Export</td>\n      <td>-1924.0</td>\n      <td>Net Import</td>\n    </tr>\n    <tr>\n      <th>1</th>\n      <td>01</td>\n      <td>01</td>\n      <td>2019</td>\n      <td>01:00 -  02:00</td>\n      <td>329.5</td>\n      <td>Net Export</td>\n      <td>-2248.75</td>\n      <td>Net Import</td>\n      <td>815.0</td>\n      <td>Net Export</td>\n      <td>...</td>\n      <td>-1607.0</td>\n      <td>Net Import</td>\n      <td>2710.0</td>\n      <td>Net Export</td>\n      <td>18.0</td>\n      <td>Net Export</td>\n      <td>240.0</td>\n      <td>Net Export</td>\n      <td>-3864.0</td>\n      <td>Net Import</td>\n    </tr>\n    <tr>\n      <th>2</th>\n      <td>01</td>\n      <td>01</td>\n      <td>2019</td>\n      <td>02:00 -  03:00</td>\n      <td>-27.0</td>\n      <td>Net Import</td>\n      <td>-1874.50</td>\n      <td>Net Import</td>\n      <td>771.0</td>\n      <td>Net Export</td>\n      <td>...</td>\n      <td>-1512.0</td>\n      <td>Net Import</td>\n      <td>2672.0</td>\n      <td>Net Export</td>\n      <td>-17.0</td>\n      <td>Net Import</td>\n      <td>322.0</td>\n      <td>Net Export</td>\n      <td>-4122.0</td>\n      <td>Net Import</td>\n    </tr>\n    <tr>\n      <th>3</th>\n      <td>01</td>\n      <td>01</td>\n      <td>2019</td>\n      <td>03:00 -  04:00</td>\n      <td>418.0</td>\n      <td>Net Export</td>\n      <td>-1686.25</td>\n      <td>Net Import</td>\n      <td>851.0</td>\n      <td>Net Export</td>\n      <td>...</td>\n      <td>-1169.0</td>\n      <td>Net Import</td>\n      <td>2889.0</td>\n      <td>Net Export</td>\n      <td>28.0</td>\n      <td>Net Export</td>\n      <td>469.0</td>\n      <td>Net Export</td>\n      <td>-2832.0</td>\n      <td>Net Import</td>\n    </tr>\n    <tr>\n      <th>4</th>\n      <td>01</td>\n      <td>01</td>\n      <td>2019</td>\n      <td>04:00 -  05:00</td>\n      <td>319.5</td>\n      <td>Net Export</td>\n      <td>-1131.25</td>\n      <td>Net Import</td>\n      <td>888.0</td>\n      <td>Net Export</td>\n      <td>...</td>\n      <td>-835.0</td>\n      <td>Net Import</td>\n      <td>3055.0</td>\n      <td>Net Export</td>\n      <td>22.0</td>\n      <td>Net Export</td>\n      <td>472.0</td>\n      <td>Net Export</td>\n      <td>-957.0</td>\n      <td>Net Import</td>\n    </tr>\n  </tbody>\n</table>\n<p>5 rows × 60 columns</p>\n</div>"
     },
     "metadata": {},
     "execution_count": 7
    }
   ],
   "source": [
    "import_export_using_load_gen=ii.import_export_using_load_gen(load_data,generation_data,abbr_list)\n",
    "import_export_using_load_gen.head()"
   ]
  },
  {
   "cell_type": "code",
   "execution_count": null,
   "metadata": {},
   "outputs": [],
   "source": []
  }
 ]
}