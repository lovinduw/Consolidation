{
 "metadata": {
  "language_info": {
   "codemirror_mode": {
    "name": "ipython",
    "version": 3
   },
   "file_extension": ".py",
   "mimetype": "text/x-python",
   "name": "python",
   "nbconvert_exporter": "python",
   "pygments_lexer": "ipython3",
   "version": "3.9.1"
  },
  "orig_nbformat": 4,
  "kernelspec": {
   "name": "python3",
   "display_name": "Python 3.9.1 64-bit"
  },
  "interpreter": {
   "hash": "acb9e0cfff3151089362f20c3a81c7531326aa2c5fdbbc2eccac94359104a8e2"
  }
 },
 "nbformat": 4,
 "nbformat_minor": 2,
 "cells": [
  {
   "cell_type": "code",
   "execution_count": 1,
   "metadata": {},
   "outputs": [
    {
     "output_type": "stream",
     "name": "stdout",
     "text": [
      "importing Jupyter notebook from data_preperation.ipynb\n"
     ]
    }
   ],
   "source": [
    "import pandas as pd\n",
    "import numpy as np\n",
    "import import_ipynb\n",
    "import data_preperation as dp"
   ]
  },
  {
   "cell_type": "code",
   "execution_count": 2,
   "metadata": {},
   "outputs": [],
   "source": [
    "countries={ 'Austria': 'AT', 'Belgium': 'BE',  'Bulgaria': 'BG', 'Switzerland': 'CH', 'Czech Republic': 'CZ', 'Croatia': 'HR',  'Germany': 'DE', 'Denmark': 'DK', 'Estonia': 'EE', 'Spain': 'ES', 'Finland': 'FI', 'France': 'FR',  'Greece': 'GR', 'Hungary': 'HU', 'Ireland': 'IE', 'Italy': 'IT', 'Lithuania': 'LT', 'Latvia': 'LV', 'Montenegro': 'ME','Netherlands': 'NL', 'Norway': 'NO', 'Poland': 'PL', 'Portugal': 'PT', 'Serbia': 'RS', 'Sweden': 'SE', 'Slovenia': 'SI', 'Slovakia': 'SK', 'United Kingdom': 'UK'}"
   ]
  },
  {
   "cell_type": "code",
   "execution_count": 7,
   "metadata": {},
   "outputs": [
    {
     "output_type": "execute_result",
     "data": {
      "text/plain": [
       "     Day Month  Year            Time       AT       BE      BG      CH  \\\n",
       "0     01    01  2019  00:00 -  01:00  6075.00  8973.25  4321.0  7037.0   \n",
       "1     01    01  2019  01:00 -  02:00  5852.75  8542.75  4133.0  7096.0   \n",
       "2     01    01  2019  02:00 -  03:00  5619.25  8077.50  3991.0  7244.0   \n",
       "3     01    01  2019  03:00 -  04:00  5324.00  7823.25  3894.0  7443.0   \n",
       "4     01    01  2019  04:00 -  05:00  5273.50  7636.25  3841.0  7353.0   \n",
       "...   ..   ...   ...             ...      ...      ...     ...     ...   \n",
       "8756  31    12  2019  19:00 -  20:00  7150.75  9639.50  5203.0  7655.0   \n",
       "8757  31    12  2019  20:00 -  21:00  6748.00  9368.50  4760.0  7358.0   \n",
       "8758  31    12  2019  21:00 -  22:00  6429.25  9104.50  4613.0  7062.0   \n",
       "8759  31    12  2019  22:00 -  23:00  6492.50  9345.75  4558.0  6828.0   \n",
       "8760  31    12  2019  23:00 -  00:00  6206.00  9391.75  4410.0  6884.0   \n",
       "\n",
       "          CZ      HR  ...     ME        NL       NO       PL      PT      RS  \\\n",
       "0     5719.0  1836.0  ...  418.0  11284.75  15724.0  15012.0  5030.0  5290.0   \n",
       "1     5678.0  1732.0  ...  404.0  11193.75  15623.0  14467.0  4797.0  5282.0   \n",
       "2     5622.0  1623.0  ...  376.0  10933.25  15705.0  13774.0  4650.0  5067.0   \n",
       "3     5475.0  1534.0  ...  349.0  10666.75  15643.0  13406.0  4394.0  4739.0   \n",
       "4     5433.0  1488.0  ...  331.0  10413.25  15612.0  13216.0  4177.0  4445.0   \n",
       "...      ...     ...  ...    ...       ...      ...      ...     ...     ...   \n",
       "8756  6596.0  2521.0  ...  539.0  13517.25  17868.0  18115.0  6895.0  6339.0   \n",
       "8757  6256.0  2359.0  ...  518.0  12799.25  17343.0  16998.0  6790.0  5983.0   \n",
       "8758  6192.0  2252.0  ...  490.0  12064.25  17013.0  16239.0  6194.0  5623.0   \n",
       "8759  6070.0  2112.0  ...  464.0  11641.25  16530.0  15784.0  5708.0  5447.0   \n",
       "8760  5823.0  1963.0  ...  448.0  11417.75  16180.0  15146.0  5486.0  5439.0   \n",
       "\n",
       "           SE      SI      SK       UK  \n",
       "0     14597.0  1164.0  2835.0  27068.5  \n",
       "1     14375.0  1129.0  2744.0  27831.5  \n",
       "2     14153.0  1084.0  2679.0  27634.0  \n",
       "3     13896.0  1038.0  2608.0  25184.5  \n",
       "4     13955.0  1018.0  2602.0  22708.5  \n",
       "...       ...     ...     ...      ...  \n",
       "8756  17367.0  1574.0  3152.0  43441.0  \n",
       "8757  16704.0  1483.0  3080.0  41165.5  \n",
       "8758  16189.0  1366.0  2986.0  38375.5  \n",
       "8759  15975.0  1300.0  2965.0  35579.0  \n",
       "8760  15416.0  1254.0  2980.0  31913.0  \n",
       "\n",
       "[8761 rows x 32 columns]"
      ],
      "text/html": "<div>\n<style scoped>\n    .dataframe tbody tr th:only-of-type {\n        vertical-align: middle;\n    }\n\n    .dataframe tbody tr th {\n        vertical-align: top;\n    }\n\n    .dataframe thead th {\n        text-align: right;\n    }\n</style>\n<table border=\"1\" class=\"dataframe\">\n  <thead>\n    <tr style=\"text-align: right;\">\n      <th></th>\n      <th>Day</th>\n      <th>Month</th>\n      <th>Year</th>\n      <th>Time</th>\n      <th>AT</th>\n      <th>BE</th>\n      <th>BG</th>\n      <th>CH</th>\n      <th>CZ</th>\n      <th>HR</th>\n      <th>...</th>\n      <th>ME</th>\n      <th>NL</th>\n      <th>NO</th>\n      <th>PL</th>\n      <th>PT</th>\n      <th>RS</th>\n      <th>SE</th>\n      <th>SI</th>\n      <th>SK</th>\n      <th>UK</th>\n    </tr>\n  </thead>\n  <tbody>\n    <tr>\n      <th>0</th>\n      <td>01</td>\n      <td>01</td>\n      <td>2019</td>\n      <td>00:00 -  01:00</td>\n      <td>6075.00</td>\n      <td>8973.25</td>\n      <td>4321.0</td>\n      <td>7037.0</td>\n      <td>5719.0</td>\n      <td>1836.0</td>\n      <td>...</td>\n      <td>418.0</td>\n      <td>11284.75</td>\n      <td>15724.0</td>\n      <td>15012.0</td>\n      <td>5030.0</td>\n      <td>5290.0</td>\n      <td>14597.0</td>\n      <td>1164.0</td>\n      <td>2835.0</td>\n      <td>27068.5</td>\n    </tr>\n    <tr>\n      <th>1</th>\n      <td>01</td>\n      <td>01</td>\n      <td>2019</td>\n      <td>01:00 -  02:00</td>\n      <td>5852.75</td>\n      <td>8542.75</td>\n      <td>4133.0</td>\n      <td>7096.0</td>\n      <td>5678.0</td>\n      <td>1732.0</td>\n      <td>...</td>\n      <td>404.0</td>\n      <td>11193.75</td>\n      <td>15623.0</td>\n      <td>14467.0</td>\n      <td>4797.0</td>\n      <td>5282.0</td>\n      <td>14375.0</td>\n      <td>1129.0</td>\n      <td>2744.0</td>\n      <td>27831.5</td>\n    </tr>\n    <tr>\n      <th>2</th>\n      <td>01</td>\n      <td>01</td>\n      <td>2019</td>\n      <td>02:00 -  03:00</td>\n      <td>5619.25</td>\n      <td>8077.50</td>\n      <td>3991.0</td>\n      <td>7244.0</td>\n      <td>5622.0</td>\n      <td>1623.0</td>\n      <td>...</td>\n      <td>376.0</td>\n      <td>10933.25</td>\n      <td>15705.0</td>\n      <td>13774.0</td>\n      <td>4650.0</td>\n      <td>5067.0</td>\n      <td>14153.0</td>\n      <td>1084.0</td>\n      <td>2679.0</td>\n      <td>27634.0</td>\n    </tr>\n    <tr>\n      <th>3</th>\n      <td>01</td>\n      <td>01</td>\n      <td>2019</td>\n      <td>03:00 -  04:00</td>\n      <td>5324.00</td>\n      <td>7823.25</td>\n      <td>3894.0</td>\n      <td>7443.0</td>\n      <td>5475.0</td>\n      <td>1534.0</td>\n      <td>...</td>\n      <td>349.0</td>\n      <td>10666.75</td>\n      <td>15643.0</td>\n      <td>13406.0</td>\n      <td>4394.0</td>\n      <td>4739.0</td>\n      <td>13896.0</td>\n      <td>1038.0</td>\n      <td>2608.0</td>\n      <td>25184.5</td>\n    </tr>\n    <tr>\n      <th>4</th>\n      <td>01</td>\n      <td>01</td>\n      <td>2019</td>\n      <td>04:00 -  05:00</td>\n      <td>5273.50</td>\n      <td>7636.25</td>\n      <td>3841.0</td>\n      <td>7353.0</td>\n      <td>5433.0</td>\n      <td>1488.0</td>\n      <td>...</td>\n      <td>331.0</td>\n      <td>10413.25</td>\n      <td>15612.0</td>\n      <td>13216.0</td>\n      <td>4177.0</td>\n      <td>4445.0</td>\n      <td>13955.0</td>\n      <td>1018.0</td>\n      <td>2602.0</td>\n      <td>22708.5</td>\n    </tr>\n    <tr>\n      <th>...</th>\n      <td>...</td>\n      <td>...</td>\n      <td>...</td>\n      <td>...</td>\n      <td>...</td>\n      <td>...</td>\n      <td>...</td>\n      <td>...</td>\n      <td>...</td>\n      <td>...</td>\n      <td>...</td>\n      <td>...</td>\n      <td>...</td>\n      <td>...</td>\n      <td>...</td>\n      <td>...</td>\n      <td>...</td>\n      <td>...</td>\n      <td>...</td>\n      <td>...</td>\n      <td>...</td>\n    </tr>\n    <tr>\n      <th>8756</th>\n      <td>31</td>\n      <td>12</td>\n      <td>2019</td>\n      <td>19:00 -  20:00</td>\n      <td>7150.75</td>\n      <td>9639.50</td>\n      <td>5203.0</td>\n      <td>7655.0</td>\n      <td>6596.0</td>\n      <td>2521.0</td>\n      <td>...</td>\n      <td>539.0</td>\n      <td>13517.25</td>\n      <td>17868.0</td>\n      <td>18115.0</td>\n      <td>6895.0</td>\n      <td>6339.0</td>\n      <td>17367.0</td>\n      <td>1574.0</td>\n      <td>3152.0</td>\n      <td>43441.0</td>\n    </tr>\n    <tr>\n      <th>8757</th>\n      <td>31</td>\n      <td>12</td>\n      <td>2019</td>\n      <td>20:00 -  21:00</td>\n      <td>6748.00</td>\n      <td>9368.50</td>\n      <td>4760.0</td>\n      <td>7358.0</td>\n      <td>6256.0</td>\n      <td>2359.0</td>\n      <td>...</td>\n      <td>518.0</td>\n      <td>12799.25</td>\n      <td>17343.0</td>\n      <td>16998.0</td>\n      <td>6790.0</td>\n      <td>5983.0</td>\n      <td>16704.0</td>\n      <td>1483.0</td>\n      <td>3080.0</td>\n      <td>41165.5</td>\n    </tr>\n    <tr>\n      <th>8758</th>\n      <td>31</td>\n      <td>12</td>\n      <td>2019</td>\n      <td>21:00 -  22:00</td>\n      <td>6429.25</td>\n      <td>9104.50</td>\n      <td>4613.0</td>\n      <td>7062.0</td>\n      <td>6192.0</td>\n      <td>2252.0</td>\n      <td>...</td>\n      <td>490.0</td>\n      <td>12064.25</td>\n      <td>17013.0</td>\n      <td>16239.0</td>\n      <td>6194.0</td>\n      <td>5623.0</td>\n      <td>16189.0</td>\n      <td>1366.0</td>\n      <td>2986.0</td>\n      <td>38375.5</td>\n    </tr>\n    <tr>\n      <th>8759</th>\n      <td>31</td>\n      <td>12</td>\n      <td>2019</td>\n      <td>22:00 -  23:00</td>\n      <td>6492.50</td>\n      <td>9345.75</td>\n      <td>4558.0</td>\n      <td>6828.0</td>\n      <td>6070.0</td>\n      <td>2112.0</td>\n      <td>...</td>\n      <td>464.0</td>\n      <td>11641.25</td>\n      <td>16530.0</td>\n      <td>15784.0</td>\n      <td>5708.0</td>\n      <td>5447.0</td>\n      <td>15975.0</td>\n      <td>1300.0</td>\n      <td>2965.0</td>\n      <td>35579.0</td>\n    </tr>\n    <tr>\n      <th>8760</th>\n      <td>31</td>\n      <td>12</td>\n      <td>2019</td>\n      <td>23:00 -  00:00</td>\n      <td>6206.00</td>\n      <td>9391.75</td>\n      <td>4410.0</td>\n      <td>6884.0</td>\n      <td>5823.0</td>\n      <td>1963.0</td>\n      <td>...</td>\n      <td>448.0</td>\n      <td>11417.75</td>\n      <td>16180.0</td>\n      <td>15146.0</td>\n      <td>5486.0</td>\n      <td>5439.0</td>\n      <td>15416.0</td>\n      <td>1254.0</td>\n      <td>2980.0</td>\n      <td>31913.0</td>\n    </tr>\n  </tbody>\n</table>\n<p>8761 rows × 32 columns</p>\n</div>"
     },
     "metadata": {},
     "execution_count": 7
    }
   ],
   "source": [
    "load_data=dp.load(countries)\n",
    "load_data"
   ]
  },
  {
   "cell_type": "code",
   "execution_count": 8,
   "metadata": {},
   "outputs": [
    {
     "output_type": "execute_result",
     "data": {
      "text/plain": [
       "     Day Month  Year            Time  AT - Biomass  AT - Fossil Gas  \\\n",
       "0     01    01  2019  00:00 -  01:00         304.0          1269.75   \n",
       "1     01    01  2019  01:00 -  02:00         304.0           935.25   \n",
       "2     01    01  2019  02:00 -  03:00         304.0           611.00   \n",
       "3     01    01  2019  03:00 -  04:00         304.0           568.00   \n",
       "4     01    01  2019  04:00 -  05:00         302.0           443.50   \n",
       "...   ..   ...   ...             ...           ...              ...   \n",
       "8756  31    12  2019  19:00 -  20:00         220.0          1797.50   \n",
       "8757  31    12  2019  20:00 -  21:00         220.0          1805.25   \n",
       "8758  31    12  2019  21:00 -  22:00         220.0          1778.00   \n",
       "8759  31    12  2019  22:00 -  23:00         218.0          1710.50   \n",
       "8760  31    12  2019  23:00 -  00:00         217.0          1650.00   \n",
       "\n",
       "      AT - Fossil Hard coal  AT - Fossil Oil  AT - Geothermal  \\\n",
       "0                    155.50              0.0              0.0   \n",
       "1                    154.75              0.0              0.0   \n",
       "2                    155.25              0.0              0.0   \n",
       "3                    155.25              0.0              0.0   \n",
       "4                    154.25              0.0              0.0   \n",
       "...                     ...              ...              ...   \n",
       "8756                 162.50              0.0              0.0   \n",
       "8757                 162.00              0.0              0.0   \n",
       "8758                 163.25              0.0              0.0   \n",
       "8759                 153.75              0.0              0.0   \n",
       "8760                 144.75              0.0              0.0   \n",
       "\n",
       "      AT - Hydro Pumped Storage  ...  UK - Fossil Oil  \\\n",
       "0                          0.00  ...              3.0   \n",
       "1                          0.00  ...              0.0   \n",
       "2                          0.00  ...              0.0   \n",
       "3                          0.00  ...              0.0   \n",
       "4                          0.00  ...              0.0   \n",
       "...                         ...  ...              ...   \n",
       "8756                    1473.75  ...              0.0   \n",
       "8757                     676.00  ...              0.0   \n",
       "8758                     341.00  ...              0.0   \n",
       "8759                     183.00  ...              0.0   \n",
       "8760                     194.75  ...              0.0   \n",
       "\n",
       "      UK - Hydro Pumped Storage  UK - Hydro Pumped Storage   \\\n",
       "0                           0.0                         NaN   \n",
       "1                          52.5                         NaN   \n",
       "2                           0.0                         NaN   \n",
       "3                           0.0                         NaN   \n",
       "4                           0.0                         NaN   \n",
       "...                         ...                         ...   \n",
       "8756                     1051.0                         NaN   \n",
       "8757                        0.0                         NaN   \n",
       "8758                        0.0                         NaN   \n",
       "8759                        0.0                         NaN   \n",
       "8760                        0.0                         NaN   \n",
       "\n",
       "      UK - Hydro Run-of-river and poundage  UK - Nuclear  UK - Other  \\\n",
       "0                                    428.5        6941.5        66.0   \n",
       "1                                    404.0        6899.0        64.0   \n",
       "2                                    373.5        6830.5        63.0   \n",
       "3                                    349.0        6826.0        63.0   \n",
       "4                                    324.5        6818.0        64.0   \n",
       "...                                    ...           ...         ...   \n",
       "8756                                 931.0        6957.0       194.5   \n",
       "8757                                 863.5        6956.5       155.0   \n",
       "8758                                 824.0        6960.0       127.0   \n",
       "8759                                 701.0        6962.0       124.5   \n",
       "8760                                 651.0        6960.0       126.0   \n",
       "\n",
       "      UK - Solar  UK - Wind Offshore  UK - Wind Onshore  UK - Total  \n",
       "0            0.0              3131.0             6527.5     25144.5  \n",
       "1            0.0              3198.0             6201.5     23967.5  \n",
       "2            0.0              3277.5             6095.0     23512.0  \n",
       "3            0.0              3158.0             5736.5     22352.5  \n",
       "4            0.0              2985.0             5357.0     21751.5  \n",
       "...          ...                 ...                ...         ...  \n",
       "8756         0.0              1823.5             3011.5     36604.0  \n",
       "8757         0.0              1843.5             3122.5     34348.0  \n",
       "8758         0.0              1960.5             3269.0     31251.5  \n",
       "8759         0.0              1793.0             3606.0     28597.0  \n",
       "8760         0.0              2081.5             3783.5     27646.0  \n",
       "\n",
       "[8761 rows x 329 columns]"
      ],
      "text/html": "<div>\n<style scoped>\n    .dataframe tbody tr th:only-of-type {\n        vertical-align: middle;\n    }\n\n    .dataframe tbody tr th {\n        vertical-align: top;\n    }\n\n    .dataframe thead th {\n        text-align: right;\n    }\n</style>\n<table border=\"1\" class=\"dataframe\">\n  <thead>\n    <tr style=\"text-align: right;\">\n      <th></th>\n      <th>Day</th>\n      <th>Month</th>\n      <th>Year</th>\n      <th>Time</th>\n      <th>AT - Biomass</th>\n      <th>AT - Fossil Gas</th>\n      <th>AT - Fossil Hard coal</th>\n      <th>AT - Fossil Oil</th>\n      <th>AT - Geothermal</th>\n      <th>AT - Hydro Pumped Storage</th>\n      <th>...</th>\n      <th>UK - Fossil Oil</th>\n      <th>UK - Hydro Pumped Storage</th>\n      <th>UK - Hydro Pumped Storage</th>\n      <th>UK - Hydro Run-of-river and poundage</th>\n      <th>UK - Nuclear</th>\n      <th>UK - Other</th>\n      <th>UK - Solar</th>\n      <th>UK - Wind Offshore</th>\n      <th>UK - Wind Onshore</th>\n      <th>UK - Total</th>\n    </tr>\n  </thead>\n  <tbody>\n    <tr>\n      <th>0</th>\n      <td>01</td>\n      <td>01</td>\n      <td>2019</td>\n      <td>00:00 -  01:00</td>\n      <td>304.0</td>\n      <td>1269.75</td>\n      <td>155.50</td>\n      <td>0.0</td>\n      <td>0.0</td>\n      <td>0.00</td>\n      <td>...</td>\n      <td>3.0</td>\n      <td>0.0</td>\n      <td>NaN</td>\n      <td>428.5</td>\n      <td>6941.5</td>\n      <td>66.0</td>\n      <td>0.0</td>\n      <td>3131.0</td>\n      <td>6527.5</td>\n      <td>25144.5</td>\n    </tr>\n    <tr>\n      <th>1</th>\n      <td>01</td>\n      <td>01</td>\n      <td>2019</td>\n      <td>01:00 -  02:00</td>\n      <td>304.0</td>\n      <td>935.25</td>\n      <td>154.75</td>\n      <td>0.0</td>\n      <td>0.0</td>\n      <td>0.00</td>\n      <td>...</td>\n      <td>0.0</td>\n      <td>52.5</td>\n      <td>NaN</td>\n      <td>404.0</td>\n      <td>6899.0</td>\n      <td>64.0</td>\n      <td>0.0</td>\n      <td>3198.0</td>\n      <td>6201.5</td>\n      <td>23967.5</td>\n    </tr>\n    <tr>\n      <th>2</th>\n      <td>01</td>\n      <td>01</td>\n      <td>2019</td>\n      <td>02:00 -  03:00</td>\n      <td>304.0</td>\n      <td>611.00</td>\n      <td>155.25</td>\n      <td>0.0</td>\n      <td>0.0</td>\n      <td>0.00</td>\n      <td>...</td>\n      <td>0.0</td>\n      <td>0.0</td>\n      <td>NaN</td>\n      <td>373.5</td>\n      <td>6830.5</td>\n      <td>63.0</td>\n      <td>0.0</td>\n      <td>3277.5</td>\n      <td>6095.0</td>\n      <td>23512.0</td>\n    </tr>\n    <tr>\n      <th>3</th>\n      <td>01</td>\n      <td>01</td>\n      <td>2019</td>\n      <td>03:00 -  04:00</td>\n      <td>304.0</td>\n      <td>568.00</td>\n      <td>155.25</td>\n      <td>0.0</td>\n      <td>0.0</td>\n      <td>0.00</td>\n      <td>...</td>\n      <td>0.0</td>\n      <td>0.0</td>\n      <td>NaN</td>\n      <td>349.0</td>\n      <td>6826.0</td>\n      <td>63.0</td>\n      <td>0.0</td>\n      <td>3158.0</td>\n      <td>5736.5</td>\n      <td>22352.5</td>\n    </tr>\n    <tr>\n      <th>4</th>\n      <td>01</td>\n      <td>01</td>\n      <td>2019</td>\n      <td>04:00 -  05:00</td>\n      <td>302.0</td>\n      <td>443.50</td>\n      <td>154.25</td>\n      <td>0.0</td>\n      <td>0.0</td>\n      <td>0.00</td>\n      <td>...</td>\n      <td>0.0</td>\n      <td>0.0</td>\n      <td>NaN</td>\n      <td>324.5</td>\n      <td>6818.0</td>\n      <td>64.0</td>\n      <td>0.0</td>\n      <td>2985.0</td>\n      <td>5357.0</td>\n      <td>21751.5</td>\n    </tr>\n    <tr>\n      <th>...</th>\n      <td>...</td>\n      <td>...</td>\n      <td>...</td>\n      <td>...</td>\n      <td>...</td>\n      <td>...</td>\n      <td>...</td>\n      <td>...</td>\n      <td>...</td>\n      <td>...</td>\n      <td>...</td>\n      <td>...</td>\n      <td>...</td>\n      <td>...</td>\n      <td>...</td>\n      <td>...</td>\n      <td>...</td>\n      <td>...</td>\n      <td>...</td>\n      <td>...</td>\n      <td>...</td>\n    </tr>\n    <tr>\n      <th>8756</th>\n      <td>31</td>\n      <td>12</td>\n      <td>2019</td>\n      <td>19:00 -  20:00</td>\n      <td>220.0</td>\n      <td>1797.50</td>\n      <td>162.50</td>\n      <td>0.0</td>\n      <td>0.0</td>\n      <td>1473.75</td>\n      <td>...</td>\n      <td>0.0</td>\n      <td>1051.0</td>\n      <td>NaN</td>\n      <td>931.0</td>\n      <td>6957.0</td>\n      <td>194.5</td>\n      <td>0.0</td>\n      <td>1823.5</td>\n      <td>3011.5</td>\n      <td>36604.0</td>\n    </tr>\n    <tr>\n      <th>8757</th>\n      <td>31</td>\n      <td>12</td>\n      <td>2019</td>\n      <td>20:00 -  21:00</td>\n      <td>220.0</td>\n      <td>1805.25</td>\n      <td>162.00</td>\n      <td>0.0</td>\n      <td>0.0</td>\n      <td>676.00</td>\n      <td>...</td>\n      <td>0.0</td>\n      <td>0.0</td>\n      <td>NaN</td>\n      <td>863.5</td>\n      <td>6956.5</td>\n      <td>155.0</td>\n      <td>0.0</td>\n      <td>1843.5</td>\n      <td>3122.5</td>\n      <td>34348.0</td>\n    </tr>\n    <tr>\n      <th>8758</th>\n      <td>31</td>\n      <td>12</td>\n      <td>2019</td>\n      <td>21:00 -  22:00</td>\n      <td>220.0</td>\n      <td>1778.00</td>\n      <td>163.25</td>\n      <td>0.0</td>\n      <td>0.0</td>\n      <td>341.00</td>\n      <td>...</td>\n      <td>0.0</td>\n      <td>0.0</td>\n      <td>NaN</td>\n      <td>824.0</td>\n      <td>6960.0</td>\n      <td>127.0</td>\n      <td>0.0</td>\n      <td>1960.5</td>\n      <td>3269.0</td>\n      <td>31251.5</td>\n    </tr>\n    <tr>\n      <th>8759</th>\n      <td>31</td>\n      <td>12</td>\n      <td>2019</td>\n      <td>22:00 -  23:00</td>\n      <td>218.0</td>\n      <td>1710.50</td>\n      <td>153.75</td>\n      <td>0.0</td>\n      <td>0.0</td>\n      <td>183.00</td>\n      <td>...</td>\n      <td>0.0</td>\n      <td>0.0</td>\n      <td>NaN</td>\n      <td>701.0</td>\n      <td>6962.0</td>\n      <td>124.5</td>\n      <td>0.0</td>\n      <td>1793.0</td>\n      <td>3606.0</td>\n      <td>28597.0</td>\n    </tr>\n    <tr>\n      <th>8760</th>\n      <td>31</td>\n      <td>12</td>\n      <td>2019</td>\n      <td>23:00 -  00:00</td>\n      <td>217.0</td>\n      <td>1650.00</td>\n      <td>144.75</td>\n      <td>0.0</td>\n      <td>0.0</td>\n      <td>194.75</td>\n      <td>...</td>\n      <td>0.0</td>\n      <td>0.0</td>\n      <td>NaN</td>\n      <td>651.0</td>\n      <td>6960.0</td>\n      <td>126.0</td>\n      <td>0.0</td>\n      <td>2081.5</td>\n      <td>3783.5</td>\n      <td>27646.0</td>\n    </tr>\n  </tbody>\n</table>\n<p>8761 rows × 329 columns</p>\n</div>"
     },
     "metadata": {},
     "execution_count": 8
    }
   ],
   "source": [
    "generation_data=dp.generation(countries)\n",
    "generation_data"
   ]
  },
  {
   "cell_type": "code",
   "execution_count": null,
   "metadata": {},
   "outputs": [],
   "source": []
  }
 ]
}