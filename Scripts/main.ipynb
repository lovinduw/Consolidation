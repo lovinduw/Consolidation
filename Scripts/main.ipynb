{
 "cells": [
  {
   "cell_type": "code",
   "execution_count": 1,
   "source": [
    "import pandas as pd\r\n",
    "import numpy as np\r\n",
    "from IPython.display import display\r\n",
    "import import_ipynb\r\n",
    "import copy\r\n",
    "import data_preperation as dp\r\n",
    "import internal_inconsistencies as ii\r\n",
    "import external_inconsistencies as ei\r\n"
   ],
   "outputs": [
    {
     "output_type": "stream",
     "name": "stdout",
     "text": [
      "importing Jupyter notebook from data_preperation.ipynb\n",
      "importing Jupyter notebook from internal_inconsistencies.ipynb\n",
      "importing Jupyter notebook from external_inconsistencies.ipynb\n"
     ]
    }
   ],
   "metadata": {}
  },
  {
   "cell_type": "code",
   "execution_count": 2,
   "source": [
<<<<<<< HEAD
    "countries={ 'Austria': 'AT', 'Belgium': 'BE',  'Bulgaria': 'BG', 'Switzerland': 'CH', 'Czech Republic': 'CZ', 'Germany': 'DE', 'Denmark': 'DK', 'Estonia': 'EE', 'Spain': 'ES', 'Finland': 'FI', 'France': 'FR', 'United Kingdom': 'GB',  'Greece': 'GR', 'Hungary': 'HU', 'Ireland': 'IE', 'Italy': 'IT', 'Lithuania': 'LT', 'Latvia': 'LV', 'Montenegro': 'ME','Netherlands': 'NL', 'Norway': 'NO', 'Poland': 'PL', 'Portugal': 'PT', 'Serbia': 'RS', 'Sweden': 'SE', 'Slovenia': 'SI', 'Slovakia': 'SK'}\r\n",
=======
    "countries={ 'Austria': 'AT', 'Belgium': 'BE',  'Bulgaria': 'BG', 'Switzerland': 'CH', 'Czech Republic': 'CZ', 'Germany': 'DE', 'Denmark': 'DK', 'Estonia': 'EE', 'Spain': 'ES', 'Finland': 'FI', 'France': 'FR',  'Greece': 'GR', 'Hungary': 'HU', 'Ireland': 'IE', 'Italy': 'IT', 'Lithuania': 'LT', 'Latvia': 'LV', 'Montenegro': 'ME','Netherlands': 'NL', 'Norway': 'NO', 'Poland': 'PL', 'Portugal': 'PT', 'Serbia': 'RS', 'Sweden': 'SE', 'Slovenia': 'SI', 'Slovakia': 'SK', 'United Kingdom': 'GB'}\r\n",
>>>>>>> ac7687d690a410fc6bb9065c8fe5e295d4acb087
    "abbr_list=list(countries.values())"
   ],
   "outputs": [],
   "metadata": {}
  },
  {
   "cell_type": "markdown",
   "source": [
    "# 1. Data mismatches in ENTSO-E data"
   ],
   "metadata": {}
  },
  {
   "cell_type": "markdown",
   "source": [
    "## 1.1 Calculating missing values in data files"
   ],
   "metadata": {}
  },
  {
   "cell_type": "code",
   "execution_count": 3,
   "source": [
    "generation_load_missing_data, transmission_missing_data, mismatch_data = ii.mismatch_raw_data(countries)"
   ],
   "outputs": [
    {
     "output_type": "display_data",
     "data": {
      "text/plain": [
       "   Country demand Biomass Fossil Brown coal/Lignite Fossil Coal-derived gas  \\\n",
<<<<<<< HEAD
       "0       AT      0       0                         0                       0   \n",
       "1       BE      0       0                         0                       0   \n",
       "2       BG     25       0                         0                       0   \n",
       "3       CH      0       0                         0                       0   \n",
       "4       CZ      7       2                         2                       2   \n",
       "5       DE      0       0                         0                   34848   \n",
       "6       DK      0       0                         0                       0   \n",
       "7       EE    144     206                         0                     206   \n",
       "8       ES      2       1                         1                       1   \n",
       "9       FI      3       2                         0                       0   \n",
       "10      FR     18       4                         0                       0   \n",
       "11      GR      2       0                         3                       0   \n",
       "12      HU      0       0                         0                       0   \n",
       "13      IE     18       0                         0                       0   \n",
       "14      IT      0       9                         0                       9   \n",
       "15      LT     67      33                         0                       0   \n",
       "16      LV      6      10                         0                       0   \n",
       "17      ME      0       0                         0                       0   \n",
       "18      NL      0       0                         0                       0   \n",
       "19      NO      0       0                         0                       0   \n",
       "20      PL      1       0                         0                       0   \n",
       "21      PT      0       0                         0                       0   \n",
       "22      RS      1      33                        33                       0   \n",
       "23      SE      0       0                         0                       0   \n",
       "24      SI      0       1                         1                       0   \n",
       "25      SK      0      97                        97                       0   \n",
       "26      GB      8      58                         0                       0   \n",
       "\n",
       "   Fossil Gas Fossil Hard coal Fossil Oil Fossil Oil shale Fossil Peat  ...  \\\n",
       "0           0                0          0                0           0  ...   \n",
       "1           0                0          0                0           0  ...   \n",
       "2           0                0          0                0           0  ...   \n",
       "3           0                0          0                0           0  ...   \n",
       "4           2                2          5                0           0  ...   \n",
       "5           0                0          0                0           0  ...   \n",
       "6           0                0          0                0           0  ...   \n",
       "7         206                0          0              206         206  ...   \n",
       "8           1                1          1                1           1  ...   \n",
       "9           3                3          3                0           2  ...   \n",
       "10          4              842          4                0           0  ...   \n",
       "11          3                0          3                0           0  ...   \n",
       "12          0                0      11089                0           0  ...   \n",
       "13         52               52         52                0          52  ...   \n",
       "14          9                9          9                0           0  ...   \n",
       "15         33                0          0                0           0  ...   \n",
       "16         10                0          0                0           0  ...   \n",
       "17          0                0          0                0           0  ...   \n",
       "18          0               10          0                0           0  ...   \n",
       "19          1                0          0                0           0  ...   \n",
       "20          0                0          0                0           0  ...   \n",
       "21          0                0          0                0           0  ...   \n",
       "22         33                0          0                0           0  ...   \n",
       "23          0                0          0                0           0  ...   \n",
       "24          1                0          1                0           0  ...   \n",
       "25         97               97         97                0           0  ...   \n",
       "26         64               64         64                0           0  ...   \n",
       "\n",
       "   Hydro Water Reservoir Marine Nuclear Other Other renewable Solar Waste  \\\n",
       "0                      0      0       0     0               0     0     0   \n",
       "1                      0      0       0     0               0     0     0   \n",
       "2                      0      0       0     0               0     0     0   \n",
       "3                      0      0       0     0               0     0     0   \n",
       "4                      3      0       2     2               2     4     5   \n",
       "5                      0      0       0     0               0     0     0   \n",
       "6                      0      0       0     0               0     0     0   \n",
       "7                      0      0       0   206             206   206   206   \n",
       "8                      1      1       1     1               1     1     1   \n",
       "9                      0      0       2     2               3     0     3   \n",
       "10                     4      0       4     0               0     3     4   \n",
       "11                     0      0       0     0               0     2     0   \n",
       "12                    18      0       0     0               0     0     0   \n",
       "13                     0      0       0    52               0     0     0   \n",
       "14                     9      0       0   177               0     9     9   \n",
       "15                     0      0       0    33               0    33    33   \n",
       "16                     0      0       0    10               0     0     0   \n",
       "17                     0      0       0     0            3623     0     0   \n",
       "18                     0      0       0    10               0     0     0   \n",
       "19                     1      0       0     5               0     0     0   \n",
       "20                     0      0       0     0               0     0     0   \n",
       "21                     0      0       0     0               0     0     0   \n",
       "22                    33      0       0     9               0     0     0   \n",
       "23                     0      0       0     0               0     0     0   \n",
       "24                     0      0       1     0               0     1     1   \n",
       "25                  1755      0      97    97              97    97     0   \n",
       "26                     0      0      58    64               0     5     0   \n",
       "\n",
       "   Wind Offshore Wind Onshore Total missing generation data  \n",
       "0              0            0                             0  \n",
       "1            836            0                          8027  \n",
       "2              0            0                          8760  \n",
       "3              0            0                          8760  \n",
       "4              0            2                            44  \n",
       "5              0            0                         34848  \n",
       "6              0            0                             0  \n",
       "7              0          206                          2266  \n",
       "8              1            1                          8780  \n",
       "9              0            2                            28  \n",
       "10             0            4                          9641  \n",
       "11             0            2                          8773  \n",
       "12             0         1016                         12123  \n",
       "13             0           10                         15062  \n",
       "14             0            9                          3538  \n",
       "15             0           33                           297  \n",
       "16             0           10                            50  \n",
       "17             0         3623                          7246  \n",
       "18             2            2                          8635  \n",
       "19             0            1                             9  \n",
       "20             0            0                          8760  \n",
       "21             0            0                             0  \n",
       "22             0            0                          8943  \n",
       "23             0            1                             1  \n",
       "24             0            1                          8770  \n",
       "25             0           97                         11679  \n",
       "26             5           11                         18029  \n",
=======
       "0       AT      0       0                       n/e                     n/e   \n",
       "1       BE      0       0                       n/e                     n/e   \n",
       "2       BG     25       0                         0                     n/e   \n",
       "3       CH      0     n/e                       n/e                     n/e   \n",
       "4       CZ      7       2                         2                       2   \n",
       "5       DE      0       0                         0                   34848   \n",
       "6       DK      0       0                       n/e                     n/e   \n",
       "7       EE    144     206                       n/e                     206   \n",
       "8       ES      2       1                         1                       1   \n",
       "9       FI      3       2                       n/e                     n/e   \n",
       "10      FR     18       4                       n/e                     n/e   \n",
       "11      GR      2     n/e                         3                     n/e   \n",
       "12      HU      0       0                         0                     n/e   \n",
       "13      IE     18     n/e                       n/e                     n/e   \n",
       "14      IT      0       9                       n/e                       9   \n",
       "15      LT     67      33                       n/e                     n/e   \n",
       "16      LV      6      10                       n/e                     n/e   \n",
       "17      ME      0     n/e                         0                     n/e   \n",
       "18      NL      0       0                       n/e                     n/e   \n",
       "19      NO      0     n/e                       n/e                     n/e   \n",
       "20      PL      1       0                         0                       0   \n",
       "21      PT      0       0                       n/e                     n/e   \n",
       "22      RS      1      33                        33                     n/e   \n",
       "23      SE      0     n/e                       n/e                     n/e   \n",
       "24      SI      0       1                         1                     n/e   \n",
       "25      SK      0      97                        97                     n/e   \n",
       "26      GB      8      58                       n/e                     n/e   \n",
       "\n",
       "   Fossil Gas Fossil Hard coal Fossil Oil Fossil Oil shale Fossil Peat  ...  \\\n",
       "0           0                0        n/e              n/e         n/e  ...   \n",
       "1           0              n/e          0              n/e         n/e  ...   \n",
       "2           0                0        n/e              n/e         n/e  ...   \n",
       "3         n/e              n/e        n/e              n/e         n/e  ...   \n",
       "4           2                2          5              n/e         n/e  ...   \n",
       "5           0                0          0              n/e         n/e  ...   \n",
       "6           0                0          0              n/e         n/e  ...   \n",
       "7         206              n/e        n/e              206         206  ...   \n",
       "8           1                1          1                1           1  ...   \n",
       "9           3                3          3              n/e           2  ...   \n",
       "10          4              842          4              n/e         n/e  ...   \n",
       "11          3              n/e          3              n/e         n/e  ...   \n",
       "12          0              n/e      11089              n/e         n/e  ...   \n",
       "13         52               52         52              n/e          52  ...   \n",
       "14          9                9          9              n/e         n/e  ...   \n",
       "15         33              n/e        n/e              n/e         n/e  ...   \n",
       "16         10              n/e        n/e              n/e         n/e  ...   \n",
       "17        n/e              n/e        n/e              n/e         n/e  ...   \n",
       "18          0               10        n/e              n/e         n/e  ...   \n",
       "19          1              n/e        n/e              n/e         n/e  ...   \n",
       "20          0                0          0              n/e         n/e  ...   \n",
       "21          0                0        n/e              n/e         n/e  ...   \n",
       "22         33              n/e        n/e              n/e         n/e  ...   \n",
       "23        n/e              n/e        n/e              n/e         n/e  ...   \n",
       "24          1              n/e          1              n/e         n/e  ...   \n",
       "25         97               97         97              n/e         n/e  ...   \n",
       "26         64               64         64              n/e         n/e  ...   \n",
       "\n",
       "   Hydro Water Reservoir Marine Nuclear Other Other renewable Solar Waste  \\\n",
       "0                      0    n/e     n/e     0             n/e     0     0   \n",
       "1                    n/e    n/e       0     0             n/e     0     0   \n",
       "2                      0    n/e       0   n/e             n/e     0     0   \n",
       "3                      0    n/e       0   n/e             n/e     0   n/e   \n",
       "4                      3    n/e       2     2               2     4     5   \n",
       "5                      0    n/e       0     0               0     0     0   \n",
       "6                    n/e    n/e     n/e   n/e             n/e     0     0   \n",
       "7                    n/e    n/e     n/e   206             206   206   206   \n",
       "8                      1      1       1     1               1     1     1   \n",
       "9                    n/e    n/e       2     2               3   n/e     3   \n",
       "10                     4    n/e       4   n/e             n/e     3     4   \n",
       "11                   n/e    n/e     n/e   n/e             n/e     2   n/e   \n",
       "12                    18    n/e       0     0               0   n/e     0   \n",
       "13                   n/e    n/e     n/e    52             n/e   n/e   n/e   \n",
       "14                     9    n/e     n/e   177             n/e     9     9   \n",
       "15                   n/e    n/e     n/e    33             n/e    33    33   \n",
       "16                   n/e    n/e     n/e    10             n/e   n/e   n/e   \n",
       "17                     0    n/e     n/e   n/e            3623   n/e   n/e   \n",
       "18                   n/e    n/e       0    10             n/e     0     0   \n",
       "19                     1    n/e     n/e     5             n/e   n/e   n/e   \n",
       "20                     0    n/e     n/e   n/e             n/e   n/e   n/e   \n",
       "21                     0    n/e     n/e     0             n/e     0   n/e   \n",
       "22                    33    n/e     n/e     9             n/e   n/e   n/e   \n",
       "23                     0    n/e       0     0             n/e   n/e   n/e   \n",
       "24                   n/e    n/e       1   n/e             n/e     1     1   \n",
       "25                  1755    n/e      97    97              97    97   n/e   \n",
       "26                   n/e    n/e      58    64             n/e     5   n/e   \n",
       "\n",
       "   Wind Offshore Wind Onshore Total missing generation data  \n",
       "0            n/e            0                           0.0  \n",
       "1            836            0                        4993.0  \n",
       "2            n/e            0                           0.0  \n",
       "3            n/e            0                           0.0  \n",
       "4            n/e            2                          41.0  \n",
       "5              0            0                       34848.0  \n",
       "6              0            0                           0.0  \n",
       "7            n/e          206                        2266.0  \n",
       "8              1            1                        8779.0  \n",
       "9            n/e            2                          28.0  \n",
       "10           n/e            4                        4724.0  \n",
       "11           n/e            2                        8773.0  \n",
       "12           n/e         1016                       12123.0  \n",
       "13           n/e           10                         374.0  \n",
       "14           n/e            9                         286.0  \n",
       "15           n/e           33                         264.0  \n",
       "16           n/e           10                          50.0  \n",
       "17           n/e         3623                        7246.0  \n",
       "18             2            2                        8635.0  \n",
       "19           n/e            1                           9.0  \n",
       "20           n/e            0                           0.0  \n",
       "21           n/e            0                           0.0  \n",
       "22           n/e          n/e                         183.0  \n",
       "23           n/e            1                           1.0  \n",
       "24           n/e            1                          10.0  \n",
       "25           n/e           97                        5259.0  \n",
       "26             5           11                         509.0  \n",
>>>>>>> ac7687d690a410fc6bb9065c8fe5e295d4acb087
       "\n",
       "[27 rows x 24 columns]"
      ],
      "text/html": [
       "<div>\n",
       "<style scoped>\n",
       "    .dataframe tbody tr th:only-of-type {\n",
       "        vertical-align: middle;\n",
       "    }\n",
       "\n",
       "    .dataframe tbody tr th {\n",
       "        vertical-align: top;\n",
       "    }\n",
       "\n",
       "    .dataframe thead th {\n",
       "        text-align: right;\n",
       "    }\n",
       "</style>\n",
       "<table border=\"1\" class=\"dataframe\">\n",
       "  <thead>\n",
       "    <tr style=\"text-align: right;\">\n",
       "      <th></th>\n",
       "      <th>Country</th>\n",
       "      <th>demand</th>\n",
       "      <th>Biomass</th>\n",
       "      <th>Fossil Brown coal/Lignite</th>\n",
       "      <th>Fossil Coal-derived gas</th>\n",
       "      <th>Fossil Gas</th>\n",
       "      <th>Fossil Hard coal</th>\n",
       "      <th>Fossil Oil</th>\n",
       "      <th>Fossil Oil shale</th>\n",
       "      <th>Fossil Peat</th>\n",
       "      <th>...</th>\n",
       "      <th>Hydro Water Reservoir</th>\n",
       "      <th>Marine</th>\n",
       "      <th>Nuclear</th>\n",
       "      <th>Other</th>\n",
       "      <th>Other renewable</th>\n",
       "      <th>Solar</th>\n",
       "      <th>Waste</th>\n",
       "      <th>Wind Offshore</th>\n",
       "      <th>Wind Onshore</th>\n",
       "      <th>Total missing generation data</th>\n",
       "    </tr>\n",
       "  </thead>\n",
       "  <tbody>\n",
       "    <tr>\n",
       "      <th>0</th>\n",
       "      <td>AT</td>\n",
       "      <td>0</td>\n",
       "      <td>0</td>\n",
<<<<<<< HEAD
       "      <td>0</td>\n",
       "      <td>0</td>\n",
       "      <td>0</td>\n",
       "      <td>0</td>\n",
       "      <td>0</td>\n",
       "      <td>0</td>\n",
       "      <td>0</td>\n",
       "      <td>...</td>\n",
       "      <td>0</td>\n",
       "      <td>0</td>\n",
       "      <td>0</td>\n",
       "      <td>0</td>\n",
       "      <td>0</td>\n",
       "      <td>0</td>\n",
       "      <td>0</td>\n",
       "      <td>0</td>\n",
       "      <td>0</td>\n",
       "      <td>0</td>\n",
=======
       "      <td>n/e</td>\n",
       "      <td>n/e</td>\n",
       "      <td>0</td>\n",
       "      <td>0</td>\n",
       "      <td>n/e</td>\n",
       "      <td>n/e</td>\n",
       "      <td>n/e</td>\n",
       "      <td>...</td>\n",
       "      <td>0</td>\n",
       "      <td>n/e</td>\n",
       "      <td>n/e</td>\n",
       "      <td>0</td>\n",
       "      <td>n/e</td>\n",
       "      <td>0</td>\n",
       "      <td>0</td>\n",
       "      <td>n/e</td>\n",
       "      <td>0</td>\n",
       "      <td>0.0</td>\n",
>>>>>>> ac7687d690a410fc6bb9065c8fe5e295d4acb087
       "    </tr>\n",
       "    <tr>\n",
       "      <th>1</th>\n",
       "      <td>BE</td>\n",
       "      <td>0</td>\n",
       "      <td>0</td>\n",
<<<<<<< HEAD
       "      <td>0</td>\n",
       "      <td>0</td>\n",
       "      <td>0</td>\n",
       "      <td>0</td>\n",
       "      <td>0</td>\n",
       "      <td>0</td>\n",
       "      <td>0</td>\n",
       "      <td>...</td>\n",
       "      <td>0</td>\n",
       "      <td>0</td>\n",
       "      <td>0</td>\n",
       "      <td>0</td>\n",
       "      <td>0</td>\n",
=======
       "      <td>n/e</td>\n",
       "      <td>n/e</td>\n",
       "      <td>0</td>\n",
       "      <td>n/e</td>\n",
       "      <td>0</td>\n",
       "      <td>n/e</td>\n",
       "      <td>n/e</td>\n",
       "      <td>...</td>\n",
       "      <td>n/e</td>\n",
       "      <td>n/e</td>\n",
       "      <td>0</td>\n",
       "      <td>0</td>\n",
       "      <td>n/e</td>\n",
>>>>>>> ac7687d690a410fc6bb9065c8fe5e295d4acb087
       "      <td>0</td>\n",
       "      <td>0</td>\n",
       "      <td>836</td>\n",
       "      <td>0</td>\n",
<<<<<<< HEAD
       "      <td>8027</td>\n",
=======
       "      <td>4993.0</td>\n",
>>>>>>> ac7687d690a410fc6bb9065c8fe5e295d4acb087
       "    </tr>\n",
       "    <tr>\n",
       "      <th>2</th>\n",
       "      <td>BG</td>\n",
       "      <td>25</td>\n",
       "      <td>0</td>\n",
       "      <td>0</td>\n",
<<<<<<< HEAD
       "      <td>0</td>\n",
       "      <td>0</td>\n",
       "      <td>0</td>\n",
       "      <td>0</td>\n",
       "      <td>0</td>\n",
       "      <td>0</td>\n",
       "      <td>...</td>\n",
       "      <td>0</td>\n",
       "      <td>0</td>\n",
       "      <td>0</td>\n",
       "      <td>0</td>\n",
       "      <td>0</td>\n",
       "      <td>0</td>\n",
       "      <td>0</td>\n",
       "      <td>0</td>\n",
       "      <td>0</td>\n",
       "      <td>8760</td>\n",
=======
       "      <td>n/e</td>\n",
       "      <td>0</td>\n",
       "      <td>0</td>\n",
       "      <td>n/e</td>\n",
       "      <td>n/e</td>\n",
       "      <td>n/e</td>\n",
       "      <td>...</td>\n",
       "      <td>0</td>\n",
       "      <td>n/e</td>\n",
       "      <td>0</td>\n",
       "      <td>n/e</td>\n",
       "      <td>n/e</td>\n",
       "      <td>0</td>\n",
       "      <td>0</td>\n",
       "      <td>n/e</td>\n",
       "      <td>0</td>\n",
       "      <td>0.0</td>\n",
>>>>>>> ac7687d690a410fc6bb9065c8fe5e295d4acb087
       "    </tr>\n",
       "    <tr>\n",
       "      <th>3</th>\n",
       "      <td>CH</td>\n",
       "      <td>0</td>\n",
<<<<<<< HEAD
       "      <td>0</td>\n",
       "      <td>0</td>\n",
       "      <td>0</td>\n",
       "      <td>0</td>\n",
       "      <td>0</td>\n",
       "      <td>0</td>\n",
       "      <td>0</td>\n",
       "      <td>0</td>\n",
       "      <td>...</td>\n",
       "      <td>0</td>\n",
       "      <td>0</td>\n",
       "      <td>0</td>\n",
       "      <td>0</td>\n",
       "      <td>0</td>\n",
       "      <td>0</td>\n",
       "      <td>0</td>\n",
       "      <td>0</td>\n",
       "      <td>0</td>\n",
       "      <td>8760</td>\n",
=======
       "      <td>n/e</td>\n",
       "      <td>n/e</td>\n",
       "      <td>n/e</td>\n",
       "      <td>n/e</td>\n",
       "      <td>n/e</td>\n",
       "      <td>n/e</td>\n",
       "      <td>n/e</td>\n",
       "      <td>n/e</td>\n",
       "      <td>...</td>\n",
       "      <td>0</td>\n",
       "      <td>n/e</td>\n",
       "      <td>0</td>\n",
       "      <td>n/e</td>\n",
       "      <td>n/e</td>\n",
       "      <td>0</td>\n",
       "      <td>n/e</td>\n",
       "      <td>n/e</td>\n",
       "      <td>0</td>\n",
       "      <td>0.0</td>\n",
>>>>>>> ac7687d690a410fc6bb9065c8fe5e295d4acb087
       "    </tr>\n",
       "    <tr>\n",
       "      <th>4</th>\n",
       "      <td>CZ</td>\n",
       "      <td>7</td>\n",
       "      <td>2</td>\n",
       "      <td>2</td>\n",
       "      <td>2</td>\n",
       "      <td>2</td>\n",
       "      <td>2</td>\n",
       "      <td>5</td>\n",
<<<<<<< HEAD
       "      <td>0</td>\n",
       "      <td>0</td>\n",
       "      <td>...</td>\n",
       "      <td>3</td>\n",
       "      <td>0</td>\n",
=======
       "      <td>n/e</td>\n",
       "      <td>n/e</td>\n",
       "      <td>...</td>\n",
       "      <td>3</td>\n",
       "      <td>n/e</td>\n",
>>>>>>> ac7687d690a410fc6bb9065c8fe5e295d4acb087
       "      <td>2</td>\n",
       "      <td>2</td>\n",
       "      <td>2</td>\n",
       "      <td>4</td>\n",
       "      <td>5</td>\n",
<<<<<<< HEAD
       "      <td>0</td>\n",
       "      <td>2</td>\n",
       "      <td>44</td>\n",
=======
       "      <td>n/e</td>\n",
       "      <td>2</td>\n",
       "      <td>41.0</td>\n",
>>>>>>> ac7687d690a410fc6bb9065c8fe5e295d4acb087
       "    </tr>\n",
       "    <tr>\n",
       "      <th>5</th>\n",
       "      <td>DE</td>\n",
       "      <td>0</td>\n",
       "      <td>0</td>\n",
       "      <td>0</td>\n",
       "      <td>34848</td>\n",
       "      <td>0</td>\n",
       "      <td>0</td>\n",
       "      <td>0</td>\n",
<<<<<<< HEAD
       "      <td>0</td>\n",
       "      <td>0</td>\n",
       "      <td>...</td>\n",
       "      <td>0</td>\n",
=======
       "      <td>n/e</td>\n",
       "      <td>n/e</td>\n",
       "      <td>...</td>\n",
       "      <td>0</td>\n",
       "      <td>n/e</td>\n",
>>>>>>> ac7687d690a410fc6bb9065c8fe5e295d4acb087
       "      <td>0</td>\n",
       "      <td>0</td>\n",
       "      <td>0</td>\n",
       "      <td>0</td>\n",
       "      <td>0</td>\n",
       "      <td>0</td>\n",
       "      <td>0</td>\n",
<<<<<<< HEAD
       "      <td>0</td>\n",
       "      <td>34848</td>\n",
=======
       "      <td>34848.0</td>\n",
>>>>>>> ac7687d690a410fc6bb9065c8fe5e295d4acb087
       "    </tr>\n",
       "    <tr>\n",
       "      <th>6</th>\n",
       "      <td>DK</td>\n",
       "      <td>0</td>\n",
       "      <td>0</td>\n",
<<<<<<< HEAD
       "      <td>0</td>\n",
       "      <td>0</td>\n",
       "      <td>0</td>\n",
       "      <td>0</td>\n",
       "      <td>0</td>\n",
       "      <td>0</td>\n",
       "      <td>0</td>\n",
       "      <td>...</td>\n",
=======
       "      <td>n/e</td>\n",
       "      <td>n/e</td>\n",
       "      <td>0</td>\n",
       "      <td>0</td>\n",
       "      <td>0</td>\n",
       "      <td>n/e</td>\n",
       "      <td>n/e</td>\n",
       "      <td>...</td>\n",
       "      <td>n/e</td>\n",
       "      <td>n/e</td>\n",
       "      <td>n/e</td>\n",
       "      <td>n/e</td>\n",
       "      <td>n/e</td>\n",
>>>>>>> ac7687d690a410fc6bb9065c8fe5e295d4acb087
       "      <td>0</td>\n",
       "      <td>0</td>\n",
       "      <td>0</td>\n",
       "      <td>0</td>\n",
<<<<<<< HEAD
       "      <td>0</td>\n",
       "      <td>0</td>\n",
       "      <td>0</td>\n",
       "      <td>0</td>\n",
       "      <td>0</td>\n",
       "      <td>0</td>\n",
=======
       "      <td>0.0</td>\n",
>>>>>>> ac7687d690a410fc6bb9065c8fe5e295d4acb087
       "    </tr>\n",
       "    <tr>\n",
       "      <th>7</th>\n",
       "      <td>EE</td>\n",
       "      <td>144</td>\n",
       "      <td>206</td>\n",
<<<<<<< HEAD
       "      <td>0</td>\n",
       "      <td>206</td>\n",
       "      <td>206</td>\n",
       "      <td>0</td>\n",
       "      <td>0</td>\n",
       "      <td>206</td>\n",
       "      <td>206</td>\n",
       "      <td>...</td>\n",
       "      <td>0</td>\n",
       "      <td>0</td>\n",
       "      <td>0</td>\n",
=======
       "      <td>n/e</td>\n",
       "      <td>206</td>\n",
       "      <td>206</td>\n",
       "      <td>n/e</td>\n",
       "      <td>n/e</td>\n",
       "      <td>206</td>\n",
       "      <td>206</td>\n",
       "      <td>...</td>\n",
       "      <td>n/e</td>\n",
       "      <td>n/e</td>\n",
       "      <td>n/e</td>\n",
>>>>>>> ac7687d690a410fc6bb9065c8fe5e295d4acb087
       "      <td>206</td>\n",
       "      <td>206</td>\n",
       "      <td>206</td>\n",
       "      <td>206</td>\n",
<<<<<<< HEAD
       "      <td>0</td>\n",
       "      <td>206</td>\n",
       "      <td>2266</td>\n",
=======
       "      <td>n/e</td>\n",
       "      <td>206</td>\n",
       "      <td>2266.0</td>\n",
>>>>>>> ac7687d690a410fc6bb9065c8fe5e295d4acb087
       "    </tr>\n",
       "    <tr>\n",
       "      <th>8</th>\n",
       "      <td>ES</td>\n",
       "      <td>2</td>\n",
       "      <td>1</td>\n",
       "      <td>1</td>\n",
       "      <td>1</td>\n",
       "      <td>1</td>\n",
       "      <td>1</td>\n",
       "      <td>1</td>\n",
       "      <td>1</td>\n",
       "      <td>1</td>\n",
       "      <td>...</td>\n",
       "      <td>1</td>\n",
       "      <td>1</td>\n",
       "      <td>1</td>\n",
       "      <td>1</td>\n",
       "      <td>1</td>\n",
       "      <td>1</td>\n",
       "      <td>1</td>\n",
       "      <td>1</td>\n",
       "      <td>1</td>\n",
<<<<<<< HEAD
       "      <td>8780</td>\n",
=======
       "      <td>8779.0</td>\n",
>>>>>>> ac7687d690a410fc6bb9065c8fe5e295d4acb087
       "    </tr>\n",
       "    <tr>\n",
       "      <th>9</th>\n",
       "      <td>FI</td>\n",
       "      <td>3</td>\n",
       "      <td>2</td>\n",
<<<<<<< HEAD
       "      <td>0</td>\n",
       "      <td>0</td>\n",
       "      <td>3</td>\n",
       "      <td>3</td>\n",
       "      <td>3</td>\n",
       "      <td>0</td>\n",
       "      <td>2</td>\n",
       "      <td>...</td>\n",
       "      <td>0</td>\n",
       "      <td>0</td>\n",
       "      <td>2</td>\n",
       "      <td>2</td>\n",
       "      <td>3</td>\n",
       "      <td>0</td>\n",
       "      <td>3</td>\n",
       "      <td>0</td>\n",
       "      <td>2</td>\n",
       "      <td>28</td>\n",
=======
       "      <td>n/e</td>\n",
       "      <td>n/e</td>\n",
       "      <td>3</td>\n",
       "      <td>3</td>\n",
       "      <td>3</td>\n",
       "      <td>n/e</td>\n",
       "      <td>2</td>\n",
       "      <td>...</td>\n",
       "      <td>n/e</td>\n",
       "      <td>n/e</td>\n",
       "      <td>2</td>\n",
       "      <td>2</td>\n",
       "      <td>3</td>\n",
       "      <td>n/e</td>\n",
       "      <td>3</td>\n",
       "      <td>n/e</td>\n",
       "      <td>2</td>\n",
       "      <td>28.0</td>\n",
>>>>>>> ac7687d690a410fc6bb9065c8fe5e295d4acb087
       "    </tr>\n",
       "    <tr>\n",
       "      <th>10</th>\n",
       "      <td>FR</td>\n",
       "      <td>18</td>\n",
       "      <td>4</td>\n",
<<<<<<< HEAD
       "      <td>0</td>\n",
       "      <td>0</td>\n",
       "      <td>4</td>\n",
       "      <td>842</td>\n",
       "      <td>4</td>\n",
       "      <td>0</td>\n",
       "      <td>0</td>\n",
       "      <td>...</td>\n",
       "      <td>4</td>\n",
       "      <td>0</td>\n",
       "      <td>4</td>\n",
       "      <td>0</td>\n",
       "      <td>0</td>\n",
       "      <td>3</td>\n",
       "      <td>4</td>\n",
       "      <td>0</td>\n",
       "      <td>4</td>\n",
       "      <td>9641</td>\n",
=======
       "      <td>n/e</td>\n",
       "      <td>n/e</td>\n",
       "      <td>4</td>\n",
       "      <td>842</td>\n",
       "      <td>4</td>\n",
       "      <td>n/e</td>\n",
       "      <td>n/e</td>\n",
       "      <td>...</td>\n",
       "      <td>4</td>\n",
       "      <td>n/e</td>\n",
       "      <td>4</td>\n",
       "      <td>n/e</td>\n",
       "      <td>n/e</td>\n",
       "      <td>3</td>\n",
       "      <td>4</td>\n",
       "      <td>n/e</td>\n",
       "      <td>4</td>\n",
       "      <td>4724.0</td>\n",
>>>>>>> ac7687d690a410fc6bb9065c8fe5e295d4acb087
       "    </tr>\n",
       "    <tr>\n",
       "      <th>11</th>\n",
       "      <td>GR</td>\n",
       "      <td>2</td>\n",
<<<<<<< HEAD
       "      <td>0</td>\n",
       "      <td>3</td>\n",
       "      <td>0</td>\n",
       "      <td>3</td>\n",
       "      <td>0</td>\n",
       "      <td>3</td>\n",
       "      <td>0</td>\n",
       "      <td>0</td>\n",
       "      <td>...</td>\n",
       "      <td>0</td>\n",
       "      <td>0</td>\n",
       "      <td>0</td>\n",
       "      <td>0</td>\n",
       "      <td>0</td>\n",
       "      <td>2</td>\n",
       "      <td>0</td>\n",
       "      <td>0</td>\n",
       "      <td>2</td>\n",
       "      <td>8773</td>\n",
=======
       "      <td>n/e</td>\n",
       "      <td>3</td>\n",
       "      <td>n/e</td>\n",
       "      <td>3</td>\n",
       "      <td>n/e</td>\n",
       "      <td>3</td>\n",
       "      <td>n/e</td>\n",
       "      <td>n/e</td>\n",
       "      <td>...</td>\n",
       "      <td>n/e</td>\n",
       "      <td>n/e</td>\n",
       "      <td>n/e</td>\n",
       "      <td>n/e</td>\n",
       "      <td>n/e</td>\n",
       "      <td>2</td>\n",
       "      <td>n/e</td>\n",
       "      <td>n/e</td>\n",
       "      <td>2</td>\n",
       "      <td>8773.0</td>\n",
>>>>>>> ac7687d690a410fc6bb9065c8fe5e295d4acb087
       "    </tr>\n",
       "    <tr>\n",
       "      <th>12</th>\n",
       "      <td>HU</td>\n",
       "      <td>0</td>\n",
       "      <td>0</td>\n",
       "      <td>0</td>\n",
<<<<<<< HEAD
       "      <td>0</td>\n",
       "      <td>0</td>\n",
       "      <td>0</td>\n",
       "      <td>11089</td>\n",
       "      <td>0</td>\n",
       "      <td>0</td>\n",
       "      <td>...</td>\n",
       "      <td>18</td>\n",
       "      <td>0</td>\n",
       "      <td>0</td>\n",
       "      <td>0</td>\n",
       "      <td>0</td>\n",
       "      <td>0</td>\n",
       "      <td>0</td>\n",
       "      <td>0</td>\n",
       "      <td>1016</td>\n",
       "      <td>12123</td>\n",
=======
       "      <td>n/e</td>\n",
       "      <td>0</td>\n",
       "      <td>n/e</td>\n",
       "      <td>11089</td>\n",
       "      <td>n/e</td>\n",
       "      <td>n/e</td>\n",
       "      <td>...</td>\n",
       "      <td>18</td>\n",
       "      <td>n/e</td>\n",
       "      <td>0</td>\n",
       "      <td>0</td>\n",
       "      <td>0</td>\n",
       "      <td>n/e</td>\n",
       "      <td>0</td>\n",
       "      <td>n/e</td>\n",
       "      <td>1016</td>\n",
       "      <td>12123.0</td>\n",
>>>>>>> ac7687d690a410fc6bb9065c8fe5e295d4acb087
       "    </tr>\n",
       "    <tr>\n",
       "      <th>13</th>\n",
       "      <td>IE</td>\n",
       "      <td>18</td>\n",
<<<<<<< HEAD
       "      <td>0</td>\n",
       "      <td>0</td>\n",
       "      <td>0</td>\n",
       "      <td>52</td>\n",
       "      <td>52</td>\n",
       "      <td>52</td>\n",
       "      <td>0</td>\n",
       "      <td>52</td>\n",
       "      <td>...</td>\n",
       "      <td>0</td>\n",
       "      <td>0</td>\n",
       "      <td>0</td>\n",
       "      <td>52</td>\n",
       "      <td>0</td>\n",
       "      <td>0</td>\n",
       "      <td>0</td>\n",
       "      <td>0</td>\n",
       "      <td>10</td>\n",
       "      <td>15062</td>\n",
=======
       "      <td>n/e</td>\n",
       "      <td>n/e</td>\n",
       "      <td>n/e</td>\n",
       "      <td>52</td>\n",
       "      <td>52</td>\n",
       "      <td>52</td>\n",
       "      <td>n/e</td>\n",
       "      <td>52</td>\n",
       "      <td>...</td>\n",
       "      <td>n/e</td>\n",
       "      <td>n/e</td>\n",
       "      <td>n/e</td>\n",
       "      <td>52</td>\n",
       "      <td>n/e</td>\n",
       "      <td>n/e</td>\n",
       "      <td>n/e</td>\n",
       "      <td>n/e</td>\n",
       "      <td>10</td>\n",
       "      <td>374.0</td>\n",
>>>>>>> ac7687d690a410fc6bb9065c8fe5e295d4acb087
       "    </tr>\n",
       "    <tr>\n",
       "      <th>14</th>\n",
       "      <td>IT</td>\n",
       "      <td>0</td>\n",
       "      <td>9</td>\n",
<<<<<<< HEAD
       "      <td>0</td>\n",
=======
       "      <td>n/e</td>\n",
>>>>>>> ac7687d690a410fc6bb9065c8fe5e295d4acb087
       "      <td>9</td>\n",
       "      <td>9</td>\n",
       "      <td>9</td>\n",
       "      <td>9</td>\n",
<<<<<<< HEAD
       "      <td>0</td>\n",
       "      <td>0</td>\n",
       "      <td>...</td>\n",
       "      <td>9</td>\n",
       "      <td>0</td>\n",
       "      <td>0</td>\n",
       "      <td>177</td>\n",
       "      <td>0</td>\n",
       "      <td>9</td>\n",
       "      <td>9</td>\n",
       "      <td>0</td>\n",
       "      <td>9</td>\n",
       "      <td>3538</td>\n",
=======
       "      <td>n/e</td>\n",
       "      <td>n/e</td>\n",
       "      <td>...</td>\n",
       "      <td>9</td>\n",
       "      <td>n/e</td>\n",
       "      <td>n/e</td>\n",
       "      <td>177</td>\n",
       "      <td>n/e</td>\n",
       "      <td>9</td>\n",
       "      <td>9</td>\n",
       "      <td>n/e</td>\n",
       "      <td>9</td>\n",
       "      <td>286.0</td>\n",
>>>>>>> ac7687d690a410fc6bb9065c8fe5e295d4acb087
       "    </tr>\n",
       "    <tr>\n",
       "      <th>15</th>\n",
       "      <td>LT</td>\n",
       "      <td>67</td>\n",
       "      <td>33</td>\n",
<<<<<<< HEAD
       "      <td>0</td>\n",
       "      <td>0</td>\n",
       "      <td>33</td>\n",
       "      <td>0</td>\n",
       "      <td>0</td>\n",
       "      <td>0</td>\n",
       "      <td>0</td>\n",
       "      <td>...</td>\n",
       "      <td>0</td>\n",
       "      <td>0</td>\n",
       "      <td>0</td>\n",
       "      <td>33</td>\n",
       "      <td>0</td>\n",
       "      <td>33</td>\n",
       "      <td>33</td>\n",
       "      <td>0</td>\n",
       "      <td>33</td>\n",
       "      <td>297</td>\n",
=======
       "      <td>n/e</td>\n",
       "      <td>n/e</td>\n",
       "      <td>33</td>\n",
       "      <td>n/e</td>\n",
       "      <td>n/e</td>\n",
       "      <td>n/e</td>\n",
       "      <td>n/e</td>\n",
       "      <td>...</td>\n",
       "      <td>n/e</td>\n",
       "      <td>n/e</td>\n",
       "      <td>n/e</td>\n",
       "      <td>33</td>\n",
       "      <td>n/e</td>\n",
       "      <td>33</td>\n",
       "      <td>33</td>\n",
       "      <td>n/e</td>\n",
       "      <td>33</td>\n",
       "      <td>264.0</td>\n",
>>>>>>> ac7687d690a410fc6bb9065c8fe5e295d4acb087
       "    </tr>\n",
       "    <tr>\n",
       "      <th>16</th>\n",
       "      <td>LV</td>\n",
       "      <td>6</td>\n",
       "      <td>10</td>\n",
<<<<<<< HEAD
       "      <td>0</td>\n",
       "      <td>0</td>\n",
       "      <td>10</td>\n",
       "      <td>0</td>\n",
       "      <td>0</td>\n",
       "      <td>0</td>\n",
       "      <td>0</td>\n",
       "      <td>...</td>\n",
       "      <td>0</td>\n",
       "      <td>0</td>\n",
       "      <td>0</td>\n",
       "      <td>10</td>\n",
       "      <td>0</td>\n",
       "      <td>0</td>\n",
       "      <td>0</td>\n",
       "      <td>0</td>\n",
       "      <td>10</td>\n",
       "      <td>50</td>\n",
=======
       "      <td>n/e</td>\n",
       "      <td>n/e</td>\n",
       "      <td>10</td>\n",
       "      <td>n/e</td>\n",
       "      <td>n/e</td>\n",
       "      <td>n/e</td>\n",
       "      <td>n/e</td>\n",
       "      <td>...</td>\n",
       "      <td>n/e</td>\n",
       "      <td>n/e</td>\n",
       "      <td>n/e</td>\n",
       "      <td>10</td>\n",
       "      <td>n/e</td>\n",
       "      <td>n/e</td>\n",
       "      <td>n/e</td>\n",
       "      <td>n/e</td>\n",
       "      <td>10</td>\n",
       "      <td>50.0</td>\n",
>>>>>>> ac7687d690a410fc6bb9065c8fe5e295d4acb087
       "    </tr>\n",
       "    <tr>\n",
       "      <th>17</th>\n",
       "      <td>ME</td>\n",
       "      <td>0</td>\n",
<<<<<<< HEAD
       "      <td>0</td>\n",
       "      <td>0</td>\n",
       "      <td>0</td>\n",
       "      <td>0</td>\n",
       "      <td>0</td>\n",
       "      <td>0</td>\n",
       "      <td>0</td>\n",
       "      <td>0</td>\n",
       "      <td>...</td>\n",
       "      <td>0</td>\n",
       "      <td>0</td>\n",
       "      <td>0</td>\n",
       "      <td>0</td>\n",
       "      <td>3623</td>\n",
       "      <td>0</td>\n",
       "      <td>0</td>\n",
       "      <td>0</td>\n",
       "      <td>3623</td>\n",
       "      <td>7246</td>\n",
=======
       "      <td>n/e</td>\n",
       "      <td>0</td>\n",
       "      <td>n/e</td>\n",
       "      <td>n/e</td>\n",
       "      <td>n/e</td>\n",
       "      <td>n/e</td>\n",
       "      <td>n/e</td>\n",
       "      <td>n/e</td>\n",
       "      <td>...</td>\n",
       "      <td>0</td>\n",
       "      <td>n/e</td>\n",
       "      <td>n/e</td>\n",
       "      <td>n/e</td>\n",
       "      <td>3623</td>\n",
       "      <td>n/e</td>\n",
       "      <td>n/e</td>\n",
       "      <td>n/e</td>\n",
       "      <td>3623</td>\n",
       "      <td>7246.0</td>\n",
>>>>>>> ac7687d690a410fc6bb9065c8fe5e295d4acb087
       "    </tr>\n",
       "    <tr>\n",
       "      <th>18</th>\n",
       "      <td>NL</td>\n",
       "      <td>0</td>\n",
       "      <td>0</td>\n",
<<<<<<< HEAD
       "      <td>0</td>\n",
       "      <td>0</td>\n",
       "      <td>0</td>\n",
       "      <td>10</td>\n",
       "      <td>0</td>\n",
       "      <td>0</td>\n",
       "      <td>0</td>\n",
       "      <td>...</td>\n",
       "      <td>0</td>\n",
       "      <td>0</td>\n",
       "      <td>0</td>\n",
       "      <td>10</td>\n",
       "      <td>0</td>\n",
=======
       "      <td>n/e</td>\n",
       "      <td>n/e</td>\n",
       "      <td>0</td>\n",
       "      <td>10</td>\n",
       "      <td>n/e</td>\n",
       "      <td>n/e</td>\n",
       "      <td>n/e</td>\n",
       "      <td>...</td>\n",
       "      <td>n/e</td>\n",
       "      <td>n/e</td>\n",
       "      <td>0</td>\n",
       "      <td>10</td>\n",
       "      <td>n/e</td>\n",
>>>>>>> ac7687d690a410fc6bb9065c8fe5e295d4acb087
       "      <td>0</td>\n",
       "      <td>0</td>\n",
       "      <td>2</td>\n",
       "      <td>2</td>\n",
<<<<<<< HEAD
       "      <td>8635</td>\n",
=======
       "      <td>8635.0</td>\n",
>>>>>>> ac7687d690a410fc6bb9065c8fe5e295d4acb087
       "    </tr>\n",
       "    <tr>\n",
       "      <th>19</th>\n",
       "      <td>NO</td>\n",
       "      <td>0</td>\n",
<<<<<<< HEAD
       "      <td>0</td>\n",
       "      <td>0</td>\n",
       "      <td>0</td>\n",
       "      <td>1</td>\n",
       "      <td>0</td>\n",
       "      <td>0</td>\n",
       "      <td>0</td>\n",
       "      <td>0</td>\n",
       "      <td>...</td>\n",
       "      <td>1</td>\n",
       "      <td>0</td>\n",
       "      <td>0</td>\n",
       "      <td>5</td>\n",
       "      <td>0</td>\n",
       "      <td>0</td>\n",
       "      <td>0</td>\n",
       "      <td>0</td>\n",
       "      <td>1</td>\n",
       "      <td>9</td>\n",
=======
       "      <td>n/e</td>\n",
       "      <td>n/e</td>\n",
       "      <td>n/e</td>\n",
       "      <td>1</td>\n",
       "      <td>n/e</td>\n",
       "      <td>n/e</td>\n",
       "      <td>n/e</td>\n",
       "      <td>n/e</td>\n",
       "      <td>...</td>\n",
       "      <td>1</td>\n",
       "      <td>n/e</td>\n",
       "      <td>n/e</td>\n",
       "      <td>5</td>\n",
       "      <td>n/e</td>\n",
       "      <td>n/e</td>\n",
       "      <td>n/e</td>\n",
       "      <td>n/e</td>\n",
       "      <td>1</td>\n",
       "      <td>9.0</td>\n",
>>>>>>> ac7687d690a410fc6bb9065c8fe5e295d4acb087
       "    </tr>\n",
       "    <tr>\n",
       "      <th>20</th>\n",
       "      <td>PL</td>\n",
       "      <td>1</td>\n",
       "      <td>0</td>\n",
       "      <td>0</td>\n",
       "      <td>0</td>\n",
       "      <td>0</td>\n",
       "      <td>0</td>\n",
       "      <td>0</td>\n",
<<<<<<< HEAD
       "      <td>0</td>\n",
       "      <td>0</td>\n",
       "      <td>...</td>\n",
       "      <td>0</td>\n",
       "      <td>0</td>\n",
       "      <td>0</td>\n",
       "      <td>0</td>\n",
       "      <td>0</td>\n",
       "      <td>0</td>\n",
       "      <td>0</td>\n",
       "      <td>0</td>\n",
       "      <td>0</td>\n",
       "      <td>8760</td>\n",
=======
       "      <td>n/e</td>\n",
       "      <td>n/e</td>\n",
       "      <td>...</td>\n",
       "      <td>0</td>\n",
       "      <td>n/e</td>\n",
       "      <td>n/e</td>\n",
       "      <td>n/e</td>\n",
       "      <td>n/e</td>\n",
       "      <td>n/e</td>\n",
       "      <td>n/e</td>\n",
       "      <td>n/e</td>\n",
       "      <td>0</td>\n",
       "      <td>0.0</td>\n",
>>>>>>> ac7687d690a410fc6bb9065c8fe5e295d4acb087
       "    </tr>\n",
       "    <tr>\n",
       "      <th>21</th>\n",
       "      <td>PT</td>\n",
       "      <td>0</td>\n",
       "      <td>0</td>\n",
<<<<<<< HEAD
       "      <td>0</td>\n",
       "      <td>0</td>\n",
       "      <td>0</td>\n",
       "      <td>0</td>\n",
       "      <td>0</td>\n",
       "      <td>0</td>\n",
       "      <td>0</td>\n",
       "      <td>...</td>\n",
       "      <td>0</td>\n",
       "      <td>0</td>\n",
       "      <td>0</td>\n",
       "      <td>0</td>\n",
       "      <td>0</td>\n",
       "      <td>0</td>\n",
       "      <td>0</td>\n",
       "      <td>0</td>\n",
       "      <td>0</td>\n",
       "      <td>0</td>\n",
=======
       "      <td>n/e</td>\n",
       "      <td>n/e</td>\n",
       "      <td>0</td>\n",
       "      <td>0</td>\n",
       "      <td>n/e</td>\n",
       "      <td>n/e</td>\n",
       "      <td>n/e</td>\n",
       "      <td>...</td>\n",
       "      <td>0</td>\n",
       "      <td>n/e</td>\n",
       "      <td>n/e</td>\n",
       "      <td>0</td>\n",
       "      <td>n/e</td>\n",
       "      <td>0</td>\n",
       "      <td>n/e</td>\n",
       "      <td>n/e</td>\n",
       "      <td>0</td>\n",
       "      <td>0.0</td>\n",
>>>>>>> ac7687d690a410fc6bb9065c8fe5e295d4acb087
       "    </tr>\n",
       "    <tr>\n",
       "      <th>22</th>\n",
       "      <td>RS</td>\n",
       "      <td>1</td>\n",
       "      <td>33</td>\n",
       "      <td>33</td>\n",
<<<<<<< HEAD
       "      <td>0</td>\n",
       "      <td>33</td>\n",
       "      <td>0</td>\n",
       "      <td>0</td>\n",
       "      <td>0</td>\n",
       "      <td>0</td>\n",
       "      <td>...</td>\n",
       "      <td>33</td>\n",
       "      <td>0</td>\n",
       "      <td>0</td>\n",
       "      <td>9</td>\n",
       "      <td>0</td>\n",
       "      <td>0</td>\n",
       "      <td>0</td>\n",
       "      <td>0</td>\n",
       "      <td>0</td>\n",
       "      <td>8943</td>\n",
=======
       "      <td>n/e</td>\n",
       "      <td>33</td>\n",
       "      <td>n/e</td>\n",
       "      <td>n/e</td>\n",
       "      <td>n/e</td>\n",
       "      <td>n/e</td>\n",
       "      <td>...</td>\n",
       "      <td>33</td>\n",
       "      <td>n/e</td>\n",
       "      <td>n/e</td>\n",
       "      <td>9</td>\n",
       "      <td>n/e</td>\n",
       "      <td>n/e</td>\n",
       "      <td>n/e</td>\n",
       "      <td>n/e</td>\n",
       "      <td>n/e</td>\n",
       "      <td>183.0</td>\n",
>>>>>>> ac7687d690a410fc6bb9065c8fe5e295d4acb087
       "    </tr>\n",
       "    <tr>\n",
       "      <th>23</th>\n",
       "      <td>SE</td>\n",
       "      <td>0</td>\n",
<<<<<<< HEAD
       "      <td>0</td>\n",
       "      <td>0</td>\n",
       "      <td>0</td>\n",
       "      <td>0</td>\n",
       "      <td>0</td>\n",
       "      <td>0</td>\n",
       "      <td>0</td>\n",
       "      <td>0</td>\n",
       "      <td>...</td>\n",
       "      <td>0</td>\n",
       "      <td>0</td>\n",
       "      <td>0</td>\n",
       "      <td>0</td>\n",
       "      <td>0</td>\n",
       "      <td>0</td>\n",
       "      <td>0</td>\n",
       "      <td>0</td>\n",
       "      <td>1</td>\n",
       "      <td>1</td>\n",
=======
       "      <td>n/e</td>\n",
       "      <td>n/e</td>\n",
       "      <td>n/e</td>\n",
       "      <td>n/e</td>\n",
       "      <td>n/e</td>\n",
       "      <td>n/e</td>\n",
       "      <td>n/e</td>\n",
       "      <td>n/e</td>\n",
       "      <td>...</td>\n",
       "      <td>0</td>\n",
       "      <td>n/e</td>\n",
       "      <td>0</td>\n",
       "      <td>0</td>\n",
       "      <td>n/e</td>\n",
       "      <td>n/e</td>\n",
       "      <td>n/e</td>\n",
       "      <td>n/e</td>\n",
       "      <td>1</td>\n",
       "      <td>1.0</td>\n",
>>>>>>> ac7687d690a410fc6bb9065c8fe5e295d4acb087
       "    </tr>\n",
       "    <tr>\n",
       "      <th>24</th>\n",
       "      <td>SI</td>\n",
       "      <td>0</td>\n",
       "      <td>1</td>\n",
       "      <td>1</td>\n",
<<<<<<< HEAD
       "      <td>0</td>\n",
       "      <td>1</td>\n",
       "      <td>0</td>\n",
       "      <td>1</td>\n",
       "      <td>0</td>\n",
       "      <td>0</td>\n",
       "      <td>...</td>\n",
       "      <td>0</td>\n",
       "      <td>0</td>\n",
       "      <td>1</td>\n",
       "      <td>0</td>\n",
       "      <td>0</td>\n",
       "      <td>1</td>\n",
       "      <td>1</td>\n",
       "      <td>0</td>\n",
       "      <td>1</td>\n",
       "      <td>8770</td>\n",
=======
       "      <td>n/e</td>\n",
       "      <td>1</td>\n",
       "      <td>n/e</td>\n",
       "      <td>1</td>\n",
       "      <td>n/e</td>\n",
       "      <td>n/e</td>\n",
       "      <td>...</td>\n",
       "      <td>n/e</td>\n",
       "      <td>n/e</td>\n",
       "      <td>1</td>\n",
       "      <td>n/e</td>\n",
       "      <td>n/e</td>\n",
       "      <td>1</td>\n",
       "      <td>1</td>\n",
       "      <td>n/e</td>\n",
       "      <td>1</td>\n",
       "      <td>10.0</td>\n",
>>>>>>> ac7687d690a410fc6bb9065c8fe5e295d4acb087
       "    </tr>\n",
       "    <tr>\n",
       "      <th>25</th>\n",
       "      <td>SK</td>\n",
       "      <td>0</td>\n",
       "      <td>97</td>\n",
       "      <td>97</td>\n",
<<<<<<< HEAD
       "      <td>0</td>\n",
       "      <td>97</td>\n",
       "      <td>97</td>\n",
       "      <td>97</td>\n",
       "      <td>0</td>\n",
       "      <td>0</td>\n",
       "      <td>...</td>\n",
       "      <td>1755</td>\n",
       "      <td>0</td>\n",
=======
       "      <td>n/e</td>\n",
       "      <td>97</td>\n",
       "      <td>97</td>\n",
       "      <td>97</td>\n",
       "      <td>n/e</td>\n",
       "      <td>n/e</td>\n",
       "      <td>...</td>\n",
       "      <td>1755</td>\n",
       "      <td>n/e</td>\n",
>>>>>>> ac7687d690a410fc6bb9065c8fe5e295d4acb087
       "      <td>97</td>\n",
       "      <td>97</td>\n",
       "      <td>97</td>\n",
       "      <td>97</td>\n",
<<<<<<< HEAD
       "      <td>0</td>\n",
       "      <td>0</td>\n",
       "      <td>97</td>\n",
       "      <td>11679</td>\n",
=======
       "      <td>n/e</td>\n",
       "      <td>n/e</td>\n",
       "      <td>97</td>\n",
       "      <td>5259.0</td>\n",
>>>>>>> ac7687d690a410fc6bb9065c8fe5e295d4acb087
       "    </tr>\n",
       "    <tr>\n",
       "      <th>26</th>\n",
       "      <td>GB</td>\n",
       "      <td>8</td>\n",
       "      <td>58</td>\n",
<<<<<<< HEAD
       "      <td>0</td>\n",
       "      <td>0</td>\n",
       "      <td>64</td>\n",
       "      <td>64</td>\n",
       "      <td>64</td>\n",
       "      <td>0</td>\n",
       "      <td>0</td>\n",
       "      <td>...</td>\n",
       "      <td>0</td>\n",
       "      <td>0</td>\n",
       "      <td>58</td>\n",
       "      <td>64</td>\n",
       "      <td>0</td>\n",
       "      <td>5</td>\n",
       "      <td>0</td>\n",
       "      <td>5</td>\n",
       "      <td>11</td>\n",
       "      <td>18029</td>\n",
=======
       "      <td>n/e</td>\n",
       "      <td>n/e</td>\n",
       "      <td>64</td>\n",
       "      <td>64</td>\n",
       "      <td>64</td>\n",
       "      <td>n/e</td>\n",
       "      <td>n/e</td>\n",
       "      <td>...</td>\n",
       "      <td>n/e</td>\n",
       "      <td>n/e</td>\n",
       "      <td>58</td>\n",
       "      <td>64</td>\n",
       "      <td>n/e</td>\n",
       "      <td>5</td>\n",
       "      <td>n/e</td>\n",
       "      <td>5</td>\n",
       "      <td>11</td>\n",
       "      <td>509.0</td>\n",
>>>>>>> ac7687d690a410fc6bb9065c8fe5e295d4acb087
       "    </tr>\n",
       "  </tbody>\n",
       "</table>\n",
       "<p>27 rows × 24 columns</p>\n",
       "</div>"
      ]
     },
     "metadata": {}
    },
    {
     "output_type": "display_data",
     "data": {
      "text/plain": [
       "          Link  No of missing data\n",
       "0    AT - > CH                   0\n",
       "1    CH - > AT                   0\n",
       "2    AT - > CZ                   0\n",
       "3    CZ - > AT                   0\n",
       "4    AT - > DE                   0\n",
       "..         ...                 ...\n",
       "141  MK - > RS                   0\n",
       "142  RS - > RO                   0\n",
       "143  RO - > RS                   0\n",
       "144  SK - > UA                   9\n",
       "145  UA - > SK                   8\n",
       "\n",
       "[146 rows x 2 columns]"
      ],
      "text/html": [
       "<div>\n",
       "<style scoped>\n",
       "    .dataframe tbody tr th:only-of-type {\n",
       "        vertical-align: middle;\n",
       "    }\n",
       "\n",
       "    .dataframe tbody tr th {\n",
       "        vertical-align: top;\n",
       "    }\n",
       "\n",
       "    .dataframe thead th {\n",
       "        text-align: right;\n",
       "    }\n",
       "</style>\n",
       "<table border=\"1\" class=\"dataframe\">\n",
       "  <thead>\n",
       "    <tr style=\"text-align: right;\">\n",
       "      <th></th>\n",
       "      <th>Link</th>\n",
       "      <th>No of missing data</th>\n",
       "    </tr>\n",
       "  </thead>\n",
       "  <tbody>\n",
       "    <tr>\n",
       "      <th>0</th>\n",
       "      <td>AT - &gt; CH</td>\n",
       "      <td>0</td>\n",
       "    </tr>\n",
       "    <tr>\n",
       "      <th>1</th>\n",
       "      <td>CH - &gt; AT</td>\n",
       "      <td>0</td>\n",
       "    </tr>\n",
       "    <tr>\n",
       "      <th>2</th>\n",
       "      <td>AT - &gt; CZ</td>\n",
       "      <td>0</td>\n",
       "    </tr>\n",
       "    <tr>\n",
       "      <th>3</th>\n",
       "      <td>CZ - &gt; AT</td>\n",
       "      <td>0</td>\n",
       "    </tr>\n",
       "    <tr>\n",
       "      <th>4</th>\n",
       "      <td>AT - &gt; DE</td>\n",
       "      <td>0</td>\n",
       "    </tr>\n",
       "    <tr>\n",
       "      <th>...</th>\n",
       "      <td>...</td>\n",
       "      <td>...</td>\n",
       "    </tr>\n",
       "    <tr>\n",
       "      <th>141</th>\n",
       "      <td>MK - &gt; RS</td>\n",
       "      <td>0</td>\n",
       "    </tr>\n",
       "    <tr>\n",
       "      <th>142</th>\n",
       "      <td>RS - &gt; RO</td>\n",
       "      <td>0</td>\n",
       "    </tr>\n",
       "    <tr>\n",
       "      <th>143</th>\n",
       "      <td>RO - &gt; RS</td>\n",
       "      <td>0</td>\n",
       "    </tr>\n",
       "    <tr>\n",
       "      <th>144</th>\n",
       "      <td>SK - &gt; UA</td>\n",
       "      <td>9</td>\n",
       "    </tr>\n",
       "    <tr>\n",
       "      <th>145</th>\n",
       "      <td>UA - &gt; SK</td>\n",
       "      <td>8</td>\n",
       "    </tr>\n",
       "  </tbody>\n",
       "</table>\n",
       "<p>146 rows × 2 columns</p>\n",
       "</div>"
      ]
     },
     "metadata": {}
    },
    {
     "output_type": "display_data",
     "data": {
      "text/plain": [
       "<Figure size 1440x720 with 1 Axes>"
      ],
<<<<<<< HEAD
      "image/svg+xml": "<?xml version=\"1.0\" encoding=\"utf-8\" standalone=\"no\"?>\r\n<!DOCTYPE svg PUBLIC \"-//W3C//DTD SVG 1.1//EN\"\r\n  \"http://www.w3.org/Graphics/SVG/1.1/DTD/svg11.dtd\">\r\n<svg height=\"603.474375pt\" version=\"1.1\" viewBox=\"0 0 1165.820313 603.474375\" width=\"1165.820313pt\" xmlns=\"http://www.w3.org/2000/svg\" xmlns:xlink=\"http://www.w3.org/1999/xlink\">\r\n <metadata>\r\n  <rdf:RDF xmlns:cc=\"http://creativecommons.org/ns#\" xmlns:dc=\"http://purl.org/dc/elements/1.1/\" xmlns:rdf=\"http://www.w3.org/1999/02/22-rdf-syntax-ns#\">\r\n   <cc:Work>\r\n    <dc:type rdf:resource=\"http://purl.org/dc/dcmitype/StillImage\"/>\r\n    <dc:date>2021-09-02T16:10:35.095164</dc:date>\r\n    <dc:format>image/svg+xml</dc:format>\r\n    <dc:creator>\r\n     <cc:Agent>\r\n      <dc:title>Matplotlib v3.4.2, https://matplotlib.org/</dc:title>\r\n     </cc:Agent>\r\n    </dc:creator>\r\n   </cc:Work>\r\n  </rdf:RDF>\r\n </metadata>\r\n <defs>\r\n  <style type=\"text/css\">*{stroke-linecap:butt;stroke-linejoin:round;}</style>\r\n </defs>\r\n <g id=\"figure_1\">\r\n  <g id=\"patch_1\">\r\n   <path d=\"M 0 603.474375 \r\nL 1165.820313 603.474375 \r\nL 1165.820313 0 \r\nL 0 0 \r\nz\r\n\" style=\"fill:none;\"/>\r\n  </g>\r\n  <g id=\"axes_1\">\r\n   <g id=\"patch_2\">\r\n    <path d=\"M 42.620313 565.918125 \r\nL 1158.620312 565.918125 \r\nL 1158.620312 22.318125 \r\nL 42.620313 22.318125 \r\nz\r\n\" style=\"fill:#ffffff;\"/>\r\n   </g>\r\n   <g id=\"patch_3\">\r\n    <path clip-path=\"url(#p94435839e8)\" d=\"M 93.347585 374.541013 \r\nL 106.823521 374.541013 \r\nL 106.823521 47.027216 \r\nL 93.347585 47.027216 \r\nz\r\n\" style=\"fill:#00ffff;stroke:#000000;stroke-linejoin:miter;\"/>\r\n   </g>\r\n   <g id=\"patch_4\">\r\n    <path clip-path=\"url(#p94435839e8)\" d=\"M 131.850259 374.541013 \r\nL 145.326195 374.541013 \r\nL 145.326195 114.561655 \r\nL 131.850259 114.561655 \r\nz\r\n\" style=\"fill:#00ffff;stroke:#000000;stroke-linejoin:miter;\"/>\r\n   </g>\r\n   <g id=\"patch_5\">\r\n    <path clip-path=\"url(#p94435839e8)\" d=\"M 170.352933 374.541013 \r\nL 183.828869 374.541013 \r\nL 183.828869 268.035319 \r\nL 170.352933 268.035319 \r\nz\r\n\" style=\"fill:#00ffff;stroke:#000000;stroke-linejoin:miter;\"/>\r\n   </g>\r\n   <g id=\"patch_6\">\r\n    <path clip-path=\"url(#p94435839e8)\" d=\"M 208.855607 374.541013 \r\nL 222.331542 374.541013 \r\nL 222.331542 273.357254 \r\nL 208.855607 273.357254 \r\nz\r\n\" style=\"fill:#00ffff;stroke:#000000;stroke-linejoin:miter;\"/>\r\n   </g>\r\n   <g id=\"patch_7\">\r\n    <path clip-path=\"url(#p94435839e8)\" d=\"M 247.35828 374.541013 \r\nL 260.834216 374.541013 \r\nL 260.834216 297.749512 \r\nL 247.35828 297.749512 \r\nz\r\n\" style=\"fill:#00ffff;stroke:#000000;stroke-linejoin:miter;\"/>\r\n   </g>\r\n   <g id=\"patch_8\">\r\n    <path clip-path=\"url(#p94435839e8)\" d=\"M 285.860954 374.541013 \r\nL 299.33689 374.541013 \r\nL 299.33689 304.53593 \r\nL 285.860954 304.53593 \r\nz\r\n\" style=\"fill:#00ffff;stroke:#000000;stroke-linejoin:miter;\"/>\r\n   </g>\r\n   <g id=\"patch_9\">\r\n    <path clip-path=\"url(#p94435839e8)\" d=\"M 324.363628 374.541013 \r\nL 337.839564 374.541013 \r\nL 337.839564 312.824222 \r\nL 324.363628 312.824222 \r\nz\r\n\" style=\"fill:#00ffff;stroke:#000000;stroke-linejoin:miter;\"/>\r\n   </g>\r\n   <g id=\"patch_10\">\r\n    <path clip-path=\"url(#p94435839e8)\" d=\"M 362.866302 374.541013 \r\nL 376.342238 374.541013 \r\nL 376.342238 332.984765 \r\nL 362.866302 332.984765 \r\nz\r\n\" style=\"fill:#00ffff;stroke:#000000;stroke-linejoin:miter;\"/>\r\n   </g>\r\n   <g id=\"patch_11\">\r\n    <path clip-path=\"url(#p94435839e8)\" d=\"M 401.368976 374.541013 \r\nL 414.844911 374.541013 \r\nL 414.844911 333.343473 \r\nL 401.368976 333.343473 \r\nz\r\n\" style=\"fill:#00ffff;stroke:#000000;stroke-linejoin:miter;\"/>\r\n   </g>\r\n   <g id=\"patch_12\">\r\n    <path clip-path=\"url(#p94435839e8)\" d=\"M 439.871649 374.541013 \r\nL 453.347585 374.541013 \r\nL 453.347585 334.653037 \r\nL 439.871649 334.653037 \r\nz\r\n\" style=\"fill:#00ffff;stroke:#000000;stroke-linejoin:miter;\"/>\r\n   </g>\r\n   <g id=\"patch_13\">\r\n    <path clip-path=\"url(#p94435839e8)\" d=\"M 478.374323 374.541013 \r\nL 491.850259 374.541013 \r\nL 491.850259 335.687965 \r\nL 478.374323 335.687965 \r\nz\r\n\" style=\"fill:#00ffff;stroke:#000000;stroke-linejoin:miter;\"/>\r\n   </g>\r\n   <g id=\"patch_14\">\r\n    <path clip-path=\"url(#p94435839e8)\" d=\"M 516.876997 374.541013 \r\nL 530.352933 374.541013 \r\nL 530.352933 338.783009 \r\nL 516.876997 338.783009 \r\nz\r\n\" style=\"fill:#00ffff;stroke:#000000;stroke-linejoin:miter;\"/>\r\n   </g>\r\n   <g id=\"patch_15\">\r\n    <path clip-path=\"url(#p94435839e8)\" d=\"M 555.379671 374.541013 \r\nL 568.855607 374.541013 \r\nL 568.855607 342.532907 \r\nL 555.379671 342.532907 \r\nz\r\n\" style=\"fill:#00ffff;stroke:#000000;stroke-linejoin:miter;\"/>\r\n   </g>\r\n   <g id=\"patch_16\">\r\n    <path clip-path=\"url(#p94435839e8)\" d=\"M 593.882345 374.541013 \r\nL 607.35828 374.541013 \r\nL 607.35828 354.325269 \r\nL 593.882345 354.325269 \r\nz\r\n\" style=\"fill:#00ffff;stroke:#000000;stroke-linejoin:miter;\"/>\r\n   </g>\r\n   <g id=\"patch_17\">\r\n    <path clip-path=\"url(#p94435839e8)\" d=\"M 632.385018 374.541013 \r\nL 645.860954 374.541013 \r\nL 645.860954 355.496392 \r\nL 632.385018 355.496392 \r\nz\r\n\" style=\"fill:#00ffff;stroke:#000000;stroke-linejoin:miter;\"/>\r\n   </g>\r\n   <g id=\"patch_18\">\r\n    <path clip-path=\"url(#p94435839e8)\" d=\"M 670.887692 374.541013 \r\nL 684.363628 374.541013 \r\nL 684.363628 359.103408 \r\nL 670.887692 359.103408 \r\nz\r\n\" style=\"fill:#00ffff;stroke:#000000;stroke-linejoin:miter;\"/>\r\n   </g>\r\n   <g id=\"patch_19\">\r\n    <path clip-path=\"url(#p94435839e8)\" d=\"M 709.390366 374.541013 \r\nL 722.866302 374.541013 \r\nL 722.866302 359.273282 \r\nL 709.390366 359.273282 \r\nz\r\n\" style=\"fill:#00ffff;stroke:#000000;stroke-linejoin:miter;\"/>\r\n   </g>\r\n   <g id=\"patch_20\">\r\n    <path clip-path=\"url(#p94435839e8)\" d=\"M 747.89304 374.541013 \r\nL 761.368976 374.541013 \r\nL 761.368976 360.949603 \r\nL 747.89304 360.949603 \r\nz\r\n\" style=\"fill:#00ffff;stroke:#000000;stroke-linejoin:miter;\"/>\r\n   </g>\r\n   <g id=\"patch_21\">\r\n    <path clip-path=\"url(#p94435839e8)\" d=\"M 786.395714 374.541013 \r\nL 799.871649 374.541013 \r\nL 799.871649 361.687318 \r\nL 786.395714 361.687318 \r\nz\r\n\" style=\"fill:#00ffff;stroke:#000000;stroke-linejoin:miter;\"/>\r\n   </g>\r\n   <g id=\"patch_22\">\r\n    <path clip-path=\"url(#p94435839e8)\" d=\"M 824.898387 374.541013 \r\nL 838.374323 374.541013 \r\nL 838.374323 362.142121 \r\nL 824.898387 362.142121 \r\nz\r\n\" style=\"fill:#00ffff;stroke:#000000;stroke-linejoin:miter;\"/>\r\n   </g>\r\n   <g id=\"patch_23\">\r\n    <path clip-path=\"url(#p94435839e8)\" d=\"M 863.401061 374.541013 \r\nL 876.876997 374.541013 \r\nL 876.876997 367.163277 \r\nL 863.401061 367.163277 \r\nz\r\n\" style=\"fill:#00ffff;stroke:#000000;stroke-linejoin:miter;\"/>\r\n   </g>\r\n   <g id=\"patch_24\">\r\n    <path clip-path=\"url(#p94435839e8)\" d=\"M 901.903735 374.541013 \r\nL 915.379671 374.541013 \r\nL 915.379671 369.200454 \r\nL 901.903735 369.200454 \r\nz\r\n\" style=\"fill:#00ffff;stroke:#000000;stroke-linejoin:miter;\"/>\r\n   </g>\r\n   <g id=\"patch_25\">\r\n    <path clip-path=\"url(#p94435839e8)\" d=\"M 940.406409 374.541013 \r\nL 953.882345 374.541013 \r\nL 953.882345 375.260378 \r\nL 940.406409 375.260378 \r\nz\r\n\" style=\"fill:#00ffff;stroke:#000000;stroke-linejoin:miter;\"/>\r\n   </g>\r\n   <g id=\"patch_26\">\r\n    <path clip-path=\"url(#p94435839e8)\" d=\"M 978.909083 374.541013 \r\nL 992.385018 374.541013 \r\nL 992.385018 382.586429 \r\nL 978.909083 382.586429 \r\nz\r\n\" style=\"fill:#00ffff;stroke:#000000;stroke-linejoin:miter;\"/>\r\n   </g>\r\n   <g id=\"patch_27\">\r\n    <path clip-path=\"url(#p94435839e8)\" d=\"M 1017.411756 374.541013 \r\nL 1030.887692 374.541013 \r\nL 1030.887692 399.432968 \r\nL 1017.411756 399.432968 \r\nz\r\n\" style=\"fill:#00ffff;stroke:#000000;stroke-linejoin:miter;\"/>\r\n   </g>\r\n   <g id=\"patch_28\">\r\n    <path clip-path=\"url(#p94435839e8)\" d=\"M 1055.91443 374.541013 \r\nL 1069.390366 374.541013 \r\nL 1069.390366 402.345103 \r\nL 1055.91443 402.345103 \r\nz\r\n\" style=\"fill:#00ffff;stroke:#000000;stroke-linejoin:miter;\"/>\r\n   </g>\r\n   <g id=\"patch_29\">\r\n    <path clip-path=\"url(#p94435839e8)\" d=\"M 1094.417104 374.541013 \r\nL 1107.89304 374.541013 \r\nL 1107.89304 541.209034 \r\nL 1094.417104 541.209034 \r\nz\r\n\" style=\"fill:#00ffff;stroke:#000000;stroke-linejoin:miter;\"/>\r\n   </g>\r\n   <g id=\"matplotlib.axis_1\">\r\n    <g id=\"xtick_1\">\r\n     <g id=\"line2d_1\">\r\n      <path clip-path=\"url(#p94435839e8)\" d=\"M 100.085553 565.918125 \r\nL 100.085553 22.318125 \r\n\" style=\"fill:none;stroke:#b0b0b0;stroke-linecap:square;stroke-width:0.8;\"/>\r\n     </g>\r\n     <g id=\"line2d_2\">\r\n      <defs>\r\n       <path d=\"M 0 0 \r\nL 0 3.5 \r\n\" id=\"mc4d6edb738\" style=\"stroke:#000000;stroke-width:0.8;\"/>\r\n      </defs>\r\n      <g>\r\n       <use style=\"stroke:#000000;stroke-width:0.8;\" x=\"100.085553\" xlink:href=\"#mc4d6edb738\" y=\"565.918125\"/>\r\n      </g>\r\n     </g>\r\n     <g id=\"text_1\">\r\n      <!-- FR -->\r\n      <g transform=\"translate(93.735553 580.516562)scale(0.1 -0.1)\">\r\n       <defs>\r\n        <path d=\"M 628 4666 \r\nL 3309 4666 \r\nL 3309 4134 \r\nL 1259 4134 \r\nL 1259 2759 \r\nL 3109 2759 \r\nL 3109 2228 \r\nL 1259 2228 \r\nL 1259 0 \r\nL 628 0 \r\nL 628 4666 \r\nz\r\n\" id=\"DejaVuSans-46\" transform=\"scale(0.015625)\"/>\r\n        <path d=\"M 2841 2188 \r\nQ 3044 2119 3236 1894 \r\nQ 3428 1669 3622 1275 \r\nL 4263 0 \r\nL 3584 0 \r\nL 2988 1197 \r\nQ 2756 1666 2539 1819 \r\nQ 2322 1972 1947 1972 \r\nL 1259 1972 \r\nL 1259 0 \r\nL 628 0 \r\nL 628 4666 \r\nL 2053 4666 \r\nQ 2853 4666 3247 4331 \r\nQ 3641 3997 3641 3322 \r\nQ 3641 2881 3436 2590 \r\nQ 3231 2300 2841 2188 \r\nz\r\nM 1259 4147 \r\nL 1259 2491 \r\nL 2053 2491 \r\nQ 2509 2491 2742 2702 \r\nQ 2975 2913 2975 3322 \r\nQ 2975 3731 2742 3939 \r\nQ 2509 4147 2053 4147 \r\nL 1259 4147 \r\nz\r\n\" id=\"DejaVuSans-52\" transform=\"scale(0.015625)\"/>\r\n       </defs>\r\n       <use xlink:href=\"#DejaVuSans-46\"/>\r\n       <use x=\"57.519531\" xlink:href=\"#DejaVuSans-52\"/>\r\n      </g>\r\n     </g>\r\n    </g>\r\n    <g id=\"xtick_2\">\r\n     <g id=\"line2d_3\">\r\n      <path clip-path=\"url(#p94435839e8)\" d=\"M 138.588227 565.918125 \r\nL 138.588227 22.318125 \r\n\" style=\"fill:none;stroke:#b0b0b0;stroke-linecap:square;stroke-width:0.8;\"/>\r\n     </g>\r\n     <g id=\"line2d_4\">\r\n      <g>\r\n       <use style=\"stroke:#000000;stroke-width:0.8;\" x=\"138.588227\" xlink:href=\"#mc4d6edb738\" y=\"565.918125\"/>\r\n      </g>\r\n     </g>\r\n     <g id=\"text_2\">\r\n      <!-- DE -->\r\n      <g transform=\"translate(131.578852 580.516562)scale(0.1 -0.1)\">\r\n       <defs>\r\n        <path d=\"M 1259 4147 \r\nL 1259 519 \r\nL 2022 519 \r\nQ 2988 519 3436 956 \r\nQ 3884 1394 3884 2338 \r\nQ 3884 3275 3436 3711 \r\nQ 2988 4147 2022 4147 \r\nL 1259 4147 \r\nz\r\nM 628 4666 \r\nL 1925 4666 \r\nQ 3281 4666 3915 4102 \r\nQ 4550 3538 4550 2338 \r\nQ 4550 1131 3912 565 \r\nQ 3275 0 1925 0 \r\nL 628 0 \r\nL 628 4666 \r\nz\r\n\" id=\"DejaVuSans-44\" transform=\"scale(0.015625)\"/>\r\n        <path d=\"M 628 4666 \r\nL 3578 4666 \r\nL 3578 4134 \r\nL 1259 4134 \r\nL 1259 2753 \r\nL 3481 2753 \r\nL 3481 2222 \r\nL 1259 2222 \r\nL 1259 531 \r\nL 3634 531 \r\nL 3634 0 \r\nL 628 0 \r\nL 628 4666 \r\nz\r\n\" id=\"DejaVuSans-45\" transform=\"scale(0.015625)\"/>\r\n       </defs>\r\n       <use xlink:href=\"#DejaVuSans-44\"/>\r\n       <use x=\"77.001953\" xlink:href=\"#DejaVuSans-45\"/>\r\n      </g>\r\n     </g>\r\n    </g>\r\n    <g id=\"xtick_3\">\r\n     <g id=\"line2d_5\">\r\n      <path clip-path=\"url(#p94435839e8)\" d=\"M 177.090901 565.918125 \r\nL 177.090901 22.318125 \r\n\" style=\"fill:none;stroke:#b0b0b0;stroke-linecap:square;stroke-width:0.8;\"/>\r\n     </g>\r\n     <g id=\"line2d_6\">\r\n      <g>\r\n       <use style=\"stroke:#000000;stroke-width:0.8;\" x=\"177.090901\" xlink:href=\"#mc4d6edb738\" y=\"565.918125\"/>\r\n      </g>\r\n     </g>\r\n     <g id=\"text_3\">\r\n      <!-- SE -->\r\n      <g transform=\"translate(170.757307 580.516562)scale(0.1 -0.1)\">\r\n       <defs>\r\n        <path d=\"M 3425 4513 \r\nL 3425 3897 \r\nQ 3066 4069 2747 4153 \r\nQ 2428 4238 2131 4238 \r\nQ 1616 4238 1336 4038 \r\nQ 1056 3838 1056 3469 \r\nQ 1056 3159 1242 3001 \r\nQ 1428 2844 1947 2747 \r\nL 2328 2669 \r\nQ 3034 2534 3370 2195 \r\nQ 3706 1856 3706 1288 \r\nQ 3706 609 3251 259 \r\nQ 2797 -91 1919 -91 \r\nQ 1588 -91 1214 -16 \r\nQ 841 59 441 206 \r\nL 441 856 \r\nQ 825 641 1194 531 \r\nQ 1563 422 1919 422 \r\nQ 2459 422 2753 634 \r\nQ 3047 847 3047 1241 \r\nQ 3047 1584 2836 1778 \r\nQ 2625 1972 2144 2069 \r\nL 1759 2144 \r\nQ 1053 2284 737 2584 \r\nQ 422 2884 422 3419 \r\nQ 422 4038 858 4394 \r\nQ 1294 4750 2059 4750 \r\nQ 2388 4750 2728 4690 \r\nQ 3069 4631 3425 4513 \r\nz\r\n\" id=\"DejaVuSans-53\" transform=\"scale(0.015625)\"/>\r\n       </defs>\r\n       <use xlink:href=\"#DejaVuSans-53\"/>\r\n       <use x=\"63.476562\" xlink:href=\"#DejaVuSans-45\"/>\r\n      </g>\r\n     </g>\r\n    </g>\r\n    <g id=\"xtick_4\">\r\n     <g id=\"line2d_7\">\r\n      <path clip-path=\"url(#p94435839e8)\" d=\"M 215.593575 565.918125 \r\nL 215.593575 22.318125 \r\n\" style=\"fill:none;stroke:#b0b0b0;stroke-linecap:square;stroke-width:0.8;\"/>\r\n     </g>\r\n     <g id=\"line2d_8\">\r\n      <g>\r\n       <use style=\"stroke:#000000;stroke-width:0.8;\" x=\"215.593575\" xlink:href=\"#mc4d6edb738\" y=\"565.918125\"/>\r\n      </g>\r\n     </g>\r\n     <g id=\"text_4\">\r\n      <!-- CZ -->\r\n      <g transform=\"translate(208.677168 580.516562)scale(0.1 -0.1)\">\r\n       <defs>\r\n        <path d=\"M 4122 4306 \r\nL 4122 3641 \r\nQ 3803 3938 3442 4084 \r\nQ 3081 4231 2675 4231 \r\nQ 1875 4231 1450 3742 \r\nQ 1025 3253 1025 2328 \r\nQ 1025 1406 1450 917 \r\nQ 1875 428 2675 428 \r\nQ 3081 428 3442 575 \r\nQ 3803 722 4122 1019 \r\nL 4122 359 \r\nQ 3791 134 3420 21 \r\nQ 3050 -91 2638 -91 \r\nQ 1578 -91 968 557 \r\nQ 359 1206 359 2328 \r\nQ 359 3453 968 4101 \r\nQ 1578 4750 2638 4750 \r\nQ 3056 4750 3426 4639 \r\nQ 3797 4528 4122 4306 \r\nz\r\n\" id=\"DejaVuSans-43\" transform=\"scale(0.015625)\"/>\r\n        <path d=\"M 359 4666 \r\nL 4025 4666 \r\nL 4025 4184 \r\nL 1075 531 \r\nL 4097 531 \r\nL 4097 0 \r\nL 288 0 \r\nL 288 481 \r\nL 3238 4134 \r\nL 359 4134 \r\nL 359 4666 \r\nz\r\n\" id=\"DejaVuSans-5a\" transform=\"scale(0.015625)\"/>\r\n       </defs>\r\n       <use xlink:href=\"#DejaVuSans-43\"/>\r\n       <use x=\"69.824219\" xlink:href=\"#DejaVuSans-5a\"/>\r\n      </g>\r\n     </g>\r\n    </g>\r\n    <g id=\"xtick_5\">\r\n     <g id=\"line2d_9\">\r\n      <path clip-path=\"url(#p94435839e8)\" d=\"M 254.096248 565.918125 \r\nL 254.096248 22.318125 \r\n\" style=\"fill:none;stroke:#b0b0b0;stroke-linecap:square;stroke-width:0.8;\"/>\r\n     </g>\r\n     <g id=\"line2d_10\">\r\n      <g>\r\n       <use style=\"stroke:#000000;stroke-width:0.8;\" x=\"254.096248\" xlink:href=\"#mc4d6edb738\" y=\"565.918125\"/>\r\n      </g>\r\n     </g>\r\n     <g id=\"text_5\">\r\n      <!-- AT -->\r\n      <g transform=\"translate(248.00953 580.516562)scale(0.1 -0.1)\">\r\n       <defs>\r\n        <path d=\"M 2188 4044 \r\nL 1331 1722 \r\nL 3047 1722 \r\nL 2188 4044 \r\nz\r\nM 1831 4666 \r\nL 2547 4666 \r\nL 4325 0 \r\nL 3669 0 \r\nL 3244 1197 \r\nL 1141 1197 \r\nL 716 0 \r\nL 50 0 \r\nL 1831 4666 \r\nz\r\n\" id=\"DejaVuSans-41\" transform=\"scale(0.015625)\"/>\r\n        <path d=\"M -19 4666 \r\nL 3928 4666 \r\nL 3928 4134 \r\nL 2272 4134 \r\nL 2272 0 \r\nL 1638 0 \r\nL 1638 4134 \r\nL -19 4134 \r\nL -19 4666 \r\nz\r\n\" id=\"DejaVuSans-54\" transform=\"scale(0.015625)\"/>\r\n       </defs>\r\n       <use xlink:href=\"#DejaVuSans-41\"/>\r\n       <use x=\"60.658203\" xlink:href=\"#DejaVuSans-54\"/>\r\n      </g>\r\n     </g>\r\n    </g>\r\n    <g id=\"xtick_6\">\r\n     <g id=\"line2d_11\">\r\n      <path clip-path=\"url(#p94435839e8)\" d=\"M 292.598922 565.918125 \r\nL 292.598922 22.318125 \r\n\" style=\"fill:none;stroke:#b0b0b0;stroke-linecap:square;stroke-width:0.8;\"/>\r\n     </g>\r\n     <g id=\"line2d_12\">\r\n      <g>\r\n       <use style=\"stroke:#000000;stroke-width:0.8;\" x=\"292.598922\" xlink:href=\"#mc4d6edb738\" y=\"565.918125\"/>\r\n      </g>\r\n     </g>\r\n     <g id=\"text_6\">\r\n      <!-- NO -->\r\n      <g transform=\"translate(284.92236 580.516562)scale(0.1 -0.1)\">\r\n       <defs>\r\n        <path d=\"M 628 4666 \r\nL 1478 4666 \r\nL 3547 763 \r\nL 3547 4666 \r\nL 4159 4666 \r\nL 4159 0 \r\nL 3309 0 \r\nL 1241 3903 \r\nL 1241 0 \r\nL 628 0 \r\nL 628 4666 \r\nz\r\n\" id=\"DejaVuSans-4e\" transform=\"scale(0.015625)\"/>\r\n        <path d=\"M 2522 4238 \r\nQ 1834 4238 1429 3725 \r\nQ 1025 3213 1025 2328 \r\nQ 1025 1447 1429 934 \r\nQ 1834 422 2522 422 \r\nQ 3209 422 3611 934 \r\nQ 4013 1447 4013 2328 \r\nQ 4013 3213 3611 3725 \r\nQ 3209 4238 2522 4238 \r\nz\r\nM 2522 4750 \r\nQ 3503 4750 4090 4092 \r\nQ 4678 3434 4678 2328 \r\nQ 4678 1225 4090 567 \r\nQ 3503 -91 2522 -91 \r\nQ 1538 -91 948 565 \r\nQ 359 1222 359 2328 \r\nQ 359 3434 948 4092 \r\nQ 1538 4750 2522 4750 \r\nz\r\n\" id=\"DejaVuSans-4f\" transform=\"scale(0.015625)\"/>\r\n       </defs>\r\n       <use xlink:href=\"#DejaVuSans-4e\"/>\r\n       <use x=\"74.804688\" xlink:href=\"#DejaVuSans-4f\"/>\r\n      </g>\r\n     </g>\r\n    </g>\r\n    <g id=\"xtick_7\">\r\n     <g id=\"line2d_13\">\r\n      <path clip-path=\"url(#p94435839e8)\" d=\"M 331.101596 565.918125 \r\nL 331.101596 22.318125 \r\n\" style=\"fill:none;stroke:#b0b0b0;stroke-linecap:square;stroke-width:0.8;\"/>\r\n     </g>\r\n     <g id=\"line2d_14\">\r\n      <g>\r\n       <use style=\"stroke:#000000;stroke-width:0.8;\" x=\"331.101596\" xlink:href=\"#mc4d6edb738\" y=\"565.918125\"/>\r\n      </g>\r\n     </g>\r\n     <g id=\"text_7\">\r\n      <!-- ES -->\r\n      <g transform=\"translate(324.768002 580.516562)scale(0.1 -0.1)\">\r\n       <use xlink:href=\"#DejaVuSans-45\"/>\r\n       <use x=\"63.183594\" xlink:href=\"#DejaVuSans-53\"/>\r\n      </g>\r\n     </g>\r\n    </g>\r\n    <g id=\"xtick_8\">\r\n     <g id=\"line2d_15\">\r\n      <path clip-path=\"url(#p94435839e8)\" d=\"M 369.60427 565.918125 \r\nL 369.60427 22.318125 \r\n\" style=\"fill:none;stroke:#b0b0b0;stroke-linecap:square;stroke-width:0.8;\"/>\r\n     </g>\r\n     <g id=\"line2d_16\">\r\n      <g>\r\n       <use style=\"stroke:#000000;stroke-width:0.8;\" x=\"369.60427\" xlink:href=\"#mc4d6edb738\" y=\"565.918125\"/>\r\n      </g>\r\n     </g>\r\n     <g id=\"text_8\">\r\n      <!-- DK -->\r\n      <g transform=\"translate(362.475363 580.516562)scale(0.1 -0.1)\">\r\n       <defs>\r\n        <path d=\"M 628 4666 \r\nL 1259 4666 \r\nL 1259 2694 \r\nL 3353 4666 \r\nL 4166 4666 \r\nL 1850 2491 \r\nL 4331 0 \r\nL 3500 0 \r\nL 1259 2247 \r\nL 1259 0 \r\nL 628 0 \r\nL 628 4666 \r\nz\r\n\" id=\"DejaVuSans-4b\" transform=\"scale(0.015625)\"/>\r\n       </defs>\r\n       <use xlink:href=\"#DejaVuSans-44\"/>\r\n       <use x=\"77.001953\" xlink:href=\"#DejaVuSans-4b\"/>\r\n      </g>\r\n     </g>\r\n    </g>\r\n    <g id=\"xtick_9\">\r\n     <g id=\"line2d_17\">\r\n      <path clip-path=\"url(#p94435839e8)\" d=\"M 408.106944 565.918125 \r\nL 408.106944 22.318125 \r\n\" style=\"fill:none;stroke:#b0b0b0;stroke-linecap:square;stroke-width:0.8;\"/>\r\n     </g>\r\n     <g id=\"line2d_18\">\r\n      <g>\r\n       <use style=\"stroke:#000000;stroke-width:0.8;\" x=\"408.106944\" xlink:href=\"#mc4d6edb738\" y=\"565.918125\"/>\r\n      </g>\r\n     </g>\r\n     <g id=\"text_9\">\r\n      <!-- CH -->\r\n      <g transform=\"translate(400.855381 580.516562)scale(0.1 -0.1)\">\r\n       <defs>\r\n        <path d=\"M 628 4666 \r\nL 1259 4666 \r\nL 1259 2753 \r\nL 3553 2753 \r\nL 3553 4666 \r\nL 4184 4666 \r\nL 4184 0 \r\nL 3553 0 \r\nL 3553 2222 \r\nL 1259 2222 \r\nL 1259 0 \r\nL 628 0 \r\nL 628 4666 \r\nz\r\n\" id=\"DejaVuSans-48\" transform=\"scale(0.015625)\"/>\r\n       </defs>\r\n       <use xlink:href=\"#DejaVuSans-43\"/>\r\n       <use x=\"69.824219\" xlink:href=\"#DejaVuSans-48\"/>\r\n      </g>\r\n     </g>\r\n    </g>\r\n    <g id=\"xtick_10\">\r\n     <g id=\"line2d_19\">\r\n      <path clip-path=\"url(#p94435839e8)\" d=\"M 446.609617 565.918125 \r\nL 446.609617 22.318125 \r\n\" style=\"fill:none;stroke:#b0b0b0;stroke-linecap:square;stroke-width:0.8;\"/>\r\n     </g>\r\n     <g id=\"line2d_20\">\r\n      <g>\r\n       <use style=\"stroke:#000000;stroke-width:0.8;\" x=\"446.609617\" xlink:href=\"#mc4d6edb738\" y=\"565.918125\"/>\r\n      </g>\r\n     </g>\r\n     <g id=\"text_10\">\r\n      <!-- BG -->\r\n      <g transform=\"translate(439.39243 580.516562)scale(0.1 -0.1)\">\r\n       <defs>\r\n        <path d=\"M 1259 2228 \r\nL 1259 519 \r\nL 2272 519 \r\nQ 2781 519 3026 730 \r\nQ 3272 941 3272 1375 \r\nQ 3272 1813 3026 2020 \r\nQ 2781 2228 2272 2228 \r\nL 1259 2228 \r\nz\r\nM 1259 4147 \r\nL 1259 2741 \r\nL 2194 2741 \r\nQ 2656 2741 2882 2914 \r\nQ 3109 3088 3109 3444 \r\nQ 3109 3797 2882 3972 \r\nQ 2656 4147 2194 4147 \r\nL 1259 4147 \r\nz\r\nM 628 4666 \r\nL 2241 4666 \r\nQ 2963 4666 3353 4366 \r\nQ 3744 4066 3744 3513 \r\nQ 3744 3084 3544 2831 \r\nQ 3344 2578 2956 2516 \r\nQ 3422 2416 3680 2098 \r\nQ 3938 1781 3938 1306 \r\nQ 3938 681 3513 340 \r\nQ 3088 0 2303 0 \r\nL 628 0 \r\nL 628 4666 \r\nz\r\n\" id=\"DejaVuSans-42\" transform=\"scale(0.015625)\"/>\r\n        <path d=\"M 3809 666 \r\nL 3809 1919 \r\nL 2778 1919 \r\nL 2778 2438 \r\nL 4434 2438 \r\nL 4434 434 \r\nQ 4069 175 3628 42 \r\nQ 3188 -91 2688 -91 \r\nQ 1594 -91 976 548 \r\nQ 359 1188 359 2328 \r\nQ 359 3472 976 4111 \r\nQ 1594 4750 2688 4750 \r\nQ 3144 4750 3555 4637 \r\nQ 3966 4525 4313 4306 \r\nL 4313 3634 \r\nQ 3963 3931 3569 4081 \r\nQ 3175 4231 2741 4231 \r\nQ 1884 4231 1454 3753 \r\nQ 1025 3275 1025 2328 \r\nQ 1025 1384 1454 906 \r\nQ 1884 428 2741 428 \r\nQ 3075 428 3337 486 \r\nQ 3600 544 3809 666 \r\nz\r\n\" id=\"DejaVuSans-47\" transform=\"scale(0.015625)\"/>\r\n       </defs>\r\n       <use xlink:href=\"#DejaVuSans-42\"/>\r\n       <use x=\"66.853516\" xlink:href=\"#DejaVuSans-47\"/>\r\n      </g>\r\n     </g>\r\n    </g>\r\n    <g id=\"xtick_11\">\r\n     <g id=\"line2d_21\">\r\n      <path clip-path=\"url(#p94435839e8)\" d=\"M 485.112291 565.918125 \r\nL 485.112291 22.318125 \r\n\" style=\"fill:none;stroke:#b0b0b0;stroke-linecap:square;stroke-width:0.8;\"/>\r\n     </g>\r\n     <g id=\"line2d_22\">\r\n      <g>\r\n       <use style=\"stroke:#000000;stroke-width:0.8;\" x=\"485.112291\" xlink:href=\"#mc4d6edb738\" y=\"565.918125\"/>\r\n      </g>\r\n     </g>\r\n     <g id=\"text_11\">\r\n      <!-- SK -->\r\n      <g transform=\"translate(478.659166 580.516562)scale(0.1 -0.1)\">\r\n       <use xlink:href=\"#DejaVuSans-53\"/>\r\n       <use x=\"63.476562\" xlink:href=\"#DejaVuSans-4b\"/>\r\n      </g>\r\n     </g>\r\n    </g>\r\n    <g id=\"xtick_12\">\r\n     <g id=\"line2d_23\">\r\n      <path clip-path=\"url(#p94435839e8)\" d=\"M 523.614965 565.918125 \r\nL 523.614965 22.318125 \r\n\" style=\"fill:none;stroke:#b0b0b0;stroke-linecap:square;stroke-width:0.8;\"/>\r\n     </g>\r\n     <g id=\"line2d_24\">\r\n      <g>\r\n       <use style=\"stroke:#000000;stroke-width:0.8;\" x=\"523.614965\" xlink:href=\"#mc4d6edb738\" y=\"565.918125\"/>\r\n      </g>\r\n     </g>\r\n     <g id=\"text_12\">\r\n      <!-- PT -->\r\n      <g transform=\"translate(517.546215 580.516562)scale(0.1 -0.1)\">\r\n       <defs>\r\n        <path d=\"M 1259 4147 \r\nL 1259 2394 \r\nL 2053 2394 \r\nQ 2494 2394 2734 2622 \r\nQ 2975 2850 2975 3272 \r\nQ 2975 3691 2734 3919 \r\nQ 2494 4147 2053 4147 \r\nL 1259 4147 \r\nz\r\nM 628 4666 \r\nL 2053 4666 \r\nQ 2838 4666 3239 4311 \r\nQ 3641 3956 3641 3272 \r\nQ 3641 2581 3239 2228 \r\nQ 2838 1875 2053 1875 \r\nL 1259 1875 \r\nL 1259 0 \r\nL 628 0 \r\nL 628 4666 \r\nz\r\n\" id=\"DejaVuSans-50\" transform=\"scale(0.015625)\"/>\r\n       </defs>\r\n       <use xlink:href=\"#DejaVuSans-50\"/>\r\n       <use x=\"60.302734\" xlink:href=\"#DejaVuSans-54\"/>\r\n      </g>\r\n     </g>\r\n    </g>\r\n    <g id=\"xtick_13\">\r\n     <g id=\"line2d_25\">\r\n      <path clip-path=\"url(#p94435839e8)\" d=\"M 562.117639 565.918125 \r\nL 562.117639 22.318125 \r\n\" style=\"fill:none;stroke:#b0b0b0;stroke-linecap:square;stroke-width:0.8;\"/>\r\n     </g>\r\n     <g id=\"line2d_26\">\r\n      <g>\r\n       <use style=\"stroke:#000000;stroke-width:0.8;\" x=\"562.117639\" xlink:href=\"#mc4d6edb738\" y=\"565.918125\"/>\r\n      </g>\r\n     </g>\r\n     <g id=\"text_13\">\r\n      <!-- SI -->\r\n      <g transform=\"translate(557.46842 580.516562)scale(0.1 -0.1)\">\r\n       <defs>\r\n        <path d=\"M 628 4666 \r\nL 1259 4666 \r\nL 1259 0 \r\nL 628 0 \r\nL 628 4666 \r\nz\r\n\" id=\"DejaVuSans-49\" transform=\"scale(0.015625)\"/>\r\n       </defs>\r\n       <use xlink:href=\"#DejaVuSans-53\"/>\r\n       <use x=\"63.476562\" xlink:href=\"#DejaVuSans-49\"/>\r\n      </g>\r\n     </g>\r\n    </g>\r\n    <g id=\"xtick_14\">\r\n     <g id=\"line2d_27\">\r\n      <path clip-path=\"url(#p94435839e8)\" d=\"M 600.620312 565.918125 \r\nL 600.620312 22.318125 \r\n\" style=\"fill:none;stroke:#b0b0b0;stroke-linecap:square;stroke-width:0.8;\"/>\r\n     </g>\r\n     <g id=\"line2d_28\">\r\n      <g>\r\n       <use style=\"stroke:#000000;stroke-width:0.8;\" x=\"600.620312\" xlink:href=\"#mc4d6edb738\" y=\"565.918125\"/>\r\n      </g>\r\n     </g>\r\n     <g id=\"text_14\">\r\n      <!-- BE -->\r\n      <g transform=\"translate(594.030469 580.516562)scale(0.1 -0.1)\">\r\n       <use xlink:href=\"#DejaVuSans-42\"/>\r\n       <use x=\"68.603516\" xlink:href=\"#DejaVuSans-45\"/>\r\n      </g>\r\n     </g>\r\n    </g>\r\n    <g id=\"xtick_15\">\r\n     <g id=\"line2d_29\">\r\n      <path clip-path=\"url(#p94435839e8)\" d=\"M 639.122986 565.918125 \r\nL 639.122986 22.318125 \r\n\" style=\"fill:none;stroke:#b0b0b0;stroke-linecap:square;stroke-width:0.8;\"/>\r\n     </g>\r\n     <g id=\"line2d_30\">\r\n      <g>\r\n       <use style=\"stroke:#000000;stroke-width:0.8;\" x=\"639.122986\" xlink:href=\"#mc4d6edb738\" y=\"565.918125\"/>\r\n      </g>\r\n     </g>\r\n     <g id=\"text_15\">\r\n      <!-- EE -->\r\n      <g transform=\"translate(632.804236 580.516562)scale(0.1 -0.1)\">\r\n       <use xlink:href=\"#DejaVuSans-45\"/>\r\n       <use x=\"63.183594\" xlink:href=\"#DejaVuSans-45\"/>\r\n      </g>\r\n     </g>\r\n    </g>\r\n    <g id=\"xtick_16\">\r\n     <g id=\"line2d_31\">\r\n      <path clip-path=\"url(#p94435839e8)\" d=\"M 677.62566 565.918125 \r\nL 677.62566 22.318125 \r\n\" style=\"fill:none;stroke:#b0b0b0;stroke-linecap:square;stroke-width:0.8;\"/>\r\n     </g>\r\n     <g id=\"line2d_32\">\r\n      <g>\r\n       <use style=\"stroke:#000000;stroke-width:0.8;\" x=\"677.62566\" xlink:href=\"#mc4d6edb738\" y=\"565.918125\"/>\r\n      </g>\r\n     </g>\r\n     <g id=\"text_16\">\r\n      <!-- NL -->\r\n      <g transform=\"translate(671.099098 580.516562)scale(0.1 -0.1)\">\r\n       <defs>\r\n        <path d=\"M 628 4666 \r\nL 1259 4666 \r\nL 1259 531 \r\nL 3531 531 \r\nL 3531 0 \r\nL 628 0 \r\nL 628 4666 \r\nz\r\n\" id=\"DejaVuSans-4c\" transform=\"scale(0.015625)\"/>\r\n       </defs>\r\n       <use xlink:href=\"#DejaVuSans-4e\"/>\r\n       <use x=\"74.804688\" xlink:href=\"#DejaVuSans-4c\"/>\r\n      </g>\r\n     </g>\r\n    </g>\r\n    <g id=\"xtick_17\">\r\n     <g id=\"line2d_33\">\r\n      <path clip-path=\"url(#p94435839e8)\" d=\"M 716.128334 565.918125 \r\nL 716.128334 22.318125 \r\n\" style=\"fill:none;stroke:#b0b0b0;stroke-linecap:square;stroke-width:0.8;\"/>\r\n     </g>\r\n     <g id=\"line2d_34\">\r\n      <g>\r\n       <use style=\"stroke:#000000;stroke-width:0.8;\" x=\"716.128334\" xlink:href=\"#mc4d6edb738\" y=\"565.918125\"/>\r\n      </g>\r\n     </g>\r\n     <g id=\"text_17\">\r\n      <!-- LT -->\r\n      <g transform=\"translate(710.97599 580.516562)scale(0.1 -0.1)\">\r\n       <use xlink:href=\"#DejaVuSans-4c\"/>\r\n       <use x=\"41.962891\" xlink:href=\"#DejaVuSans-54\"/>\r\n      </g>\r\n     </g>\r\n    </g>\r\n    <g id=\"xtick_18\">\r\n     <g id=\"line2d_35\">\r\n      <path clip-path=\"url(#p94435839e8)\" d=\"M 754.631008 565.918125 \r\nL 754.631008 22.318125 \r\n\" style=\"fill:none;stroke:#b0b0b0;stroke-linecap:square;stroke-width:0.8;\"/>\r\n     </g>\r\n     <g id=\"line2d_36\">\r\n      <g>\r\n       <use style=\"stroke:#000000;stroke-width:0.8;\" x=\"754.631008\" xlink:href=\"#mc4d6edb738\" y=\"565.918125\"/>\r\n      </g>\r\n     </g>\r\n     <g id=\"text_18\">\r\n      <!-- IT -->\r\n      <g transform=\"translate(750.102101 580.516562)scale(0.1 -0.1)\">\r\n       <use xlink:href=\"#DejaVuSans-49\"/>\r\n       <use x=\"29.492188\" xlink:href=\"#DejaVuSans-54\"/>\r\n      </g>\r\n     </g>\r\n    </g>\r\n    <g id=\"xtick_19\">\r\n     <g id=\"line2d_37\">\r\n      <path clip-path=\"url(#p94435839e8)\" d=\"M 793.133681 565.918125 \r\nL 793.133681 22.318125 \r\n\" style=\"fill:none;stroke:#b0b0b0;stroke-linecap:square;stroke-width:0.8;\"/>\r\n     </g>\r\n     <g id=\"line2d_38\">\r\n      <g>\r\n       <use style=\"stroke:#000000;stroke-width:0.8;\" x=\"793.133681\" xlink:href=\"#mc4d6edb738\" y=\"565.918125\"/>\r\n      </g>\r\n     </g>\r\n     <g id=\"text_19\">\r\n      <!-- HU -->\r\n      <g transform=\"translate(785.71415 580.516562)scale(0.1 -0.1)\">\r\n       <defs>\r\n        <path d=\"M 556 4666 \r\nL 1191 4666 \r\nL 1191 1831 \r\nQ 1191 1081 1462 751 \r\nQ 1734 422 2344 422 \r\nQ 2950 422 3222 751 \r\nQ 3494 1081 3494 1831 \r\nL 3494 4666 \r\nL 4128 4666 \r\nL 4128 1753 \r\nQ 4128 841 3676 375 \r\nQ 3225 -91 2344 -91 \r\nQ 1459 -91 1007 375 \r\nQ 556 841 556 1753 \r\nL 556 4666 \r\nz\r\n\" id=\"DejaVuSans-55\" transform=\"scale(0.015625)\"/>\r\n       </defs>\r\n       <use xlink:href=\"#DejaVuSans-48\"/>\r\n       <use x=\"75.195312\" xlink:href=\"#DejaVuSans-55\"/>\r\n      </g>\r\n     </g>\r\n    </g>\r\n    <g id=\"xtick_20\">\r\n     <g id=\"line2d_39\">\r\n      <path clip-path=\"url(#p94435839e8)\" d=\"M 831.636355 565.918125 \r\nL 831.636355 22.318125 \r\n\" style=\"fill:none;stroke:#b0b0b0;stroke-linecap:square;stroke-width:0.8;\"/>\r\n     </g>\r\n     <g id=\"line2d_40\">\r\n      <g>\r\n       <use style=\"stroke:#000000;stroke-width:0.8;\" x=\"831.636355\" xlink:href=\"#mc4d6edb738\" y=\"565.918125\"/>\r\n      </g>\r\n     </g>\r\n     <g id=\"text_20\">\r\n      <!-- LV -->\r\n      <g transform=\"translate(825.980105 580.516562)scale(0.1 -0.1)\">\r\n       <defs>\r\n        <path d=\"M 1831 0 \r\nL 50 4666 \r\nL 709 4666 \r\nL 2188 738 \r\nL 3669 4666 \r\nL 4325 4666 \r\nL 2547 0 \r\nL 1831 0 \r\nz\r\n\" id=\"DejaVuSans-56\" transform=\"scale(0.015625)\"/>\r\n       </defs>\r\n       <use xlink:href=\"#DejaVuSans-4c\"/>\r\n       <use x=\"44.712891\" xlink:href=\"#DejaVuSans-56\"/>\r\n      </g>\r\n     </g>\r\n    </g>\r\n    <g id=\"xtick_21\">\r\n     <g id=\"line2d_41\">\r\n      <path clip-path=\"url(#p94435839e8)\" d=\"M 870.139029 565.918125 \r\nL 870.139029 22.318125 \r\n\" style=\"fill:none;stroke:#b0b0b0;stroke-linecap:square;stroke-width:0.8;\"/>\r\n     </g>\r\n     <g id=\"line2d_42\">\r\n      <g>\r\n       <use style=\"stroke:#000000;stroke-width:0.8;\" x=\"870.139029\" xlink:href=\"#mc4d6edb738\" y=\"565.918125\"/>\r\n      </g>\r\n     </g>\r\n     <g id=\"text_21\">\r\n      <!-- RS -->\r\n      <g transform=\"translate(863.490592 580.516562)scale(0.1 -0.1)\">\r\n       <use xlink:href=\"#DejaVuSans-52\"/>\r\n       <use x=\"69.482422\" xlink:href=\"#DejaVuSans-53\"/>\r\n      </g>\r\n     </g>\r\n    </g>\r\n    <g id=\"xtick_22\">\r\n     <g id=\"line2d_43\">\r\n      <path clip-path=\"url(#p94435839e8)\" d=\"M 908.641703 565.918125 \r\nL 908.641703 22.318125 \r\n\" style=\"fill:none;stroke:#b0b0b0;stroke-linecap:square;stroke-width:0.8;\"/>\r\n     </g>\r\n     <g id=\"line2d_44\">\r\n      <g>\r\n       <use style=\"stroke:#000000;stroke-width:0.8;\" x=\"908.641703\" xlink:href=\"#mc4d6edb738\" y=\"565.918125\"/>\r\n      </g>\r\n     </g>\r\n     <g id=\"text_22\">\r\n      <!-- ME -->\r\n      <g transform=\"translate(901.168265 580.516562)scale(0.1 -0.1)\">\r\n       <defs>\r\n        <path d=\"M 628 4666 \r\nL 1569 4666 \r\nL 2759 1491 \r\nL 3956 4666 \r\nL 4897 4666 \r\nL 4897 0 \r\nL 4281 0 \r\nL 4281 4097 \r\nL 3078 897 \r\nL 2444 897 \r\nL 1241 4097 \r\nL 1241 0 \r\nL 628 0 \r\nL 628 4666 \r\nz\r\n\" id=\"DejaVuSans-4d\" transform=\"scale(0.015625)\"/>\r\n       </defs>\r\n       <use xlink:href=\"#DejaVuSans-4d\"/>\r\n       <use x=\"86.279297\" xlink:href=\"#DejaVuSans-45\"/>\r\n      </g>\r\n     </g>\r\n    </g>\r\n    <g id=\"xtick_23\">\r\n     <g id=\"line2d_45\">\r\n      <path clip-path=\"url(#p94435839e8)\" d=\"M 947.144377 565.918125 \r\nL 947.144377 22.318125 \r\n\" style=\"fill:none;stroke:#b0b0b0;stroke-linecap:square;stroke-width:0.8;\"/>\r\n     </g>\r\n     <g id=\"line2d_46\">\r\n      <g>\r\n       <use style=\"stroke:#000000;stroke-width:0.8;\" x=\"947.144377\" xlink:href=\"#mc4d6edb738\" y=\"565.918125\"/>\r\n      </g>\r\n     </g>\r\n     <g id=\"text_23\">\r\n      <!-- FI -->\r\n      <g transform=\"translate(942.793595 580.516562)scale(0.1 -0.1)\">\r\n       <use xlink:href=\"#DejaVuSans-46\"/>\r\n       <use x=\"57.519531\" xlink:href=\"#DejaVuSans-49\"/>\r\n      </g>\r\n     </g>\r\n    </g>\r\n    <g id=\"xtick_24\">\r\n     <g id=\"line2d_47\">\r\n      <path clip-path=\"url(#p94435839e8)\" d=\"M 985.64705 565.918125 \r\nL 985.64705 22.318125 \r\n\" style=\"fill:none;stroke:#b0b0b0;stroke-linecap:square;stroke-width:0.8;\"/>\r\n     </g>\r\n     <g id=\"line2d_48\">\r\n      <g>\r\n       <use style=\"stroke:#000000;stroke-width:0.8;\" x=\"985.64705\" xlink:href=\"#mc4d6edb738\" y=\"565.918125\"/>\r\n      </g>\r\n     </g>\r\n     <g id=\"text_24\">\r\n      <!-- IE -->\r\n      <g transform=\"translate(981.012675 580.516562)scale(0.1 -0.1)\">\r\n       <use xlink:href=\"#DejaVuSans-49\"/>\r\n       <use x=\"29.492188\" xlink:href=\"#DejaVuSans-45\"/>\r\n      </g>\r\n     </g>\r\n    </g>\r\n    <g id=\"xtick_25\">\r\n     <g id=\"line2d_49\">\r\n      <path clip-path=\"url(#p94435839e8)\" d=\"M 1024.149724 565.918125 \r\nL 1024.149724 22.318125 \r\n\" style=\"fill:none;stroke:#b0b0b0;stroke-linecap:square;stroke-width:0.8;\"/>\r\n     </g>\r\n     <g id=\"line2d_50\">\r\n      <g>\r\n       <use style=\"stroke:#000000;stroke-width:0.8;\" x=\"1024.149724\" xlink:href=\"#mc4d6edb738\" y=\"565.918125\"/>\r\n      </g>\r\n     </g>\r\n     <g id=\"text_25\">\r\n      <!-- PL -->\r\n      <g transform=\"translate(1018.348943 580.516562)scale(0.1 -0.1)\">\r\n       <use xlink:href=\"#DejaVuSans-50\"/>\r\n       <use x=\"60.302734\" xlink:href=\"#DejaVuSans-4c\"/>\r\n      </g>\r\n     </g>\r\n    </g>\r\n    <g id=\"xtick_26\">\r\n     <g id=\"line2d_51\">\r\n      <path clip-path=\"url(#p94435839e8)\" d=\"M 1062.652398 565.918125 \r\nL 1062.652398 22.318125 \r\n\" style=\"fill:none;stroke:#b0b0b0;stroke-linecap:square;stroke-width:0.8;\"/>\r\n     </g>\r\n     <g id=\"line2d_52\">\r\n      <g>\r\n       <use style=\"stroke:#000000;stroke-width:0.8;\" x=\"1062.652398\" xlink:href=\"#mc4d6edb738\" y=\"565.918125\"/>\r\n      </g>\r\n     </g>\r\n     <g id=\"text_26\">\r\n      <!-- GR -->\r\n      <g transform=\"translate(1055.303961 580.516562)scale(0.1 -0.1)\">\r\n       <use xlink:href=\"#DejaVuSans-47\"/>\r\n       <use x=\"77.490234\" xlink:href=\"#DejaVuSans-52\"/>\r\n      </g>\r\n     </g>\r\n    </g>\r\n    <g id=\"xtick_27\">\r\n     <g id=\"line2d_53\">\r\n      <path clip-path=\"url(#p94435839e8)\" d=\"M 1101.155072 565.918125 \r\nL 1101.155072 22.318125 \r\n\" style=\"fill:none;stroke:#b0b0b0;stroke-linecap:square;stroke-width:0.8;\"/>\r\n     </g>\r\n     <g id=\"line2d_54\">\r\n      <g>\r\n       <use style=\"stroke:#000000;stroke-width:0.8;\" x=\"1101.155072\" xlink:href=\"#mc4d6edb738\" y=\"565.918125\"/>\r\n      </g>\r\n     </g>\r\n     <g id=\"text_27\">\r\n      <!-- GB -->\r\n      <g transform=\"translate(1093.850384 580.516562)scale(0.1 -0.1)\">\r\n       <use xlink:href=\"#DejaVuSans-47\"/>\r\n       <use x=\"77.490234\" xlink:href=\"#DejaVuSans-42\"/>\r\n      </g>\r\n     </g>\r\n    </g>\r\n    <g id=\"text_28\">\r\n     <!-- Countries -->\r\n     <g transform=\"translate(576.646094 594.194687)scale(0.1 -0.1)\">\r\n      <defs>\r\n       <path d=\"M 1959 3097 \r\nQ 1497 3097 1228 2736 \r\nQ 959 2375 959 1747 \r\nQ 959 1119 1226 758 \r\nQ 1494 397 1959 397 \r\nQ 2419 397 2687 759 \r\nQ 2956 1122 2956 1747 \r\nQ 2956 2369 2687 2733 \r\nQ 2419 3097 1959 3097 \r\nz\r\nM 1959 3584 \r\nQ 2709 3584 3137 3096 \r\nQ 3566 2609 3566 1747 \r\nQ 3566 888 3137 398 \r\nQ 2709 -91 1959 -91 \r\nQ 1206 -91 779 398 \r\nQ 353 888 353 1747 \r\nQ 353 2609 779 3096 \r\nQ 1206 3584 1959 3584 \r\nz\r\n\" id=\"DejaVuSans-6f\" transform=\"scale(0.015625)\"/>\r\n       <path d=\"M 544 1381 \r\nL 544 3500 \r\nL 1119 3500 \r\nL 1119 1403 \r\nQ 1119 906 1312 657 \r\nQ 1506 409 1894 409 \r\nQ 2359 409 2629 706 \r\nQ 2900 1003 2900 1516 \r\nL 2900 3500 \r\nL 3475 3500 \r\nL 3475 0 \r\nL 2900 0 \r\nL 2900 538 \r\nQ 2691 219 2414 64 \r\nQ 2138 -91 1772 -91 \r\nQ 1169 -91 856 284 \r\nQ 544 659 544 1381 \r\nz\r\nM 1991 3584 \r\nL 1991 3584 \r\nz\r\n\" id=\"DejaVuSans-75\" transform=\"scale(0.015625)\"/>\r\n       <path d=\"M 3513 2113 \r\nL 3513 0 \r\nL 2938 0 \r\nL 2938 2094 \r\nQ 2938 2591 2744 2837 \r\nQ 2550 3084 2163 3084 \r\nQ 1697 3084 1428 2787 \r\nQ 1159 2491 1159 1978 \r\nL 1159 0 \r\nL 581 0 \r\nL 581 3500 \r\nL 1159 3500 \r\nL 1159 2956 \r\nQ 1366 3272 1645 3428 \r\nQ 1925 3584 2291 3584 \r\nQ 2894 3584 3203 3211 \r\nQ 3513 2838 3513 2113 \r\nz\r\n\" id=\"DejaVuSans-6e\" transform=\"scale(0.015625)\"/>\r\n       <path d=\"M 1172 4494 \r\nL 1172 3500 \r\nL 2356 3500 \r\nL 2356 3053 \r\nL 1172 3053 \r\nL 1172 1153 \r\nQ 1172 725 1289 603 \r\nQ 1406 481 1766 481 \r\nL 2356 481 \r\nL 2356 0 \r\nL 1766 0 \r\nQ 1100 0 847 248 \r\nQ 594 497 594 1153 \r\nL 594 3053 \r\nL 172 3053 \r\nL 172 3500 \r\nL 594 3500 \r\nL 594 4494 \r\nL 1172 4494 \r\nz\r\n\" id=\"DejaVuSans-74\" transform=\"scale(0.015625)\"/>\r\n       <path d=\"M 2631 2963 \r\nQ 2534 3019 2420 3045 \r\nQ 2306 3072 2169 3072 \r\nQ 1681 3072 1420 2755 \r\nQ 1159 2438 1159 1844 \r\nL 1159 0 \r\nL 581 0 \r\nL 581 3500 \r\nL 1159 3500 \r\nL 1159 2956 \r\nQ 1341 3275 1631 3429 \r\nQ 1922 3584 2338 3584 \r\nQ 2397 3584 2469 3576 \r\nQ 2541 3569 2628 3553 \r\nL 2631 2963 \r\nz\r\n\" id=\"DejaVuSans-72\" transform=\"scale(0.015625)\"/>\r\n       <path d=\"M 603 3500 \r\nL 1178 3500 \r\nL 1178 0 \r\nL 603 0 \r\nL 603 3500 \r\nz\r\nM 603 4863 \r\nL 1178 4863 \r\nL 1178 4134 \r\nL 603 4134 \r\nL 603 4863 \r\nz\r\n\" id=\"DejaVuSans-69\" transform=\"scale(0.015625)\"/>\r\n       <path d=\"M 3597 1894 \r\nL 3597 1613 \r\nL 953 1613 \r\nQ 991 1019 1311 708 \r\nQ 1631 397 2203 397 \r\nQ 2534 397 2845 478 \r\nQ 3156 559 3463 722 \r\nL 3463 178 \r\nQ 3153 47 2828 -22 \r\nQ 2503 -91 2169 -91 \r\nQ 1331 -91 842 396 \r\nQ 353 884 353 1716 \r\nQ 353 2575 817 3079 \r\nQ 1281 3584 2069 3584 \r\nQ 2775 3584 3186 3129 \r\nQ 3597 2675 3597 1894 \r\nz\r\nM 3022 2063 \r\nQ 3016 2534 2758 2815 \r\nQ 2500 3097 2075 3097 \r\nQ 1594 3097 1305 2825 \r\nQ 1016 2553 972 2059 \r\nL 3022 2063 \r\nz\r\n\" id=\"DejaVuSans-65\" transform=\"scale(0.015625)\"/>\r\n       <path d=\"M 2834 3397 \r\nL 2834 2853 \r\nQ 2591 2978 2328 3040 \r\nQ 2066 3103 1784 3103 \r\nQ 1356 3103 1142 2972 \r\nQ 928 2841 928 2578 \r\nQ 928 2378 1081 2264 \r\nQ 1234 2150 1697 2047 \r\nL 1894 2003 \r\nQ 2506 1872 2764 1633 \r\nQ 3022 1394 3022 966 \r\nQ 3022 478 2636 193 \r\nQ 2250 -91 1575 -91 \r\nQ 1294 -91 989 -36 \r\nQ 684 19 347 128 \r\nL 347 722 \r\nQ 666 556 975 473 \r\nQ 1284 391 1588 391 \r\nQ 1994 391 2212 530 \r\nQ 2431 669 2431 922 \r\nQ 2431 1156 2273 1281 \r\nQ 2116 1406 1581 1522 \r\nL 1381 1569 \r\nQ 847 1681 609 1914 \r\nQ 372 2147 372 2553 \r\nQ 372 3047 722 3315 \r\nQ 1072 3584 1716 3584 \r\nQ 2034 3584 2315 3537 \r\nQ 2597 3491 2834 3397 \r\nz\r\n\" id=\"DejaVuSans-73\" transform=\"scale(0.015625)\"/>\r\n      </defs>\r\n      <use xlink:href=\"#DejaVuSans-43\"/>\r\n      <use x=\"69.824219\" xlink:href=\"#DejaVuSans-6f\"/>\r\n      <use x=\"131.005859\" xlink:href=\"#DejaVuSans-75\"/>\r\n      <use x=\"194.384766\" xlink:href=\"#DejaVuSans-6e\"/>\r\n      <use x=\"257.763672\" xlink:href=\"#DejaVuSans-74\"/>\r\n      <use x=\"296.972656\" xlink:href=\"#DejaVuSans-72\"/>\r\n      <use x=\"338.085938\" xlink:href=\"#DejaVuSans-69\"/>\r\n      <use x=\"365.869141\" xlink:href=\"#DejaVuSans-65\"/>\r\n      <use x=\"427.392578\" xlink:href=\"#DejaVuSans-73\"/>\r\n     </g>\r\n    </g>\r\n   </g>\r\n   <g id=\"matplotlib.axis_2\">\r\n    <g id=\"ytick_1\">\r\n     <g id=\"line2d_55\">\r\n      <path clip-path=\"url(#p94435839e8)\" d=\"M 42.620313 534.613653 \r\nL 1158.620312 534.613653 \r\n\" style=\"fill:none;stroke:#b0b0b0;stroke-linecap:square;stroke-width:0.8;\"/>\r\n     </g>\r\n     <g id=\"line2d_56\">\r\n      <defs>\r\n       <path d=\"M 0 0 \r\nL -3.5 0 \r\n\" id=\"maadb19d708\" style=\"stroke:#000000;stroke-width:0.8;\"/>\r\n      </defs>\r\n      <g>\r\n       <use style=\"stroke:#000000;stroke-width:0.8;\" x=\"42.620313\" xlink:href=\"#maadb19d708\" y=\"534.613653\"/>\r\n      </g>\r\n     </g>\r\n     <g id=\"text_29\">\r\n      <!-- −4 -->\r\n      <g transform=\"translate(20.878125 538.412872)scale(0.1 -0.1)\">\r\n       <defs>\r\n        <path d=\"M 678 2272 \r\nL 4684 2272 \r\nL 4684 1741 \r\nL 678 1741 \r\nL 678 2272 \r\nz\r\n\" id=\"DejaVuSans-2212\" transform=\"scale(0.015625)\"/>\r\n        <path d=\"M 2419 4116 \r\nL 825 1625 \r\nL 2419 1625 \r\nL 2419 4116 \r\nz\r\nM 2253 4666 \r\nL 3047 4666 \r\nL 3047 1625 \r\nL 3713 1625 \r\nL 3713 1100 \r\nL 3047 1100 \r\nL 3047 0 \r\nL 2419 0 \r\nL 2419 1100 \r\nL 313 1100 \r\nL 313 1709 \r\nL 2253 4666 \r\nz\r\n\" id=\"DejaVuSans-34\" transform=\"scale(0.015625)\"/>\r\n       </defs>\r\n       <use xlink:href=\"#DejaVuSans-2212\"/>\r\n       <use x=\"83.789062\" xlink:href=\"#DejaVuSans-34\"/>\r\n      </g>\r\n     </g>\r\n    </g>\r\n    <g id=\"ytick_2\">\r\n     <g id=\"line2d_57\">\r\n      <path clip-path=\"url(#p94435839e8)\" d=\"M 42.620313 454.577333 \r\nL 1158.620312 454.577333 \r\n\" style=\"fill:none;stroke:#b0b0b0;stroke-linecap:square;stroke-width:0.8;\"/>\r\n     </g>\r\n     <g id=\"line2d_58\">\r\n      <g>\r\n       <use style=\"stroke:#000000;stroke-width:0.8;\" x=\"42.620313\" xlink:href=\"#maadb19d708\" y=\"454.577333\"/>\r\n      </g>\r\n     </g>\r\n     <g id=\"text_30\">\r\n      <!-- −2 -->\r\n      <g transform=\"translate(20.878125 458.376552)scale(0.1 -0.1)\">\r\n       <defs>\r\n        <path d=\"M 1228 531 \r\nL 3431 531 \r\nL 3431 0 \r\nL 469 0 \r\nL 469 531 \r\nQ 828 903 1448 1529 \r\nQ 2069 2156 2228 2338 \r\nQ 2531 2678 2651 2914 \r\nQ 2772 3150 2772 3378 \r\nQ 2772 3750 2511 3984 \r\nQ 2250 4219 1831 4219 \r\nQ 1534 4219 1204 4116 \r\nQ 875 4013 500 3803 \r\nL 500 4441 \r\nQ 881 4594 1212 4672 \r\nQ 1544 4750 1819 4750 \r\nQ 2544 4750 2975 4387 \r\nQ 3406 4025 3406 3419 \r\nQ 3406 3131 3298 2873 \r\nQ 3191 2616 2906 2266 \r\nQ 2828 2175 2409 1742 \r\nQ 1991 1309 1228 531 \r\nz\r\n\" id=\"DejaVuSans-32\" transform=\"scale(0.015625)\"/>\r\n       </defs>\r\n       <use xlink:href=\"#DejaVuSans-2212\"/>\r\n       <use x=\"83.789062\" xlink:href=\"#DejaVuSans-32\"/>\r\n      </g>\r\n     </g>\r\n    </g>\r\n    <g id=\"ytick_3\">\r\n     <g id=\"line2d_59\">\r\n      <path clip-path=\"url(#p94435839e8)\" d=\"M 42.620313 374.541013 \r\nL 1158.620312 374.541013 \r\n\" style=\"fill:none;stroke:#b0b0b0;stroke-linecap:square;stroke-width:0.8;\"/>\r\n     </g>\r\n     <g id=\"line2d_60\">\r\n      <g>\r\n       <use style=\"stroke:#000000;stroke-width:0.8;\" x=\"42.620313\" xlink:href=\"#maadb19d708\" y=\"374.541013\"/>\r\n      </g>\r\n     </g>\r\n     <g id=\"text_31\">\r\n      <!-- 0 -->\r\n      <g transform=\"translate(29.257813 378.340232)scale(0.1 -0.1)\">\r\n       <defs>\r\n        <path d=\"M 2034 4250 \r\nQ 1547 4250 1301 3770 \r\nQ 1056 3291 1056 2328 \r\nQ 1056 1369 1301 889 \r\nQ 1547 409 2034 409 \r\nQ 2525 409 2770 889 \r\nQ 3016 1369 3016 2328 \r\nQ 3016 3291 2770 3770 \r\nQ 2525 4250 2034 4250 \r\nz\r\nM 2034 4750 \r\nQ 2819 4750 3233 4129 \r\nQ 3647 3509 3647 2328 \r\nQ 3647 1150 3233 529 \r\nQ 2819 -91 2034 -91 \r\nQ 1250 -91 836 529 \r\nQ 422 1150 422 2328 \r\nQ 422 3509 836 4129 \r\nQ 1250 4750 2034 4750 \r\nz\r\n\" id=\"DejaVuSans-30\" transform=\"scale(0.015625)\"/>\r\n       </defs>\r\n       <use xlink:href=\"#DejaVuSans-30\"/>\r\n      </g>\r\n     </g>\r\n    </g>\r\n    <g id=\"ytick_4\">\r\n     <g id=\"line2d_61\">\r\n      <path clip-path=\"url(#p94435839e8)\" d=\"M 42.620313 294.504693 \r\nL 1158.620312 294.504693 \r\n\" style=\"fill:none;stroke:#b0b0b0;stroke-linecap:square;stroke-width:0.8;\"/>\r\n     </g>\r\n     <g id=\"line2d_62\">\r\n      <g>\r\n       <use style=\"stroke:#000000;stroke-width:0.8;\" x=\"42.620313\" xlink:href=\"#maadb19d708\" y=\"294.504693\"/>\r\n      </g>\r\n     </g>\r\n     <g id=\"text_32\">\r\n      <!-- 2 -->\r\n      <g transform=\"translate(29.257813 298.303912)scale(0.1 -0.1)\">\r\n       <use xlink:href=\"#DejaVuSans-32\"/>\r\n      </g>\r\n     </g>\r\n    </g>\r\n    <g id=\"ytick_5\">\r\n     <g id=\"line2d_63\">\r\n      <path clip-path=\"url(#p94435839e8)\" d=\"M 42.620313 214.468373 \r\nL 1158.620312 214.468373 \r\n\" style=\"fill:none;stroke:#b0b0b0;stroke-linecap:square;stroke-width:0.8;\"/>\r\n     </g>\r\n     <g id=\"line2d_64\">\r\n      <g>\r\n       <use style=\"stroke:#000000;stroke-width:0.8;\" x=\"42.620313\" xlink:href=\"#maadb19d708\" y=\"214.468373\"/>\r\n      </g>\r\n     </g>\r\n     <g id=\"text_33\">\r\n      <!-- 4 -->\r\n      <g transform=\"translate(29.257813 218.267592)scale(0.1 -0.1)\">\r\n       <use xlink:href=\"#DejaVuSans-34\"/>\r\n      </g>\r\n     </g>\r\n    </g>\r\n    <g id=\"ytick_6\">\r\n     <g id=\"line2d_65\">\r\n      <path clip-path=\"url(#p94435839e8)\" d=\"M 42.620313 134.432053 \r\nL 1158.620312 134.432053 \r\n\" style=\"fill:none;stroke:#b0b0b0;stroke-linecap:square;stroke-width:0.8;\"/>\r\n     </g>\r\n     <g id=\"line2d_66\">\r\n      <g>\r\n       <use style=\"stroke:#000000;stroke-width:0.8;\" x=\"42.620313\" xlink:href=\"#maadb19d708\" y=\"134.432053\"/>\r\n      </g>\r\n     </g>\r\n     <g id=\"text_34\">\r\n      <!-- 6 -->\r\n      <g transform=\"translate(29.257813 138.231272)scale(0.1 -0.1)\">\r\n       <defs>\r\n        <path d=\"M 2113 2584 \r\nQ 1688 2584 1439 2293 \r\nQ 1191 2003 1191 1497 \r\nQ 1191 994 1439 701 \r\nQ 1688 409 2113 409 \r\nQ 2538 409 2786 701 \r\nQ 3034 994 3034 1497 \r\nQ 3034 2003 2786 2293 \r\nQ 2538 2584 2113 2584 \r\nz\r\nM 3366 4563 \r\nL 3366 3988 \r\nQ 3128 4100 2886 4159 \r\nQ 2644 4219 2406 4219 \r\nQ 1781 4219 1451 3797 \r\nQ 1122 3375 1075 2522 \r\nQ 1259 2794 1537 2939 \r\nQ 1816 3084 2150 3084 \r\nQ 2853 3084 3261 2657 \r\nQ 3669 2231 3669 1497 \r\nQ 3669 778 3244 343 \r\nQ 2819 -91 2113 -91 \r\nQ 1303 -91 875 529 \r\nQ 447 1150 447 2328 \r\nQ 447 3434 972 4092 \r\nQ 1497 4750 2381 4750 \r\nQ 2619 4750 2861 4703 \r\nQ 3103 4656 3366 4563 \r\nz\r\n\" id=\"DejaVuSans-36\" transform=\"scale(0.015625)\"/>\r\n       </defs>\r\n       <use xlink:href=\"#DejaVuSans-36\"/>\r\n      </g>\r\n     </g>\r\n    </g>\r\n    <g id=\"ytick_7\">\r\n     <g id=\"line2d_67\">\r\n      <path clip-path=\"url(#p94435839e8)\" d=\"M 42.620313 54.395734 \r\nL 1158.620312 54.395734 \r\n\" style=\"fill:none;stroke:#b0b0b0;stroke-linecap:square;stroke-width:0.8;\"/>\r\n     </g>\r\n     <g id=\"line2d_68\">\r\n      <g>\r\n       <use style=\"stroke:#000000;stroke-width:0.8;\" x=\"42.620313\" xlink:href=\"#maadb19d708\" y=\"54.395734\"/>\r\n      </g>\r\n     </g>\r\n     <g id=\"text_35\">\r\n      <!-- 8 -->\r\n      <g transform=\"translate(29.257813 58.194952)scale(0.1 -0.1)\">\r\n       <defs>\r\n        <path d=\"M 2034 2216 \r\nQ 1584 2216 1326 1975 \r\nQ 1069 1734 1069 1313 \r\nQ 1069 891 1326 650 \r\nQ 1584 409 2034 409 \r\nQ 2484 409 2743 651 \r\nQ 3003 894 3003 1313 \r\nQ 3003 1734 2745 1975 \r\nQ 2488 2216 2034 2216 \r\nz\r\nM 1403 2484 \r\nQ 997 2584 770 2862 \r\nQ 544 3141 544 3541 \r\nQ 544 4100 942 4425 \r\nQ 1341 4750 2034 4750 \r\nQ 2731 4750 3128 4425 \r\nQ 3525 4100 3525 3541 \r\nQ 3525 3141 3298 2862 \r\nQ 3072 2584 2669 2484 \r\nQ 3125 2378 3379 2068 \r\nQ 3634 1759 3634 1313 \r\nQ 3634 634 3220 271 \r\nQ 2806 -91 2034 -91 \r\nQ 1263 -91 848 271 \r\nQ 434 634 434 1313 \r\nQ 434 1759 690 2068 \r\nQ 947 2378 1403 2484 \r\nz\r\nM 1172 3481 \r\nQ 1172 3119 1398 2916 \r\nQ 1625 2713 2034 2713 \r\nQ 2441 2713 2670 2916 \r\nQ 2900 3119 2900 3481 \r\nQ 2900 3844 2670 4047 \r\nQ 2441 4250 2034 4250 \r\nQ 1625 4250 1398 4047 \r\nQ 1172 3844 1172 3481 \r\nz\r\n\" id=\"DejaVuSans-38\" transform=\"scale(0.015625)\"/>\r\n       </defs>\r\n       <use xlink:href=\"#DejaVuSans-38\"/>\r\n      </g>\r\n     </g>\r\n    </g>\r\n    <g id=\"text_36\">\r\n     <!-- Mismatch [TWh] -->\r\n     <g transform=\"translate(14.798438 334.895469)rotate(-90)scale(0.1 -0.1)\">\r\n      <defs>\r\n       <path d=\"M 3328 2828 \r\nQ 3544 3216 3844 3400 \r\nQ 4144 3584 4550 3584 \r\nQ 5097 3584 5394 3201 \r\nQ 5691 2819 5691 2113 \r\nL 5691 0 \r\nL 5113 0 \r\nL 5113 2094 \r\nQ 5113 2597 4934 2840 \r\nQ 4756 3084 4391 3084 \r\nQ 3944 3084 3684 2787 \r\nQ 3425 2491 3425 1978 \r\nL 3425 0 \r\nL 2847 0 \r\nL 2847 2094 \r\nQ 2847 2600 2669 2842 \r\nQ 2491 3084 2119 3084 \r\nQ 1678 3084 1418 2786 \r\nQ 1159 2488 1159 1978 \r\nL 1159 0 \r\nL 581 0 \r\nL 581 3500 \r\nL 1159 3500 \r\nL 1159 2956 \r\nQ 1356 3278 1631 3431 \r\nQ 1906 3584 2284 3584 \r\nQ 2666 3584 2933 3390 \r\nQ 3200 3197 3328 2828 \r\nz\r\n\" id=\"DejaVuSans-6d\" transform=\"scale(0.015625)\"/>\r\n       <path d=\"M 2194 1759 \r\nQ 1497 1759 1228 1600 \r\nQ 959 1441 959 1056 \r\nQ 959 750 1161 570 \r\nQ 1363 391 1709 391 \r\nQ 2188 391 2477 730 \r\nQ 2766 1069 2766 1631 \r\nL 2766 1759 \r\nL 2194 1759 \r\nz\r\nM 3341 1997 \r\nL 3341 0 \r\nL 2766 0 \r\nL 2766 531 \r\nQ 2569 213 2275 61 \r\nQ 1981 -91 1556 -91 \r\nQ 1019 -91 701 211 \r\nQ 384 513 384 1019 \r\nQ 384 1609 779 1909 \r\nQ 1175 2209 1959 2209 \r\nL 2766 2209 \r\nL 2766 2266 \r\nQ 2766 2663 2505 2880 \r\nQ 2244 3097 1772 3097 \r\nQ 1472 3097 1187 3025 \r\nQ 903 2953 641 2809 \r\nL 641 3341 \r\nQ 956 3463 1253 3523 \r\nQ 1550 3584 1831 3584 \r\nQ 2591 3584 2966 3190 \r\nQ 3341 2797 3341 1997 \r\nz\r\n\" id=\"DejaVuSans-61\" transform=\"scale(0.015625)\"/>\r\n       <path d=\"M 3122 3366 \r\nL 3122 2828 \r\nQ 2878 2963 2633 3030 \r\nQ 2388 3097 2138 3097 \r\nQ 1578 3097 1268 2742 \r\nQ 959 2388 959 1747 \r\nQ 959 1106 1268 751 \r\nQ 1578 397 2138 397 \r\nQ 2388 397 2633 464 \r\nQ 2878 531 3122 666 \r\nL 3122 134 \r\nQ 2881 22 2623 -34 \r\nQ 2366 -91 2075 -91 \r\nQ 1284 -91 818 406 \r\nQ 353 903 353 1747 \r\nQ 353 2603 823 3093 \r\nQ 1294 3584 2113 3584 \r\nQ 2378 3584 2631 3529 \r\nQ 2884 3475 3122 3366 \r\nz\r\n\" id=\"DejaVuSans-63\" transform=\"scale(0.015625)\"/>\r\n       <path d=\"M 3513 2113 \r\nL 3513 0 \r\nL 2938 0 \r\nL 2938 2094 \r\nQ 2938 2591 2744 2837 \r\nQ 2550 3084 2163 3084 \r\nQ 1697 3084 1428 2787 \r\nQ 1159 2491 1159 1978 \r\nL 1159 0 \r\nL 581 0 \r\nL 581 4863 \r\nL 1159 4863 \r\nL 1159 2956 \r\nQ 1366 3272 1645 3428 \r\nQ 1925 3584 2291 3584 \r\nQ 2894 3584 3203 3211 \r\nQ 3513 2838 3513 2113 \r\nz\r\n\" id=\"DejaVuSans-68\" transform=\"scale(0.015625)\"/>\r\n       <path id=\"DejaVuSans-20\" transform=\"scale(0.015625)\"/>\r\n       <path d=\"M 550 4863 \r\nL 1875 4863 \r\nL 1875 4416 \r\nL 1125 4416 \r\nL 1125 -397 \r\nL 1875 -397 \r\nL 1875 -844 \r\nL 550 -844 \r\nL 550 4863 \r\nz\r\n\" id=\"DejaVuSans-5b\" transform=\"scale(0.015625)\"/>\r\n       <path d=\"M 213 4666 \r\nL 850 4666 \r\nL 1831 722 \r\nL 2809 4666 \r\nL 3519 4666 \r\nL 4500 722 \r\nL 5478 4666 \r\nL 6119 4666 \r\nL 4947 0 \r\nL 4153 0 \r\nL 3169 4050 \r\nL 2175 0 \r\nL 1381 0 \r\nL 213 4666 \r\nz\r\n\" id=\"DejaVuSans-57\" transform=\"scale(0.015625)\"/>\r\n       <path d=\"M 1947 4863 \r\nL 1947 -844 \r\nL 622 -844 \r\nL 622 -397 \r\nL 1369 -397 \r\nL 1369 4416 \r\nL 622 4416 \r\nL 622 4863 \r\nL 1947 4863 \r\nz\r\n\" id=\"DejaVuSans-5d\" transform=\"scale(0.015625)\"/>\r\n      </defs>\r\n      <use xlink:href=\"#DejaVuSans-4d\"/>\r\n      <use x=\"86.279297\" xlink:href=\"#DejaVuSans-69\"/>\r\n      <use x=\"114.0625\" xlink:href=\"#DejaVuSans-73\"/>\r\n      <use x=\"166.162109\" xlink:href=\"#DejaVuSans-6d\"/>\r\n      <use x=\"263.574219\" xlink:href=\"#DejaVuSans-61\"/>\r\n      <use x=\"324.853516\" xlink:href=\"#DejaVuSans-74\"/>\r\n      <use x=\"364.0625\" xlink:href=\"#DejaVuSans-63\"/>\r\n      <use x=\"419.042969\" xlink:href=\"#DejaVuSans-68\"/>\r\n      <use x=\"482.421875\" xlink:href=\"#DejaVuSans-20\"/>\r\n      <use x=\"514.208984\" xlink:href=\"#DejaVuSans-5b\"/>\r\n      <use x=\"553.222656\" xlink:href=\"#DejaVuSans-54\"/>\r\n      <use x=\"614.306641\" xlink:href=\"#DejaVuSans-57\"/>\r\n      <use x=\"713.183594\" xlink:href=\"#DejaVuSans-68\"/>\r\n      <use x=\"776.5625\" xlink:href=\"#DejaVuSans-5d\"/>\r\n     </g>\r\n    </g>\r\n    <g id=\"text_37\">\r\n     <!-- 1e7 -->\r\n     <g transform=\"translate(42.620313 19.318125)scale(0.1 -0.1)\">\r\n      <defs>\r\n       <path d=\"M 794 531 \r\nL 1825 531 \r\nL 1825 4091 \r\nL 703 3866 \r\nL 703 4441 \r\nL 1819 4666 \r\nL 2450 4666 \r\nL 2450 531 \r\nL 3481 531 \r\nL 3481 0 \r\nL 794 0 \r\nL 794 531 \r\nz\r\n\" id=\"DejaVuSans-31\" transform=\"scale(0.015625)\"/>\r\n       <path d=\"M 525 4666 \r\nL 3525 4666 \r\nL 3525 4397 \r\nL 1831 0 \r\nL 1172 0 \r\nL 2766 4134 \r\nL 525 4134 \r\nL 525 4666 \r\nz\r\n\" id=\"DejaVuSans-37\" transform=\"scale(0.015625)\"/>\r\n      </defs>\r\n      <use xlink:href=\"#DejaVuSans-31\"/>\r\n      <use x=\"63.623047\" xlink:href=\"#DejaVuSans-65\"/>\r\n      <use x=\"125.146484\" xlink:href=\"#DejaVuSans-37\"/>\r\n     </g>\r\n    </g>\r\n   </g>\r\n   <g id=\"line2d_69\">\r\n    <path clip-path=\"url(#p94435839e8)\" d=\"M 42.620313 374.541013 \r\nL 1158.620312 374.541013 \r\n\" style=\"fill:none;stroke:#000000;stroke-linecap:square;stroke-width:1.5;\"/>\r\n   </g>\r\n   <g id=\"patch_30\">\r\n    <path d=\"M 42.620313 565.918125 \r\nL 42.620313 22.318125 \r\n\" style=\"fill:none;stroke:#000000;stroke-linecap:square;stroke-linejoin:miter;stroke-width:0.8;\"/>\r\n   </g>\r\n   <g id=\"patch_31\">\r\n    <path d=\"M 1158.620312 565.918125 \r\nL 1158.620312 22.318125 \r\n\" style=\"fill:none;stroke:#000000;stroke-linecap:square;stroke-linejoin:miter;stroke-width:0.8;\"/>\r\n   </g>\r\n   <g id=\"patch_32\">\r\n    <path d=\"M 42.620313 565.918125 \r\nL 1158.620312 565.918125 \r\n\" style=\"fill:none;stroke:#000000;stroke-linecap:square;stroke-linejoin:miter;stroke-width:0.8;\"/>\r\n   </g>\r\n   <g id=\"patch_33\">\r\n    <path d=\"M 42.620313 22.318125 \r\nL 1158.620312 22.318125 \r\n\" style=\"fill:none;stroke:#000000;stroke-linecap:square;stroke-linejoin:miter;stroke-width:0.8;\"/>\r\n   </g>\r\n   <g id=\"text_38\">\r\n    <!-- Mismatch analysis based on (generation + imports - load - exports) in raw ENTSO-E data -->\r\n    <g transform=\"translate(333.475 16.318125)scale(0.12 -0.12)\">\r\n     <defs>\r\n      <path d=\"M 603 4863 \r\nL 1178 4863 \r\nL 1178 0 \r\nL 603 0 \r\nL 603 4863 \r\nz\r\n\" id=\"DejaVuSans-6c\" transform=\"scale(0.015625)\"/>\r\n      <path d=\"M 2059 -325 \r\nQ 1816 -950 1584 -1140 \r\nQ 1353 -1331 966 -1331 \r\nL 506 -1331 \r\nL 506 -850 \r\nL 844 -850 \r\nQ 1081 -850 1212 -737 \r\nQ 1344 -625 1503 -206 \r\nL 1606 56 \r\nL 191 3500 \r\nL 800 3500 \r\nL 1894 763 \r\nL 2988 3500 \r\nL 3597 3500 \r\nL 2059 -325 \r\nz\r\n\" id=\"DejaVuSans-79\" transform=\"scale(0.015625)\"/>\r\n      <path d=\"M 3116 1747 \r\nQ 3116 2381 2855 2742 \r\nQ 2594 3103 2138 3103 \r\nQ 1681 3103 1420 2742 \r\nQ 1159 2381 1159 1747 \r\nQ 1159 1113 1420 752 \r\nQ 1681 391 2138 391 \r\nQ 2594 391 2855 752 \r\nQ 3116 1113 3116 1747 \r\nz\r\nM 1159 2969 \r\nQ 1341 3281 1617 3432 \r\nQ 1894 3584 2278 3584 \r\nQ 2916 3584 3314 3078 \r\nQ 3713 2572 3713 1747 \r\nQ 3713 922 3314 415 \r\nQ 2916 -91 2278 -91 \r\nQ 1894 -91 1617 61 \r\nQ 1341 213 1159 525 \r\nL 1159 0 \r\nL 581 0 \r\nL 581 4863 \r\nL 1159 4863 \r\nL 1159 2969 \r\nz\r\n\" id=\"DejaVuSans-62\" transform=\"scale(0.015625)\"/>\r\n      <path d=\"M 2906 2969 \r\nL 2906 4863 \r\nL 3481 4863 \r\nL 3481 0 \r\nL 2906 0 \r\nL 2906 525 \r\nQ 2725 213 2448 61 \r\nQ 2172 -91 1784 -91 \r\nQ 1150 -91 751 415 \r\nQ 353 922 353 1747 \r\nQ 353 2572 751 3078 \r\nQ 1150 3584 1784 3584 \r\nQ 2172 3584 2448 3432 \r\nQ 2725 3281 2906 2969 \r\nz\r\nM 947 1747 \r\nQ 947 1113 1208 752 \r\nQ 1469 391 1925 391 \r\nQ 2381 391 2643 752 \r\nQ 2906 1113 2906 1747 \r\nQ 2906 2381 2643 2742 \r\nQ 2381 3103 1925 3103 \r\nQ 1469 3103 1208 2742 \r\nQ 947 2381 947 1747 \r\nz\r\n\" id=\"DejaVuSans-64\" transform=\"scale(0.015625)\"/>\r\n      <path d=\"M 1984 4856 \r\nQ 1566 4138 1362 3434 \r\nQ 1159 2731 1159 2009 \r\nQ 1159 1288 1364 580 \r\nQ 1569 -128 1984 -844 \r\nL 1484 -844 \r\nQ 1016 -109 783 600 \r\nQ 550 1309 550 2009 \r\nQ 550 2706 781 3412 \r\nQ 1013 4119 1484 4856 \r\nL 1984 4856 \r\nz\r\n\" id=\"DejaVuSans-28\" transform=\"scale(0.015625)\"/>\r\n      <path d=\"M 2906 1791 \r\nQ 2906 2416 2648 2759 \r\nQ 2391 3103 1925 3103 \r\nQ 1463 3103 1205 2759 \r\nQ 947 2416 947 1791 \r\nQ 947 1169 1205 825 \r\nQ 1463 481 1925 481 \r\nQ 2391 481 2648 825 \r\nQ 2906 1169 2906 1791 \r\nz\r\nM 3481 434 \r\nQ 3481 -459 3084 -895 \r\nQ 2688 -1331 1869 -1331 \r\nQ 1566 -1331 1297 -1286 \r\nQ 1028 -1241 775 -1147 \r\nL 775 -588 \r\nQ 1028 -725 1275 -790 \r\nQ 1522 -856 1778 -856 \r\nQ 2344 -856 2625 -561 \r\nQ 2906 -266 2906 331 \r\nL 2906 616 \r\nQ 2728 306 2450 153 \r\nQ 2172 0 1784 0 \r\nQ 1141 0 747 490 \r\nQ 353 981 353 1791 \r\nQ 353 2603 747 3093 \r\nQ 1141 3584 1784 3584 \r\nQ 2172 3584 2450 3431 \r\nQ 2728 3278 2906 2969 \r\nL 2906 3500 \r\nL 3481 3500 \r\nL 3481 434 \r\nz\r\n\" id=\"DejaVuSans-67\" transform=\"scale(0.015625)\"/>\r\n      <path d=\"M 2944 4013 \r\nL 2944 2272 \r\nL 4684 2272 \r\nL 4684 1741 \r\nL 2944 1741 \r\nL 2944 0 \r\nL 2419 0 \r\nL 2419 1741 \r\nL 678 1741 \r\nL 678 2272 \r\nL 2419 2272 \r\nL 2419 4013 \r\nL 2944 4013 \r\nz\r\n\" id=\"DejaVuSans-2b\" transform=\"scale(0.015625)\"/>\r\n      <path d=\"M 1159 525 \r\nL 1159 -1331 \r\nL 581 -1331 \r\nL 581 3500 \r\nL 1159 3500 \r\nL 1159 2969 \r\nQ 1341 3281 1617 3432 \r\nQ 1894 3584 2278 3584 \r\nQ 2916 3584 3314 3078 \r\nQ 3713 2572 3713 1747 \r\nQ 3713 922 3314 415 \r\nQ 2916 -91 2278 -91 \r\nQ 1894 -91 1617 61 \r\nQ 1341 213 1159 525 \r\nz\r\nM 3116 1747 \r\nQ 3116 2381 2855 2742 \r\nQ 2594 3103 2138 3103 \r\nQ 1681 3103 1420 2742 \r\nQ 1159 2381 1159 1747 \r\nQ 1159 1113 1420 752 \r\nQ 1681 391 2138 391 \r\nQ 2594 391 2855 752 \r\nQ 3116 1113 3116 1747 \r\nz\r\n\" id=\"DejaVuSans-70\" transform=\"scale(0.015625)\"/>\r\n      <path d=\"M 313 2009 \r\nL 1997 2009 \r\nL 1997 1497 \r\nL 313 1497 \r\nL 313 2009 \r\nz\r\n\" id=\"DejaVuSans-2d\" transform=\"scale(0.015625)\"/>\r\n      <path d=\"M 3513 3500 \r\nL 2247 1797 \r\nL 3578 0 \r\nL 2900 0 \r\nL 1881 1375 \r\nL 863 0 \r\nL 184 0 \r\nL 1544 1831 \r\nL 300 3500 \r\nL 978 3500 \r\nL 1906 2253 \r\nL 2834 3500 \r\nL 3513 3500 \r\nz\r\n\" id=\"DejaVuSans-78\" transform=\"scale(0.015625)\"/>\r\n      <path d=\"M 513 4856 \r\nL 1013 4856 \r\nQ 1481 4119 1714 3412 \r\nQ 1947 2706 1947 2009 \r\nQ 1947 1309 1714 600 \r\nQ 1481 -109 1013 -844 \r\nL 513 -844 \r\nQ 928 -128 1133 580 \r\nQ 1338 1288 1338 2009 \r\nQ 1338 2731 1133 3434 \r\nQ 928 4138 513 4856 \r\nz\r\n\" id=\"DejaVuSans-29\" transform=\"scale(0.015625)\"/>\r\n      <path d=\"M 269 3500 \r\nL 844 3500 \r\nL 1563 769 \r\nL 2278 3500 \r\nL 2956 3500 \r\nL 3675 769 \r\nL 4391 3500 \r\nL 4966 3500 \r\nL 4050 0 \r\nL 3372 0 \r\nL 2619 2869 \r\nL 1863 0 \r\nL 1184 0 \r\nL 269 3500 \r\nz\r\n\" id=\"DejaVuSans-77\" transform=\"scale(0.015625)\"/>\r\n     </defs>\r\n     <use xlink:href=\"#DejaVuSans-4d\"/>\r\n     <use x=\"86.279297\" xlink:href=\"#DejaVuSans-69\"/>\r\n     <use x=\"114.0625\" xlink:href=\"#DejaVuSans-73\"/>\r\n     <use x=\"166.162109\" xlink:href=\"#DejaVuSans-6d\"/>\r\n     <use x=\"263.574219\" xlink:href=\"#DejaVuSans-61\"/>\r\n     <use x=\"324.853516\" xlink:href=\"#DejaVuSans-74\"/>\r\n     <use x=\"364.0625\" xlink:href=\"#DejaVuSans-63\"/>\r\n     <use x=\"419.042969\" xlink:href=\"#DejaVuSans-68\"/>\r\n     <use x=\"482.421875\" xlink:href=\"#DejaVuSans-20\"/>\r\n     <use x=\"514.208984\" xlink:href=\"#DejaVuSans-61\"/>\r\n     <use x=\"575.488281\" xlink:href=\"#DejaVuSans-6e\"/>\r\n     <use x=\"638.867188\" xlink:href=\"#DejaVuSans-61\"/>\r\n     <use x=\"700.146484\" xlink:href=\"#DejaVuSans-6c\"/>\r\n     <use x=\"727.929688\" xlink:href=\"#DejaVuSans-79\"/>\r\n     <use x=\"787.109375\" xlink:href=\"#DejaVuSans-73\"/>\r\n     <use x=\"839.208984\" xlink:href=\"#DejaVuSans-69\"/>\r\n     <use x=\"866.992188\" xlink:href=\"#DejaVuSans-73\"/>\r\n     <use x=\"919.091797\" xlink:href=\"#DejaVuSans-20\"/>\r\n     <use x=\"950.878906\" xlink:href=\"#DejaVuSans-62\"/>\r\n     <use x=\"1014.355469\" xlink:href=\"#DejaVuSans-61\"/>\r\n     <use x=\"1075.634766\" xlink:href=\"#DejaVuSans-73\"/>\r\n     <use x=\"1127.734375\" xlink:href=\"#DejaVuSans-65\"/>\r\n     <use x=\"1189.257812\" xlink:href=\"#DejaVuSans-64\"/>\r\n     <use x=\"1252.734375\" xlink:href=\"#DejaVuSans-20\"/>\r\n     <use x=\"1284.521484\" xlink:href=\"#DejaVuSans-6f\"/>\r\n     <use x=\"1345.703125\" xlink:href=\"#DejaVuSans-6e\"/>\r\n     <use x=\"1409.082031\" xlink:href=\"#DejaVuSans-20\"/>\r\n     <use x=\"1440.869141\" xlink:href=\"#DejaVuSans-28\"/>\r\n     <use x=\"1479.882812\" xlink:href=\"#DejaVuSans-67\"/>\r\n     <use x=\"1543.359375\" xlink:href=\"#DejaVuSans-65\"/>\r\n     <use x=\"1604.882812\" xlink:href=\"#DejaVuSans-6e\"/>\r\n     <use x=\"1668.261719\" xlink:href=\"#DejaVuSans-65\"/>\r\n     <use x=\"1729.785156\" xlink:href=\"#DejaVuSans-72\"/>\r\n     <use x=\"1770.898438\" xlink:href=\"#DejaVuSans-61\"/>\r\n     <use x=\"1832.177734\" xlink:href=\"#DejaVuSans-74\"/>\r\n     <use x=\"1871.386719\" xlink:href=\"#DejaVuSans-69\"/>\r\n     <use x=\"1899.169922\" xlink:href=\"#DejaVuSans-6f\"/>\r\n     <use x=\"1960.351562\" xlink:href=\"#DejaVuSans-6e\"/>\r\n     <use x=\"2023.730469\" xlink:href=\"#DejaVuSans-20\"/>\r\n     <use x=\"2055.517578\" xlink:href=\"#DejaVuSans-2b\"/>\r\n     <use x=\"2139.306641\" xlink:href=\"#DejaVuSans-20\"/>\r\n     <use x=\"2171.09375\" xlink:href=\"#DejaVuSans-69\"/>\r\n     <use x=\"2198.876953\" xlink:href=\"#DejaVuSans-6d\"/>\r\n     <use x=\"2296.289062\" xlink:href=\"#DejaVuSans-70\"/>\r\n     <use x=\"2359.765625\" xlink:href=\"#DejaVuSans-6f\"/>\r\n     <use x=\"2420.947266\" xlink:href=\"#DejaVuSans-72\"/>\r\n     <use x=\"2462.060547\" xlink:href=\"#DejaVuSans-74\"/>\r\n     <use x=\"2501.269531\" xlink:href=\"#DejaVuSans-73\"/>\r\n     <use x=\"2553.369141\" xlink:href=\"#DejaVuSans-20\"/>\r\n     <use x=\"2585.15625\" xlink:href=\"#DejaVuSans-2d\"/>\r\n     <use x=\"2621.240234\" xlink:href=\"#DejaVuSans-20\"/>\r\n     <use x=\"2653.027344\" xlink:href=\"#DejaVuSans-6c\"/>\r\n     <use x=\"2680.810547\" xlink:href=\"#DejaVuSans-6f\"/>\r\n     <use x=\"2741.992188\" xlink:href=\"#DejaVuSans-61\"/>\r\n     <use x=\"2803.271484\" xlink:href=\"#DejaVuSans-64\"/>\r\n     <use x=\"2866.748047\" xlink:href=\"#DejaVuSans-20\"/>\r\n     <use x=\"2898.535156\" xlink:href=\"#DejaVuSans-2d\"/>\r\n     <use x=\"2934.619141\" xlink:href=\"#DejaVuSans-20\"/>\r\n     <use x=\"2966.40625\" xlink:href=\"#DejaVuSans-65\"/>\r\n     <use x=\"3026.179688\" xlink:href=\"#DejaVuSans-78\"/>\r\n     <use x=\"3085.359375\" xlink:href=\"#DejaVuSans-70\"/>\r\n     <use x=\"3148.835938\" xlink:href=\"#DejaVuSans-6f\"/>\r\n     <use x=\"3210.017578\" xlink:href=\"#DejaVuSans-72\"/>\r\n     <use x=\"3251.130859\" xlink:href=\"#DejaVuSans-74\"/>\r\n     <use x=\"3290.339844\" xlink:href=\"#DejaVuSans-73\"/>\r\n     <use x=\"3342.439453\" xlink:href=\"#DejaVuSans-29\"/>\r\n     <use x=\"3381.453125\" xlink:href=\"#DejaVuSans-20\"/>\r\n     <use x=\"3413.240234\" xlink:href=\"#DejaVuSans-69\"/>\r\n     <use x=\"3441.023438\" xlink:href=\"#DejaVuSans-6e\"/>\r\n     <use x=\"3504.402344\" xlink:href=\"#DejaVuSans-20\"/>\r\n     <use x=\"3536.189453\" xlink:href=\"#DejaVuSans-72\"/>\r\n     <use x=\"3577.302734\" xlink:href=\"#DejaVuSans-61\"/>\r\n     <use x=\"3638.582031\" xlink:href=\"#DejaVuSans-77\"/>\r\n     <use x=\"3720.369141\" xlink:href=\"#DejaVuSans-20\"/>\r\n     <use x=\"3752.15625\" xlink:href=\"#DejaVuSans-45\"/>\r\n     <use x=\"3815.339844\" xlink:href=\"#DejaVuSans-4e\"/>\r\n     <use x=\"3890.144531\" xlink:href=\"#DejaVuSans-54\"/>\r\n     <use x=\"3951.228516\" xlink:href=\"#DejaVuSans-53\"/>\r\n     <use x=\"4014.705078\" xlink:href=\"#DejaVuSans-4f\"/>\r\n     <use x=\"4096.166016\" xlink:href=\"#DejaVuSans-2d\"/>\r\n     <use x=\"4132.25\" xlink:href=\"#DejaVuSans-45\"/>\r\n     <use x=\"4195.433594\" xlink:href=\"#DejaVuSans-20\"/>\r\n     <use x=\"4227.220703\" xlink:href=\"#DejaVuSans-64\"/>\r\n     <use x=\"4290.697266\" xlink:href=\"#DejaVuSans-61\"/>\r\n     <use x=\"4351.976562\" xlink:href=\"#DejaVuSans-74\"/>\r\n     <use x=\"4391.185547\" xlink:href=\"#DejaVuSans-61\"/>\r\n    </g>\r\n   </g>\r\n  </g>\r\n </g>\r\n <defs>\r\n  <clipPath id=\"p94435839e8\">\r\n   <rect height=\"543.6\" width=\"1116\" x=\"42.620313\" y=\"22.318125\"/>\r\n  </clipPath>\r\n </defs>\r\n</svg>\r\n",
      "image/png": "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"
=======
      "image/svg+xml": "<?xml version=\"1.0\" encoding=\"utf-8\" standalone=\"no\"?>\r\n<!DOCTYPE svg PUBLIC \"-//W3C//DTD SVG 1.1//EN\"\r\n  \"http://www.w3.org/Graphics/SVG/1.1/DTD/svg11.dtd\">\r\n<svg height=\"603.474375pt\" version=\"1.1\" viewBox=\"0 0 1163.803125 603.474375\" width=\"1163.803125pt\" xmlns=\"http://www.w3.org/2000/svg\" xmlns:xlink=\"http://www.w3.org/1999/xlink\">\r\n <metadata>\r\n  <rdf:RDF xmlns:cc=\"http://creativecommons.org/ns#\" xmlns:dc=\"http://purl.org/dc/elements/1.1/\" xmlns:rdf=\"http://www.w3.org/1999/02/22-rdf-syntax-ns#\">\r\n   <cc:Work>\r\n    <dc:type rdf:resource=\"http://purl.org/dc/dcmitype/StillImage\"/>\r\n    <dc:date>2021-08-30T20:59:50.718940</dc:date>\r\n    <dc:format>image/svg+xml</dc:format>\r\n    <dc:creator>\r\n     <cc:Agent>\r\n      <dc:title>Matplotlib v3.4.2, https://matplotlib.org/</dc:title>\r\n     </cc:Agent>\r\n    </dc:creator>\r\n   </cc:Work>\r\n  </rdf:RDF>\r\n </metadata>\r\n <defs>\r\n  <style type=\"text/css\">*{stroke-linecap:butt;stroke-linejoin:round;}</style>\r\n </defs>\r\n <g id=\"figure_1\">\r\n  <g id=\"patch_1\">\r\n   <path d=\"M 0 603.474375 \r\nL 1163.803125 603.474375 \r\nL 1163.803125 0 \r\nL 0 0 \r\nz\r\n\" style=\"fill:none;\"/>\r\n  </g>\r\n  <g id=\"axes_1\">\r\n   <g id=\"patch_2\">\r\n    <path d=\"M 40.603125 565.918125 \r\nL 1156.603125 565.918125 \r\nL 1156.603125 22.318125 \r\nL 40.603125 22.318125 \r\nz\r\n\" style=\"fill:#ffffff;\"/>\r\n   </g>\r\n   <g id=\"patch_3\">\r\n    <path clip-path=\"url(#p6b34a7e4ef)\" d=\"M 91.330398 565.918125 \r\nL 104.806334 565.918125 \r\nL 104.806334 48.203839 \r\nL 91.330398 48.203839 \r\nz\r\n\" style=\"fill:#00ffff;stroke:#000000;stroke-linejoin:miter;\"/>\r\n   </g>\r\n   <g id=\"patch_4\">\r\n    <path clip-path=\"url(#p6b34a7e4ef)\" d=\"M 129.833072 565.918125 \r\nL 143.309007 565.918125 \r\nL 143.309007 369.770912 \r\nL 129.833072 369.770912 \r\nz\r\n\" style=\"fill:#00ffff;stroke:#000000;stroke-linejoin:miter;\"/>\r\n   </g>\r\n   <g id=\"patch_5\">\r\n    <path clip-path=\"url(#p6b34a7e4ef)\" d=\"M 168.335745 565.918125 \r\nL 181.811681 565.918125 \r\nL 181.811681 373.375645 \r\nL 168.335745 373.375645 \r\nz\r\n\" style=\"fill:#00ffff;stroke:#000000;stroke-linejoin:miter;\"/>\r\n   </g>\r\n   <g id=\"patch_6\">\r\n    <path clip-path=\"url(#p6b34a7e4ef)\" d=\"M 206.838419 565.918125 \r\nL 220.314355 565.918125 \r\nL 220.314355 392.020818 \r\nL 206.838419 392.020818 \r\nz\r\n\" style=\"fill:#00ffff;stroke:#000000;stroke-linejoin:miter;\"/>\r\n   </g>\r\n   <g id=\"patch_7\">\r\n    <path clip-path=\"url(#p6b34a7e4ef)\" d=\"M 245.341093 565.918125 \r\nL 258.817029 565.918125 \r\nL 258.817029 397.117165 \r\nL 245.341093 397.117165 \r\nz\r\n\" style=\"fill:#00ffff;stroke:#000000;stroke-linejoin:miter;\"/>\r\n   </g>\r\n   <g id=\"patch_8\">\r\n    <path clip-path=\"url(#p6b34a7e4ef)\" d=\"M 283.843767 565.918125 \r\nL 297.319703 565.918125 \r\nL 297.319703 452.804079 \r\nL 283.843767 452.804079 \r\nz\r\n\" style=\"fill:#00ffff;stroke:#000000;stroke-linejoin:miter;\"/>\r\n   </g>\r\n   <g id=\"patch_9\">\r\n    <path clip-path=\"url(#p6b34a7e4ef)\" d=\"M 322.346441 565.918125 \r\nL 335.822376 565.918125 \r\nL 335.822376 480.896139 \r\nL 322.346441 480.896139 \r\nz\r\n\" style=\"fill:#00ffff;stroke:#000000;stroke-linejoin:miter;\"/>\r\n   </g>\r\n   <g id=\"patch_10\">\r\n    <path clip-path=\"url(#p6b34a7e4ef)\" d=\"M 360.849114 565.918125 \r\nL 374.32505 565.918125 \r\nL 374.32505 489.472918 \r\nL 360.849114 489.472918 \r\nz\r\n\" style=\"fill:#00ffff;stroke:#000000;stroke-linejoin:miter;\"/>\r\n   </g>\r\n   <g id=\"patch_11\">\r\n    <path clip-path=\"url(#p6b34a7e4ef)\" d=\"M 399.351788 565.918125 \r\nL 412.827724 565.918125 \r\nL 412.827724 514.457449 \r\nL 399.351788 514.457449 \r\nz\r\n\" style=\"fill:#00ffff;stroke:#000000;stroke-linejoin:miter;\"/>\r\n   </g>\r\n   <g id=\"patch_12\">\r\n    <path clip-path=\"url(#p6b34a7e4ef)\" d=\"M 437.854462 565.918125 \r\nL 451.330398 565.918125 \r\nL 451.330398 524.028638 \r\nL 437.854462 524.028638 \r\nz\r\n\" style=\"fill:#00ffff;stroke:#000000;stroke-linejoin:miter;\"/>\r\n   </g>\r\n   <g id=\"patch_13\">\r\n    <path clip-path=\"url(#p6b34a7e4ef)\" d=\"M 476.357136 565.918125 \r\nL 489.833072 565.918125 \r\nL 489.833072 531.486707 \r\nL 476.357136 531.486707 \r\nz\r\n\" style=\"fill:#00ffff;stroke:#000000;stroke-linejoin:miter;\"/>\r\n   </g>\r\n   <g id=\"patch_14\">\r\n    <path clip-path=\"url(#p6b34a7e4ef)\" d=\"M 514.859809 565.918125 \r\nL 528.335745 565.918125 \r\nL 528.335745 533.724127 \r\nL 514.859809 533.724127 \r\nz\r\n\" style=\"fill:#00ffff;stroke:#000000;stroke-linejoin:miter;\"/>\r\n   </g>\r\n   <g id=\"patch_15\">\r\n    <path clip-path=\"url(#p6b34a7e4ef)\" d=\"M 553.362483 565.918125 \r\nL 566.838419 565.918125 \r\nL 566.838419 535.215741 \r\nL 553.362483 535.215741 \r\nz\r\n\" style=\"fill:#00ffff;stroke:#000000;stroke-linejoin:miter;\"/>\r\n   </g>\r\n   <g id=\"patch_16\">\r\n    <path clip-path=\"url(#p6b34a7e4ef)\" d=\"M 591.865157 565.918125 \r\nL 605.341093 565.918125 \r\nL 605.341093 543.79252 \r\nL 591.865157 543.79252 \r\nz\r\n\" style=\"fill:#00ffff;stroke:#000000;stroke-linejoin:miter;\"/>\r\n   </g>\r\n   <g id=\"patch_17\">\r\n    <path clip-path=\"url(#p6b34a7e4ef)\" d=\"M 630.367831 565.918125 \r\nL 643.843767 565.918125 \r\nL 643.843767 544.78693 \r\nL 630.367831 544.78693 \r\nz\r\n\" style=\"fill:#00ffff;stroke:#000000;stroke-linejoin:miter;\"/>\r\n   </g>\r\n   <g id=\"patch_18\">\r\n    <path clip-path=\"url(#p6b34a7e4ef)\" d=\"M 668.870505 565.918125 \r\nL 682.346441 565.918125 \r\nL 682.346441 553.363709 \r\nL 668.870505 553.363709 \r\nz\r\n\" style=\"fill:#00ffff;stroke:#000000;stroke-linejoin:miter;\"/>\r\n   </g>\r\n   <g id=\"patch_19\">\r\n    <path clip-path=\"url(#p6b34a7e4ef)\" d=\"M 707.373178 565.918125 \r\nL 720.849114 565.918125 \r\nL 720.849114 554.60672 \r\nL 707.373178 554.60672 \r\nz\r\n\" style=\"fill:#00ffff;stroke:#000000;stroke-linejoin:miter;\"/>\r\n   </g>\r\n   <g id=\"patch_20\">\r\n    <path clip-path=\"url(#p6b34a7e4ef)\" d=\"M 745.875852 565.918125 \r\nL 759.351788 565.918125 \r\nL 759.351788 555.725431 \r\nL 745.875852 555.725431 \r\nz\r\n\" style=\"fill:#00ffff;stroke:#000000;stroke-linejoin:miter;\"/>\r\n   </g>\r\n   <g id=\"patch_21\">\r\n    <path clip-path=\"url(#p6b34a7e4ef)\" d=\"M 784.378526 565.918125 \r\nL 797.854462 565.918125 \r\nL 797.854462 555.974033 \r\nL 784.378526 555.974033 \r\nz\r\n\" style=\"fill:#00ffff;stroke:#000000;stroke-linejoin:miter;\"/>\r\n   </g>\r\n   <g id=\"patch_22\">\r\n    <path clip-path=\"url(#p6b34a7e4ef)\" d=\"M 822.8812 565.918125 \r\nL 836.357136 565.918125 \r\nL 836.357136 556.71984 \r\nL 822.8812 556.71984 \r\nz\r\n\" style=\"fill:#00ffff;stroke:#000000;stroke-linejoin:miter;\"/>\r\n   </g>\r\n   <g id=\"patch_23\">\r\n    <path clip-path=\"url(#p6b34a7e4ef)\" d=\"M 861.383874 565.918125 \r\nL 874.859809 565.918125 \r\nL 874.859809 557.83855 \r\nL 861.383874 557.83855 \r\nz\r\n\" style=\"fill:#00ffff;stroke:#000000;stroke-linejoin:miter;\"/>\r\n   </g>\r\n   <g id=\"patch_24\">\r\n    <path clip-path=\"url(#p6b34a7e4ef)\" d=\"M 899.886547 565.918125 \r\nL 913.362483 565.918125 \r\nL 913.362483 559.95167 \r\nL 899.886547 559.95167 \r\nz\r\n\" style=\"fill:#00ffff;stroke:#000000;stroke-linejoin:miter;\"/>\r\n   </g>\r\n   <g id=\"patch_25\">\r\n    <path clip-path=\"url(#p6b34a7e4ef)\" d=\"M 938.389221 565.918125 \r\nL 951.865157 565.918125 \r\nL 951.865157 560.200272 \r\nL 938.389221 560.200272 \r\nz\r\n\" style=\"fill:#00ffff;stroke:#000000;stroke-linejoin:miter;\"/>\r\n   </g>\r\n   <g id=\"patch_26\">\r\n    <path clip-path=\"url(#p6b34a7e4ef)\" d=\"M 976.891895 565.918125 \r\nL 990.367831 565.918125 \r\nL 990.367831 560.573176 \r\nL 976.891895 560.573176 \r\nz\r\n\" style=\"fill:#00ffff;stroke:#000000;stroke-linejoin:miter;\"/>\r\n   </g>\r\n   <g id=\"patch_27\">\r\n    <path clip-path=\"url(#p6b34a7e4ef)\" d=\"M 1015.394569 565.918125 \r\nL 1028.870505 565.918125 \r\nL 1028.870505 561.691886 \r\nL 1015.394569 561.691886 \r\nz\r\n\" style=\"fill:#00ffff;stroke:#000000;stroke-linejoin:miter;\"/>\r\n   </g>\r\n   <g id=\"patch_28\">\r\n    <path clip-path=\"url(#p6b34a7e4ef)\" d=\"M 1053.897243 565.918125 \r\nL 1067.373178 565.918125 \r\nL 1067.373178 562.064789 \r\nL 1053.897243 562.064789 \r\nz\r\n\" style=\"fill:#00ffff;stroke:#000000;stroke-linejoin:miter;\"/>\r\n   </g>\r\n   <g id=\"patch_29\">\r\n    <path clip-path=\"url(#p6b34a7e4ef)\" d=\"M 1092.399916 565.918125 \r\nL 1105.875852 565.918125 \r\nL 1105.875852 565.172318 \r\nL 1092.399916 565.172318 \r\nz\r\n\" style=\"fill:#00ffff;stroke:#000000;stroke-linejoin:miter;\"/>\r\n   </g>\r\n   <g id=\"matplotlib.axis_1\">\r\n    <g id=\"xtick_1\">\r\n     <g id=\"line2d_1\">\r\n      <path clip-path=\"url(#p6b34a7e4ef)\" d=\"M 98.068366 565.918125 \r\nL 98.068366 22.318125 \r\n\" style=\"fill:none;stroke:#b0b0b0;stroke-linecap:square;stroke-width:0.8;\"/>\r\n     </g>\r\n     <g id=\"line2d_2\">\r\n      <defs>\r\n       <path d=\"M 0 0 \r\nL 0 3.5 \r\n\" id=\"mc130b86e51\" style=\"stroke:#000000;stroke-width:0.8;\"/>\r\n      </defs>\r\n      <g>\r\n       <use style=\"stroke:#000000;stroke-width:0.8;\" x=\"98.068366\" xlink:href=\"#mc130b86e51\" y=\"565.918125\"/>\r\n      </g>\r\n     </g>\r\n     <g id=\"text_1\">\r\n      <!-- GB -->\r\n      <g transform=\"translate(90.763678 580.516562)scale(0.1 -0.1)\">\r\n       <defs>\r\n        <path d=\"M 3809 666 \r\nL 3809 1919 \r\nL 2778 1919 \r\nL 2778 2438 \r\nL 4434 2438 \r\nL 4434 434 \r\nQ 4069 175 3628 42 \r\nQ 3188 -91 2688 -91 \r\nQ 1594 -91 976 548 \r\nQ 359 1188 359 2328 \r\nQ 359 3472 976 4111 \r\nQ 1594 4750 2688 4750 \r\nQ 3144 4750 3555 4637 \r\nQ 3966 4525 4313 4306 \r\nL 4313 3634 \r\nQ 3963 3931 3569 4081 \r\nQ 3175 4231 2741 4231 \r\nQ 1884 4231 1454 3753 \r\nQ 1025 3275 1025 2328 \r\nQ 1025 1384 1454 906 \r\nQ 1884 428 2741 428 \r\nQ 3075 428 3337 486 \r\nQ 3600 544 3809 666 \r\nz\r\n\" id=\"DejaVuSans-47\" transform=\"scale(0.015625)\"/>\r\n        <path d=\"M 1259 2228 \r\nL 1259 519 \r\nL 2272 519 \r\nQ 2781 519 3026 730 \r\nQ 3272 941 3272 1375 \r\nQ 3272 1813 3026 2020 \r\nQ 2781 2228 2272 2228 \r\nL 1259 2228 \r\nz\r\nM 1259 4147 \r\nL 1259 2741 \r\nL 2194 2741 \r\nQ 2656 2741 2882 2914 \r\nQ 3109 3088 3109 3444 \r\nQ 3109 3797 2882 3972 \r\nQ 2656 4147 2194 4147 \r\nL 1259 4147 \r\nz\r\nM 628 4666 \r\nL 2241 4666 \r\nQ 2963 4666 3353 4366 \r\nQ 3744 4066 3744 3513 \r\nQ 3744 3084 3544 2831 \r\nQ 3344 2578 2956 2516 \r\nQ 3422 2416 3680 2098 \r\nQ 3938 1781 3938 1306 \r\nQ 3938 681 3513 340 \r\nQ 3088 0 2303 0 \r\nL 628 0 \r\nL 628 4666 \r\nz\r\n\" id=\"DejaVuSans-42\" transform=\"scale(0.015625)\"/>\r\n       </defs>\r\n       <use xlink:href=\"#DejaVuSans-47\"/>\r\n       <use x=\"77.490234\" xlink:href=\"#DejaVuSans-42\"/>\r\n      </g>\r\n     </g>\r\n    </g>\r\n    <g id=\"xtick_2\">\r\n     <g id=\"line2d_3\">\r\n      <path clip-path=\"url(#p6b34a7e4ef)\" d=\"M 136.571039 565.918125 \r\nL 136.571039 22.318125 \r\n\" style=\"fill:none;stroke:#b0b0b0;stroke-linecap:square;stroke-width:0.8;\"/>\r\n     </g>\r\n     <g id=\"line2d_4\">\r\n      <g>\r\n       <use style=\"stroke:#000000;stroke-width:0.8;\" x=\"136.571039\" xlink:href=\"#mc130b86e51\" y=\"565.918125\"/>\r\n      </g>\r\n     </g>\r\n     <g id=\"text_2\">\r\n      <!-- DE -->\r\n      <g transform=\"translate(129.561664 580.516562)scale(0.1 -0.1)\">\r\n       <defs>\r\n        <path d=\"M 1259 4147 \r\nL 1259 519 \r\nL 2022 519 \r\nQ 2988 519 3436 956 \r\nQ 3884 1394 3884 2338 \r\nQ 3884 3275 3436 3711 \r\nQ 2988 4147 2022 4147 \r\nL 1259 4147 \r\nz\r\nM 628 4666 \r\nL 1925 4666 \r\nQ 3281 4666 3915 4102 \r\nQ 4550 3538 4550 2338 \r\nQ 4550 1131 3912 565 \r\nQ 3275 0 1925 0 \r\nL 628 0 \r\nL 628 4666 \r\nz\r\n\" id=\"DejaVuSans-44\" transform=\"scale(0.015625)\"/>\r\n        <path d=\"M 628 4666 \r\nL 3578 4666 \r\nL 3578 4134 \r\nL 1259 4134 \r\nL 1259 2753 \r\nL 3481 2753 \r\nL 3481 2222 \r\nL 1259 2222 \r\nL 1259 531 \r\nL 3634 531 \r\nL 3634 0 \r\nL 628 0 \r\nL 628 4666 \r\nz\r\n\" id=\"DejaVuSans-45\" transform=\"scale(0.015625)\"/>\r\n       </defs>\r\n       <use xlink:href=\"#DejaVuSans-44\"/>\r\n       <use x=\"77.001953\" xlink:href=\"#DejaVuSans-45\"/>\r\n      </g>\r\n     </g>\r\n    </g>\r\n    <g id=\"xtick_3\">\r\n     <g id=\"line2d_5\">\r\n      <path clip-path=\"url(#p6b34a7e4ef)\" d=\"M 175.073713 565.918125 \r\nL 175.073713 22.318125 \r\n\" style=\"fill:none;stroke:#b0b0b0;stroke-linecap:square;stroke-width:0.8;\"/>\r\n     </g>\r\n     <g id=\"line2d_6\">\r\n      <g>\r\n       <use style=\"stroke:#000000;stroke-width:0.8;\" x=\"175.073713\" xlink:href=\"#mc130b86e51\" y=\"565.918125\"/>\r\n      </g>\r\n     </g>\r\n     <g id=\"text_3\">\r\n      <!-- CH -->\r\n      <g transform=\"translate(167.822151 580.516562)scale(0.1 -0.1)\">\r\n       <defs>\r\n        <path d=\"M 4122 4306 \r\nL 4122 3641 \r\nQ 3803 3938 3442 4084 \r\nQ 3081 4231 2675 4231 \r\nQ 1875 4231 1450 3742 \r\nQ 1025 3253 1025 2328 \r\nQ 1025 1406 1450 917 \r\nQ 1875 428 2675 428 \r\nQ 3081 428 3442 575 \r\nQ 3803 722 4122 1019 \r\nL 4122 359 \r\nQ 3791 134 3420 21 \r\nQ 3050 -91 2638 -91 \r\nQ 1578 -91 968 557 \r\nQ 359 1206 359 2328 \r\nQ 359 3453 968 4101 \r\nQ 1578 4750 2638 4750 \r\nQ 3056 4750 3426 4639 \r\nQ 3797 4528 4122 4306 \r\nz\r\n\" id=\"DejaVuSans-43\" transform=\"scale(0.015625)\"/>\r\n        <path d=\"M 628 4666 \r\nL 1259 4666 \r\nL 1259 2753 \r\nL 3553 2753 \r\nL 3553 4666 \r\nL 4184 4666 \r\nL 4184 0 \r\nL 3553 0 \r\nL 3553 2222 \r\nL 1259 2222 \r\nL 1259 0 \r\nL 628 0 \r\nL 628 4666 \r\nz\r\n\" id=\"DejaVuSans-48\" transform=\"scale(0.015625)\"/>\r\n       </defs>\r\n       <use xlink:href=\"#DejaVuSans-43\"/>\r\n       <use x=\"69.824219\" xlink:href=\"#DejaVuSans-48\"/>\r\n      </g>\r\n     </g>\r\n    </g>\r\n    <g id=\"xtick_4\">\r\n     <g id=\"line2d_7\">\r\n      <path clip-path=\"url(#p6b34a7e4ef)\" d=\"M 213.576387 565.918125 \r\nL 213.576387 22.318125 \r\n\" style=\"fill:none;stroke:#b0b0b0;stroke-linecap:square;stroke-width:0.8;\"/>\r\n     </g>\r\n     <g id=\"line2d_8\">\r\n      <g>\r\n       <use style=\"stroke:#000000;stroke-width:0.8;\" x=\"213.576387\" xlink:href=\"#mc130b86e51\" y=\"565.918125\"/>\r\n      </g>\r\n     </g>\r\n     <g id=\"text_4\">\r\n      <!-- PL -->\r\n      <g transform=\"translate(207.775606 580.516562)scale(0.1 -0.1)\">\r\n       <defs>\r\n        <path d=\"M 1259 4147 \r\nL 1259 2394 \r\nL 2053 2394 \r\nQ 2494 2394 2734 2622 \r\nQ 2975 2850 2975 3272 \r\nQ 2975 3691 2734 3919 \r\nQ 2494 4147 2053 4147 \r\nL 1259 4147 \r\nz\r\nM 628 4666 \r\nL 2053 4666 \r\nQ 2838 4666 3239 4311 \r\nQ 3641 3956 3641 3272 \r\nQ 3641 2581 3239 2228 \r\nQ 2838 1875 2053 1875 \r\nL 1259 1875 \r\nL 1259 0 \r\nL 628 0 \r\nL 628 4666 \r\nz\r\n\" id=\"DejaVuSans-50\" transform=\"scale(0.015625)\"/>\r\n        <path d=\"M 628 4666 \r\nL 1259 4666 \r\nL 1259 531 \r\nL 3531 531 \r\nL 3531 0 \r\nL 628 0 \r\nL 628 4666 \r\nz\r\n\" id=\"DejaVuSans-4c\" transform=\"scale(0.015625)\"/>\r\n       </defs>\r\n       <use xlink:href=\"#DejaVuSans-50\"/>\r\n       <use x=\"60.302734\" xlink:href=\"#DejaVuSans-4c\"/>\r\n      </g>\r\n     </g>\r\n    </g>\r\n    <g id=\"xtick_5\">\r\n     <g id=\"line2d_9\">\r\n      <path clip-path=\"url(#p6b34a7e4ef)\" d=\"M 252.079061 565.918125 \r\nL 252.079061 22.318125 \r\n\" style=\"fill:none;stroke:#b0b0b0;stroke-linecap:square;stroke-width:0.8;\"/>\r\n     </g>\r\n     <g id=\"line2d_10\">\r\n      <g>\r\n       <use style=\"stroke:#000000;stroke-width:0.8;\" x=\"252.079061\" xlink:href=\"#mc130b86e51\" y=\"565.918125\"/>\r\n      </g>\r\n     </g>\r\n     <g id=\"text_5\">\r\n      <!-- NL -->\r\n      <g transform=\"translate(245.552498 580.516562)scale(0.1 -0.1)\">\r\n       <defs>\r\n        <path d=\"M 628 4666 \r\nL 1478 4666 \r\nL 3547 763 \r\nL 3547 4666 \r\nL 4159 4666 \r\nL 4159 0 \r\nL 3309 0 \r\nL 1241 3903 \r\nL 1241 0 \r\nL 628 0 \r\nL 628 4666 \r\nz\r\n\" id=\"DejaVuSans-4e\" transform=\"scale(0.015625)\"/>\r\n       </defs>\r\n       <use xlink:href=\"#DejaVuSans-4e\"/>\r\n       <use x=\"74.804688\" xlink:href=\"#DejaVuSans-4c\"/>\r\n      </g>\r\n     </g>\r\n    </g>\r\n    <g id=\"xtick_6\">\r\n     <g id=\"line2d_11\">\r\n      <path clip-path=\"url(#p6b34a7e4ef)\" d=\"M 290.581735 565.918125 \r\nL 290.581735 22.318125 \r\n\" style=\"fill:none;stroke:#b0b0b0;stroke-linecap:square;stroke-width:0.8;\"/>\r\n     </g>\r\n     <g id=\"line2d_12\">\r\n      <g>\r\n       <use style=\"stroke:#000000;stroke-width:0.8;\" x=\"290.581735\" xlink:href=\"#mc130b86e51\" y=\"565.918125\"/>\r\n      </g>\r\n     </g>\r\n     <g id=\"text_6\">\r\n      <!-- GR -->\r\n      <g transform=\"translate(283.233297 580.516562)scale(0.1 -0.1)\">\r\n       <defs>\r\n        <path d=\"M 2841 2188 \r\nQ 3044 2119 3236 1894 \r\nQ 3428 1669 3622 1275 \r\nL 4263 0 \r\nL 3584 0 \r\nL 2988 1197 \r\nQ 2756 1666 2539 1819 \r\nQ 2322 1972 1947 1972 \r\nL 1259 1972 \r\nL 1259 0 \r\nL 628 0 \r\nL 628 4666 \r\nL 2053 4666 \r\nQ 2853 4666 3247 4331 \r\nQ 3641 3997 3641 3322 \r\nQ 3641 2881 3436 2590 \r\nQ 3231 2300 2841 2188 \r\nz\r\nM 1259 4147 \r\nL 1259 2491 \r\nL 2053 2491 \r\nQ 2509 2491 2742 2702 \r\nQ 2975 2913 2975 3322 \r\nQ 2975 3731 2742 3939 \r\nQ 2509 4147 2053 4147 \r\nL 1259 4147 \r\nz\r\n\" id=\"DejaVuSans-52\" transform=\"scale(0.015625)\"/>\r\n       </defs>\r\n       <use xlink:href=\"#DejaVuSans-47\"/>\r\n       <use x=\"77.490234\" xlink:href=\"#DejaVuSans-52\"/>\r\n      </g>\r\n     </g>\r\n    </g>\r\n    <g id=\"xtick_7\">\r\n     <g id=\"line2d_13\">\r\n      <path clip-path=\"url(#p6b34a7e4ef)\" d=\"M 329.084408 565.918125 \r\nL 329.084408 22.318125 \r\n\" style=\"fill:none;stroke:#b0b0b0;stroke-linecap:square;stroke-width:0.8;\"/>\r\n     </g>\r\n     <g id=\"line2d_14\">\r\n      <g>\r\n       <use style=\"stroke:#000000;stroke-width:0.8;\" x=\"329.084408\" xlink:href=\"#mc130b86e51\" y=\"565.918125\"/>\r\n      </g>\r\n     </g>\r\n     <g id=\"text_7\">\r\n      <!-- FR -->\r\n      <g transform=\"translate(322.734408 580.516562)scale(0.1 -0.1)\">\r\n       <defs>\r\n        <path d=\"M 628 4666 \r\nL 3309 4666 \r\nL 3309 4134 \r\nL 1259 4134 \r\nL 1259 2759 \r\nL 3109 2759 \r\nL 3109 2228 \r\nL 1259 2228 \r\nL 1259 0 \r\nL 628 0 \r\nL 628 4666 \r\nz\r\n\" id=\"DejaVuSans-46\" transform=\"scale(0.015625)\"/>\r\n       </defs>\r\n       <use xlink:href=\"#DejaVuSans-46\"/>\r\n       <use x=\"57.519531\" xlink:href=\"#DejaVuSans-52\"/>\r\n      </g>\r\n     </g>\r\n    </g>\r\n    <g id=\"xtick_8\">\r\n     <g id=\"line2d_15\">\r\n      <path clip-path=\"url(#p6b34a7e4ef)\" d=\"M 367.587082 565.918125 \r\nL 367.587082 22.318125 \r\n\" style=\"fill:none;stroke:#b0b0b0;stroke-linecap:square;stroke-width:0.8;\"/>\r\n     </g>\r\n     <g id=\"line2d_16\">\r\n      <g>\r\n       <use style=\"stroke:#000000;stroke-width:0.8;\" x=\"367.587082\" xlink:href=\"#mc130b86e51\" y=\"565.918125\"/>\r\n      </g>\r\n     </g>\r\n     <g id=\"text_8\">\r\n      <!-- ES -->\r\n      <g transform=\"translate(361.253488 580.516562)scale(0.1 -0.1)\">\r\n       <defs>\r\n        <path d=\"M 3425 4513 \r\nL 3425 3897 \r\nQ 3066 4069 2747 4153 \r\nQ 2428 4238 2131 4238 \r\nQ 1616 4238 1336 4038 \r\nQ 1056 3838 1056 3469 \r\nQ 1056 3159 1242 3001 \r\nQ 1428 2844 1947 2747 \r\nL 2328 2669 \r\nQ 3034 2534 3370 2195 \r\nQ 3706 1856 3706 1288 \r\nQ 3706 609 3251 259 \r\nQ 2797 -91 1919 -91 \r\nQ 1588 -91 1214 -16 \r\nQ 841 59 441 206 \r\nL 441 856 \r\nQ 825 641 1194 531 \r\nQ 1563 422 1919 422 \r\nQ 2459 422 2753 634 \r\nQ 3047 847 3047 1241 \r\nQ 3047 1584 2836 1778 \r\nQ 2625 1972 2144 2069 \r\nL 1759 2144 \r\nQ 1053 2284 737 2584 \r\nQ 422 2884 422 3419 \r\nQ 422 4038 858 4394 \r\nQ 1294 4750 2059 4750 \r\nQ 2388 4750 2728 4690 \r\nQ 3069 4631 3425 4513 \r\nz\r\n\" id=\"DejaVuSans-53\" transform=\"scale(0.015625)\"/>\r\n       </defs>\r\n       <use xlink:href=\"#DejaVuSans-45\"/>\r\n       <use x=\"63.183594\" xlink:href=\"#DejaVuSans-53\"/>\r\n      </g>\r\n     </g>\r\n    </g>\r\n    <g id=\"xtick_9\">\r\n     <g id=\"line2d_17\">\r\n      <path clip-path=\"url(#p6b34a7e4ef)\" d=\"M 406.089756 565.918125 \r\nL 406.089756 22.318125 \r\n\" style=\"fill:none;stroke:#b0b0b0;stroke-linecap:square;stroke-width:0.8;\"/>\r\n     </g>\r\n     <g id=\"line2d_18\">\r\n      <g>\r\n       <use style=\"stroke:#000000;stroke-width:0.8;\" x=\"406.089756\" xlink:href=\"#mc130b86e51\" y=\"565.918125\"/>\r\n      </g>\r\n     </g>\r\n     <g id=\"text_9\">\r\n      <!-- RS -->\r\n      <g transform=\"translate(399.441319 580.516562)scale(0.1 -0.1)\">\r\n       <use xlink:href=\"#DejaVuSans-52\"/>\r\n       <use x=\"69.482422\" xlink:href=\"#DejaVuSans-53\"/>\r\n      </g>\r\n     </g>\r\n    </g>\r\n    <g id=\"xtick_10\">\r\n     <g id=\"line2d_19\">\r\n      <path clip-path=\"url(#p6b34a7e4ef)\" d=\"M 444.59243 565.918125 \r\nL 444.59243 22.318125 \r\n\" style=\"fill:none;stroke:#b0b0b0;stroke-linecap:square;stroke-width:0.8;\"/>\r\n     </g>\r\n     <g id=\"line2d_20\">\r\n      <g>\r\n       <use style=\"stroke:#000000;stroke-width:0.8;\" x=\"444.59243\" xlink:href=\"#mc130b86e51\" y=\"565.918125\"/>\r\n      </g>\r\n     </g>\r\n     <g id=\"text_10\">\r\n      <!-- IE -->\r\n      <g transform=\"translate(439.958055 580.516562)scale(0.1 -0.1)\">\r\n       <defs>\r\n        <path d=\"M 628 4666 \r\nL 1259 4666 \r\nL 1259 0 \r\nL 628 0 \r\nL 628 4666 \r\nz\r\n\" id=\"DejaVuSans-49\" transform=\"scale(0.015625)\"/>\r\n       </defs>\r\n       <use xlink:href=\"#DejaVuSans-49\"/>\r\n       <use x=\"29.492188\" xlink:href=\"#DejaVuSans-45\"/>\r\n      </g>\r\n     </g>\r\n    </g>\r\n    <g id=\"xtick_11\">\r\n     <g id=\"line2d_21\">\r\n      <path clip-path=\"url(#p6b34a7e4ef)\" d=\"M 483.095104 565.918125 \r\nL 483.095104 22.318125 \r\n\" style=\"fill:none;stroke:#b0b0b0;stroke-linecap:square;stroke-width:0.8;\"/>\r\n     </g>\r\n     <g id=\"line2d_22\">\r\n      <g>\r\n       <use style=\"stroke:#000000;stroke-width:0.8;\" x=\"483.095104\" xlink:href=\"#mc130b86e51\" y=\"565.918125\"/>\r\n      </g>\r\n     </g>\r\n     <g id=\"text_11\">\r\n      <!-- FI -->\r\n      <g transform=\"translate(478.744322 580.516562)scale(0.1 -0.1)\">\r\n       <use xlink:href=\"#DejaVuSans-46\"/>\r\n       <use x=\"57.519531\" xlink:href=\"#DejaVuSans-49\"/>\r\n      </g>\r\n     </g>\r\n    </g>\r\n    <g id=\"xtick_12\">\r\n     <g id=\"line2d_23\">\r\n      <path clip-path=\"url(#p6b34a7e4ef)\" d=\"M 521.597777 565.918125 \r\nL 521.597777 22.318125 \r\n\" style=\"fill:none;stroke:#b0b0b0;stroke-linecap:square;stroke-width:0.8;\"/>\r\n     </g>\r\n     <g id=\"line2d_24\">\r\n      <g>\r\n       <use style=\"stroke:#000000;stroke-width:0.8;\" x=\"521.597777\" xlink:href=\"#mc130b86e51\" y=\"565.918125\"/>\r\n      </g>\r\n     </g>\r\n     <g id=\"text_12\">\r\n      <!-- SE -->\r\n      <g transform=\"translate(515.264184 580.516562)scale(0.1 -0.1)\">\r\n       <use xlink:href=\"#DejaVuSans-53\"/>\r\n       <use x=\"63.476562\" xlink:href=\"#DejaVuSans-45\"/>\r\n      </g>\r\n     </g>\r\n    </g>\r\n    <g id=\"xtick_13\">\r\n     <g id=\"line2d_25\">\r\n      <path clip-path=\"url(#p6b34a7e4ef)\" d=\"M 560.100451 565.918125 \r\nL 560.100451 22.318125 \r\n\" style=\"fill:none;stroke:#b0b0b0;stroke-linecap:square;stroke-width:0.8;\"/>\r\n     </g>\r\n     <g id=\"line2d_26\">\r\n      <g>\r\n       <use style=\"stroke:#000000;stroke-width:0.8;\" x=\"560.100451\" xlink:href=\"#mc130b86e51\" y=\"565.918125\"/>\r\n      </g>\r\n     </g>\r\n     <g id=\"text_13\">\r\n      <!-- AT -->\r\n      <g transform=\"translate(554.013732 580.516562)scale(0.1 -0.1)\">\r\n       <defs>\r\n        <path d=\"M 2188 4044 \r\nL 1331 1722 \r\nL 3047 1722 \r\nL 2188 4044 \r\nz\r\nM 1831 4666 \r\nL 2547 4666 \r\nL 4325 0 \r\nL 3669 0 \r\nL 3244 1197 \r\nL 1141 1197 \r\nL 716 0 \r\nL 50 0 \r\nL 1831 4666 \r\nz\r\n\" id=\"DejaVuSans-41\" transform=\"scale(0.015625)\"/>\r\n        <path d=\"M -19 4666 \r\nL 3928 4666 \r\nL 3928 4134 \r\nL 2272 4134 \r\nL 2272 0 \r\nL 1638 0 \r\nL 1638 4134 \r\nL -19 4134 \r\nL -19 4666 \r\nz\r\n\" id=\"DejaVuSans-54\" transform=\"scale(0.015625)\"/>\r\n       </defs>\r\n       <use xlink:href=\"#DejaVuSans-41\"/>\r\n       <use x=\"60.658203\" xlink:href=\"#DejaVuSans-54\"/>\r\n      </g>\r\n     </g>\r\n    </g>\r\n    <g id=\"xtick_14\">\r\n     <g id=\"line2d_27\">\r\n      <path clip-path=\"url(#p6b34a7e4ef)\" d=\"M 598.603125 565.918125 \r\nL 598.603125 22.318125 \r\n\" style=\"fill:none;stroke:#b0b0b0;stroke-linecap:square;stroke-width:0.8;\"/>\r\n     </g>\r\n     <g id=\"line2d_28\">\r\n      <g>\r\n       <use style=\"stroke:#000000;stroke-width:0.8;\" x=\"598.603125\" xlink:href=\"#mc130b86e51\" y=\"565.918125\"/>\r\n      </g>\r\n     </g>\r\n     <g id=\"text_14\">\r\n      <!-- PT -->\r\n      <g transform=\"translate(592.534375 580.516562)scale(0.1 -0.1)\">\r\n       <use xlink:href=\"#DejaVuSans-50\"/>\r\n       <use x=\"60.302734\" xlink:href=\"#DejaVuSans-54\"/>\r\n      </g>\r\n     </g>\r\n    </g>\r\n    <g id=\"xtick_15\">\r\n     <g id=\"line2d_29\">\r\n      <path clip-path=\"url(#p6b34a7e4ef)\" d=\"M 637.105799 565.918125 \r\nL 637.105799 22.318125 \r\n\" style=\"fill:none;stroke:#b0b0b0;stroke-linecap:square;stroke-width:0.8;\"/>\r\n     </g>\r\n     <g id=\"line2d_30\">\r\n      <g>\r\n       <use style=\"stroke:#000000;stroke-width:0.8;\" x=\"637.105799\" xlink:href=\"#mc130b86e51\" y=\"565.918125\"/>\r\n      </g>\r\n     </g>\r\n     <g id=\"text_15\">\r\n      <!-- CZ -->\r\n      <g transform=\"translate(630.189393 580.516562)scale(0.1 -0.1)\">\r\n       <defs>\r\n        <path d=\"M 359 4666 \r\nL 4025 4666 \r\nL 4025 4184 \r\nL 1075 531 \r\nL 4097 531 \r\nL 4097 0 \r\nL 288 0 \r\nL 288 481 \r\nL 3238 4134 \r\nL 359 4134 \r\nL 359 4666 \r\nz\r\n\" id=\"DejaVuSans-5a\" transform=\"scale(0.015625)\"/>\r\n       </defs>\r\n       <use xlink:href=\"#DejaVuSans-43\"/>\r\n       <use x=\"69.824219\" xlink:href=\"#DejaVuSans-5a\"/>\r\n      </g>\r\n     </g>\r\n    </g>\r\n    <g id=\"xtick_16\">\r\n     <g id=\"line2d_31\">\r\n      <path clip-path=\"url(#p6b34a7e4ef)\" d=\"M 675.608473 565.918125 \r\nL 675.608473 22.318125 \r\n\" style=\"fill:none;stroke:#b0b0b0;stroke-linecap:square;stroke-width:0.8;\"/>\r\n     </g>\r\n     <g id=\"line2d_32\">\r\n      <g>\r\n       <use style=\"stroke:#000000;stroke-width:0.8;\" x=\"675.608473\" xlink:href=\"#mc130b86e51\" y=\"565.918125\"/>\r\n      </g>\r\n     </g>\r\n     <g id=\"text_16\">\r\n      <!-- DK -->\r\n      <g transform=\"translate(668.479566 580.516562)scale(0.1 -0.1)\">\r\n       <defs>\r\n        <path d=\"M 628 4666 \r\nL 1259 4666 \r\nL 1259 2694 \r\nL 3353 4666 \r\nL 4166 4666 \r\nL 1850 2491 \r\nL 4331 0 \r\nL 3500 0 \r\nL 1259 2247 \r\nL 1259 0 \r\nL 628 0 \r\nL 628 4666 \r\nz\r\n\" id=\"DejaVuSans-4b\" transform=\"scale(0.015625)\"/>\r\n       </defs>\r\n       <use xlink:href=\"#DejaVuSans-44\"/>\r\n       <use x=\"77.001953\" xlink:href=\"#DejaVuSans-4b\"/>\r\n      </g>\r\n     </g>\r\n    </g>\r\n    <g id=\"xtick_17\">\r\n     <g id=\"line2d_33\">\r\n      <path clip-path=\"url(#p6b34a7e4ef)\" d=\"M 714.111146 565.918125 \r\nL 714.111146 22.318125 \r\n\" style=\"fill:none;stroke:#b0b0b0;stroke-linecap:square;stroke-width:0.8;\"/>\r\n     </g>\r\n     <g id=\"line2d_34\">\r\n      <g>\r\n       <use style=\"stroke:#000000;stroke-width:0.8;\" x=\"714.111146\" xlink:href=\"#mc130b86e51\" y=\"565.918125\"/>\r\n      </g>\r\n     </g>\r\n     <g id=\"text_17\">\r\n      <!-- LT -->\r\n      <g transform=\"translate(708.958803 580.516562)scale(0.1 -0.1)\">\r\n       <use xlink:href=\"#DejaVuSans-4c\"/>\r\n       <use x=\"41.962891\" xlink:href=\"#DejaVuSans-54\"/>\r\n      </g>\r\n     </g>\r\n    </g>\r\n    <g id=\"xtick_18\">\r\n     <g id=\"line2d_35\">\r\n      <path clip-path=\"url(#p6b34a7e4ef)\" d=\"M 752.61382 565.918125 \r\nL 752.61382 22.318125 \r\n\" style=\"fill:none;stroke:#b0b0b0;stroke-linecap:square;stroke-width:0.8;\"/>\r\n     </g>\r\n     <g id=\"line2d_36\">\r\n      <g>\r\n       <use style=\"stroke:#000000;stroke-width:0.8;\" x=\"752.61382\" xlink:href=\"#mc130b86e51\" y=\"565.918125\"/>\r\n      </g>\r\n     </g>\r\n     <g id=\"text_18\">\r\n      <!-- ME -->\r\n      <g transform=\"translate(745.140383 580.516562)scale(0.1 -0.1)\">\r\n       <defs>\r\n        <path d=\"M 628 4666 \r\nL 1569 4666 \r\nL 2759 1491 \r\nL 3956 4666 \r\nL 4897 4666 \r\nL 4897 0 \r\nL 4281 0 \r\nL 4281 4097 \r\nL 3078 897 \r\nL 2444 897 \r\nL 1241 4097 \r\nL 1241 0 \r\nL 628 0 \r\nL 628 4666 \r\nz\r\n\" id=\"DejaVuSans-4d\" transform=\"scale(0.015625)\"/>\r\n       </defs>\r\n       <use xlink:href=\"#DejaVuSans-4d\"/>\r\n       <use x=\"86.279297\" xlink:href=\"#DejaVuSans-45\"/>\r\n      </g>\r\n     </g>\r\n    </g>\r\n    <g id=\"xtick_19\">\r\n     <g id=\"line2d_37\">\r\n      <path clip-path=\"url(#p6b34a7e4ef)\" d=\"M 791.116494 565.918125 \r\nL 791.116494 22.318125 \r\n\" style=\"fill:none;stroke:#b0b0b0;stroke-linecap:square;stroke-width:0.8;\"/>\r\n     </g>\r\n     <g id=\"line2d_38\">\r\n      <g>\r\n       <use style=\"stroke:#000000;stroke-width:0.8;\" x=\"791.116494\" xlink:href=\"#mc130b86e51\" y=\"565.918125\"/>\r\n      </g>\r\n     </g>\r\n     <g id=\"text_19\">\r\n      <!-- BE -->\r\n      <g transform=\"translate(784.52665 580.516562)scale(0.1 -0.1)\">\r\n       <use xlink:href=\"#DejaVuSans-42\"/>\r\n       <use x=\"68.603516\" xlink:href=\"#DejaVuSans-45\"/>\r\n      </g>\r\n     </g>\r\n    </g>\r\n    <g id=\"xtick_20\">\r\n     <g id=\"line2d_39\">\r\n      <path clip-path=\"url(#p6b34a7e4ef)\" d=\"M 829.619168 565.918125 \r\nL 829.619168 22.318125 \r\n\" style=\"fill:none;stroke:#b0b0b0;stroke-linecap:square;stroke-width:0.8;\"/>\r\n     </g>\r\n     <g id=\"line2d_40\">\r\n      <g>\r\n       <use style=\"stroke:#000000;stroke-width:0.8;\" x=\"829.619168\" xlink:href=\"#mc130b86e51\" y=\"565.918125\"/>\r\n      </g>\r\n     </g>\r\n     <g id=\"text_20\">\r\n      <!-- BG -->\r\n      <g transform=\"translate(822.40198 580.516562)scale(0.1 -0.1)\">\r\n       <use xlink:href=\"#DejaVuSans-42\"/>\r\n       <use x=\"66.853516\" xlink:href=\"#DejaVuSans-47\"/>\r\n      </g>\r\n     </g>\r\n    </g>\r\n    <g id=\"xtick_21\">\r\n     <g id=\"line2d_41\">\r\n      <path clip-path=\"url(#p6b34a7e4ef)\" d=\"M 868.121842 565.918125 \r\nL 868.121842 22.318125 \r\n\" style=\"fill:none;stroke:#b0b0b0;stroke-linecap:square;stroke-width:0.8;\"/>\r\n     </g>\r\n     <g id=\"line2d_42\">\r\n      <g>\r\n       <use style=\"stroke:#000000;stroke-width:0.8;\" x=\"868.121842\" xlink:href=\"#mc130b86e51\" y=\"565.918125\"/>\r\n      </g>\r\n     </g>\r\n     <g id=\"text_21\">\r\n      <!-- SK -->\r\n      <g transform=\"translate(861.668717 580.516562)scale(0.1 -0.1)\">\r\n       <use xlink:href=\"#DejaVuSans-53\"/>\r\n       <use x=\"63.476562\" xlink:href=\"#DejaVuSans-4b\"/>\r\n      </g>\r\n     </g>\r\n    </g>\r\n    <g id=\"xtick_22\">\r\n     <g id=\"line2d_43\">\r\n      <path clip-path=\"url(#p6b34a7e4ef)\" d=\"M 906.624515 565.918125 \r\nL 906.624515 22.318125 \r\n\" style=\"fill:none;stroke:#b0b0b0;stroke-linecap:square;stroke-width:0.8;\"/>\r\n     </g>\r\n     <g id=\"line2d_44\">\r\n      <g>\r\n       <use style=\"stroke:#000000;stroke-width:0.8;\" x=\"906.624515\" xlink:href=\"#mc130b86e51\" y=\"565.918125\"/>\r\n      </g>\r\n     </g>\r\n     <g id=\"text_22\">\r\n      <!-- LV -->\r\n      <g transform=\"translate(900.968265 580.516562)scale(0.1 -0.1)\">\r\n       <defs>\r\n        <path d=\"M 1831 0 \r\nL 50 4666 \r\nL 709 4666 \r\nL 2188 738 \r\nL 3669 4666 \r\nL 4325 4666 \r\nL 2547 0 \r\nL 1831 0 \r\nz\r\n\" id=\"DejaVuSans-56\" transform=\"scale(0.015625)\"/>\r\n       </defs>\r\n       <use xlink:href=\"#DejaVuSans-4c\"/>\r\n       <use x=\"44.712891\" xlink:href=\"#DejaVuSans-56\"/>\r\n      </g>\r\n     </g>\r\n    </g>\r\n    <g id=\"xtick_23\">\r\n     <g id=\"line2d_45\">\r\n      <path clip-path=\"url(#p6b34a7e4ef)\" d=\"M 945.127189 565.918125 \r\nL 945.127189 22.318125 \r\n\" style=\"fill:none;stroke:#b0b0b0;stroke-linecap:square;stroke-width:0.8;\"/>\r\n     </g>\r\n     <g id=\"line2d_46\">\r\n      <g>\r\n       <use style=\"stroke:#000000;stroke-width:0.8;\" x=\"945.127189\" xlink:href=\"#mc130b86e51\" y=\"565.918125\"/>\r\n      </g>\r\n     </g>\r\n     <g id=\"text_23\">\r\n      <!-- HU -->\r\n      <g transform=\"translate(937.707658 580.516562)scale(0.1 -0.1)\">\r\n       <defs>\r\n        <path d=\"M 556 4666 \r\nL 1191 4666 \r\nL 1191 1831 \r\nQ 1191 1081 1462 751 \r\nQ 1734 422 2344 422 \r\nQ 2950 422 3222 751 \r\nQ 3494 1081 3494 1831 \r\nL 3494 4666 \r\nL 4128 4666 \r\nL 4128 1753 \r\nQ 4128 841 3676 375 \r\nQ 3225 -91 2344 -91 \r\nQ 1459 -91 1007 375 \r\nQ 556 841 556 1753 \r\nL 556 4666 \r\nz\r\n\" id=\"DejaVuSans-55\" transform=\"scale(0.015625)\"/>\r\n       </defs>\r\n       <use xlink:href=\"#DejaVuSans-48\"/>\r\n       <use x=\"75.195312\" xlink:href=\"#DejaVuSans-55\"/>\r\n      </g>\r\n     </g>\r\n    </g>\r\n    <g id=\"xtick_24\">\r\n     <g id=\"line2d_47\">\r\n      <path clip-path=\"url(#p6b34a7e4ef)\" d=\"M 983.629863 565.918125 \r\nL 983.629863 22.318125 \r\n\" style=\"fill:none;stroke:#b0b0b0;stroke-linecap:square;stroke-width:0.8;\"/>\r\n     </g>\r\n     <g id=\"line2d_48\">\r\n      <g>\r\n       <use style=\"stroke:#000000;stroke-width:0.8;\" x=\"983.629863\" xlink:href=\"#mc130b86e51\" y=\"565.918125\"/>\r\n      </g>\r\n     </g>\r\n     <g id=\"text_24\">\r\n      <!-- EE -->\r\n      <g transform=\"translate(977.311113 580.516562)scale(0.1 -0.1)\">\r\n       <use xlink:href=\"#DejaVuSans-45\"/>\r\n       <use x=\"63.183594\" xlink:href=\"#DejaVuSans-45\"/>\r\n      </g>\r\n     </g>\r\n    </g>\r\n    <g id=\"xtick_25\">\r\n     <g id=\"line2d_49\">\r\n      <path clip-path=\"url(#p6b34a7e4ef)\" d=\"M 1022.132537 565.918125 \r\nL 1022.132537 22.318125 \r\n\" style=\"fill:none;stroke:#b0b0b0;stroke-linecap:square;stroke-width:0.8;\"/>\r\n     </g>\r\n     <g id=\"line2d_50\">\r\n      <g>\r\n       <use style=\"stroke:#000000;stroke-width:0.8;\" x=\"1022.132537\" xlink:href=\"#mc130b86e51\" y=\"565.918125\"/>\r\n      </g>\r\n     </g>\r\n     <g id=\"text_25\">\r\n      <!-- NO -->\r\n      <g transform=\"translate(1014.455974 580.516562)scale(0.1 -0.1)\">\r\n       <defs>\r\n        <path d=\"M 2522 4238 \r\nQ 1834 4238 1429 3725 \r\nQ 1025 3213 1025 2328 \r\nQ 1025 1447 1429 934 \r\nQ 1834 422 2522 422 \r\nQ 3209 422 3611 934 \r\nQ 4013 1447 4013 2328 \r\nQ 4013 3213 3611 3725 \r\nQ 3209 4238 2522 4238 \r\nz\r\nM 2522 4750 \r\nQ 3503 4750 4090 4092 \r\nQ 4678 3434 4678 2328 \r\nQ 4678 1225 4090 567 \r\nQ 3503 -91 2522 -91 \r\nQ 1538 -91 948 565 \r\nQ 359 1222 359 2328 \r\nQ 359 3434 948 4092 \r\nQ 1538 4750 2522 4750 \r\nz\r\n\" id=\"DejaVuSans-4f\" transform=\"scale(0.015625)\"/>\r\n       </defs>\r\n       <use xlink:href=\"#DejaVuSans-4e\"/>\r\n       <use x=\"74.804688\" xlink:href=\"#DejaVuSans-4f\"/>\r\n      </g>\r\n     </g>\r\n    </g>\r\n    <g id=\"xtick_26\">\r\n     <g id=\"line2d_51\">\r\n      <path clip-path=\"url(#p6b34a7e4ef)\" d=\"M 1060.635211 565.918125 \r\nL 1060.635211 22.318125 \r\n\" style=\"fill:none;stroke:#b0b0b0;stroke-linecap:square;stroke-width:0.8;\"/>\r\n     </g>\r\n     <g id=\"line2d_52\">\r\n      <g>\r\n       <use style=\"stroke:#000000;stroke-width:0.8;\" x=\"1060.635211\" xlink:href=\"#mc130b86e51\" y=\"565.918125\"/>\r\n      </g>\r\n     </g>\r\n     <g id=\"text_26\">\r\n      <!-- SI -->\r\n      <g transform=\"translate(1055.985992 580.516562)scale(0.1 -0.1)\">\r\n       <use xlink:href=\"#DejaVuSans-53\"/>\r\n       <use x=\"63.476562\" xlink:href=\"#DejaVuSans-49\"/>\r\n      </g>\r\n     </g>\r\n    </g>\r\n    <g id=\"xtick_27\">\r\n     <g id=\"line2d_53\">\r\n      <path clip-path=\"url(#p6b34a7e4ef)\" d=\"M 1099.137884 565.918125 \r\nL 1099.137884 22.318125 \r\n\" style=\"fill:none;stroke:#b0b0b0;stroke-linecap:square;stroke-width:0.8;\"/>\r\n     </g>\r\n     <g id=\"line2d_54\">\r\n      <g>\r\n       <use style=\"stroke:#000000;stroke-width:0.8;\" x=\"1099.137884\" xlink:href=\"#mc130b86e51\" y=\"565.918125\"/>\r\n      </g>\r\n     </g>\r\n     <g id=\"text_27\">\r\n      <!-- IT -->\r\n      <g transform=\"translate(1094.608978 580.516562)scale(0.1 -0.1)\">\r\n       <use xlink:href=\"#DejaVuSans-49\"/>\r\n       <use x=\"29.492188\" xlink:href=\"#DejaVuSans-54\"/>\r\n      </g>\r\n     </g>\r\n    </g>\r\n    <g id=\"text_28\">\r\n     <!-- Countries -->\r\n     <g transform=\"translate(574.628906 594.194687)scale(0.1 -0.1)\">\r\n      <defs>\r\n       <path d=\"M 1959 3097 \r\nQ 1497 3097 1228 2736 \r\nQ 959 2375 959 1747 \r\nQ 959 1119 1226 758 \r\nQ 1494 397 1959 397 \r\nQ 2419 397 2687 759 \r\nQ 2956 1122 2956 1747 \r\nQ 2956 2369 2687 2733 \r\nQ 2419 3097 1959 3097 \r\nz\r\nM 1959 3584 \r\nQ 2709 3584 3137 3096 \r\nQ 3566 2609 3566 1747 \r\nQ 3566 888 3137 398 \r\nQ 2709 -91 1959 -91 \r\nQ 1206 -91 779 398 \r\nQ 353 888 353 1747 \r\nQ 353 2609 779 3096 \r\nQ 1206 3584 1959 3584 \r\nz\r\n\" id=\"DejaVuSans-6f\" transform=\"scale(0.015625)\"/>\r\n       <path d=\"M 544 1381 \r\nL 544 3500 \r\nL 1119 3500 \r\nL 1119 1403 \r\nQ 1119 906 1312 657 \r\nQ 1506 409 1894 409 \r\nQ 2359 409 2629 706 \r\nQ 2900 1003 2900 1516 \r\nL 2900 3500 \r\nL 3475 3500 \r\nL 3475 0 \r\nL 2900 0 \r\nL 2900 538 \r\nQ 2691 219 2414 64 \r\nQ 2138 -91 1772 -91 \r\nQ 1169 -91 856 284 \r\nQ 544 659 544 1381 \r\nz\r\nM 1991 3584 \r\nL 1991 3584 \r\nz\r\n\" id=\"DejaVuSans-75\" transform=\"scale(0.015625)\"/>\r\n       <path d=\"M 3513 2113 \r\nL 3513 0 \r\nL 2938 0 \r\nL 2938 2094 \r\nQ 2938 2591 2744 2837 \r\nQ 2550 3084 2163 3084 \r\nQ 1697 3084 1428 2787 \r\nQ 1159 2491 1159 1978 \r\nL 1159 0 \r\nL 581 0 \r\nL 581 3500 \r\nL 1159 3500 \r\nL 1159 2956 \r\nQ 1366 3272 1645 3428 \r\nQ 1925 3584 2291 3584 \r\nQ 2894 3584 3203 3211 \r\nQ 3513 2838 3513 2113 \r\nz\r\n\" id=\"DejaVuSans-6e\" transform=\"scale(0.015625)\"/>\r\n       <path d=\"M 1172 4494 \r\nL 1172 3500 \r\nL 2356 3500 \r\nL 2356 3053 \r\nL 1172 3053 \r\nL 1172 1153 \r\nQ 1172 725 1289 603 \r\nQ 1406 481 1766 481 \r\nL 2356 481 \r\nL 2356 0 \r\nL 1766 0 \r\nQ 1100 0 847 248 \r\nQ 594 497 594 1153 \r\nL 594 3053 \r\nL 172 3053 \r\nL 172 3500 \r\nL 594 3500 \r\nL 594 4494 \r\nL 1172 4494 \r\nz\r\n\" id=\"DejaVuSans-74\" transform=\"scale(0.015625)\"/>\r\n       <path d=\"M 2631 2963 \r\nQ 2534 3019 2420 3045 \r\nQ 2306 3072 2169 3072 \r\nQ 1681 3072 1420 2755 \r\nQ 1159 2438 1159 1844 \r\nL 1159 0 \r\nL 581 0 \r\nL 581 3500 \r\nL 1159 3500 \r\nL 1159 2956 \r\nQ 1341 3275 1631 3429 \r\nQ 1922 3584 2338 3584 \r\nQ 2397 3584 2469 3576 \r\nQ 2541 3569 2628 3553 \r\nL 2631 2963 \r\nz\r\n\" id=\"DejaVuSans-72\" transform=\"scale(0.015625)\"/>\r\n       <path d=\"M 603 3500 \r\nL 1178 3500 \r\nL 1178 0 \r\nL 603 0 \r\nL 603 3500 \r\nz\r\nM 603 4863 \r\nL 1178 4863 \r\nL 1178 4134 \r\nL 603 4134 \r\nL 603 4863 \r\nz\r\n\" id=\"DejaVuSans-69\" transform=\"scale(0.015625)\"/>\r\n       <path d=\"M 3597 1894 \r\nL 3597 1613 \r\nL 953 1613 \r\nQ 991 1019 1311 708 \r\nQ 1631 397 2203 397 \r\nQ 2534 397 2845 478 \r\nQ 3156 559 3463 722 \r\nL 3463 178 \r\nQ 3153 47 2828 -22 \r\nQ 2503 -91 2169 -91 \r\nQ 1331 -91 842 396 \r\nQ 353 884 353 1716 \r\nQ 353 2575 817 3079 \r\nQ 1281 3584 2069 3584 \r\nQ 2775 3584 3186 3129 \r\nQ 3597 2675 3597 1894 \r\nz\r\nM 3022 2063 \r\nQ 3016 2534 2758 2815 \r\nQ 2500 3097 2075 3097 \r\nQ 1594 3097 1305 2825 \r\nQ 1016 2553 972 2059 \r\nL 3022 2063 \r\nz\r\n\" id=\"DejaVuSans-65\" transform=\"scale(0.015625)\"/>\r\n       <path d=\"M 2834 3397 \r\nL 2834 2853 \r\nQ 2591 2978 2328 3040 \r\nQ 2066 3103 1784 3103 \r\nQ 1356 3103 1142 2972 \r\nQ 928 2841 928 2578 \r\nQ 928 2378 1081 2264 \r\nQ 1234 2150 1697 2047 \r\nL 1894 2003 \r\nQ 2506 1872 2764 1633 \r\nQ 3022 1394 3022 966 \r\nQ 3022 478 2636 193 \r\nQ 2250 -91 1575 -91 \r\nQ 1294 -91 989 -36 \r\nQ 684 19 347 128 \r\nL 347 722 \r\nQ 666 556 975 473 \r\nQ 1284 391 1588 391 \r\nQ 1994 391 2212 530 \r\nQ 2431 669 2431 922 \r\nQ 2431 1156 2273 1281 \r\nQ 2116 1406 1581 1522 \r\nL 1381 1569 \r\nQ 847 1681 609 1914 \r\nQ 372 2147 372 2553 \r\nQ 372 3047 722 3315 \r\nQ 1072 3584 1716 3584 \r\nQ 2034 3584 2315 3537 \r\nQ 2597 3491 2834 3397 \r\nz\r\n\" id=\"DejaVuSans-73\" transform=\"scale(0.015625)\"/>\r\n      </defs>\r\n      <use xlink:href=\"#DejaVuSans-43\"/>\r\n      <use x=\"69.824219\" xlink:href=\"#DejaVuSans-6f\"/>\r\n      <use x=\"131.005859\" xlink:href=\"#DejaVuSans-75\"/>\r\n      <use x=\"194.384766\" xlink:href=\"#DejaVuSans-6e\"/>\r\n      <use x=\"257.763672\" xlink:href=\"#DejaVuSans-74\"/>\r\n      <use x=\"296.972656\" xlink:href=\"#DejaVuSans-72\"/>\r\n      <use x=\"338.085938\" xlink:href=\"#DejaVuSans-69\"/>\r\n      <use x=\"365.869141\" xlink:href=\"#DejaVuSans-65\"/>\r\n      <use x=\"427.392578\" xlink:href=\"#DejaVuSans-73\"/>\r\n     </g>\r\n    </g>\r\n   </g>\r\n   <g id=\"matplotlib.axis_2\">\r\n    <g id=\"ytick_1\">\r\n     <g id=\"line2d_55\">\r\n      <path clip-path=\"url(#p6b34a7e4ef)\" d=\"M 40.603125 565.918125 \r\nL 1156.603125 565.918125 \r\n\" style=\"fill:none;stroke:#b0b0b0;stroke-linecap:square;stroke-width:0.8;\"/>\r\n     </g>\r\n     <g id=\"line2d_56\">\r\n      <defs>\r\n       <path d=\"M 0 0 \r\nL -3.5 0 \r\n\" id=\"md33f38af4d\" style=\"stroke:#000000;stroke-width:0.8;\"/>\r\n      </defs>\r\n      <g>\r\n       <use style=\"stroke:#000000;stroke-width:0.8;\" x=\"40.603125\" xlink:href=\"#md33f38af4d\" y=\"565.918125\"/>\r\n      </g>\r\n     </g>\r\n     <g id=\"text_29\">\r\n      <!-- 0 -->\r\n      <g transform=\"translate(27.240625 569.717344)scale(0.1 -0.1)\">\r\n       <defs>\r\n        <path d=\"M 2034 4250 \r\nQ 1547 4250 1301 3770 \r\nQ 1056 3291 1056 2328 \r\nQ 1056 1369 1301 889 \r\nQ 1547 409 2034 409 \r\nQ 2525 409 2770 889 \r\nQ 3016 1369 3016 2328 \r\nQ 3016 3291 2770 3770 \r\nQ 2525 4250 2034 4250 \r\nz\r\nM 2034 4750 \r\nQ 2819 4750 3233 4129 \r\nQ 3647 3509 3647 2328 \r\nQ 3647 1150 3233 529 \r\nQ 2819 -91 2034 -91 \r\nQ 1250 -91 836 529 \r\nQ 422 1150 422 2328 \r\nQ 422 3509 836 4129 \r\nQ 1250 4750 2034 4750 \r\nz\r\n\" id=\"DejaVuSans-30\" transform=\"scale(0.015625)\"/>\r\n       </defs>\r\n       <use xlink:href=\"#DejaVuSans-30\"/>\r\n      </g>\r\n     </g>\r\n    </g>\r\n    <g id=\"ytick_2\">\r\n     <g id=\"line2d_57\">\r\n      <path clip-path=\"url(#p6b34a7e4ef)\" d=\"M 40.603125 503.76755 \r\nL 1156.603125 503.76755 \r\n\" style=\"fill:none;stroke:#b0b0b0;stroke-linecap:square;stroke-width:0.8;\"/>\r\n     </g>\r\n     <g id=\"line2d_58\">\r\n      <g>\r\n       <use style=\"stroke:#000000;stroke-width:0.8;\" x=\"40.603125\" xlink:href=\"#md33f38af4d\" y=\"503.76755\"/>\r\n      </g>\r\n     </g>\r\n     <g id=\"text_30\">\r\n      <!-- 5 -->\r\n      <g transform=\"translate(27.240625 507.566769)scale(0.1 -0.1)\">\r\n       <defs>\r\n        <path d=\"M 691 4666 \r\nL 3169 4666 \r\nL 3169 4134 \r\nL 1269 4134 \r\nL 1269 2991 \r\nQ 1406 3038 1543 3061 \r\nQ 1681 3084 1819 3084 \r\nQ 2600 3084 3056 2656 \r\nQ 3513 2228 3513 1497 \r\nQ 3513 744 3044 326 \r\nQ 2575 -91 1722 -91 \r\nQ 1428 -91 1123 -41 \r\nQ 819 9 494 109 \r\nL 494 744 \r\nQ 775 591 1075 516 \r\nQ 1375 441 1709 441 \r\nQ 2250 441 2565 725 \r\nQ 2881 1009 2881 1497 \r\nQ 2881 1984 2565 2268 \r\nQ 2250 2553 1709 2553 \r\nQ 1456 2553 1204 2497 \r\nQ 953 2441 691 2322 \r\nL 691 4666 \r\nz\r\n\" id=\"DejaVuSans-35\" transform=\"scale(0.015625)\"/>\r\n       </defs>\r\n       <use xlink:href=\"#DejaVuSans-35\"/>\r\n      </g>\r\n     </g>\r\n    </g>\r\n    <g id=\"ytick_3\">\r\n     <g id=\"line2d_59\">\r\n      <path clip-path=\"url(#p6b34a7e4ef)\" d=\"M 40.603125 441.616976 \r\nL 1156.603125 441.616976 \r\n\" style=\"fill:none;stroke:#b0b0b0;stroke-linecap:square;stroke-width:0.8;\"/>\r\n     </g>\r\n     <g id=\"line2d_60\">\r\n      <g>\r\n       <use style=\"stroke:#000000;stroke-width:0.8;\" x=\"40.603125\" xlink:href=\"#md33f38af4d\" y=\"441.616976\"/>\r\n      </g>\r\n     </g>\r\n     <g id=\"text_31\">\r\n      <!-- 10 -->\r\n      <g transform=\"translate(20.878125 445.416195)scale(0.1 -0.1)\">\r\n       <defs>\r\n        <path d=\"M 794 531 \r\nL 1825 531 \r\nL 1825 4091 \r\nL 703 3866 \r\nL 703 4441 \r\nL 1819 4666 \r\nL 2450 4666 \r\nL 2450 531 \r\nL 3481 531 \r\nL 3481 0 \r\nL 794 0 \r\nL 794 531 \r\nz\r\n\" id=\"DejaVuSans-31\" transform=\"scale(0.015625)\"/>\r\n       </defs>\r\n       <use xlink:href=\"#DejaVuSans-31\"/>\r\n       <use x=\"63.623047\" xlink:href=\"#DejaVuSans-30\"/>\r\n      </g>\r\n     </g>\r\n    </g>\r\n    <g id=\"ytick_4\">\r\n     <g id=\"line2d_61\">\r\n      <path clip-path=\"url(#p6b34a7e4ef)\" d=\"M 40.603125 379.466401 \r\nL 1156.603125 379.466401 \r\n\" style=\"fill:none;stroke:#b0b0b0;stroke-linecap:square;stroke-width:0.8;\"/>\r\n     </g>\r\n     <g id=\"line2d_62\">\r\n      <g>\r\n       <use style=\"stroke:#000000;stroke-width:0.8;\" x=\"40.603125\" xlink:href=\"#md33f38af4d\" y=\"379.466401\"/>\r\n      </g>\r\n     </g>\r\n     <g id=\"text_32\">\r\n      <!-- 15 -->\r\n      <g transform=\"translate(20.878125 383.26562)scale(0.1 -0.1)\">\r\n       <use xlink:href=\"#DejaVuSans-31\"/>\r\n       <use x=\"63.623047\" xlink:href=\"#DejaVuSans-35\"/>\r\n      </g>\r\n     </g>\r\n    </g>\r\n    <g id=\"ytick_5\">\r\n     <g id=\"line2d_63\">\r\n      <path clip-path=\"url(#p6b34a7e4ef)\" d=\"M 40.603125 317.315827 \r\nL 1156.603125 317.315827 \r\n\" style=\"fill:none;stroke:#b0b0b0;stroke-linecap:square;stroke-width:0.8;\"/>\r\n     </g>\r\n     <g id=\"line2d_64\">\r\n      <g>\r\n       <use style=\"stroke:#000000;stroke-width:0.8;\" x=\"40.603125\" xlink:href=\"#md33f38af4d\" y=\"317.315827\"/>\r\n      </g>\r\n     </g>\r\n     <g id=\"text_33\">\r\n      <!-- 20 -->\r\n      <g transform=\"translate(20.878125 321.115046)scale(0.1 -0.1)\">\r\n       <defs>\r\n        <path d=\"M 1228 531 \r\nL 3431 531 \r\nL 3431 0 \r\nL 469 0 \r\nL 469 531 \r\nQ 828 903 1448 1529 \r\nQ 2069 2156 2228 2338 \r\nQ 2531 2678 2651 2914 \r\nQ 2772 3150 2772 3378 \r\nQ 2772 3750 2511 3984 \r\nQ 2250 4219 1831 4219 \r\nQ 1534 4219 1204 4116 \r\nQ 875 4013 500 3803 \r\nL 500 4441 \r\nQ 881 4594 1212 4672 \r\nQ 1544 4750 1819 4750 \r\nQ 2544 4750 2975 4387 \r\nQ 3406 4025 3406 3419 \r\nQ 3406 3131 3298 2873 \r\nQ 3191 2616 2906 2266 \r\nQ 2828 2175 2409 1742 \r\nQ 1991 1309 1228 531 \r\nz\r\n\" id=\"DejaVuSans-32\" transform=\"scale(0.015625)\"/>\r\n       </defs>\r\n       <use xlink:href=\"#DejaVuSans-32\"/>\r\n       <use x=\"63.623047\" xlink:href=\"#DejaVuSans-30\"/>\r\n      </g>\r\n     </g>\r\n    </g>\r\n    <g id=\"ytick_6\">\r\n     <g id=\"line2d_65\">\r\n      <path clip-path=\"url(#p6b34a7e4ef)\" d=\"M 40.603125 255.165252 \r\nL 1156.603125 255.165252 \r\n\" style=\"fill:none;stroke:#b0b0b0;stroke-linecap:square;stroke-width:0.8;\"/>\r\n     </g>\r\n     <g id=\"line2d_66\">\r\n      <g>\r\n       <use style=\"stroke:#000000;stroke-width:0.8;\" x=\"40.603125\" xlink:href=\"#md33f38af4d\" y=\"255.165252\"/>\r\n      </g>\r\n     </g>\r\n     <g id=\"text_34\">\r\n      <!-- 25 -->\r\n      <g transform=\"translate(20.878125 258.964471)scale(0.1 -0.1)\">\r\n       <use xlink:href=\"#DejaVuSans-32\"/>\r\n       <use x=\"63.623047\" xlink:href=\"#DejaVuSans-35\"/>\r\n      </g>\r\n     </g>\r\n    </g>\r\n    <g id=\"ytick_7\">\r\n     <g id=\"line2d_67\">\r\n      <path clip-path=\"url(#p6b34a7e4ef)\" d=\"M 40.603125 193.014678 \r\nL 1156.603125 193.014678 \r\n\" style=\"fill:none;stroke:#b0b0b0;stroke-linecap:square;stroke-width:0.8;\"/>\r\n     </g>\r\n     <g id=\"line2d_68\">\r\n      <g>\r\n       <use style=\"stroke:#000000;stroke-width:0.8;\" x=\"40.603125\" xlink:href=\"#md33f38af4d\" y=\"193.014678\"/>\r\n      </g>\r\n     </g>\r\n     <g id=\"text_35\">\r\n      <!-- 30 -->\r\n      <g transform=\"translate(20.878125 196.813897)scale(0.1 -0.1)\">\r\n       <defs>\r\n        <path d=\"M 2597 2516 \r\nQ 3050 2419 3304 2112 \r\nQ 3559 1806 3559 1356 \r\nQ 3559 666 3084 287 \r\nQ 2609 -91 1734 -91 \r\nQ 1441 -91 1130 -33 \r\nQ 819 25 488 141 \r\nL 488 750 \r\nQ 750 597 1062 519 \r\nQ 1375 441 1716 441 \r\nQ 2309 441 2620 675 \r\nQ 2931 909 2931 1356 \r\nQ 2931 1769 2642 2001 \r\nQ 2353 2234 1838 2234 \r\nL 1294 2234 \r\nL 1294 2753 \r\nL 1863 2753 \r\nQ 2328 2753 2575 2939 \r\nQ 2822 3125 2822 3475 \r\nQ 2822 3834 2567 4026 \r\nQ 2313 4219 1838 4219 \r\nQ 1578 4219 1281 4162 \r\nQ 984 4106 628 3988 \r\nL 628 4550 \r\nQ 988 4650 1302 4700 \r\nQ 1616 4750 1894 4750 \r\nQ 2613 4750 3031 4423 \r\nQ 3450 4097 3450 3541 \r\nQ 3450 3153 3228 2886 \r\nQ 3006 2619 2597 2516 \r\nz\r\n\" id=\"DejaVuSans-33\" transform=\"scale(0.015625)\"/>\r\n       </defs>\r\n       <use xlink:href=\"#DejaVuSans-33\"/>\r\n       <use x=\"63.623047\" xlink:href=\"#DejaVuSans-30\"/>\r\n      </g>\r\n     </g>\r\n    </g>\r\n    <g id=\"ytick_8\">\r\n     <g id=\"line2d_69\">\r\n      <path clip-path=\"url(#p6b34a7e4ef)\" d=\"M 40.603125 130.864103 \r\nL 1156.603125 130.864103 \r\n\" style=\"fill:none;stroke:#b0b0b0;stroke-linecap:square;stroke-width:0.8;\"/>\r\n     </g>\r\n     <g id=\"line2d_70\">\r\n      <g>\r\n       <use style=\"stroke:#000000;stroke-width:0.8;\" x=\"40.603125\" xlink:href=\"#md33f38af4d\" y=\"130.864103\"/>\r\n      </g>\r\n     </g>\r\n     <g id=\"text_36\">\r\n      <!-- 35 -->\r\n      <g transform=\"translate(20.878125 134.663322)scale(0.1 -0.1)\">\r\n       <use xlink:href=\"#DejaVuSans-33\"/>\r\n       <use x=\"63.623047\" xlink:href=\"#DejaVuSans-35\"/>\r\n      </g>\r\n     </g>\r\n    </g>\r\n    <g id=\"ytick_9\">\r\n     <g id=\"line2d_71\">\r\n      <path clip-path=\"url(#p6b34a7e4ef)\" d=\"M 40.603125 68.713529 \r\nL 1156.603125 68.713529 \r\n\" style=\"fill:none;stroke:#b0b0b0;stroke-linecap:square;stroke-width:0.8;\"/>\r\n     </g>\r\n     <g id=\"line2d_72\">\r\n      <g>\r\n       <use style=\"stroke:#000000;stroke-width:0.8;\" x=\"40.603125\" xlink:href=\"#md33f38af4d\" y=\"68.713529\"/>\r\n      </g>\r\n     </g>\r\n     <g id=\"text_37\">\r\n      <!-- 40 -->\r\n      <g transform=\"translate(20.878125 72.512748)scale(0.1 -0.1)\">\r\n       <defs>\r\n        <path d=\"M 2419 4116 \r\nL 825 1625 \r\nL 2419 1625 \r\nL 2419 4116 \r\nz\r\nM 2253 4666 \r\nL 3047 4666 \r\nL 3047 1625 \r\nL 3713 1625 \r\nL 3713 1100 \r\nL 3047 1100 \r\nL 3047 0 \r\nL 2419 0 \r\nL 2419 1100 \r\nL 313 1100 \r\nL 313 1709 \r\nL 2253 4666 \r\nz\r\n\" id=\"DejaVuSans-34\" transform=\"scale(0.015625)\"/>\r\n       </defs>\r\n       <use xlink:href=\"#DejaVuSans-34\"/>\r\n       <use x=\"63.623047\" xlink:href=\"#DejaVuSans-30\"/>\r\n      </g>\r\n     </g>\r\n    </g>\r\n    <g id=\"text_38\">\r\n     <!-- Mismatch [TWh] -->\r\n     <g transform=\"translate(14.798438 334.895469)rotate(-90)scale(0.1 -0.1)\">\r\n      <defs>\r\n       <path d=\"M 3328 2828 \r\nQ 3544 3216 3844 3400 \r\nQ 4144 3584 4550 3584 \r\nQ 5097 3584 5394 3201 \r\nQ 5691 2819 5691 2113 \r\nL 5691 0 \r\nL 5113 0 \r\nL 5113 2094 \r\nQ 5113 2597 4934 2840 \r\nQ 4756 3084 4391 3084 \r\nQ 3944 3084 3684 2787 \r\nQ 3425 2491 3425 1978 \r\nL 3425 0 \r\nL 2847 0 \r\nL 2847 2094 \r\nQ 2847 2600 2669 2842 \r\nQ 2491 3084 2119 3084 \r\nQ 1678 3084 1418 2786 \r\nQ 1159 2488 1159 1978 \r\nL 1159 0 \r\nL 581 0 \r\nL 581 3500 \r\nL 1159 3500 \r\nL 1159 2956 \r\nQ 1356 3278 1631 3431 \r\nQ 1906 3584 2284 3584 \r\nQ 2666 3584 2933 3390 \r\nQ 3200 3197 3328 2828 \r\nz\r\n\" id=\"DejaVuSans-6d\" transform=\"scale(0.015625)\"/>\r\n       <path d=\"M 2194 1759 \r\nQ 1497 1759 1228 1600 \r\nQ 959 1441 959 1056 \r\nQ 959 750 1161 570 \r\nQ 1363 391 1709 391 \r\nQ 2188 391 2477 730 \r\nQ 2766 1069 2766 1631 \r\nL 2766 1759 \r\nL 2194 1759 \r\nz\r\nM 3341 1997 \r\nL 3341 0 \r\nL 2766 0 \r\nL 2766 531 \r\nQ 2569 213 2275 61 \r\nQ 1981 -91 1556 -91 \r\nQ 1019 -91 701 211 \r\nQ 384 513 384 1019 \r\nQ 384 1609 779 1909 \r\nQ 1175 2209 1959 2209 \r\nL 2766 2209 \r\nL 2766 2266 \r\nQ 2766 2663 2505 2880 \r\nQ 2244 3097 1772 3097 \r\nQ 1472 3097 1187 3025 \r\nQ 903 2953 641 2809 \r\nL 641 3341 \r\nQ 956 3463 1253 3523 \r\nQ 1550 3584 1831 3584 \r\nQ 2591 3584 2966 3190 \r\nQ 3341 2797 3341 1997 \r\nz\r\n\" id=\"DejaVuSans-61\" transform=\"scale(0.015625)\"/>\r\n       <path d=\"M 3122 3366 \r\nL 3122 2828 \r\nQ 2878 2963 2633 3030 \r\nQ 2388 3097 2138 3097 \r\nQ 1578 3097 1268 2742 \r\nQ 959 2388 959 1747 \r\nQ 959 1106 1268 751 \r\nQ 1578 397 2138 397 \r\nQ 2388 397 2633 464 \r\nQ 2878 531 3122 666 \r\nL 3122 134 \r\nQ 2881 22 2623 -34 \r\nQ 2366 -91 2075 -91 \r\nQ 1284 -91 818 406 \r\nQ 353 903 353 1747 \r\nQ 353 2603 823 3093 \r\nQ 1294 3584 2113 3584 \r\nQ 2378 3584 2631 3529 \r\nQ 2884 3475 3122 3366 \r\nz\r\n\" id=\"DejaVuSans-63\" transform=\"scale(0.015625)\"/>\r\n       <path d=\"M 3513 2113 \r\nL 3513 0 \r\nL 2938 0 \r\nL 2938 2094 \r\nQ 2938 2591 2744 2837 \r\nQ 2550 3084 2163 3084 \r\nQ 1697 3084 1428 2787 \r\nQ 1159 2491 1159 1978 \r\nL 1159 0 \r\nL 581 0 \r\nL 581 4863 \r\nL 1159 4863 \r\nL 1159 2956 \r\nQ 1366 3272 1645 3428 \r\nQ 1925 3584 2291 3584 \r\nQ 2894 3584 3203 3211 \r\nQ 3513 2838 3513 2113 \r\nz\r\n\" id=\"DejaVuSans-68\" transform=\"scale(0.015625)\"/>\r\n       <path id=\"DejaVuSans-20\" transform=\"scale(0.015625)\"/>\r\n       <path d=\"M 550 4863 \r\nL 1875 4863 \r\nL 1875 4416 \r\nL 1125 4416 \r\nL 1125 -397 \r\nL 1875 -397 \r\nL 1875 -844 \r\nL 550 -844 \r\nL 550 4863 \r\nz\r\n\" id=\"DejaVuSans-5b\" transform=\"scale(0.015625)\"/>\r\n       <path d=\"M 213 4666 \r\nL 850 4666 \r\nL 1831 722 \r\nL 2809 4666 \r\nL 3519 4666 \r\nL 4500 722 \r\nL 5478 4666 \r\nL 6119 4666 \r\nL 4947 0 \r\nL 4153 0 \r\nL 3169 4050 \r\nL 2175 0 \r\nL 1381 0 \r\nL 213 4666 \r\nz\r\n\" id=\"DejaVuSans-57\" transform=\"scale(0.015625)\"/>\r\n       <path d=\"M 1947 4863 \r\nL 1947 -844 \r\nL 622 -844 \r\nL 622 -397 \r\nL 1369 -397 \r\nL 1369 4416 \r\nL 622 4416 \r\nL 622 4863 \r\nL 1947 4863 \r\nz\r\n\" id=\"DejaVuSans-5d\" transform=\"scale(0.015625)\"/>\r\n      </defs>\r\n      <use xlink:href=\"#DejaVuSans-4d\"/>\r\n      <use x=\"86.279297\" xlink:href=\"#DejaVuSans-69\"/>\r\n      <use x=\"114.0625\" xlink:href=\"#DejaVuSans-73\"/>\r\n      <use x=\"166.162109\" xlink:href=\"#DejaVuSans-6d\"/>\r\n      <use x=\"263.574219\" xlink:href=\"#DejaVuSans-61\"/>\r\n      <use x=\"324.853516\" xlink:href=\"#DejaVuSans-74\"/>\r\n      <use x=\"364.0625\" xlink:href=\"#DejaVuSans-63\"/>\r\n      <use x=\"419.042969\" xlink:href=\"#DejaVuSans-68\"/>\r\n      <use x=\"482.421875\" xlink:href=\"#DejaVuSans-20\"/>\r\n      <use x=\"514.208984\" xlink:href=\"#DejaVuSans-5b\"/>\r\n      <use x=\"553.222656\" xlink:href=\"#DejaVuSans-54\"/>\r\n      <use x=\"614.306641\" xlink:href=\"#DejaVuSans-57\"/>\r\n      <use x=\"713.183594\" xlink:href=\"#DejaVuSans-68\"/>\r\n      <use x=\"776.5625\" xlink:href=\"#DejaVuSans-5d\"/>\r\n     </g>\r\n    </g>\r\n   </g>\r\n   <g id=\"patch_30\">\r\n    <path d=\"M 40.603125 565.918125 \r\nL 40.603125 22.318125 \r\n\" style=\"fill:none;stroke:#000000;stroke-linecap:square;stroke-linejoin:miter;stroke-width:0.8;\"/>\r\n   </g>\r\n   <g id=\"patch_31\">\r\n    <path d=\"M 1156.603125 565.918125 \r\nL 1156.603125 22.318125 \r\n\" style=\"fill:none;stroke:#000000;stroke-linecap:square;stroke-linejoin:miter;stroke-width:0.8;\"/>\r\n   </g>\r\n   <g id=\"patch_32\">\r\n    <path d=\"M 40.603125 565.918125 \r\nL 1156.603125 565.918125 \r\n\" style=\"fill:none;stroke:#000000;stroke-linecap:square;stroke-linejoin:miter;stroke-width:0.8;\"/>\r\n   </g>\r\n   <g id=\"patch_33\">\r\n    <path d=\"M 40.603125 22.318125 \r\nL 1156.603125 22.318125 \r\n\" style=\"fill:none;stroke:#000000;stroke-linecap:square;stroke-linejoin:miter;stroke-width:0.8;\"/>\r\n   </g>\r\n   <g id=\"text_39\">\r\n    <!-- Mismatch analysis based on (generation + imports - load - exports) in raw ENTSO-E data -->\r\n    <g transform=\"translate(331.457812 16.318125)scale(0.12 -0.12)\">\r\n     <defs>\r\n      <path d=\"M 603 4863 \r\nL 1178 4863 \r\nL 1178 0 \r\nL 603 0 \r\nL 603 4863 \r\nz\r\n\" id=\"DejaVuSans-6c\" transform=\"scale(0.015625)\"/>\r\n      <path d=\"M 2059 -325 \r\nQ 1816 -950 1584 -1140 \r\nQ 1353 -1331 966 -1331 \r\nL 506 -1331 \r\nL 506 -850 \r\nL 844 -850 \r\nQ 1081 -850 1212 -737 \r\nQ 1344 -625 1503 -206 \r\nL 1606 56 \r\nL 191 3500 \r\nL 800 3500 \r\nL 1894 763 \r\nL 2988 3500 \r\nL 3597 3500 \r\nL 2059 -325 \r\nz\r\n\" id=\"DejaVuSans-79\" transform=\"scale(0.015625)\"/>\r\n      <path d=\"M 3116 1747 \r\nQ 3116 2381 2855 2742 \r\nQ 2594 3103 2138 3103 \r\nQ 1681 3103 1420 2742 \r\nQ 1159 2381 1159 1747 \r\nQ 1159 1113 1420 752 \r\nQ 1681 391 2138 391 \r\nQ 2594 391 2855 752 \r\nQ 3116 1113 3116 1747 \r\nz\r\nM 1159 2969 \r\nQ 1341 3281 1617 3432 \r\nQ 1894 3584 2278 3584 \r\nQ 2916 3584 3314 3078 \r\nQ 3713 2572 3713 1747 \r\nQ 3713 922 3314 415 \r\nQ 2916 -91 2278 -91 \r\nQ 1894 -91 1617 61 \r\nQ 1341 213 1159 525 \r\nL 1159 0 \r\nL 581 0 \r\nL 581 4863 \r\nL 1159 4863 \r\nL 1159 2969 \r\nz\r\n\" id=\"DejaVuSans-62\" transform=\"scale(0.015625)\"/>\r\n      <path d=\"M 2906 2969 \r\nL 2906 4863 \r\nL 3481 4863 \r\nL 3481 0 \r\nL 2906 0 \r\nL 2906 525 \r\nQ 2725 213 2448 61 \r\nQ 2172 -91 1784 -91 \r\nQ 1150 -91 751 415 \r\nQ 353 922 353 1747 \r\nQ 353 2572 751 3078 \r\nQ 1150 3584 1784 3584 \r\nQ 2172 3584 2448 3432 \r\nQ 2725 3281 2906 2969 \r\nz\r\nM 947 1747 \r\nQ 947 1113 1208 752 \r\nQ 1469 391 1925 391 \r\nQ 2381 391 2643 752 \r\nQ 2906 1113 2906 1747 \r\nQ 2906 2381 2643 2742 \r\nQ 2381 3103 1925 3103 \r\nQ 1469 3103 1208 2742 \r\nQ 947 2381 947 1747 \r\nz\r\n\" id=\"DejaVuSans-64\" transform=\"scale(0.015625)\"/>\r\n      <path d=\"M 1984 4856 \r\nQ 1566 4138 1362 3434 \r\nQ 1159 2731 1159 2009 \r\nQ 1159 1288 1364 580 \r\nQ 1569 -128 1984 -844 \r\nL 1484 -844 \r\nQ 1016 -109 783 600 \r\nQ 550 1309 550 2009 \r\nQ 550 2706 781 3412 \r\nQ 1013 4119 1484 4856 \r\nL 1984 4856 \r\nz\r\n\" id=\"DejaVuSans-28\" transform=\"scale(0.015625)\"/>\r\n      <path d=\"M 2906 1791 \r\nQ 2906 2416 2648 2759 \r\nQ 2391 3103 1925 3103 \r\nQ 1463 3103 1205 2759 \r\nQ 947 2416 947 1791 \r\nQ 947 1169 1205 825 \r\nQ 1463 481 1925 481 \r\nQ 2391 481 2648 825 \r\nQ 2906 1169 2906 1791 \r\nz\r\nM 3481 434 \r\nQ 3481 -459 3084 -895 \r\nQ 2688 -1331 1869 -1331 \r\nQ 1566 -1331 1297 -1286 \r\nQ 1028 -1241 775 -1147 \r\nL 775 -588 \r\nQ 1028 -725 1275 -790 \r\nQ 1522 -856 1778 -856 \r\nQ 2344 -856 2625 -561 \r\nQ 2906 -266 2906 331 \r\nL 2906 616 \r\nQ 2728 306 2450 153 \r\nQ 2172 0 1784 0 \r\nQ 1141 0 747 490 \r\nQ 353 981 353 1791 \r\nQ 353 2603 747 3093 \r\nQ 1141 3584 1784 3584 \r\nQ 2172 3584 2450 3431 \r\nQ 2728 3278 2906 2969 \r\nL 2906 3500 \r\nL 3481 3500 \r\nL 3481 434 \r\nz\r\n\" id=\"DejaVuSans-67\" transform=\"scale(0.015625)\"/>\r\n      <path d=\"M 2944 4013 \r\nL 2944 2272 \r\nL 4684 2272 \r\nL 4684 1741 \r\nL 2944 1741 \r\nL 2944 0 \r\nL 2419 0 \r\nL 2419 1741 \r\nL 678 1741 \r\nL 678 2272 \r\nL 2419 2272 \r\nL 2419 4013 \r\nL 2944 4013 \r\nz\r\n\" id=\"DejaVuSans-2b\" transform=\"scale(0.015625)\"/>\r\n      <path d=\"M 1159 525 \r\nL 1159 -1331 \r\nL 581 -1331 \r\nL 581 3500 \r\nL 1159 3500 \r\nL 1159 2969 \r\nQ 1341 3281 1617 3432 \r\nQ 1894 3584 2278 3584 \r\nQ 2916 3584 3314 3078 \r\nQ 3713 2572 3713 1747 \r\nQ 3713 922 3314 415 \r\nQ 2916 -91 2278 -91 \r\nQ 1894 -91 1617 61 \r\nQ 1341 213 1159 525 \r\nz\r\nM 3116 1747 \r\nQ 3116 2381 2855 2742 \r\nQ 2594 3103 2138 3103 \r\nQ 1681 3103 1420 2742 \r\nQ 1159 2381 1159 1747 \r\nQ 1159 1113 1420 752 \r\nQ 1681 391 2138 391 \r\nQ 2594 391 2855 752 \r\nQ 3116 1113 3116 1747 \r\nz\r\n\" id=\"DejaVuSans-70\" transform=\"scale(0.015625)\"/>\r\n      <path d=\"M 313 2009 \r\nL 1997 2009 \r\nL 1997 1497 \r\nL 313 1497 \r\nL 313 2009 \r\nz\r\n\" id=\"DejaVuSans-2d\" transform=\"scale(0.015625)\"/>\r\n      <path d=\"M 3513 3500 \r\nL 2247 1797 \r\nL 3578 0 \r\nL 2900 0 \r\nL 1881 1375 \r\nL 863 0 \r\nL 184 0 \r\nL 1544 1831 \r\nL 300 3500 \r\nL 978 3500 \r\nL 1906 2253 \r\nL 2834 3500 \r\nL 3513 3500 \r\nz\r\n\" id=\"DejaVuSans-78\" transform=\"scale(0.015625)\"/>\r\n      <path d=\"M 513 4856 \r\nL 1013 4856 \r\nQ 1481 4119 1714 3412 \r\nQ 1947 2706 1947 2009 \r\nQ 1947 1309 1714 600 \r\nQ 1481 -109 1013 -844 \r\nL 513 -844 \r\nQ 928 -128 1133 580 \r\nQ 1338 1288 1338 2009 \r\nQ 1338 2731 1133 3434 \r\nQ 928 4138 513 4856 \r\nz\r\n\" id=\"DejaVuSans-29\" transform=\"scale(0.015625)\"/>\r\n      <path d=\"M 269 3500 \r\nL 844 3500 \r\nL 1563 769 \r\nL 2278 3500 \r\nL 2956 3500 \r\nL 3675 769 \r\nL 4391 3500 \r\nL 4966 3500 \r\nL 4050 0 \r\nL 3372 0 \r\nL 2619 2869 \r\nL 1863 0 \r\nL 1184 0 \r\nL 269 3500 \r\nz\r\n\" id=\"DejaVuSans-77\" transform=\"scale(0.015625)\"/>\r\n     </defs>\r\n     <use xlink:href=\"#DejaVuSans-4d\"/>\r\n     <use x=\"86.279297\" xlink:href=\"#DejaVuSans-69\"/>\r\n     <use x=\"114.0625\" xlink:href=\"#DejaVuSans-73\"/>\r\n     <use x=\"166.162109\" xlink:href=\"#DejaVuSans-6d\"/>\r\n     <use x=\"263.574219\" xlink:href=\"#DejaVuSans-61\"/>\r\n     <use x=\"324.853516\" xlink:href=\"#DejaVuSans-74\"/>\r\n     <use x=\"364.0625\" xlink:href=\"#DejaVuSans-63\"/>\r\n     <use x=\"419.042969\" xlink:href=\"#DejaVuSans-68\"/>\r\n     <use x=\"482.421875\" xlink:href=\"#DejaVuSans-20\"/>\r\n     <use x=\"514.208984\" xlink:href=\"#DejaVuSans-61\"/>\r\n     <use x=\"575.488281\" xlink:href=\"#DejaVuSans-6e\"/>\r\n     <use x=\"638.867188\" xlink:href=\"#DejaVuSans-61\"/>\r\n     <use x=\"700.146484\" xlink:href=\"#DejaVuSans-6c\"/>\r\n     <use x=\"727.929688\" xlink:href=\"#DejaVuSans-79\"/>\r\n     <use x=\"787.109375\" xlink:href=\"#DejaVuSans-73\"/>\r\n     <use x=\"839.208984\" xlink:href=\"#DejaVuSans-69\"/>\r\n     <use x=\"866.992188\" xlink:href=\"#DejaVuSans-73\"/>\r\n     <use x=\"919.091797\" xlink:href=\"#DejaVuSans-20\"/>\r\n     <use x=\"950.878906\" xlink:href=\"#DejaVuSans-62\"/>\r\n     <use x=\"1014.355469\" xlink:href=\"#DejaVuSans-61\"/>\r\n     <use x=\"1075.634766\" xlink:href=\"#DejaVuSans-73\"/>\r\n     <use x=\"1127.734375\" xlink:href=\"#DejaVuSans-65\"/>\r\n     <use x=\"1189.257812\" xlink:href=\"#DejaVuSans-64\"/>\r\n     <use x=\"1252.734375\" xlink:href=\"#DejaVuSans-20\"/>\r\n     <use x=\"1284.521484\" xlink:href=\"#DejaVuSans-6f\"/>\r\n     <use x=\"1345.703125\" xlink:href=\"#DejaVuSans-6e\"/>\r\n     <use x=\"1409.082031\" xlink:href=\"#DejaVuSans-20\"/>\r\n     <use x=\"1440.869141\" xlink:href=\"#DejaVuSans-28\"/>\r\n     <use x=\"1479.882812\" xlink:href=\"#DejaVuSans-67\"/>\r\n     <use x=\"1543.359375\" xlink:href=\"#DejaVuSans-65\"/>\r\n     <use x=\"1604.882812\" xlink:href=\"#DejaVuSans-6e\"/>\r\n     <use x=\"1668.261719\" xlink:href=\"#DejaVuSans-65\"/>\r\n     <use x=\"1729.785156\" xlink:href=\"#DejaVuSans-72\"/>\r\n     <use x=\"1770.898438\" xlink:href=\"#DejaVuSans-61\"/>\r\n     <use x=\"1832.177734\" xlink:href=\"#DejaVuSans-74\"/>\r\n     <use x=\"1871.386719\" xlink:href=\"#DejaVuSans-69\"/>\r\n     <use x=\"1899.169922\" xlink:href=\"#DejaVuSans-6f\"/>\r\n     <use x=\"1960.351562\" xlink:href=\"#DejaVuSans-6e\"/>\r\n     <use x=\"2023.730469\" xlink:href=\"#DejaVuSans-20\"/>\r\n     <use x=\"2055.517578\" xlink:href=\"#DejaVuSans-2b\"/>\r\n     <use x=\"2139.306641\" xlink:href=\"#DejaVuSans-20\"/>\r\n     <use x=\"2171.09375\" xlink:href=\"#DejaVuSans-69\"/>\r\n     <use x=\"2198.876953\" xlink:href=\"#DejaVuSans-6d\"/>\r\n     <use x=\"2296.289062\" xlink:href=\"#DejaVuSans-70\"/>\r\n     <use x=\"2359.765625\" xlink:href=\"#DejaVuSans-6f\"/>\r\n     <use x=\"2420.947266\" xlink:href=\"#DejaVuSans-72\"/>\r\n     <use x=\"2462.060547\" xlink:href=\"#DejaVuSans-74\"/>\r\n     <use x=\"2501.269531\" xlink:href=\"#DejaVuSans-73\"/>\r\n     <use x=\"2553.369141\" xlink:href=\"#DejaVuSans-20\"/>\r\n     <use x=\"2585.15625\" xlink:href=\"#DejaVuSans-2d\"/>\r\n     <use x=\"2621.240234\" xlink:href=\"#DejaVuSans-20\"/>\r\n     <use x=\"2653.027344\" xlink:href=\"#DejaVuSans-6c\"/>\r\n     <use x=\"2680.810547\" xlink:href=\"#DejaVuSans-6f\"/>\r\n     <use x=\"2741.992188\" xlink:href=\"#DejaVuSans-61\"/>\r\n     <use x=\"2803.271484\" xlink:href=\"#DejaVuSans-64\"/>\r\n     <use x=\"2866.748047\" xlink:href=\"#DejaVuSans-20\"/>\r\n     <use x=\"2898.535156\" xlink:href=\"#DejaVuSans-2d\"/>\r\n     <use x=\"2934.619141\" xlink:href=\"#DejaVuSans-20\"/>\r\n     <use x=\"2966.40625\" xlink:href=\"#DejaVuSans-65\"/>\r\n     <use x=\"3026.179688\" xlink:href=\"#DejaVuSans-78\"/>\r\n     <use x=\"3085.359375\" xlink:href=\"#DejaVuSans-70\"/>\r\n     <use x=\"3148.835938\" xlink:href=\"#DejaVuSans-6f\"/>\r\n     <use x=\"3210.017578\" xlink:href=\"#DejaVuSans-72\"/>\r\n     <use x=\"3251.130859\" xlink:href=\"#DejaVuSans-74\"/>\r\n     <use x=\"3290.339844\" xlink:href=\"#DejaVuSans-73\"/>\r\n     <use x=\"3342.439453\" xlink:href=\"#DejaVuSans-29\"/>\r\n     <use x=\"3381.453125\" xlink:href=\"#DejaVuSans-20\"/>\r\n     <use x=\"3413.240234\" xlink:href=\"#DejaVuSans-69\"/>\r\n     <use x=\"3441.023438\" xlink:href=\"#DejaVuSans-6e\"/>\r\n     <use x=\"3504.402344\" xlink:href=\"#DejaVuSans-20\"/>\r\n     <use x=\"3536.189453\" xlink:href=\"#DejaVuSans-72\"/>\r\n     <use x=\"3577.302734\" xlink:href=\"#DejaVuSans-61\"/>\r\n     <use x=\"3638.582031\" xlink:href=\"#DejaVuSans-77\"/>\r\n     <use x=\"3720.369141\" xlink:href=\"#DejaVuSans-20\"/>\r\n     <use x=\"3752.15625\" xlink:href=\"#DejaVuSans-45\"/>\r\n     <use x=\"3815.339844\" xlink:href=\"#DejaVuSans-4e\"/>\r\n     <use x=\"3890.144531\" xlink:href=\"#DejaVuSans-54\"/>\r\n     <use x=\"3951.228516\" xlink:href=\"#DejaVuSans-53\"/>\r\n     <use x=\"4014.705078\" xlink:href=\"#DejaVuSans-4f\"/>\r\n     <use x=\"4096.166016\" xlink:href=\"#DejaVuSans-2d\"/>\r\n     <use x=\"4132.25\" xlink:href=\"#DejaVuSans-45\"/>\r\n     <use x=\"4195.433594\" xlink:href=\"#DejaVuSans-20\"/>\r\n     <use x=\"4227.220703\" xlink:href=\"#DejaVuSans-64\"/>\r\n     <use x=\"4290.697266\" xlink:href=\"#DejaVuSans-61\"/>\r\n     <use x=\"4351.976562\" xlink:href=\"#DejaVuSans-74\"/>\r\n     <use x=\"4391.185547\" xlink:href=\"#DejaVuSans-61\"/>\r\n    </g>\r\n   </g>\r\n  </g>\r\n </g>\r\n <defs>\r\n  <clipPath id=\"p6b34a7e4ef\">\r\n   <rect height=\"543.6\" width=\"1116\" x=\"40.603125\" y=\"22.318125\"/>\r\n  </clipPath>\r\n </defs>\r\n</svg>\r\n",
      "image/png": "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"
>>>>>>> ac7687d690a410fc6bb9065c8fe5e295d4acb087
     },
     "metadata": {
      "needs_background": "light"
     }
    }
   ],
   "metadata": {}
  },
  {
   "cell_type": "markdown",
   "source": [
<<<<<<< HEAD
    "## 1.2 Identifying inconsistencies in ENTSO-E Generation data"
   ],
   "metadata": {}
  },
  {
   "cell_type": "code",
   "execution_count": 4,
   "source": [
    "inconsistency_in_generation = ii.inconcistencies_generation_data()\r\n"
   ],
   "outputs": [
    {
     "output_type": "stream",
     "name": "stdout",
     "text": [
      "Austria Hydro Water Reservoir 2018345.0 4650928.5\n",
      "Austria Hydro Run-of-river and poundage 11300264.0 25363701.25\n",
      "Austria Fossil Gas 7458582.0 8166846.0\n",
      "Austria Hydro Pumped Storage 3009729.0 4696467.0\n",
      "Austria Fossil Hard coal 1439190.0 1422419.5\n",
      "Belgium Biomass 1493407.0 2619943.0\n",
      "Belgium Hydro Pumped Storage 1014065.0 999764.0\n",
      "Belgium Wind Offshore 3295644.0 3321049.0\n",
      "Belgium Nuclear 27255049.0 27251673.0\n",
      "Belgium Fossil Gas 17182561.0 22303256.0\n",
      "Czech Republic Fossil Gas 1729169.0 3357028.0\n",
      "Czech Republic Hydro Pumped Storage 987174.0 1041674.0\n",
      "Czech Republic Nuclear 28187334.0 28228525.0\n",
      "Czech Republic Fossil Brown coal/Lignite 21882971.0 33727959.0\n",
      "Czech Republic Fossil Hard coal 1243995.0 3487625.0\n",
      "Estonia Fossil Oil shale 9591722 8219587.0\n",
      "Finland Biomass 1627780 6405436.0\n",
      "Finland Fossil Oil 4814 17314.0\n",
      "Finland Fossil Gas 2081816 4999951.0\n",
      "Finland Nuclear 21888634 21884428.0\n",
      "Finland Fossil Peat 2618173 4275378.0\n",
      "Finland Other 755746 1403978.0\n",
      "Finland Fossil Hard coal 5093275 5971031.0\n",
      "France Hydro Water Reservoir 3606375.0 17672839.0\n",
      "France Hydro Run-of-river and poundage 451937.0 42834820.0\n",
      "France Biomass 329476.0 3488459.0\n",
      "France Fossil Oil 258955.0 1898524.0\n",
      "France Hydro Pumped Storage 5947558.0 5416326.0\n",
      "France Fossil Hard coal 5652327.0 5799738.0\n",
      "France Nuclear 392564405.0 391634703.0\n"
     ]
    },
    {
     "output_type": "error",
     "ename": "TypeError",
     "evalue": "unsupported operand type(s) for /: 'str' and 'int'",
     "traceback": [
      "\u001b[1;31m---------------------------------------------------------------------------\u001b[0m",
      "\u001b[1;31mTypeError\u001b[0m                                 Traceback (most recent call last)",
      "\u001b[1;32m~\\AppData\\Local\\Temp/ipykernel_5268/2850958740.py\u001b[0m in \u001b[0;36m<module>\u001b[1;34m\u001b[0m\n\u001b[1;32m----> 1\u001b[1;33m \u001b[0minconsistency_in_generation\u001b[0m \u001b[1;33m=\u001b[0m \u001b[0mii\u001b[0m\u001b[1;33m.\u001b[0m\u001b[0minconcistencies_generation_data\u001b[0m\u001b[1;33m(\u001b[0m\u001b[1;33m)\u001b[0m\u001b[1;33m\u001b[0m\u001b[1;33m\u001b[0m\u001b[0m\n\u001b[0m",
      "\u001b[1;32mc:\\Users\\lovin\\Google Drive\\Master Thesis\\Python Code\\Scripts\\internal_inconsistencies.ipynb\u001b[0m in \u001b[0;36minconcistencies_generation_data\u001b[1;34m()\u001b[0m\n",
      "\u001b[1;31mTypeError\u001b[0m: unsupported operand type(s) for /: 'str' and 'int'"
     ]
    }
   ],
   "metadata": {}
  },
  {
   "cell_type": "markdown",
   "source": [
=======
>>>>>>> ac7687d690a410fc6bb9065c8fe5e295d4acb087
    "# 2. ENTSO-E data representation"
   ],
   "metadata": {}
  },
  {
   "cell_type": "markdown",
   "source": [
<<<<<<< HEAD
    "## 2.1 Fill the missing observations and get all the hourly load data of each country to a single dataframe"
=======
    "## 2.1 Get all the hourly load data of each country to a single dataframe"
>>>>>>> ac7687d690a410fc6bb9065c8fe5e295d4acb087
   ],
   "metadata": {}
  },
  {
   "cell_type": "code",
<<<<<<< HEAD
   "execution_count": 5,
=======
   "execution_count": 3,
>>>>>>> ac7687d690a410fc6bb9065c8fe5e295d4acb087
   "source": [
    "load_dic=dp.load(countries)\r\n",
    "# display(load_data)"
   ],
   "outputs": [
    {
     "output_type": "display_data",
     "data": {
      "text/plain": [
       "'Austria - load: 0 missing data filled'"
      ]
     },
     "metadata": {}
    },
    {
     "output_type": "display_data",
     "data": {
      "text/plain": [
       "'Belgium - load: 0 missing data filled'"
      ]
     },
     "metadata": {}
    },
    {
     "output_type": "display_data",
     "data": {
      "text/plain": [
       "'Bulgaria - load: 25 missing data filled'"
      ]
     },
     "metadata": {}
    },
    {
     "output_type": "display_data",
     "data": {
      "text/plain": [
       "'Switzerland - load: 0 missing data filled'"
      ]
     },
     "metadata": {}
    },
    {
     "output_type": "display_data",
     "data": {
      "text/plain": [
       "'Czech Republic - load: 7 missing data filled'"
      ]
     },
     "metadata": {}
    },
    {
     "output_type": "display_data",
     "data": {
      "text/plain": [
       "'Germany - load: 0 missing data filled'"
      ]
     },
     "metadata": {}
    },
    {
     "output_type": "display_data",
     "data": {
      "text/plain": [
       "'Denmark - load: 0 missing data filled'"
      ]
     },
     "metadata": {}
    },
    {
     "output_type": "display_data",
     "data": {
      "text/plain": [
       "'Estonia - load: 144 missing data filled'"
      ]
     },
     "metadata": {}
    },
    {
     "output_type": "display_data",
     "data": {
      "text/plain": [
       "'Spain - load: 2 missing data filled'"
      ]
     },
     "metadata": {}
    },
    {
     "output_type": "display_data",
     "data": {
      "text/plain": [
       "'Finland - load: 3 missing data filled'"
      ]
     },
     "metadata": {}
    },
    {
     "output_type": "display_data",
     "data": {
      "text/plain": [
       "'France - load: 18 missing data filled'"
      ]
     },
     "metadata": {}
    },
    {
     "output_type": "display_data",
     "data": {
      "text/plain": [
       "'Greece - load: 2 missing data filled'"
      ]
     },
     "metadata": {}
    },
    {
     "output_type": "display_data",
     "data": {
      "text/plain": [
       "'Hungary - load: 0 missing data filled'"
      ]
     },
     "metadata": {}
    },
    {
     "output_type": "display_data",
     "data": {
      "text/plain": [
       "'Ireland - load: 18 missing data filled'"
      ]
     },
     "metadata": {}
    },
    {
     "output_type": "display_data",
     "data": {
      "text/plain": [
       "'Italy - load: 0 missing data filled'"
      ]
     },
     "metadata": {}
    },
    {
     "output_type": "display_data",
     "data": {
      "text/plain": [
       "'Lithuania - load: 67 missing data filled'"
      ]
     },
     "metadata": {}
    },
    {
     "output_type": "display_data",
     "data": {
      "text/plain": [
       "'Latvia - load: 6 missing data filled'"
      ]
     },
     "metadata": {}
    },
    {
     "output_type": "display_data",
     "data": {
      "text/plain": [
       "'Montenegro - load: 0 missing data filled'"
      ]
     },
     "metadata": {}
    },
    {
     "output_type": "display_data",
     "data": {
      "text/plain": [
       "'Netherlands - load: 0 missing data filled'"
      ]
     },
     "metadata": {}
    },
    {
     "output_type": "display_data",
     "data": {
      "text/plain": [
       "'Norway - load: 0 missing data filled'"
      ]
     },
     "metadata": {}
    },
    {
     "output_type": "display_data",
     "data": {
      "text/plain": [
       "'Poland - load: 1 missing data filled'"
      ]
     },
     "metadata": {}
    },
    {
     "output_type": "display_data",
     "data": {
      "text/plain": [
       "'Portugal - load: 0 missing data filled'"
      ]
     },
     "metadata": {}
    },
    {
     "output_type": "display_data",
     "data": {
      "text/plain": [
       "'Serbia - load: 1 missing data filled'"
      ]
     },
     "metadata": {}
    },
    {
     "output_type": "display_data",
     "data": {
      "text/plain": [
       "'Sweden - load: 0 missing data filled'"
      ]
     },
     "metadata": {}
    },
    {
     "output_type": "display_data",
     "data": {
      "text/plain": [
       "'Slovenia - load: 0 missing data filled'"
      ]
     },
     "metadata": {}
    },
    {
     "output_type": "display_data",
     "data": {
      "text/plain": [
       "'Slovakia - load: 0 missing data filled'"
      ]
     },
     "metadata": {}
    },
    {
     "output_type": "display_data",
     "data": {
      "text/plain": [
       "'United Kingdom - load: 8 missing data filled'"
      ]
     },
     "metadata": {}
    }
   ],
   "metadata": {}
  },
  {
   "cell_type": "markdown",
   "source": [
<<<<<<< HEAD
    "## 2.2 Fill the missing observations and get all the hourly generation data of each country from each source to a single dataframe"
=======
    "## 2.2 Get all the hourly generation data of each country from each source to a single dataframe"
>>>>>>> ac7687d690a410fc6bb9065c8fe5e295d4acb087
   ],
   "metadata": {}
  },
  {
   "cell_type": "code",
<<<<<<< HEAD
   "execution_count": 3,
=======
   "execution_count": 4,
>>>>>>> ac7687d690a410fc6bb9065c8fe5e295d4acb087
   "source": [
    "generation_dic=dp.generation(countries)\r\n",
    "# display(generation_data)"
   ],
   "outputs": [
    {
     "output_type": "display_data",
     "data": {
      "text/plain": [
       "'Austria - Generation: 0 missing data filled'"
      ]
     },
     "metadata": {}
    },
    {
     "output_type": "display_data",
     "data": {
      "text/plain": [
       "'Belgium - Generation: 4993 missing data filled'"
      ]
     },
     "metadata": {}
    },
    {
     "output_type": "display_data",
     "data": {
      "text/plain": [
       "'Bulgaria - Generation: 0 missing data filled'"
      ]
     },
     "metadata": {}
    },
    {
     "output_type": "display_data",
     "data": {
      "text/plain": [
       "'Switzerland - Generation: 0 missing data filled'"
      ]
     },
     "metadata": {}
    },
    {
     "output_type": "display_data",
     "data": {
      "text/plain": [
       "'Czech Republic - Generation: 41 missing data filled'"
      ]
     },
     "metadata": {}
    },
    {
     "output_type": "display_data",
     "data": {
      "text/plain": [
       "'Germany - Generation: 34848 missing data filled'"
      ]
     },
     "metadata": {}
    },
    {
     "output_type": "display_data",
     "data": {
      "text/plain": [
       "'Denmark - Generation: 0 missing data filled'"
      ]
     },
     "metadata": {}
    },
    {
     "output_type": "display_data",
     "data": {
      "text/plain": [
       "'Estonia - Generation: 2266 missing data filled'"
      ]
     },
     "metadata": {}
    },
    {
     "output_type": "display_data",
     "data": {
      "text/plain": [
       "'Spain - Generation: 8779 missing data filled'"
      ]
     },
     "metadata": {}
    },
    {
     "output_type": "display_data",
     "data": {
      "text/plain": [
       "'Finland - Generation: 28 missing data filled'"
      ]
     },
     "metadata": {}
    },
    {
     "output_type": "display_data",
     "data": {
      "text/plain": [
       "'France - Generation: 4724 missing data filled'"
      ]
     },
     "metadata": {}
    },
    {
     "output_type": "display_data",
     "data": {
      "text/plain": [
       "'Greece - Generation: 8773 missing data filled'"
      ]
     },
     "metadata": {}
    },
    {
     "output_type": "display_data",
     "data": {
      "text/plain": [
       "'Hungary - Generation: 12123 missing data filled'"
      ]
     },
     "metadata": {}
    },
    {
     "output_type": "display_data",
     "data": {
      "text/plain": [
       "'Ireland - Generation: 374 missing data filled'"
      ]
     },
     "metadata": {}
    },
    {
     "output_type": "display_data",
     "data": {
      "text/plain": [
       "'Italy - Generation: 286 missing data filled'"
      ]
     },
     "metadata": {}
    },
    {
     "output_type": "display_data",
     "data": {
      "text/plain": [
       "'Lithuania - Generation: 264 missing data filled'"
      ]
     },
     "metadata": {}
    },
    {
     "output_type": "display_data",
     "data": {
      "text/plain": [
       "'Latvia - Generation: 50 missing data filled'"
      ]
     },
     "metadata": {}
    },
    {
     "output_type": "display_data",
     "data": {
      "text/plain": [
       "'Montenegro - Generation: 7246 missing data filled'"
      ]
     },
     "metadata": {}
    },
    {
     "output_type": "display_data",
     "data": {
      "text/plain": [
       "'Netherlands - Generation: 8635 missing data filled'"
      ]
     },
     "metadata": {}
    },
    {
     "output_type": "display_data",
     "data": {
      "text/plain": [
       "'Norway - Generation: 9 missing data filled'"
      ]
     },
     "metadata": {}
    },
    {
     "output_type": "display_data",
     "data": {
      "text/plain": [
       "'Poland - Generation: 0 missing data filled'"
      ]
     },
     "metadata": {}
    },
    {
     "output_type": "display_data",
     "data": {
      "text/plain": [
       "'Portugal - Generation: 0 missing data filled'"
      ]
     },
     "metadata": {}
    },
    {
     "output_type": "display_data",
     "data": {
      "text/plain": [
       "'Serbia - Generation: 183 missing data filled'"
      ]
     },
     "metadata": {}
    },
    {
     "output_type": "display_data",
     "data": {
      "text/plain": [
       "'Sweden - Generation: 1 missing data filled'"
      ]
     },
     "metadata": {}
    },
    {
     "output_type": "display_data",
     "data": {
      "text/plain": [
       "'Slovenia - Generation: 10 missing data filled'"
      ]
     },
     "metadata": {}
<<<<<<< HEAD
=======
    },
    {
     "output_type": "display_data",
     "data": {
      "text/plain": [
       "'Slovakia - Generation: 5259 missing data filled'"
      ]
     },
     "metadata": {}
    },
    {
     "output_type": "display_data",
     "data": {
      "text/plain": [
       "'United Kingdom - Generation: 509 missing data filled'"
      ]
     },
     "metadata": {}
>>>>>>> ac7687d690a410fc6bb9065c8fe5e295d4acb087
    }
   ],
   "metadata": {}
  },
  {
   "cell_type": "markdown",
   "source": [
<<<<<<< HEAD
    "## 2.3 Fill the missing observations and get all the hourly cross-border transmission data of each country to a single dataframe"
=======
    "## 2.3 Get all the hourly cross-border transmission data of each country to a single dataframe"
>>>>>>> ac7687d690a410fc6bb9065c8fe5e295d4acb087
   ],
   "metadata": {}
  },
  {
   "cell_type": "code",
   "execution_count": 5,
   "source": [
    "transmission_data = dp.cross_border()\r\n",
    "# display(transmission_data)\r\n",
    "# 'cross_border_data' shows the net import/net export of the whole country in hourly timesteps\r\n",
    "# display(crossborder_data)\r\n"
   ],
   "outputs": [
    {
     "output_type": "display_data",
     "data": {
      "text/plain": [
       "'AT - > CH - transmission: 0 missing data filled'"
      ]
     },
     "metadata": {}
    },
    {
     "output_type": "display_data",
     "data": {
      "text/plain": [
       "'AT - > CZ - transmission: 0 missing data filled'"
      ]
     },
     "metadata": {}
    },
    {
     "output_type": "display_data",
     "data": {
      "text/plain": [
       "'AT - > DE - transmission: 0 missing data filled'"
      ]
     },
     "metadata": {}
    },
    {
     "output_type": "display_data",
     "data": {
      "text/plain": [
       "'AT - > HU - transmission: 0 missing data filled'"
      ]
     },
     "metadata": {}
    },
    {
     "output_type": "display_data",
     "data": {
      "text/plain": [
       "'AT - > IT - transmission: 0 missing data filled'"
      ]
     },
     "metadata": {}
    },
    {
     "output_type": "display_data",
     "data": {
      "text/plain": [
       "'AT - > SI - transmission: 0 missing data filled'"
      ]
     },
     "metadata": {}
    },
    {
     "output_type": "display_data",
     "data": {
      "text/plain": [
       "'BE - > FR - transmission: 0 missing data filled'"
      ]
     },
     "metadata": {}
    },
    {
     "output_type": "display_data",
     "data": {
      "text/plain": [
       "'BE - > LU - transmission: 0 missing data filled'"
      ]
     },
     "metadata": {}
    },
    {
     "output_type": "display_data",
     "data": {
      "text/plain": [
       "'BE - > NL - transmission: 0 missing data filled'"
      ]
     },
     "metadata": {}
    },
    {
     "output_type": "display_data",
     "data": {
      "text/plain": [
       "'BG - > GR - transmission: 0 missing data filled'"
      ]
     },
     "metadata": {}
    },
    {
     "output_type": "display_data",
     "data": {
      "text/plain": [
       "'BG - > MK - transmission: 864 missing data filled'"
      ]
     },
     "metadata": {}
    },
    {
     "output_type": "display_data",
     "data": {
      "text/plain": [
       "'BG - > RO - transmission: 4 missing data filled'"
      ]
     },
     "metadata": {}
    },
    {
     "output_type": "display_data",
     "data": {
      "text/plain": [
       "'BG - > RS - transmission: 0 missing data filled'"
      ]
     },
     "metadata": {}
    },
    {
     "output_type": "display_data",
     "data": {
      "text/plain": [
       "'BG - > TR - transmission: 864 missing data filled'"
      ]
     },
     "metadata": {}
    },
    {
     "output_type": "display_data",
     "data": {
      "text/plain": [
       "'CH - > DE - transmission: 0 missing data filled'"
      ]
     },
     "metadata": {}
    },
    {
     "output_type": "display_data",
     "data": {
      "text/plain": [
       "'CH - > FR - transmission: 0 missing data filled'"
      ]
     },
     "metadata": {}
    },
    {
     "output_type": "display_data",
     "data": {
      "text/plain": [
       "'CH - > IT - transmission: 0 missing data filled'"
      ]
     },
     "metadata": {}
    },
    {
     "output_type": "display_data",
     "data": {
      "text/plain": [
       "'CZ - > DE - transmission: 0 missing data filled'"
      ]
     },
     "metadata": {}
    },
    {
     "output_type": "display_data",
     "data": {
      "text/plain": [
       "'CZ - > PL - transmission: 0 missing data filled'"
      ]
     },
     "metadata": {}
    },
    {
     "output_type": "display_data",
     "data": {
      "text/plain": [
       "'CZ - > SK - transmission: 0 missing data filled'"
      ]
     },
     "metadata": {}
    },
    {
     "output_type": "display_data",
     "data": {
      "text/plain": [
       "'DE - > DK - transmission: 0 missing data filled'"
      ]
     },
     "metadata": {}
    },
    {
     "output_type": "display_data",
     "data": {
      "text/plain": [
       "'DE - > FR - transmission: 2 missing data filled'"
      ]
     },
     "metadata": {}
    },
    {
     "output_type": "display_data",
     "data": {
      "text/plain": [
       "'DE - > LU - transmission: 0 missing data filled'"
      ]
     },
     "metadata": {}
    },
    {
     "output_type": "display_data",
     "data": {
      "text/plain": [
       "'DE - > NL - transmission: 34 missing data filled'"
      ]
     },
     "metadata": {}
    },
    {
     "output_type": "display_data",
     "data": {
      "text/plain": [
       "'DE - > PL - transmission: 0 missing data filled'"
      ]
     },
     "metadata": {}
    },
    {
     "output_type": "display_data",
     "data": {
      "text/plain": [
       "'DE - > SE - transmission: 0 missing data filled'"
      ]
     },
     "metadata": {}
    },
    {
     "output_type": "display_data",
     "data": {
      "text/plain": [
       "'DK - > NO - transmission: 0 missing data filled'"
      ]
     },
     "metadata": {}
    },
    {
     "output_type": "display_data",
     "data": {
      "text/plain": [
       "'DK - > SE - transmission: 0 missing data filled'"
      ]
     },
     "metadata": {}
    },
    {
     "output_type": "display_data",
     "data": {
      "text/plain": [
       "'EE - > FI - transmission: 421 missing data filled'"
      ]
     },
     "metadata": {}
    },
    {
     "output_type": "display_data",
     "data": {
      "text/plain": [
       "'EE - > LV - transmission: 3602 missing data filled'"
      ]
     },
     "metadata": {}
    },
    {
     "output_type": "display_data",
     "data": {
      "text/plain": [
       "'EE - > RU - transmission: 414 missing data filled'"
      ]
     },
     "metadata": {}
    },
    {
     "output_type": "display_data",
     "data": {
      "text/plain": [
       "'ES - > FR - transmission: 0 missing data filled'"
      ]
     },
     "metadata": {}
    },
    {
     "output_type": "display_data",
     "data": {
      "text/plain": [
       "'ES - > PT - transmission: 0 missing data filled'"
      ]
     },
     "metadata": {}
    },
    {
     "output_type": "display_data",
     "data": {
      "text/plain": [
       "'FI - > NO - transmission: 0 missing data filled'"
      ]
     },
     "metadata": {}
    },
    {
     "output_type": "display_data",
     "data": {
      "text/plain": [
       "'FI - > RU - transmission: 8 missing data filled'"
      ]
     },
     "metadata": {}
    },
    {
     "output_type": "display_data",
     "data": {
      "text/plain": [
       "'FI - > SE - transmission: 0 missing data filled'"
      ]
     },
     "metadata": {}
    },
    {
     "output_type": "display_data",
     "data": {
      "text/plain": [
       "'FR - > IT - transmission: 0 missing data filled'"
      ]
     },
     "metadata": {}
    },
    {
     "output_type": "display_data",
     "data": {
      "text/plain": [
       "'FR - > UK - transmission: 60 missing data filled'"
      ]
     },
     "metadata": {}
    },
    {
     "output_type": "display_data",
     "data": {
      "text/plain": [
       "'GR - > AL - transmission: 0 missing data filled'"
      ]
     },
     "metadata": {}
    },
    {
     "output_type": "display_data",
     "data": {
      "text/plain": [
       "'GR - > IT - transmission: 0 missing data filled'"
      ]
     },
     "metadata": {}
    },
    {
     "output_type": "display_data",
     "data": {
      "text/plain": [
       "'GR - > MK - transmission: 0 missing data filled'"
      ]
     },
     "metadata": {}
    },
    {
     "output_type": "display_data",
     "data": {
      "text/plain": [
       "'HR - > BA - transmission: 0 missing data filled'"
      ]
     },
     "metadata": {}
    },
    {
     "output_type": "display_data",
     "data": {
      "text/plain": [
       "'HR - > HU - transmission: 0 missing data filled'"
      ]
     },
     "metadata": {}
    },
    {
     "output_type": "display_data",
     "data": {
      "text/plain": [
       "'HR - > RS - transmission: 0 missing data filled'"
      ]
     },
     "metadata": {}
    },
    {
     "output_type": "display_data",
     "data": {
      "text/plain": [
       "'HR - > SI - transmission: 0 missing data filled'"
      ]
     },
     "metadata": {}
    },
    {
     "output_type": "display_data",
     "data": {
      "text/plain": [
       "'HU - > RO - transmission: 0 missing data filled'"
      ]
     },
     "metadata": {}
    },
    {
     "output_type": "display_data",
     "data": {
      "text/plain": [
       "'HU - > RS - transmission: 0 missing data filled'"
      ]
     },
     "metadata": {}
    },
    {
     "output_type": "display_data",
     "data": {
      "text/plain": [
       "'HU - > SK - transmission: 0 missing data filled'"
      ]
     },
     "metadata": {}
    },
    {
     "output_type": "display_data",
     "data": {
      "text/plain": [
       "'HU - > UA - transmission: 14 missing data filled'"
      ]
     },
     "metadata": {}
    },
    {
     "output_type": "display_data",
     "data": {
      "text/plain": [
       "'IE - > UK - transmission: 0 missing data filled'"
      ]
     },
     "metadata": {}
    },
    {
     "output_type": "display_data",
     "data": {
      "text/plain": [
       "'IT - > MT - transmission: 18 missing data filled'"
      ]
     },
     "metadata": {}
    },
    {
     "output_type": "display_data",
     "data": {
      "text/plain": [
       "'IT - > SI - transmission: 46 missing data filled'"
      ]
     },
     "metadata": {}
    },
    {
     "output_type": "display_data",
     "data": {
      "text/plain": [
       "'LT - > BY - transmission: 58 missing data filled'"
      ]
     },
     "metadata": {}
    },
    {
     "output_type": "display_data",
     "data": {
      "text/plain": [
       "'LT - > LV - transmission: 76 missing data filled'"
      ]
     },
     "metadata": {}
    },
    {
     "output_type": "display_data",
     "data": {
      "text/plain": [
       "'LT - > PL - transmission: 0 missing data filled'"
      ]
     },
     "metadata": {}
    },
    {
     "output_type": "display_data",
     "data": {
      "text/plain": [
       "'LT - > RU - transmission: 58 missing data filled'"
      ]
     },
     "metadata": {}
    },
    {
     "output_type": "display_data",
     "data": {
      "text/plain": [
       "'LT - > SE - transmission: 0 missing data filled'"
      ]
     },
     "metadata": {}
    },
    {
     "output_type": "display_data",
     "data": {
      "text/plain": [
       "'LV - > RU - transmission: 18 missing data filled'"
      ]
     },
     "metadata": {}
    },
    {
     "output_type": "display_data",
     "data": {
      "text/plain": [
       "'ME - > AL - transmission: 0 missing data filled'"
      ]
     },
     "metadata": {}
    },
    {
     "output_type": "display_data",
     "data": {
      "text/plain": [
       "'ME - > BA - transmission: 0 missing data filled'"
      ]
     },
     "metadata": {}
    },
    {
     "output_type": "display_data",
     "data": {
      "text/plain": [
       "'ME - > RS - transmission: 0 missing data filled'"
      ]
     },
     "metadata": {}
    },
    {
     "output_type": "display_data",
     "data": {
      "text/plain": [
       "'NL - > NO - transmission: 0 missing data filled'"
      ]
     },
     "metadata": {}
    },
    {
     "output_type": "display_data",
     "data": {
      "text/plain": [
       "'NL - > UK - transmission: 0 missing data filled'"
      ]
     },
     "metadata": {}
    },
    {
     "output_type": "display_data",
     "data": {
      "text/plain": [
       "'NO - > SE - transmission: 0 missing data filled'"
      ]
     },
     "metadata": {}
    },
    {
     "output_type": "display_data",
     "data": {
      "text/plain": [
       "'PL - > SE - transmission: 0 missing data filled'"
      ]
     },
     "metadata": {}
    },
    {
     "output_type": "display_data",
     "data": {
      "text/plain": [
       "'PL - > SK - transmission: 0 missing data filled'"
      ]
     },
     "metadata": {}
    },
    {
     "output_type": "display_data",
     "data": {
      "text/plain": [
       "'PL - > UA - transmission: 0 missing data filled'"
      ]
     },
     "metadata": {}
    },
    {
     "output_type": "display_data",
     "data": {
      "text/plain": [
       "'RS - > AL - transmission: 0 missing data filled'"
      ]
     },
     "metadata": {}
    },
    {
     "output_type": "display_data",
     "data": {
      "text/plain": [
       "'RS - > BA - transmission: 0 missing data filled'"
      ]
     },
     "metadata": {}
    },
    {
     "output_type": "display_data",
     "data": {
      "text/plain": [
       "'RS - > HR - transmission: 0 missing data filled'"
      ]
     },
     "metadata": {}
    },
    {
     "output_type": "display_data",
     "data": {
      "text/plain": [
       "'RS - > MK - transmission: 0 missing data filled'"
      ]
     },
     "metadata": {}
    },
    {
     "output_type": "display_data",
     "data": {
      "text/plain": [
       "'RS - > RO - transmission: 0 missing data filled'"
      ]
     },
     "metadata": {}
    },
    {
     "output_type": "display_data",
     "data": {
      "text/plain": [
       "'SK - > UA - transmission: 17 missing data filled'"
      ]
     },
     "metadata": {}
    }
   ],
   "metadata": {}
  },
  {
   "cell_type": "markdown",
   "source": [
<<<<<<< HEAD
    "## 2.4 Validating the missing observations filling model"
=======
    "# 3. Identifying inconsistencies in ENTSO-E Generation data"
>>>>>>> ac7687d690a410fc6bb9065c8fe5e295d4acb087
   ],
   "metadata": {}
  },
  {
   "cell_type": "code",
<<<<<<< HEAD
   "execution_count": 4,
   "source": [
    "selected_countries = {'Austria':\"AT\", 'Denmark':\"DK\", 'Norway':\"NO\", 'Portugal':\"PT\",'Sweden':'SE'}\r\n",
    "dp.validation(selected_countries)"
   ],
   "outputs": [
    {
     "output_type": "stream",
     "name": "stdout",
     "text": [
      "Austria Biomass  - Actual Aggregated [MW]\n",
      "Austria Fossil Gas  - Actual Aggregated [MW]\n",
      "Austria Fossil Hard coal  - Actual Aggregated [MW]\n",
      "Austria Hydro Pumped Storage  - Actual Aggregated [MW]\n",
      "Austria Hydro Run-of-river and poundage  - Actual Aggregated [MW]\n",
      "Austria Hydro Water Reservoir  - Actual Aggregated [MW]\n",
      "Austria Other  - Actual Aggregated [MW]\n",
      "Austria Solar  - Actual Aggregated [MW]\n",
      "Austria Waste  - Actual Aggregated [MW]\n",
      "Austria Wind Onshore  - Actual Aggregated [MW]\n",
      "Denmark Biomass  - Actual Aggregated [MW]\n",
      "Denmark Fossil Gas  - Actual Aggregated [MW]\n",
      "Denmark Fossil Hard coal  - Actual Aggregated [MW]\n",
      "Denmark Fossil Oil  - Actual Aggregated [MW]\n",
      "Denmark Solar  - Actual Aggregated [MW]\n",
      "Denmark Waste  - Actual Aggregated [MW]\n",
      "Denmark Wind Offshore  - Actual Aggregated [MW]\n",
      "Denmark Wind Onshore  - Actual Aggregated [MW]\n",
      "Norway Fossil Gas  - Actual Aggregated [MW]\n",
      "Norway Hydro Run-of-river and poundage  - Actual Aggregated [MW]\n",
      "Norway Hydro Water Reservoir  - Actual Aggregated [MW]\n",
      "Norway Other  - Actual Aggregated [MW]\n",
      "Norway Wind Onshore  - Actual Aggregated [MW]\n",
      "Portugal Biomass  - Actual Aggregated [MW]\n",
      "Portugal Fossil Gas  - Actual Aggregated [MW]\n",
      "Portugal Fossil Hard coal  - Actual Aggregated [MW]\n",
      "Portugal Hydro Pumped Storage  - Actual Aggregated [MW]\n",
      "Portugal Hydro Run-of-river and poundage  - Actual Aggregated [MW]\n",
      "Portugal Hydro Water Reservoir  - Actual Aggregated [MW]\n",
      "Portugal Other  - Actual Aggregated [MW]\n",
      "Portugal Solar  - Actual Aggregated [MW]\n",
      "Portugal Wind Onshore  - Actual Aggregated [MW]\n",
      "Sweden Hydro Water Reservoir  - Actual Aggregated [MW]\n",
      "Sweden Nuclear  - Actual Aggregated [MW]\n",
      "Sweden Other  - Actual Aggregated [MW]\n",
      "Sweden Wind Onshore  - Actual Aggregated [MW]\n",
      "Austria Actual Total Load [MW] - Austria (AT)\n",
      "Denmark Actual Total Load [MW] - Denmark (DK)\n",
      "Norway Actual Total Load [MW] - Norway (NO)\n",
      "Portugal Actual Total Load [MW] - Portugal (PT)\n",
      "Sweden Actual Total Load [MW] - Sweden (SE)\n",
      "AT - SI Slovenia (SI) > Austria (AT) [MW]\n",
      "AT - SI Austria (AT) > Slovenia (SI) [MW]\n",
      "DE - SE Sweden (SE) > Germany (DE) [MW]\n",
      "DE - SE Germany (DE) > Sweden (SE) [MW]\n",
      "AT - CH Switzerland (CH) > Austria (AT) [MW]\n",
      "AT - CH Austria (AT) > Switzerland (CH) [MW]\n",
      "AT - HU Hungary (HU) > Austria (AT) [MW]\n",
      "AT - HU Austria (AT) > Hungary (HU) [MW]\n",
      "AT - IT Italy (IT) > Austria (AT) [MW]\n",
      "AT - IT Austria (AT) > Italy (IT) [MW]\n",
      "ES - PT Portugal (PT) > Spain (ES) [MW]\n",
      "ES - PT Spain (ES) > Portugal (PT) [MW]\n",
      "AT - CZ Czech Republic (CZ) > Austria (AT) [MW]\n",
      "AT - CZ Austria (AT) > Czech Republic (CZ) [MW]\n",
      "DK - SE Sweden (SE) > Denmark (DK) [MW]\n",
      "DK - SE Denmark (DK) > Sweden (SE) [MW]\n",
      "LT - SE Sweden (SE) > Lithuania (LT) [MW]\n",
      "LT - SE Lithuania (LT) > Sweden (SE) [MW]\n",
      "AT - DE Germany (DE) > Austria (AT) [MW]\n",
      "AT - DE Austria (AT) > Germany (DE) [MW]\n",
      "DE - DK Denmark (DK) > Germany (DE) [MW]\n",
      "DE - DK Germany (DE) > Denmark (DK) [MW]\n",
      "NL - NO Norway (NO) > Netherlands (NL) [MW]\n",
      "NL - NO Netherlands (NL) > Norway (NO) [MW]\n",
      "FI - NO Norway (NO) > Finland (FI) [MW]\n",
      "FI - NO Finland (FI) > Norway (NO) [MW]\n",
      "DK - NO Norway (NO) > Denmark (DK) [MW]\n",
      "DK - NO Denmark (DK) > Norway (NO) [MW]\n",
      "FI - SE Sweden (SE) > Finland (FI) [MW]\n",
      "FI - SE Finland (FI) > Sweden (SE) [MW]\n",
      "PL - SE Sweden (SE) > Poland (PL) [MW]\n",
      "PL - SE Poland (PL) > Sweden (SE) [MW]\n",
      "NO - SE Sweden (SE) > Norway (NO) [MW]\n",
      "NO - SE Norway (NO) > Sweden (SE) [MW]\n",
      "[0.108, 0.204, 0.074, 0.03, 0.201] [0.16, 0.301, 0.042, 0.175, 0.245] [0.12, 0.36, 0.42, 0.05, 0.46]\n"
     ]
    },
    {
     "output_type": "display_data",
     "data": {
      "text/plain": [
       "<Figure size 1440x720 with 1 Axes>"
      ],
      "image/svg+xml": "<?xml version=\"1.0\" encoding=\"utf-8\" standalone=\"no\"?>\r\n<!DOCTYPE svg PUBLIC \"-//W3C//DTD SVG 1.1//EN\"\r\n  \"http://www.w3.org/Graphics/SVG/1.1/DTD/svg11.dtd\">\r\n<svg height=\"603.474375pt\" version=\"1.1\" viewBox=\"0 0 1166.98125 603.474375\" width=\"1166.98125pt\" xmlns=\"http://www.w3.org/2000/svg\" xmlns:xlink=\"http://www.w3.org/1999/xlink\">\r\n <metadata>\r\n  <rdf:RDF xmlns:cc=\"http://creativecommons.org/ns#\" xmlns:dc=\"http://purl.org/dc/elements/1.1/\" xmlns:rdf=\"http://www.w3.org/1999/02/22-rdf-syntax-ns#\">\r\n   <cc:Work>\r\n    <dc:type rdf:resource=\"http://purl.org/dc/dcmitype/StillImage\"/>\r\n    <dc:date>2021-09-02T13:08:08.135052</dc:date>\r\n    <dc:format>image/svg+xml</dc:format>\r\n    <dc:creator>\r\n     <cc:Agent>\r\n      <dc:title>Matplotlib v3.4.2, https://matplotlib.org/</dc:title>\r\n     </cc:Agent>\r\n    </dc:creator>\r\n   </cc:Work>\r\n  </rdf:RDF>\r\n </metadata>\r\n <defs>\r\n  <style type=\"text/css\">*{stroke-linecap:butt;stroke-linejoin:round;}</style>\r\n </defs>\r\n <g id=\"figure_1\">\r\n  <g id=\"patch_1\">\r\n   <path d=\"M 0 603.474375 \r\nL 1166.98125 603.474375 \r\nL 1166.98125 0 \r\nL 0 0 \r\nz\r\n\" style=\"fill:none;\"/>\r\n  </g>\r\n  <g id=\"axes_1\">\r\n   <g id=\"patch_2\">\r\n    <path d=\"M 43.78125 565.918125 \r\nL 1159.78125 565.918125 \r\nL 1159.78125 22.318125 \r\nL 43.78125 22.318125 \r\nz\r\n\" style=\"fill:#ffffff;\"/>\r\n   </g>\r\n   <g id=\"patch_3\">\r\n    <path clip-path=\"url(#p9b01329b3a)\" d=\"M 94.508523 565.918125 \r\nL 186.739928 565.918125 \r\nL 186.739928 474.489554 \r\nL 94.508523 474.489554 \r\nz\r\n\" style=\"fill:#1f77b4;\"/>\r\n   </g>\r\n   <g id=\"patch_4\">\r\n    <path clip-path=\"url(#p9b01329b3a)\" d=\"M 325.087035 565.918125 \r\nL 417.31844 565.918125 \r\nL 417.31844 393.918125 \r\nL 325.087035 393.918125 \r\nz\r\n\" style=\"fill:#1f77b4;\"/>\r\n   </g>\r\n   <g id=\"patch_5\">\r\n    <path clip-path=\"url(#p9b01329b3a)\" d=\"M 555.665548 565.918125 \r\nL 647.896952 565.918125 \r\nL 647.896952 541.918125 \r\nL 555.665548 541.918125 \r\nz\r\n\" style=\"fill:#1f77b4;\"/>\r\n   </g>\r\n   <g id=\"patch_6\">\r\n    <path clip-path=\"url(#p9b01329b3a)\" d=\"M 786.24406 565.918125 \r\nL 878.475465 565.918125 \r\nL 878.475465 465.918125 \r\nL 786.24406 465.918125 \r\nz\r\n\" style=\"fill:#1f77b4;\"/>\r\n   </g>\r\n   <g id=\"patch_7\">\r\n    <path clip-path=\"url(#p9b01329b3a)\" d=\"M 1016.822572 565.918125 \r\nL 1109.053977 565.918125 \r\nL 1109.053977 425.918125 \r\nL 1016.822572 425.918125 \r\nz\r\n\" style=\"fill:#1f77b4;\"/>\r\n   </g>\r\n   <g id=\"patch_8\">\r\n    <path clip-path=\"url(#p9b01329b3a)\" d=\"M 94.508523 474.489554 \r\nL 186.739928 474.489554 \r\nL 186.739928 412.775268 \r\nL 94.508523 412.775268 \r\nz\r\n\" style=\"fill:#ff7f0e;\"/>\r\n   </g>\r\n   <g id=\"patch_9\">\r\n    <path clip-path=\"url(#p9b01329b3a)\" d=\"M 325.087035 393.918125 \r\nL 417.31844 393.918125 \r\nL 417.31844 277.346696 \r\nL 325.087035 277.346696 \r\nz\r\n\" style=\"fill:#ff7f0e;\"/>\r\n   </g>\r\n   <g id=\"patch_10\">\r\n    <path clip-path=\"url(#p9b01329b3a)\" d=\"M 555.665548 541.918125 \r\nL 647.896952 541.918125 \r\nL 647.896952 499.632411 \r\nL 555.665548 499.632411 \r\nz\r\n\" style=\"fill:#ff7f0e;\"/>\r\n   </g>\r\n   <g id=\"patch_11\">\r\n    <path clip-path=\"url(#p9b01329b3a)\" d=\"M 786.24406 465.918125 \r\nL 878.475465 465.918125 \r\nL 878.475465 448.775268 \r\nL 786.24406 448.775268 \r\nz\r\n\" style=\"fill:#ff7f0e;\"/>\r\n   </g>\r\n   <g id=\"patch_12\">\r\n    <path clip-path=\"url(#p9b01329b3a)\" d=\"M 1016.822572 425.918125 \r\nL 1109.053977 425.918125 \r\nL 1109.053977 311.060982 \r\nL 1016.822572 311.060982 \r\nz\r\n\" style=\"fill:#ff7f0e;\"/>\r\n   </g>\r\n   <g id=\"patch_13\">\r\n    <path clip-path=\"url(#p9b01329b3a)\" d=\"M 94.508523 412.775268 \r\nL 186.739928 412.775268 \r\nL 186.739928 344.203839 \r\nL 94.508523 344.203839 \r\nz\r\n\" style=\"fill:#2ca02c;\"/>\r\n   </g>\r\n   <g id=\"patch_14\">\r\n    <path clip-path=\"url(#p9b01329b3a)\" d=\"M 325.087035 277.346696 \r\nL 417.31844 277.346696 \r\nL 417.31844 71.632411 \r\nL 325.087035 71.632411 \r\nz\r\n\" style=\"fill:#2ca02c;\"/>\r\n   </g>\r\n   <g id=\"patch_15\">\r\n    <path clip-path=\"url(#p9b01329b3a)\" d=\"M 555.665548 499.632411 \r\nL 647.896952 499.632411 \r\nL 647.896952 259.632411 \r\nL 555.665548 259.632411 \r\nz\r\n\" style=\"fill:#2ca02c;\"/>\r\n   </g>\r\n   <g id=\"patch_16\">\r\n    <path clip-path=\"url(#p9b01329b3a)\" d=\"M 786.24406 448.775268 \r\nL 878.475465 448.775268 \r\nL 878.475465 420.203839 \r\nL 786.24406 420.203839 \r\nz\r\n\" style=\"fill:#2ca02c;\"/>\r\n   </g>\r\n   <g id=\"patch_17\">\r\n    <path clip-path=\"url(#p9b01329b3a)\" d=\"M 1016.822572 311.060982 \r\nL 1109.053977 311.060982 \r\nL 1109.053977 48.203839 \r\nL 1016.822572 48.203839 \r\nz\r\n\" style=\"fill:#2ca02c;\"/>\r\n   </g>\r\n   <g id=\"matplotlib.axis_1\">\r\n    <g id=\"xtick_1\">\r\n     <g id=\"line2d_1\">\r\n      <path clip-path=\"url(#p9b01329b3a)\" d=\"M 140.624225 565.918125 \r\nL 140.624225 22.318125 \r\n\" style=\"fill:none;stroke:#b0b0b0;stroke-linecap:square;stroke-width:0.8;\"/>\r\n     </g>\r\n     <g id=\"line2d_2\">\r\n      <defs>\r\n       <path d=\"M 0 0 \r\nL 0 3.5 \r\n\" id=\"m9d1f32a900\" style=\"stroke:#000000;stroke-width:0.8;\"/>\r\n      </defs>\r\n      <g>\r\n       <use style=\"stroke:#000000;stroke-width:0.8;\" x=\"140.624225\" xlink:href=\"#m9d1f32a900\" y=\"565.918125\"/>\r\n      </g>\r\n     </g>\r\n     <g id=\"text_1\">\r\n      <!-- AT -->\r\n      <g transform=\"translate(134.537506 580.516562)scale(0.1 -0.1)\">\r\n       <defs>\r\n        <path d=\"M 2188 4044 \r\nL 1331 1722 \r\nL 3047 1722 \r\nL 2188 4044 \r\nz\r\nM 1831 4666 \r\nL 2547 4666 \r\nL 4325 0 \r\nL 3669 0 \r\nL 3244 1197 \r\nL 1141 1197 \r\nL 716 0 \r\nL 50 0 \r\nL 1831 4666 \r\nz\r\n\" id=\"DejaVuSans-41\" transform=\"scale(0.015625)\"/>\r\n        <path d=\"M -19 4666 \r\nL 3928 4666 \r\nL 3928 4134 \r\nL 2272 4134 \r\nL 2272 0 \r\nL 1638 0 \r\nL 1638 4134 \r\nL -19 4134 \r\nL -19 4666 \r\nz\r\n\" id=\"DejaVuSans-54\" transform=\"scale(0.015625)\"/>\r\n       </defs>\r\n       <use xlink:href=\"#DejaVuSans-41\"/>\r\n       <use x=\"60.658203\" xlink:href=\"#DejaVuSans-54\"/>\r\n      </g>\r\n     </g>\r\n    </g>\r\n    <g id=\"xtick_2\">\r\n     <g id=\"line2d_3\">\r\n      <path clip-path=\"url(#p9b01329b3a)\" d=\"M 371.202738 565.918125 \r\nL 371.202738 22.318125 \r\n\" style=\"fill:none;stroke:#b0b0b0;stroke-linecap:square;stroke-width:0.8;\"/>\r\n     </g>\r\n     <g id=\"line2d_4\">\r\n      <g>\r\n       <use style=\"stroke:#000000;stroke-width:0.8;\" x=\"371.202738\" xlink:href=\"#m9d1f32a900\" y=\"565.918125\"/>\r\n      </g>\r\n     </g>\r\n     <g id=\"text_2\">\r\n      <!-- DK -->\r\n      <g transform=\"translate(364.073831 580.516562)scale(0.1 -0.1)\">\r\n       <defs>\r\n        <path d=\"M 1259 4147 \r\nL 1259 519 \r\nL 2022 519 \r\nQ 2988 519 3436 956 \r\nQ 3884 1394 3884 2338 \r\nQ 3884 3275 3436 3711 \r\nQ 2988 4147 2022 4147 \r\nL 1259 4147 \r\nz\r\nM 628 4666 \r\nL 1925 4666 \r\nQ 3281 4666 3915 4102 \r\nQ 4550 3538 4550 2338 \r\nQ 4550 1131 3912 565 \r\nQ 3275 0 1925 0 \r\nL 628 0 \r\nL 628 4666 \r\nz\r\n\" id=\"DejaVuSans-44\" transform=\"scale(0.015625)\"/>\r\n        <path d=\"M 628 4666 \r\nL 1259 4666 \r\nL 1259 2694 \r\nL 3353 4666 \r\nL 4166 4666 \r\nL 1850 2491 \r\nL 4331 0 \r\nL 3500 0 \r\nL 1259 2247 \r\nL 1259 0 \r\nL 628 0 \r\nL 628 4666 \r\nz\r\n\" id=\"DejaVuSans-4b\" transform=\"scale(0.015625)\"/>\r\n       </defs>\r\n       <use xlink:href=\"#DejaVuSans-44\"/>\r\n       <use x=\"77.001953\" xlink:href=\"#DejaVuSans-4b\"/>\r\n      </g>\r\n     </g>\r\n    </g>\r\n    <g id=\"xtick_3\">\r\n     <g id=\"line2d_5\">\r\n      <path clip-path=\"url(#p9b01329b3a)\" d=\"M 601.78125 565.918125 \r\nL 601.78125 22.318125 \r\n\" style=\"fill:none;stroke:#b0b0b0;stroke-linecap:square;stroke-width:0.8;\"/>\r\n     </g>\r\n     <g id=\"line2d_6\">\r\n      <g>\r\n       <use style=\"stroke:#000000;stroke-width:0.8;\" x=\"601.78125\" xlink:href=\"#m9d1f32a900\" y=\"565.918125\"/>\r\n      </g>\r\n     </g>\r\n     <g id=\"text_3\">\r\n      <!-- NO -->\r\n      <g transform=\"translate(594.104687 580.516562)scale(0.1 -0.1)\">\r\n       <defs>\r\n        <path d=\"M 628 4666 \r\nL 1478 4666 \r\nL 3547 763 \r\nL 3547 4666 \r\nL 4159 4666 \r\nL 4159 0 \r\nL 3309 0 \r\nL 1241 3903 \r\nL 1241 0 \r\nL 628 0 \r\nL 628 4666 \r\nz\r\n\" id=\"DejaVuSans-4e\" transform=\"scale(0.015625)\"/>\r\n        <path d=\"M 2522 4238 \r\nQ 1834 4238 1429 3725 \r\nQ 1025 3213 1025 2328 \r\nQ 1025 1447 1429 934 \r\nQ 1834 422 2522 422 \r\nQ 3209 422 3611 934 \r\nQ 4013 1447 4013 2328 \r\nQ 4013 3213 3611 3725 \r\nQ 3209 4238 2522 4238 \r\nz\r\nM 2522 4750 \r\nQ 3503 4750 4090 4092 \r\nQ 4678 3434 4678 2328 \r\nQ 4678 1225 4090 567 \r\nQ 3503 -91 2522 -91 \r\nQ 1538 -91 948 565 \r\nQ 359 1222 359 2328 \r\nQ 359 3434 948 4092 \r\nQ 1538 4750 2522 4750 \r\nz\r\n\" id=\"DejaVuSans-4f\" transform=\"scale(0.015625)\"/>\r\n       </defs>\r\n       <use xlink:href=\"#DejaVuSans-4e\"/>\r\n       <use x=\"74.804688\" xlink:href=\"#DejaVuSans-4f\"/>\r\n      </g>\r\n     </g>\r\n    </g>\r\n    <g id=\"xtick_4\">\r\n     <g id=\"line2d_7\">\r\n      <path clip-path=\"url(#p9b01329b3a)\" d=\"M 832.359762 565.918125 \r\nL 832.359762 22.318125 \r\n\" style=\"fill:none;stroke:#b0b0b0;stroke-linecap:square;stroke-width:0.8;\"/>\r\n     </g>\r\n     <g id=\"line2d_8\">\r\n      <g>\r\n       <use style=\"stroke:#000000;stroke-width:0.8;\" x=\"832.359762\" xlink:href=\"#m9d1f32a900\" y=\"565.918125\"/>\r\n      </g>\r\n     </g>\r\n     <g id=\"text_4\">\r\n      <!-- PT -->\r\n      <g transform=\"translate(826.291012 580.516562)scale(0.1 -0.1)\">\r\n       <defs>\r\n        <path d=\"M 1259 4147 \r\nL 1259 2394 \r\nL 2053 2394 \r\nQ 2494 2394 2734 2622 \r\nQ 2975 2850 2975 3272 \r\nQ 2975 3691 2734 3919 \r\nQ 2494 4147 2053 4147 \r\nL 1259 4147 \r\nz\r\nM 628 4666 \r\nL 2053 4666 \r\nQ 2838 4666 3239 4311 \r\nQ 3641 3956 3641 3272 \r\nQ 3641 2581 3239 2228 \r\nQ 2838 1875 2053 1875 \r\nL 1259 1875 \r\nL 1259 0 \r\nL 628 0 \r\nL 628 4666 \r\nz\r\n\" id=\"DejaVuSans-50\" transform=\"scale(0.015625)\"/>\r\n       </defs>\r\n       <use xlink:href=\"#DejaVuSans-50\"/>\r\n       <use x=\"60.302734\" xlink:href=\"#DejaVuSans-54\"/>\r\n      </g>\r\n     </g>\r\n    </g>\r\n    <g id=\"xtick_5\">\r\n     <g id=\"line2d_9\">\r\n      <path clip-path=\"url(#p9b01329b3a)\" d=\"M 1062.938275 565.918125 \r\nL 1062.938275 22.318125 \r\n\" style=\"fill:none;stroke:#b0b0b0;stroke-linecap:square;stroke-width:0.8;\"/>\r\n     </g>\r\n     <g id=\"line2d_10\">\r\n      <g>\r\n       <use style=\"stroke:#000000;stroke-width:0.8;\" x=\"1062.938275\" xlink:href=\"#m9d1f32a900\" y=\"565.918125\"/>\r\n      </g>\r\n     </g>\r\n     <g id=\"text_5\">\r\n      <!-- SE -->\r\n      <g transform=\"translate(1056.604681 580.516562)scale(0.1 -0.1)\">\r\n       <defs>\r\n        <path d=\"M 3425 4513 \r\nL 3425 3897 \r\nQ 3066 4069 2747 4153 \r\nQ 2428 4238 2131 4238 \r\nQ 1616 4238 1336 4038 \r\nQ 1056 3838 1056 3469 \r\nQ 1056 3159 1242 3001 \r\nQ 1428 2844 1947 2747 \r\nL 2328 2669 \r\nQ 3034 2534 3370 2195 \r\nQ 3706 1856 3706 1288 \r\nQ 3706 609 3251 259 \r\nQ 2797 -91 1919 -91 \r\nQ 1588 -91 1214 -16 \r\nQ 841 59 441 206 \r\nL 441 856 \r\nQ 825 641 1194 531 \r\nQ 1563 422 1919 422 \r\nQ 2459 422 2753 634 \r\nQ 3047 847 3047 1241 \r\nQ 3047 1584 2836 1778 \r\nQ 2625 1972 2144 2069 \r\nL 1759 2144 \r\nQ 1053 2284 737 2584 \r\nQ 422 2884 422 3419 \r\nQ 422 4038 858 4394 \r\nQ 1294 4750 2059 4750 \r\nQ 2388 4750 2728 4690 \r\nQ 3069 4631 3425 4513 \r\nz\r\n\" id=\"DejaVuSans-53\" transform=\"scale(0.015625)\"/>\r\n        <path d=\"M 628 4666 \r\nL 3578 4666 \r\nL 3578 4134 \r\nL 1259 4134 \r\nL 1259 2753 \r\nL 3481 2753 \r\nL 3481 2222 \r\nL 1259 2222 \r\nL 1259 531 \r\nL 3634 531 \r\nL 3634 0 \r\nL 628 0 \r\nL 628 4666 \r\nz\r\n\" id=\"DejaVuSans-45\" transform=\"scale(0.015625)\"/>\r\n       </defs>\r\n       <use xlink:href=\"#DejaVuSans-53\"/>\r\n       <use x=\"63.476562\" xlink:href=\"#DejaVuSans-45\"/>\r\n      </g>\r\n     </g>\r\n    </g>\r\n    <g id=\"text_6\">\r\n     <!-- Countries -->\r\n     <g transform=\"translate(577.807031 594.194687)scale(0.1 -0.1)\">\r\n      <defs>\r\n       <path d=\"M 4122 4306 \r\nL 4122 3641 \r\nQ 3803 3938 3442 4084 \r\nQ 3081 4231 2675 4231 \r\nQ 1875 4231 1450 3742 \r\nQ 1025 3253 1025 2328 \r\nQ 1025 1406 1450 917 \r\nQ 1875 428 2675 428 \r\nQ 3081 428 3442 575 \r\nQ 3803 722 4122 1019 \r\nL 4122 359 \r\nQ 3791 134 3420 21 \r\nQ 3050 -91 2638 -91 \r\nQ 1578 -91 968 557 \r\nQ 359 1206 359 2328 \r\nQ 359 3453 968 4101 \r\nQ 1578 4750 2638 4750 \r\nQ 3056 4750 3426 4639 \r\nQ 3797 4528 4122 4306 \r\nz\r\n\" id=\"DejaVuSans-43\" transform=\"scale(0.015625)\"/>\r\n       <path d=\"M 1959 3097 \r\nQ 1497 3097 1228 2736 \r\nQ 959 2375 959 1747 \r\nQ 959 1119 1226 758 \r\nQ 1494 397 1959 397 \r\nQ 2419 397 2687 759 \r\nQ 2956 1122 2956 1747 \r\nQ 2956 2369 2687 2733 \r\nQ 2419 3097 1959 3097 \r\nz\r\nM 1959 3584 \r\nQ 2709 3584 3137 3096 \r\nQ 3566 2609 3566 1747 \r\nQ 3566 888 3137 398 \r\nQ 2709 -91 1959 -91 \r\nQ 1206 -91 779 398 \r\nQ 353 888 353 1747 \r\nQ 353 2609 779 3096 \r\nQ 1206 3584 1959 3584 \r\nz\r\n\" id=\"DejaVuSans-6f\" transform=\"scale(0.015625)\"/>\r\n       <path d=\"M 544 1381 \r\nL 544 3500 \r\nL 1119 3500 \r\nL 1119 1403 \r\nQ 1119 906 1312 657 \r\nQ 1506 409 1894 409 \r\nQ 2359 409 2629 706 \r\nQ 2900 1003 2900 1516 \r\nL 2900 3500 \r\nL 3475 3500 \r\nL 3475 0 \r\nL 2900 0 \r\nL 2900 538 \r\nQ 2691 219 2414 64 \r\nQ 2138 -91 1772 -91 \r\nQ 1169 -91 856 284 \r\nQ 544 659 544 1381 \r\nz\r\nM 1991 3584 \r\nL 1991 3584 \r\nz\r\n\" id=\"DejaVuSans-75\" transform=\"scale(0.015625)\"/>\r\n       <path d=\"M 3513 2113 \r\nL 3513 0 \r\nL 2938 0 \r\nL 2938 2094 \r\nQ 2938 2591 2744 2837 \r\nQ 2550 3084 2163 3084 \r\nQ 1697 3084 1428 2787 \r\nQ 1159 2491 1159 1978 \r\nL 1159 0 \r\nL 581 0 \r\nL 581 3500 \r\nL 1159 3500 \r\nL 1159 2956 \r\nQ 1366 3272 1645 3428 \r\nQ 1925 3584 2291 3584 \r\nQ 2894 3584 3203 3211 \r\nQ 3513 2838 3513 2113 \r\nz\r\n\" id=\"DejaVuSans-6e\" transform=\"scale(0.015625)\"/>\r\n       <path d=\"M 1172 4494 \r\nL 1172 3500 \r\nL 2356 3500 \r\nL 2356 3053 \r\nL 1172 3053 \r\nL 1172 1153 \r\nQ 1172 725 1289 603 \r\nQ 1406 481 1766 481 \r\nL 2356 481 \r\nL 2356 0 \r\nL 1766 0 \r\nQ 1100 0 847 248 \r\nQ 594 497 594 1153 \r\nL 594 3053 \r\nL 172 3053 \r\nL 172 3500 \r\nL 594 3500 \r\nL 594 4494 \r\nL 1172 4494 \r\nz\r\n\" id=\"DejaVuSans-74\" transform=\"scale(0.015625)\"/>\r\n       <path d=\"M 2631 2963 \r\nQ 2534 3019 2420 3045 \r\nQ 2306 3072 2169 3072 \r\nQ 1681 3072 1420 2755 \r\nQ 1159 2438 1159 1844 \r\nL 1159 0 \r\nL 581 0 \r\nL 581 3500 \r\nL 1159 3500 \r\nL 1159 2956 \r\nQ 1341 3275 1631 3429 \r\nQ 1922 3584 2338 3584 \r\nQ 2397 3584 2469 3576 \r\nQ 2541 3569 2628 3553 \r\nL 2631 2963 \r\nz\r\n\" id=\"DejaVuSans-72\" transform=\"scale(0.015625)\"/>\r\n       <path d=\"M 603 3500 \r\nL 1178 3500 \r\nL 1178 0 \r\nL 603 0 \r\nL 603 3500 \r\nz\r\nM 603 4863 \r\nL 1178 4863 \r\nL 1178 4134 \r\nL 603 4134 \r\nL 603 4863 \r\nz\r\n\" id=\"DejaVuSans-69\" transform=\"scale(0.015625)\"/>\r\n       <path d=\"M 3597 1894 \r\nL 3597 1613 \r\nL 953 1613 \r\nQ 991 1019 1311 708 \r\nQ 1631 397 2203 397 \r\nQ 2534 397 2845 478 \r\nQ 3156 559 3463 722 \r\nL 3463 178 \r\nQ 3153 47 2828 -22 \r\nQ 2503 -91 2169 -91 \r\nQ 1331 -91 842 396 \r\nQ 353 884 353 1716 \r\nQ 353 2575 817 3079 \r\nQ 1281 3584 2069 3584 \r\nQ 2775 3584 3186 3129 \r\nQ 3597 2675 3597 1894 \r\nz\r\nM 3022 2063 \r\nQ 3016 2534 2758 2815 \r\nQ 2500 3097 2075 3097 \r\nQ 1594 3097 1305 2825 \r\nQ 1016 2553 972 2059 \r\nL 3022 2063 \r\nz\r\n\" id=\"DejaVuSans-65\" transform=\"scale(0.015625)\"/>\r\n       <path d=\"M 2834 3397 \r\nL 2834 2853 \r\nQ 2591 2978 2328 3040 \r\nQ 2066 3103 1784 3103 \r\nQ 1356 3103 1142 2972 \r\nQ 928 2841 928 2578 \r\nQ 928 2378 1081 2264 \r\nQ 1234 2150 1697 2047 \r\nL 1894 2003 \r\nQ 2506 1872 2764 1633 \r\nQ 3022 1394 3022 966 \r\nQ 3022 478 2636 193 \r\nQ 2250 -91 1575 -91 \r\nQ 1294 -91 989 -36 \r\nQ 684 19 347 128 \r\nL 347 722 \r\nQ 666 556 975 473 \r\nQ 1284 391 1588 391 \r\nQ 1994 391 2212 530 \r\nQ 2431 669 2431 922 \r\nQ 2431 1156 2273 1281 \r\nQ 2116 1406 1581 1522 \r\nL 1381 1569 \r\nQ 847 1681 609 1914 \r\nQ 372 2147 372 2553 \r\nQ 372 3047 722 3315 \r\nQ 1072 3584 1716 3584 \r\nQ 2034 3584 2315 3537 \r\nQ 2597 3491 2834 3397 \r\nz\r\n\" id=\"DejaVuSans-73\" transform=\"scale(0.015625)\"/>\r\n      </defs>\r\n      <use xlink:href=\"#DejaVuSans-43\"/>\r\n      <use x=\"69.824219\" xlink:href=\"#DejaVuSans-6f\"/>\r\n      <use x=\"131.005859\" xlink:href=\"#DejaVuSans-75\"/>\r\n      <use x=\"194.384766\" xlink:href=\"#DejaVuSans-6e\"/>\r\n      <use x=\"257.763672\" xlink:href=\"#DejaVuSans-74\"/>\r\n      <use x=\"296.972656\" xlink:href=\"#DejaVuSans-72\"/>\r\n      <use x=\"338.085938\" xlink:href=\"#DejaVuSans-69\"/>\r\n      <use x=\"365.869141\" xlink:href=\"#DejaVuSans-65\"/>\r\n      <use x=\"427.392578\" xlink:href=\"#DejaVuSans-73\"/>\r\n     </g>\r\n    </g>\r\n   </g>\r\n   <g id=\"matplotlib.axis_2\">\r\n    <g id=\"ytick_1\">\r\n     <g id=\"line2d_11\">\r\n      <path clip-path=\"url(#p9b01329b3a)\" d=\"M 43.78125 565.918125 \r\nL 1159.78125 565.918125 \r\n\" style=\"fill:none;stroke:#b0b0b0;stroke-linecap:square;stroke-width:0.8;\"/>\r\n     </g>\r\n     <g id=\"line2d_12\">\r\n      <defs>\r\n       <path d=\"M 0 0 \r\nL -3.5 0 \r\n\" id=\"m79abd2f4a7\" style=\"stroke:#000000;stroke-width:0.8;\"/>\r\n      </defs>\r\n      <g>\r\n       <use style=\"stroke:#000000;stroke-width:0.8;\" x=\"43.78125\" xlink:href=\"#m79abd2f4a7\" y=\"565.918125\"/>\r\n      </g>\r\n     </g>\r\n     <g id=\"text_7\">\r\n      <!-- 0.0 -->\r\n      <g transform=\"translate(20.878125 569.717344)scale(0.1 -0.1)\">\r\n       <defs>\r\n        <path d=\"M 2034 4250 \r\nQ 1547 4250 1301 3770 \r\nQ 1056 3291 1056 2328 \r\nQ 1056 1369 1301 889 \r\nQ 1547 409 2034 409 \r\nQ 2525 409 2770 889 \r\nQ 3016 1369 3016 2328 \r\nQ 3016 3291 2770 3770 \r\nQ 2525 4250 2034 4250 \r\nz\r\nM 2034 4750 \r\nQ 2819 4750 3233 4129 \r\nQ 3647 3509 3647 2328 \r\nQ 3647 1150 3233 529 \r\nQ 2819 -91 2034 -91 \r\nQ 1250 -91 836 529 \r\nQ 422 1150 422 2328 \r\nQ 422 3509 836 4129 \r\nQ 1250 4750 2034 4750 \r\nz\r\n\" id=\"DejaVuSans-30\" transform=\"scale(0.015625)\"/>\r\n        <path d=\"M 684 794 \r\nL 1344 794 \r\nL 1344 0 \r\nL 684 0 \r\nL 684 794 \r\nz\r\n\" id=\"DejaVuSans-2e\" transform=\"scale(0.015625)\"/>\r\n       </defs>\r\n       <use xlink:href=\"#DejaVuSans-30\"/>\r\n       <use x=\"63.623047\" xlink:href=\"#DejaVuSans-2e\"/>\r\n       <use x=\"95.410156\" xlink:href=\"#DejaVuSans-30\"/>\r\n      </g>\r\n     </g>\r\n    </g>\r\n    <g id=\"ytick_2\">\r\n     <g id=\"line2d_13\">\r\n      <path clip-path=\"url(#p9b01329b3a)\" d=\"M 43.78125 451.632411 \r\nL 1159.78125 451.632411 \r\n\" style=\"fill:none;stroke:#b0b0b0;stroke-linecap:square;stroke-width:0.8;\"/>\r\n     </g>\r\n     <g id=\"line2d_14\">\r\n      <g>\r\n       <use style=\"stroke:#000000;stroke-width:0.8;\" x=\"43.78125\" xlink:href=\"#m79abd2f4a7\" y=\"451.632411\"/>\r\n      </g>\r\n     </g>\r\n     <g id=\"text_8\">\r\n      <!-- 0.2 -->\r\n      <g transform=\"translate(20.878125 455.431629)scale(0.1 -0.1)\">\r\n       <defs>\r\n        <path d=\"M 1228 531 \r\nL 3431 531 \r\nL 3431 0 \r\nL 469 0 \r\nL 469 531 \r\nQ 828 903 1448 1529 \r\nQ 2069 2156 2228 2338 \r\nQ 2531 2678 2651 2914 \r\nQ 2772 3150 2772 3378 \r\nQ 2772 3750 2511 3984 \r\nQ 2250 4219 1831 4219 \r\nQ 1534 4219 1204 4116 \r\nQ 875 4013 500 3803 \r\nL 500 4441 \r\nQ 881 4594 1212 4672 \r\nQ 1544 4750 1819 4750 \r\nQ 2544 4750 2975 4387 \r\nQ 3406 4025 3406 3419 \r\nQ 3406 3131 3298 2873 \r\nQ 3191 2616 2906 2266 \r\nQ 2828 2175 2409 1742 \r\nQ 1991 1309 1228 531 \r\nz\r\n\" id=\"DejaVuSans-32\" transform=\"scale(0.015625)\"/>\r\n       </defs>\r\n       <use xlink:href=\"#DejaVuSans-30\"/>\r\n       <use x=\"63.623047\" xlink:href=\"#DejaVuSans-2e\"/>\r\n       <use x=\"95.410156\" xlink:href=\"#DejaVuSans-32\"/>\r\n      </g>\r\n     </g>\r\n    </g>\r\n    <g id=\"ytick_3\">\r\n     <g id=\"line2d_15\">\r\n      <path clip-path=\"url(#p9b01329b3a)\" d=\"M 43.78125 337.346696 \r\nL 1159.78125 337.346696 \r\n\" style=\"fill:none;stroke:#b0b0b0;stroke-linecap:square;stroke-width:0.8;\"/>\r\n     </g>\r\n     <g id=\"line2d_16\">\r\n      <g>\r\n       <use style=\"stroke:#000000;stroke-width:0.8;\" x=\"43.78125\" xlink:href=\"#m79abd2f4a7\" y=\"337.346696\"/>\r\n      </g>\r\n     </g>\r\n     <g id=\"text_9\">\r\n      <!-- 0.4 -->\r\n      <g transform=\"translate(20.878125 341.145915)scale(0.1 -0.1)\">\r\n       <defs>\r\n        <path d=\"M 2419 4116 \r\nL 825 1625 \r\nL 2419 1625 \r\nL 2419 4116 \r\nz\r\nM 2253 4666 \r\nL 3047 4666 \r\nL 3047 1625 \r\nL 3713 1625 \r\nL 3713 1100 \r\nL 3047 1100 \r\nL 3047 0 \r\nL 2419 0 \r\nL 2419 1100 \r\nL 313 1100 \r\nL 313 1709 \r\nL 2253 4666 \r\nz\r\n\" id=\"DejaVuSans-34\" transform=\"scale(0.015625)\"/>\r\n       </defs>\r\n       <use xlink:href=\"#DejaVuSans-30\"/>\r\n       <use x=\"63.623047\" xlink:href=\"#DejaVuSans-2e\"/>\r\n       <use x=\"95.410156\" xlink:href=\"#DejaVuSans-34\"/>\r\n      </g>\r\n     </g>\r\n    </g>\r\n    <g id=\"ytick_4\">\r\n     <g id=\"line2d_17\">\r\n      <path clip-path=\"url(#p9b01329b3a)\" d=\"M 43.78125 223.060982 \r\nL 1159.78125 223.060982 \r\n\" style=\"fill:none;stroke:#b0b0b0;stroke-linecap:square;stroke-width:0.8;\"/>\r\n     </g>\r\n     <g id=\"line2d_18\">\r\n      <g>\r\n       <use style=\"stroke:#000000;stroke-width:0.8;\" x=\"43.78125\" xlink:href=\"#m79abd2f4a7\" y=\"223.060982\"/>\r\n      </g>\r\n     </g>\r\n     <g id=\"text_10\">\r\n      <!-- 0.6 -->\r\n      <g transform=\"translate(20.878125 226.860201)scale(0.1 -0.1)\">\r\n       <defs>\r\n        <path d=\"M 2113 2584 \r\nQ 1688 2584 1439 2293 \r\nQ 1191 2003 1191 1497 \r\nQ 1191 994 1439 701 \r\nQ 1688 409 2113 409 \r\nQ 2538 409 2786 701 \r\nQ 3034 994 3034 1497 \r\nQ 3034 2003 2786 2293 \r\nQ 2538 2584 2113 2584 \r\nz\r\nM 3366 4563 \r\nL 3366 3988 \r\nQ 3128 4100 2886 4159 \r\nQ 2644 4219 2406 4219 \r\nQ 1781 4219 1451 3797 \r\nQ 1122 3375 1075 2522 \r\nQ 1259 2794 1537 2939 \r\nQ 1816 3084 2150 3084 \r\nQ 2853 3084 3261 2657 \r\nQ 3669 2231 3669 1497 \r\nQ 3669 778 3244 343 \r\nQ 2819 -91 2113 -91 \r\nQ 1303 -91 875 529 \r\nQ 447 1150 447 2328 \r\nQ 447 3434 972 4092 \r\nQ 1497 4750 2381 4750 \r\nQ 2619 4750 2861 4703 \r\nQ 3103 4656 3366 4563 \r\nz\r\n\" id=\"DejaVuSans-36\" transform=\"scale(0.015625)\"/>\r\n       </defs>\r\n       <use xlink:href=\"#DejaVuSans-30\"/>\r\n       <use x=\"63.623047\" xlink:href=\"#DejaVuSans-2e\"/>\r\n       <use x=\"95.410156\" xlink:href=\"#DejaVuSans-36\"/>\r\n      </g>\r\n     </g>\r\n    </g>\r\n    <g id=\"ytick_5\">\r\n     <g id=\"line2d_19\">\r\n      <path clip-path=\"url(#p9b01329b3a)\" d=\"M 43.78125 108.775268 \r\nL 1159.78125 108.775268 \r\n\" style=\"fill:none;stroke:#b0b0b0;stroke-linecap:square;stroke-width:0.8;\"/>\r\n     </g>\r\n     <g id=\"line2d_20\">\r\n      <g>\r\n       <use style=\"stroke:#000000;stroke-width:0.8;\" x=\"43.78125\" xlink:href=\"#m79abd2f4a7\" y=\"108.775268\"/>\r\n      </g>\r\n     </g>\r\n     <g id=\"text_11\">\r\n      <!-- 0.8 -->\r\n      <g transform=\"translate(20.878125 112.574487)scale(0.1 -0.1)\">\r\n       <defs>\r\n        <path d=\"M 2034 2216 \r\nQ 1584 2216 1326 1975 \r\nQ 1069 1734 1069 1313 \r\nQ 1069 891 1326 650 \r\nQ 1584 409 2034 409 \r\nQ 2484 409 2743 651 \r\nQ 3003 894 3003 1313 \r\nQ 3003 1734 2745 1975 \r\nQ 2488 2216 2034 2216 \r\nz\r\nM 1403 2484 \r\nQ 997 2584 770 2862 \r\nQ 544 3141 544 3541 \r\nQ 544 4100 942 4425 \r\nQ 1341 4750 2034 4750 \r\nQ 2731 4750 3128 4425 \r\nQ 3525 4100 3525 3541 \r\nQ 3525 3141 3298 2862 \r\nQ 3072 2584 2669 2484 \r\nQ 3125 2378 3379 2068 \r\nQ 3634 1759 3634 1313 \r\nQ 3634 634 3220 271 \r\nQ 2806 -91 2034 -91 \r\nQ 1263 -91 848 271 \r\nQ 434 634 434 1313 \r\nQ 434 1759 690 2068 \r\nQ 947 2378 1403 2484 \r\nz\r\nM 1172 3481 \r\nQ 1172 3119 1398 2916 \r\nQ 1625 2713 2034 2713 \r\nQ 2441 2713 2670 2916 \r\nQ 2900 3119 2900 3481 \r\nQ 2900 3844 2670 4047 \r\nQ 2441 4250 2034 4250 \r\nQ 1625 4250 1398 4047 \r\nQ 1172 3844 1172 3481 \r\nz\r\n\" id=\"DejaVuSans-38\" transform=\"scale(0.015625)\"/>\r\n       </defs>\r\n       <use xlink:href=\"#DejaVuSans-30\"/>\r\n       <use x=\"63.623047\" xlink:href=\"#DejaVuSans-2e\"/>\r\n       <use x=\"95.410156\" xlink:href=\"#DejaVuSans-38\"/>\r\n      </g>\r\n     </g>\r\n    </g>\r\n    <g id=\"text_12\">\r\n     <!-- Percentage Error [%] -->\r\n     <g transform=\"translate(14.798437 346.256406)rotate(-90)scale(0.1 -0.1)\">\r\n      <defs>\r\n       <path d=\"M 3122 3366 \r\nL 3122 2828 \r\nQ 2878 2963 2633 3030 \r\nQ 2388 3097 2138 3097 \r\nQ 1578 3097 1268 2742 \r\nQ 959 2388 959 1747 \r\nQ 959 1106 1268 751 \r\nQ 1578 397 2138 397 \r\nQ 2388 397 2633 464 \r\nQ 2878 531 3122 666 \r\nL 3122 134 \r\nQ 2881 22 2623 -34 \r\nQ 2366 -91 2075 -91 \r\nQ 1284 -91 818 406 \r\nQ 353 903 353 1747 \r\nQ 353 2603 823 3093 \r\nQ 1294 3584 2113 3584 \r\nQ 2378 3584 2631 3529 \r\nQ 2884 3475 3122 3366 \r\nz\r\n\" id=\"DejaVuSans-63\" transform=\"scale(0.015625)\"/>\r\n       <path d=\"M 2194 1759 \r\nQ 1497 1759 1228 1600 \r\nQ 959 1441 959 1056 \r\nQ 959 750 1161 570 \r\nQ 1363 391 1709 391 \r\nQ 2188 391 2477 730 \r\nQ 2766 1069 2766 1631 \r\nL 2766 1759 \r\nL 2194 1759 \r\nz\r\nM 3341 1997 \r\nL 3341 0 \r\nL 2766 0 \r\nL 2766 531 \r\nQ 2569 213 2275 61 \r\nQ 1981 -91 1556 -91 \r\nQ 1019 -91 701 211 \r\nQ 384 513 384 1019 \r\nQ 384 1609 779 1909 \r\nQ 1175 2209 1959 2209 \r\nL 2766 2209 \r\nL 2766 2266 \r\nQ 2766 2663 2505 2880 \r\nQ 2244 3097 1772 3097 \r\nQ 1472 3097 1187 3025 \r\nQ 903 2953 641 2809 \r\nL 641 3341 \r\nQ 956 3463 1253 3523 \r\nQ 1550 3584 1831 3584 \r\nQ 2591 3584 2966 3190 \r\nQ 3341 2797 3341 1997 \r\nz\r\n\" id=\"DejaVuSans-61\" transform=\"scale(0.015625)\"/>\r\n       <path d=\"M 2906 1791 \r\nQ 2906 2416 2648 2759 \r\nQ 2391 3103 1925 3103 \r\nQ 1463 3103 1205 2759 \r\nQ 947 2416 947 1791 \r\nQ 947 1169 1205 825 \r\nQ 1463 481 1925 481 \r\nQ 2391 481 2648 825 \r\nQ 2906 1169 2906 1791 \r\nz\r\nM 3481 434 \r\nQ 3481 -459 3084 -895 \r\nQ 2688 -1331 1869 -1331 \r\nQ 1566 -1331 1297 -1286 \r\nQ 1028 -1241 775 -1147 \r\nL 775 -588 \r\nQ 1028 -725 1275 -790 \r\nQ 1522 -856 1778 -856 \r\nQ 2344 -856 2625 -561 \r\nQ 2906 -266 2906 331 \r\nL 2906 616 \r\nQ 2728 306 2450 153 \r\nQ 2172 0 1784 0 \r\nQ 1141 0 747 490 \r\nQ 353 981 353 1791 \r\nQ 353 2603 747 3093 \r\nQ 1141 3584 1784 3584 \r\nQ 2172 3584 2450 3431 \r\nQ 2728 3278 2906 2969 \r\nL 2906 3500 \r\nL 3481 3500 \r\nL 3481 434 \r\nz\r\n\" id=\"DejaVuSans-67\" transform=\"scale(0.015625)\"/>\r\n       <path id=\"DejaVuSans-20\" transform=\"scale(0.015625)\"/>\r\n       <path d=\"M 550 4863 \r\nL 1875 4863 \r\nL 1875 4416 \r\nL 1125 4416 \r\nL 1125 -397 \r\nL 1875 -397 \r\nL 1875 -844 \r\nL 550 -844 \r\nL 550 4863 \r\nz\r\n\" id=\"DejaVuSans-5b\" transform=\"scale(0.015625)\"/>\r\n       <path d=\"M 4653 2053 \r\nQ 4381 2053 4226 1822 \r\nQ 4072 1591 4072 1178 \r\nQ 4072 772 4226 539 \r\nQ 4381 306 4653 306 \r\nQ 4919 306 5073 539 \r\nQ 5228 772 5228 1178 \r\nQ 5228 1588 5073 1820 \r\nQ 4919 2053 4653 2053 \r\nz\r\nM 4653 2450 \r\nQ 5147 2450 5437 2106 \r\nQ 5728 1763 5728 1178 \r\nQ 5728 594 5436 251 \r\nQ 5144 -91 4653 -91 \r\nQ 4153 -91 3862 251 \r\nQ 3572 594 3572 1178 \r\nQ 3572 1766 3864 2108 \r\nQ 4156 2450 4653 2450 \r\nz\r\nM 1428 4353 \r\nQ 1159 4353 1004 4120 \r\nQ 850 3888 850 3481 \r\nQ 850 3069 1003 2837 \r\nQ 1156 2606 1428 2606 \r\nQ 1700 2606 1854 2837 \r\nQ 2009 3069 2009 3481 \r\nQ 2009 3884 1853 4118 \r\nQ 1697 4353 1428 4353 \r\nz\r\nM 4250 4750 \r\nL 4750 4750 \r\nL 1831 -91 \r\nL 1331 -91 \r\nL 4250 4750 \r\nz\r\nM 1428 4750 \r\nQ 1922 4750 2215 4408 \r\nQ 2509 4066 2509 3481 \r\nQ 2509 2891 2217 2550 \r\nQ 1925 2209 1428 2209 \r\nQ 931 2209 642 2551 \r\nQ 353 2894 353 3481 \r\nQ 353 4063 643 4406 \r\nQ 934 4750 1428 4750 \r\nz\r\n\" id=\"DejaVuSans-25\" transform=\"scale(0.015625)\"/>\r\n       <path d=\"M 1947 4863 \r\nL 1947 -844 \r\nL 622 -844 \r\nL 622 -397 \r\nL 1369 -397 \r\nL 1369 4416 \r\nL 622 4416 \r\nL 622 4863 \r\nL 1947 4863 \r\nz\r\n\" id=\"DejaVuSans-5d\" transform=\"scale(0.015625)\"/>\r\n      </defs>\r\n      <use xlink:href=\"#DejaVuSans-50\"/>\r\n      <use x=\"56.677734\" xlink:href=\"#DejaVuSans-65\"/>\r\n      <use x=\"118.201172\" xlink:href=\"#DejaVuSans-72\"/>\r\n      <use x=\"157.064453\" xlink:href=\"#DejaVuSans-63\"/>\r\n      <use x=\"212.044922\" xlink:href=\"#DejaVuSans-65\"/>\r\n      <use x=\"273.568359\" xlink:href=\"#DejaVuSans-6e\"/>\r\n      <use x=\"336.947266\" xlink:href=\"#DejaVuSans-74\"/>\r\n      <use x=\"376.15625\" xlink:href=\"#DejaVuSans-61\"/>\r\n      <use x=\"437.435547\" xlink:href=\"#DejaVuSans-67\"/>\r\n      <use x=\"500.912109\" xlink:href=\"#DejaVuSans-65\"/>\r\n      <use x=\"562.435547\" xlink:href=\"#DejaVuSans-20\"/>\r\n      <use x=\"594.222656\" xlink:href=\"#DejaVuSans-45\"/>\r\n      <use x=\"657.40625\" xlink:href=\"#DejaVuSans-72\"/>\r\n      <use x=\"696.769531\" xlink:href=\"#DejaVuSans-72\"/>\r\n      <use x=\"735.632812\" xlink:href=\"#DejaVuSans-6f\"/>\r\n      <use x=\"796.814453\" xlink:href=\"#DejaVuSans-72\"/>\r\n      <use x=\"837.927734\" xlink:href=\"#DejaVuSans-20\"/>\r\n      <use x=\"869.714844\" xlink:href=\"#DejaVuSans-5b\"/>\r\n      <use x=\"908.728516\" xlink:href=\"#DejaVuSans-25\"/>\r\n      <use x=\"1003.748047\" xlink:href=\"#DejaVuSans-5d\"/>\r\n     </g>\r\n    </g>\r\n   </g>\r\n   <g id=\"patch_18\">\r\n    <path d=\"M 43.78125 565.918125 \r\nL 43.78125 22.318125 \r\n\" style=\"fill:none;stroke:#000000;stroke-linecap:square;stroke-linejoin:miter;stroke-width:0.8;\"/>\r\n   </g>\r\n   <g id=\"patch_19\">\r\n    <path d=\"M 1159.78125 565.918125 \r\nL 1159.78125 22.318125 \r\n\" style=\"fill:none;stroke:#000000;stroke-linecap:square;stroke-linejoin:miter;stroke-width:0.8;\"/>\r\n   </g>\r\n   <g id=\"patch_20\">\r\n    <path d=\"M 43.78125 565.918125 \r\nL 1159.78125 565.918125 \r\n\" style=\"fill:none;stroke:#000000;stroke-linecap:square;stroke-linejoin:miter;stroke-width:0.8;\"/>\r\n   </g>\r\n   <g id=\"patch_21\">\r\n    <path d=\"M 43.78125 22.318125 \r\nL 1159.78125 22.318125 \r\n\" style=\"fill:none;stroke:#000000;stroke-linecap:square;stroke-linejoin:miter;stroke-width:0.8;\"/>\r\n   </g>\r\n   <g id=\"text_13\">\r\n    <!-- Validation results of missing observations filling model -->\r\n    <g transform=\"translate(438.105 16.318125)scale(0.12 -0.12)\">\r\n     <defs>\r\n      <path d=\"M 1831 0 \r\nL 50 4666 \r\nL 709 4666 \r\nL 2188 738 \r\nL 3669 4666 \r\nL 4325 4666 \r\nL 2547 0 \r\nL 1831 0 \r\nz\r\n\" id=\"DejaVuSans-56\" transform=\"scale(0.015625)\"/>\r\n      <path d=\"M 603 4863 \r\nL 1178 4863 \r\nL 1178 0 \r\nL 603 0 \r\nL 603 4863 \r\nz\r\n\" id=\"DejaVuSans-6c\" transform=\"scale(0.015625)\"/>\r\n      <path d=\"M 2906 2969 \r\nL 2906 4863 \r\nL 3481 4863 \r\nL 3481 0 \r\nL 2906 0 \r\nL 2906 525 \r\nQ 2725 213 2448 61 \r\nQ 2172 -91 1784 -91 \r\nQ 1150 -91 751 415 \r\nQ 353 922 353 1747 \r\nQ 353 2572 751 3078 \r\nQ 1150 3584 1784 3584 \r\nQ 2172 3584 2448 3432 \r\nQ 2725 3281 2906 2969 \r\nz\r\nM 947 1747 \r\nQ 947 1113 1208 752 \r\nQ 1469 391 1925 391 \r\nQ 2381 391 2643 752 \r\nQ 2906 1113 2906 1747 \r\nQ 2906 2381 2643 2742 \r\nQ 2381 3103 1925 3103 \r\nQ 1469 3103 1208 2742 \r\nQ 947 2381 947 1747 \r\nz\r\n\" id=\"DejaVuSans-64\" transform=\"scale(0.015625)\"/>\r\n      <path d=\"M 2375 4863 \r\nL 2375 4384 \r\nL 1825 4384 \r\nQ 1516 4384 1395 4259 \r\nQ 1275 4134 1275 3809 \r\nL 1275 3500 \r\nL 2222 3500 \r\nL 2222 3053 \r\nL 1275 3053 \r\nL 1275 0 \r\nL 697 0 \r\nL 697 3053 \r\nL 147 3053 \r\nL 147 3500 \r\nL 697 3500 \r\nL 697 3744 \r\nQ 697 4328 969 4595 \r\nQ 1241 4863 1831 4863 \r\nL 2375 4863 \r\nz\r\n\" id=\"DejaVuSans-66\" transform=\"scale(0.015625)\"/>\r\n      <path d=\"M 3328 2828 \r\nQ 3544 3216 3844 3400 \r\nQ 4144 3584 4550 3584 \r\nQ 5097 3584 5394 3201 \r\nQ 5691 2819 5691 2113 \r\nL 5691 0 \r\nL 5113 0 \r\nL 5113 2094 \r\nQ 5113 2597 4934 2840 \r\nQ 4756 3084 4391 3084 \r\nQ 3944 3084 3684 2787 \r\nQ 3425 2491 3425 1978 \r\nL 3425 0 \r\nL 2847 0 \r\nL 2847 2094 \r\nQ 2847 2600 2669 2842 \r\nQ 2491 3084 2119 3084 \r\nQ 1678 3084 1418 2786 \r\nQ 1159 2488 1159 1978 \r\nL 1159 0 \r\nL 581 0 \r\nL 581 3500 \r\nL 1159 3500 \r\nL 1159 2956 \r\nQ 1356 3278 1631 3431 \r\nQ 1906 3584 2284 3584 \r\nQ 2666 3584 2933 3390 \r\nQ 3200 3197 3328 2828 \r\nz\r\n\" id=\"DejaVuSans-6d\" transform=\"scale(0.015625)\"/>\r\n      <path d=\"M 3116 1747 \r\nQ 3116 2381 2855 2742 \r\nQ 2594 3103 2138 3103 \r\nQ 1681 3103 1420 2742 \r\nQ 1159 2381 1159 1747 \r\nQ 1159 1113 1420 752 \r\nQ 1681 391 2138 391 \r\nQ 2594 391 2855 752 \r\nQ 3116 1113 3116 1747 \r\nz\r\nM 1159 2969 \r\nQ 1341 3281 1617 3432 \r\nQ 1894 3584 2278 3584 \r\nQ 2916 3584 3314 3078 \r\nQ 3713 2572 3713 1747 \r\nQ 3713 922 3314 415 \r\nQ 2916 -91 2278 -91 \r\nQ 1894 -91 1617 61 \r\nQ 1341 213 1159 525 \r\nL 1159 0 \r\nL 581 0 \r\nL 581 4863 \r\nL 1159 4863 \r\nL 1159 2969 \r\nz\r\n\" id=\"DejaVuSans-62\" transform=\"scale(0.015625)\"/>\r\n      <path d=\"M 191 3500 \r\nL 800 3500 \r\nL 1894 563 \r\nL 2988 3500 \r\nL 3597 3500 \r\nL 2284 0 \r\nL 1503 0 \r\nL 191 3500 \r\nz\r\n\" id=\"DejaVuSans-76\" transform=\"scale(0.015625)\"/>\r\n     </defs>\r\n     <use xlink:href=\"#DejaVuSans-56\"/>\r\n     <use x=\"60.658203\" xlink:href=\"#DejaVuSans-61\"/>\r\n     <use x=\"121.9375\" xlink:href=\"#DejaVuSans-6c\"/>\r\n     <use x=\"149.720703\" xlink:href=\"#DejaVuSans-69\"/>\r\n     <use x=\"177.503906\" xlink:href=\"#DejaVuSans-64\"/>\r\n     <use x=\"240.980469\" xlink:href=\"#DejaVuSans-61\"/>\r\n     <use x=\"302.259766\" xlink:href=\"#DejaVuSans-74\"/>\r\n     <use x=\"341.46875\" xlink:href=\"#DejaVuSans-69\"/>\r\n     <use x=\"369.251953\" xlink:href=\"#DejaVuSans-6f\"/>\r\n     <use x=\"430.433594\" xlink:href=\"#DejaVuSans-6e\"/>\r\n     <use x=\"493.8125\" xlink:href=\"#DejaVuSans-20\"/>\r\n     <use x=\"525.599609\" xlink:href=\"#DejaVuSans-72\"/>\r\n     <use x=\"564.462891\" xlink:href=\"#DejaVuSans-65\"/>\r\n     <use x=\"625.986328\" xlink:href=\"#DejaVuSans-73\"/>\r\n     <use x=\"678.085938\" xlink:href=\"#DejaVuSans-75\"/>\r\n     <use x=\"741.464844\" xlink:href=\"#DejaVuSans-6c\"/>\r\n     <use x=\"769.248047\" xlink:href=\"#DejaVuSans-74\"/>\r\n     <use x=\"808.457031\" xlink:href=\"#DejaVuSans-73\"/>\r\n     <use x=\"860.556641\" xlink:href=\"#DejaVuSans-20\"/>\r\n     <use x=\"892.34375\" xlink:href=\"#DejaVuSans-6f\"/>\r\n     <use x=\"953.525391\" xlink:href=\"#DejaVuSans-66\"/>\r\n     <use x=\"988.730469\" xlink:href=\"#DejaVuSans-20\"/>\r\n     <use x=\"1020.517578\" xlink:href=\"#DejaVuSans-6d\"/>\r\n     <use x=\"1117.929688\" xlink:href=\"#DejaVuSans-69\"/>\r\n     <use x=\"1145.712891\" xlink:href=\"#DejaVuSans-73\"/>\r\n     <use x=\"1197.8125\" xlink:href=\"#DejaVuSans-73\"/>\r\n     <use x=\"1249.912109\" xlink:href=\"#DejaVuSans-69\"/>\r\n     <use x=\"1277.695312\" xlink:href=\"#DejaVuSans-6e\"/>\r\n     <use x=\"1341.074219\" xlink:href=\"#DejaVuSans-67\"/>\r\n     <use x=\"1404.550781\" xlink:href=\"#DejaVuSans-20\"/>\r\n     <use x=\"1436.337891\" xlink:href=\"#DejaVuSans-6f\"/>\r\n     <use x=\"1497.519531\" xlink:href=\"#DejaVuSans-62\"/>\r\n     <use x=\"1560.996094\" xlink:href=\"#DejaVuSans-73\"/>\r\n     <use x=\"1613.095703\" xlink:href=\"#DejaVuSans-65\"/>\r\n     <use x=\"1674.619141\" xlink:href=\"#DejaVuSans-72\"/>\r\n     <use x=\"1715.732422\" xlink:href=\"#DejaVuSans-76\"/>\r\n     <use x=\"1774.912109\" xlink:href=\"#DejaVuSans-61\"/>\r\n     <use x=\"1836.191406\" xlink:href=\"#DejaVuSans-74\"/>\r\n     <use x=\"1875.400391\" xlink:href=\"#DejaVuSans-69\"/>\r\n     <use x=\"1903.183594\" xlink:href=\"#DejaVuSans-6f\"/>\r\n     <use x=\"1964.365234\" xlink:href=\"#DejaVuSans-6e\"/>\r\n     <use x=\"2027.744141\" xlink:href=\"#DejaVuSans-73\"/>\r\n     <use x=\"2079.84375\" xlink:href=\"#DejaVuSans-20\"/>\r\n     <use x=\"2111.630859\" xlink:href=\"#DejaVuSans-66\"/>\r\n     <use x=\"2146.835938\" xlink:href=\"#DejaVuSans-69\"/>\r\n     <use x=\"2174.619141\" xlink:href=\"#DejaVuSans-6c\"/>\r\n     <use x=\"2202.402344\" xlink:href=\"#DejaVuSans-6c\"/>\r\n     <use x=\"2230.185547\" xlink:href=\"#DejaVuSans-69\"/>\r\n     <use x=\"2257.96875\" xlink:href=\"#DejaVuSans-6e\"/>\r\n     <use x=\"2321.347656\" xlink:href=\"#DejaVuSans-67\"/>\r\n     <use x=\"2384.824219\" xlink:href=\"#DejaVuSans-20\"/>\r\n     <use x=\"2416.611328\" xlink:href=\"#DejaVuSans-6d\"/>\r\n     <use x=\"2514.023438\" xlink:href=\"#DejaVuSans-6f\"/>\r\n     <use x=\"2575.205078\" xlink:href=\"#DejaVuSans-64\"/>\r\n     <use x=\"2638.681641\" xlink:href=\"#DejaVuSans-65\"/>\r\n     <use x=\"2700.205078\" xlink:href=\"#DejaVuSans-6c\"/>\r\n    </g>\r\n   </g>\r\n   <g id=\"legend_1\">\r\n    <g id=\"patch_22\">\r\n     <path d=\"M 50.78125 74.3525 \r\nL 246.154688 74.3525 \r\nQ 248.154688 74.3525 248.154688 72.3525 \r\nL 248.154688 29.318125 \r\nQ 248.154688 27.318125 246.154688 27.318125 \r\nL 50.78125 27.318125 \r\nQ 48.78125 27.318125 48.78125 29.318125 \r\nL 48.78125 72.3525 \r\nQ 48.78125 74.3525 50.78125 74.3525 \r\nz\r\n\" style=\"fill:#ffffff;opacity:0.8;stroke:#cccccc;stroke-linejoin:miter;\"/>\r\n    </g>\r\n    <g id=\"patch_23\">\r\n     <path d=\"M 52.78125 38.916562 \r\nL 72.78125 38.916562 \r\nL 72.78125 31.916562 \r\nL 52.78125 31.916562 \r\nz\r\n\" style=\"fill:#1f77b4;\"/>\r\n    </g>\r\n    <g id=\"text_14\">\r\n     <!-- Actual Total Load -->\r\n     <g transform=\"translate(80.78125 38.916562)scale(0.1 -0.1)\">\r\n      <defs>\r\n       <path d=\"M 628 4666 \r\nL 1259 4666 \r\nL 1259 531 \r\nL 3531 531 \r\nL 3531 0 \r\nL 628 0 \r\nL 628 4666 \r\nz\r\n\" id=\"DejaVuSans-4c\" transform=\"scale(0.015625)\"/>\r\n      </defs>\r\n      <use xlink:href=\"#DejaVuSans-41\"/>\r\n      <use x=\"66.658203\" xlink:href=\"#DejaVuSans-63\"/>\r\n      <use x=\"121.638672\" xlink:href=\"#DejaVuSans-74\"/>\r\n      <use x=\"160.847656\" xlink:href=\"#DejaVuSans-75\"/>\r\n      <use x=\"224.226562\" xlink:href=\"#DejaVuSans-61\"/>\r\n      <use x=\"285.505859\" xlink:href=\"#DejaVuSans-6c\"/>\r\n      <use x=\"313.289062\" xlink:href=\"#DejaVuSans-20\"/>\r\n      <use x=\"345.076172\" xlink:href=\"#DejaVuSans-54\"/>\r\n      <use x=\"389.160156\" xlink:href=\"#DejaVuSans-6f\"/>\r\n      <use x=\"450.341797\" xlink:href=\"#DejaVuSans-74\"/>\r\n      <use x=\"489.550781\" xlink:href=\"#DejaVuSans-61\"/>\r\n      <use x=\"550.830078\" xlink:href=\"#DejaVuSans-6c\"/>\r\n      <use x=\"578.613281\" xlink:href=\"#DejaVuSans-20\"/>\r\n      <use x=\"610.400391\" xlink:href=\"#DejaVuSans-4c\"/>\r\n      <use x=\"664.363281\" xlink:href=\"#DejaVuSans-6f\"/>\r\n      <use x=\"725.544922\" xlink:href=\"#DejaVuSans-61\"/>\r\n      <use x=\"786.824219\" xlink:href=\"#DejaVuSans-64\"/>\r\n     </g>\r\n    </g>\r\n    <g id=\"patch_24\">\r\n     <path d=\"M 52.78125 53.594687 \r\nL 72.78125 53.594687 \r\nL 72.78125 46.594687 \r\nL 52.78125 46.594687 \r\nz\r\n\" style=\"fill:#ff7f0e;\"/>\r\n    </g>\r\n    <g id=\"text_15\">\r\n     <!-- Aggregated Generation per Type -->\r\n     <g transform=\"translate(80.78125 53.594687)scale(0.1 -0.1)\">\r\n      <defs>\r\n       <path d=\"M 3809 666 \r\nL 3809 1919 \r\nL 2778 1919 \r\nL 2778 2438 \r\nL 4434 2438 \r\nL 4434 434 \r\nQ 4069 175 3628 42 \r\nQ 3188 -91 2688 -91 \r\nQ 1594 -91 976 548 \r\nQ 359 1188 359 2328 \r\nQ 359 3472 976 4111 \r\nQ 1594 4750 2688 4750 \r\nQ 3144 4750 3555 4637 \r\nQ 3966 4525 4313 4306 \r\nL 4313 3634 \r\nQ 3963 3931 3569 4081 \r\nQ 3175 4231 2741 4231 \r\nQ 1884 4231 1454 3753 \r\nQ 1025 3275 1025 2328 \r\nQ 1025 1384 1454 906 \r\nQ 1884 428 2741 428 \r\nQ 3075 428 3337 486 \r\nQ 3600 544 3809 666 \r\nz\r\n\" id=\"DejaVuSans-47\" transform=\"scale(0.015625)\"/>\r\n       <path d=\"M 1159 525 \r\nL 1159 -1331 \r\nL 581 -1331 \r\nL 581 3500 \r\nL 1159 3500 \r\nL 1159 2969 \r\nQ 1341 3281 1617 3432 \r\nQ 1894 3584 2278 3584 \r\nQ 2916 3584 3314 3078 \r\nQ 3713 2572 3713 1747 \r\nQ 3713 922 3314 415 \r\nQ 2916 -91 2278 -91 \r\nQ 1894 -91 1617 61 \r\nQ 1341 213 1159 525 \r\nz\r\nM 3116 1747 \r\nQ 3116 2381 2855 2742 \r\nQ 2594 3103 2138 3103 \r\nQ 1681 3103 1420 2742 \r\nQ 1159 2381 1159 1747 \r\nQ 1159 1113 1420 752 \r\nQ 1681 391 2138 391 \r\nQ 2594 391 2855 752 \r\nQ 3116 1113 3116 1747 \r\nz\r\n\" id=\"DejaVuSans-70\" transform=\"scale(0.015625)\"/>\r\n       <path d=\"M 2059 -325 \r\nQ 1816 -950 1584 -1140 \r\nQ 1353 -1331 966 -1331 \r\nL 506 -1331 \r\nL 506 -850 \r\nL 844 -850 \r\nQ 1081 -850 1212 -737 \r\nQ 1344 -625 1503 -206 \r\nL 1606 56 \r\nL 191 3500 \r\nL 800 3500 \r\nL 1894 763 \r\nL 2988 3500 \r\nL 3597 3500 \r\nL 2059 -325 \r\nz\r\n\" id=\"DejaVuSans-79\" transform=\"scale(0.015625)\"/>\r\n      </defs>\r\n      <use xlink:href=\"#DejaVuSans-41\"/>\r\n      <use x=\"68.408203\" xlink:href=\"#DejaVuSans-67\"/>\r\n      <use x=\"131.884766\" xlink:href=\"#DejaVuSans-67\"/>\r\n      <use x=\"195.361328\" xlink:href=\"#DejaVuSans-72\"/>\r\n      <use x=\"234.224609\" xlink:href=\"#DejaVuSans-65\"/>\r\n      <use x=\"295.748047\" xlink:href=\"#DejaVuSans-67\"/>\r\n      <use x=\"359.224609\" xlink:href=\"#DejaVuSans-61\"/>\r\n      <use x=\"420.503906\" xlink:href=\"#DejaVuSans-74\"/>\r\n      <use x=\"459.712891\" xlink:href=\"#DejaVuSans-65\"/>\r\n      <use x=\"521.236328\" xlink:href=\"#DejaVuSans-64\"/>\r\n      <use x=\"584.712891\" xlink:href=\"#DejaVuSans-20\"/>\r\n      <use x=\"616.5\" xlink:href=\"#DejaVuSans-47\"/>\r\n      <use x=\"693.990234\" xlink:href=\"#DejaVuSans-65\"/>\r\n      <use x=\"755.513672\" xlink:href=\"#DejaVuSans-6e\"/>\r\n      <use x=\"818.892578\" xlink:href=\"#DejaVuSans-65\"/>\r\n      <use x=\"880.416016\" xlink:href=\"#DejaVuSans-72\"/>\r\n      <use x=\"921.529297\" xlink:href=\"#DejaVuSans-61\"/>\r\n      <use x=\"982.808594\" xlink:href=\"#DejaVuSans-74\"/>\r\n      <use x=\"1022.017578\" xlink:href=\"#DejaVuSans-69\"/>\r\n      <use x=\"1049.800781\" xlink:href=\"#DejaVuSans-6f\"/>\r\n      <use x=\"1110.982422\" xlink:href=\"#DejaVuSans-6e\"/>\r\n      <use x=\"1174.361328\" xlink:href=\"#DejaVuSans-20\"/>\r\n      <use x=\"1206.148438\" xlink:href=\"#DejaVuSans-70\"/>\r\n      <use x=\"1269.625\" xlink:href=\"#DejaVuSans-65\"/>\r\n      <use x=\"1331.148438\" xlink:href=\"#DejaVuSans-72\"/>\r\n      <use x=\"1372.261719\" xlink:href=\"#DejaVuSans-20\"/>\r\n      <use x=\"1404.048828\" xlink:href=\"#DejaVuSans-54\"/>\r\n      <use x=\"1449.507812\" xlink:href=\"#DejaVuSans-79\"/>\r\n      <use x=\"1508.6875\" xlink:href=\"#DejaVuSans-70\"/>\r\n      <use x=\"1572.164062\" xlink:href=\"#DejaVuSans-65\"/>\r\n     </g>\r\n    </g>\r\n    <g id=\"patch_25\">\r\n     <path d=\"M 52.78125 68.272812 \r\nL 72.78125 68.272812 \r\nL 72.78125 61.272812 \r\nL 52.78125 61.272812 \r\nz\r\n\" style=\"fill:#2ca02c;\"/>\r\n    </g>\r\n    <g id=\"text_16\">\r\n     <!-- Physical Flow -->\r\n     <g transform=\"translate(80.78125 68.272812)scale(0.1 -0.1)\">\r\n      <defs>\r\n       <path d=\"M 3513 2113 \r\nL 3513 0 \r\nL 2938 0 \r\nL 2938 2094 \r\nQ 2938 2591 2744 2837 \r\nQ 2550 3084 2163 3084 \r\nQ 1697 3084 1428 2787 \r\nQ 1159 2491 1159 1978 \r\nL 1159 0 \r\nL 581 0 \r\nL 581 4863 \r\nL 1159 4863 \r\nL 1159 2956 \r\nQ 1366 3272 1645 3428 \r\nQ 1925 3584 2291 3584 \r\nQ 2894 3584 3203 3211 \r\nQ 3513 2838 3513 2113 \r\nz\r\n\" id=\"DejaVuSans-68\" transform=\"scale(0.015625)\"/>\r\n       <path d=\"M 628 4666 \r\nL 3309 4666 \r\nL 3309 4134 \r\nL 1259 4134 \r\nL 1259 2759 \r\nL 3109 2759 \r\nL 3109 2228 \r\nL 1259 2228 \r\nL 1259 0 \r\nL 628 0 \r\nL 628 4666 \r\nz\r\n\" id=\"DejaVuSans-46\" transform=\"scale(0.015625)\"/>\r\n       <path d=\"M 269 3500 \r\nL 844 3500 \r\nL 1563 769 \r\nL 2278 3500 \r\nL 2956 3500 \r\nL 3675 769 \r\nL 4391 3500 \r\nL 4966 3500 \r\nL 4050 0 \r\nL 3372 0 \r\nL 2619 2869 \r\nL 1863 0 \r\nL 1184 0 \r\nL 269 3500 \r\nz\r\n\" id=\"DejaVuSans-77\" transform=\"scale(0.015625)\"/>\r\n      </defs>\r\n      <use xlink:href=\"#DejaVuSans-50\"/>\r\n      <use x=\"60.302734\" xlink:href=\"#DejaVuSans-68\"/>\r\n      <use x=\"123.681641\" xlink:href=\"#DejaVuSans-79\"/>\r\n      <use x=\"182.861328\" xlink:href=\"#DejaVuSans-73\"/>\r\n      <use x=\"234.960938\" xlink:href=\"#DejaVuSans-69\"/>\r\n      <use x=\"262.744141\" xlink:href=\"#DejaVuSans-63\"/>\r\n      <use x=\"317.724609\" xlink:href=\"#DejaVuSans-61\"/>\r\n      <use x=\"379.003906\" xlink:href=\"#DejaVuSans-6c\"/>\r\n      <use x=\"406.787109\" xlink:href=\"#DejaVuSans-20\"/>\r\n      <use x=\"438.574219\" xlink:href=\"#DejaVuSans-46\"/>\r\n      <use x=\"496.09375\" xlink:href=\"#DejaVuSans-6c\"/>\r\n      <use x=\"523.876953\" xlink:href=\"#DejaVuSans-6f\"/>\r\n      <use x=\"585.058594\" xlink:href=\"#DejaVuSans-77\"/>\r\n     </g>\r\n    </g>\r\n   </g>\r\n  </g>\r\n </g>\r\n <defs>\r\n  <clipPath id=\"p9b01329b3a\">\r\n   <rect height=\"543.6\" width=\"1116\" x=\"43.78125\" y=\"22.318125\"/>\r\n  </clipPath>\r\n </defs>\r\n</svg>\r\n",
      "image/png": "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"
     },
     "metadata": {
      "needs_background": "light"
     }
    }
   ],
=======
   "execution_count": null,
   "source": [
    "inconsistency_in_generation = ii.inconcistencies_generation_data()\r\n"
   ],
   "outputs": [],
>>>>>>> ac7687d690a410fc6bb9065c8fe5e295d4acb087
   "metadata": {}
  },
  {
   "cell_type": "markdown",
   "source": [
<<<<<<< HEAD
    "# 3. Consolidation based on internal data"
=======
    "# 4. Consolidation based on internal data"
>>>>>>> ac7687d690a410fc6bb9065c8fe5e295d4acb087
   ],
   "metadata": {}
  },
  {
   "cell_type": "markdown",
   "source": [
    "## 3.1 Obtaining consolidated ENTSO-E data using Nearest Neighbours Mean Approach"
   ],
   "metadata": {}
  },
  {
   "cell_type": "markdown",
   "source": [
    "### !!! This step takes about 14 minutes to complete in an Intel I5 processor with 8 GB Ram"
   ],
   "metadata": {}
  },
  {
   "cell_type": "code",
   "execution_count": null,
   "source": [
    "# ii.consolidation(countries, 'Nearest Neighbours Mean')\r\n"
   ],
   "outputs": [],
   "metadata": {}
  },
  {
   "cell_type": "markdown",
   "source": [
    "## 3.2 Obtaining consolidated data using Polynomial Linear Regression"
   ],
   "metadata": {}
  },
  {
   "cell_type": "markdown",
   "source": [
    "### !!! This step takes about 40 minutes to complete in an Intel I5 processor with 8 GB Ram"
   ],
   "metadata": {}
  },
  {
   "cell_type": "code",
   "execution_count": null,
   "source": [
    "# ii.consolidation(countries, 'Polynomial Linear Regression')\r\n"
   ],
   "outputs": [],
   "metadata": {}
  },
  {
   "cell_type": "markdown",
   "source": [
<<<<<<< HEAD
    "## 3.3 Obtaining consolidated ENTSO-E data using Internal Sigma Approach"
=======
    "## 4.3 Obtaining consolidated ENTSO-E data using Internal Sigma Approach"
>>>>>>> ac7687d690a410fc6bb9065c8fe5e295d4acb087
   ],
   "metadata": {}
  },
  {
   "cell_type": "markdown",
   "source": [
<<<<<<< HEAD
    "### !!! This step takes about 2 hours to complete in an Intel I5 processor with 8 GB Ram\r\n",
    "### Licensed Gurobi Optimizer is required"
=======
    "### !!! This step takes about 2 hours to complete in an Intel I5 processor with 8 GB Ram"
>>>>>>> ac7687d690a410fc6bb9065c8fe5e295d4acb087
   ],
   "metadata": {}
  },
  {
   "cell_type": "code",
   "execution_count": 3,
   "source": [
    "load_dic = {}\r\n",
    "generation_dic = {}\r\n",
    "transmission_data = pd.DataFrame()\r\n",
    "\r\n",
    "for abbr in abbr_list:\r\n",
    "    load_dic[abbr] = pd.read_csv(f'../Data Sources/output/Polynomial Linear Regression/Load/{abbr}.csv').iloc[:,1:]\r\n",
    "    generation_dic[abbr] = pd.read_csv(f'../Data Sources/output/Polynomial Linear Regression/Generation/{abbr}.csv').iloc[:,1:]\r\n",
    "transmission_data = pd.read_csv(f'../Data Sources/output//Polynomial Linear Regression/Transmission/all_transmissions.csv').iloc[:, 1:]"
   ],
   "outputs": [],
   "metadata": {}
  },
  {
   "cell_type": "code",
   "execution_count": 4,
   "source": [
    "load_dic_copy = copy.deepcopy(load_dic) \r\n",
    "generation_dic_copy = copy.deepcopy(generation_dic)\r\n",
    "transmission_data_copy = copy.deepcopy(transmission_data)\r\n",
    "consolidated_gen_data, consolidated_load_data, consolidated_transmission_data = ii.sigma(load_dic_copy, generation_dic_copy, transmission_data_copy, countries)\r\n"
   ],
   "outputs": [
    {
     "output_type": "stream",
     "name": "stdout",
     "text": [
      "SIGMA CALCULATED\n",
      "VARIABLES DECLARED\n",
      "Academic license - for non-commercial use only - expires 2021-09-28\n",
      "Using license file C:\\Users\\lovin\\gurobi.lic\n",
      "OPTIMIZATION COMPLETED\n"
     ]
    },
    {
     "output_type": "stream",
     "name": "stderr",
     "text": [
      "<string>:22: SettingWithCopyWarning: \n",
      "A value is trying to be set on a copy of a slice from a DataFrame.\n",
      "Try using .loc[row_indexer,col_indexer] = value instead\n",
      "\n",
      "See the caveats in the documentation: https://pandas.pydata.org/pandas-docs/stable/user_guide/indexing.html#returning-a-view-versus-a-copy\n"
     ]
    }
   ],
   "metadata": {}
  },
  {
   "cell_type": "markdown",
   "source": [
<<<<<<< HEAD
    "## 3.2 Mismatch analysis in the consolidated ENTSO-E data"
=======
    "## 4.2 Mismatch analysis in the consolidated ENTSO-E data"
>>>>>>> ac7687d690a410fc6bb9065c8fe5e295d4acb087
   ],
   "metadata": {}
  },
  {
   "cell_type": "markdown",
   "source": [
<<<<<<< HEAD
    "### 3.2.1 Mismatch analysis in all 27 countries"
=======
    "### 4.2.1 Mismatch analysis in all 27 countries"
>>>>>>> ac7687d690a410fc6bb9065c8fe5e295d4acb087
   ],
   "metadata": {}
  },
  {
   "cell_type": "code",
   "execution_count": null,
   "source": [
    "ii.mismatch_analysis(mismatch_data, abbr_list)\r\n"
   ],
   "outputs": [],
   "metadata": {}
  },
  {
   "cell_type": "markdown",
   "source": [
<<<<<<< HEAD
    "### 3.2.2 Mismatch analysis with only selected countries in optimization based internal consolidation method"
=======
    "### 4.2.2 Mismatch analysis with only selected countries in optimization based internal consolidation method"
>>>>>>> ac7687d690a410fc6bb9065c8fe5e295d4acb087
   ],
   "metadata": {}
  },
  {
   "cell_type": "code",
   "execution_count": null,
   "source": [
    "selected_countries = ['AT', 'CZ', 'DK', 'ES', 'FR','IE', 'NL', 'NO', 'PT', 'SI', 'SE', 'CH', 'UK']\r\n",
    "ii.mismatch_analysis(mismatch_data, selected_countries)\r\n"
   ],
   "outputs": [],
   "metadata": {}
  },
  {
   "cell_type": "markdown",
   "source": [
<<<<<<< HEAD
    "# 4. Comparission of ENTSO-E data with other sources"
=======
    "# 5. Comparission of ENTSO-E data with other sources"
>>>>>>> ac7687d690a410fc6bb9065c8fe5e295d4acb087
   ],
   "metadata": {}
  },
  {
   "cell_type": "markdown",
   "source": [
<<<<<<< HEAD
    "## 4.1 Comparing ENTSO-E & Eurostat data"
=======
    "## 5.1 Comparing ENTSO-E & Eurostat data"
>>>>>>> ac7687d690a410fc6bb9065c8fe5e295d4acb087
   ],
   "metadata": {}
  },
  {
   "cell_type": "markdown",
   "source": [
<<<<<<< HEAD
    "### 4.1.1 Comparing annual generation data of ENTSO-E & Eurostat data"
=======
    "### 5.1.1 Comparing annual generation data of ENTSO-E & Eurostat data"
>>>>>>> ac7687d690a410fc6bb9065c8fe5e295d4acb087
   ],
   "metadata": {}
  },
  {
   "cell_type": "code",
   "execution_count": null,
   "source": [
    "# ei.eurostat_comparission_gen_data(generation_data,countries)"
   ],
   "outputs": [],
   "metadata": {}
  },
  {
   "cell_type": "markdown",
   "source": [
<<<<<<< HEAD
    "### 4.1.2 Comparing annual load data of ENTSO-E & Eurostat data"
=======
    "### 5.1.2 Comparing annual load data of ENTSO-E & Eurostat data"
>>>>>>> ac7687d690a410fc6bb9065c8fe5e295d4acb087
   ],
   "metadata": {}
  },
  {
   "cell_type": "code",
   "execution_count": null,
   "source": [
    "# ei.eurostat_comparission_load_data(load_data, countries)\r\n"
   ],
   "outputs": [],
   "metadata": {}
  },
  {
   "cell_type": "markdown",
   "source": [
<<<<<<< HEAD
    "### 4.1.3 Comparing annual import/export data of ENTSO-E & Eurostat data"
=======
    "### 5.1.3 Comparing annual import/export data of ENTSO-E & Eurostat data"
>>>>>>> ac7687d690a410fc6bb9065c8fe5e295d4acb087
   ],
   "metadata": {}
  },
  {
   "cell_type": "code",
   "execution_count": null,
   "source": [
    "# ei.eurostat_comparission_transmission_data(import_export_using_crossborder_data, countries)"
   ],
   "outputs": [],
   "metadata": {
    "scrolled": true
   }
  }
 ],
 "metadata": {
  "interpreter": {
   "hash": "acb9e0cfff3151089362f20c3a81c7531326aa2c5fdbbc2eccac94359104a8e2"
  },
  "kernelspec": {
   "name": "python3",
   "display_name": "Python 3.9.6 64-bit"
  },
  "language_info": {
   "codemirror_mode": {
    "name": "ipython",
    "version": 3
   },
   "file_extension": ".py",
   "mimetype": "text/x-python",
   "name": "python",
   "nbconvert_exporter": "python",
   "pygments_lexer": "ipython3",
   "version": "3.9.6"
  },
  "varInspector": {
   "cols": {
    "lenName": 16,
    "lenType": 16,
    "lenVar": 40
   },
   "kernels_config": {
    "python": {
     "delete_cmd_postfix": "",
     "delete_cmd_prefix": "del ",
     "library": "var_list.py",
     "varRefreshCmd": "print(var_dic_list())"
    },
    "r": {
     "delete_cmd_postfix": ") ",
     "delete_cmd_prefix": "rm(",
     "library": "var_list.r",
     "varRefreshCmd": "cat(var_dic_list()) "
    }
   },
   "types_to_exclude": [
    "module",
    "function",
    "builtin_function_or_method",
    "instance",
    "_Feature"
   ],
   "window_display": false
  }
 },
 "nbformat": 4,
 "nbformat_minor": 4
}