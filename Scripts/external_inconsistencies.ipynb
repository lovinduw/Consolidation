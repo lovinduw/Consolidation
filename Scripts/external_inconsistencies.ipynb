{
 "cells": [
  {
   "cell_type": "markdown",
   "metadata": {},
   "source": [
    "# External Inconsistencies"
   ]
  },
  {
   "cell_type": "code",
   "execution_count": 1,
   "metadata": {},
   "outputs": [],
   "source": [
    "import pandas as pd\r\n",
    "import numpy as np\r\n",
    "import glob\r\n",
    "import matplotlib.pyplot as plt\r\n",
    "from IPython.display import display"
   ]
  },
  {
   "cell_type": "code",
   "execution_count": null,
   "metadata": {},
   "outputs": [],
   "source": [
    "def plot(x1, x2, labels, color1, color2, label1, label2, title):\r\n",
    "\r\n",
    "    # We made this function to draw the comparission graphs. This can create multiple barcharts.\r\n",
    "\r\n",
    "    width = 0.35\r\n",
    "    X = np.arange(len(labels))\r\n",
    "    plt.figure(figsize=(20, 10))\r\n",
    "    plt.bar([x-width/2 for x in X], x1, width,color=color1, edgecolor='black', label=label1)\r\n",
    "    plt.bar([x+width/2 for x in X], x2, width,color=color2, edgecolor='black', label=label2)\r\n",
    "    plt.xlabel('Countries')\r\n",
    "    plt.ylabel('Energy [GWh]')\r\n",
    "    plt.title(title)\r\n",
    "    plt.xticks(X, labels)\r\n",
    "    plt.axhline(y=0, color='black', linestyle='-')\r\n",
    "    plt.legend()\r\n",
    "    plt.grid()\r\n",
    "    plt.show()\r\n"
   ]
  },
  {
   "cell_type": "markdown",
   "metadata": {},
   "source": [
    "## 1 Comparission of data between ENTSO-E & Eurostat"
   ]
  },
  {
   "cell_type": "markdown",
   "metadata": {},
   "source": [
    "### In Eurostat data, in the csv with the generation data, it has both gross electricity production and net electricity production. In the transmission data csv, it has imports and exports of each country seperately."
   ]
  },
  {
   "cell_type": "markdown",
   "metadata": {},
   "source": [
    "### 1.1 Comparission of Generation data between ENTSO-E & Eurostat"
   ]
  },
  {
   "cell_type": "code",
   "execution_count": null,
   "metadata": {},
   "outputs": [],
   "source": [
    "def eurostat_comparission_gen_data(generation_data, countries):\r\n",
    "\r\n",
    "    gen_eurostat = []\r\n",
    "    gen_entsoe = []\r\n",
    "    labels = []\r\n",
    "    temp = []\r\n",
    "    eurostat = pd.read_csv('../Data Sources/Eurostat/Gross & Net Generation .csv')\r\n",
    "    eurostat = eurostat.loc[eurostat['TIME'] == 2018]\r\n",
    "\r\n",
    "    # In the following command we first check if the countries in the ENTSO-E datasets are also available in the Eurostat dataset.\r\n",
    "    # If yes, we append the 'labels' as the country code.\r\n",
    "    # Here also we use 'pd.to_numeric' command because Eurostat data come in string format.\r\n",
    "    # Then we update 'gen_eurostat' list by checking for the 'country' in 'GEO' column and 'Net electricity production' in the 'NRG_BAL' column of eurostat daraframe and take the respective value in the 'Value' column.\r\n",
    "    # Then we get the sum along the '{country_code} - Total'column in the 'generation_data' dataframe and update the 'gen_entsoe' list with that value.\r\n",
    "    # Then we create the dataframe which shows ENTSO-E generation, EUrostat generation and the percentage difference in generation wrt ENTSO-Edata for each country.\r\n",
    "    # Then the graph is drawn using matplotlib.\r\n",
    "\r\n",
    "    for country, abbr in countries.items():\r\n",
    "\r\n",
    "        if country in eurostat.values:\r\n",
    "            labels.append(abbr)\r\n",
    "            gen_eurostat.append(round(pd.to_numeric(eurostat.loc[(eurostat['GEO'] == country) & (eurostat['NRG_BAL'] == 'Net electricity production'), 'Value'].iloc[0]), 2))\r\n",
    "            gen_entsoe.append(\r\n",
    "                round(generation_data.filter(like=abbr).sum(axis=1).sum()/1000, 2))\r\n",
    "            temp.append([labels[-1], gen_entsoe[-1], gen_eurostat[-1],round((gen_entsoe[-1] - gen_eurostat[-1])*100/gen_entsoe[-1], 2)])\r\n",
    "\r\n",
    "    table_eurostat_comparission_gen_data = pd.DataFrame(temp, columns=['Country', 'Gen data based on ENTSO-E [GWh]', 'Gen data based on Eurostat [GWh]', '% difference with respect to Value based on ENTSO-E [%]'])\r\n",
    "    display(table_eurostat_comparission_gen_data)\r\n",
    "\r\n",
    "    plot(gen_entsoe, gen_eurostat, labels, 'gold', 'lime','ENTSO-E data', 'Eurostat data', 'Comparission of annual electricity generation data in ENTSO-E and Eurostat data')\r\n"
   ]
  },
  {
   "cell_type": "markdown",
   "metadata": {},
   "source": [
    "### 1.2 Comparission of Load data between ENTSO-E & Eurostat"
   ]
  },
  {
   "cell_type": "code",
   "execution_count": null,
   "metadata": {},
   "outputs": [],
   "source": [
    "def eurostat_comparission_load_data(load_data, countries):\r\n",
    "\r\n",
    "    load_eurostat = []\r\n",
    "    load_entsoe = []\r\n",
    "    labels = []\r\n",
    "    temp = []\r\n",
    "    eurostat = pd.read_csv('../Data Sources/Eurostat/Load.csv')\r\n",
    "    eurostat = eurostat.loc[eurostat['TIME'] == 2018]\r\n",
    "\r\n",
    "    # In the following command we first check if the countries in the ENTSO-E datasets are also available in the Eurostat dataset.\r\n",
    "    # If yes, we append the 'labels' as the country code.\r\n",
    "    # Here also we use 'pd.to_numeric' command because Eurostat data come in string format.\r\n",
    "    # Then we update 'load_eurostat' list by checking for the 'country' in 'GEO' column of eurostat daraframe and take the respective value in the 'Value' column.\r\n",
    "    # Then we get the sum along the '{country_code}' column in the 'load_data' dataframe and update the 'load_entsoe' list with that value.\r\n",
    "    # Then we create the dataframe which shows ENTSO-E load, EUrostat load and the percentage difference in load wrt ENTSO-Edata for each country.\r\n",
    "    # Then the graph is drawn using matplotlib.\r\n",
    "\r\n",
    "    for country, abbr in countries.items():\r\n",
    "\r\n",
    "        if country in eurostat.values:\r\n",
    "            labels.append(abbr)\r\n",
    "            load_eurostat.append(round(pd.to_numeric(eurostat.loc[eurostat['GEO'] == country, 'Value'].iloc[0]), 2))\r\n",
    "            load_entsoe.append(round(load_data[f'{abbr}'].sum()/1000, 2))\r\n",
    "            temp.append([labels[-1], load_entsoe[-1], load_eurostat[-1],\r\n",
    "                         round((load_entsoe[-1] - load_eurostat[-1])*100/load_entsoe[-1], 2)])\r\n",
    "\r\n",
    "    table_eurostat_comparission_load_data = pd.DataFrame(temp, columns=['Country', 'Load data based on ENTSO-E [GWh]', 'Load data based on Eurostat [GWh]', '% difference with respect to Value based on ENTSO-E [%]'])\r\n",
    "    display(table_eurostat_comparission_load_data)\r\n",
    "\r\n",
    "    plot(load_entsoe, load_eurostat, labels, 'lightcoral', 'deepskyblue','ENTSO-E data', 'Eurostat data', 'Comparission of annual electricity load data in ENTSO-E and Eurostat data')\r\n"
   ]
  },
  {
   "cell_type": "markdown",
   "metadata": {},
   "source": [
    "### 1.3 Comparission of Net Imports/Exports data between ENTSO-E & Eurostat"
   ]
  },
  {
   "cell_type": "code",
   "execution_count": null,
   "metadata": {},
   "outputs": [],
   "source": [
    "def eurostat_comparission_transmission_data(import_export_using_crossborder_data, countries):\r\n",
    "    transmission_eurostat = []\r\n",
    "    transmission_entsoe = []\r\n",
    "    labels = []\r\n",
    "    temp = []\r\n",
    "    eurostat = pd.read_csv('../Data Sources/Eurostat/Transmission.csv')\r\n",
    "    eurostat = eurostat.loc[eurostat['TIME'] == 2018]\r\n",
    "\r\n",
    "    # In the following command we first check if the countries in the ENTSO-E datasets are also available in the Eurostat dataset.\r\n",
    "    # If yes, we append the 'labels' as the country code.\r\n",
    "    # Here also we use 'pd.to_numeric' command because Eurostat data come in string format.\r\n",
    "    # Then we update 'transmission_eurostat' list by checking for the ('country' in 'GEO' column and 'Exports' in the 'NRG_BAL' column of eurostat daraframe) and (the 'country' in 'GEO' column and 'Imports' in the 'NRG_BAL' column of eurostat dataframe) and take the difference of the respective values in the 'Value' column.\r\n",
    "    # Then we get the sum along the '{country_code} - [exp-imp] in the 'import_export_using_crossborder_data' dataframe and update the 'transmission_entsoe' list with that value.\r\n",
    "    # Then we create the dataframe which shows ENTSO-E net imports/exports, EUrostat net imports/exports and the percentage difference in net imports/exports wrt ENTSO-Edata for each country.\r\n",
    "    # Then the graph is drawn using matplotlib.\r\n",
    "\r\n",
    "    for country, abbr in countries.items():\r\n",
    "\r\n",
    "        if country in eurostat.values:\r\n",
    "            labels.append(abbr)\r\n",
    "            transmission_eurostat.append(round(pd.to_numeric(eurostat.loc[(\r\n",
    "                eurostat['GEO'] == country) & (eurostat['NRG_BAL'] == 'Exports'), 'Value'].iloc[0]) - pd.to_numeric(eurostat.loc[(\r\n",
    "                    eurostat['GEO'] == country) & (eurostat['NRG_BAL'] == 'Imports'), 'Value'].iloc[0]), 2))\r\n",
    "            transmission_entsoe.append(\r\n",
    "                round(import_export_using_crossborder_data[f'{abbr}'].sum()/1000, 2))\r\n",
    "            temp.append([labels[-1], transmission_entsoe[-1], transmission_eurostat[-1], round(\r\n",
    "                (transmission_entsoe[-1] - transmission_eurostat[-1])*100/transmission_entsoe[-1], 2)])\r\n",
    "\r\n",
    "    table_eurostat_comparission_transmission_data = pd.DataFrame(temp, columns=['Country', 'Net imports/exports data based on ENTSO-E [GWh]', 'Net imports/exports data based on Eurostat [GWh]', '% difference with respect to Value based on ENTSO-E [%]'])\r\n",
    "    display(table_eurostat_comparission_transmission_data)\r\n",
    "\r\n",
    "    plot(transmission_entsoe, transmission_eurostat, labels, 'magenta', 'aqua','ENTSO-E data', 'Eurostat data', 'Comparission of annual electricity net export/import data in ENTSO-E and Eurostat data')\r\n"
   ]
  }
 ],
 "metadata": {
  "interpreter": {
   "hash": "acb9e0cfff3151089362f20c3a81c7531326aa2c5fdbbc2eccac94359104a8e2"
  },
  "kernelspec": {
   "display_name": "Python 3.9.1 64-bit",
   "name": "python3"
  },
  "language_info": {
   "name": "python",
   "version": ""
  },
  "orig_nbformat": 4
 },
 "nbformat": 4,
 "nbformat_minor": 2
}