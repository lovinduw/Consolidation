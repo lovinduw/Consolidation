{
 "cells": [
  {
   "cell_type": "markdown",
   "metadata": {},
   "source": [
    "# External Inconsistencies"
   ]
  },
  {
   "cell_type": "code",
   "execution_count": 30,
   "metadata": {},
   "outputs": [],
   "source": [
    "import pandas as pd\n",
    "import numpy as np\n",
    "import glob\n",
    "import matplotlib.pyplot as plt\n",
    "from IPython.display import display\n",
    "import pyomo.environ as pyo\n",
    "from pyomo.opt import SolverFactory\n"
   ]
  },
  {
   "cell_type": "code",
   "execution_count": 67,
   "metadata": {},
   "outputs": [],
   "source": [
    "countries = {'Austria': 'AT', 'Belgium': 'BE',  'Bulgaria': 'BG', 'Switzerland': 'CH', 'Czech Republic': 'CZ',  'Germany': 'DE', 'Denmark': 'DK', 'Estonia': 'EE', 'Spain': 'ES', 'Finland': 'FI', 'France': 'FR',  'Greece': 'GR', 'Hungary': 'HU',\n",
    "             'Ireland': 'IE', 'Italy': 'IT', 'Lithuania': 'LT', 'Latvia': 'LV', 'Montenegro': 'ME', 'Netherlands': 'NL', 'Norway': 'NO', 'Poland': 'PL', 'Portugal': 'PT', 'Serbia': 'RS', 'Sweden': 'SE', 'Slovenia': 'SI', 'Slovakia': 'SK', 'United Kingdom': 'GB'}\n",
    "abbr_list = list(countries.values())\n",
    "abbr_list = [country for country in abbr_list if country != 'CH']"
   ]
  },
  {
   "cell_type": "code",
   "execution_count": 69,
   "metadata": {},
   "outputs": [],
   "source": [
    "generation_types = {'Coal': ['Fossil Hard coal', 'Fossil Brown coal/Lignite'],\n",
    "                    'Biomass': ['Biomass'],\n",
    "                    'Fossil Gas': ['Fossil Gas', 'Fossil Coal-derived gas'],\n",
    "                    'Fossil Oil': ['Fossil Oil'],\n",
    "                    'Fossil Oil shale': ['Fossil Oil shale'],\n",
    "                    'Fossil Peat': ['Fossil Peat'],\n",
    "                    'Waste': ['Waste'],\n",
    "                    'Geothermal': ['Geothermal'],\n",
    "                    'Hydro': ['Hydro Pumped Storage', 'Hydro Run-of-river and poundage', 'Hydro Water Reservoir'],\n",
    "                    'Nuclear': ['Nuclear'],\n",
    "                    'Other renewable': ['Other renewable'],\n",
    "                    'Solar': ['Solar'],\n",
    "                    'Other': ['Other'],\n",
    "                    'Wind': ['Wind Offshore', 'Wind Onshore']}\n"
   ]
  },
  {
   "cell_type": "code",
   "execution_count": 74,
   "metadata": {},
   "outputs": [],
   "source": [
    "df = pd.read_csv(f'../Data Sources/ENTSO-E/2018/Generation/Generation Capacity/DE.csv',low_memory=False).iloc[:-1, :]\n",
    "columns = df['Production Type'].values\n",
    "index = abbr_list\n",
    "capacity = pd.DataFrame(index=index, columns=columns)\n",
    "for abbr in abbr_list:\n",
    "    df = pd.read_csv(f'../Data Sources/ENTSO-E/2018/Generation/Generation Capacity/{abbr}.csv', low_memory=False).iloc[:-1, :]\n",
    "    for index, row in enumerate(df.values):\n",
    "        capacity.loc[abbr][row[0]] = row[1]\n",
    "capacity = capacity.replace(['n/e', np.nan], 0)\n",
    "for column in capacity.columns.values:\n",
    "    capacity[column] = pd.to_numeric(capacity[column])\n",
    "del capacity['Marine']\n",
    "\n",
    "# capacity_total = {}\n",
    "# for abbr in abbr_list:\n",
    "#     capacity_total[abbr] = {}\n",
    "#     for item in entsoe_index:\n",
    "#         capacity_total[abbr][item] = capacity.loc[abbr][item]\n"
   ]
  },
  {
   "cell_type": "code",
   "execution_count": 75,
   "metadata": {},
   "outputs": [],
   "source": [
    "time_index = np.arange(8760, dtype=int)\n",
    "em = pd.read_excel('../Data Sources/External sources.xlsx',\n",
    "                   sheet_name='EUROSTAT', index_col=0)\n",
    "eurostat_index = em.columns.values[:-3]\n",
    "\n",
    "eurostat_total = {}\n",
    "for abbr in abbr_list:\n",
    "    eurostat_total[abbr] = {}\n",
    "    for item in eurostat_index:\n",
    "        eurostat_total[abbr][item] = em[item][abbr]*1000\n"
   ]
  },
  {
   "cell_type": "code",
   "execution_count": 72,
   "metadata": {},
   "outputs": [],
   "source": [
    "countries = {'Norway': 'NO', 'Poland': 'PL', 'Portugal': 'PT',\n",
    "             'Serbia': 'RS', 'Sweden': 'SE', 'Slovenia': 'SI', 'Slovakia': 'SK', 'United Kingdom': 'GB'}\n",
    "abbr_list = list(countries.values())\n",
    "abbr_list = ['NL']\n"
   ]
  },
  {
   "cell_type": "code",
   "execution_count": 76,
   "metadata": {},
   "outputs": [
    {
     "name": "stdout",
     "output_type": "stream",
     "text": [
      "NL : OPTIMIZATION COMPLETED\n"
     ]
    }
   ],
   "source": [
    "capacity_total = {}\n",
    "consolidated = {}\n",
    "violations = {}\n",
    "\n",
    "for abbr in abbr_list:\n",
    "    generation_dic = {}\n",
    "    df = pd.read_csv(f\"../Data Sources/output/Sigma/Generation/{abbr}.csv\").iloc[:, 1:]\n",
    "\n",
    "    for column in df.columns.values:\n",
    "        generation_dic[column] = df[column].sum()\n",
    "\n",
    "    entsoe_index = []\n",
    "    for key, value in generation_types.items():\n",
    "        i = 0\n",
    "        while i < len(value):\n",
    "            entsoe_index.append(value[i])\n",
    "            i += 1\n",
    "\n",
    "    capacity_total[abbr] = {}\n",
    "    \n",
    "    for item in entsoe_index:\n",
    "        if item not in df.columns.values:\n",
    "            generation_dic[item] = 0.0\n",
    "        capacity_total[abbr][item] = capacity.loc[abbr][item]\n",
    "\n",
    "    model = pyo.ConcreteModel()\n",
    "\n",
    "    model.eurostat_index = pyo.Set(initialize=eurostat_index)\n",
    "    model.entsoe_index = pyo.Set(initialize=entsoe_index)\n",
    "\n",
    "    model.alpha = pyo.Var(entsoe_index, bounds=(0.0, None))\n",
    "    model.beta = pyo.Var(entsoe_index, bounds=(0.0, None))\n",
    "    model.delta = pyo.Var(entsoe_index, bounds=(0.0, None))\n",
    "\n",
    "    def gen_total(model,eurostat_generation):\n",
    "        return sum((1+model.alpha[entsoe_generation])*generation_dic[entsoe_generation] + model.beta[entsoe_generation] - model.delta[entsoe_generation] for entsoe_generation in generation_types[eurostat_generation]) == eurostat_total[abbr][eurostat_generation]\n",
    "    model.gen_total = pyo.Constraint(\n",
    "        model.eurostat_index, rule=gen_total)\n",
    "\n",
    "\n",
    "    def non_zero_rule(model, entsoe_generation):\n",
    "        return (1+model.alpha[entsoe_generation])*generation_dic[entsoe_generation] + model.beta[entsoe_generation] - model.delta[entsoe_generation] >= 0\n",
    "    model.non_zero_rule = pyo.Constraint(\n",
    "        model.entsoe_index, rule=non_zero_rule)\n",
    "\n",
    "\n",
    "    def ObjRule(model):\n",
    "        return sum((model.alpha[entsoe_generation]*generation_dic[entsoe_generation])**2 + (model.beta[entsoe_generation] + model.delta[entsoe_generation])**2 for entsoe_generation in entsoe_index)\n",
    "    model.obj = pyo.Objective(rule=ObjRule, sense=pyo.minimize)\n",
    "\n",
    "    opt = SolverFactory(\"gurobi\", solver_io=\"python\")\n",
    "    opt.solve(model)\n",
    "\n",
    "    alpha = {}\n",
    "    for fuel in entsoe_index:\n",
    "        alpha[fuel] = model.alpha[fuel].value\n",
    "        if alpha[fuel] is None:\n",
    "            alpha[fuel] = 0\n",
    "\n",
    "    consolidated[abbr] = {}\n",
    "    for fuel in entsoe_index:\n",
    "        consolidated[abbr][fuel] = (1 + alpha[fuel]) * \\\n",
    "            generation_dic[fuel] + \\\n",
    "            model.beta[fuel].value - model.delta[fuel].value\n",
    "        if consolidated[abbr][fuel] < 0:\n",
    "            consolidated[abbr][fuel] = 0.0\n",
    "\n",
    "    generation_dic[abbr] = df\n",
    "    \n",
    "    violations[abbr] = []\n",
    "    for column in df.columns.values:\n",
    "        if 8760*capacity_total[abbr][column] <= consolidated[abbr][column]:\n",
    "            violations[abbr].append(column)\n",
    "\n",
    "    for item in violations[abbr]:\n",
    "        if item in df.columns.values:\n",
    "            del df[item]\n",
    "     #######################\n",
    "    solar_time_index = []\n",
    "    if 'Solar' in df.columns.values:\n",
    "        for index, values in enumerate(df.values):\n",
    "            if df.loc[index, 'Solar'] < 0.1:\n",
    "                solar_time_index.append(index)\n",
    "    \n",
    "    entsoe_index = df.columns.values\n",
    "    model = pyo.ConcreteModel()\n",
    "\n",
    "    model.entsoe_index = pyo.Set(initialize=entsoe_index)\n",
    "    model.time_index = pyo.Set(initialize=time_index)\n",
    "\n",
    "    model.alpha = pyo.Var(model.entsoe_index, bounds=(0.0, None))\n",
    "    model.beta = pyo.Var(model.entsoe_index,model.time_index, bounds=(0.0, None))\n",
    "    model.delta = pyo.Var(model.entsoe_index,model.time_index, bounds=(0.0, None))\n",
    "\n",
    "    def gen_total_rule(model, entsoe_generation):\n",
    "        return sum((1 + model.alpha[entsoe_generation])*generation_dic[abbr][entsoe_generation][time] + model.beta[entsoe_generation, time] - model.delta[entsoe_generation, time] for time in time_index) == consolidated[abbr][entsoe_generation]\n",
    "    model.gen_total_rule = pyo.Constraint(\n",
    "        model.entsoe_index, rule=gen_total_rule)\n",
    "\n",
    "    def non_zero_rule(model, entsoe_generation, time):\n",
    "        return (1 + model.alpha[entsoe_generation])*generation_dic[abbr][entsoe_generation][time] + model.beta[entsoe_generation, time] - model.delta[entsoe_generation, time] >= 0\n",
    "    model.non_zero_rule = pyo.Constraint(\n",
    "        model.entsoe_index, model.time_index, rule=non_zero_rule)\n",
    "\n",
    "    def capacity_rule(model, entsoe_generation, time):\n",
    "        return (1 + model.alpha[entsoe_generation])*generation_dic[abbr][entsoe_generation][time] + model.beta[entsoe_generation, time] - model.delta[entsoe_generation, time] <= capacity_total[abbr][entsoe_generation]\n",
    "    model.capacity_rule = pyo.Constraint(\n",
    "        model.entsoe_index, model.time_index, rule=capacity_rule)\n",
    "    #############\n",
    "    solar_index = ['Solar']\n",
    "    model.solar_index = pyo.Set(initialize=solar_index)\n",
    "    model.solar_time_index = pyo.Set(initialize=solar_time_index)\n",
    "\n",
    "    if abbr != 'NL':\n",
    "        def solar_rule(model, solar, time):\n",
    "            return (1+model.alpha[solar])*generation_dic[abbr]['Solar'][time] + model.beta[solar, time] - model.delta[solar, time] == 0.0\n",
    "        model.solar_rule = pyo.Constraint(\n",
    "            model.solar_index, model.solar_time_index, rule=solar_rule)\n",
    "\n",
    "    def ObjRule(model):\n",
    "        return sum(model.alpha[entsoe_generation]*generation_dic[abbr][entsoe_generation][time]**2 + (model.beta[entsoe_generation, time] + model.delta[entsoe_generation, time])**2 for entsoe_generation in entsoe_index for time in time_index)\n",
    "    model.obj = pyo.Objective(rule=ObjRule, sense=pyo.minimize)\n",
    "\n",
    "    opt = SolverFactory(\"gurobi\", solver_io=\"python\")\n",
    "    opt.solve(model)\n",
    "    print(abbr, ': OPTIMIZATION COMPLETED')\n",
    "\n",
    "    rows = []\n",
    "    for time in time_index:\n",
    "        row = []\n",
    "        for entsoe_generation in entsoe_index:\n",
    "            value = (1+ model.alpha[entsoe_generation].value)*generation_dic[abbr][entsoe_generation][time] + model.beta[entsoe_generation, time].value - model.delta[entsoe_generation, time].value\n",
    "            if value<0:\n",
    "                value = 0\n",
    "            row.append(value)\n",
    "        rows.append(row)\n",
    "    dataframe = pd.DataFrame.from_records(rows)\n",
    "    dataframe.columns = df.columns\n",
    "    dataframe.to_csv(f\"../Data Sources/output/External/Generation/{abbr}.csv\")\n"
   ]
  },
  {
   "cell_type": "code",
   "execution_count": 77,
   "metadata": {},
   "outputs": [],
   "source": [
    "violations = {}\n",
    "abbr = 'NL'\n",
    "violations[abbr] = []\n",
    "df = pd.read_csv(\n",
    "    f\"../Data Sources/output/Sigma/Generation/{abbr}.csv\").iloc[:, 1:]\n",
    "for column in df.columns.values:\n",
    "    if 8760*capacity_total[abbr][column] <= consolidated[abbr][column]:\n",
    "        violations[abbr].append(column)\n"
   ]
  },
  {
   "cell_type": "code",
   "execution_count": 78,
   "metadata": {},
   "outputs": [
    {
     "data": {
      "text/plain": [
       "{'NL': ['Other']}"
      ]
     },
     "execution_count": 78,
     "metadata": {},
     "output_type": "execute_result"
    }
   ],
   "source": [
    "violations\n"
   ]
  }
 ],
 "metadata": {
  "interpreter": {
   "hash": "acb9e0cfff3151089362f20c3a81c7531326aa2c5fdbbc2eccac94359104a8e2"
  },
  "kernelspec": {
   "display_name": "Python 3.9.6 64-bit",
   "name": "python3"
  },
  "language_info": {
   "codemirror_mode": {
    "name": "ipython",
    "version": 3
   },
   "file_extension": ".py",
   "mimetype": "text/x-python",
   "name": "python",
   "nbconvert_exporter": "python",
   "pygments_lexer": "ipython3",
   "version": "3.9.6"
  },
  "orig_nbformat": 4
 },
 "nbformat": 4,
 "nbformat_minor": 2
}
