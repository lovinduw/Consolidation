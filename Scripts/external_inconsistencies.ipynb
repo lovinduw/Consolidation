{
 "cells": [
  {
   "cell_type": "markdown",
   "metadata": {},
   "source": [
    "# External Inconsistencies"
   ]
  },
  {
   "cell_type": "code",
   "execution_count": 30,
   "metadata": {},
   "outputs": [],
   "source": [
    "import pandas as pd\n",
    "import numpy as np\n",
    "import glob\n",
    "import matplotlib.pyplot as plt\n",
    "from IPython.display import display\n",
    "import pyomo.environ as pyo\n",
    "from pyomo.opt import SolverFactory\n"
   ]
  },
  {
   "cell_type": "code",
   "execution_count": 31,
   "metadata": {},
   "outputs": [],
   "source": [
    "countries = {'Austria': 'AT', 'Belgium': 'BE',  'Bulgaria': 'BG', 'Switzerland': 'CH', 'Czech Republic': 'CZ',  'Germany': 'DE', 'Denmark': 'DK', 'Estonia': 'EE', 'Spain': 'ES', 'Finland': 'FI', 'France': 'FR',  'Greece': 'GR', 'Hungary': 'HU',\n",
    "             'Ireland': 'IE', 'Italy': 'IT', 'Lithuania': 'LT', 'Latvia': 'LV', 'Montenegro': 'ME', 'Netherlands': 'NL', 'Norway': 'NO', 'Poland': 'PL', 'Portugal': 'PT', 'Serbia': 'RS', 'Sweden': 'SE', 'Slovenia': 'SI', 'Slovakia': 'SK', 'United Kingdom': 'GB'}\n",
    "abbr_list = list(countries.values())\n",
    "abbr_list = [country for country in abbr_list if country != 'CH']"
   ]
  },
  {
   "cell_type": "code",
   "execution_count": 32,
   "metadata": {},
   "outputs": [],
   "source": [
    "# def calculate_sigma:\n",
    "# load_gen_data = {}\n",
    "# sigma = {}\n",
    "# for abbr in abbr_list:\n",
    "#     df = pd.read_csv(f\"../Data Sources/output/Sigma/Generation/{abbr}.csv\").iloc[:,1:]\n",
    "#     df = pd.concat([df, pd.read_csv(f\"../Data Sources/output/Sigma/Load/{abbr}.csv\").iloc[:,1:]], axis=1)\n",
    "#     sigma[abbr] = df\n",
    "\n",
    "# sigma[\"transmission_data\"] = pd.read_csv(f\"../Data Sources/output/Sigma/Transmission/all_transmissions.csv\").iloc[:,1:]\n",
    "generation_dic = {}\n",
    "for abbr in abbr_list:\n",
    "    df = pd.read_csv(f\"../Data Sources/output/Sigma/Generation/{abbr}.csv\").iloc[:,1:]\n",
    "    df = df.drop(['Other'], axis=1, errors='ignore')\n",
    "    columns = [column for column in df.columns.values if \"Hydro\" in column]\n",
    "    df['Hydro'] = df.loc[:,columns].sum(axis=1)\n",
    "    df=df.drop(columns,axis=1)\n",
    "    columns = [column for column in df.columns.values if (\"Coal\" in column) or (\"coal\" in column)]\n",
    "    df['Coal'] = df.loc[:, columns].sum(axis=1)\n",
    "    df=df.drop(columns, axis=1)\n",
    "    columns = [column for column in df.columns.values if \"Wind\" in column]\n",
    "    df['Wind'] = df.loc[:, columns].sum(axis=1)\n",
    "    df=df.drop(columns, axis=1)\n",
    "    generation_dic[abbr] = df\n",
    "\n"
   ]
  },
  {
   "cell_type": "code",
   "execution_count": 33,
   "metadata": {},
   "outputs": [],
   "source": [
    "country_index = abbr_list\n",
    "time_index = np.arange(8760, dtype=int)\n",
    "\n",
    "generation_index = {}\n",
    "\n",
    "for abbr, df in generation_dic.items():\n",
    "    generation_index[abbr] = [x for x in df.columns.values]\n",
    "\n",
    "generation_fuels = np.array(list(set([item for sublist in generation_index.values() for item in sublist])))\n",
    "generation_fuels.sort()\n"
   ]
  },
  {
   "cell_type": "code",
   "execution_count": 34,
   "metadata": {},
   "outputs": [],
   "source": [
    "for abbr,df in generation_dic.items():\n",
    "    for fuel in generation_fuels:\n",
    "        if not fuel in df.columns.values:\n",
    "            df[fuel] = 0 "
   ]
  },
  {
   "cell_type": "code",
   "execution_count": 35,
   "metadata": {},
   "outputs": [],
   "source": [
    "df = pd.read_csv(f'../Data Sources/ENTSO-E/2018/Generation/Generation Capacity/DE.csv', low_memory=False).iloc[:-1, :]\n",
    "columns = df['Production Type'].values\n",
    "index = abbr_list\n",
    "capacity = pd.DataFrame(index=index,columns = columns)\n",
    "for abbr in abbr_list:\n",
    "    df = pd.read_csv(f'../Data Sources/ENTSO-E/2018/Generation/Generation Capacity/{abbr}.csv', low_memory=False).iloc[:-1, :]\n",
    "    for index,row in enumerate(df.values):\n",
    "        capacity.loc[abbr][row[0]] = row[1]\n",
    "capacity = capacity.replace(['n/e',np.nan],0)\n",
    "for column in capacity.columns.values:\n",
    "    capacity[column] = pd.to_numeric(capacity[column])\n",
    "columns = [column for column in capacity.columns.values if \"Hydro\" in column]\n",
    "capacity['Hydro'] = capacity.loc[:, columns].sum(axis=1)\n",
    "capacity = capacity.drop(columns, axis=1)\n",
    "columns = [column for column in capacity.columns.values if (\"Coal\" in column) or (\"coal\" in column)]\n",
    "capacity['Coal'] = capacity.loc[:, columns].sum(axis=1)\n",
    "capacity = capacity.drop(columns, axis=1)\n",
    "columns = [column for column in capacity.columns.values if \"Wind\" in column]\n",
    "capacity['Wind'] = capacity.loc[:, columns].sum(axis=1)\n",
    "capacity = capacity.drop(columns, axis=1)\n",
    "\n",
    "capacity_total = {}\n",
    "for abbr in abbr_list:\n",
    "    capacity_total[abbr] = {}\n",
    "    # for item in generation_index[abbr]:\n",
    "    for item in generation_fuels:\n",
    "        capacity_total[abbr][item] = capacity.loc[abbr][item]\n"
   ]
  },
  {
   "cell_type": "code",
   "execution_count": 36,
   "metadata": {},
   "outputs": [],
   "source": [
    "generation_total = {}\n",
    "em = pd.read_excel('../Data Sources/External sources.xlsx',\n",
    "                   sheet_name='EUROSTAT',index_col=0)\n",
    "for abbr in abbr_list:\n",
    "    generation_total[abbr] = {}\n",
    "    # for item in generation_index[abbr]:\n",
    "    for item in generation_fuels:\n",
    "        generation_total[abbr][item] = em[item][abbr]*1000\n",
    "\n"
   ]
  },
  {
   "cell_type": "code",
   "execution_count": 37,
   "metadata": {},
   "outputs": [
    {
     "name": "stdout",
     "output_type": "stream",
     "text": [
      "VARIABLES DECLARED\n",
      "Academic license - for non-commercial use only - expires 2021-12-14\n",
      "Using license file C:\\Users\\lovin\\gurobi.lic\n",
      "Warning for adding constraints: zero or small (< 1e-13) coefficients, ignored\n"
     ]
    }
   ],
   "source": [
    "model = pyo.ConcreteModel()\n",
    "\n",
    "model.country_index = pyo.Set(initialize=country_index)\n",
    "model.time_index = pyo.Set(initialize=time_index)\n",
    "model.generation_fuels = pyo.Set(initialize=generation_fuels)\n",
    "\n",
    "model.alpha = pyo.Var(model.country_index, model.generation_fuels, model.time_index, bounds=(0.0, None))\n",
    "model.beta = pyo.Var(model.country_index, model.generation_fuels, model.time_index, bounds=(0.0, None))\n",
    "model.delta = pyo.Var(model.country_index, model.generation_fuels, model.time_index, bounds=(0.0, None))\n",
    "\n",
    "print('VARIABLES DECLARED')\n",
    "\n",
    "def balance_rule1(model, country, fuel, time): \n",
    "    return model.alpha[country, fuel, time]*generation_dic[country][fuel][time] + model.beta[country, fuel, time] - model.delta[country, fuel, time] <= capacity_total[country][fuel]\n",
    "model.balance_rule1 = pyo.Constraint(model.country_index, model.generation_fuels, model.time_index, rule=balance_rule1)\n",
    "\n",
    "def balance_rule2(model, country, fuel):   \n",
    "    return sum(model.alpha[country, fuel, time]*generation_dic[country][fuel][time] + model.beta[country, fuel, time] - model.delta[country, fuel, time] for time in time_index) == generation_total[country][fuel]\n",
    "model.balance_rule2 = pyo.Constraint(model.country_index, model.generation_fuels, rule=balance_rule2)\n",
    "\n",
    "def ObjRule(model):\n",
    "    return sum(model.beta[country, fuel, time] + model.delta[country, fuel, time] for country in country_index for fuel in generation_index[country] for time in time_index)\n",
    "\n",
    "model.obj = pyo.Objective(rule=ObjRule, sense=pyo.minimize)\n",
    "opt = SolverFactory(\"gurobi\", solver_io=\"python\")\n",
    "opt.solve(model)\n",
    "print('OPTIMIZATION COMPLETED')\n"
   ]
  }
 ],
 "metadata": {
  "interpreter": {
   "hash": "acb9e0cfff3151089362f20c3a81c7531326aa2c5fdbbc2eccac94359104a8e2"
  },
  "kernelspec": {
   "display_name": "Python 3.9.6 64-bit",
   "name": "python3"
  },
  "language_info": {
   "codemirror_mode": {
    "name": "ipython",
    "version": 3
   },
   "file_extension": ".py",
   "mimetype": "text/x-python",
   "name": "python",
   "nbconvert_exporter": "python",
   "pygments_lexer": "ipython3",
   "version": "3.9.6"
  },
  "orig_nbformat": 4
 },
 "nbformat": 4,
 "nbformat_minor": 2
}
