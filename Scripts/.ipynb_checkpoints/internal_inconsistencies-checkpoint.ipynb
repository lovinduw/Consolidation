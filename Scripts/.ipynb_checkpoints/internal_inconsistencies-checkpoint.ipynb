{
 "cells": [
  {
   "cell_type": "markdown",
   "metadata": {},
   "source": [
    "# Internal Inconsistencies"
   ]
  },
  {
   "cell_type": "code",
   "execution_count": 1,
   "metadata": {},
   "outputs": [],
   "source": [
    "import pandas as pd\n",
    "import numpy as np\n",
    "import matplotlib.pyplot as plt"
   ]
  },
  {
   "cell_type": "code",
   "execution_count": 2,
   "metadata": {},
   "outputs": [
    {
     "name": "stdout",
     "output_type": "stream",
     "text": [
      "importing Jupyter notebook from data_preperation.ipynb\n"
     ]
    }
   ],
   "source": [
    "import import_ipynb\n",
    "import data_preperation as dp\n",
    "\n",
    "countries={ 'Austria': 'AT', 'Belgium': 'BE',  'Bulgaria': 'BG', 'Switzerland': 'CH', 'Czech Republic': 'CZ', 'Croatia': 'HR',  'Germany': 'DE', 'Denmark': 'DK', 'Estonia': 'EE', 'Spain': 'ES', 'Finland': 'FI', 'France': 'FR',  'Greece': 'GR', 'Hungary': 'HU', 'Ireland': 'IE', 'Italy': 'IT', 'Lithuania': 'LT', 'Latvia': 'LV', 'Montenegro': 'ME','Netherlands': 'NL', 'Norway': 'NO', 'Poland': 'PL', 'Portugal': 'PT', 'Serbia': 'RS', 'Sweden': 'SE', 'Slovenia': 'SI', 'Slovakia': 'SK', 'United Kingdom': 'UK'}\n",
    "\n",
    "abbr_list=list(countries.values())\n",
    "\n",
    "# load_data = dp.load(countries)\n",
    "generation_data = dp.generation(countries)"
   ]
  },
  {
   "cell_type": "markdown",
   "metadata": {},
   "source": [
    "## 1.1 Calculating net imports/exports based on generation and load data "
   ]
  },
  {
   "cell_type": "code",
   "execution_count": 3,
   "metadata": {},
   "outputs": [],
   "source": [
    "def import_export_using_load_gen(load_data,generation_data,abbr_list):\n",
    "\n",
    "    import_export_data=pd.DataFrame()\n",
    "    import_export_data[['Day','Month','Year','Time']]=load_data[['Day','Month','Year','Time']]\n",
    "\n",
    "    # In the following command we calculate net import/export in each time step of each country by subtracting '{country_code}' column of 'load_data' dataframe from '{country_code} - Total' of 'generation_data' dataframe and save the result in '{country_code} - [gen - load]' column of 'import_export_data' dataframe. for example, import_export_data['DE - [gen - load]']=generation_data['DE - Total'] - load_data['DE']. Then we create a new column in the 'import_export_data' dataframe called '{country_code} - import/export' and make that column 'Net Export' if '{country_code} - [gen - load]' is greater than 0 and make the '{country_code} - import/export' column 'Net Import' if '{country_code} - [gen - load]' is equal or lower than 0\n",
    "    \n",
    "    for abbr in abbr_list:\n",
    "        import_export_data[f'{abbr} - [gen - load]']=generation_data[f'{abbr} - Total'] - load_data[f'{abbr}']\n",
    "        import_export_data.loc[import_export_data[f'{abbr} - [gen - load]']>0, f'{abbr} - import/export']='Net Export'\n",
    "        import_export_data.loc[import_export_data[f'{abbr} - [gen - load]']<=0, f'{abbr} - import/export']='Net Import'\n",
    "\n",
    "    return(import_export_data)\n"
   ]
  },
  {
   "cell_type": "markdown",
   "metadata": {},
   "source": [
    "## 1.2 Calculating net imports/exports based on cross-border transmission data "
   ]
  },
  {
   "cell_type": "code",
   "execution_count": 4,
   "metadata": {},
   "outputs": [],
   "source": [
    "def import_export_using_crossborder(crossborder_data,abbr_list):\n",
    "\n",
    "    import_export_data=pd.DataFrame()\n",
    "    import_export_data[['Day','Month','Year','Time']]=crossborder_data[['Day','Month','Year','Time']]\n",
    "    \n",
    "# In the following command we copy the '{country_code}' column of 'crossborder_data' dataframe to '{country_code} - [exp - imp]' column of 'import_export_data' dataframe. for example, import_export_data['DE - [exp - imp]']. Then we create a new column in the 'import_export_data' dataframe called '{country_code} - import/export' and make that column 'Net Export' if '{country_code} - [exp - imp]' is greater than 0 and make the '{country_code} - import/export' column 'Net Import' if '{country_code} - [exp - imp]' is equal or lower than 0\n",
    "\n",
    "    for abbr in abbr_list:\n",
    "        import_export_data[f'{abbr} - [exp - imp]']=crossborder_data[f'{abbr}']\n",
    "        import_export_data.loc[import_export_data[f'{abbr} - [exp - imp]']>0, f'{abbr} - import/export']='Net Export'\n",
    "        import_export_data.loc[import_export_data[f'{abbr} - [exp - imp]']<=0, f'{abbr} - import/export']='Net Import'\n",
    "\n",
    "    return(import_export_data)"
   ]
  },
  {
   "cell_type": "markdown",
   "metadata": {},
   "source": [
    "## 1.3 Comparission of net imports/exports based on generation and load data and net imports/exports based on cross-border transmission data"
   ]
  },
  {
   "cell_type": "code",
   "execution_count": 5,
   "metadata": {},
   "outputs": [],
   "source": [
    "def plot(import_export_using_load_gen,import_export_using_crossborder_data,labels):\n",
    "\n",
    "    x1=[]\n",
    "    x2=[]\n",
    "\n",
    "# In the following command, we take the yearly sum of data in net import based on generation/load and net imported based on cross border transmission data. These two yearly sum arrays are saved in variables 'x1' and 'x2' respectively. Then the graph is drawn using matplotlib.\n",
    "\n",
    "    for label in labels:\n",
    "        x1.append(import_export_using_load_gen[f'{label} - [gen - load]'].sum()/1000000) \n",
    "        x2.append(import_export_using_crossborder_data[f'{label} - [exp - imp]'].sum()/1000000) \n",
    "    \n",
    "    width = 0.35\n",
    "    X = np.arange(len(labels))\n",
    "    plt.figure(figsize=(20,10))\n",
    "    plt.bar([x-width/2 for x in X],x1,width,color='magenta',edgecolor='black', label='based on generation/load data')\n",
    "    plt.bar([x+width/2 for x in X],x2,width,color='aqua',edgecolor='black',label='based on cross-border export/import data')\n",
    "    plt.xlabel('Countries')\n",
    "    plt.ylabel('Power [TW]')\n",
    "    plt.title('Comparission of annual net imports/exports based on generation/load & cross-border transmission data')\n",
    "    plt.xticks(X,labels)\n",
    "    plt.axhline(y=0, color='black', linestyle='-')\n",
    "    plt.legend()\n",
    "    plt.grid()\n",
    "    plt.show()"
   ]
  },
  {
   "cell_type": "markdown",
   "metadata": {},
   "source": [
    "## 2.1 Comparission of Generation data between ENTSO-E & Eurostat"
   ]
  },
  {
   "cell_type": "code",
   "execution_count": 36,
   "metadata": {},
   "outputs": [],
   "source": [
    "def comparission_gen_data(generation_data,countries):\n",
    "    \n",
    "    gen_eurostat={}\n",
    "    gen_entsoe={}\n",
    "    labels=[]\n",
    "    eurostat = pd.read_csv('../Data Sources/Eurostat/nrg_bal_peh_1_Data.csv')\n",
    "    eurostat = eurostat.loc[eurostat['TIME']==2019]\n",
    "       \n",
    "    for country,abbr in countries.items():\n",
    "\n",
    "        if country in eurostat.values:\n",
    "            labels.append(abbr)\n",
    "            gen_eurostat.update({f'Eurostat - {abbr}': (eurostat.loc[eurostat['GEO'] == country,'Value'].iloc[0])})\n",
    "            gen_entsoe.update({f'ENTSO-E - {abbr}': generation_data[f'{abbr} - Total'].sum()/1000})\n",
    "            \n",
    "    width = 0.35\n",
    "    x1 = list(gen_entsoe.values())\n",
    "    x2 = list(gen_eurostat.values())\n",
    "    X = np.arange(len(labels))\n",
    "    plt.figure(figsize=(20,10))\n",
    "    plt.bar([x-width/2 for x in X],x1,width,color='magenta',edgecolor='black', label='ENTSO-E data')\n",
    "    plt.bar([x+width/2 for x in X],x2,width,color='aqua',edgecolor='black',label='Eurostat data')\n",
    "    plt.xlabel('Countries')\n",
    "    plt.ylabel('Power [GW]')\n",
    "    plt.title('Comparission of annual electricity generation in ENTSO-E and Eurostat data')\n",
    "    plt.xticks(X,labels)\n",
    "    plt.axhline(y=0, color='black', linestyle='-')\n",
    "    plt.legend()\n",
    "    plt.grid()\n",
    "    plt.show()"
   ]
  },
  {
   "cell_type": "code",
   "execution_count": 37,
   "metadata": {},
   "outputs": [
    {
     "data": {
      "image/png": "[encoded data removed]",
      "text/plain": [
       "<Figure size 1440x720 with 1 Axes>"
      ]
     },
     "metadata": {
      "needs_background": "light"
     },
     "output_type": "display_data"
    }
   ],
   "source": [
    "comparission_gen_data(generation_data,countries)"
   ]
  },
  {
   "cell_type": "code",
   "execution_count": null,
   "metadata": {},
   "outputs": [],
   "source": []
  }
 ],
 "metadata": {
  "interpreter": {
   "hash": "acb9e0cfff3151089362f20c3a81c7531326aa2c5fdbbc2eccac94359104a8e2"
  },
  "kernelspec": {
   "display_name": "Python 3",
   "language": "python",
   "name": "python3"
  },
  "language_info": {
   "codemirror_mode": {
    "name": "ipython",
    "version": 3
   },
   "file_extension": ".py",
   "mimetype": "text/x-python",
   "name": "python",
   "nbconvert_exporter": "python",
   "pygments_lexer": "ipython3",
   "version": "3.9.1"
  }
 },
 "nbformat": 4,
 "nbformat_minor": 4
}
