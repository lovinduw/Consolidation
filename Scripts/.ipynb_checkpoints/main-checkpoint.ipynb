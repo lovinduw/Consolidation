{
 "cells": [
  {
   "cell_type": "code",
   "execution_count": 1,
   "metadata": {},
   "outputs": [
    {
     "name": "stdout",
     "output_type": "stream",
     "text": [
      "importing Jupyter notebook from data_preperation.ipynb\n",
      "importing Jupyter notebook from internal_inconsistencies.ipynb\n",
      "importing Jupyter notebook from external_inconsistencies.ipynb\n"
     ]
    }
   ],
   "source": [
    "import pandas as pd\r\n",
    "import numpy as np\r\n",
    "from IPython.display import display\r\n",
    "import import_ipynb\r\n",
    "import data_preperation as dp\r\n",
    "import internal_inconsistencies as ii\r\n",
    "import external_inconsistencies as ei\r\n"
   ]
  },
  {
   "cell_type": "code",
   "execution_count": 2,
   "metadata": {},
   "outputs": [],
   "source": [
    "countries={ 'Austria': 'AT', 'Belgium': 'BE',  'Bulgaria': 'BG', 'Switzerland': 'CH', 'Czech Republic': 'CZ', 'Germany': 'DE', 'Denmark': 'DK', 'Estonia': 'EE', 'Spain': 'ES', 'Finland': 'FI', 'France': 'FR',  'Greece': 'GR', 'Hungary': 'HU', 'Ireland': 'IE', 'Italy': 'IT', 'Lithuania': 'LT', 'Latvia': 'LV', 'Montenegro': 'ME','Netherlands': 'NL', 'Norway': 'NO', 'Poland': 'PL', 'Portugal': 'PT', 'Serbia': 'RS', 'Sweden': 'SE', 'Slovenia': 'SI', 'Slovakia': 'SK', 'United Kingdom': 'UK'}\r\n",
    "\r\n",
    "abbr_list=list(countries.values())"
   ]
  },
  {
   "cell_type": "markdown",
   "metadata": {},
   "source": [
    "# 1. Data mismatches in ENTSO-E data"
   ]
  },
  {
   "cell_type": "markdown",
   "metadata": {},
   "source": [
    "## 1.1 Calculating missing values in data files"
   ]
  },
  {
   "cell_type": "code",
   "execution_count": 3,
   "metadata": {},
   "outputs": [
    {
     "data": {
      "text/html": [
       "<div>\n",
       "<style scoped>\n",
       "    .dataframe tbody tr th:only-of-type {\n",
       "        vertical-align: middle;\n",
       "    }\n",
       "\n",
       "    .dataframe tbody tr th {\n",
       "        vertical-align: top;\n",
       "    }\n",
       "\n",
       "    .dataframe thead th {\n",
       "        text-align: right;\n",
       "    }\n",
       "</style>\n",
       "<table border=\"1\" class=\"dataframe\">\n",
       "  <thead>\n",
       "    <tr style=\"text-align: right;\">\n",
       "      <th></th>\n",
       "      <th>Country</th>\n",
       "      <th>No. of missing data in Load data</th>\n",
       "      <th>No. of missing data in Generation data</th>\n",
       "      <th>No. of missing data in Transmission data</th>\n",
       "    </tr>\n",
       "  </thead>\n",
       "  <tbody>\n",
       "    <tr>\n",
       "      <th>0</th>\n",
       "      <td>AT</td>\n",
       "      <td>0</td>\n",
       "      <td>0</td>\n",
       "      <td>0</td>\n",
       "    </tr>\n",
       "    <tr>\n",
       "      <th>1</th>\n",
       "      <td>BE</td>\n",
       "      <td>0</td>\n",
       "      <td>8027</td>\n",
       "      <td>50</td>\n",
       "    </tr>\n",
       "    <tr>\n",
       "      <th>2</th>\n",
       "      <td>BG</td>\n",
       "      <td>26</td>\n",
       "      <td>8760</td>\n",
       "      <td>1732</td>\n",
       "    </tr>\n",
       "    <tr>\n",
       "      <th>3</th>\n",
       "      <td>CH</td>\n",
       "      <td>0</td>\n",
       "      <td>8760</td>\n",
       "      <td>0</td>\n",
       "    </tr>\n",
       "    <tr>\n",
       "      <th>4</th>\n",
       "      <td>CZ</td>\n",
       "      <td>7</td>\n",
       "      <td>44</td>\n",
       "      <td>0</td>\n",
       "    </tr>\n",
       "    <tr>\n",
       "      <th>5</th>\n",
       "      <td>DE</td>\n",
       "      <td>96</td>\n",
       "      <td>34848</td>\n",
       "      <td>36</td>\n",
       "    </tr>\n",
       "    <tr>\n",
       "      <th>6</th>\n",
       "      <td>DK</td>\n",
       "      <td>0</td>\n",
       "      <td>0</td>\n",
       "      <td>0</td>\n",
       "    </tr>\n",
       "    <tr>\n",
       "      <th>7</th>\n",
       "      <td>EE</td>\n",
       "      <td>168</td>\n",
       "      <td>2266</td>\n",
       "      <td>4437</td>\n",
       "    </tr>\n",
       "    <tr>\n",
       "      <th>8</th>\n",
       "      <td>ES</td>\n",
       "      <td>2</td>\n",
       "      <td>8780</td>\n",
       "      <td>0</td>\n",
       "    </tr>\n",
       "    <tr>\n",
       "      <th>9</th>\n",
       "      <td>FI</td>\n",
       "      <td>3</td>\n",
       "      <td>28</td>\n",
       "      <td>429</td>\n",
       "    </tr>\n",
       "    <tr>\n",
       "      <th>10</th>\n",
       "      <td>FR</td>\n",
       "      <td>18</td>\n",
       "      <td>9641</td>\n",
       "      <td>62</td>\n",
       "    </tr>\n",
       "    <tr>\n",
       "      <th>11</th>\n",
       "      <td>GR</td>\n",
       "      <td>2</td>\n",
       "      <td>8773</td>\n",
       "      <td>22</td>\n",
       "    </tr>\n",
       "    <tr>\n",
       "      <th>12</th>\n",
       "      <td>HU</td>\n",
       "      <td>0</td>\n",
       "      <td>12123</td>\n",
       "      <td>14</td>\n",
       "    </tr>\n",
       "    <tr>\n",
       "      <th>13</th>\n",
       "      <td>IE</td>\n",
       "      <td>210</td>\n",
       "      <td>15062</td>\n",
       "      <td>0</td>\n",
       "    </tr>\n",
       "    <tr>\n",
       "      <th>14</th>\n",
       "      <td>IT</td>\n",
       "      <td>0</td>\n",
       "      <td>3538</td>\n",
       "      <td>64</td>\n",
       "    </tr>\n",
       "    <tr>\n",
       "      <th>15</th>\n",
       "      <td>LT</td>\n",
       "      <td>91</td>\n",
       "      <td>297</td>\n",
       "      <td>192</td>\n",
       "    </tr>\n",
       "    <tr>\n",
       "      <th>16</th>\n",
       "      <td>LV</td>\n",
       "      <td>54</td>\n",
       "      <td>50</td>\n",
       "      <td>3696</td>\n",
       "    </tr>\n",
       "    <tr>\n",
       "      <th>17</th>\n",
       "      <td>ME</td>\n",
       "      <td>0</td>\n",
       "      <td>7246</td>\n",
       "      <td>0</td>\n",
       "    </tr>\n",
       "    <tr>\n",
       "      <th>18</th>\n",
       "      <td>NL</td>\n",
       "      <td>0</td>\n",
       "      <td>8635</td>\n",
       "      <td>34</td>\n",
       "    </tr>\n",
       "    <tr>\n",
       "      <th>19</th>\n",
       "      <td>NO</td>\n",
       "      <td>0</td>\n",
       "      <td>9</td>\n",
       "      <td>0</td>\n",
       "    </tr>\n",
       "    <tr>\n",
       "      <th>20</th>\n",
       "      <td>PL</td>\n",
       "      <td>1</td>\n",
       "      <td>8760</td>\n",
       "      <td>0</td>\n",
       "    </tr>\n",
       "    <tr>\n",
       "      <th>21</th>\n",
       "      <td>PT</td>\n",
       "      <td>0</td>\n",
       "      <td>0</td>\n",
       "      <td>0</td>\n",
       "    </tr>\n",
       "    <tr>\n",
       "      <th>22</th>\n",
       "      <td>RS</td>\n",
       "      <td>1</td>\n",
       "      <td>8943</td>\n",
       "      <td>0</td>\n",
       "    </tr>\n",
       "    <tr>\n",
       "      <th>23</th>\n",
       "      <td>SE</td>\n",
       "      <td>0</td>\n",
       "      <td>1</td>\n",
       "      <td>0</td>\n",
       "    </tr>\n",
       "    <tr>\n",
       "      <th>24</th>\n",
       "      <td>SI</td>\n",
       "      <td>0</td>\n",
       "      <td>8770</td>\n",
       "      <td>46</td>\n",
       "    </tr>\n",
       "    <tr>\n",
       "      <th>25</th>\n",
       "      <td>SK</td>\n",
       "      <td>0</td>\n",
       "      <td>11679</td>\n",
       "      <td>17</td>\n",
       "    </tr>\n",
       "    <tr>\n",
       "      <th>26</th>\n",
       "      <td>UK</td>\n",
       "      <td>488</td>\n",
       "      <td>18029</td>\n",
       "      <td>110</td>\n",
       "    </tr>\n",
       "  </tbody>\n",
       "</table>\n",
       "</div>"
      ],
      "text/plain": [
       "   Country  No. of missing data in Load data  \\\n",
       "0       AT                                 0   \n",
       "1       BE                                 0   \n",
       "2       BG                                26   \n",
       "3       CH                                 0   \n",
       "4       CZ                                 7   \n",
       "5       DE                                96   \n",
       "6       DK                                 0   \n",
       "7       EE                               168   \n",
       "8       ES                                 2   \n",
       "9       FI                                 3   \n",
       "10      FR                                18   \n",
       "11      GR                                 2   \n",
       "12      HU                                 0   \n",
       "13      IE                               210   \n",
       "14      IT                                 0   \n",
       "15      LT                                91   \n",
       "16      LV                                54   \n",
       "17      ME                                 0   \n",
       "18      NL                                 0   \n",
       "19      NO                                 0   \n",
       "20      PL                                 1   \n",
       "21      PT                                 0   \n",
       "22      RS                                 1   \n",
       "23      SE                                 0   \n",
       "24      SI                                 0   \n",
       "25      SK                                 0   \n",
       "26      UK                               488   \n",
       "\n",
       "    No. of missing data in Generation data  \\\n",
       "0                                        0   \n",
       "1                                     8027   \n",
       "2                                     8760   \n",
       "3                                     8760   \n",
       "4                                       44   \n",
       "5                                    34848   \n",
       "6                                        0   \n",
       "7                                     2266   \n",
       "8                                     8780   \n",
       "9                                       28   \n",
       "10                                    9641   \n",
       "11                                    8773   \n",
       "12                                   12123   \n",
       "13                                   15062   \n",
       "14                                    3538   \n",
       "15                                     297   \n",
       "16                                      50   \n",
       "17                                    7246   \n",
       "18                                    8635   \n",
       "19                                       9   \n",
       "20                                    8760   \n",
       "21                                       0   \n",
       "22                                    8943   \n",
       "23                                       1   \n",
       "24                                    8770   \n",
       "25                                   11679   \n",
       "26                                   18029   \n",
       "\n",
       "    No. of missing data in Transmission data  \n",
       "0                                          0  \n",
       "1                                         50  \n",
       "2                                       1732  \n",
       "3                                          0  \n",
       "4                                          0  \n",
       "5                                         36  \n",
       "6                                          0  \n",
       "7                                       4437  \n",
       "8                                          0  \n",
       "9                                        429  \n",
       "10                                        62  \n",
       "11                                        22  \n",
       "12                                        14  \n",
       "13                                         0  \n",
       "14                                        64  \n",
       "15                                       192  \n",
       "16                                      3696  \n",
       "17                                         0  \n",
       "18                                        34  \n",
       "19                                         0  \n",
       "20                                         0  \n",
       "21                                         0  \n",
       "22                                         0  \n",
       "23                                         0  \n",
       "24                                        46  \n",
       "25                                        17  \n",
       "26                                       110  "
      ]
     },
     "metadata": {},
     "output_type": "display_data"
    },
    {
     "data": {
      "image/png": "[encoded data removed]",
      "text/plain": [
       "<Figure size 2000x1000 with 1 Axes>"
      ]
     },
     "metadata": {},
     "output_type": "display_data"
    }
   ],
   "source": [
    "mismatch_data=ii.mismatch_raw_data(countries)\r\n"
   ]
  },
  {
   "cell_type": "markdown",
   "metadata": {},
   "source": [
    "# 2. ENTSO-E data representation"
   ]
  },
  {
   "cell_type": "markdown",
   "metadata": {},
   "source": [
    "## 2.1 Get all the hourly load data of each country to a single dataframe"
   ]
  },
  {
   "cell_type": "code",
   "execution_count": 3,
   "metadata": {},
   "outputs": [],
   "source": [
    "load_data,load_dic=dp.load(countries)\r\n",
    "# display(load_data)\r\n"
   ]
  },
  {
   "cell_type": "markdown",
   "metadata": {},
   "source": [
    "## 2.2 Get all the hourly generation data of each country from each source to a single dataframe"
   ]
  },
  {
   "cell_type": "code",
   "execution_count": 4,
   "metadata": {},
   "outputs": [],
   "source": [
    "generation_data,generation_dic,load_dic=dp.generation(load_dic,countries)\r\n",
    "# display(generation_data)"
   ]
  },
  {
   "cell_type": "markdown",
   "metadata": {},
   "source": [
    "## 2.3 Get all the hourly cross-border transmission data of each country to a single dataframe"
   ]
  },
  {
   "cell_type": "code",
   "execution_count": 6,
   "metadata": {},
   "outputs": [],
   "source": [
    "crossborder_data, transmission_data = dp.cross_border(abbr_list)\r\n",
    "# display(transmission_data)\r\n",
    "# 'cross_border_data' shows the net import/net export of the whole country in hourly timesteps\r\n",
    "# display(crossborder_data)\r\n"
   ]
  },
  {
   "cell_type": "markdown",
   "metadata": {},
   "source": [
    "### 2.3.2 Calculate net imports/ net exports of each country in each hour based on generation - load data of the country"
   ]
  },
  {
   "cell_type": "code",
   "execution_count": 9,
   "metadata": {},
   "outputs": [],
   "source": [
    "import_export_using_load_gen=dp.import_export_using_load_gen(load_data,generation_data,abbr_list)\r\n",
    "# display(import_export_using_load_gen)"
   ]
  },
  {
   "cell_type": "markdown",
   "metadata": {},
   "source": [
    "### 2.3.3 Calculate net imports/ net exports of each country in each hour based on cross-border transmission data of the country"
   ]
  },
  {
   "cell_type": "code",
   "execution_count": 10,
   "metadata": {},
   "outputs": [],
   "source": [
    "import_export_using_crossborder_data=dp.import_export_using_crossborder(crossborder_data,abbr_list)\r\n",
    "# display(import_export_using_crossborder_data)"
   ]
  },
  {
   "cell_type": "markdown",
   "metadata": {},
   "source": [
    "# 3. Consolidation based on internal data"
   ]
  },
  {
   "cell_type": "markdown",
   "metadata": {},
   "source": [
    "## 3.1 Obtaining consolidated ENTSO-E data using Nearest Neighbours Mean Approach"
   ]
  },
  {
   "cell_type": "markdown",
   "metadata": {},
   "source": [
    "### !!! This step takes about 14 minutes to complete in an Intel I5 processor with 8 GB Ram"
   ]
  },
  {
   "cell_type": "code",
   "execution_count": null,
   "metadata": {},
   "outputs": [],
   "source": [
    "ii.internal_mean(countries)\r\n"
   ]
  },
  {
   "cell_type": "markdown",
   "metadata": {},
   "source": [
    "## 3.2 Obtaining consolidated ENTSO-E data using Internal Sigma Approach"
   ]
  },
  {
   "cell_type": "markdown",
   "metadata": {},
   "source": [
    "### !!! This step takes about 2 hours to complete in an Intel I5 processor with 8 GB Ram"
   ]
  },
  {
   "cell_type": "code",
   "execution_count": 11,
   "metadata": {},
   "outputs": [
    {
     "name": "stdout",
     "output_type": "stream",
     "text": [
      "SIGMA CALCULATED\n",
      "VARIABLES DECLARED\n",
      "\n",
      "--------------------------------------------\n",
      "Warning: your license will expire in 8 days\n",
      "--------------------------------------------\n",
      "\n",
      "Academic license - for non-commercial use only - expires 2021-07-30\n",
      "Using license file C:\\Users\\lovin\\gurobi.lic\n",
      "OPTIMIZATION COMPLETED\n"
     ]
    }
   ],
   "source": [
    "consolidated_gen_data, consolidated_load_data, consolidated_transmission_data = ii.internal_sigma(load_dic, generation_dic, transmission_data, countries)"
   ]
  },
  {
   "cell_type": "markdown",
   "metadata": {},
   "source": [
    "## 3.2 Mismatch analysis in the consolidated ENTSO-E data"
   ]
  },
  {
   "cell_type": "code",
   "execution_count": 12,
   "metadata": {},
   "outputs": [
    {
     "data": {
      "text/plain": [
       "[['AT', 17.39, 16.14, 16.42, 15.57, 10.86, 8.45, 25.4, 15.72],\n",
       " ['BE', -2.41, -2.98, 5.59, 5.85, -2.81, -4.21, 32.4, 33.69],\n",
       " ['BG', -9.58, -9.97, 24.16, 98.81, -11.64, -20.16, 7.97, 44.48],\n",
       " ['CH', 35.02, 18.0, 11.95, -1.83, 3.02, 2.79, 18.64, 18.45],\n",
       " ['CZ', -0.29, -0.5, 25.65, 25.61, -0.18, -2.27, 12.73, 10.84],\n",
       " ['DE', 9.28, 6.39, 35.28, 33.02, 5.71, 5.31, 14.12, 14.09],\n",
       " ['DK', -1.98, -2.1, 7.07, 6.94, 1.5, -0.52, 9.98, 6.35],\n",
       " ['EE', 1.76, -5.97, 15.76, 31.95, 4.36, -5.35, 19.2, 22.81],\n",
       " ['ES', 5.71, 5.65, 14.67, 14.12, 5.34, 2.99, 54.28, 53.5],\n",
       " ['FI', 6.03, -7.61, 5.37, 32.68, 1.88, 1.86, 25.14, 24.32],\n",
       " ['FR', 2.08, 1.77, 36.47, 35.73, 1.65, 0.54, 9.84, 5.56],\n",
       " ['UK', 5.22, -2.19, 4.85, -0.76, -2.81, -3.11, 38.67, 33.96],\n",
       " ['GR', 14.51, -7.42, 15.47, 57.69, 0.74, 0.74, 5.06, 53.16],\n",
       " ['HU', -0.67, -11.54, 2.58, 29.13, -1.9, -3.25, 13.96, 82.1],\n",
       " ['IE', 11.32, -0.69, 52.31, 46.89, -0.55, -1.2, 22.99, 19.89],\n",
       " ['IT', 9.1, 8.6, 7.41, 6.49, 7.74, 7.06, 55.35, 68.59],\n",
       " ['LT', -0.99, -49.89, 7.14, 26.49, 0.32, -1.27, 31.89, 38.21],\n",
       " ['LV', 0.33, -28.96, 23.55, 34.46, 0.81, 0.6, 16.13, -3.48],\n",
       " ['ME', 21.48, -10.67, 29.55, 82.17, -1.08, -6.8, 28.34, 71.94],\n",
       " ['NL', 13.47, 3.14, 8.25, -0.77, 1.53, 1.53, 6.25, 5.95],\n",
       " ['NO', -0.0, -0.38, 9.94, 9.12, 0.01, -0.13, 4.44, 0.19],\n",
       " ['PL', 3.56, -5.96, 3.46, 8.1, -5.48, -5.49, 4.27, 0.42],\n",
       " ['PT', -0.35, -0.36, 48.51, 48.12, -0.01, -3.45, 33.57, 32.9],\n",
       " ['RS', 13.53, 5.31, 9.42, 47.25, 0.23, -0.87, 10.7, 71.57],\n",
       " ['SE', 3.64, 0.52, 14.04, 11.06, 2.09, 1.98, 7.46, -0.85],\n",
       " ['SI', -0.62, -17.87, 18.4, 49.64, 0.14, -3.63, 17.51, 22.18],\n",
       " ['SK', -5.69, -7.25, 1.59, 1.68, -3.55, -10.02, 0.44, 9.74]]"
      ]
     },
     "metadata": {},
     "output_type": "display_data"
    }
   ],
   "source": [
    "ii.mismatch_consolidated_data(mismatch_data, countries)"
   ]
  },
  {
   "cell_type": "markdown",
   "metadata": {},
   "source": [
    "# 4. Comparission of ENTSO-E data with other sources"
   ]
  },
  {
   "cell_type": "markdown",
   "metadata": {},
   "source": [
    "## 4.1 Comparing ENTSO-E & Eurostat data"
   ]
  },
  {
   "cell_type": "markdown",
   "metadata": {},
   "source": [
    "### 4.1.1 Comparing annual generation data of ENTSO-E & Eurostat data"
   ]
  },
  {
   "cell_type": "code",
   "execution_count": 13,
   "metadata": {},
   "outputs": [],
   "source": [
    "# ei.eurostat_comparission_gen_data(generation_data,countries)"
   ]
  },
  {
   "cell_type": "markdown",
   "metadata": {},
   "source": [
    "### 4.1.2 Comparing annual load data of ENTSO-E & Eurostat data"
   ]
  },
  {
   "cell_type": "code",
   "execution_count": 14,
   "metadata": {},
   "outputs": [],
   "source": [
    "# ei.eurostat_comparission_load_data(load_data, countries)\r\n"
   ]
  },
  {
   "cell_type": "markdown",
   "metadata": {},
   "source": [
    "### 4.1.3 Comparing annual import/export data of ENTSO-E & Eurostat data"
   ]
  },
  {
   "cell_type": "code",
   "execution_count": 15,
   "metadata": {
    "scrolled": true
   },
   "outputs": [],
   "source": [
    "# ei.eurostat_comparission_transmission_data(import_export_using_crossborder_data, countries)"
   ]
  }
 ],
 "metadata": {
  "interpreter": {
   "hash": "ecf5722fdaf1897a315d257d89d94520bfcaa453217d5becf09b39e73618b0de"
  },
  "kernelspec": {
   "display_name": "Python 3 (Spyder)",
   "language": "python3",
   "name": "python3"
  },
  "language_info": {
   "codemirror_mode": {
    "name": "ipython",
    "version": 3
   },
   "file_extension": ".py",
   "mimetype": "text/x-python",
   "name": "python",
   "nbconvert_exporter": "python",
   "pygments_lexer": "ipython3",
   "version": "3.9.5"
  }
 },
 "nbformat": 4,
 "nbformat_minor": 4
}
