{
 "cells": [
  {
   "cell_type": "code",
   "execution_count": 1,
   "metadata": {},
   "outputs": [],
   "source": [
    "import numpy as np\n",
    "import pandas as pd"
   ]
  },
  {
   "cell_type": "code",
   "execution_count": 2,
   "metadata": {},
   "outputs": [],
   "source": [
    "countries={ 'Austria': 'AT', 'Belgium': 'BE',  'Bulgaria': 'BG', 'Switzerland': 'CH', 'Czech Republic': 'CZ', 'Croatia': 'HR',  'Germany': 'DE', 'Denmark': 'DK', 'Estonia': 'EE', 'Spain': 'ES', 'Finland': 'FI', 'France': 'FR',  'Greece': 'GR', 'Hungary': 'HU', 'Ireland': 'IE', 'Italy': 'IT', 'Lithuania': 'LT', 'Latvia': 'LV', 'Montenegro': 'ME','Netherlands': 'NL', 'Norway': 'NO', 'Poland': 'PL', 'Portugal': 'PT', 'Serbia': 'RS', 'Sweden': 'SE', 'Slovenia': 'SI', 'Slovakia': 'SK', 'United Kingdom': 'UK'}\n",
    "\n",
    "abbr_list=list(countries.values())"
   ]
  },
  {
   "cell_type": "code",
   "execution_count": 2,
   "metadata": {},
   "outputs": [],
   "source": [
    "fuels=['Biomass', 'Fossil Brown coal/Lignite', 'Fossil Coal-derived gas', 'Fossil Gas', 'Fossil Hard coal', 'Fossil Oil', 'Fossil Oil shale', 'Fossil Peat', 'Geothermal', 'Hydro Pumped Storage', 'Hydro Pumped Storage', 'Hydro Run-of-river and poundage', 'Hydro Water Reservoir', 'Marine', 'Nuclear', 'Other', 'Other renewable', 'Solar', 'Waste', 'Wind Offshore', 'Wind Onshore']"
   ]
  },
  {
   "cell_type": "code",
   "execution_count": 123,
   "metadata": {},
   "outputs": [],
   "source": [
    "df=pd.read_csv('../Data Sources/ENTSO-E/Transmission/DK-NL.csv')"
   ]
  },
  {
   "cell_type": "code",
   "execution_count": 63,
   "metadata": {},
   "outputs": [
    {
     "data": {
      "text/html": [
       "<div>\n",
       "<style scoped>\n",
       "    .dataframe tbody tr th:only-of-type {\n",
       "        vertical-align: middle;\n",
       "    }\n",
       "\n",
       "    .dataframe tbody tr th {\n",
       "        vertical-align: top;\n",
       "    }\n",
       "\n",
       "    .dataframe thead th {\n",
       "        text-align: right;\n",
       "    }\n",
       "</style>\n",
       "<table border=\"1\" class=\"dataframe\">\n",
       "  <thead>\n",
       "    <tr style=\"text-align: right;\">\n",
       "      <th></th>\n",
       "      <th>Time (CET)</th>\n",
       "      <th>Day-ahead Total Load Forecast [MW] - Germany (DE)</th>\n",
       "      <th>Actual Total Load [MW] - Germany (DE)</th>\n",
       "    </tr>\n",
       "  </thead>\n",
       "  <tbody>\n",
       "    <tr>\n",
       "      <th>0</th>\n",
       "      <td>01.01.2019 00:00 - 01.01.2019 00:15</td>\n",
       "      <td>43769.0</td>\n",
       "      <td>43671.0</td>\n",
       "    </tr>\n",
       "    <tr>\n",
       "      <th>1</th>\n",
       "      <td>01.01.2019 00:15 - 01.01.2019 00:30</td>\n",
       "      <td>43572.0</td>\n",
       "      <td>43195.0</td>\n",
       "    </tr>\n",
       "    <tr>\n",
       "      <th>2</th>\n",
       "      <td>01.01.2019 00:30 - 01.01.2019 00:45</td>\n",
       "      <td>43025.0</td>\n",
       "      <td>42704.0</td>\n",
       "    </tr>\n",
       "    <tr>\n",
       "      <th>3</th>\n",
       "      <td>01.01.2019 00:45 - 01.01.2019 01:00</td>\n",
       "      <td>42487.0</td>\n",
       "      <td>42481.0</td>\n",
       "    </tr>\n",
       "    <tr>\n",
       "      <th>4</th>\n",
       "      <td>01.01.2019 01:00 - 01.01.2019 01:15</td>\n",
       "      <td>41978.0</td>\n",
       "      <td>42139.0</td>\n",
       "    </tr>\n",
       "    <tr>\n",
       "      <th>...</th>\n",
       "      <td>...</td>\n",
       "      <td>...</td>\n",
       "      <td>...</td>\n",
       "    </tr>\n",
       "    <tr>\n",
       "      <th>35039</th>\n",
       "      <td>31.12.2019 22:45 - 31.12.2019 23:00</td>\n",
       "      <td>49636.0</td>\n",
       "      <td>45675.0</td>\n",
       "    </tr>\n",
       "    <tr>\n",
       "      <th>35040</th>\n",
       "      <td>31.12.2019 23:00 - 31.12.2019 23:15</td>\n",
       "      <td>48812.0</td>\n",
       "      <td>45108.0</td>\n",
       "    </tr>\n",
       "    <tr>\n",
       "      <th>35041</th>\n",
       "      <td>31.12.2019 23:15 - 31.12.2019 23:30</td>\n",
       "      <td>48087.0</td>\n",
       "      <td>44751.0</td>\n",
       "    </tr>\n",
       "    <tr>\n",
       "      <th>35042</th>\n",
       "      <td>31.12.2019 23:30 - 31.12.2019 23:45</td>\n",
       "      <td>47442.0</td>\n",
       "      <td>44355.0</td>\n",
       "    </tr>\n",
       "    <tr>\n",
       "      <th>35043</th>\n",
       "      <td>31.12.2019 23:45 - 01.01.2020 00:00</td>\n",
       "      <td>46966.0</td>\n",
       "      <td>44166.0</td>\n",
       "    </tr>\n",
       "  </tbody>\n",
       "</table>\n",
       "<p>35044 rows × 3 columns</p>\n",
       "</div>"
      ],
      "text/plain": [
       "                                Time (CET)  \\\n",
       "0      01.01.2019 00:00 - 01.01.2019 00:15   \n",
       "1      01.01.2019 00:15 - 01.01.2019 00:30   \n",
       "2      01.01.2019 00:30 - 01.01.2019 00:45   \n",
       "3      01.01.2019 00:45 - 01.01.2019 01:00   \n",
       "4      01.01.2019 01:00 - 01.01.2019 01:15   \n",
       "...                                    ...   \n",
       "35039  31.12.2019 22:45 - 31.12.2019 23:00   \n",
       "35040  31.12.2019 23:00 - 31.12.2019 23:15   \n",
       "35041  31.12.2019 23:15 - 31.12.2019 23:30   \n",
       "35042  31.12.2019 23:30 - 31.12.2019 23:45   \n",
       "35043  31.12.2019 23:45 - 01.01.2020 00:00   \n",
       "\n",
       "       Day-ahead Total Load Forecast [MW] - Germany (DE)  \\\n",
       "0                                                43769.0   \n",
       "1                                                43572.0   \n",
       "2                                                43025.0   \n",
       "3                                                42487.0   \n",
       "4                                                41978.0   \n",
       "...                                                  ...   \n",
       "35039                                            49636.0   \n",
       "35040                                            48812.0   \n",
       "35041                                            48087.0   \n",
       "35042                                            47442.0   \n",
       "35043                                            46966.0   \n",
       "\n",
       "       Actual Total Load [MW] - Germany (DE)  \n",
       "0                                    43671.0  \n",
       "1                                    43195.0  \n",
       "2                                    42704.0  \n",
       "3                                    42481.0  \n",
       "4                                    42139.0  \n",
       "...                                      ...  \n",
       "35039                                45675.0  \n",
       "35040                                45108.0  \n",
       "35041                                44751.0  \n",
       "35042                                44355.0  \n",
       "35043                                44166.0  \n",
       "\n",
       "[35044 rows x 3 columns]"
      ]
     },
     "execution_count": 63,
     "metadata": {},
     "output_type": "execute_result"
    }
   ],
   "source": [
    "df = pd.read_csv('../Data Sources/ENTSO-E/Load/Germany.csv')\n",
    "df\n"
   ]
  },
  {
   "cell_type": "code",
   "execution_count": 73,
   "metadata": {},
   "outputs": [
    {
     "data": {
      "text/html": [
       "<div>\n",
       "<style scoped>\n",
       "    .dataframe tbody tr th:only-of-type {\n",
       "        vertical-align: middle;\n",
       "    }\n",
       "\n",
       "    .dataframe tbody tr th {\n",
       "        vertical-align: top;\n",
       "    }\n",
       "\n",
       "    .dataframe thead th {\n",
       "        text-align: right;\n",
       "    }\n",
       "</style>\n",
       "<table border=\"1\" class=\"dataframe\">\n",
       "  <thead>\n",
       "    <tr style=\"text-align: right;\">\n",
       "      <th></th>\n",
       "      <th>Time (CET)</th>\n",
       "      <th>Day-ahead Total Load Forecast [MW] - Germany (DE)</th>\n",
       "      <th>Actual Total Load [MW] - Germany (DE)</th>\n",
       "    </tr>\n",
       "  </thead>\n",
       "  <tbody>\n",
       "  </tbody>\n",
       "</table>\n",
       "</div>"
      ],
      "text/plain": [
       "Empty DataFrame\n",
       "Columns: [Time (CET), Day-ahead Total Load Forecast [MW] - Germany (DE), Actual Total Load [MW] - Germany (DE)]\n",
       "Index: []"
      ]
     },
     "execution_count": 73,
     "metadata": {},
     "output_type": "execute_result"
    }
   ],
   "source": [
    "df = df.drop(range(8552, 8556)).reset_index(drop=True)\n",
    "df.loc[df['Actual Total Load [MW] - Germany (DE)'] == 0]\n"
   ]
  },
  {
   "cell_type": "code",
   "execution_count": 3,
   "metadata": {},
   "outputs": [
    {
     "data": {
      "text/html": [
       "<div>\n",
       "<style scoped>\n",
       "    .dataframe tbody tr th:only-of-type {\n",
       "        vertical-align: middle;\n",
       "    }\n",
       "\n",
       "    .dataframe tbody tr th {\n",
       "        vertical-align: top;\n",
       "    }\n",
       "\n",
       "    .dataframe thead th {\n",
       "        text-align: right;\n",
       "    }\n",
       "</style>\n",
       "<table border=\"1\" class=\"dataframe\">\n",
       "  <thead>\n",
       "    <tr style=\"text-align: right;\">\n",
       "      <th></th>\n",
       "      <th>A --&gt; B</th>\n",
       "      <th>A &lt;-- B</th>\n",
       "      <th>B --&gt; A</th>\n",
       "    </tr>\n",
       "  </thead>\n",
       "  <tbody>\n",
       "    <tr>\n",
       "      <th>0</th>\n",
       "      <td>1</td>\n",
       "      <td>5</td>\n",
       "      <td>NaN</td>\n",
       "    </tr>\n",
       "    <tr>\n",
       "      <th>1</th>\n",
       "      <td>2</td>\n",
       "      <td>4</td>\n",
       "      <td>NaN</td>\n",
       "    </tr>\n",
       "    <tr>\n",
       "      <th>2</th>\n",
       "      <td>3</td>\n",
       "      <td>3</td>\n",
       "      <td>NaN</td>\n",
       "    </tr>\n",
       "    <tr>\n",
       "      <th>3</th>\n",
       "      <td>4</td>\n",
       "      <td>2</td>\n",
       "      <td>NaN</td>\n",
       "    </tr>\n",
       "    <tr>\n",
       "      <th>4</th>\n",
       "      <td>5</td>\n",
       "      <td>1</td>\n",
       "      <td>NaN</td>\n",
       "    </tr>\n",
       "  </tbody>\n",
       "</table>\n",
       "</div>"
      ],
      "text/plain": [
       "   A --> B  A <-- B  B --> A\n",
       "0        1        5      NaN\n",
       "1        2        4      NaN\n",
       "2        3        3      NaN\n",
       "3        4        2      NaN\n",
       "4        5        1      NaN"
      ]
     },
     "execution_count": 3,
     "metadata": {},
     "output_type": "execute_result"
    }
   ],
   "source": [
    "df = pd.read_csv('temp.csv')\n",
    "df"
   ]
  },
  {
   "cell_type": "code",
   "execution_count": null,
   "metadata": {},
   "outputs": [],
   "source": []
  }
 ],
 "metadata": {
  "interpreter": {
   "hash": "acb9e0cfff3151089362f20c3a81c7531326aa2c5fdbbc2eccac94359104a8e2"
  },
  "kernelspec": {
   "display_name": "Python 3",
   "language": "python",
   "name": "python3"
  },
  "language_info": {
   "codemirror_mode": {
    "name": "ipython",
    "version": 3
   },
   "file_extension": ".py",
   "mimetype": "text/x-python",
   "name": "python",
   "nbconvert_exporter": "python",
   "pygments_lexer": "ipython3",
   "version": "3.9.1"
  }
 },
 "nbformat": 4,
 "nbformat_minor": 2
}
